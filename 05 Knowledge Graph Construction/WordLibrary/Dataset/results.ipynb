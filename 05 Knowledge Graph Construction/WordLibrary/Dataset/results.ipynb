{
 "cells": [
  {
   "cell_type": "code",
   "execution_count": null,
   "metadata": {},
   "outputs": [
    {
     "name": "stdout",
     "output_type": "stream",
     "text": [
      "Explanations removed from all tasks and saved to results_cleaned.json\n"
     ]
    }
   ],
   "source": [
    "import json\n",
    "\n",
    "# Load JSON file\n",
    "with open(\"./results.json\", \"r\", encoding=\"utf-8\") as f:\n",
    "    data = json.load(f)\n",
    "\n",
    "# Ensure the data is a list\n",
    "if isinstance(data, list):\n",
    "    for task in data:\n",
    "        if \"output\" in task and isinstance(task[\"output\"], dict):\n",
    "            for modality in task[\"output\"].get(\"modalities\", []):\n",
    "                modality.pop(\"explanation\", None)  # Remove explanation from modality\n",
    "                for data_type in modality.get(\"data_types\", []):\n",
    "                    data_type.pop(\"explanation\", None)  # Remove explanation from data type\n",
    "                    data_type[\"title\"]= data_type[\"title\"].replace('-', '')\n",
    "\n",
    "# Save the updated JSON\n",
    "with open(\"./results_without_explanation.json\", \"w\", encoding=\"utf-8\") as f:\n",
    "    json.dump(data, f, indent=4, ensure_ascii=False)\n",
    "\n",
    "print(\"Explanations removed from all tasks and saved to results_cleaned.json\")\n"
   ]
  },
  {
   "cell_type": "code",
   "execution_count": 25,
   "metadata": {},
   "outputs": [
    {
     "name": "stdout",
     "output_type": "stream",
     "text": [
      "⚠️ 处理条目时出错: Expecting value: line 1 column 1 (char 0)\n",
      "⚠️ 处理条目时出错: Expecting value: line 1 column 1 (char 0)\n",
      "⚠️ 处理条目时出错: Expecting value: line 1 column 1 (char 0)\n",
      "⚠️ 处理条目时出错: Expecting value: line 1 column 1 (char 0)\n",
      "⚠️ 处理条目时出错: Expecting value: line 1 column 1 (char 0)\n",
      "⚠️ 处理条目时出错: Expecting value: line 1 column 1 (char 0)\n"
     ]
    }
   ],
   "source": [
    "import json\n",
    "import csv\n",
    "\n",
    "input_file = \"./results_without_explanation.json\"\n",
    "output_file = \"./datasets_modalities_datatypes.csv\"\n",
    "\n",
    "with open(input_file, \"r\", encoding=\"utf-8\") as f:\n",
    "    data = json.load(f)\n",
    "\n",
    "with open(output_file, \"w\", newline=\"\", encoding=\"utf-8\") as f:\n",
    "    writer = csv.writer(f)\n",
    "    writer.writerow([\"dataset_name\", \"dataset_description\", \"modality\", \"data_type\"])\n",
    "    \n",
    "    for item in data:\n",
    "        try:\n",
    "            # extract input information\n",
    "            input_section = item.get(\"input\", {})\n",
    "            dataset_name = input_section.get(\"dataset_name\", \"N/A\")\n",
    "            dataset_description = input_section.get(\"dataset_description\", \"N/A\")\n",
    "            \n",
    "            # extract output information\n",
    "            output_section = item.get(\"output\", {})\n",
    "            if isinstance(output_section, str):\n",
    "                output_section = json.loads(output_section)\n",
    "            \n",
    "            # iterate over modalities\n",
    "            for modality in output_section.get(\"modalities\", []):\n",
    "                modality_name = modality.get(\"title\", \"Unknown Modality\")\n",
    "                \n",
    "                # iterate over data types\n",
    "                for data_type in modality.get(\"data_types\", []):\n",
    "                    if isinstance(data_type, dict):\n",
    "                        writer.writerow([\n",
    "                            dataset_name,\n",
    "                            dataset_description,\n",
    "                            modality_name,\n",
    "                            data_type.get(\"title\", \"Unknown Data Type\")\n",
    "                        ])\n",
    "                    else:\n",
    "                        print(f\"⚠️ 无法处理数据类型: {data_type}\")\n",
    "                        \n",
    "        except Exception as e:\n",
    "            print(f\"⚠️ 处理条目时出错: {str(e)}\")\n",
    "            continue\n"
   ]
  }
 ],
 "metadata": {
  "kernelspec": {
   "display_name": "spacy",
   "language": "python",
   "name": "python3"
  },
  "language_info": {
   "codemirror_mode": {
    "name": "ipython",
    "version": 3
   },
   "file_extension": ".py",
   "mimetype": "text/x-python",
   "name": "python",
   "nbconvert_exporter": "python",
   "pygments_lexer": "ipython3",
   "version": "3.9.19"
  }
 },
 "nbformat": 4,
 "nbformat_minor": 2
}
