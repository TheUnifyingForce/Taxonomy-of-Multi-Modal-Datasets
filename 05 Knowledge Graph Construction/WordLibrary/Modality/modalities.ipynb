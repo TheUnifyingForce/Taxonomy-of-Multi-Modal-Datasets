{
 "cells": [
  {
   "cell_type": "code",
   "execution_count": 3,
   "metadata": {},
   "outputs": [],
   "source": [
    "import pandas as pd\n",
    "\n",
    "# Load the words_no_qid_update.xlsx file\n",
    "words_no_qid_update = pd.read_excel('words_no_qid_update.xlsx')\n",
    "\n",
    "# change the column name from 'word' to 'modality'\n",
    "words_no_qid_update = words_no_qid_update.rename(columns={'word': 'modality'})\n",
    "\n",
    "# load the words_with_qid.csv\n",
    "words_with_qid = pd.read_csv('words_with_qid.csv')\n",
    "\n",
    "# change the column name from 'word' to 'modality'\n",
    "words_with_qid = words_with_qid.rename(columns={'word': 'modality'})\n",
    "\n",
    "# add a column wiki_word to words_with_qid and same content as modality\n",
    "words_with_qid['wiki_word'] = words_with_qid['modality']\n",
    "\n",
    "# wiki_word column be the second column\n",
    "words_with_qid = words_with_qid[['modality', 'wiki_word', 'qid']]\n",
    "\n",
    "# merge the two dataframes\n",
    "words = pd.concat([words_no_qid_update, words_with_qid])\n",
    "\n",
    "# save the dataframe to a csv file\n",
    "words.to_csv('modality_wiki.csv', index=False)\n"
   ]
  },
  {
   "cell_type": "code",
   "execution_count": null,
   "metadata": {},
   "outputs": [],
   "source": []
  },
  {
   "cell_type": "markdown",
   "metadata": {},
   "source": [
    "### Two-end"
   ]
  },
  {
   "cell_type": "code",
   "execution_count": 7,
   "metadata": {},
   "outputs": [],
   "source": [
    "modalities = pd.read_csv('./modality_relations_two_end.csv')\n",
    "\n",
    "# change the column name from 'word' to 'qid'\n",
    "modalities = modalities.rename(columns={'word': 'qid_1'})\n",
    "modalities = modalities.rename(columns={'word2': 'qid_2'})\n",
    "\n",
    "modalities = modalities.rename(columns={'word_label': 'wiki_word_1'})\n",
    "modalities = modalities.rename(columns={'word_label2': 'wiki_word_2'})\n",
    "\n",
    "modalities.to_csv('modality_relations_two_end.csv', index=False)\n",
    "\n"
   ]
  },
  {
   "cell_type": "code",
   "execution_count": 8,
   "metadata": {},
   "outputs": [],
   "source": [
    "import pandas as pd\n",
    "from itertools import product\n",
    "\n",
    "# 读取 CSV 文件\n",
    "modality_wiki = pd.read_csv(\"modality_wiki.csv\")\n",
    "relations = pd.read_csv(\"modality_relations_two_end.csv\")\n",
    "\n",
    "# 处理 qid_to_modality，使其支持一对多映射\n",
    "qid_to_modality = modality_wiki.groupby(\"qid\")[\"modality\"].apply(list).to_dict()\n",
    "\n",
    "# 处理 qid_to_wiki_word（唯一映射）\n",
    "qid_to_wiki_word = dict(zip(modality_wiki[\"qid\"], modality_wiki[\"wiki_word\"]))\n",
    "\n",
    "# 展开 relations，每个 qid 可能对应多个 modality，需要拆分成多行\n",
    "expanded_rows = []\n",
    "\n",
    "for _, row in relations.iterrows():\n",
    "    qid_1, qid_2, relation, relation_label = row[\"qid_1\"], row[\"qid_2\"], row[\"relation\"], row[\"relation_label\"]\n",
    "    \n",
    "    # 获取 qid_1 和 qid_2 对应的 modalities（如果不存在，则为空列表）\n",
    "    modalities_1 = qid_to_modality.get(qid_1, [\"\"])  \n",
    "    modalities_2 = qid_to_modality.get(qid_2, [\"\"])  \n",
    "\n",
    "    # 获取 wiki_word\n",
    "    wiki_word_1 = qid_to_wiki_word.get(qid_1, \"\")\n",
    "    wiki_word_2 = qid_to_wiki_word.get(qid_2, \"\")\n",
    "\n",
    "    # 生成所有 (modality_1, modality_2) 组合，并展开成多行\n",
    "    for mod_1, mod_2 in product(modalities_1, modalities_2):\n",
    "        expanded_rows.append([qid_1, wiki_word_1, mod_1, relation,relation_label,qid_2, wiki_word_2, mod_2])\n",
    "\n",
    "# 创建新的 DataFrame\n",
    "expanded_df = pd.DataFrame(expanded_rows, columns=[\"qid_1\", \"wiki_word_1\", \"modality_1\", \"relation\",\"relation_label\", \"qid_2\", \"wiki_word_2\",\"modality_2\"])\n",
    "\n",
    "# 保存结果\n",
    "expanded_df.to_csv(\"expanded_modality_relations_two_end.csv\", index=False)\n"
   ]
  },
  {
   "cell_type": "markdown",
   "metadata": {},
   "source": [
    "### One-end"
   ]
  },
  {
   "cell_type": "code",
   "execution_count": 10,
   "metadata": {},
   "outputs": [],
   "source": [
    "modalities = pd.read_csv('./modality_relations_one_end.csv')\n",
    "\n",
    "# change the column name from 'word' to 'qid'\n",
    "modalities = modalities.rename(columns={'word': 'qid_1'})\n",
    "modalities = modalities.rename(columns={'related_word': 'qid_2'})\n",
    "\n",
    "modalities = modalities.rename(columns={'word_label': 'wiki_word_1'})\n",
    "modalities = modalities.rename(columns={'related_word_label': 'wiki_word_2'})\n",
    "\n",
    "modalities.to_csv('modality_relations_one_end.csv', index=False)"
   ]
  },
  {
   "cell_type": "code",
   "execution_count": 11,
   "metadata": {},
   "outputs": [],
   "source": [
    "import pandas as pd\n",
    "from itertools import product\n",
    "\n",
    "# 读取 CSV 文件\n",
    "modality_wiki = pd.read_csv(\"modality_wiki.csv\")  # 原始modality映射\n",
    "relations_one_end = pd.read_csv(\"./modality_relations_one_end.csv\")  # 只处理one-end.csv\n",
    "\n",
    "# 处理 qid_to_modality，使其支持一对多映射\n",
    "qid_to_modality = modality_wiki.groupby(\"qid\")[\"modality\"].apply(list).to_dict()\n",
    "\n",
    "# 处理 qid_to_wiki_word（唯一映射）\n",
    "qid_to_wiki_word = dict(zip(modality_wiki[\"qid\"], modality_wiki[\"wiki_word\"]))\n",
    "\n",
    "# 处理 one-end.csv，只展开 qid_1 的 modalities\n",
    "expanded_rows_one_end = []\n",
    "for _, row in relations_one_end.iterrows():\n",
    "    qid_1, qid_2, relation, relation_label = row[\"qid_1\"], row[\"qid_2\"], row[\"relation\"], row[\"relation_label\"]\n",
    "    \n",
    "    # 获取 qid_1 可能的 modalities（可能多个）\n",
    "    modalities_1 = qid_to_modality.get(qid_1, [\"\"])\n",
    "\n",
    "    # 获取 wiki_word\n",
    "    wiki_word_1 = qid_to_wiki_word.get(qid_1, \"\")\n",
    "    wiki_word_2 = row[\"wiki_word_2\"]  # 直接使用 one-end.csv 中的 wiki_word_2\n",
    "\n",
    "    # 生成所有 (modality_1) 组合，并展开成多行\n",
    "    for mod_1 in modalities_1:\n",
    "        expanded_rows_one_end.append([qid_1, wiki_word_1, mod_1, relation,relation_label, qid_2, wiki_word_2])\n",
    "\n",
    "# 创建 DataFrame\n",
    "expanded_df_one_end = pd.DataFrame(expanded_rows_one_end, columns=[\"qid_1\", \"wiki_word_1\",\"modality_1\", \"relation\",\"relation_label\", \"qid_2\", \"wiki_word_2\"])\n",
    "\n",
    "# 保存最终合并的数据\n",
    "expanded_df_one_end.to_csv(\"expanded_modality_relations_one_end.csv\", index=False)\n",
    "\n"
   ]
  }
 ],
 "metadata": {
  "kernelspec": {
   "display_name": "spacy",
   "language": "python",
   "name": "python3"
  },
  "language_info": {
   "codemirror_mode": {
    "name": "ipython",
    "version": 3
   },
   "file_extension": ".py",
   "mimetype": "text/x-python",
   "name": "python",
   "nbconvert_exporter": "python",
   "pygments_lexer": "ipython3",
   "version": "3.9.19"
  }
 },
 "nbformat": 4,
 "nbformat_minor": 2
}
