{
  "nbformat": 4,
  "nbformat_minor": 0,
  "metadata": {
    "colab": {
      "provenance": []
    },
    "kernelspec": {
      "name": "python3",
      "display_name": "Python 3"
    },
    "language_info": {
      "name": "python"
    }
  },
  "cells": [
    {
      "cell_type": "code",
      "execution_count": null,
      "metadata": {
        "colab": {
          "base_uri": "https://localhost:8080/"
        },
        "id": "Al2JK_Py9Wu7",
        "outputId": "6572f06f-d09d-404b-f921-1f5e3636912e"
      },
      "outputs": [
        {
          "output_type": "stream",
          "name": "stdout",
          "text": [
            "Requirement already satisfied: requests in /usr/local/lib/python3.11/dist-packages (2.32.3)\n",
            "Requirement already satisfied: networkx in /usr/local/lib/python3.11/dist-packages (3.4.2)\n",
            "Requirement already satisfied: matplotlib in /usr/local/lib/python3.11/dist-packages (3.10.0)\n",
            "Collecting SPARQLWrapper\n",
            "  Downloading SPARQLWrapper-2.0.0-py3-none-any.whl.metadata (2.0 kB)\n",
            "Requirement already satisfied: charset-normalizer<4,>=2 in /usr/local/lib/python3.11/dist-packages (from requests) (3.4.1)\n",
            "Requirement already satisfied: idna<4,>=2.5 in /usr/local/lib/python3.11/dist-packages (from requests) (3.10)\n",
            "Requirement already satisfied: urllib3<3,>=1.21.1 in /usr/local/lib/python3.11/dist-packages (from requests) (2.3.0)\n",
            "Requirement already satisfied: certifi>=2017.4.17 in /usr/local/lib/python3.11/dist-packages (from requests) (2025.1.31)\n",
            "Requirement already satisfied: contourpy>=1.0.1 in /usr/local/lib/python3.11/dist-packages (from matplotlib) (1.3.1)\n",
            "Requirement already satisfied: cycler>=0.10 in /usr/local/lib/python3.11/dist-packages (from matplotlib) (0.12.1)\n",
            "Requirement already satisfied: fonttools>=4.22.0 in /usr/local/lib/python3.11/dist-packages (from matplotlib) (4.56.0)\n",
            "Requirement already satisfied: kiwisolver>=1.3.1 in /usr/local/lib/python3.11/dist-packages (from matplotlib) (1.4.8)\n",
            "Requirement already satisfied: numpy>=1.23 in /usr/local/lib/python3.11/dist-packages (from matplotlib) (1.26.4)\n",
            "Requirement already satisfied: packaging>=20.0 in /usr/local/lib/python3.11/dist-packages (from matplotlib) (24.2)\n",
            "Requirement already satisfied: pillow>=8 in /usr/local/lib/python3.11/dist-packages (from matplotlib) (11.1.0)\n",
            "Requirement already satisfied: pyparsing>=2.3.1 in /usr/local/lib/python3.11/dist-packages (from matplotlib) (3.2.1)\n",
            "Requirement already satisfied: python-dateutil>=2.7 in /usr/local/lib/python3.11/dist-packages (from matplotlib) (2.8.2)\n",
            "Collecting rdflib>=6.1.1 (from SPARQLWrapper)\n",
            "  Downloading rdflib-7.1.3-py3-none-any.whl.metadata (11 kB)\n",
            "Requirement already satisfied: six>=1.5 in /usr/local/lib/python3.11/dist-packages (from python-dateutil>=2.7->matplotlib) (1.17.0)\n",
            "Downloading SPARQLWrapper-2.0.0-py3-none-any.whl (28 kB)\n",
            "Downloading rdflib-7.1.3-py3-none-any.whl (564 kB)\n",
            "\u001b[2K   \u001b[90m━━━━━━━━━━━━━━━━━━━━━━━━━━━━━━━━━━━━━━━━\u001b[0m \u001b[32m564.9/564.9 kB\u001b[0m \u001b[31m11.3 MB/s\u001b[0m eta \u001b[36m0:00:00\u001b[0m\n",
            "\u001b[?25hInstalling collected packages: rdflib, SPARQLWrapper\n",
            "Successfully installed SPARQLWrapper-2.0.0 rdflib-7.1.3\n"
          ]
        }
      ],
      "source": [
        "pip install requests networkx matplotlib SPARQLWrapper"
      ]
    },
    {
      "cell_type": "code",
      "source": [
        "import requests\n",
        "import networkx as nx\n",
        "import matplotlib.pyplot as plt\n",
        "from SPARQLWrapper import SPARQLWrapper, JSON\n",
        "import warnings\n",
        "warnings.filterwarnings(\"ignore\", message=\".*Glyph*\")\n",
        "import time\n",
        "import json\n",
        "import logging\n",
        "from rdflib import Graph, URIRef, Literal, Namespace, RDF"
      ],
      "metadata": {
        "id": "Zk0kuzhO9by3"
      },
      "execution_count": null,
      "outputs": []
    },
    {
      "cell_type": "code",
      "source": [
        "SPARQL_ENDPOINT = \"https://query.wikidata.org/sparql\"\n",
        "\n",
        "# List of relevant properties (modality and data type relationships)\n",
        "RELEVANT_PROPERTIES = [\n",
        "    # Fundamental Semantics\n",
        "    \"P31\",  # instance of\n",
        "    \"P279\",  # subclass of\n",
        "    \"P361\",  # part of\n",
        "    \"P1269\",  # facet of\n",
        "\n",
        "    # Structure and Technology\n",
        "    \"P527\",  # has part(s)\n",
        "    \"P2670\",  # has part(s) of the class\n",
        "    \"P2701\",  # file format\n",
        "    \"P1163\",  # media type\n",
        "    \"P1195\",  # file extension\n",
        "    \"P4330\",  # contains\n",
        "\n",
        "    # Application and Domain\n",
        "    \"P366\",  # has use\n",
        "    \"P1535\",  # used by\n",
        "    \"P101\",  # field of work\n",
        "    \"P921\",  # main subject\n",
        "\n",
        "\n",
        "    # Quality and Metadata\n",
        "    \"P1552\",  # has characteristic\n",
        "    \"P13044\",  # characteristic of\n",
        "    \"P3575\",  # data size\n",
        "]"
      ],
      "metadata": {
        "id": "ZCh2ppUk9iJu"
      },
      "execution_count": null,
      "outputs": []
    },
    {
      "cell_type": "code",
      "source": [
        "# Wikidata SPARQL endpoint\n",
        "SPARQL_ENDPOINT = \"https://query.wikidata.org/sparql\"\n",
        "\n",
        "# From label get qid\n",
        "def get_qid(label):\n",
        "    \"\"\"Get the QID of an entity based on its label.\"\"\"\n",
        "    time.sleep(1)\n",
        "    logging.info(f\"Fetching QID for label: {label}\")\n",
        "    query = f\"\"\"\n",
        "    SELECT ?entity WHERE {{\n",
        "      ?entity rdfs:label \"{label}\"@en.\n",
        "      FILTER (STRSTARTS(STR(?entity), \"http://www.wikidata.org/entity/Q\"))\n",
        "    }}\n",
        "    LIMIT 1\n",
        "    \"\"\"\n",
        "    sparql = SPARQLWrapper(SPARQL_ENDPOINT)\n",
        "    sparql.setQuery(query)\n",
        "    sparql.setReturnFormat(JSON)\n",
        "    results = sparql.query().convert()\n",
        "\n",
        "    if results[\"results\"][\"bindings\"]:\n",
        "        qid = results[\"results\"][\"bindings\"][0][\"entity\"][\"value\"].split(\"/\")[-1]\n",
        "        logging.info(f\"Found QID for {label}: {qid}\")\n",
        "        return qid\n",
        "    else:\n",
        "        logging.warning(f\"No QID found for label: {label}\")\n",
        "    return None"
      ],
      "metadata": {
        "id": "YuGuCUz4-NFv"
      },
      "execution_count": null,
      "outputs": []
    },
    {
      "cell_type": "code",
      "source": [
        "from rdflib import Namespace, Graph, RDF, RDFS, Literal\n",
        "import json\n",
        "from SPARQLWrapper import SPARQLWrapper, JSON\n",
        "\n",
        "# Set the Wikidata SPARQL endpoint\n",
        "SPARQL_ENDPOINT = \"https://query.wikidata.org/sparql\"\n",
        "\n",
        "# Define namespaces\n",
        "EX = Namespace(\"http://example.org/\")\n",
        "WIKIDATA = Namespace(\"http://www.wikidata.org/entity/\")\n",
        "\n",
        "# Create an RDF graph\n",
        "g = Graph()\n",
        "g.bind(\"ex\", EX)\n",
        "g.bind(\"wikidata\", WIKIDATA)\n",
        "\n",
        "# Prevent duplicate queries\n",
        "queried_nodes = set()\n",
        "\n",
        "def query_wikidata_properties(qid):\n",
        "    \"\"\"Query Wikidata properties for a given entity\"\"\"\n",
        "    if qid in queried_nodes:\n",
        "        return []\n",
        "    queried_nodes.add(qid)\n",
        "\n",
        "    query = f\"\"\"\n",
        "    SELECT ?property ?propertyLabel ?value ?valueLabel WHERE {{\n",
        "      wd:{qid} ?p ?value.\n",
        "      ?property wikibase:directClaim ?p.\n",
        "      FILTER (?property IN (wd:{\", wd:\".join(RELEVANT_PROPERTIES)}))\n",
        "      OPTIONAL {{ ?value rdfs:label ?valueLabel. FILTER(LANG(?valueLabel) = \"en\") }}\n",
        "      SERVICE wikibase:label {{ bd:serviceParam wikibase:language \"en\". }}\n",
        "    }}\n",
        "    \"\"\"\n",
        "    sparql = SPARQLWrapper(SPARQL_ENDPOINT)\n",
        "    sparql.setQuery(query)\n",
        "    sparql.setReturnFormat(JSON)\n",
        "    results = sparql.query().convert()\n",
        "    return results[\"results\"][\"bindings\"]\n",
        "\n",
        "def recursive_query(qid, label=None, depth=0, max_depth=3):\n",
        "    \"\"\"Recursively query and construct the knowledge graph\"\"\"\n",
        "    if depth > max_depth:\n",
        "        return\n",
        "\n",
        "    # Query entity properties\n",
        "    results = query_wikidata_properties(qid)\n",
        "\n",
        "    for result in results:\n",
        "        prop = result[\"propertyLabel\"][\"value\"].replace(\" \", \"_\").replace(\"(\", \"_\").replace(\")\", \"_\")\n",
        "        value = result.get(\"valueLabel\", {}).get(\"value\", result[\"value\"][\"value\"])\n",
        "        value_uri = result[\"value\"][\"value\"]\n",
        "\n",
        "        # Check if the value is a Wikidata entity\n",
        "        if \"wikidata.org/entity/\" in value_uri:\n",
        "            value_qid = value_uri.split(\"/\")[-1]\n",
        "\n",
        "            # Create a new node as NewNode type and add it to the graph\n",
        "            if value_qid not in queried_nodes:\n",
        "                g.add((WIKIDATA[value_qid], RDF.type, EX.NewNode))  # Mark the new entity as NewNode type\n",
        "                queried_nodes.add(value_qid)\n",
        "\n",
        "            # Only add properties as edges connecting to the target node, not as node attributes\n",
        "            g.add((WIKIDATA[qid], EX[prop], WIKIDATA[value_qid]))\n",
        "            if label:\n",
        "                g.add((WIKIDATA[qid], RDFS.label, Literal(label)))\n",
        "            if value:\n",
        "                g.add((WIKIDATA[value_qid], RDFS.label, Literal(value)))\n",
        "\n",
        "            # Recursively query the new entity\n",
        "            recursive_query(value_qid, label=value, depth=depth + 1, max_depth=max_depth)\n",
        "\n",
        "        # Handle relationships between the current property and the new node\n",
        "        if value_uri and \"wikidata.org/entity/\" in value_uri:\n",
        "            value_qid = value_uri.split(\"/\")[-1]\n",
        "            if value_qid not in queried_nodes:\n",
        "                g.add((WIKIDATA[value_qid], RDF.type, EX.NewNode))  # Mark the new entity as NewNode type\n",
        "                queried_nodes.add(value_qid)\n",
        "\n",
        "            # Add relationships from RELEVANT_PROPERTIES as edges between new nodes\n",
        "            g.add((WIKIDATA[qid], EX[prop], WIKIDATA[value_qid]))  # Add relationship edges\n",
        "\n",
        "def build_knowledge_graph(dataset, max_depth=3):\n",
        "    \"\"\"Build the knowledge graph from the dataset\"\"\"\n",
        "    for entry in dataset:\n",
        "        modality = entry[\"modality\"]\n",
        "        data_types = entry[\"data_types\"]\n",
        "\n",
        "        # Get the QID of the modality\n",
        "        modality_qid = get_qid(modality)\n",
        "        if modality_qid:\n",
        "            print(f\"Processing modality: {modality} (QID: {modality_qid})\")\n",
        "\n",
        "            # Add the modality node to the RDF graph and attach a label\n",
        "            g.add((WIKIDATA[modality_qid], RDF.type, EX.Modality))\n",
        "            g.add((WIKIDATA[modality_qid], RDFS.label, Literal(modality)))\n",
        "\n",
        "            # Recursively query modality properties\n",
        "            recursive_query(modality_qid, label=modality, depth=0, max_depth=max_depth)\n",
        "\n",
        "            # Handle data_types\n",
        "            for data_type, properties in data_types.items():\n",
        "                data_type_qid = properties.get(\"wikidata_id\")\n",
        "\n",
        "                if data_type_qid:\n",
        "                    # Add the data_type node to the RDF graph and attach a label\n",
        "                    g.add((WIKIDATA[data_type_qid], RDF.type, EX.Datatype))\n",
        "                    g.add((WIKIDATA[data_type_qid], RDFS.label, Literal(data_type)))\n",
        "                    g.add((WIKIDATA[data_type_qid], EX.frequency, Literal(properties.get(\"frequency\"))))\n",
        "                    g.add((WIKIDATA[data_type_qid], EX.wikidata_label, Literal(properties.get(\"wikidata_label\"))))\n",
        "                    g.add((WIKIDATA[data_type_qid], EX.wikidata_description, Literal(properties.get(\"wikidata_description\"))))\n",
        "\n",
        "                    # Add a custom edge between modality and data_type\n",
        "                    g.add((WIKIDATA[modality_qid], EX[\"Modality_Datatype\"], WIKIDATA[data_type_qid]))\n",
        "\n",
        "                    # Recursively query data_type properties\n",
        "                    recursive_query(data_type_qid, label=data_type, depth=0, max_depth=max_depth)\n",
        "\n",
        "    # Save the knowledge graph in Turtle format\n",
        "    g.serialize(destination=\"knowledge_graph_with_labels_5.ttl\", format=\"turtle\")\n",
        "    print(\"Knowledge graph saved to knowledge_graph_with_labels.ttl\")\n",
        "\n",
        "    g.serialize(destination=\"knowledge_graph_with_labels_5.owl\", format=\"xml\")\n",
        "    print(\"Knowledge graph saved to knowledge_graph_with_labels.owl\")\n",
        "\n",
        "# Load the matched_modalities_data_types.json file\n",
        "with open('matched_modalities_data_types.json', 'r') as f:\n",
        "    dataset = json.load(f)\n",
        "\n",
        "# Build the knowledge graph\n",
        "build_knowledge_graph(dataset, max_depth=5)"
      ],
      "metadata": {
        "colab": {
          "base_uri": "https://localhost:8080/"
        },
        "id": "-5M2j4em937B",
        "outputId": "422028d0-f047-44ea-8af8-b4ad175077bc"
      },
      "execution_count": null,
      "outputs": [
        {
          "output_type": "stream",
          "name": "stdout",
          "text": [
            "Processing modality: image (QID: Q478798)\n",
            "Processing modality: text (QID: Q234460)\n"
          ]
        },
        {
          "output_type": "stream",
          "name": "stderr",
          "text": [
            "WARNING:root:No QID found for label: 3d model\n"
          ]
        },
        {
          "output_type": "stream",
          "name": "stdout",
          "text": [
            "Processing modality: video (QID: Q625525)\n",
            "Processing modality: audio (QID: Q3500685)\n"
          ]
        },
        {
          "output_type": "stream",
          "name": "stderr",
          "text": [
            "WARNING:root:No QID found for label: 3d point cloud\n",
            "WARNING:root:No QID found for label: numerical\n"
          ]
        },
        {
          "output_type": "stream",
          "name": "stdout",
          "text": [
            "Processing modality: metadata (QID: Q180160)\n",
            "Processing modality: structured data (QID: Q26813700)\n",
            "Processing modality: annotation (QID: Q857525)\n",
            "Processing modality: depth (QID: Q181591)\n",
            "Processing modality: skeleton (QID: Q7881)\n"
          ]
        },
        {
          "output_type": "stream",
          "name": "stderr",
          "text": [
            "WARNING:root:No QID found for label: inertial\n"
          ]
        },
        {
          "output_type": "stream",
          "name": "stdout",
          "text": [
            "Processing modality: sensor (QID: Q167676)\n"
          ]
        },
        {
          "output_type": "stream",
          "name": "stderr",
          "text": [
            "WARNING:root:No QID found for label: midi\n",
            "WARNING:root:No QID found for label: 3d\n",
            "WARNING:root:No QID found for label: 3d skeletal\n"
          ]
        },
        {
          "output_type": "stream",
          "name": "stdout",
          "text": [
            "Processing modality: tabular (QID: Q13402984)\n",
            "Processing modality: graph (QID: Q141488)\n"
          ]
        },
        {
          "output_type": "stream",
          "name": "stderr",
          "text": [
            "WARNING:root:No QID found for label: kinematic\n",
            "WARNING:root:No QID found for label: 3d structure\n"
          ]
        },
        {
          "output_type": "stream",
          "name": "stdout",
          "text": [
            "Processing modality: network (QID: Q109406)\n"
          ]
        },
        {
          "output_type": "stream",
          "name": "stderr",
          "text": [
            "WARNING:root:No QID found for label: 3d skeleton\n"
          ]
        },
        {
          "output_type": "stream",
          "name": "stdout",
          "text": [
            "Processing modality: table (QID: Q14748)\n",
            "Processing modality: time series (QID: Q186588)\n",
            "Processing modality: simulation (QID: Q45045)\n",
            "Processing modality: lidar (QID: Q504027)\n",
            "Processing modality: radar (QID: Q47528)\n",
            "Processing modality: numeric (QID: Q3249849)\n",
            "Processing modality: signal (QID: Q174984)\n",
            "Processing modality: data (QID: Q42848)\n",
            "Processing modality: point cloud (QID: Q1899648)\n",
            "Processing modality: vector (QID: Q107994)\n",
            "Processing modality: label (QID: Q202581)\n",
            "Processing modality: chemical structure (QID: Q500256)\n"
          ]
        },
        {
          "output_type": "stream",
          "name": "stderr",
          "text": [
            "WARNING:root:No QID found for label: physiological signal\n"
          ]
        },
        {
          "output_type": "stream",
          "name": "stdout",
          "text": [
            "Processing modality: motion capture (QID: Q676252)\n"
          ]
        },
        {
          "output_type": "stream",
          "name": "stderr",
          "text": [
            "WARNING:root:No QID found for label: spatial coordinate\n",
            "WARNING:root:No QID found for label: eeg\n"
          ]
        },
        {
          "output_type": "stream",
          "name": "stdout",
          "text": [
            "Processing modality: geolocation (QID: Q123349905)\n",
            "Processing modality: temporal (QID: Q2472680)\n",
            "Processing modality: sequence (QID: Q133250)\n",
            "Processing modality: trajectory (QID: Q193139)\n",
            "Processing modality: neuroimaging (QID: Q551875)\n",
            "Processing modality: environment (QID: Q1572519)\n"
          ]
        },
        {
          "output_type": "stream",
          "name": "stderr",
          "text": [
            "WARNING:root:No QID found for label: 3d simulation\n"
          ]
        },
        {
          "output_type": "stream",
          "name": "stdout",
          "text": [
            "Processing modality: pose (QID: Q1671968)\n",
            "Processing modality: visualization (QID: Q451553)\n",
            "Processing modality: geospatial (QID: Q122074678)\n"
          ]
        },
        {
          "output_type": "stream",
          "name": "stderr",
          "text": [
            "WARNING:root:No QID found for label: physiological\n"
          ]
        },
        {
          "output_type": "stream",
          "name": "stdout",
          "text": [
            "Processing modality: binary (QID: Q58483123)\n",
            "Processing modality: interaction (QID: Q52948)\n",
            "Processing modality: eye tracking (QID: Q970687)\n",
            "Processing modality: social network (QID: Q2715623)\n"
          ]
        },
        {
          "output_type": "stream",
          "name": "stderr",
          "text": [
            "WARNING:root:No QID found for label: 3d pose\n"
          ]
        },
        {
          "output_type": "stream",
          "name": "stdout",
          "text": [
            "Processing modality: event (QID: Q1349920)\n",
            "Processing modality: control (QID: Q338754)\n",
            "Processing modality: synthetic data (QID: Q7662746)\n"
          ]
        },
        {
          "output_type": "stream",
          "name": "stderr",
          "text": [
            "WARNING:root:No QID found for label: meta information\n"
          ]
        },
        {
          "output_type": "stream",
          "name": "stdout",
          "text": [
            "Processing modality: code (QID: Q188889)\n"
          ]
        },
        {
          "output_type": "stream",
          "name": "stderr",
          "text": [
            "WARNING:root:No QID found for label: genomic sequence\n"
          ]
        },
        {
          "output_type": "stream",
          "name": "stdout",
          "text": [
            "Processing modality: knowledge graph (QID: Q33002955)\n",
            "Processing modality: matrix (QID: Q44337)\n",
            "Processing modality: motion (QID: Q79782)\n"
          ]
        },
        {
          "output_type": "stream",
          "name": "stderr",
          "text": [
            "WARNING:root:No QID found for label: laser scan\n",
            "WARNING:root:No QID found for label: user data\n",
            "WARNING:root:No QID found for label: 3d body skeleton\n"
          ]
        },
        {
          "output_type": "stream",
          "name": "stdout",
          "text": [
            "Processing modality: game (QID: Q11410)\n"
          ]
        },
        {
          "output_type": "stream",
          "name": "stderr",
          "text": [
            "WARNING:root:No QID found for label: 3d motion\n",
            "WARNING:root:No QID found for label: pose information\n",
            "WARNING:root:No QID found for label: temporal graph\n",
            "WARNING:root:No QID found for label: genomic\n",
            "WARNING:root:No QID found for label: network traffic\n"
          ]
        },
        {
          "output_type": "stream",
          "name": "stdout",
          "text": [
            "Processing modality: web (QID: Q1427141)\n",
            "Processing modality: log (QID: Q12029485)\n",
            "Processing modality: model (QID: Q1941828)\n"
          ]
        },
        {
          "output_type": "stream",
          "name": "stderr",
          "text": [
            "WARNING:root:No QID found for label: eye gaze\n"
          ]
        },
        {
          "output_type": "stream",
          "name": "stdout",
          "text": [
            "Processing modality: feature vector (QID: Q1921842)\n"
          ]
        },
        {
          "output_type": "stream",
          "name": "stderr",
          "text": [
            "WARNING:root:No QID found for label: social context\n"
          ]
        },
        {
          "output_type": "stream",
          "name": "stdout",
          "text": [
            "Processing modality: spatial (QID: Q122075505)\n",
            "Processing modality: visual (QID: Q4014836)\n"
          ]
        },
        {
          "output_type": "stream",
          "name": "stderr",
          "text": [
            "WARNING:root:No QID found for label: spatiotemporal\n"
          ]
        },
        {
          "output_type": "stream",
          "name": "stdout",
          "text": [
            "Processing modality: software (QID: Q7397)\n",
            "Processing modality: sketch (QID: Q5078274)\n"
          ]
        },
        {
          "output_type": "stream",
          "name": "stderr",
          "text": [
            "WARNING:root:No QID found for label: meteorological\n",
            "WARNING:root:No QID found for label: structural\n",
            "WARNING:root:No QID found for label: chemical\n",
            "WARNING:root:No QID found for label: neural\n"
          ]
        },
        {
          "output_type": "stream",
          "name": "stdout",
          "text": [
            "Processing modality: feature (QID: Q93586)\n"
          ]
        },
        {
          "output_type": "stream",
          "name": "stderr",
          "text": [
            "WARNING:root:No QID found for label: system log\n",
            "WARNING:root:No QID found for label: categorical\n"
          ]
        },
        {
          "output_type": "stream",
          "name": "stdout",
          "text": [
            "Processing modality: tactile (QID: Q124134995)\n"
          ]
        },
        {
          "output_type": "stream",
          "name": "stderr",
          "text": [
            "WARNING:root:No QID found for label: biological\n",
            "WARNING:root:No QID found for label: syntactic analysis\n"
          ]
        },
        {
          "output_type": "stream",
          "name": "stdout",
          "text": [
            "Processing modality: notebook (QID: Q43013)\n",
            "Processing modality: emotion (QID: Q95969875)\n"
          ]
        },
        {
          "output_type": "stream",
          "name": "stderr",
          "text": [
            "WARNING:root:No QID found for label: electrophysiological\n",
            "WARNING:root:No QID found for label: imu\n",
            "WARNING:root:No QID found for label: kinesthetic\n",
            "WARNING:root:No QID found for label: gnss/ins\n"
          ]
        },
        {
          "output_type": "stream",
          "name": "stdout",
          "text": [
            "Processing modality: biomarker (QID: Q864574)\n"
          ]
        },
        {
          "output_type": "stream",
          "name": "stderr",
          "text": [
            "WARNING:root:No QID found for label: neurophysiological\n",
            "WARNING:root:No QID found for label: 3d object\n",
            "WARNING:root:No QID found for label: spectra\n",
            "WARNING:root:No QID found for label: 3d environment\n",
            "WARNING:root:No QID found for label: real world data\n",
            "WARNING:root:No QID found for label: bounding box\n",
            "WARNING:root:No QID found for label: 3d motion capture\n",
            "WARNING:root:No QID found for label: positional data\n",
            "WARNING:root:No QID found for label: eog\n",
            "WARNING:root:No QID found for label: ecg\n"
          ]
        },
        {
          "output_type": "stream",
          "name": "stdout",
          "text": [
            "Processing modality: other (QID: Q1433373)\n",
            "Processing modality: database (QID: Q8513)\n",
            "Processing modality: box (QID: Q188075)\n",
            "Processing modality: animation (QID: Q11425)\n"
          ]
        },
        {
          "output_type": "stream",
          "name": "stderr",
          "text": [
            "WARNING:root:No QID found for label: brain signal\n"
          ]
        },
        {
          "output_type": "stream",
          "name": "stdout",
          "text": [
            "Processing modality: odometry (QID: Q2014717)\n",
            "Processing modality: blockchain (QID: Q20514253)\n"
          ]
        },
        {
          "output_type": "stream",
          "name": "stderr",
          "text": [
            "WARNING:root:No QID found for label: spiking neural data\n"
          ]
        },
        {
          "output_type": "stream",
          "name": "stdout",
          "text": [
            "Processing modality: vr (QID: Q29716068)\n"
          ]
        },
        {
          "output_type": "stream",
          "name": "stderr",
          "text": [
            "WARNING:root:No QID found for label: json\n"
          ]
        },
        {
          "output_type": "stream",
          "name": "stdout",
          "text": [
            "Processing modality: data file (QID: Q5227290)\n",
            "Processing modality: biosignal (QID: Q644240)\n",
            "Knowledge graph saved to knowledge_graph_with_labels.ttl\n",
            "Knowledge graph saved to knowledge_graph_with_labels.owl\n"
          ]
        }
      ]
    },
    {
      "cell_type": "markdown",
      "source": [
        "## Counting Modality & Datatype"
      ],
      "metadata": {
        "id": "CX9JqUJXP89g"
      }
    },
    {
      "cell_type": "code",
      "source": [
        "import json\n",
        "\n",
        "# Load the matched_modalities_data_types.json file\n",
        "with open('matched_modalities_data_types.json', 'r') as f:\n",
        "    dataset = json.load(f)\n",
        "\n",
        "# Initialize counters\n",
        "modality_count = 0\n",
        "unique_datatypes = set()\n",
        "\n",
        "# Iterate through the dataset to count modalities and unique data types\n",
        "for entry in dataset:\n",
        "    modality_count += 1  # Count each modality\n",
        "    # Add each data type to the set (to avoid duplicates)\n",
        "    for data_type in entry['data_types']:\n",
        "        unique_datatypes.add(data_type)\n",
        "\n",
        "# Print the results\n",
        "print(f\"Number of modalities: {modality_count}\")\n",
        "print(f\"Number of unique data types: {len(unique_datatypes)}\")"
      ],
      "metadata": {
        "colab": {
          "base_uri": "https://localhost:8080/"
        },
        "id": "2Gk4WvVkQAGU",
        "outputId": "6ddb9b9c-6e2a-4698-df47-69b50db8f5ad"
      },
      "execution_count": null,
      "outputs": [
        {
          "output_type": "stream",
          "name": "stdout",
          "text": [
            "Number of modalities: 123\n",
            "Number of unique data types: 3874\n"
          ]
        }
      ]
    },
    {
      "cell_type": "code",
      "source": [
        "from rdflib import Namespace, Graph, RDF, RDFS, Literal\n",
        "import json\n",
        "from SPARQLWrapper import SPARQLWrapper, JSON\n",
        "\n",
        "# Set up Wikidata SPARQL endpoint\n",
        "SPARQL_ENDPOINT = \"https://query.wikidata.org/sparql\"\n",
        "\n",
        "# Define namespaces\n",
        "MP = Namespace(\"http://masterproject.org/\")\n",
        "WIKIDATA = Namespace(\"http://www.wikidata.org/entity/\")\n",
        "\n",
        "# Create RDF graph\n",
        "g = Graph()\n",
        "g.bind(\"mp\", MP)\n",
        "g.bind(\"wikidata\", WIKIDATA)\n",
        "\n",
        "# Avoid duplicate queries\n",
        "queried_nodes = set()\n",
        "\n",
        "# List of relevant properties\n",
        "RELEVANT_PROPERTIES = [\n",
        "    \"P31\", \"P279\", \"P361\", \"P1269\", \"P527\", \"P2670\", \"P2701\", \"P1163\",\n",
        "    \"P1195\", \"P4330\", \"P366\", \"P1535\", \"P101\", \"P921\", \"P1552\", \"P13044\",\n",
        "    \"P3575\"\n",
        "]\n",
        "\n",
        "def query_wikidata_properties(qid):\n",
        "    \"\"\"Query Wikidata properties for a given entity\"\"\"\n",
        "    if qid in queried_nodes:\n",
        "        return []\n",
        "    queried_nodes.add(qid)\n",
        "\n",
        "    query = f\"\"\"\n",
        "    SELECT ?property ?propertyLabel ?value ?valueLabel WHERE {{\n",
        "      wd:{qid} ?p ?value.\n",
        "      ?property wikibase:directClaim ?p.\n",
        "      FILTER (?property IN (wd:{\", wd:\".join(RELEVANT_PROPERTIES)}))\n",
        "      OPTIONAL {{ ?value rdfs:label ?valueLabel. FILTER(LANG(?valueLabel) = \"en\") }}\n",
        "      SERVICE wikibase:label {{ bd:serviceParam wikibase:language \"en\". }}\n",
        "    }}\n",
        "    \"\"\"\n",
        "    sparql = SPARQLWrapper(SPARQL_ENDPOINT)\n",
        "    sparql.setQuery(query)\n",
        "    sparql.setReturnFormat(JSON)\n",
        "    results = sparql.query().convert()\n",
        "    return results[\"results\"][\"bindings\"]\n",
        "\n",
        "def recursive_query(qid, label=None, depth=0, max_depth=3):\n",
        "    \"\"\"Recursively query and construct the knowledge graph\"\"\"\n",
        "    if depth > max_depth:\n",
        "        return\n",
        "\n",
        "    # Query entity properties\n",
        "    results = query_wikidata_properties(qid)\n",
        "\n",
        "    for result in results:\n",
        "        prop = result[\"propertyLabel\"][\"value\"].replace(\" \", \"_\").replace(\"(\", \"_\").replace(\")\", \"_\")\n",
        "        value = result.get(\"valueLabel\", {}).get(\"value\", result[\"value\"][\"value\"])\n",
        "        value_uri = result[\"value\"][\"value\"]\n",
        "\n",
        "        # Check if the value is a Wikidata entity\n",
        "        if \"wikidata.org/entity/\" in value_uri:\n",
        "            value_qid = value_uri.split(\"/\")[-1]\n",
        "\n",
        "            # Create new node of type NewNode if it has not been queried\n",
        "            if value_qid not in queried_nodes:\n",
        "                g.add((WIKIDATA[value_qid], RDF.type, MP.NewNode))  # Mark the new entity as NewNode\n",
        "                queried_nodes.add(value_qid)\n",
        "\n",
        "            # Only create relationships (edges) between nodes without adding properties\n",
        "            g.add((WIKIDATA[qid], MP[prop], WIKIDATA[value_qid]))\n",
        "            if label:\n",
        "                g.add((WIKIDATA[qid], RDFS.label, Literal(label)))\n",
        "            if value:\n",
        "                g.add((WIKIDATA[value_qid], RDFS.label, Literal(value)))\n",
        "\n",
        "            # Recursively query the new node\n",
        "            recursive_query(value_qid, label=value, depth=depth + 1, max_depth=max_depth)\n",
        "\n",
        "        # Handle relationships between properties and new nodes\n",
        "        if value_uri and \"wikidata.org/entity/\" in value_uri:\n",
        "            value_qid = value_uri.split(\"/\")[-1]\n",
        "            if value_qid not in queried_nodes:\n",
        "                g.add((WIKIDATA[value_qid], RDF.type, MP.NewNode))  # Mark the new entity as NewNode\n",
        "                queried_nodes.add(value_qid)\n",
        "\n",
        "            # Add edges based on RELEVANT_PROPERTIES between new nodes\n",
        "            g.add((WIKIDATA[qid], MP[prop], WIKIDATA[value_qid]))  # Add relationship edge\n",
        "\n",
        "def build_knowledge_graph(dataset, max_depth=3):\n",
        "    \"\"\"Build the knowledge graph from the dataset\"\"\"\n",
        "    for entry in dataset:\n",
        "        modality = entry[\"modality\"]\n",
        "        data_types = entry[\"data_types\"]\n",
        "\n",
        "        # Get QID for modality\n",
        "        modality_qid = get_qid(modality)\n",
        "        if modality_qid:\n",
        "            print(f\"Processing modality: {modality} (QID: {modality_qid})\")\n",
        "\n",
        "            # Add modality node to RDF graph and attach a label\n",
        "            g.add((WIKIDATA[modality_qid], RDF.type, MP.Modality))\n",
        "            g.add((WIKIDATA[modality_qid], RDFS.label, Literal(modality)))\n",
        "\n",
        "            # Recursively query modality properties\n",
        "            recursive_query(modality_qid, label=modality, depth=0, max_depth=max_depth)\n",
        "\n",
        "            # Handle data_types\n",
        "            for data_type, properties in data_types.items():\n",
        "                data_type_qid = properties.get(\"wikidata_id\")\n",
        "\n",
        "                if data_type_qid:\n",
        "                    # If the node exists as NewNode, change its type to Datatype\n",
        "                    if (WIKIDATA[data_type_qid], RDF.type, MP.NewNode) in g:\n",
        "                        g.remove((WIKIDATA[data_type_qid], RDF.type, MP.NewNode))\n",
        "\n",
        "                    # Add data_type node to RDF graph with properties\n",
        "                    g.add((WIKIDATA[data_type_qid], RDF.type, MP.Datatype))\n",
        "                    g.add((WIKIDATA[data_type_qid], RDFS.label, Literal(data_type)))\n",
        "                    g.add((WIKIDATA[data_type_qid], MP.frequency, Literal(properties.get(\"frequency\"))))\n",
        "                    g.add((WIKIDATA[data_type_qid], MP.QID, Literal(properties.get(\"wikidata_id\"))))\n",
        "                    g.add((WIKIDATA[data_type_qid], MP.wikidata_label, Literal(properties.get(\"wikidata_label\"))))\n",
        "                    g.add((WIKIDATA[data_type_qid], MP.wikidata_description, Literal(properties.get(\"wikidata_description\"))))\n",
        "\n",
        "                    # Create custom edge between modality and data_type\n",
        "                    g.add((WIKIDATA[modality_qid], MP[\"Modality_Datatype\"], WIKIDATA[data_type_qid]))\n",
        "\n",
        "                    # Recursively query data_type properties\n",
        "                    recursive_query(data_type_qid, label=data_type, depth=0, max_depth=max_depth)\n",
        "\n",
        "    # Save the knowledge graph as Turtle and OWL format\n",
        "    g.serialize(destination=\"knowledge_graph_with_labels.ttl\", format=\"turtle\")\n",
        "    print(\"Knowledge graph saved to knowledge_graph_with_labels.ttl\")\n",
        "\n",
        "    g.serialize(destination=\"knowledge_graph_with_labels.owl\", format=\"xml\")\n",
        "    print(\"Knowledge graph saved to knowledge_graph_with_labels.owl\")\n",
        "\n",
        "# Load the matched_modalities_data_types.json file\n",
        "with open('matched_modalities_data_types.json', 'r') as f:\n",
        "    dataset = json.load(f)\n",
        "\n",
        "# Build the knowledge graph\n",
        "build_knowledge_graph(dataset, max_depth=5)"
      ],
      "metadata": {
        "colab": {
          "base_uri": "https://localhost:8080/"
        },
        "id": "RqxzK4EMewzo",
        "outputId": "07160acc-1a29-4fe8-d6a6-eec10143235e"
      },
      "execution_count": null,
      "outputs": [
        {
          "output_type": "stream",
          "name": "stdout",
          "text": [
            "Processing modality: image (QID: Q478798)\n",
            "Processing modality: text (QID: Q234460)\n"
          ]
        },
        {
          "output_type": "stream",
          "name": "stderr",
          "text": [
            "WARNING:root:No QID found for label: 3d model\n"
          ]
        },
        {
          "output_type": "stream",
          "name": "stdout",
          "text": [
            "Processing modality: video (QID: Q625525)\n",
            "Processing modality: audio (QID: Q3500685)\n"
          ]
        },
        {
          "output_type": "stream",
          "name": "stderr",
          "text": [
            "WARNING:root:No QID found for label: 3d point cloud\n",
            "WARNING:root:No QID found for label: numerical\n"
          ]
        },
        {
          "output_type": "stream",
          "name": "stdout",
          "text": [
            "Processing modality: metadata (QID: Q180160)\n",
            "Processing modality: structured data (QID: Q26813700)\n",
            "Processing modality: annotation (QID: Q857525)\n",
            "Processing modality: depth (QID: Q181591)\n",
            "Processing modality: skeleton (QID: Q7881)\n"
          ]
        },
        {
          "output_type": "stream",
          "name": "stderr",
          "text": [
            "WARNING:root:No QID found for label: inertial\n"
          ]
        },
        {
          "output_type": "stream",
          "name": "stdout",
          "text": [
            "Processing modality: sensor (QID: Q167676)\n"
          ]
        },
        {
          "output_type": "stream",
          "name": "stderr",
          "text": [
            "WARNING:root:No QID found for label: midi\n",
            "WARNING:root:No QID found for label: 3d\n",
            "WARNING:root:No QID found for label: 3d skeletal\n"
          ]
        },
        {
          "output_type": "stream",
          "name": "stdout",
          "text": [
            "Processing modality: tabular (QID: Q13402984)\n",
            "Processing modality: graph (QID: Q141488)\n"
          ]
        },
        {
          "output_type": "stream",
          "name": "stderr",
          "text": [
            "WARNING:root:No QID found for label: kinematic\n",
            "WARNING:root:No QID found for label: 3d structure\n"
          ]
        },
        {
          "output_type": "stream",
          "name": "stdout",
          "text": [
            "Processing modality: network (QID: Q109406)\n"
          ]
        },
        {
          "output_type": "stream",
          "name": "stderr",
          "text": [
            "WARNING:root:No QID found for label: 3d skeleton\n"
          ]
        },
        {
          "output_type": "stream",
          "name": "stdout",
          "text": [
            "Processing modality: table (QID: Q14748)\n",
            "Processing modality: time series (QID: Q186588)\n",
            "Processing modality: simulation (QID: Q45045)\n",
            "Processing modality: lidar (QID: Q504027)\n",
            "Processing modality: radar (QID: Q47528)\n",
            "Processing modality: numeric (QID: Q3249849)\n",
            "Processing modality: signal (QID: Q174984)\n",
            "Processing modality: data (QID: Q42848)\n",
            "Processing modality: point cloud (QID: Q1899648)\n",
            "Processing modality: vector (QID: Q107994)\n",
            "Processing modality: label (QID: Q202581)\n",
            "Processing modality: chemical structure (QID: Q500256)\n"
          ]
        },
        {
          "output_type": "stream",
          "name": "stderr",
          "text": [
            "WARNING:root:No QID found for label: physiological signal\n"
          ]
        },
        {
          "output_type": "stream",
          "name": "stdout",
          "text": [
            "Processing modality: motion capture (QID: Q676252)\n"
          ]
        },
        {
          "output_type": "stream",
          "name": "stderr",
          "text": [
            "WARNING:root:No QID found for label: spatial coordinate\n",
            "WARNING:root:No QID found for label: eeg\n"
          ]
        },
        {
          "output_type": "stream",
          "name": "stdout",
          "text": [
            "Processing modality: geolocation (QID: Q123349905)\n",
            "Processing modality: temporal (QID: Q2472680)\n",
            "Processing modality: sequence (QID: Q133250)\n",
            "Processing modality: trajectory (QID: Q193139)\n",
            "Processing modality: neuroimaging (QID: Q551875)\n",
            "Processing modality: environment (QID: Q1572519)\n"
          ]
        },
        {
          "output_type": "stream",
          "name": "stderr",
          "text": [
            "WARNING:root:No QID found for label: 3d simulation\n"
          ]
        },
        {
          "output_type": "stream",
          "name": "stdout",
          "text": [
            "Processing modality: pose (QID: Q1671968)\n",
            "Processing modality: visualization (QID: Q451553)\n",
            "Processing modality: geospatial (QID: Q122074678)\n"
          ]
        },
        {
          "output_type": "stream",
          "name": "stderr",
          "text": [
            "WARNING:root:No QID found for label: physiological\n"
          ]
        },
        {
          "output_type": "stream",
          "name": "stdout",
          "text": [
            "Processing modality: binary (QID: Q58483123)\n",
            "Processing modality: interaction (QID: Q52948)\n",
            "Processing modality: eye tracking (QID: Q970687)\n",
            "Processing modality: social network (QID: Q2715623)\n"
          ]
        },
        {
          "output_type": "stream",
          "name": "stderr",
          "text": [
            "WARNING:root:No QID found for label: 3d pose\n"
          ]
        },
        {
          "output_type": "stream",
          "name": "stdout",
          "text": [
            "Processing modality: event (QID: Q1349920)\n",
            "Processing modality: control (QID: Q338754)\n",
            "Processing modality: synthetic data (QID: Q7662746)\n"
          ]
        },
        {
          "output_type": "stream",
          "name": "stderr",
          "text": [
            "WARNING:root:No QID found for label: meta information\n"
          ]
        },
        {
          "output_type": "stream",
          "name": "stdout",
          "text": [
            "Processing modality: code (QID: Q188889)\n"
          ]
        },
        {
          "output_type": "stream",
          "name": "stderr",
          "text": [
            "WARNING:root:No QID found for label: genomic sequence\n"
          ]
        },
        {
          "output_type": "stream",
          "name": "stdout",
          "text": [
            "Processing modality: knowledge graph (QID: Q33002955)\n",
            "Processing modality: matrix (QID: Q44337)\n",
            "Processing modality: motion (QID: Q79782)\n"
          ]
        },
        {
          "output_type": "stream",
          "name": "stderr",
          "text": [
            "WARNING:root:No QID found for label: laser scan\n",
            "WARNING:root:No QID found for label: user data\n",
            "WARNING:root:No QID found for label: 3d body skeleton\n"
          ]
        },
        {
          "output_type": "stream",
          "name": "stdout",
          "text": [
            "Processing modality: game (QID: Q11410)\n"
          ]
        },
        {
          "output_type": "stream",
          "name": "stderr",
          "text": [
            "WARNING:root:No QID found for label: 3d motion\n",
            "WARNING:root:No QID found for label: pose information\n",
            "WARNING:root:No QID found for label: temporal graph\n",
            "WARNING:root:No QID found for label: genomic\n",
            "WARNING:root:No QID found for label: network traffic\n"
          ]
        },
        {
          "output_type": "stream",
          "name": "stdout",
          "text": [
            "Processing modality: web (QID: Q1427141)\n",
            "Processing modality: log (QID: Q12029485)\n",
            "Processing modality: model (QID: Q1941828)\n"
          ]
        },
        {
          "output_type": "stream",
          "name": "stderr",
          "text": [
            "WARNING:root:No QID found for label: eye gaze\n"
          ]
        },
        {
          "output_type": "stream",
          "name": "stdout",
          "text": [
            "Processing modality: feature vector (QID: Q1921842)\n"
          ]
        },
        {
          "output_type": "stream",
          "name": "stderr",
          "text": [
            "WARNING:root:No QID found for label: social context\n"
          ]
        },
        {
          "output_type": "stream",
          "name": "stdout",
          "text": [
            "Processing modality: spatial (QID: Q122075505)\n",
            "Processing modality: visual (QID: Q4014836)\n"
          ]
        },
        {
          "output_type": "stream",
          "name": "stderr",
          "text": [
            "WARNING:root:No QID found for label: spatiotemporal\n"
          ]
        },
        {
          "output_type": "stream",
          "name": "stdout",
          "text": [
            "Processing modality: software (QID: Q7397)\n",
            "Processing modality: sketch (QID: Q5078274)\n"
          ]
        },
        {
          "output_type": "stream",
          "name": "stderr",
          "text": [
            "WARNING:root:No QID found for label: meteorological\n",
            "WARNING:root:No QID found for label: structural\n",
            "WARNING:root:No QID found for label: chemical\n",
            "WARNING:root:No QID found for label: neural\n"
          ]
        },
        {
          "output_type": "stream",
          "name": "stdout",
          "text": [
            "Processing modality: feature (QID: Q93586)\n"
          ]
        },
        {
          "output_type": "stream",
          "name": "stderr",
          "text": [
            "WARNING:root:No QID found for label: system log\n",
            "WARNING:root:No QID found for label: categorical\n"
          ]
        },
        {
          "output_type": "stream",
          "name": "stdout",
          "text": [
            "Processing modality: tactile (QID: Q124134995)\n"
          ]
        },
        {
          "output_type": "stream",
          "name": "stderr",
          "text": [
            "WARNING:root:No QID found for label: biological\n",
            "WARNING:root:No QID found for label: syntactic analysis\n"
          ]
        },
        {
          "output_type": "stream",
          "name": "stdout",
          "text": [
            "Processing modality: notebook (QID: Q43013)\n",
            "Processing modality: emotion (QID: Q95969875)\n"
          ]
        },
        {
          "output_type": "stream",
          "name": "stderr",
          "text": [
            "WARNING:root:No QID found for label: electrophysiological\n",
            "WARNING:root:No QID found for label: imu\n",
            "WARNING:root:No QID found for label: kinesthetic\n",
            "WARNING:root:No QID found for label: gnss/ins\n"
          ]
        },
        {
          "output_type": "stream",
          "name": "stdout",
          "text": [
            "Processing modality: biomarker (QID: Q864574)\n"
          ]
        },
        {
          "output_type": "stream",
          "name": "stderr",
          "text": [
            "WARNING:root:No QID found for label: neurophysiological\n",
            "WARNING:root:No QID found for label: 3d object\n",
            "WARNING:root:No QID found for label: spectra\n",
            "WARNING:root:No QID found for label: 3d environment\n",
            "WARNING:root:No QID found for label: real world data\n",
            "WARNING:root:No QID found for label: bounding box\n",
            "WARNING:root:No QID found for label: 3d motion capture\n",
            "WARNING:root:No QID found for label: positional data\n",
            "WARNING:root:No QID found for label: eog\n",
            "WARNING:root:No QID found for label: ecg\n"
          ]
        },
        {
          "output_type": "stream",
          "name": "stdout",
          "text": [
            "Processing modality: other (QID: Q1433373)\n",
            "Processing modality: database (QID: Q8513)\n",
            "Processing modality: box (QID: Q188075)\n",
            "Processing modality: animation (QID: Q11425)\n"
          ]
        },
        {
          "output_type": "stream",
          "name": "stderr",
          "text": [
            "WARNING:root:No QID found for label: brain signal\n"
          ]
        },
        {
          "output_type": "stream",
          "name": "stdout",
          "text": [
            "Processing modality: odometry (QID: Q2014717)\n",
            "Processing modality: blockchain (QID: Q20514253)\n"
          ]
        },
        {
          "output_type": "stream",
          "name": "stderr",
          "text": [
            "WARNING:root:No QID found for label: spiking neural data\n"
          ]
        },
        {
          "output_type": "stream",
          "name": "stdout",
          "text": [
            "Processing modality: vr (QID: Q29716068)\n"
          ]
        },
        {
          "output_type": "stream",
          "name": "stderr",
          "text": [
            "WARNING:root:No QID found for label: json\n"
          ]
        },
        {
          "output_type": "stream",
          "name": "stdout",
          "text": [
            "Processing modality: data file (QID: Q5227290)\n",
            "Processing modality: biosignal (QID: Q644240)\n",
            "Knowledge graph saved to knowledge_graph_with_labels.ttl\n",
            "Knowledge graph saved to knowledge_graph_with_labels.owl\n"
          ]
        }
      ]
    },
    {
      "cell_type": "code",
      "source": [
        "from rdflib import Namespace, Graph, RDF, RDFS, Literal\n",
        "import json\n",
        "from SPARQLWrapper import SPARQLWrapper, JSON\n",
        "\n",
        "# Set up Wikidata SPARQL endpoint\n",
        "SPARQL_ENDPOINT = \"https://query.wikidata.org/sparql\"\n",
        "\n",
        "# Define namespaces\n",
        "MP = Namespace(\"http://masterproject.org/\")\n",
        "WIKIDATA = Namespace(\"http://www.wikidata.org/entity/\")\n",
        "\n",
        "# Create RDF graph\n",
        "g = Graph()\n",
        "g.bind(\"mp\", MP)\n",
        "g.bind(\"wikidata\", WIKIDATA)\n",
        "\n",
        "# Avoid duplicate queries\n",
        "queried_nodes = set()\n",
        "\n",
        "SPARQL_ENDPOINT = \"https://query.wikidata.org/sparql\"\n",
        "\n",
        "# From label get qid\n",
        "def get_qid(label):\n",
        "    \"\"\"Get the QID of an entity based on its label.\"\"\"\n",
        "    time.sleep(1)\n",
        "    logging.info(f\"Fetching QID for label: {label}\")\n",
        "    query = f\"\"\"\n",
        "    SELECT ?entity WHERE {{\n",
        "      ?entity rdfs:label \"{label}\"@en.\n",
        "      FILTER (STRSTARTS(STR(?entity), \"http://www.wikidata.org/entity/Q\"))\n",
        "    }}\n",
        "    LIMIT 1\n",
        "    \"\"\"\n",
        "    sparql = SPARQLWrapper(SPARQL_ENDPOINT)\n",
        "    sparql.setQuery(query)\n",
        "    sparql.setReturnFormat(JSON)\n",
        "    results = sparql.query().convert()\n",
        "\n",
        "    if results[\"results\"][\"bindings\"]:\n",
        "        qid = results[\"results\"][\"bindings\"][0][\"entity\"][\"value\"].split(\"/\")[-1]\n",
        "        logging.info(f\"Found QID for {label}: {qid}\")\n",
        "        return qid\n",
        "    else:\n",
        "        logging.warning(f\"No QID found for label: {label}\")\n",
        "    return None\n",
        "\n",
        "# List of relevant properties (modality and data type relationships)\n",
        "RELEVANT_PROPERTIES = [\n",
        "    # Fundamental Semantics\n",
        "    \"P31\",  # instance of\n",
        "    \"P279\",  # subclass of\n",
        "    \"P361\",  # part of\n",
        "    \"P1269\",  # facet of\n",
        "\n",
        "    # Structure and Technology\n",
        "    \"P527\",  # has part(s)\n",
        "    \"P2670\",  # has part(s) of the class\n",
        "    \"P2701\",  # file format\n",
        "    \"P1163\",  # media type\n",
        "    \"P1195\",  # file extension\n",
        "    \"P4330\",  # contains\n",
        "\n",
        "    # Application and Domain\n",
        "    \"P366\",  # has use\n",
        "    \"P1535\",  # used by\n",
        "    \"P101\",  # field of work\n",
        "    \"P921\",  # main subject\n",
        "\n",
        "\n",
        "    # Quality and Metadata\n",
        "    \"P1552\",  # has characteristic\n",
        "    \"P13044\",  # characteristic of\n",
        "    \"P3575\",  # data size\n",
        "]\n",
        "\n",
        "def query_wikidata_properties(qid):\n",
        "    \"\"\"Query Wikidata properties for a given entity\"\"\"\n",
        "    if qid in queried_nodes:\n",
        "        return []\n",
        "    queried_nodes.add(qid)\n",
        "\n",
        "    query = f\"\"\"\n",
        "    SELECT ?property ?propertyLabel ?value ?valueLabel WHERE {{\n",
        "      wd:{qid} ?p ?value.\n",
        "      ?property wikibase:directClaim ?p.\n",
        "      FILTER (?property IN (wd:{\", wd:\".join(RELEVANT_PROPERTIES)}))\n",
        "      OPTIONAL {{ ?value rdfs:label ?valueLabel. FILTER(LANG(?valueLabel) = \"en\") }}\n",
        "      SERVICE wikibase:label {{ bd:serviceParam wikibase:language \"en\". }}\n",
        "    }}\n",
        "    \"\"\"\n",
        "    sparql = SPARQLWrapper(SPARQL_ENDPOINT)\n",
        "    sparql.setQuery(query)\n",
        "    sparql.setReturnFormat(JSON)\n",
        "    results = sparql.query().convert()\n",
        "    return results[\"results\"][\"bindings\"]\n",
        "\n",
        "def recursive_query(qid, label=None, depth=0, max_depth=3):\n",
        "    \"\"\"Recursively query and construct the knowledge graph\"\"\"\n",
        "    if depth > max_depth:\n",
        "        return\n",
        "\n",
        "    # Query entity properties\n",
        "    results = query_wikidata_properties(qid)\n",
        "\n",
        "    for result in results:\n",
        "        prop = result[\"propertyLabel\"][\"value\"].replace(\" \", \"_\").replace(\"(\", \"_\").replace(\")\", \"_\")\n",
        "        value = result.get(\"valueLabel\", {}).get(\"value\", result[\"value\"][\"value\"])\n",
        "        value_uri = result[\"value\"][\"value\"]\n",
        "\n",
        "        # Check if the value is a Wikidata entity\n",
        "        if \"wikidata.org/entity/\" in value_uri:\n",
        "            value_qid = value_uri.split(\"/\")[-1]\n",
        "\n",
        "            # Create new node of type NewNode if it has not been queried\n",
        "            if value_qid not in queried_nodes:\n",
        "                g.add((WIKIDATA[value_qid], RDF.type, MP.NewNode))  # Mark the new entity as NewNode\n",
        "                queried_nodes.add(value_qid)\n",
        "\n",
        "            # Only create relationships (edges) between nodes without adding properties\n",
        "            g.add((WIKIDATA[qid], MP[prop], WIKIDATA[value_qid]))\n",
        "            if label:\n",
        "                g.add((WIKIDATA[qid], RDFS.label, Literal(label)))\n",
        "            if value:\n",
        "                g.add((WIKIDATA[value_qid], RDFS.label, Literal(value)))\n",
        "\n",
        "            # Recursively query the new node\n",
        "            recursive_query(value_qid, label=value, depth=depth + 1, max_depth=max_depth)\n",
        "\n",
        "        # Handle relationships between properties and new nodes\n",
        "        if value_uri and \"wikidata.org/entity/\" in value_uri:\n",
        "            value_qid = value_uri.split(\"/\")[-1]\n",
        "            if value_qid not in queried_nodes:\n",
        "                g.add((WIKIDATA[value_qid], RDF.type, MP.NewNode))  # Mark the new entity as NewNode\n",
        "                queried_nodes.add(value_qid)\n",
        "\n",
        "            # Add edges based on RELEVANT_PROPERTIES between new nodes\n",
        "            g.add((WIKIDATA[qid], MP[prop], WIKIDATA[value_qid]))  # Add relationship edge\n",
        "\n",
        "def build_knowledge_graph(dataset, max_depth=3):\n",
        "    \"\"\"Build the knowledge graph from the dataset\"\"\"\n",
        "    for entry in dataset:\n",
        "        modality = entry[\"modality\"]\n",
        "        data_types = entry[\"data_types\"]\n",
        "\n",
        "        # Get QID for modality\n",
        "        modality_qid = get_qid(modality)\n",
        "        if modality_qid:\n",
        "            print(f\"Processing modality: {modality} (QID: {modality_qid})\")\n",
        "\n",
        "            # Add modality node to RDF graph and attach a label\n",
        "            g.add((WIKIDATA[modality_qid], RDF.type, MP.Modality))\n",
        "            g.add((WIKIDATA[modality_qid], RDFS.label, Literal(modality)))\n",
        "\n",
        "            # Recursively query modality properties\n",
        "            recursive_query(modality_qid, label=modality, depth=0, max_depth=max_depth)\n",
        "\n",
        "            # Handle data_types\n",
        "            for data_type, properties in data_types.items():\n",
        "                data_type_qid = properties.get(\"wikidata_id\")\n",
        "\n",
        "                if data_type_qid:\n",
        "                    # If the node exists as NewNode, change its type to Datatype\n",
        "                    if (WIKIDATA[data_type_qid], RDF.type, MP.NewNode) in g:\n",
        "                        g.remove((WIKIDATA[data_type_qid], RDF.type, MP.NewNode))\n",
        "\n",
        "                    # Add data_type node to RDF graph with properties\n",
        "                    g.add((WIKIDATA[data_type_qid], RDF.type, MP.Datatype))\n",
        "                    g.add((WIKIDATA[data_type_qid], RDFS.label, Literal(data_type)))\n",
        "                    g.add((WIKIDATA[data_type_qid], MP.frequency, Literal(properties.get(\"frequency\"))))\n",
        "                    g.add((WIKIDATA[data_type_qid], MP.QID, Literal(properties.get(\"wikidata_id\"))))\n",
        "                    g.add((WIKIDATA[data_type_qid], MP.wikidata_label, Literal(properties.get(\"wikidata_label\"))))\n",
        "                    g.add((WIKIDATA[data_type_qid], MP.wikidata_description, Literal(properties.get(\"wikidata_description\"))))\n",
        "\n",
        "                    # Create custom edge only between modality and datatype (not between two datatypes)\n",
        "                    if (WIKIDATA[modality_qid], RDF.type, MP.Modality) in g and (WIKIDATA[data_type_qid], RDF.type, MP.Datatype) in g:\n",
        "                        g.add((WIKIDATA[modality_qid], MP[\"Modality_Datatype\"], WIKIDATA[data_type_qid]))\n",
        "\n",
        "                    # Recursively query data_type properties\n",
        "                    recursive_query(data_type_qid, label=data_type, depth=0, max_depth=max_depth)\n",
        "\n",
        "    # Save the knowledge graph as Turtle and OWL format\n",
        "    g.serialize(destination=\"knowledge_graph_with_labels_5_2.ttl\", format=\"turtle\")\n",
        "    print(\"Knowledge graph saved to knowledge_graph_with_labels.ttl\")\n",
        "\n",
        "    g.serialize(destination=\"knowledge_graph_with_labels_5_2.owl\", format=\"xml\")\n",
        "    print(\"Knowledge graph saved to knowledge_graph_with_labels.owl\")\n",
        "\n",
        "# Load the matched_modalities_data_types.json file\n",
        "with open('matched_modalities_data_types.json', 'r') as f:\n",
        "    dataset = json.load(f)\n",
        "\n",
        "# Build the knowledge graph\n",
        "build_knowledge_graph(dataset, max_depth=5)"
      ],
      "metadata": {
        "colab": {
          "base_uri": "https://localhost:8080/",
          "height": 378
        },
        "id": "PSbPsdyEmHYJ",
        "outputId": "0ed6ef68-95cd-4cc6-81c7-51f406e9f4a0"
      },
      "execution_count": null,
      "outputs": [
        {
          "output_type": "error",
          "ename": "ModuleNotFoundError",
          "evalue": "No module named 'rdflib'",
          "traceback": [
            "\u001b[0;31m---------------------------------------------------------------------------\u001b[0m",
            "\u001b[0;31mModuleNotFoundError\u001b[0m                       Traceback (most recent call last)",
            "\u001b[0;32m<ipython-input-1-9f8a7a82d850>\u001b[0m in \u001b[0;36m<cell line: 0>\u001b[0;34m()\u001b[0m\n\u001b[0;32m----> 1\u001b[0;31m \u001b[0;32mfrom\u001b[0m \u001b[0mrdflib\u001b[0m \u001b[0;32mimport\u001b[0m \u001b[0mNamespace\u001b[0m\u001b[0;34m,\u001b[0m \u001b[0mGraph\u001b[0m\u001b[0;34m,\u001b[0m \u001b[0mRDF\u001b[0m\u001b[0;34m,\u001b[0m \u001b[0mRDFS\u001b[0m\u001b[0;34m,\u001b[0m \u001b[0mLiteral\u001b[0m\u001b[0;34m\u001b[0m\u001b[0;34m\u001b[0m\u001b[0m\n\u001b[0m\u001b[1;32m      2\u001b[0m \u001b[0;32mimport\u001b[0m \u001b[0mjson\u001b[0m\u001b[0;34m\u001b[0m\u001b[0;34m\u001b[0m\u001b[0m\n\u001b[1;32m      3\u001b[0m \u001b[0;32mfrom\u001b[0m \u001b[0mSPARQLWrapper\u001b[0m \u001b[0;32mimport\u001b[0m \u001b[0mSPARQLWrapper\u001b[0m\u001b[0;34m,\u001b[0m \u001b[0mJSON\u001b[0m\u001b[0;34m\u001b[0m\u001b[0;34m\u001b[0m\u001b[0m\n\u001b[1;32m      4\u001b[0m \u001b[0;34m\u001b[0m\u001b[0m\n\u001b[1;32m      5\u001b[0m \u001b[0;31m# Set up Wikidata SPARQL endpoint\u001b[0m\u001b[0;34m\u001b[0m\u001b[0;34m\u001b[0m\u001b[0m\n",
            "\u001b[0;31mModuleNotFoundError\u001b[0m: No module named 'rdflib'",
            "",
            "\u001b[0;31m---------------------------------------------------------------------------\u001b[0;32m\nNOTE: If your import is failing due to a missing package, you can\nmanually install dependencies using either !pip or !apt.\n\nTo view examples of installing some common dependencies, click the\n\"Open Examples\" button below.\n\u001b[0;31m---------------------------------------------------------------------------\u001b[0m\n"
          ],
          "errorDetails": {
            "actions": [
              {
                "action": "open_url",
                "actionText": "Open Examples",
                "url": "/notebooks/snippets/importing_libraries.ipynb"
              }
            ]
          }
        }
      ]
    },
    {
      "cell_type": "code",
      "source": [
        "from rdflib import Namespace, Graph, RDF, RDFS, Literal\n",
        "import json\n",
        "from SPARQLWrapper import SPARQLWrapper, JSON\n",
        "import logging\n",
        "import time\n",
        "\n",
        "# Set up logging\n",
        "logging.basicConfig(level=logging.INFO)\n",
        "\n",
        "# Set up Wikidata SPARQL endpoint\n",
        "SPARQL_ENDPOINT = \"https://query.wikidata.org/sparql\"\n",
        "\n",
        "# Define namespaces\n",
        "WIKIDATA = Namespace(\"http://www.wikidata.org/entity/\")\n",
        "WD = Namespace(\"http://www.wikidata.org/prop/direct/\")\n",
        "\n",
        "# Create RDF graph\n",
        "g = Graph()\n",
        "g.bind(\"wikidata\", WIKIDATA)\n",
        "g.bind(\"wd\", WD)\n",
        "\n",
        "# Avoid duplicate queries\n",
        "queried_nodes = set()\n",
        "\n",
        "# List of relevant properties (modality and data type relationships)\n",
        "RELEVANT_PROPERTIES = [\n",
        "    \"P31\",  # instance of\n",
        "    \"P279\",  # subclass of\n",
        "    \"P361\",  # part of\n",
        "    \"P1269\",  # facet of\n",
        "    \"P527\",  # has part(s)\n",
        "    \"P2670\",  # has part(s) of the class\n",
        "    \"P2701\",  # file format\n",
        "    \"P1163\",  # media type\n",
        "    \"P1195\",  # file extension\n",
        "    \"P4330\",  # contains\n",
        "    \"P366\",  # has use\n",
        "    \"P1535\",  # used by\n",
        "    \"P101\",  # field of work\n",
        "    \"P921\",  # main subject\n",
        "    \"P1552\",  # has characteristic\n",
        "    \"P13044\",  # characteristic of\n",
        "    \"P3575\",  # data size\n",
        "]\n",
        "\n",
        "def query_wikidata_properties(qid):\n",
        "    \"\"\"Query Wikidata properties for a given entity\"\"\"\n",
        "    if qid in queried_nodes:\n",
        "        return []\n",
        "    queried_nodes.add(qid)\n",
        "\n",
        "    query = f\"\"\"\n",
        "    SELECT ?property ?propertyLabel ?value ?valueLabel WHERE {{\n",
        "      wd:{qid} ?p ?value.\n",
        "      ?property wikibase:directClaim ?p.\n",
        "      FILTER (?property IN (wd:{\", wd:\".join(RELEVANT_PROPERTIES)}))\n",
        "      OPTIONAL {{ ?value rdfs:label ?valueLabel. FILTER(LANG(?valueLabel) = \"en\") }}\n",
        "      SERVICE wikibase:label {{ bd:serviceParam wikibase:language \"en\". }}\n",
        "    }}\n",
        "    \"\"\"\n",
        "    sparql = SPARQLWrapper(SPARQL_ENDPOINT)\n",
        "    sparql.setQuery(query)\n",
        "    sparql.setReturnFormat(JSON)\n",
        "    results = sparql.query().convert()\n",
        "    return results[\"results\"][\"bindings\"]\n",
        "\n",
        "def create_or_update_node(qid, node_type, properties=None):\n",
        "    \"\"\"\n",
        "    Create or update a node with the given QID and type.\n",
        "    Priority: Modality > Datatype > NewNode.\n",
        "    \"\"\"\n",
        "    if qid in queried_nodes:\n",
        "        existing_type = g.value(WIKIDATA[qid], RDF.type)\n",
        "        if existing_type == WIKIDATA.NewNode and node_type in [WIKIDATA.Datatype, WIKIDATA.Modality]:\n",
        "            g.remove((WIKIDATA[qid], RDF.type, WIKIDATA.NewNode))\n",
        "            g.add((WIKIDATA[qid], RDF.type, node_type))\n",
        "        elif existing_type == WIKIDATA.Datatype and node_type == WIKIDATA.Modality:\n",
        "            g.remove((WIKIDATA[qid], RDF.type, WIKIDATA.Datatype))\n",
        "            g.add((WIKIDATA[qid], RDF.type, node_type))\n",
        "    else:\n",
        "        g.add((WIKIDATA[qid], RDF.type, node_type))\n",
        "        queried_nodes.add(qid)\n",
        "\n",
        "    if properties:\n",
        "        for key, value in properties.items():\n",
        "            g.add((WIKIDATA[qid], WIKIDATA[key], Literal(value)))\n",
        "\n",
        "def recursive_query(qid, node_type, depth=0, max_depth=3):\n",
        "    \"\"\"Recursively query and construct the knowledge graph\"\"\"\n",
        "    if depth > max_depth:\n",
        "        return\n",
        "\n",
        "    # Query entity properties\n",
        "    results = query_wikidata_properties(qid)\n",
        "\n",
        "    for result in results:\n",
        "        prop = result[\"property\"][\"value\"].split(\"/\")[-1]  # Extract property ID (e.g., P31)\n",
        "        value_uri = result[\"value\"][\"value\"]\n",
        "        value_label = result.get(\"valueLabel\", {}).get(\"value\", value_uri)\n",
        "\n",
        "        # Check if the value is a Wikidata entity\n",
        "        if \"wikidata.org/entity/\" in value_uri:\n",
        "            value_qid = value_uri.split(\"/\")[-1]\n",
        "\n",
        "            # Create or update the node\n",
        "            if value_qid not in queried_nodes:\n",
        "                create_or_update_node(value_qid, WIKIDATA.NewNode, {\"label\": value_label})\n",
        "            elif (WIKIDATA[value_qid], RDF.type, WIKIDATA.NewNode) in g:\n",
        "                create_or_update_node(value_qid, node_type)\n",
        "\n",
        "            # Add relationship edge\n",
        "            g.add((WIKIDATA[qid], WD[prop], WIKIDATA[value_qid]))\n",
        "\n",
        "            # Recursively query the new node\n",
        "            recursive_query(value_qid, node_type, depth=depth + 1, max_depth=max_depth)\n",
        "\n",
        "def build_knowledge_graph(dataset, max_depth=3):\n",
        "    \"\"\"Build the knowledge graph from the dataset\"\"\"\n",
        "    for entry in dataset:\n",
        "        modality = entry[\"modality\"]\n",
        "        modality_qid = entry.get(\"wikidata_id\")\n",
        "\n",
        "        if modality_qid:\n",
        "            logging.info(f\"Processing modality: {modality} (QID: {modality_qid})\")\n",
        "\n",
        "            # Create or update modality node\n",
        "            create_or_update_node(modality_qid, WIKIDATA.Modality, {\n",
        "                \"label\": modality,\n",
        "                \"QID\": modality_qid\n",
        "            })\n",
        "\n",
        "            # Recursively query modality properties\n",
        "            recursive_query(modality_qid, WIKIDATA.Modality, depth=0, max_depth=max_depth)\n",
        "\n",
        "            # Handle data_types\n",
        "            for data_type, properties in entry.get(\"data_types\", {}).items():\n",
        "                data_type_qid = properties.get(\"wikidata_id\")\n",
        "\n",
        "                if data_type_qid:\n",
        "                    # Create or update datatype node\n",
        "                    create_or_update_node(data_type_qid, WIKIDATA.Datatype, {\n",
        "                        \"label\": data_type,\n",
        "                        \"frequency\": properties.get(\"frequency\"),\n",
        "                        \"QID\": data_type_qid,\n",
        "                        \"wikidata_label\": properties.get(\"wikidata_label\"),\n",
        "                        \"wikidata_description\": properties.get(\"wikidata_description\")\n",
        "                    })\n",
        "\n",
        "                    # Add relationship between modality and datatype\n",
        "                    g.add((WIKIDATA[modality_qid], WD[\"P366\"], WIKIDATA[data_type_qid]))  # P366: has use\n",
        "\n",
        "                    # Recursively query datatype properties\n",
        "                    recursive_query(data_type_qid, WIKIDATA.Datatype, depth=0, max_depth=max_depth)\n",
        "\n",
        "    # Save the knowledge graph as Turtle and OWL format\n",
        "    g.serialize(destination=\"knowledge_graph.ttl\", format=\"turtle\")\n",
        "    logging.info(\"Knowledge graph saved to knowledge_graph.ttl\")\n",
        "\n",
        "    g.serialize(destination=\"knowledge_graph.owl\", format=\"xml\")\n",
        "    logging.info(\"Knowledge graph saved to knowledge_graph.owl\")\n",
        "\n",
        "# Load the matched_modalities_data_types.json file\n",
        "with open('matched_modalities_data_types.json', 'r') as f:\n",
        "    dataset = json.load(f)\n",
        "\n",
        "# Build the knowledge graph\n",
        "build_knowledge_graph(dataset, max_depth=5)"
      ],
      "metadata": {
        "colab": {
          "base_uri": "https://localhost:8080/",
          "height": 378
        },
        "id": "YmosckfpMtZj",
        "outputId": "4b8cc188-b23e-4acd-d4ea-47df0104492b"
      },
      "execution_count": null,
      "outputs": [
        {
          "output_type": "error",
          "ename": "ModuleNotFoundError",
          "evalue": "No module named 'rdflib'",
          "traceback": [
            "\u001b[0;31m---------------------------------------------------------------------------\u001b[0m",
            "\u001b[0;31mModuleNotFoundError\u001b[0m                       Traceback (most recent call last)",
            "\u001b[0;32m<ipython-input-2-af7e386dc406>\u001b[0m in \u001b[0;36m<cell line: 0>\u001b[0;34m()\u001b[0m\n\u001b[0;32m----> 1\u001b[0;31m \u001b[0;32mfrom\u001b[0m \u001b[0mrdflib\u001b[0m \u001b[0;32mimport\u001b[0m \u001b[0mNamespace\u001b[0m\u001b[0;34m,\u001b[0m \u001b[0mGraph\u001b[0m\u001b[0;34m,\u001b[0m \u001b[0mRDF\u001b[0m\u001b[0;34m,\u001b[0m \u001b[0mRDFS\u001b[0m\u001b[0;34m,\u001b[0m \u001b[0mLiteral\u001b[0m\u001b[0;34m\u001b[0m\u001b[0;34m\u001b[0m\u001b[0m\n\u001b[0m\u001b[1;32m      2\u001b[0m \u001b[0;32mimport\u001b[0m \u001b[0mjson\u001b[0m\u001b[0;34m\u001b[0m\u001b[0;34m\u001b[0m\u001b[0m\n\u001b[1;32m      3\u001b[0m \u001b[0;32mfrom\u001b[0m \u001b[0mSPARQLWrapper\u001b[0m \u001b[0;32mimport\u001b[0m \u001b[0mSPARQLWrapper\u001b[0m\u001b[0;34m,\u001b[0m \u001b[0mJSON\u001b[0m\u001b[0;34m\u001b[0m\u001b[0;34m\u001b[0m\u001b[0m\n\u001b[1;32m      4\u001b[0m \u001b[0;32mimport\u001b[0m \u001b[0mlogging\u001b[0m\u001b[0;34m\u001b[0m\u001b[0;34m\u001b[0m\u001b[0m\n\u001b[1;32m      5\u001b[0m \u001b[0;32mimport\u001b[0m \u001b[0mtime\u001b[0m\u001b[0;34m\u001b[0m\u001b[0;34m\u001b[0m\u001b[0m\n",
            "\u001b[0;31mModuleNotFoundError\u001b[0m: No module named 'rdflib'",
            "",
            "\u001b[0;31m---------------------------------------------------------------------------\u001b[0;32m\nNOTE: If your import is failing due to a missing package, you can\nmanually install dependencies using either !pip or !apt.\n\nTo view examples of installing some common dependencies, click the\n\"Open Examples\" button below.\n\u001b[0;31m---------------------------------------------------------------------------\u001b[0m\n"
          ],
          "errorDetails": {
            "actions": [
              {
                "action": "open_url",
                "actionText": "Open Examples",
                "url": "/notebooks/snippets/importing_libraries.ipynb"
              }
            ]
          }
        }
      ]
    },
    {
      "cell_type": "code",
      "source": [
        "import json\n",
        "from SPARQLWrapper import SPARQLWrapper, JSON\n",
        "\n",
        "# Set up Wikidata SPARQL endpoint\n",
        "SPARQL_ENDPOINT = \"https://query.wikidata.org/sparql\"\n",
        "\n",
        "def query_wikidata_label(qid):\n",
        "    time.sleep(1)\n",
        "    \"\"\"Query Wikidata for the label of an entity based on its QID\"\"\"\n",
        "    query = f\"\"\"\n",
        "    SELECT ?label WHERE {{\n",
        "      wd:{qid} rdfs:label ?label.\n",
        "      FILTER(LANG(?label) = \"en\")\n",
        "    }}\n",
        "    \"\"\"\n",
        "    sparql = SPARQLWrapper(SPARQL_ENDPOINT)\n",
        "    sparql.setQuery(query)\n",
        "    sparql.setReturnFormat(JSON)\n",
        "    results = sparql.query().convert()\n",
        "\n",
        "    # If label found, return it, otherwise return None\n",
        "    if results[\"results\"][\"bindings\"]:\n",
        "        return results[\"results\"][\"bindings\"][0][\"label\"][\"value\"]\n",
        "    return None\n",
        "\n",
        "def update_modality_labels(dataset):\n",
        "    \"\"\"Update the modality entries with the true label from Wikidata\"\"\"\n",
        "    for entry in dataset:\n",
        "        modality_qid = entry.get(\"wikidata_id\")\n",
        "        if modality_qid:\n",
        "            # Query Wikidata for the label\n",
        "            label = query_wikidata_label(modality_qid)\n",
        "            if label:\n",
        "                # Add the label to the modality entry as wikidata_true_label\n",
        "                entry[\"wikidata_true_label\"] = label\n",
        "            else:\n",
        "                print(f\"No label found for QID: {modality_qid}\")\n",
        "        else:\n",
        "            print(f\"No wikidata_id found for modality: {entry.get('modality')}\")\n",
        "\n",
        "    return dataset\n",
        "\n",
        "# Load the updated_matched_modalities_data_types.json file\n",
        "with open('updated_matched_modalities_data_types.json', 'r') as f:\n",
        "    dataset = json.load(f)\n",
        "\n",
        "# Update modality labels\n",
        "updated_dataset = update_modality_labels(dataset)\n",
        "\n",
        "# Save the updated dataset to a new JSON file\n",
        "with open('updated_modalities_with_true_labels.json', 'w') as f:\n",
        "    json.dump(updated_dataset, f, indent=4)\n",
        "\n",
        "print(\"Updated dataset saved to updated_modalities_with_true_labels.json\")"
      ],
      "metadata": {
        "colab": {
          "base_uri": "https://localhost:8080/"
        },
        "id": "dd7eUNmJ8wHL",
        "outputId": "1b8e5e57-0e90-4004-d264-3ac9b0d6df5c"
      },
      "execution_count": null,
      "outputs": [
        {
          "output_type": "stream",
          "name": "stdout",
          "text": [
            "Updated dataset saved to updated_modalities_with_true_labels.json\n"
          ]
        }
      ]
    },
    {
      "cell_type": "code",
      "source": [
        "from rdflib import Namespace, Graph, RDF, RDFS, Literal\n",
        "import json\n",
        "from SPARQLWrapper import SPARQLWrapper, JSON\n",
        "\n",
        "# Set up Wikidata SPARQL endpoint\n",
        "SPARQL_ENDPOINT = \"https://query.wikidata.org/sparql\"\n",
        "\n",
        "# From label get qid\n",
        "def get_qid(label):\n",
        "    \"\"\"Get the QID of an entity based on its label.\"\"\"\n",
        "    time.sleep(1)\n",
        "    logging.info(f\"Fetching QID for label: {label}\")\n",
        "    query = f\"\"\"\n",
        "    SELECT ?entity WHERE {{\n",
        "      ?entity rdfs:label \"{label}\"@en.\n",
        "      FILTER (STRSTARTS(STR(?entity), \"http://www.wikidata.org/entity/Q\"))\n",
        "    }}\n",
        "    LIMIT 1\n",
        "    \"\"\"\n",
        "    sparql = SPARQLWrapper(SPARQL_ENDPOINT)\n",
        "    sparql.setQuery(query)\n",
        "    sparql.setReturnFormat(JSON)\n",
        "    results = sparql.query().convert()\n",
        "\n",
        "    if results[\"results\"][\"bindings\"]:\n",
        "        qid = results[\"results\"][\"bindings\"][0][\"entity\"][\"value\"].split(\"/\")[-1]\n",
        "        logging.info(f\"Found QID for {label}: {qid}\")\n",
        "        return qid\n",
        "    else:\n",
        "        logging.warning(f\"No QID found for label: {label}\")\n",
        "    return None\n",
        "\n",
        "# Define namespaces\n",
        "MP = Namespace(\"http://masterproject.org/\")\n",
        "WIKIDATA = Namespace(\"http://www.wikidata.org/\")\n",
        "\n",
        "# Create RDF graph\n",
        "g = Graph()\n",
        "g.bind(\"mp\", MP)\n",
        "g.bind(\"wikidata\", WIKIDATA)\n",
        "\n",
        "# Avoid duplicate queries\n",
        "queried_nodes = set()\n",
        "\n",
        "# List of relevant properties\n",
        "RELEVANT_PROPERTIES = [\n",
        "    \"P31\", \"P279\", \"P361\", \"P1269\", \"P527\", \"P2670\", \"P2701\", \"P1163\",\n",
        "    \"P1195\", \"P4330\", \"P366\", \"P1535\", \"P101\", \"P921\", \"P1552\", \"P13044\",\n",
        "    \"P3575\"]\n",
        "\n",
        "def query_wikidata_properties(qid):\n",
        "    \"\"\"Query Wikidata properties for a given entity\"\"\"\n",
        "    if qid in queried_nodes:\n",
        "        return []\n",
        "    queried_nodes.add(qid)\n",
        "\n",
        "    query = f\"\"\"\n",
        "    SELECT ?property ?propertyLabel ?value ?valueLabel WHERE {{\n",
        "      wd:{qid} ?p ?value.\n",
        "      ?property wikibase:directClaim ?p.\n",
        "      FILTER (?property IN (wd:{\", wd:\".join(RELEVANT_PROPERTIES)}))\n",
        "      OPTIONAL {{ ?value rdfs:label ?valueLabel. FILTER(LANG(?valueLabel) = \"en\") }}\n",
        "      SERVICE wikibase:label {{ bd:serviceParam wikibase:language \"en\". }}\n",
        "    }}\n",
        "    \"\"\"\n",
        "    sparql = SPARQLWrapper(SPARQL_ENDPOINT)\n",
        "    sparql.setQuery(query)\n",
        "    sparql.setReturnFormat(JSON)\n",
        "    results = sparql.query().convert()\n",
        "    return results[\"results\"][\"bindings\"]\n",
        "\n",
        "def recursive_query(qid, label=None, depth=0, max_depth=3):\n",
        "    \"\"\"Recursively query and construct the knowledge graph\"\"\"\n",
        "    if depth > max_depth:\n",
        "        return\n",
        "\n",
        "    # Query entity properties\n",
        "    results = query_wikidata_properties(qid)\n",
        "\n",
        "    for result in results:\n",
        "        prop = result[\"propertyLabel\"][\"value\"].replace(\" \", \"_\").replace(\"(\", \"_\").replace(\")\", \"_\")\n",
        "        value = result.get(\"valueLabel\", {}).get(\"value\", result[\"value\"][\"value\"])\n",
        "        value_uri = result[\"value\"][\"value\"]\n",
        "\n",
        "        # Create the full URL for the property (wikidata.org/wiki/Property:PXX)\n",
        "        property_uri = f\"https://www.wikidata.org/wiki/Property:{prop}\"\n",
        "\n",
        "        # Check if the value is a Wikidata entity\n",
        "        if \"wikidata.org/entity/\" in value_uri:\n",
        "            value_qid = value_uri.split(\"/\")[-1]\n",
        "\n",
        "            # Create new node of type NewNode if it has not been queried\n",
        "            if value_qid not in queried_nodes:\n",
        "                g.add((WIKIDATA[value_qid], RDF.type, MP.NewNode))  # Mark the new entity as NewNode\n",
        "                queried_nodes.add(value_qid)\n",
        "\n",
        "            # Only create relationships (edges) between nodes without adding properties\n",
        "            g.add((WIKIDATA[qid], URIRef(property_uri), WIKIDATA[value_qid]))\n",
        "            if label:\n",
        "                g.add((WIKIDATA[qid], RDFS.label, Literal(label)))\n",
        "            if value:\n",
        "                g.add((WIKIDATA[value_qid], RDFS.label, Literal(value)))\n",
        "\n",
        "            # Recursively query the new node\n",
        "            recursive_query(value_qid, label=value, depth=depth + 1, max_depth=max_depth)\n",
        "\n",
        "        # Handle relationships between properties and new nodes\n",
        "        if value_uri and \"wikidata.org/entity/\" in value_uri:\n",
        "            value_qid = value_uri.split(\"/\")[-1]\n",
        "            if value_qid not in queried_nodes:\n",
        "                g.add((WIKIDATA[value_qid], RDF.type, MP.NewNode))  # Mark the new entity as NewNode\n",
        "                queried_nodes.add(value_qid)\n",
        "\n",
        "            # Add edges based on RELEVANT_PROPERTIES between new nodes\n",
        "            g.add((WIKIDATA[qid], URIRef(property_uri), WIKIDATA[value_qid]))  # Add relationship edge\n",
        "\n",
        "def build_knowledge_graph(dataset, max_depth=3):\n",
        "    \"\"\"Build the knowledge graph from the dataset\"\"\"\n",
        "    for entry in dataset:\n",
        "        modality = entry[\"modality\"]\n",
        "        data_types = entry[\"data_types\"]\n",
        "\n",
        "        # Get QID for modality\n",
        "        modality_qid = get_qid(modality)\n",
        "        if modality_qid:\n",
        "            print(f\"Processing modality: {modality} (QID: {modality_qid})\")\n",
        "\n",
        "            # Add modality node to RDF graph and attach a label\n",
        "            g.add((WIKIDATA[modality_qid], RDF.type, MP.Modality))\n",
        "            g.add((WIKIDATA[modality_qid], RDFS.label, Literal(modality)))\n",
        "\n",
        "            # Recursively query modality properties\n",
        "            recursive_query(modality_qid, label=modality, depth=0, max_depth=max_depth)\n",
        "\n",
        "            # Handle data_types\n",
        "            for data_type, properties in data_types.items():\n",
        "                data_type_qid = properties.get(\"wikidata_id\")\n",
        "\n",
        "                if data_type_qid:\n",
        "                    # If the node exists as NewNode, change its type to Datatype\n",
        "                    if (WIKIDATA[data_type_qid], RDF.type, MP.NewNode) in g:\n",
        "                        g.remove((WIKIDATA[data_type_qid], RDF.type, MP.NewNode))\n",
        "\n",
        "                    # Add data_type node to RDF graph with properties\n",
        "                    g.add((WIKIDATA[data_type_qid], RDF.type, MP.Datatype))\n",
        "                    g.add((WIKIDATA[data_type_qid], RDFS.label, Literal(data_type)))\n",
        "                    g.add((WIKIDATA[data_type_qid], MP.frequency, Literal(properties.get(\"frequency\"))))\n",
        "                    g.add((WIKIDATA[data_type_qid], MP.QID, Literal(properties.get(\"wikidata_id\"))))\n",
        "                    g.add((WIKIDATA[data_type_qid], MP.wikidata_label, Literal(properties.get(\"wikidata_label\"))))\n",
        "                    g.add((WIKIDATA[data_type_qid], MP.wikidata_description, Literal(properties.get(\"wikidata_description\"))))\n",
        "\n",
        "                    # Create custom edge between modality and data_type\n",
        "                    g.add((WIKIDATA[modality_qid], MP[\"Modality_Datatype\"], WIKIDATA[data_type_qid]))\n",
        "\n",
        "                    # Recursively query data_type properties\n",
        "                    recursive_query(data_type_qid, label=data_type, depth=0, max_depth=max_depth)\n",
        "\n",
        "    # Save the knowledge graph as Turtle and OWL format\n",
        "    g.serialize(destination=\"knowledge_graph_with_labels.ttl\", format=\"turtle\")\n",
        "    print(\"Knowledge graph saved to knowledge_graph_with_labels.ttl\")\n",
        "\n",
        "    g.serialize(destination=\"knowledge_graph_with_labels.owl\", format=\"xml\")\n",
        "    print(\"Knowledge graph saved to knowledge_graph_with_labels.owl\")\n",
        "\n",
        "# Load the matched_modalities_data_types.json file\n",
        "with open('updated_matched_modalities_data_types.json', 'r') as f:\n",
        "    dataset = json.load(f)\n",
        "\n",
        "# Build the knowledge graph\n",
        "build_knowledge_graph(dataset, max_depth=3)"
      ],
      "metadata": {
        "id": "pweB77Vi725w"
      },
      "execution_count": null,
      "outputs": []
    },
    {
      "cell_type": "code",
      "source": [],
      "metadata": {
        "id": "BKZjhfo9EoSa"
      },
      "execution_count": null,
      "outputs": []
    },
    {
      "cell_type": "code",
      "source": [
        "from rdflib import Namespace, Graph, RDF, RDFS, Literal\n",
        "import json\n",
        "from SPARQLWrapper import SPARQLWrapper, JSON\n",
        "\n",
        "# Set up Wikidata SPARQL endpoint\n",
        "SPARQL_ENDPOINT = \"https://query.wikidata.org/sparql\"\n",
        "\n",
        "# From label get qid\n",
        "def get_qid(label):\n",
        "    \"\"\"Get the QID of an entity based on its label.\"\"\"\n",
        "    time.sleep(1)\n",
        "    logging.info(f\"Fetching QID for label: {label}\")\n",
        "    query = f\"\"\"\n",
        "    SELECT ?entity WHERE {{\n",
        "      ?entity rdfs:label \"{label}\"@en.\n",
        "      FILTER (STRSTARTS(STR(?entity), \"http://www.wikidata.org/entity/Q\"))\n",
        "    }}\n",
        "    LIMIT 1\n",
        "    \"\"\"\n",
        "    sparql = SPARQLWrapper(SPARQL_ENDPOINT)\n",
        "    sparql.setQuery(query)\n",
        "    sparql.setReturnFormat(JSON)\n",
        "    results = sparql.query().convert()\n",
        "\n",
        "    if results[\"results\"][\"bindings\"]:\n",
        "        qid = results[\"results\"][\"bindings\"][0][\"entity\"][\"value\"].split(\"/\")[-1]\n",
        "        logging.info(f\"Found QID for {label}: {qid}\")\n",
        "        return qid\n",
        "    else:\n",
        "        logging.warning(f\"No QID found for label: {label}\")\n",
        "    return None\n",
        "\n",
        "# Define namespaces\n",
        "MP = Namespace(\"http://masterproject.org/\")\n",
        "WIKIDATA = Namespace(\"http://www.wikidata.org/entity/\")\n",
        "\n",
        "# Create RDF graph\n",
        "g = Graph()\n",
        "g.bind(\"mp\", MP)\n",
        "g.bind(\"wikidata\", WIKIDATA)\n",
        "\n",
        "# Avoid duplicate queries\n",
        "queried_nodes = set()\n",
        "\n",
        "# List of relevant properties\n",
        "RELEVANT_PROPERTIES = [\n",
        "    \"P31\", \"P279\", \"P361\", \"P1269\", \"P527\", \"P2670\", \"P2701\", \"P1163\",\n",
        "    \"P1195\", \"P4330\", \"P366\", \"P1535\", \"P101\", \"P921\", \"P1552\", \"P13044\",\n",
        "    \"P3575\"]\n",
        "\n",
        "def query_wikidata_properties(qid):\n",
        "    # time.sleep(1)\n",
        "    \"\"\"Query Wikidata properties for a given entity\"\"\"\n",
        "    if qid in queried_nodes:\n",
        "        return []\n",
        "    queried_nodes.add(qid)\n",
        "\n",
        "    query = f\"\"\"\n",
        "    SELECT ?property ?propertyLabel ?value ?valueLabel WHERE {{\n",
        "      wd:{qid} ?p ?value.\n",
        "      ?property wikibase:directClaim ?p.\n",
        "      FILTER (?property IN (wd:{\", wd:\".join(RELEVANT_PROPERTIES)}))\n",
        "      OPTIONAL {{ ?value rdfs:label ?valueLabel. FILTER(LANG(?valueLabel) = \"en\") }}\n",
        "      SERVICE wikibase:label {{ bd:serviceParam wikibase:language \"en\". }}\n",
        "    }}\n",
        "    \"\"\"\n",
        "    sparql = SPARQLWrapper(SPARQL_ENDPOINT)\n",
        "    sparql.setQuery(query)\n",
        "    sparql.setReturnFormat(JSON)\n",
        "    # time.sleep(1)\n",
        "    results = sparql.query().convert()\n",
        "    return results[\"results\"][\"bindings\"]\n",
        "\n",
        "def recursive_query(qid, label=None, depth=0, max_depth=3):\n",
        "    \"\"\"Recursively query and construct the knowledge graph\"\"\"\n",
        "    if depth > max_depth:\n",
        "        return\n",
        "\n",
        "    # Query entity properties\n",
        "    results = query_wikidata_properties(qid)\n",
        "\n",
        "\n",
        "    for result in results:\n",
        "        # print(result[\"property\"][\"value\"].split('/')[-1])\n",
        "        prop = result[\"property\"][\"value\"].split('/')[-1]\n",
        "        # prop = result[\"propertyLabel\"][\"value\"].replace(\" \", \"_\").replace(\"(\", \"_\").replace(\")\", \"_\")\n",
        "        value = result.get(\"valueLabel\", {}).get(\"value\", result[\"value\"][\"value\"])\n",
        "        value_uri = result[\"value\"][\"value\"]\n",
        "\n",
        "        # Create the full URL for the property (wikidata.org/wiki/Property:PXX)\n",
        "        property_uri = f\"https://www.wikidata.org/wiki/{prop}\"\n",
        "\n",
        "        # Check if the value is a Wikidata entity\n",
        "        if \"wikidata.org/\" in value_uri:\n",
        "            value_qid = value_uri.split(\"/\")[-1]\n",
        "\n",
        "            # Create new node of type NewNode if it has not been queried\n",
        "            if value_qid not in queried_nodes:\n",
        "                g.add((WIKIDATA[value_qid], RDF.type, MP.NewNode))  # Mark the new entity as NewNode\n",
        "                queried_nodes.add(value_qid)\n",
        "\n",
        "            # Only create relationships (edges) between nodes without adding properties\n",
        "            g.add((WIKIDATA[qid], URIRef(property_uri), WIKIDATA[value_qid]))\n",
        "\n",
        "            # Add rdfs:label to edge (relationship)\n",
        "            g.add((WIKIDATA[qid], URIRef(property_uri), WIKIDATA[value_qid]))\n",
        "            g.add((WIKIDATA[qid], RDFS.label, Literal(result[\"propertyLabel\"][\"value\"])))  # Label for edge\n",
        "\n",
        "            if label:\n",
        "                g.add((WIKIDATA[qid], RDFS.label, Literal(label)))\n",
        "            if value:\n",
        "                g.add((WIKIDATA[value_qid], RDFS.label, Literal(value)))\n",
        "\n",
        "            # Recursively query the new node\n",
        "            recursive_query(value_qid, label=value, depth=depth + 1, max_depth=max_depth)\n",
        "\n",
        "        # Handle relationships between properties and new nodes\n",
        "        if value_uri and \"wikidata.org/entity/\" in value_uri:\n",
        "            value_qid = value_uri.split(\"/\")[-1]\n",
        "            if value_qid not in queried_nodes:\n",
        "                g.add((WIKIDATA[value_qid], RDF.type, MP.NewNode))  # Mark the new entity as NewNode\n",
        "                queried_nodes.add(value_qid)\n",
        "\n",
        "            # Add edges based on RELEVANT_PROPERTIES between new nodes\n",
        "            g.add((WIKIDATA[qid], URIRef(property_uri), WIKIDATA[value_qid]))  # Add relationship edge\n",
        "\n",
        "def build_knowledge_graph(dataset, max_depth=3):\n",
        "    \"\"\"Build the knowledge graph from the dataset\"\"\"\n",
        "    for entry in dataset:\n",
        "        modality = entry[\"modality\"]\n",
        "        data_types = entry[\"data_types\"]\n",
        "\n",
        "        # Get QID for modality\n",
        "        modality_qid = entry.get(\"wikidata_id\")  # Directly use the wikidata_id from the dataset\n",
        "        if modality_qid:\n",
        "            print(f\"Processing modality: {modality} (QID: {modality_qid})\")\n",
        "\n",
        "            # Add modality node to RDF graph and attach a label\n",
        "            g.add((WIKIDATA[modality_qid], RDF.type, MP.Modality))\n",
        "            g.add((WIKIDATA[modality_qid], RDFS.label, Literal(modality)))\n",
        "\n",
        "            # Recursively query modality properties\n",
        "            recursive_query(modality_qid, label=modality, depth=0, max_depth=max_depth)\n",
        "\n",
        "            # Handle data_types\n",
        "            for data_type, properties in data_types.items():\n",
        "                data_type_qid = properties.get(\"wikidata_id\")\n",
        "\n",
        "                if data_type_qid:\n",
        "                    # If the node exists as NewNode, change its type to Datatype\n",
        "                    if (WIKIDATA[data_type_qid], RDF.type, MP.NewNode) in g:\n",
        "                        g.remove((WIKIDATA[data_type_qid], RDF.type, MP.NewNode))\n",
        "\n",
        "                    # Add data_type node to RDF graph with properties\n",
        "                    g.add((WIKIDATA[data_type_qid], RDF.type, MP.Datatype))\n",
        "                    g.add((WIKIDATA[data_type_qid], RDFS.label, Literal(data_type)))\n",
        "                    g.add((WIKIDATA[data_type_qid], MP.frequency, Literal(properties.get(\"frequency\"))))\n",
        "                    g.add((WIKIDATA[data_type_qid], MP.QID, Literal(properties.get(\"wikidata_id\"))))\n",
        "                    g.add((WIKIDATA[data_type_qid], MP.wikidata_label, Literal(properties.get(\"wikidata_label\"))))\n",
        "                    g.add((WIKIDATA[data_type_qid], MP.wikidata_description, Literal(properties.get(\"wikidata_description\"))))\n",
        "\n",
        "                    # Create custom edge between modality and data_type\n",
        "                    g.add((WIKIDATA[modality_qid], MP[\"Modality_Datatype\"], WIKIDATA[data_type_qid]))\n",
        "\n",
        "                    # Recursively query data_type properties\n",
        "                    recursive_query(data_type_qid, label=data_type, depth=0, max_depth=max_depth)\n",
        "\n",
        "    # Save the knowledge graph as Turtle and OWL format\n",
        "    g.serialize(destination=\"knowledge_graph_with_labels.ttl\", format=\"turtle\")\n",
        "    print(\"Knowledge graph saved to knowledge_graph_with_labels.ttl\")\n",
        "\n",
        "    g.serialize(destination=\"knowledge_graph_with_labels.owl\", format=\"xml\")\n",
        "    print(\"Knowledge graph saved to knowledge_graph_with_labels.owl\")\n",
        "\n",
        "# Load the matched_modalities_data_types.json file\n",
        "with open('updated_modalities_with_true_labels.json', 'r') as f:\n",
        "    dataset = json.load(f)\n",
        "\n",
        "# Build the knowledge graph\n",
        "build_knowledge_graph(dataset, max_depth=2)"
      ],
      "metadata": {
        "colab": {
          "base_uri": "https://localhost:8080/"
        },
        "id": "30bxPooAEoyf",
        "outputId": "08e5c482-4183-441c-c64e-5a30991f602e"
      },
      "execution_count": null,
      "outputs": [
        {
          "output_type": "stream",
          "name": "stdout",
          "text": [
            "Processing modality: image (QID: Q478798)\n",
            "Processing modality: text (QID: Q234460)\n",
            "Processing modality: 3d model (QID: Q3859833)\n",
            "Processing modality: video (QID: Q625525)\n",
            "Processing modality: audio (QID: Q3500685)\n",
            "Processing modality: 3d point cloud (QID: Q1899648)\n",
            "Processing modality: numerical (QID: Q63116)\n",
            "Processing modality: metadata (QID: Q180160)\n",
            "Processing modality: link (QID: Q63617815)\n",
            "Processing modality: structured data (QID: Q26813700)\n",
            "Processing modality: annotation (QID: Q857525)\n",
            "Processing modality: depth (QID: Q930412)\n",
            "Processing modality: skeleton (QID: Q186190)\n",
            "Processing modality: inertial (QID: Q570607)\n",
            "Processing modality: sensor (QID: Q37453697)\n",
            "Processing modality: midi (QID: Q98777027)\n",
            "Processing modality: 3d (QID: Q108276326)\n",
            "Processing modality: 3d skeletal (QID: Q1813564)\n",
            "Processing modality: tabular (QID: Q13402984)\n",
            "Processing modality: graph (QID: Q98669280)\n",
            "Processing modality: 3d scan (QID: Q94701573)\n",
            "Processing modality: kinematic (QID: Q25215452)\n",
            "Processing modality: 3d structure (QID: Q3859833)\n",
            "Processing modality: network (QID: Q7000691)\n",
            "Processing modality: 3d skeleton (QID: Q7881)\n",
            "Processing modality: table (QID: Q14748)\n",
            "Processing modality: time series (QID: Q186588)\n",
            "Processing modality: simulation (QID: Q45045)\n",
            "Processing modality: lidar (QID: Q504027)\n",
            "Processing modality: radar (QID: Q47528)\n",
            "Processing modality: numeric (QID: Q3249849)\n",
            "Processing modality: signal (QID: Q19718090)\n",
            "Processing modality: data (QID: Q42848)\n",
            "Processing modality: point cloud (QID: Q1899648)\n",
            "Processing modality: vector (QID: Q107994)\n",
            "Processing modality: label (QID: Q722218)\n",
            "Processing modality: event stream (QID: Q104622942)\n",
            "Processing modality: chemical structure (QID: Q500256)\n",
            "Processing modality: physiological signal (QID: Q644240)\n",
            "Processing modality: geometry (QID: Q8087)\n",
            "Processing modality: camera (QID: Q15328)\n",
            "Processing modality: 3d annotation (QID: Q857525)\n",
            "Processing modality: motion capture (QID: Q676252)\n",
            "Processing modality: evaluation metric (QID: Q25211005)\n",
            "Processing modality: structured text (QID: Q1753738)\n",
            "Processing modality: spatial coordinate (QID: Q11210)\n",
            "Processing modality: eeg (QID: Q30643862)\n",
            "Processing modality: geolocation (QID: Q123349905)\n",
            "Processing modality: temporal (QID: Q98889848)\n",
            "Processing modality: multimodal (QID: Q1952416)\n",
            "Processing modality: gaze (QID: Q16870142)\n",
            "Processing modality: depth map (QID: Q2940499)\n",
            "Processing modality: sequence (QID: Q133250)\n",
            "Processing modality: trajectory (QID: Q193139)\n",
            "Processing modality: script (QID: Q3691017)\n",
            "Processing modality: neuroimaging (QID: Q551875)\n",
            "Processing modality: interactive environment (QID: Q956238)\n",
            "Processing modality: environment (QID: Q2249676)\n",
            "Processing modality: 3d simulation (QID: Q45045)\n",
            "Processing modality: social (QID: Q345367)\n",
            "Processing modality: location (QID: Q115095765)\n",
            "Processing modality: pose (QID: Q30603704)\n",
            "Processing modality: ground truth (QID: Q370766)\n",
            "Processing modality: visualization (QID: Q451553)\n",
            "Processing modality: interaction log (QID: Q949532)\n",
            "Processing modality: geospatial (QID: Q122074678)\n",
            "Processing modality: physiological (QID: Q521)\n",
            "Processing modality: binary (QID: Q4913864)\n",
            "Processing modality: biometric (QID: Q177765)\n",
            "Processing modality: interaction (QID: Q4641997)\n",
            "Processing modality: eye tracking (QID: Q970687)\n",
            "Processing modality: social network (QID: Q2715623)\n",
            "Processing modality: molecular (QID: Q11369)\n",
            "Processing modality: 3d pose (QID: Q1671968)\n",
            "Processing modality: event (QID: Q1656682)\n",
            "Processing modality: control (QID: Q338754)\n",
            "Processing modality: movement data (QID: Q124815680)\n",
            "Processing modality: synthetic data (QID: Q7662746)\n",
            "Processing modality: meta information (QID: Q180160)\n",
            "Processing modality: code (QID: Q37141227)\n",
            "Processing modality: genomic sequence (QID: Q104595271)\n",
            "Processing modality: knowledge graph (QID: Q33002955)\n",
            "Processing modality: gameplay (QID: Q1331296)\n",
            "Processing modality: physics (QID: Q413)\n",
            "Processing modality: matrix (QID: Q44337)\n",
            "Processing modality: motion (QID: Q452237)\n",
            "Processing modality: 3d layout (QID: Q671986)\n",
            "Processing modality: key point (QID: Q34961254)\n",
            "Processing modality: url (QID: Q42253)\n",
            "Processing modality: laser scan (QID: Q1361664)\n",
            "Processing modality: action (QID: Q2634111)\n",
            "Processing modality: map (QID: Q4006)\n",
            "Processing modality: user data (QID: Q3702971)\n",
            "Processing modality: 3d body skeleton (QID: Q7881)\n",
            "Processing modality: game (QID: Q11410)\n",
            "Processing modality: 3d motion (QID: Q79782)\n",
            "Processing modality: 3d mesh (QID: Q1154597)\n",
            "Processing modality: pose information (QID: Q1671968)\n",
            "Processing modality: temporal graph (QID: Q25303718)\n",
            "Processing modality: virtual environment (QID: Q55950686)\n",
            "Processing modality: mask (QID: Q161524)\n",
            "Processing modality: genomic (QID: Q222046)\n",
            "Processing modality: network traffic (QID: Q2516350)\n",
            "Processing modality: demographic (QID: Q37732)\n",
            "Processing modality: 3d point (QID: Q44946)\n",
            "Processing modality: 3D Model (QID: Q3859833)\n",
            "Processing modality: Annotation (QID: Q857525)\n",
            "Processing modality: web (QID: Q37564491)\n",
            "Processing modality: 3d pose annotation (QID: Q857525)\n",
            "Processing modality: optical flow (QID: Q736111)\n",
            "Processing modality: log (QID: Q39304236)\n",
            "Processing modality: model (QID: Q4610556)\n",
            "Processing modality: touch (QID: Q307221)\n",
            "Processing modality: eye gaze (QID: Q970687)\n",
            "Processing modality: body motion (QID: Q79782)\n",
            "Processing modality: 3d coordinate (QID: Q11210)\n",
            "Processing modality: feature vector (QID: Q1921842)\n",
            "Processing modality: analytic (QID: Q65311416)\n",
            "Processing modality: social context (QID: Q1571836)\n",
            "Processing modality: robot joint angle (QID: Q16000312)\n",
            "Processing modality: spatial (QID: Q11692743)\n",
            "Processing modality: robotics (QID: Q170978)\n",
            "Processing modality: user metadata (QID: Q180160)\n",
            "Processing modality: electromyography (QID: Q27710763)\n",
            "Processing modality: metrics (QID: Q12796440)\n",
            "Processing modality: visual (QID: Q162668)\n",
            "Processing modality: spatiotemporal (QID: Q133327)\n",
            "Processing modality: calibration (QID: Q736777)\n",
            "Processing modality: container (QID: Q1643805)\n",
            "Processing modality: file (QID: Q193142)\n",
            "Processing modality: software (QID: Q7397)\n",
            "Processing modality: sketch (QID: Q5078274)\n",
            "Processing modality: edge map (QID: Q1513153)\n",
            "Processing modality: segmentation (QID: Q1423946)\n",
            "Processing modality: application (QID: Q166142)\n",
            "Processing modality: meteorological (QID: Q25261)\n",
            "Processing modality: result (QID: Q2995644)\n",
            "Processing modality: structural (QID: Q6671777)\n",
            "Processing modality: biochemical (QID: Q124892534)\n",
            "Processing modality: genetic (QID: Q7162)\n",
            "Processing modality: 2d structure (QID: Q6671777)\n",
            "Processing modality: chemical (QID: Q2329)\n",
            "Processing modality: neural (QID: Q57032909)\n",
            "Processing modality: camera pose (QID: Q2933935)\n",
            "Processing modality: virtual reality (QID: Q170519)\n",
            "Processing modality: feature (QID: Q814254)\n",
            "Processing modality: network flow (QID: Q1412924)\n",
            "Processing modality: system log (QID: Q949532)\n",
            "Processing modality: categorical (QID: Q2285707)\n",
            "Processing modality: environmental condition (QID: Q110792565)\n",
            "Processing modality: 3d trajectory (QID: Q193139)\n",
            "Processing modality: tactile (QID: Q28136816)\n",
            "Processing modality: procedurally generated data (QID: Q655427)\n",
            "Processing modality: biological (QID: Q420)\n",
            "Processing modality: syntactic analysis (QID: Q194152)\n",
            "Processing modality: 3d lidar (QID: Q504027)\n",
            "Processing modality: notebook (QID: Q43013)\n",
            "Processing modality: geographical (QID: Q1071)\n",
            "Processing modality: radio frequency (QID: Q3396184)\n",
            "Processing modality: embedding (QID: Q980509)\n",
            "Processing modality: index (QID: Q873506)\n",
            "Processing modality: 3d scalar field (QID: Q193460)\n",
            "Processing modality: emotion (QID: Q5373749)\n",
            "Processing modality: web structure (QID: Q7978783)\n",
            "Processing modality: reference (QID: Q121769)\n",
            "Processing modality: electrophysiological (QID: Q179965)\n",
            "Processing modality: gnss (QID: Q179435)\n",
            "Processing modality: imu (QID: Q26203674)\n",
            "Processing modality: kinesthetic (QID: Q1742319)\n",
            "Processing modality: gnss/ins (QID: Q179435)\n",
            "Processing modality: activity (QID: Q1914636)\n",
            "Processing modality: time (QID: Q43297)\n",
            "Processing modality: knowledge base (QID: Q593744)\n",
            "Processing modality: reconstruction (QID: Q2478058)\n",
            "Processing modality: semantic representation (QID: Q39645)\n",
            "Processing modality: biomarker (QID: Q864574)\n",
            "Processing modality: list (QID: Q1828075)\n",
            "Processing modality: neurophysiological (QID: Q660910)\n",
            "Processing modality: behavioral (QID: Q9332)\n",
            "Processing modality: surface normals (QID: Q273176)\n",
            "Processing modality: dynamical (QID: Q128030)\n",
            "Processing modality: symbolic (QID: Q919092)\n",
            "Processing modality: 3d object (QID: Q35459920)\n",
            "Processing modality: spectra (QID: Q130556645)\n",
            "Processing modality: 3d environment (QID: Q55950686)\n",
            "Processing modality: bioassay data (QID: Q864212)\n",
            "Processing modality: protein structure (QID: Q735188)\n",
            "Processing modality: real world data (QID: Q55631277)\n",
            "Processing modality: document (QID: Q49848)\n",
            "Processing modality: sequential data (QID: Q186588)\n",
            "Processing modality: bounding box (QID: Q1434060)\n",
            "Processing modality: timestamp (QID: Q186885)\n",
            "Processing modality: wireless (QID: Q8026812)\n",
            "Processing modality: 3d motion capture (QID: Q676252)\n",
            "Processing modality: state tracking (QID: Q599031)\n",
            "Processing modality: positional data (QID: Q60474237)\n",
            "Processing modality: gps (QID: Q368785)\n",
            "Processing modality: biosample (QID: Q96797376)\n",
            "Processing modality: anatomical (QID: Q514)\n",
            "Processing modality: fmri (QID: Q18615495)\n",
            "Processing modality: eog (QID: Q420647)\n",
            "Processing modality: ecg (QID: Q79785)\n",
            "Processing modality: cwl (QID: Q56291707)\n",
            "Processing modality: control stream (QID: Q868299)\n",
            "Processing modality: other (QID: Q86630688)\n",
            "Processing modality: 4d (QID: Q20685814)\n",
            "Processing modality: database (QID: Q8513)\n",
            "Processing modality: box (QID: Q16860308)\n",
            "Processing modality: identifier (QID: Q853614)\n",
            "Processing modality: scalar field (QID: Q193460)\n",
            "Processing modality: animation (QID: Q11425)\n",
            "Processing modality: nirs (QID: Q131462388)\n",
            "Processing modality: respiration (QID: Q15753091)\n",
            "Processing modality: brain signal (QID: Q179965)\n",
            "Processing modality: sign language (QID: Q34228)\n",
            "Processing modality: 2d (QID: Q5651824)\n",
            "Processing modality: haptic (QID: Q119732988)\n",
            "Processing modality: 3d model parameter (QID: Q3859833)\n",
            "Processing modality: data stream (QID: Q1172540)\n",
            "Processing modality: segmentation map (QID: Q56933)\n",
            "Processing modality: geo information (QID: Q5915793)\n",
            "Processing modality: segmentation mask (QID: Q56933)\n",
            "Processing modality: motion tracking (QID: Q676252)\n",
            "Processing modality: drive (QID: Q125338722)\n",
            "Processing modality: odometry (QID: Q2014717)\n",
            "Processing modality: gesture (QID: Q371174)\n",
            "Processing modality: external tool (QID: Q39546)\n",
            "Processing modality: blockchain (QID: Q20514253)\n",
            "Processing modality: 3d landmark (QID: Q4895393)\n",
            "Processing modality: saliency map (QID: Q1469792)\n",
            "Processing modality: spiking neural data (QID: Q9067355)\n",
            "Processing modality: polarisation (QID: Q121463492)\n",
            "Processing modality: audiovisual (QID: Q758901)\n",
            "Processing modality: model prediction (QID: Q7239673)\n",
            "Processing modality: alpha matte (QID: Q693457)\n",
            "Processing modality: configuration (QID: Q1866689)\n",
            "Processing modality: data array (QID: Q186152)\n",
            "Processing modality: symbol (QID: Q80071)\n",
            "Processing modality: network capture (QID: Q285459)\n",
            "Processing modality: radio (QID: Q37169573)\n",
            "Processing modality: 2d image (QID: Q478798)\n",
            "Processing modality: multilingual (QID: Q96716753)\n",
            "Processing modality: physical interaction (QID: Q104934)\n",
            "Processing modality: vr (QID: Q170519)\n",
            "Processing modality: raster (QID: Q66043426)\n",
            "Processing modality: algorithm (QID: Q8366)\n",
            "Processing modality: camera parameter (QID: Q5026015)\n",
            "Processing modality: json (QID: Q2063)\n",
            "Processing modality: protein (QID: Q8054)\n",
            "Processing modality: epigenetic (QID: Q26939)\n",
            "Processing modality: virtual api (QID: Q165194)\n",
            "Processing modality: interactive (QID: Q1636759)\n",
            "Processing modality: text-image interaction (QID: Q738567)\n",
            "Processing modality: temporal sequence (QID: Q186588)\n",
            "Processing modality: structure (QID: Q15709970)\n",
            "Processing modality: data file (QID: Q5227290)\n",
            "Processing modality: spatial relation (QID: Q2178623)\n",
            "Processing modality: grounding (QID: Q14920473)\n",
            "Processing modality: parameter (QID: Q1413083)\n",
            "Processing modality: biosignal (QID: Q644240)\n",
            "Processing modality: magnetoencephalography (QID: Q384188)\n",
            "Knowledge graph saved to knowledge_graph_with_labels.ttl\n",
            "Knowledge graph saved to knowledge_graph_with_labels.owl\n"
          ]
        }
      ]
    },
    {
      "cell_type": "markdown",
      "source": [
        "## Modify Node Type"
      ],
      "metadata": {
        "id": "P4cIUClfSvmk"
      }
    },
    {
      "cell_type": "code",
      "source": [
        "from rdflib import Namespace, Graph, RDF, RDFS, Literal\n",
        "from rdflib.namespace import URIRef\n",
        "import json\n",
        "from SPARQLWrapper import SPARQLWrapper, JSON\n",
        "\n",
        "# Set up Wikidata SPARQL endpoint\n",
        "SPARQL_ENDPOINT = \"https://query.wikidata.org/sparql\"\n",
        "\n",
        "# Define namespaces\n",
        "MP = Namespace(\"http://masterproject.org/\")\n",
        "WIKIDATA = Namespace(\"http://www.wikidata.org/entity/\")\n",
        "\n",
        "# Create RDF graph\n",
        "g = Graph()\n",
        "g.bind(\"mp\", MP)\n",
        "g.bind(\"wikidata\", WIKIDATA)\n",
        "\n",
        "# Avoid duplicate queries\n",
        "queried_nodes = set()\n",
        "\n",
        "# List of relevant properties\n",
        "RELEVANT_PROPERTIES = [\n",
        "    \"P31\", \"P279\", \"P361\", \"P1269\", \"P527\", \"P2670\", \"P2701\", \"P1163\",\n",
        "    \"P1195\", \"P4330\", \"P366\", \"P1535\", \"P101\", \"P921\", \"P1552\", \"P13044\",\n",
        "    \"P3575\"]\n",
        "\n",
        "def query_wikidata_properties(qid):\n",
        "    \"\"\"Query Wikidata properties for a given entity\"\"\"\n",
        "    if qid in queried_nodes:\n",
        "        return []\n",
        "    queried_nodes.add(qid)\n",
        "\n",
        "    query = f\"\"\"\n",
        "    SELECT ?property ?propertyLabel ?value ?valueLabel WHERE {{\n",
        "      wd:{qid} ?p ?value.\n",
        "      ?property wikibase:directClaim ?p.\n",
        "      FILTER (?property IN (wd:{\", wd:\".join(RELEVANT_PROPERTIES)}))\n",
        "      OPTIONAL {{ ?value rdfs:label ?valueLabel. FILTER(LANG(?valueLabel) = \"en\") }}\n",
        "      SERVICE wikibase:label {{ bd:serviceParam wikibase:language \"en\". }}\n",
        "    }}\n",
        "    \"\"\"\n",
        "    sparql = SPARQLWrapper(SPARQL_ENDPOINT)\n",
        "    sparql.setQuery(query)\n",
        "    sparql.setReturnFormat(JSON)\n",
        "    results = sparql.query().convert()\n",
        "    return results[\"results\"][\"bindings\"]\n",
        "\n",
        "def recursive_query(qid, label=None, depth=0, max_depth=3, dataset=None):\n",
        "    \"\"\"Recursively query and construct the knowledge graph\"\"\"\n",
        "    if depth > max_depth:\n",
        "        return\n",
        "\n",
        "    # Query entity properties\n",
        "    results = query_wikidata_properties(qid)\n",
        "\n",
        "    for result in results:\n",
        "        prop = result[\"property\"][\"value\"].split('/')[-1]\n",
        "        value = result.get(\"valueLabel\", {}).get(\"value\", result[\"value\"][\"value\"])\n",
        "        value_uri = result[\"value\"][\"value\"]\n",
        "        property_uri = f\"https://www.wikidata.org/wiki/{prop}\"\n",
        "\n",
        "        if \"wikidata.org/\" in value_uri:\n",
        "            value_qid = value_uri.split(\"/\")[-1]\n",
        "\n",
        "            # Process value as NewNode if not already queried\n",
        "            if not any(value_qid == entry.get(\"wikidata_id\") or value_qid in [dt.get(\"wikidata_id\") for dt in entry[\"data_types\"].values()] for entry in dataset):\n",
        "                if value_qid not in queried_nodes:\n",
        "                    g.add((WIKIDATA[value_qid], RDF.type, MP.NewNode))\n",
        "                    g.add((WIKIDATA[value_qid], RDFS.label, Literal(value)))\n",
        "\n",
        "            g.add((WIKIDATA[qid], URIRef(property_uri), WIKIDATA[value_qid]))\n",
        "            g.add((URIRef(property_uri), RDFS.label, Literal(result[\"propertyLabel\"][\"value\"])))\n",
        "\n",
        "            if label:\n",
        "                g.add((WIKIDATA[qid], RDFS.label, Literal(label)))\n",
        "            if value:\n",
        "                g.add((WIKIDATA[value_qid], RDFS.label, Literal(value)))\n",
        "\n",
        "            recursive_query(value_qid, label=value, depth=depth + 1, max_depth=max_depth, dataset=dataset)\n",
        "\n",
        "        if value_uri and \"wikidata.org/entity/\" in value_uri:\n",
        "            value_qid = value_uri.split(\"/\")[-1]\n",
        "            if value_qid not in queried_nodes:\n",
        "                g.add((WIKIDATA[value_qid], RDF.type, MP.NewNode))\n",
        "                queried_nodes.add(value_qid)\n",
        "\n",
        "            g.add((WIKIDATA[qid], URIRef(property_uri), WIKIDATA[value_qid]))\n",
        "            g.add((URIRef(property_uri), RDFS.label, Literal(result[\"propertyLabel\"][\"value\"])))\n",
        "\n",
        "def process_modality_node(modality_qid, modality):\n",
        "    \"\"\"Process a modality node with necessary checks and relations\"\"\"\n",
        "    if not any(entry[\"wikidata_id\"] == modality_qid for entry in dataset):\n",
        "        return\n",
        "\n",
        "    if (WIKIDATA[modality_qid], RDF.type, MP.Modality) in g:\n",
        "        return\n",
        "\n",
        "    if (WIKIDATA[modality_qid], RDF.type, MP.NewNode) in g:\n",
        "        g.remove((WIKIDATA[modality_qid], RDF.type, MP.NewNode))\n",
        "\n",
        "    g.add((WIKIDATA[modality_qid], RDF.type, MP.Modality))\n",
        "    g.add((WIKIDATA[modality_qid], RDFS.label, Literal(modality)))\n",
        "    recursive_query(modality_qid, label=modality, dataset=dataset)\n",
        "\n",
        "def process_datatype_node(data_type_qid, data_type, properties):\n",
        "    \"\"\"Process a datatype node with necessary checks and relations\"\"\"\n",
        "    if not any(data_type_qid == dt.get(\"wikidata_id\") for entry in dataset for dt in entry[\"data_types\"].values()):\n",
        "        return\n",
        "\n",
        "    if (WIKIDATA[data_type_qid], RDF.type, MP.Modality) in g:\n",
        "        return\n",
        "\n",
        "    if (WIKIDATA[data_type_qid], RDF.type, MP.NewNode) in g:\n",
        "        g.remove((WIKIDATA[data_type_qid], RDF.type, MP.NewNode))\n",
        "\n",
        "    g.add((WIKIDATA[data_type_qid], RDF.type, MP.Datatype))\n",
        "    g.add((WIKIDATA[data_type_qid], RDFS.label, Literal(data_type)))\n",
        "    g.add((WIKIDATA[data_type_qid], MP.frequency, Literal(properties.get(\"frequency\"))))\n",
        "    g.add((WIKIDATA[data_type_qid], MP.QID, Literal(properties.get(\"wikidata_id\"))))\n",
        "    g.add((WIKIDATA[data_type_qid], MP.wikidata_label, Literal(properties.get(\"wikidata_label\"))))\n",
        "    g.add((WIKIDATA[data_type_qid], MP.wikidata_description, Literal(properties.get(\"wikidata_description\"))))\n",
        "\n",
        "    recursive_query(data_type_qid, label=data_type, dataset=dataset)\n",
        "\n",
        "def build_knowledge_graph(dataset, max_depth=3):\n",
        "    # print(f\"Depth: {depth}\")\n",
        "    \"\"\"Build the knowledge graph from the dataset\"\"\"\n",
        "    for entry in dataset:\n",
        "        modality = entry[\"modality\"]\n",
        "        data_types = entry[\"data_types\"]\n",
        "\n",
        "        # Process Modality\n",
        "        modality_qid = entry.get(\"wikidata_id\")\n",
        "        if modality_qid:\n",
        "            print(f\"Processing modality: {modality} (QID: {modality_qid})\")\n",
        "            process_modality_node(modality_qid, modality)\n",
        "\n",
        "            # Process DataTypes related to Modality\n",
        "            for data_type, properties in data_types.items():\n",
        "                data_type_qid = properties.get(\"wikidata_id\")\n",
        "                if data_type_qid:\n",
        "                    # print(f\"Processing datatype: {data_type} (QID: {data_type_qid})\")\n",
        "                    process_datatype_node(data_type_qid, data_type, properties)\n",
        "                    g.add((WIKIDATA[modality_qid], MP[\"Modality_Datatype\"], WIKIDATA[data_type_qid]))\n",
        "\n",
        "    # Save the knowledge graph as Turtle and OWL format\n",
        "    g.serialize(destination=\"knowledge_graph_with_labels.ttl\", format=\"turtle\")\n",
        "    print(\"Knowledge graph saved to knowledge_graph_with_labels.ttl\")\n",
        "\n",
        "    g.serialize(destination=\"knowledge_graph_with_labels.owl\", format=\"xml\")\n",
        "    print(\"Knowledge graph saved to knowledge_graph_with_labels.owl\")\n",
        "\n",
        "# Load the dataset and build the knowledge graph\n",
        "with open('updated_modalities_with_true_labels.json', 'r') as f:\n",
        "    dataset = json.load(f)\n",
        "\n",
        "build_knowledge_graph(dataset, max_depth=2)"
      ],
      "metadata": {
        "colab": {
          "base_uri": "https://localhost:8080/"
        },
        "id": "Y9Vs6tHxRZly",
        "outputId": "19f20ac8-af62-4658-8322-69f7a686c770"
      },
      "execution_count": null,
      "outputs": [
        {
          "output_type": "stream",
          "name": "stdout",
          "text": [
            "Processing modality: image (QID: Q478798)\n",
            "Processing modality: text (QID: Q234460)\n",
            "Processing modality: 3d model (QID: Q3859833)\n",
            "Processing modality: video (QID: Q625525)\n",
            "Processing modality: audio (QID: Q3500685)\n",
            "Processing modality: 3d point cloud (QID: Q1899648)\n",
            "Processing modality: numerical (QID: Q63116)\n",
            "Processing modality: metadata (QID: Q180160)\n",
            "Processing modality: link (QID: Q63617815)\n",
            "Processing modality: structured data (QID: Q26813700)\n",
            "Processing modality: annotation (QID: Q857525)\n",
            "Processing modality: depth (QID: Q930412)\n",
            "Processing modality: skeleton (QID: Q186190)\n",
            "Processing modality: inertial (QID: Q570607)\n",
            "Processing modality: sensor (QID: Q37453697)\n",
            "Processing modality: midi (QID: Q98777027)\n",
            "Processing modality: 3d (QID: Q108276326)\n",
            "Processing modality: 3d skeletal (QID: Q1813564)\n",
            "Processing modality: tabular (QID: Q13402984)\n",
            "Processing modality: graph (QID: Q98669280)\n",
            "Processing modality: 3d scan (QID: Q94701573)\n",
            "Processing modality: kinematic (QID: Q25215452)\n",
            "Processing modality: 3d structure (QID: Q3859833)\n",
            "Processing modality: network (QID: Q7000691)\n",
            "Processing modality: 3d skeleton (QID: Q7881)\n",
            "Processing modality: table (QID: Q14748)\n",
            "Processing modality: time series (QID: Q186588)\n",
            "Processing modality: simulation (QID: Q45045)\n",
            "Processing modality: lidar (QID: Q504027)\n",
            "Processing modality: radar (QID: Q47528)\n",
            "Processing modality: numeric (QID: Q3249849)\n",
            "Processing modality: signal (QID: Q19718090)\n",
            "Processing modality: data (QID: Q42848)\n",
            "Processing modality: point cloud (QID: Q1899648)\n",
            "Processing modality: vector (QID: Q107994)\n",
            "Processing modality: label (QID: Q722218)\n",
            "Processing modality: event stream (QID: Q104622942)\n",
            "Processing modality: chemical structure (QID: Q500256)\n",
            "Processing modality: physiological signal (QID: Q644240)\n",
            "Processing modality: geometry (QID: Q8087)\n",
            "Processing modality: camera (QID: Q15328)\n",
            "Processing modality: 3d annotation (QID: Q857525)\n",
            "Processing modality: motion capture (QID: Q676252)\n",
            "Processing modality: evaluation metric (QID: Q25211005)\n",
            "Processing modality: structured text (QID: Q1753738)\n",
            "Processing modality: spatial coordinate (QID: Q11210)\n",
            "Processing modality: eeg (QID: Q30643862)\n",
            "Processing modality: geolocation (QID: Q123349905)\n",
            "Processing modality: temporal (QID: Q98889848)\n",
            "Processing modality: multimodal (QID: Q1952416)\n",
            "Processing modality: gaze (QID: Q16870142)\n",
            "Processing modality: depth map (QID: Q2940499)\n",
            "Processing modality: sequence (QID: Q133250)\n",
            "Processing modality: trajectory (QID: Q193139)\n",
            "Processing modality: script (QID: Q3691017)\n",
            "Processing modality: neuroimaging (QID: Q551875)\n",
            "Processing modality: interactive environment (QID: Q956238)\n",
            "Processing modality: environment (QID: Q2249676)\n",
            "Processing modality: 3d simulation (QID: Q45045)\n",
            "Processing modality: social (QID: Q345367)\n",
            "Processing modality: location (QID: Q115095765)\n",
            "Processing modality: pose (QID: Q30603704)\n",
            "Processing modality: ground truth (QID: Q370766)\n",
            "Processing modality: visualization (QID: Q451553)\n",
            "Processing modality: interaction log (QID: Q949532)\n",
            "Processing modality: geospatial (QID: Q122074678)\n",
            "Processing modality: physiological (QID: Q521)\n",
            "Processing modality: binary (QID: Q4913864)\n",
            "Processing modality: biometric (QID: Q177765)\n",
            "Processing modality: interaction (QID: Q4641997)\n",
            "Processing modality: eye tracking (QID: Q970687)\n",
            "Processing modality: social network (QID: Q2715623)\n",
            "Processing modality: molecular (QID: Q11369)\n",
            "Processing modality: 3d pose (QID: Q1671968)\n",
            "Processing modality: event (QID: Q1656682)\n",
            "Processing modality: control (QID: Q338754)\n",
            "Processing modality: movement data (QID: Q124815680)\n",
            "Processing modality: synthetic data (QID: Q7662746)\n",
            "Processing modality: meta information (QID: Q180160)\n",
            "Processing modality: code (QID: Q37141227)\n",
            "Processing modality: genomic sequence (QID: Q104595271)\n",
            "Processing modality: knowledge graph (QID: Q33002955)\n",
            "Processing modality: gameplay (QID: Q1331296)\n",
            "Processing modality: physics (QID: Q413)\n",
            "Processing modality: matrix (QID: Q44337)\n",
            "Processing modality: motion (QID: Q452237)\n",
            "Processing modality: 3d layout (QID: Q671986)\n",
            "Processing modality: key point (QID: Q34961254)\n",
            "Processing modality: url (QID: Q42253)\n",
            "Processing modality: laser scan (QID: Q1361664)\n",
            "Processing modality: action (QID: Q2634111)\n",
            "Processing modality: map (QID: Q4006)\n",
            "Processing modality: user data (QID: Q3702971)\n",
            "Processing modality: 3d body skeleton (QID: Q7881)\n",
            "Processing modality: game (QID: Q11410)\n",
            "Processing modality: 3d motion (QID: Q79782)\n",
            "Processing modality: 3d mesh (QID: Q1154597)\n",
            "Processing modality: pose information (QID: Q1671968)\n",
            "Processing modality: temporal graph (QID: Q25303718)\n",
            "Processing modality: virtual environment (QID: Q55950686)\n",
            "Processing modality: mask (QID: Q161524)\n",
            "Processing modality: genomic (QID: Q222046)\n",
            "Processing modality: network traffic (QID: Q2516350)\n",
            "Processing modality: demographic (QID: Q37732)\n",
            "Processing modality: 3d point (QID: Q44946)\n",
            "Processing modality: 3D Model (QID: Q3859833)\n",
            "Processing modality: Annotation (QID: Q857525)\n",
            "Processing modality: web (QID: Q37564491)\n",
            "Processing modality: 3d pose annotation (QID: Q857525)\n",
            "Processing modality: optical flow (QID: Q736111)\n",
            "Processing modality: log (QID: Q39304236)\n",
            "Processing modality: model (QID: Q4610556)\n",
            "Processing modality: touch (QID: Q307221)\n",
            "Processing modality: eye gaze (QID: Q970687)\n",
            "Processing modality: body motion (QID: Q79782)\n",
            "Processing modality: 3d coordinate (QID: Q11210)\n",
            "Processing modality: feature vector (QID: Q1921842)\n",
            "Processing modality: analytic (QID: Q65311416)\n",
            "Processing modality: social context (QID: Q1571836)\n",
            "Processing modality: robot joint angle (QID: Q16000312)\n",
            "Processing modality: spatial (QID: Q11692743)\n",
            "Processing modality: robotics (QID: Q170978)\n",
            "Processing modality: user metadata (QID: Q180160)\n",
            "Processing modality: electromyography (QID: Q27710763)\n",
            "Processing modality: metrics (QID: Q12796440)\n",
            "Processing modality: visual (QID: Q162668)\n",
            "Processing modality: spatiotemporal (QID: Q133327)\n",
            "Processing modality: calibration (QID: Q736777)\n",
            "Processing modality: container (QID: Q1643805)\n",
            "Processing modality: file (QID: Q193142)\n",
            "Processing modality: software (QID: Q7397)\n",
            "Processing modality: sketch (QID: Q5078274)\n",
            "Processing modality: edge map (QID: Q1513153)\n",
            "Processing modality: segmentation (QID: Q1423946)\n",
            "Processing modality: application (QID: Q166142)\n",
            "Processing modality: meteorological (QID: Q25261)\n",
            "Processing modality: result (QID: Q2995644)\n",
            "Processing modality: structural (QID: Q6671777)\n",
            "Processing modality: biochemical (QID: Q124892534)\n",
            "Processing modality: genetic (QID: Q7162)\n",
            "Processing modality: 2d structure (QID: Q6671777)\n",
            "Processing modality: chemical (QID: Q2329)\n",
            "Processing modality: neural (QID: Q57032909)\n",
            "Processing modality: camera pose (QID: Q2933935)\n",
            "Processing modality: virtual reality (QID: Q170519)\n",
            "Processing modality: feature (QID: Q814254)\n",
            "Processing modality: network flow (QID: Q1412924)\n",
            "Processing modality: system log (QID: Q949532)\n",
            "Processing modality: categorical (QID: Q2285707)\n",
            "Processing modality: environmental condition (QID: Q110792565)\n",
            "Processing modality: 3d trajectory (QID: Q193139)\n",
            "Processing modality: tactile (QID: Q28136816)\n",
            "Processing modality: procedurally generated data (QID: Q655427)\n",
            "Processing modality: biological (QID: Q420)\n",
            "Processing modality: syntactic analysis (QID: Q194152)\n",
            "Processing modality: 3d lidar (QID: Q504027)\n",
            "Processing modality: notebook (QID: Q43013)\n",
            "Processing modality: geographical (QID: Q1071)\n",
            "Processing modality: radio frequency (QID: Q3396184)\n",
            "Processing modality: embedding (QID: Q980509)\n",
            "Processing modality: index (QID: Q873506)\n",
            "Processing modality: 3d scalar field (QID: Q193460)\n",
            "Processing modality: emotion (QID: Q5373749)\n",
            "Processing modality: web structure (QID: Q7978783)\n",
            "Processing modality: reference (QID: Q121769)\n",
            "Processing modality: electrophysiological (QID: Q179965)\n",
            "Processing modality: gnss (QID: Q179435)\n",
            "Processing modality: imu (QID: Q26203674)\n",
            "Processing modality: kinesthetic (QID: Q1742319)\n",
            "Processing modality: gnss/ins (QID: Q179435)\n",
            "Processing modality: activity (QID: Q1914636)\n",
            "Processing modality: time (QID: Q43297)\n",
            "Processing modality: knowledge base (QID: Q593744)\n",
            "Processing modality: reconstruction (QID: Q2478058)\n",
            "Processing modality: semantic representation (QID: Q39645)\n",
            "Processing modality: biomarker (QID: Q864574)\n",
            "Processing modality: list (QID: Q1828075)\n",
            "Processing modality: neurophysiological (QID: Q660910)\n",
            "Processing modality: behavioral (QID: Q9332)\n",
            "Processing modality: surface normals (QID: Q273176)\n",
            "Processing modality: dynamical (QID: Q128030)\n",
            "Processing modality: symbolic (QID: Q919092)\n",
            "Processing modality: 3d object (QID: Q35459920)\n",
            "Processing modality: spectra (QID: Q130556645)\n",
            "Processing modality: 3d environment (QID: Q55950686)\n",
            "Processing modality: bioassay data (QID: Q864212)\n",
            "Processing modality: protein structure (QID: Q735188)\n",
            "Processing modality: real world data (QID: Q55631277)\n",
            "Processing modality: document (QID: Q49848)\n",
            "Processing modality: sequential data (QID: Q186588)\n",
            "Processing modality: bounding box (QID: Q1434060)\n",
            "Processing modality: timestamp (QID: Q186885)\n",
            "Processing modality: wireless (QID: Q8026812)\n",
            "Processing modality: 3d motion capture (QID: Q676252)\n",
            "Processing modality: state tracking (QID: Q599031)\n",
            "Processing modality: positional data (QID: Q60474237)\n",
            "Processing modality: gps (QID: Q368785)\n",
            "Processing modality: biosample (QID: Q96797376)\n",
            "Processing modality: anatomical (QID: Q514)\n",
            "Processing modality: fmri (QID: Q18615495)\n",
            "Processing modality: eog (QID: Q420647)\n",
            "Processing modality: ecg (QID: Q79785)\n",
            "Processing modality: cwl (QID: Q56291707)\n",
            "Processing modality: control stream (QID: Q868299)\n",
            "Processing modality: other (QID: Q86630688)\n",
            "Processing modality: 4d (QID: Q20685814)\n",
            "Processing modality: database (QID: Q8513)\n",
            "Processing modality: box (QID: Q16860308)\n",
            "Processing modality: identifier (QID: Q853614)\n",
            "Processing modality: scalar field (QID: Q193460)\n",
            "Processing modality: animation (QID: Q11425)\n",
            "Processing modality: nirs (QID: Q131462388)\n",
            "Processing modality: respiration (QID: Q15753091)\n",
            "Processing modality: brain signal (QID: Q179965)\n",
            "Processing modality: sign language (QID: Q34228)\n",
            "Processing modality: 2d (QID: Q5651824)\n",
            "Processing modality: haptic (QID: Q119732988)\n",
            "Processing modality: 3d model parameter (QID: Q3859833)\n",
            "Processing modality: data stream (QID: Q1172540)\n",
            "Processing modality: segmentation map (QID: Q56933)\n",
            "Processing modality: geo information (QID: Q5915793)\n",
            "Processing modality: segmentation mask (QID: Q56933)\n",
            "Processing modality: motion tracking (QID: Q676252)\n",
            "Processing modality: drive (QID: Q125338722)\n",
            "Processing modality: odometry (QID: Q2014717)\n",
            "Processing modality: gesture (QID: Q371174)\n",
            "Processing modality: external tool (QID: Q39546)\n",
            "Processing modality: blockchain (QID: Q20514253)\n",
            "Processing modality: 3d landmark (QID: Q4895393)\n",
            "Processing modality: saliency map (QID: Q1469792)\n",
            "Processing modality: spiking neural data (QID: Q9067355)\n",
            "Processing modality: polarisation (QID: Q121463492)\n",
            "Processing modality: audiovisual (QID: Q758901)\n",
            "Processing modality: model prediction (QID: Q7239673)\n",
            "Processing modality: alpha matte (QID: Q693457)\n",
            "Processing modality: configuration (QID: Q1866689)\n",
            "Processing modality: data array (QID: Q186152)\n",
            "Processing modality: symbol (QID: Q80071)\n",
            "Processing modality: network capture (QID: Q285459)\n",
            "Processing modality: radio (QID: Q37169573)\n",
            "Processing modality: 2d image (QID: Q478798)\n",
            "Processing modality: multilingual (QID: Q96716753)\n",
            "Processing modality: physical interaction (QID: Q104934)\n",
            "Processing modality: vr (QID: Q170519)\n",
            "Processing modality: raster (QID: Q66043426)\n",
            "Processing modality: algorithm (QID: Q8366)\n",
            "Processing modality: camera parameter (QID: Q5026015)\n",
            "Processing modality: json (QID: Q2063)\n",
            "Processing modality: protein (QID: Q8054)\n",
            "Processing modality: epigenetic (QID: Q26939)\n",
            "Processing modality: virtual api (QID: Q165194)\n",
            "Processing modality: interactive (QID: Q1636759)\n",
            "Processing modality: text-image interaction (QID: Q738567)\n",
            "Processing modality: temporal sequence (QID: Q186588)\n",
            "Processing modality: structure (QID: Q15709970)\n",
            "Processing modality: data file (QID: Q5227290)\n",
            "Processing modality: spatial relation (QID: Q2178623)\n",
            "Processing modality: grounding (QID: Q14920473)\n",
            "Processing modality: parameter (QID: Q1413083)\n",
            "Processing modality: biosignal (QID: Q644240)\n",
            "Processing modality: magnetoencephalography (QID: Q384188)\n",
            "Knowledge graph saved to knowledge_graph_with_labels.ttl\n",
            "Knowledge graph saved to knowledge_graph_with_labels.owl\n"
          ]
        }
      ]
    },
    {
      "cell_type": "markdown",
      "source": [
        "## database information supplementary"
      ],
      "metadata": {
        "id": "UWAOCQnWi8Ji"
      }
    },
    {
      "cell_type": "code",
      "source": [
        "from rdflib import Graph, URIRef, Literal, Namespace, RDF, RDFS\n",
        "import csv\n",
        "\n",
        "# Load the existing knowledge graph (TTL file)\n",
        "g = Graph()\n",
        "g.parse(\"knowledge_graph_with_labels.ttl\", format=\"turtle\")\n",
        "\n",
        "# Define the custom namespace for Datasets\n",
        "MP = Namespace(\"http://masterproject.org/\")\n",
        "# DATASET = Namespace(\"http://masterproject.org/dataset/\")\n",
        "\n",
        "# Define the namespaces for Modality and Datatype\n",
        "WIKIDATA = Namespace(\"http://www.wikidata.org/entity/\")\n",
        "\n",
        "# Load the CSV file (datasets_modalities_datatypes.csv)\n",
        "with open('datasets_modalities_datatypes.csv', 'r', encoding='utf-8') as f:\n",
        "    reader = csv.DictReader(f)\n",
        "    datasets = list(reader)\n",
        "\n",
        "# Iterate through each dataset entry to create a new Dataset node\n",
        "for idx, entry in enumerate(datasets):\n",
        "    # Create a unique URI for the dataset, e.g., D1, D2, D100\n",
        "    dataset_did = URIRef(f\"D{idx + 1}\")\n",
        "    # print(WIKIDATA[dataset_did])\n",
        "\n",
        "    # Create Dataset node with dataset_name as the label\n",
        "    dataset_name = entry[\"dataset_name\"]\n",
        "    dataset_description = entry[\"dataset_description\"]\n",
        "    modality = entry[\"modality\"]\n",
        "    data_type = entry[\"data_type\"]\n",
        "\n",
        "    g.add((WIKIDATA[dataset_did], RDF.type, MP.Dataset))\n",
        "    g.add((WIKIDATA[dataset_did], RDFS.label, Literal(dataset_name)))\n",
        "    g.add((WIKIDATA[dataset_did], MP.dataset_description, Literal(dataset_description)))\n",
        "    g.add((WIKIDATA[dataset_did], MP.modality, Literal(modality)))\n",
        "    g.add((WIKIDATA[dataset_did], MP.data_type, Literal(data_type)))\n",
        "\n",
        "    # Query the Modality and Datatype nodes by their labels\n",
        "    modality_nodes = list(g.query(f\"\"\"\n",
        "        SELECT ?modality WHERE {{\n",
        "            ?modality rdf:type <http://masterproject.org/Modality>.\n",
        "            ?modality rdfs:label \"{modality}\".\n",
        "        }}\n",
        "    \"\"\"))\n",
        "\n",
        "    datatype_nodes = list(g.query(f\"\"\"\n",
        "        SELECT ?datatype WHERE {{\n",
        "            ?datatype rdf:type <http://masterproject.org/Datatype>.\n",
        "            ?datatype rdfs:label \"{data_type}\".\n",
        "        }}\n",
        "    \"\"\"))\n",
        "\n",
        "    # If Modality node is found, create an edge between Dataset and Modality\n",
        "    for modality_node in modality_nodes:\n",
        "        modality_uri = modality_node[0]\n",
        "        g.add((WIKIDATA[dataset_did], MP.Dataset_Modality, modality_uri))\n",
        "\n",
        "    # If Datatype node is found, create an edge between Dataset and Datatype\n",
        "    for datatype_node in datatype_nodes:\n",
        "        datatype_uri = datatype_node[0]\n",
        "        g.add((WIKIDATA[dataset_did], MP.Dataset_Datatype, datatype_uri))\n",
        "\n",
        "# Save the updated knowledge graph back to a TTL file\n",
        "g.serialize(destination=\"updated_knowledge_graph_q.ttl\", format=\"turtle\")\n",
        "print(\"Knowledge graph updated and saved as updated_knowledge_graph.ttl\")"
      ],
      "metadata": {
        "colab": {
          "base_uri": "https://localhost:8080/"
        },
        "id": "OvrFFLmpzrFp",
        "outputId": "636c7ae8-aea8-4b37-c67d-73d4d46ab6d0"
      },
      "execution_count": null,
      "outputs": [
        {
          "output_type": "stream",
          "name": "stdout",
          "text": [
            "Knowledge graph updated and saved as updated_knowledge_graph.ttl\n"
          ]
        }
      ]
    }
  ]
}