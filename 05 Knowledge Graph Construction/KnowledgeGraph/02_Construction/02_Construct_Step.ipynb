{
  "cells": [
    {
      "cell_type": "code",
      "execution_count": null,
      "metadata": {
        "colab": {
          "base_uri": "https://localhost:8080/"
        },
        "id": "dBmmWJCT0vR9",
        "outputId": "52638cca-b913-4d7d-8702-e5a55175b4fd"
      },
      "outputs": [
        {
          "name": "stdout",
          "output_type": "stream",
          "text": [
            "Requirement already satisfied: requests in /usr/local/lib/python3.11/dist-packages (2.32.3)\n",
            "Requirement already satisfied: networkx in /usr/local/lib/python3.11/dist-packages (3.4.2)\n",
            "Requirement already satisfied: matplotlib in /usr/local/lib/python3.11/dist-packages (3.10.0)\n",
            "Collecting SPARQLWrapper\n",
            "  Downloading SPARQLWrapper-2.0.0-py3-none-any.whl.metadata (2.0 kB)\n",
            "Requirement already satisfied: charset-normalizer<4,>=2 in /usr/local/lib/python3.11/dist-packages (from requests) (3.4.1)\n",
            "Requirement already satisfied: idna<4,>=2.5 in /usr/local/lib/python3.11/dist-packages (from requests) (3.10)\n",
            "Requirement already satisfied: urllib3<3,>=1.21.1 in /usr/local/lib/python3.11/dist-packages (from requests) (2.3.0)\n",
            "Requirement already satisfied: certifi>=2017.4.17 in /usr/local/lib/python3.11/dist-packages (from requests) (2025.1.31)\n",
            "Requirement already satisfied: contourpy>=1.0.1 in /usr/local/lib/python3.11/dist-packages (from matplotlib) (1.3.1)\n",
            "Requirement already satisfied: cycler>=0.10 in /usr/local/lib/python3.11/dist-packages (from matplotlib) (0.12.1)\n",
            "Requirement already satisfied: fonttools>=4.22.0 in /usr/local/lib/python3.11/dist-packages (from matplotlib) (4.56.0)\n",
            "Requirement already satisfied: kiwisolver>=1.3.1 in /usr/local/lib/python3.11/dist-packages (from matplotlib) (1.4.8)\n",
            "Requirement already satisfied: numpy>=1.23 in /usr/local/lib/python3.11/dist-packages (from matplotlib) (1.26.4)\n",
            "Requirement already satisfied: packaging>=20.0 in /usr/local/lib/python3.11/dist-packages (from matplotlib) (24.2)\n",
            "Requirement already satisfied: pillow>=8 in /usr/local/lib/python3.11/dist-packages (from matplotlib) (11.1.0)\n",
            "Requirement already satisfied: pyparsing>=2.3.1 in /usr/local/lib/python3.11/dist-packages (from matplotlib) (3.2.1)\n",
            "Requirement already satisfied: python-dateutil>=2.7 in /usr/local/lib/python3.11/dist-packages (from matplotlib) (2.8.2)\n",
            "Collecting rdflib>=6.1.1 (from SPARQLWrapper)\n",
            "  Downloading rdflib-7.1.3-py3-none-any.whl.metadata (11 kB)\n",
            "Requirement already satisfied: six>=1.5 in /usr/local/lib/python3.11/dist-packages (from python-dateutil>=2.7->matplotlib) (1.17.0)\n",
            "Downloading SPARQLWrapper-2.0.0-py3-none-any.whl (28 kB)\n",
            "Downloading rdflib-7.1.3-py3-none-any.whl (564 kB)\n",
            "\u001b[2K   \u001b[90m━━━━━━━━━━━━━━━━━━━━━━━━━━━━━━━━━━━━━━━━\u001b[0m \u001b[32m564.9/564.9 kB\u001b[0m \u001b[31m10.3 MB/s\u001b[0m eta \u001b[36m0:00:00\u001b[0m\n",
            "\u001b[?25hInstalling collected packages: rdflib, SPARQLWrapper\n",
            "Successfully installed SPARQLWrapper-2.0.0 rdflib-7.1.3\n"
          ]
        }
      ],
      "source": [
        "pip install requests networkx matplotlib SPARQLWrapper"
      ]
    },
    {
      "cell_type": "code",
      "execution_count": null,
      "metadata": {
        "id": "bqlt0DAE0yYN"
      },
      "outputs": [],
      "source": [
        "import requests\n",
        "import networkx as nx\n",
        "import matplotlib.pyplot as plt\n",
        "from SPARQLWrapper import SPARQLWrapper, JSON\n",
        "import warnings\n",
        "warnings.filterwarnings(\"ignore\", message=\".*Glyph*\")\n",
        "import time\n",
        "import json\n",
        "import logging"
      ]
    },
    {
      "cell_type": "markdown",
      "metadata": {
        "id": "yP3yI3CO050A"
      },
      "source": [
        "## Verify Duplications in Modality and Datatype"
      ]
    },
    {
      "cell_type": "code",
      "execution_count": null,
      "metadata": {
        "colab": {
          "base_uri": "https://localhost:8080/"
        },
        "id": "o5WAabXS0-k2",
        "outputId": "4661b65d-9bf4-475b-e79d-0f9a6eeae016"
      },
      "outputs": [
        {
          "name": "stdout",
          "output_type": "stream",
          "text": [
            "Duplicate found: text is present in data_types ['graph based annotation', 'beats annotation', 'wikipedia topic', 'wikipedia page', 'molecular description', 'magazine text', 'sign label', 'pixel wise segmentation mask', 'doi identifier', 'attack category label', 'output file', 'free text argument', 'sleep diary', 'anonymized response', 'road attribute', 'internet censorship test request', 'text to speech script', 'resolution', 'educational course material', 'experiment design', 'meeting note', 'watermark text', 'natural language caption', 'sample efficient task learning dialogue', 'condition', 'hierarchical label', 'assembly instruction', 'syntactic annotation', 'website url', 'positional relationship sentence', 'problem setup', 'case summary', 'finite clause embedding verb', 'sms message', 'safety reply', 'bt flows label', 'consumer review', 'invite link network node', 'literature survey', 'social media caption', 'action adverb pair', 'photo metadata', 'academic title', 'legal article', 'contract', 'bibliographic reference', 'code mixed answer', 'subjective assessment', 'brick identifier', 'epistemic activity', 'geometric order annotation', 'demographic data', 'binary classification', 'summarized question', 'research reference', 'sentiment label', 'verb annotation', 'lexical ambiguity', 'blog text', 'object category', 'ble advertisement packet', 'biodiversity table', 'classification instance', 'utterance transcript', 'ocr extracted text', 'scientific entity', 'web content', 'intelligent agent', 'trivia question', 'benchmark execution file', 'scientific reference', 'multilingual prompt', 'vulnerability scoring', 'trading date', 'human rating', 'species annotation', 'chinese caption', 'user generated content', 'task descriptions', 'academic writing', 'participant answer', 'substitute word', 'episode recap', 'tf/idf weighted word vector', 'relation instance', 'data collection timestamp', 'real news', 'land cover type label', 'mesh label', 'driving instruction', 'fuel type', 'facial attribute description', 'strategy question', 'user engagement', 'linguistic background profile', 'mayo endoscopic score label', 'corrected chinese text', 'news editorial', 'file fragment', 'coherence assessment', 'harmful behavior', 'ingredients and recipe', 'music playlist table', 'team identity', 'body orientation label', 'damage type', 'relation and argument annotation', 'step level label', 'social media account', 'conclusion comparison', 'model specification', 'math headline', 'radiology report', 'word sense disambiguation sentence', 'interaction description', 'emotional dialogue', 'research finding', 'reasoning question', 'summary comparison', 'reading comprehension explicit numerical reasoning', 'player role', 'dialog line', 'evaluation mask', 'debate sentence', 'augmented address text', 'gesture label', 'venue category', 'symptom hierarchy', 'graph representation', 'scientific preprint', 'logical predicate', 'music tag', 'acronym', 'event', 'post date', 'business metadata', 'nonscripted response', 'constituency parse', 'task assignment', 'environmental factors assessment', 'character attribute', 'geographical location', 'model information', 'shot level caption', 'political advertising category', 'link type', 'motion description', 'message log', 'material category label', '3d object annotation', 'metadata label', 'traffic sign annotation', 'instruction output', 'dialogue status', 'meal detail', 'news description', 'page property', 'platform description', 'narrative instruction', 'historical data', 'play script', 'emotion recognition', 'iconography classification label', 'metadata spreadsheet', 'wikipedia username', 'short statement', 'veracity label', 'sports statistic', 'acr appropriateness criteria label', 'character level annotation', 'biose format label', 'complex entity', 'text', 'index information', 'ground truth mask', 'conversational question answering', 'multi step reasoning task', 'chemical synthesis route', 'tweet', 'textual entailment', 'character personality trait', 'cloud label', 'patent claim', 'online q&a exchange', 'music analysi', 'cleaned text', 'manual', 'evaluation score', 'interactive narrative', 'mathematical expression', 'artist biography', 'document retrieval', 'subjective video quality score', 'resource link', 'full sentence answer', 'downbeats annotation', 'cwe type', 'critical analysi', 'submission content', 'property description', 'product offer', 'tweet content', 'wikidata entity id', 'geographic textual similarity', 'conversation act', 'sensor calibration', 'readme', 'binary attribute', 'unlabeled example', 'experiment metadata', 'term definition pair', 'lexical unit', 'player action', 'encyclopedia article', 'frame level annotation', 'git history', 'mathematics question', 'grasp annotation', 'anaphor reference', 'test suite', 'patient classification', 'event boundary caption', 'written dialog', 'dialogue response', 'theorem proof', 'conversational history', 'peer review', 'query rewrite', 'participant demographic', 'instruction manual text', 'credibility history', 'chord annotation', 'distractors', 'inline formulae', 'age information', 'research documentation', 'likert scale data', 'aspect based summary', 'meta relation type', 'user review', 'site description', 'cancer screening result', 'entity type', 'hand object relation', 'wikipedia page text', 'word pronunciation', 'transliterated text', 'non security patch', 'relation triplet', 'interaction log', 'essay', 'in game goal', 'client information', 'behavior annotation', 'medical query', 'human written query', 'annotated evidence span', 'word level transcription', 'conceptual annotation', 'recipe ingredient', 'evaluation sentence pair', 'site information', 'research paper', 'social interaction annotation', 'bilingual text', 'unit conversion', 'feature vector', 'art metadata', 'cyber threat intelligence', 'low resource nlp text', 'multilingual article', 'safety issue', 'newswire', 'bigram pair', 'spoken language transcript', 'law', 'hate speech expression', 'automotive bus data', 'lesion annotation', 'annotations and label', 'citation', 'knowledge analysis', 'human classification', 'dialogue representation', 'sarcasm category label', 'object-entity', 'subject demographic', 'location name', 'sense annotated text', 'parallel subtitle', 'taxi class label', 'person identity label', 'movie id', 'forum posting', 'link', 'cross linguistic polysemy', 'cell annotation', 'organization name', 'subjective evaluation', 'question type annotation', 'hate speech label', 'group id', 'navigation description', 'action verb attribute', 'cultural and geographic scenario', 'semantic segmentation label', 'discourse entity', 'helpdesk instruction', 'identity verification pair', 'disparities and depth', 'text bounding box', 'howto guide', 'biological endpoint', 'temporal relation', 'clinical guideline', 'exam answer', 'ai governance text', 'scene element annotation', 'expert examined feature', 'noun argument annotation', 'dataset partition information', 'reliability template', 'wikipedia table', 'safety alignment script', 'patient demographic', 'participant stimulus assignment', 'hate speech detection', 'technical document', 'histopathologist diagnosi', 'umls concept', 'frame by frame annotation', 'jet feature list', 'metadata file', 'synthetic command', 'syntactic information', 'biomedical concept pair', 'simplified medical text', 'graph database clas', 'awarenes', 'sentence', 'scientific sentence', 'column explanation', 'rhythm classification label', 'process elements annotation', 'review annotation', 'shot description', 'text query', 'connotative role explanation', 'textual narration', 'synthetic text', 'semantic', 'human written template', 'online review', 'factoid question', 'human identity', 'character level perturbation', 'arousal annotation', 'vulnerability classification', 'short summary', 'feature annotation', 'reasoning explanation', 'size measurement', 'network evaluation description', 'geographic composition analysi', 'video level summary', 'online conversation', 'multilingual passage', 'language embedding', 'research question', 'human evaluated facts ungrounded answer', 'encyclopedic article', 'entity name', 'flight schedule', 'dynamic analysis report', 'sms spam message', 'answer url', 'classification annotation', 'language identifier', 'news article', 'entity linking annotation', 'control flow expression completion', 'ct logged certificate', 'demographic survey response', 'main tweet', 'natural language hypothesi', 'discourse relation', 'relationship label', 'clinical detail', 'animals statement', 'language format', 'candidate caption', 'depth estimation label', 'context independent question rewrite', 'source document', 'video source description', 'polygon annotation', 'encyclopedic entry', 'biomedical entity', 'key information', 'temporal expression', 'graph reasoning task', 'advertisement description', 'retrieval query', 'parallel document', 'riddle question', 'subtitles', 'program documentation', 'student composition', 'grading annotation', 'semantic description', 'occupations statement', 'parallel story', 'invite link network edge', 'in game log', 'qa pair', 'fraud alert message', 'code segment', 'language information', 'model', 'multilingual question', 'parallel sentence', 'style annotation', 'english instruction', 'conversation turn', 'trading volume', 'poet information', 'unlabelled textual document', 'signature author id', 'gnss / imu reading', 'news category', 'social network description', 'evidence string', 'signal', 'malware family label', 'multilingual labeling', 'person name', 'training parameter', 'peptide metadata', 'time data', 'material note', 'tweets about epidemic outbreak', 'research publication', 'lecture transcript', 'knowledge base path', 'positive and negative text', 'multi choice visual question', 'political bias label', 'news report', 'medline abstract', 'mental workload rating', 'in domain sentence', 'tool annotation', 'discourse phenomenon', 'network connection log', 'paired caption', 'soundscape attribute translation', 'paper title', 'significant topic word', 'source reference', 'literature informed verb', 'ingredient annotation', 'annotator preference', 'chinese idiom', 'time window', 'damage id', 'immune and tumor cell annotation', 'lesion classification label', 'code base', 'instance segmentation label', 'social media news', 'recall action description', 'anonymized product id', 'knowledge grounded answer', 'characterization metric', 'chemical mention', 'algebraic notation string', 'translation evaluation', 'style classification label', 'travel guide', 'rule description', 'review content', 'literary work', 'bag of words vector', 'event name', 'synthetic route', 'polar question', 'graph level property', 'audio transcript', 'semantic similarity label', 'subjective perceptual response', 'reddit entry', 'tldr summary', 'semantic similarity sentence', 'citation purpose', 'parking lot annotation', 'vehicle id label', 'assertive statement', 'manual transcription', 'worm classification', 'guitar configuration annotation', 'alt text', 'emoji based hate expression', 'discussion text', 'dialogue subtitle', 'sarcasm annotation', 'user forum post', 'structured data', 'chat utterance', 'drug keyword', 'metaphorical prompt', 'soundness evaluation', 'exam question', 'ethical concept', 'grooming annotation', 'pull request title', 'category attribute matrix', 'product inventory data', 'bug description', 'financial text', 'author id', 'word analogy problem', 'detailed video caption', 'storage condition', 'emotion report', 'morpheme annotation', 'grounded video question answer', 'semantic inference label', 'query relevance label', 'floor identifier', 'entity linking', 'privacy mechanism detail', 'interactive information', 'inpatient claim', 'fact check label', 'child comment', 'genre description', 'legal sentence', 'cognitive load questionnaire', 'mal activity report', 'network interference detection', 'genre specific text', 'object mask annotation', 'translation unit', 'semantic type', 'reference sequence', 'photometric calibration data', 'parsed html structure', 'polar expression', 'quality assessment score', 'text to code generation', 'memorability score', 'garment type label', 'broad discipline category', 'evaluation criterion', 'human generated extract', 'interaction explanation', 'task instruction', 'multi hop reading comprehension', 'general text generation', 'modification', 'sentence to paragraph', 'subjective rating', 'chatbot interaction', 'evaluation guideline', 'outcome label', 'apartment description', 'non discriminative question', 'non native english text', 'agent response', 'contextual prompt', 'building identifier', 'chart metadata', 'abusive language', 'association type', 'coreference information', 'reading order information', 'facs coded action unit', 'support phrase', 'spoken explanation', 'genome metadata', 'sperm characteristic', 'magazine content', 'banglish sentence', '2d/3d bounding box coordinate', 'financial sentiment analysi', 'machine translation text', 'textual instruction', 'aspect phrase', 'questions and explanation', 'source abstract', 'non wikipedia reference document', 'dialect transcription', 'animal annotation', 'accessibility text', 'column description', 'repair date', 'biological property', 'urdu font', 'highlighted story', 'user identification', 'indexing information', 'chemical reaction', 'evaluation instruction', 'fake claim', 'persona grounding sentence', 'midi data', 'screenplay', 'key step annotation', 'geotag', 'benchmark summary', 'tumor grade', 'table text content', 'ground truth classification', 'temporal question', 'noisy bangla text', 'annotation proces', 'atlas description', 'entity information', 'question sentence', 'solution method', 'user answer', 'human perception label', 'reply', 'github account description', 'session interaction', 'side effect', 'polymer description', 'speaker diarization', 'speaker text pair', 'web query', 'risk prediction', 'narrative problem', 'interaction experience', 'tree species label', 'literal motion sentence', 'scientific problem description', 'dataset name', 'reference topic', 'security related text', 'pseudo label', 'form text', 'chatgpt answer', 'fomc post meeting statement', 'wine metadata', 'logical description', 'annotated snippet', 'video comment', 'device status log', 'vehicle trip record', 'time phrase', 'code mixed question', 'regulatory document', 'geometry definition', 'aspect based sentiment analysi', 'raw text', 'program detail', 'challenge annotation', 'typed textual relation', 'justification', 'condition assessment', 'volunteer engagement metric', 'proverb ending', 'tracking baseline', 'day type', 'device information', 'ripeness label', 'query triple', 'object classification label', 'domain name', 'column property annotation', 'medical named entity', 'publication reference', 'bangla sentence', 'metadata record', 'supporting fact', 'full text of research paper', 'label matrice', 'storybook', 'full paper', 'identity term', 'heart rate annotation', 'formal meaning representation', 'language completion', 'feature description', 'prompt completion pair', 'sequence label', 'publication', 'vision language task', 'generation prompt', 'gene sequence', 'singing style annotation', 'information list', 'proof step', 'recipe title', 'translated code snippet', 'text response', 'contact mask', 'financial announcement', 'search query string', 'logical form', 'classification and detection annotation', 'emotion category', 'environment annotation', 'glass type', 'conversational claim', 'code mixed tweet', 'conjunction data message', 'language model data', 'interaction_dialogues', 'case insensitive text annotation', 'workshop description', 'algorithmic reasoning', 'glaucoma grade annotation', 'natural language feedback', 'channel description', 'raw payload information', 'supplementary information', 'trustworthy information', 'conference information', 'dvs caption', 'html representation', 'aspect label', 'speech segmentation', 'government report', 'childrens lexicon article', 'target group label', 'movie chat', 'ehr free text', 'relation conversation', 'event metadata', 'negotiation dialogue', 'mbti dimension instruction', 'value judgment', 'crowdsourced answer', 'asr transcript', 'game action', 'api definition', 'footnote reference number', 'vertex coordinate', 'per instance text metadata', 'partisanship label', 'probability of preference label', 'japanese english translation', 'emoji usage context', 'service offering', 'navigational instruction', 'internet domain', 'font file', 'article section', 'natural language query', 'tachometer data', 'intent based summary', 'next step text', 'complex sentence transformation', 'landmark query', 'meme caption', 'movie genre', 'synthetic short story', 'orthographic transcription', 'narrative clause', 'novelty label', 'question response pair', 'benchmark text', 'cryptocurrency trading pair', 'culture statement', 'positive caption', 'opinion based query', 'credit card issuance', 'business attribute', 'tumor annotation', 'answer span', 'calculation metadata', 'session metadata', 'programming language', 'customer service dialogue', 'user story description', 'policy description', 'body type', 'matrix tense', 'relevance score', 'art background information', 'engine size', 'video level attribute', 'clinical admission note', 'academic metadata', 'issue detail', 'template', 'movie title', 'humanitarian category', 'latex code', 'name pair', 'sentence pair', 'chinese command', 'unlabeled domain related corpus', 'paragraph to paragraph', 'punchline response', 'wikipedia document', 'algorithm comparison result', 'proposition', 'water meter reading', 'textual summary', 'action caption', 'question pattern', 'paraphrased sentence', 'spoken text', 'generation model reason', 'template pair', 'calibration data', 'choice', 'diacritized text', 'answers and explanation', 'entailment question', 'machine translated sentence', 'defect caption', 'gloss label', 'clinical outcome measure', 'validity assessment', 'author country of origin', 'instance and semantic segmentation annotation', 'action trace', 'concept definition', 'modified text', 'vectorized document', 'biomedical article', 'keyphrase extraction', 'scientific passage', 'meaning representation', 'ego vehicle trajectory', 'factuality system label', 'encyclopedic content', 'claim evidence pair', 'review score', 'cad construction sequence', 'body level text prompt', 'dialogue turn', 'election configuration', 'health news article', 'ancient chinese passage', 'comprehensive answer', 'classical chinese text', 'annotated statement', 'narrative description', 'noun and verb chunk', 'scientific text passage', 'object detection annotation', 'fields of study annotation', 'action explanation', 'pddl code', 'ethnicity annotation', 'vehicle model information', 'acoustic properties annotation', 'scientific standard', 'scholarly article table', 'discipline tag', 'word sense disambiguation annotation', 'activity', 'architecture json', 'medical ontology entity', 'website description', 'garment category label', 'user listening history', 'predicate', 'scanpath sequence', 'crime event detail', 'biographical information', 'parliamentary proceedings', 'player input', 'purpose statement', 'financial sentence', 'syntactic chunks', 'statement extraction', 'article category', 'annotator agreement level', 'positive answer', 'offensiveness level', 'commentary news pair', 'method description', 'network analysis result', 'competency question template', 'customer review', 'genomic description', 'reply selection', 'persuasiveness task', 'sequence labeling', 'interactive fiction text', 'user ai interaction', 'semantic supersense', 'scientific description', 'summarized article', 'evaluation design', 'segment annotation', 'network mechanism', 'scene attribute description', 'qualitative binding result', 'project information', 'annotator identifier', 'academic publication', 'rulebase', 'news text', 'personal data', 'example sentence', 'sentence segmentation', 'question answer pair', 'quantified sentence', 'blog caption', 'molecular descriptions', 'paragraph summary', 'scientific publication', 'sports news', 'dr grading label', 'conversational sentence', 'digit position annotation', 'morpho syntactic annotation', 'tour link', '2d pose annotation', 'translation', 'social media post', 'correct answer', 'truthful news article', 'attribute based label', 'camera metadata', 'sentence denotation pair', 'emotional intelligence response', 'scene text word', 'low resource language text', 'muscle group label', 'hypothesi', 'head center coordinate', 'tweet metadata', 'questionnaire item', 'referring expressions', 'annotated sentence', 'sensitive attribute label', 'semantic context', 'network trace', 'research methodology', 'stream of consciousnes', 'grammatical gender cue', 'asr transcription', 'loan repayment rate', 'image level annotation', 'factually consistent summary', 'icu occupancy report', 'advanced text', 'segment level label', 'arabic words and numeral', 'lecture content', 'nft ownership trace', 'reality checking task', 'consent response', 'weather parameter', 'opinion statement', 'menopausal status', 'music aspect', 'failure mode code', 'gdpr transparency statement', 'math word problem', 'target amino acid sequence', 'tweet annotation', 'in scope intent', 'goal of activity', 'segmentation annotation', 'term typing', 'group dialogue', 'chapter summary', 'minimal_pairs', 'conversational search', 'documentation', 'csv file', 'game annotation', 'adversarial text', 'open ie tuple', 'experimental description', 'drone camera 6 dof label', 'human rights semantic category', 'quantification sentence', 'lexical semantic shift', 'local summary', 'rephrased sentence', 'conclusion', 'video level label', 'optic disc/cup segmentation mask', 'radiographic report', 'ingredients list', 'financial description', 'problem statement', 'knowledge statement', 'narrative text', 'repair cost', 'bilingual answer', 'variant spelling pair', 'inference question', 'care provider note', 'anime tag', 'classification record', 'sentiment', 'spoof type annotation', 'thai text', 'informative writing prompt', 'sparql query', 'episodic buffer detail', 'radiological report', 'gene mention', 'r notebook', 'reasoning text path', 'statistical analysi', 'chain of thought (cot) prompting', 'film script', 'toxic statement', 'software description', 'user question', 'wikipedia lead section', 'community label', 'program code', 'addressee information', 'masked city name', 'natural language intent', 'annotated comment', 'object detection label', 'game platform description', 'object intersection', 'device list', 'annotated clause', 'parameter', 'fine label', 'training label', 'human authored text', 'ad description', 'traffic ranking', 'ground truth hand pose information', 'patient identifier', 'scientific protocol', 'english letter', 'sub genre', 'commonsense question', 'citation based summary', 'diagnostic test result', 'analysis script', 'coding problem', 'quality label', 'conversational data', 'game command', 'email subject line', 'app category', 'book title', 'open domain non factoid question', 'entry classification label', 'conversational passage', 'carboxylase table', 'logical rule', 'questionnaire response', 'scene level summary label', 'table name', 'specialists letter', 'movie rating', 'conversation thread', 'compositional change', 'trajectory description', 'situated question', 'academic text', 'source code function', 'traffic incident information', 'seat number', 'debate rebuttal', 'note expression annotation', 'homonymy type', 'participant background', 'infection report', 'interaction class label', 'license plate text', 'lexically matched statement', 'sentence ordering', 'episode history', 'biography', 'syntactic derivation', 'camera pose', 'tournament information', 'clinical note', 'code repository', 'instance level annotation', 'etymological entry', 'language acquisition text', 'algorithmic question', 'ctf writeup', 'rna sequence', 'fields of study', 'human evaluated facts poor answer', 'topic information', 'publication type', 'privacy policy passage', 'annual report section', 'item textual feature', 'development environment configuration', 'long context sequence', 'business event', 'news document', 'uncertainty estimate', 'chess move analysi', 'positive triple', 'self reported data', 'social development survey', 'food planning guide', 'lightweight text', 'traffic light status', 'text conversation', 'ground truth annotation', 'single turn conversation', 'question template', 'string sequence', 'monolingual corpu', '2d joint coordinate', 'vehicle telemetry', 'looking time interval', 'shower information', 'radiologist report', 'code edit', 'relation triple', 'monolingual text', 'log translation', 'coreference candidate', 'python code', 'original text', 'thesis and dissertation title', 'wikipedia summary', 'financial transaction', 'trademark assignment text data', 'text: description', 'groundtruth', 'conversational exchange', 'annotated preposition', '3d joint coordinate', 'human pose annotation', 'factoid qa pair', 'free form corpus', 'patient clinical data', 'road crossing safety label', 'pose annotation', 'textual number', 'human annotation', 'wikipedia passage', 'lexically rich sentence', 'latex source', 'academic reference', 'distilled text', 'book description', 'keynote speech', 'category annotation', 'csv feature file', 'code description', 'comorbidities', 'natural language description', 'arxiv preprint', 'sql query', 'wikipedia paragraph', 'analysis code', 'quantifiers and modifier', 'web sentence', 'machine generated question', 'original utterance', 'rater comment', 'text span', 'domain names', 'text instances in image', 'transit agency description', 'professional translation', 'syntactic tree', 'claim', 'conversational text', 'neuro symbolic approach', 'nouns and noun phrase', 'graph query language', 'conversation transcript', 'biological full paper', 'osas annotation', 'evaluation report', 'academic paper keyword', 'boulder label', 'frame file', 'dna sequence', 'environment metadata', 'aspect level sentiment annotation', 'validation data entity alignment', 'holistic long text', 'subtitle', 'prospectus example', 'api parameter', 'slot filling', 'triage information', 'answer description', 'course syllabi', 'audio transcription', 'url', 'smpl parameter', 'financial agreement', 'court judgment', 'human evaluation', 'quoted span', 'natural language rationale', 'reference solution', 'landmark location', 'discourse unit segmentation', 'gender related text', 'neuropsychological assessment', 'verbatim quote', 'fact synset', 'experimental metadata', 'member information', 'adversarial sample', 'message metadata', 'interactive text environment', 'gold coefficient alignment', 'single sentence classification', 'clinical glaucoma label', 'speaker metadata', 'family information', 'sitcom script', 'chart specification', 'meta description', 'formal language sequence', 'commonsense assertion', 'human translation', 'subject information', 'project page', 'date metadata', 'xml label', 'case fact', 'inventor mention', 'trait entity', 'word pairs with similarity score', 'natural language template', 'academic paper abstract', 'image annotation', 'counterfactual event', '3d gaze direction annotation', 'commit categorization', 'knowledge grounding', 'ground truth class', 'vertice coordinate', 'social media repost', 'descriptive caption', 'reference news article', 'bibliographic entry', 'digit sum', 'news corpu', 'is a relation', 'academic abstract', 'german sentence', 'original fact', 'repair complexity', 'intent detection sentence', 'coded reflection', 'conversion script', 'survey instrument', 'acoustic measures documentation', 'benchmark challenge', 'voter preference', 'chapter category', 'propbank', 'ai annotation', 'intent query', 'aspect annotation', 'geographic information', 'diagnostic description', 'frame wise annotation', 'knowledge corpu', 'news article body text', 'witness statement', 'incorrect sql interpretation', 'aligned paragraph', 'step caption', 'knowledge base triple', 'clinical concept', 'ventricle tracing', 'medication administration', 'observation metadata', 'test data entity alignment', 'human written recap', 'web article', 'question logical form pair', 'wikipedia hyperlink', 'microscopy label', 'natural language theorem statement', 'object span', 'self reported depression diagnosis post', 'unknown triple', 'log file', 'equation', 'commit diff', 'edit instruction', 'labelled document', 'native speaker text', 'german translation', 'coding problem description', 'poem', 'polyp class', 'synthetic sentence', 'author description', 'speech transcription', 'human generated text', 'publication metadata', 'head level annotation', 'orthography', 'non crop label', 'sanskrit shloka', 'pathway annotation', 'region description', 'nested named entity', 'project background', 'science exam question', 'elevation data', 'predator chat', 'self reported label', 'mcq question', 'inn code', 'sensor pose data', 'knowledge base query', 'korean language task', 'entity level text', 'repair hour', 'translation paraphrase', 'video caption', 'sentences with nobody or no one as subject', 'credit score', 'span', 'chatgpt response', 'task', 'user persona', 'answer type', 'types of mal activity', 'item category', 'responsibility prompt', 'lexically distinct term', 'exposure history', 'tweet id', 'age annotation', 'wikipedia abstract', 'adversarial safety prompt', 'world instance metadata', 'language diversity', 'elicitation paragraph', 'textual sentence', 'skill assessment', 'dataset splits description', 'pose description', 'pathology label', 'ambiguous digit label', 'journalist reply', 'occupation', 'biological text', 'scientific paper draft', 'dialogue sentence', 'region of interest metadata', 'press conference', 'atomic action annotation', 'idiom', 'friend attribute', 'grant abstract', 'word level perturbation', 'english caption', 'patent abstract', 'chit chat', 'vulnerability description', 'driver anger scale questionnaire', 'software metadata', 'gene sets and signature', 'relationship annotation', 'news title', 'synthetic urdu text', 'thematic change', 'human solution', 'entity annotation', 'identifier name', 'misinformation claim', 'reported cases data', 'deceptive text', 'company name', 'brand_information', '3d coordinates of body joint', 'exam passage', 'email address', 'gleason score', 'scientific domain', 'annotations', 'chinese instruction', 'news topic', 'rhythm annotation', 'stance', 'country report', 'question category', 'narrative', 'detailed description', 'user textual feature', 'classification', 'finger level text prompt', 'matching criterion', 'social media posts', 'movie plot passage', 'human judgment', 'word level gender tag', 'numerical reasoning process', 'poi description', 'colony classification label', 'arithmetic task', 'effect statement', 'joint state configuration', 'mos rating', 'syslog', 'multimodal annotation', 'creative writing prompt', 'machine hardware configuration', 'multilingual text', 'user type', 'gender alternative translation', 'news caption', 'conversational question', 'stylistic lexical cue', 'treebank', 'image description', 'manually written caption', 'sarcasm label', 'camera position', 'course description', 'solidity source code', 'job workload description', 'semantic information', 'identity annotation', 'synset', 'hindi sentence', 'bounding box coordinate', 'taxonomic classification', 'pun pair', 'non expert annotation', 'human judgement', 'document feature', 'student review', 'medical article abstract', 'free text typing', 'utterance', 'chemical comment', 'faq', 'human response text', 'table caption', 'synthetic natural text', 'full story', 'code change', 'prompting text', 'user query reading comprehension', 'intent type', 'channel metadata', 'molecular smile', 'sentences', 'news title generation', 'model metadata', 'topology relationship', 'type label', 'observation token', 'data dictionary', 'attack method description', 'breast level assessment', 'spear phishing email', 'dataset reference', 'multi choice prompt', 'propagation source', 'descriptive question', 'knowledge editing task', 'cve information', 'student metadata', 'morphological segment', 'dynamic drawing information', 'clinical text', 'system documentation', 'dialogue domain', 'referring phrase', 'site identifier', 'email writing', 'cultural reasoning text', 'reading order', 'analogy question', 'meteorological indicator', 'inline textual reference', 'text: information', 'safe response', 'random sentence', 'keypoint coordinate', 'semantic label', 'occlusion annotation', 'dynamic text attribute', 'news headline classification', 'future work', 'change label', 'dbpedia abstract', 'textual mention', 'puzzle statement', 'build system script', 'complex word identification', 'mono lingual text', 'airfoil annotation', 'web crawled data', 'arousal rating', 'flowchart', 'nlp task specific text', 'section name', 'timestamped activity data', 'full text', 'event type', 'behavioral response', 'control statement', 'github repository metadata', 'license plate number', 'story', 'commonsense triplet', 'annotated event instance', 'quadruple', 'cloze task', 'sha hash', 'safety_guidelines', 'political speech transcription', 'narrative passage', 'activity type annotation', 'gloss notation', 'process description', 'short emotional response', 'object wise bounding box', 'noisy label', 'higher level textual feature', 'unstructured note', 'scientific concept', 'dictionary', 'reference sentence', 'logical reasoning passage', 'well being metric', 'coherent passage', 'client statistic', 'stereo camera calibration parameter', 'shot level importance score', 'instrument presence', 'sentence similarity', 'company prediction', 'error count', 'scientific document', 'architecture description', 'reviewer response', 'newspaper text', 'contract classification', 'persian questions and answer', 'claim sentence', 'complex intent', 'coco json annotation', 'audiobook transcript', 'user data', 'scene graph', 'lexical normalization', 'dialog state annotation', 'semantic query', 'hausa description', 'patent application full text', 'comment text', 'object category annotation', 'semantic content description', 'sentence rewrite', 'discourse structure', 'spoken mathematical expression', 'citation prediction', 'human annotated reason', 'subtitle text', 'conversion log', 'surgical instrument class', 'molecule description', 'phonetic transcription', 'order detail', 'post editing text', 'metadata tag', 'academic document', 'instrument', 'discriminative utterance', 'recipe instruction', 'instruction prompt', 'evolution strategy', 'object class', 'architected material optimization progres', 'coding reasoning', 'discharge summary', 'phenotypic information', 'news outlet', 'pitch contour annotation', 'criminal history', 'social context description', 'historical text', 'freestyle question answer pair', 'bill document', 'general practitioner entry', 'email manipulation', 'plain language adaptation', 'generative model description', 'check in data', 'stop word list', 'calibration matrice', 'encyclopedic text', 'persian sentence', 'binary predicate', 'video summary', 'movie plot', 'audio caption', 'layout class label', 'ocr transcription', 'shader source code', 'stance classification benchmark', 'conference abstract', 'event knowledge base', 'domain specific text', 'text transcription', 'transcribed conversation', 'political language', 'coreference option', 'train set', 'background passage', 'social media text', 'named entity tag', 'high ambiguity scenario', 'chess piece annotation', 'pros and con', 'lexical category', 'multilingual instruction', 'gold answer', 'camera movement distance', 'data collection instruction', 'music transcription label', 'nli annotation', 'answer aware question generation', 'domain specific question', 'detection annotation', 'ocr text', 'entailment relation', 'mention', 'financial transaction document', 'acoustic scene class', 'benign statement', 're id annotation', 'bullet screen comment', 'reformulated query', 'word transcription', 'contextual text', 'human edited story', 'stock market report', 'job posting', 'labeled section', 'synthetic reasoning passage', 'smd annotation', 'code mixed comments', 'app metadata', 'object annotation', 'semantic categories', 'table data', 'summarization', 'state change', 'multilingual caption', 'discussion', 'clinical assessment', 'text summarization', 'question group', 'index', 'theorem statement', 'relation classification', 'human values concept', 'axis label', 'structured query', 'email message', 'route information', 'sentences with sentential negation', 'academic papers', 'reading level', 'toxicity subtype', 'post metadata', 'conceptual property judgment', 'website metadata', 'complex phrase', 'alternative', 'prop annotation', 'zip code level broadband coverage', 'text: passage', 'galaxy coordinate', 'day information', 'humorous sentences', 'commonsense description', 'patient metadata', 'proper noun', 'named entity sentence', 'entity coreference', 'descriptive attribute', 'public administration text', 'issue', 'optical character recognition', 'emotion description', 'human opinion score', 'legal contracts', 'press briefing sentence', 'target classification', 'alarm record', 'feeling category', 'parallel example', 'ordinal quantification data', 'logical expression', 'bim modeling guideline', 'fictional text', 'map data', 'news abstract', 'property data', 'implicit context', 'grounded statement', 'sub slot', 'intrinsic camera matrix', 'genre tag', 'news snippet', 'phrases', 'natural language code search', 'learner sentence', 'physical features', 'functional annotation', 'code intent', 'drug information', 'behavior description', 'pronunciation annotation', 'target word', 'category label', 'forecasting question', '3d drone trajectory data', 'ecar record', 'nested mention', 'product names and category', 'semantic role', 'sentiment score', 'cryptocurrency address', 'text to text narrative', 'website link', 'english translation', 'news topics', 'hyperlink cascade', 'scene graph label', 'spoken words and phrase', 'newspaper article', 'substance use survey', 'baseline dataset', 'user guidance', 'sequence of move', 'game period', 'logical reasoning question', 'judgment document', 'pronoun usage', 'sports activities metadata', 'user description', 'keystroke sequence', 'input document', 'csv feature', 'abc notation', 'bitext', 'patent description', 'rating', 'language learning notification', 'plant description', 'handwriting sample', 'recurrence free survival time', 'social network structure', 'credit rating report', 'clas', 'concreteness rating', 'sms ham message', 'method call hierarchy', 'time interval', 'technical jargon', 'winograd schema sentence', 'chains of thought', 'mathematical expression annotation', 'punctuation mark', 'shape information', 'experiment label', 'research report', 'gt fact', 'gold explanation', 'web search session data', 'sanitation related text', 'spatial expression', 'reward signal', 'app information', 'album description', 'contextual paragraph', 'transaction feature', 'intra- and inter sentence relation', 'external dimensional rating', 'ambiguous word', 'knowledge domain', 'retinal vessel annotation', 'molecular graph', 'monolingual sentence', 'logical relation question', 'recommendation explanation', 'solution program', 'translated answer', 'meme_text', 'http scan data', 'complex description', 'isl english sentence pair', 'updrs score', 'signature label', 'vendor detection', 'text transcript', 'annotator demographic', 'user location', 'sentential paraphrase', 'knowledge graph triplet', 'post edit', 'relation annotation', 'declarative sentence', 'hate speech lexicon', 'nes language modeling', '3d bounding box annotation', 'factually inconsistent summary', 'exercise description', 'prescriptions information', 'procedure labeling', 'dialog act semantic', 'demographic information', 'narrative document', 'within quotation mention', 'train test split', 'genre composition', 'product_descriptions', 'sensor metadata', 'business conversation scenario', 'syntactic relationship', 'verbal cue', 'exoplanet metadata', 'annotated utterance', 'sentence prompt', 'darija english translation', 'entity coreference chain', 'disease classification label', 'source post', 'clarification question', 'human preference data', 'subject string', 'silver rationale', 'linguistic relation', 'scenario based question', 'subfigure subcaption annotation', 'named entity class', 'hindi text', 'qualifier information', 'sentence cloze', 'question answer evidence pair', 'label count', 'sarcastic sentence', 'chatbot response', 'translated label', 'contextless syntactic ambiguity', 'word alignment boundary', 'documentary source', 'dialogue safety label', 'hormonal therapy', 'test set', 'verb to noun correspondence', 'conference proceedings', 'written italian', 'native script text', 'colloquial expression', 'annotation guideline', 'message', 'news article title', 'context v1', 'non health', 'asr performance analysi', 'egomotion data', 'source code documentation', 'natural language motivation', 'debate topic', 'chemical entity mention', 'anomalous frame annotation', 'page segment', 'keypoint', 'job vacancy description', 'speaker information', 'relationship type information', 'handwriting entity', 'semantic types and relation', 'chinese text', 'epistemic reasoning problem', 'app review', 'tv series transcript', 'morphological segmentation', 'classified example', 'clinical outcome data', 'temporal caption', 'task specific text', 'flickr tag', 'python script', 'markdown', 'valence rating', 'opinion content', 'expression variation', 'hotel review', 'patent id', 'category hierarchy', 'short form story', 'pun keyword', 'navigation command', 'comparative question', 'land cover annotation', 'event recognition', 'search engine ranking', 'discovery characterization data', 'facial action unit annotation', 'stimulation paradigm documentation', 'ocr text annotation', 'semantic relation', 'pronoun resolution', 'scene entry', 'author years of life', 'publisher bias label', 'question variation', 'dataset split information', 'fact effect reason introspection description', 'user desire', 'expression distribution vector', 'manual text', 'audiobook transcription', 'genetic mutation status', 'reference information', 'actor identifier', 'difference annotation', 'relationship metadata', 'post caption', 'english token', 'body dimension', 'labeled ner data', 'evaluation finding', '6 dof pose', 'anecdote', 'source image prompt', 'customer response', 'dialogue annotation', 'font description', 'natural language utterance', 'game commentary', 'submission', 'e-print', 'polarity label', 'legal decision text', 'manual annotation', 'neg raising inference', 'long document', 'unique pedestrian id', 'emotion labeled sentence', 'verbal praise', 'feedback', 'categorical attribute', 'novelty measure text', 'blog', 'counter narrative', 'aspect based sentiment annotation', 'beneficiary detail', 'customer interaction', 'operational mitigation data', 'long emotional response', 'materials science text', 'prompts and class', 'user prompt', 'solar radiance value', 'annotated program', 'crossword answer', 'reddit comment', 'translated event phrase', 'behavior label', 'tracking statistic', 'typeset formula', 'empathetic dialogue', 'system monitoring log', 'catalogue text', 'logical operator sentence', 'emotion word', 'instance information', 'scene label', 'user tag', 'administrative boundaries', 'tagging information', 'syntax tree', 'metadata link', 'code documentation', 'outline', 'absurd question', 'product price', 'meta review summary', 'interpretation note', 'reasoning error description', 'evidence sentence', 'generic intent module', 'plot metadata', 'column header', 'vehicle model', 'biomedical relation', 'genre label', 'technical specification', 'tool description', 'semantic attribute', 'recommendation log', 'task specific prompt', 'actual metric data', 'usage term', 'numerical data', 'test metadata', 'word context', 'username', 'dag information', 'extracted audio feature', 'action', 'behavior domain definition language', 'symptoms', 'textual cue', 'hate speech category', 'emotion explanation', 'html table code', 'factual statement', 'human attitude', 'apache access and error log', 'translated question', 'turn level goal', 'natural language text', 'main text', 'compositional question', 'corrected chinese sentence', 'trope', 'research papers', 'diversity label', 'topic document', 'common sense reasoning', 'account metadata', 'description sequence', 'outpatient claim', 'goal oriented dialog', 'class annotation', 'stance label', 'user generated tag', 'interactive element metadata', 'edited response', 'rule generated sentence', 'project data for commit', 'self assessment rating', 'cve description', 'correspondence annotation', 'financial question', 'cycle bounds annotation', 'synthesis action retrieval', 'appearance property description', 'operating system log', 'linked data', 'perturbation', 'amr pair', 'questions about private content', 'quality annotation', 'post edits/correction', 'episodic buffer instruction', 'diagnostic annotation', 'phonetic alphabet', 'zero shot relation extraction', 'chemical annotation', 'code editing instruction', 'table content', 'sentence translation', 'integer feature', 'language modeling', '2d joint location annotation', 'insurance status', 'bullet point summary', 'paper', 'intent utterance', 'scientific literature', 'multiple choice option', 'user feature', 'occupancy label', 'nominal attribute', 'customer review sentence', 'counting question', 'atomic action label', 'reference', 'airport information', 'musical annotation', 'natural language generation', 'radiologist annotation', 'method', 'contact distance', 'triple', 'syllable and phoneme level lyric', 'retrieval result', 'similarity annotation', 'community description', 'syntactically complex sentence', 'manipulation metadata', 'zero anaphora resolution', 'clinical manifestation', 'household description', 'temporal tag', 'contradictory claim', 'tweet label', 'online comment', 'distractor term', 'climate factor', 'benchmark detail', 'faq item', 'driver reasoning', 'material description', 'mutated claim', 'cultural heritage article', 'compositional skill tag', 'social event label', 'scenario', 'v2x message', 'web document', 'movie metadata', 'training sentence', 'manifest feature', 'chemical reaction data', 'moon phase description', 'platform documentation', 'geographic entity alignment', 'training data entity alignment', 'supporting evidence', 'dialog act', 'document level text', 'section', 'model parameter', 'beer review', 'in context learning attack', 'comparison pair', 'scene text', 'javadoc comment', 'cultural topic', 'substitution score', 'product answer', 'experiment description', 'class label', 'growth interval data', 'country name', 'natural language explanation', 'survey question', 'ip address', 'entity recognition', 'segmentation text', 'occupancy rate', 'website source code', 'noun', 'event narrative', 'non paraphrase', 'user timeline', 'study introduction', 'subreddit post', 'location data', 'wikipedia text', 'command description', 'extractive summary', 'midi annotation', 'environmental condition annotation', 'gmm parameter value', 'twitter interaction', 'document level n ary relation identification', 'section text', 'smart contract code', 'brand information', 'smiles string', 'cultural prompt', 'vehicle maneuver', 'question reformulation', 'cqa thread', 'cited abstract', 'error marking', 'context information', 'sentence level sentiment', 'defect annotation', 'list of owl reasoner', 'user annotation', 'event argument', 'debate transcript', 'pathological classification label', 'historical record', 'named entity recognition', 'moral scenario', 'real world sentence', 'language model prompt', 'word in context', 'voting record', 'retrieve negative', 'public metadata', 'stata code', 'choreography step chart', 'legal reasoning task', 'nutritional information', 'dbpedia entity', 'labeled sentence', 'knowledge graph triplets', 'landmark annotation', 'geolocation metadata', 'special token', 'relevant document', 'single sentence description', 'word segmentation', 'academic guideline', 'case description', 'scientific publication record', 'visual question answering', 'benchmark evaluation', 'family relationship', 'experiment parameter', 'json format action', 'game prompt', 'keyword', 'document collection', 'pronoun translation', 'retweet link', 'character profile', 'temporal annotation', 'self reported information', 'medical finding', 'rdf triple', 'sudoku instance', 'translated topic', 'perceptual clinical score', 'inference reasoning', 'scene annotation', 'sewing pattern', 'naming convention', 'offensive language', 'machine translated prompt', 'player information', 'function signature', 'veridicality judgment', 'loan record', 'importance score', 'unlabeled inference rule candidate', 'code comment', 'synthetic summary', 'data collection detail', 'dialog utterance', 'spatial layout analysi', 'spoken message', 'musical score in midi format', 'social media comment', 'biomedical entity mention', 'artist metadata', 'answer set', 'movie review document', 'evidence snippet', 'grasp point annotation', 'ethereum nft collection', 'drawing prompt', 'api instruction', 'music player command', 'study metadata', 'in game event', 'viewer choice', 'bioactivity data', 'dialogue session', 'license plate identification', 'participant profile', 'physical parameter', 'table', 'disease label', 'explanations and flag', 'counseling school', 'masked token', 'occlusion', 'abbreviation', 'brief summary', 'scripted paragraph', 'ungrounded answer', 'aspect category', 'entity link', 'original story', 'multi turn interaction', 'object tracking data', 'house description', 'paragraph pair', 'interpretable program', 'premise summary', 'transcribed word', 'context', 'syntactic analysi', 'smart contract', 'symbolic reasoning', 'behavioral report', 'temporal answer', 'adversarial prompt', 'pairwise relation', 'marking type', 'educational content', 'scientific article description', 'ground truth pathology', 'symbolic situation description', 'xbrl tag', 'language modeling text', 'practice notebook', 'qoe log', 'code structure schema', 'emotion cause', 'coordinate', 'instructional text', 'project description', 'molecule information', 'license plate annotation', 'dense representation', 'issue tracker', 'author', 'logical reconstruction', 'bridge answer', 'synthetic scene description', 'city name', 'simplified reference', 'word level extractive summary', 'token based text', 'mathematical description', 'lexical change', 'shape index', 'email subject', 'survey and interview data', 'privacy policy text', 'translation text', 'dockerfile', 'adversarial technique', 'immediate reward', 'synthesis sentence', 'triplet', 'lighting condition', 'spoken language subtitle', 'sentence label', 'intent description', 'demographic annotation', 'author summary', 'translation memory', 'video title', 'machine translation output', 'arabic text', 'product question', 'quote', 'date', 'song metadata', 'n-gram language model', 'reaction time', 'sentiment classification', 'threat report', 'text annotation', 'bilingual sentence', 'action reason', 'opinion summary', 'legal case description', 'metadata', 'tag', 'text localization', 'line', 'offensive language classification', 'structured personal profile', 'challenge description', 'annotated passage', 'user name', 'blurb', 'biomedical literature', 'acne severity annotation', 'code summarization', 'full paper text', 'on screen text', 'race category', 'extractive trigger', 'track id', 'persuasive dialogue', 'bioentity annotation', 'head center annotation', 'relation description', 'mileage', 'bert feature', 'object attribute', 'web text', 'simulation description', 'commonsense reasoning problem', 'verification question', 'basic statistic', 'hand pose annotation', 'navigation question', 'instruction sequence', 'image characteristic', 'caption', 'funding status', 'force profile', 'article type', 'user query', 'step text', 'molecule smile', 'plane information', 'corrected utterance', 'related link', 'trip identifier', 'device status', 'viewpoint annotation', 'pedestrian unique id', 'consumer question', 'figure caption', 'statutory article', 'orthographic word', 'environmental data', 'multilingual reply', 'multiple choice question', 'motivational reason', 'structural stability annotation', 'wikipedia article url', 'source code identifier', 'funding goal', 'operation result', 'categorical information', 'character label', 'user generated text', 'controllable text', 'structured data entry', 'rationale', 'end systolic volume', 'demographic infused sentence', 'code mixed dialogue', 'era label', 'dialogue interaction', 'continuous field', 'tv show synopsis', 'processed content', 'feed generator output', 'chinese broadcast conversation', 'telegraphic summary', 'continuous attribute', 'reading passage', 'macular fovea coordinate', 'machine translated text', 'functional example', 'entity knowledge fact', 'unvoiced frame', 'road signs and text', 'type taxonomy discovery', 'baseline classifier output', 'vision category', 'drugbank document', 'adverse drug reaction', 'analysis and explanation', 'st offsets label', 'informative vs non informative sentence', 'forum question', 'walkthrough', 'human generated article', 'aspect category opinion sentiment quadruple', 'sentence annotation', 'sales forecast data', 'edited text', 'dialog', 'scale annotation', 'software testing question', 'limerick', 'phoneme level alignment', 'acquisition function comparison result', 'movie spoiler question', 'web page content', 'clinical data', 'book passage', 'mathematical solution', 'reverse geocoding output', 'recording annotation', 'howsumm step summary', 'character gender label', 'argument', 'scientific field label', 'programming instruction', 'mathematical question', 'sarcasm explanation', 'elementary text', 'engagement profile', 'language sample', 'movie quote', 'treatment detail', 'lexicon', 'author profile', 'user artist interaction', 'salient content', 'event marker', 'phone number manipulation', 'facial landmarks annotation', 'arabic numeral', 'geometrical characteristic', 'autonomous system number', 'structured corpus example', 'bid announcement', 'word sense disambiguation', 'triplet annotation', 'post summary', 'psychological topic', 'real world text', 'genomic sequence', 'self mention', 'word frequency', 'speaker attribution cue', 'evidence grading description', 'dataset_description', 'hateful level', 'additional page', 'simulink model description', 'entity uri', 'number plate text', 'artistic comment', 'clinical trial report', 'linguistic feature', 'radiologist labeled reference standard evaluation set', 'sentences with post modifier', 'internal state profiling', 'competency question', 'non dark pattern text', 'multi hop reasoning passage', 'agnostic emoji side sentence', 'fine grained pos annotation', 'contextual description', 'phrase retrieval', 'side effect frequency', 'navigation_instructions', 'programming assignment', 'cast information', 'slide content', 'query focused summary', 'contact duration', 'public health claim', 'subject', 'model performance metric', 'masculine to feminine correspondence', 'presupposition correction', 'mood rating', 'semantic divergence annotation', 'network communication log', 'book review', 'topic prompt', 'user generated title', 'validation data dangling entity', 'conference name', 'station information', 'human written passage', 'student learning trace', 'economic scenario', 'machine generated text', 'utterance level annotation', 'trope description', 'court document', 'compliance checking instruction', 'news recommendation', 'supporting document', 'category', 'query passage related pair', 'multi class classification', 'candidate document', 'multi hop question', 'genomic data description', 'neurological function assessment', 'dialogic turn', 'drug target relation', 'discharge letter', 'diagnosis and management label', 'business_descriptions', 'step by step instruction', 'node feature', 'monologue text', 'intent detection', 'categorical field', 'variable description', 'meeting transcript', 'user connection', 'screen name', 'countries scientific relative production', 'people count annotation', 'network description', 'party name', 'official report', 'geographic entity description', 'state abbreviation', 'lyric', 'podcast transcript', 'persian running text', 'verbalization', 'gtfs data representation', 'tool scene', 'local climate zone label', 'comparable text corpus', 'natural language title', 'emotional text', 'bounding box label', 'game summary', 'wine rating', 'train attribute', 'anomaly annotation', 'sentence level perturbation', 'scientific study', 'benchmark finding', 'particle cloud data', 'acquisition protocol', 'word pairs with relatedness score', 'coreference link', 'intent and slots annotation', 'localized narrative', 'annotated span', 'multilingual content', 'business growth narrative', 'figure legend', 'residue index', 'outcome', 'terminology', 'book summary', 'movie script caption', 'drug description', 'interaction and action information', 'discourse error', 'camera parameter', 'textbook content', 'science', 'word co occurrence information', 'outfit data', 'commonsense reasoning statement', 'crime category', 'coreference cluster', 'campaign description', 'scene attribute', 'video script', 'rule based augmentation dataset', 'single sentence query', 'narrative context', 'symbolic situation program', 'report statistic', 'datasets utilized', 'research review', 'common knowledge fact', 'socio emotional annotation', 'ground truth light setting', 'risk category', 'article', 'image label', 'raw dataset', 'paraphrased answer', 'explanation', 'single intent query', 'cleaned document text', 'dialogue schema', 'adversarial instance', 'safety meta label', 'file description', 'attack prompt', 'stroke annotation', 'error message', 'instruction token', 'stop lemma', 'political issue', 'fact checked claim', 'clinical report label', 'object relation text', 'hate speech class', 'tweets about general disease', 'binary diagnosi', 'mbti dimension output', 'task type', 'diagnostic passage', 'tweet text', 'competition description', 'medication reconciliation', 'film description', 'safe unsafe pair', 'wiki knowledge base', 'state name', 'argumentative writing prompt', 'network log', 'condition name', 'credibility rating', 'motion forecasting scenario', 'synthesis parameter', 'formal sentence', 'human post edit', 'recommendation measure', 'instrument detection annotation', 'search result', 'hyperparameter detail', 'soft attribute', 'mood assessment', 'legal task', 'court opinion', 'placement description', 'bibliography', 'attention annotation', 'vital sign', 'real world knowledge error', 'web review', 'paper description', 'article reference', 'species table', 'demographic', 'profile identifier', 'constituency syntactic annotation', 'secondary structure sequence', 'long sentence', 'unary predicate', 'story cloze test', 'open question answering', 'midi note annotation', 'latent factor description', 'warping parameter', 'financial report', 'question_answer_pairs', 'soft biometric annotation', 'user identifier', 'perceptual response', 'fitness metric', 'task based dialog', 'outcome report', 'bengali review', 'labelled comment', 'geometric feature', 'metric type', 'match information', 'label annotation', 'category name', 'summary annotation', 'subreddit information', 'wikidata description', 'claim type', 'frame scene annotation', 'language direction', 'citation information', 'pddl description', 'groundtruth data', 'multilingual segment', 'ner label', 'logical reasoning', 'user engagement metric', 'event label', 'news body', 'text scenario', 'busines', 'album detail', 'medical record', 'faq pair', 'unsupportive language', 'transcriptions', 'labels', 'flagged nft', 'vocal/non vocal segment', 'seo attribute', 'webpage content', 'chart title', 'company description', 'profile sentence', 'gesture class label', 'malware feature', 'question/answer pair', 'functionally correct solution', 'entity rich question', 'vtp annotation', 'multilingual lexical data', 'test response', 'clinical annotation', 'sudoku grid', 'phonology', 'building footprint annotation', 'scientific formula', 'sentence completion', 'timex', 'odp content vector', 'question transcript', 'hebrew text with nikud', 'proverb translation', 'mathematical reasoning task', 'clinical trial eligibility criterion', 'repost', 'abuse detection text', 'cluster title', 'medical diagnosis phrase', 'clinical index', 'user annotated chapter', 'tool tracking annotation', 'mbti dimension input', 'audio event description', 'dbh', 'wiki page', 'demographic attribute', 'translation metric', 'edit information', 'academic paper', 'source code', 'source text', 'query document', 'conversational qa', 'words', 'neighbor fact', 'journal information', 'annotations on harm', 'query sentence', 'novel text', 'abstract', 'event event relation', 'sentence transcript', 'meeting agendum', 'diagnostic label', 'part mobility parameter', 'citation relationship', 'text classification', 'drug side effect', 'transaction description', 'vulnerability label', 'morpheme based text', 'task annotation', 'blackout poem', 'puzzle description', 'compositional description', 'post', 'homography matrix', 'navigation label', 'human reverse reason', 'privacy related scenario', 'opinion', 'code sample', 'short description', 'classification result', 'attribute annotation', 'income label', 'code token', 'body measurement', 'docstring', 'extracted speech', 'part of speech tag', 'taxonomy metadata', 'hashtag', 'semantic interpretation', 'binary quantification data', 'surgical action annotation', 'alias', 'movie description', 'debiased nli sample', 'educational text', 'target annotation', 'clip level caption', 'relation extraction example', 'multi class quantification data', 'gameplay description', 'empiar id', 'paraphrase adversaries from word scrambling', 'item property', 'musical piece annotation', 'policy measure', 'pitch contour', 'unsafe subaspect', 'natural language command', 'slot tag', 'converted message', 'storytelling', 'structure boundary detection', 'protein mutation description', 'security protocol', 'central bank text', 'typed phrase', 'product category', 'narrative discharge summary', 'annotated keyphrase', 'easy summary', 'stack exchange questions and answer', 'evidence article', 'gps data', 'reasoning concept', 'music genre', 'tweets', 'benchmark description', 'evidence', 'surface syntactic frame', 'fill in the blank', 'phonetically balanced sentence', 'patch', 'collection section', 'term similarity score', 'latex formula', 'chinese printed text', 'human evaluated facts answer', 'environment description', 'explanation label', 'email metadata', 'research abstract', 'comparison relation', 'clinical diagnosi', 'text segment', 'political party', 'content taxonomy', 'experimental detail', 'news article source', 'legal document', 'species label', 'nli sentence', 'estimated floor', 'category information', 'user mention', 'discourse marker', 'verbal description', 'citation sentence', 'wine review', 'business process description', 'diagnosis generation', 'summaries', 'gold passage', 'character perturbation', 'paragraph', 'auto constructed test example', 'modification text', 'sentiment annotation', 'query paraphrasing', 'solution', 'biomedical task description', 'language augmented model', 'human answer', 'speech', 'knowledge base fact', 'natural language sentence', 'syllogistic premise', 'multiple choice answer', 'layout element annotation', 'coarse label', 'word word dependency', 'solution label', 'language label', 'earnings call transcript', 'personal attribute', 'real caption', 'climate change nlu task', 'repository metadata', 'accident report', 'query intent category', 'skin tone annotation', 'challenging instance', 'human generated caption', 'translation quality annotation', 'model architecture', 'unannotated text', 'depth information', 'vehicle body type label', 'argument summary', 'crop type description', 'contract text', 'adequacy annotation', 'scientific question', 'sentence level token', 'physical commonsense question', 'genomics description', 'fact check report', 'design description', 'parallel corpus', 'expert commentary', 'reference translation', 'covariate description', 'benchmark result', 'tweeter id', 'model response', 'biological scientific abstract', 'sentence level annotation', 'code completion', 'truss structure description', 'information extraction result', 'text recognition', 'job description', 'network traffic log', 'human_judgement_scores', 'article theme', 'code coverage log', 'door number', 'sorting type', 'question', 'forum post', 'pico element', 'biological entity description', 'transcribed text', 'unique word', 'document structure', 'song difficulty annotation', 'high level feature', 'vehicle price', 'quantified expression', 'layout annotation', 'wikipedia description', 'standard german reference', 'evidence document', 'survey', 'paraphrased sentence pair', 'phoneme level annotation', 'natural language queries', 'development history', 'geometric annotation', 'sparql/geosparql query', 'email recipient', 'theory question', 'english description', 'linguistic perturbation', 'fact checking label', 'political leaning label', 'software event log', 'self reported perception', 'open access archive', 'winograd schema', 'german description', 'matrix shape', 'metaphor', 'institution name', 'object description', 'domain specific arithmetic reasoning', 'camera annotation', 'annual report text', 'cell identity', 'syntax', 'response naturalnes', 'happy moment', 'test urls from url shortener', 'evaluation comment', 'factuality system score', 'psychological survey item', 'change point annotation', 'data science question', 'relationship profiling', 'view hierarchy', 'activity description', 'commonsense knowledge text', 'syntactically simple sentence', 'encryption metadata', 'performance annotation', 'device configuration', 'cooking recipe', 'testcase', 'part of speech annotation', 'textual tag', 'tour name', 'question decomposition meaning representation', 'movie recommendation', 'attack description', 'scientific abstracts', 'language name', 'emotional development survey', 'research description', 'style label', 'sleep stage annotation', 'chaotic long text', 'confidence score', 'official document', 'valence and arousal intensity', 'event classification label', 'interrater analysis data', 'position annotation', 'automatic transcription', 'sign word label', 'road network information', 'predicted sentiment score', 'medical abstract', 'article abstract', 'annotator rationale', 'aligned passage question pair', 'subjective mean opinion score', 'ecg annotation', 'complexity annotation', 'hate tweet', 'lay summary', 'functional program', 'pre trained language model output', 'segmentation mask annotation', 'neutral sentence', 'facial landmark annotation', 'continuous emotion dimension', 'language learner text', 'classification text', 'aspect summary', 'google trends data', 'reference article', 'direct answer', 'background information', 'molfile', 'clinical characteristic', 'legislative text', 'framenet frame element', 'question generation', 'geographical metadata', 'usage instruction', 'annotation label', 'learner written text', 'labs information', 'noisy comment', 'automatically filtered transcript', 'adversarial example', 'medical reasoning example', 'comment classification', 'cloze style reading comprehension', 'instruction input output triplet', 'topic', 'bug fix pair', 'textual source', 'document text', 'expert level annotation', 'profile url', 'behavioral descriptor', 'algorithm evaluation', 'beat and bar annotation', 'session response pair', 'supply chain metadata', 'function calls info', 'differential diagnosi', 'biomedical passage', 'discourse', 'script identification', 'animal description', 'chart caption', 'type annotation', 'object position data', 'paired sentence', 'object size comparison', 'business taxonomy', 'result type metadata', 'generation instruction', 'dataset metadata', 'answer candidate', 'medical question', 'hate speech ending', 'calibration', 'propositional logic response', 'natural language specification', 'underlying medical condition', 'log entry', 'sarcastic comment', 'vehicle model label', 'clinical trial info', 'channel information', 'article title', 'climate science article', 'contact information', 'aboutness topic', 'spatiotemporal information', 'clothing attribute', 'pull request description', 'answer source', 'repository documentation', 'persuasion strategy label', 'model documentation', 'financial news', 'order label', 'whpa prediction explanation', 'specification', 'bias span', 'fact check', 'corrected english text', 'configuration detail', 'line annotation', 'ar session metadata', 'naive poetry', 'trademark text data', 'duplicate defect relationship', 'indonesian language text', 'facial landmarks metadata', 'manual correction', 'pun sentence', 'formal representation', 'manually annotated story', 'sentence pair classification', 'scene level attribute', 'urls from linux system', 'unlabeled set', 'french text sample', 'triage category', 'child information', 'handwritten document transcription', 'protection scenario', 'business tip', 'identity centric description', 'information seeking question', 'scene description', 'delay information', 'user rating', 'original query', 'automated evaluation data', 'sales property data', 'manifest file', 'user query log', 'entity record', 'open answered question', 'speech transcript', 'monotonicity reasoning example', 'experiment log', 'network flow feature', 'delexicalized prompt', 'visual reasoning question', 'service description', 'geo location', 'clinical trial documentation', 'human ranking', 'content sharing text', 'article summaries', 'progesterone receptor', 'vpn log', 'coherence relation', 'diagram description', 'ejection fraction estimate', 'code switched text', 'land cover label', 'grammar pattern', 'email domain', 'author name', 'non native submission', 'linguistic construct', 'meeting report', 'answer', 'coco format annotation', 'out of domain sentence', 'encoded manuscript', 'transaction detail', 'gaze trace', 'regional dialect sentence', 'lane annotation', 'taxonomic reference', 'latex source code', 'opinion reason', 'paper reference', 'sarcasm perspective label', 'closed caption', 'json index', 'organism annotation', 'cause annotation', 'study result', 'traffic report', 'numerical value', 'nlu task', 'icd-10 code', 'location information', 'trip category', 'user reaction', 'musical note annotation', 'movie plot summary', 'grammatical error sentence', 'implicit preference', 'grounded reasoning', 'jams file', 'classification prediction', 'biomedical entity description', 'coreference resolution', 'descriptive query', 'stance detection text', 'case report', 'chatbot conversation', 'stance annotation', 'timestamp', 'gender information', 'regulatory reference', 'contact time', 'jailbreak prompt', 'movie comment', 'quality assessment', 'player document', 'postmortem analysi', 'codebook', 'semantically neutral script', 'spatial role labeling', 'relation annotations', 'per pixel class segmentation', 'speaker attribute', 'social recognition task description', 'experimental data', 'preference', 'human edited evaluation', 'manuscript', 'language agnostic text', 'json record', 'encounter timestamp', 'application metadata', 'topic label', 'gleason grade', 'wikipedia page view', 'python solution', 'c program', 'gloss annotation', 'post edited sentence', 'negative answer', 'morphosyntactic feature', 'stylized caption', 'chess game move', 'compas risk score', 'health related question', 'scenario description', 'user story title', 'evaluation text set', 'nodule information', 'semantic dependency', 'protein classification', 'user preference', 'supplementary material reference', 'dialogue line', 'content metadata', 'dialogue act segment', 'stock compounds list', 'annotated parallel corpu', 'latex structure label', 'query', 'simplified medical abstract', 'vyper source code', 'english sentence', 'publication venue', 'character line', 'word stress annotation', 'transformation question', 'diagnosis annotation', 'cross language code translation', 'recipe', 'license plate position', 'design operation', 'target answer', 'pixel level label', 'summary text', 'cell class annotation', 'annotated contour', 'clinical measurement', 'positional data', 'population', 'relatedness score', 'spatial label', 'segmentation label', 'main editing body', 'vaccine stance', 'aave sample', 'textual evidence for desire fulfillment', 'skeleton joint location', 'backorder status', 'ground truth pose', 'drive metadata', 'question thread', 'formal text', 'image descriptions in german', 'editor interaction', 'news segment', 'system generated summary', 'respiration rate annotation', 'response candidate', 'emergent anglicism', 'exercise_answers', 'masked variant', 'knowledge grounded dialogue', 'reference certificate', 'answer sentence', 'chess game record', 'seller information', 'commit information', 'api function call completion', 'participant demographic information', 'inference', 'validation status', 'hate speech', 'text answer', 'caption description', 'subject parameter', 'affirmative sentence', 'pose keypoints annotation', 'commonsense pronoun resolution', 'hand written summary', 'eye tracking annotation', 'genetic information', 'story ending', 'premise hypothesis pair', 'text editing', 'surface construction annotation', 'relation extraction', 'twitter reaction', 'reasoning type', 'academic social network', 'field report', 'closed ended question', 'religious source', 'sp pair', 'source sentence', 'mathematical reasoning', 'section title', 'business description', 'advanced statistic', 'transcription', 'plot summary', 'emoji description', 'deciphered text', 'logical reasoning task', 'character statement', 'subjective score', 'diacritized arabic text', 'destructor passage', 'semantic parsing', 'issue tracking data', 'annotated question', 'user agent dialogue', 'audio description', 'clinical feature', 'sequence tagging text', 'image chinese captioning', 'dialogic discourse annotation', 'detection label', 'gps coordinate', 'arabic newswire', 'forum comments and reply', 'cell type annotation', 'gender identity and sexual health survey', 'chapter', 'metrics evaluation text', 'binary classification label', 'web table', 'website information', 'malicious task description', 'academic article', 'semantic contrast', 'ontology', 'reddit thread', 'private message', 'virustotal report', 'difficulty level', 'ground truth track', 'protein identifier', 'positive statement', 'abstractive text summarization', 'japanese subtitle', 'guideline', 'netizen comment', 'spatial description', 'phone conversation', 'instruction caption', 'historical newspaper page', 'store name', 'comparison text', 'model name', 'blood cell label', 'speaker description', 'action level label', 'affective state label', 'driver behavior annotation', 'academic discipline response', 'video text', 'land use class', 'multilingual answer', 'translated document', 'classic novel', 'scientific paper abstract', 'task oriented dialogue', 'patent classification', 'musical notation', 'aviation accident report', 'dialog act annotation', 'advice characteristic', 'factuality label', 'reader comment', 'hint', 'midi file', 'urdu text line', 'free text qa pair', 'self reported distress label', 'simulation output', 'ball 2d coordinates annotation', 'bibliographic record', '3d joint position', 'entity assignment', 'multilingual dialogue data', 'semantic similarity score', 'documentation translation', 'experiment detail', 'identity reference', 'glaucoma diagnosis annotation', 'diplomatic document', 'meter price', 'parent comment', 'topic guidance', 'crop label', 'extracted fact', 'context word', 'problem category', 'machine generated article', 'issue comment', 'age', 'search result snippet', 'supporting evidence paragraph', 'novel word', 'lexical and syntactic analysi', 'fact checking article', 'shot scale annotation', 'sign annotation', 'patient one liner case summary', 'ground truth description', 'crossword solution', 'defense strategy', 'medical sentence', 'interaction triplet', 'ids alarm', 'misinformation target', 'sentiment polarity', 'action unit annotation', 'radiological findings description', 'information report', 'informative noun', 'explicit demonstration', 'language annotation', 'aspect', 'slot', 'compositional questions', 'focal method', 'label', 'yaw angle', 'cross lingual paragraph aligned data', 'hazard classification', 'cloze style query', 'handwritten mathematical expression', 'lesson text', 'stock price label', 'story/poem generation', 'setup file', 'chinese novel', 'research analysi', 'crime story', 'numeric attribute value', 'performance metric', 'academic abstracts', 'instructional query', 'product title', 'gaze data', 'language variant', 'post edited text', 'driving pattern annotation', 'key point', 'microblog', 'workflow description', 'analytical insight', 'code span', 'software mention', 'bible text', 'japanese sentence', 'clinical information', 'noun phrase', 'problem symptom', 'moral dilemma description', 'hospital admission and discharge data', 'restoration', 'co reference annotation', 'environmental measurement', 'gps geolocalization tag', 'argumentative structure annotation', 'annotated text', 'legal case document', 'drug usage', 'category mapping', 'positive context', 'thingtalk', 'case outcome annotation', 'business financial news', 'transaction analysi', 'vertical cup to disc ratio', 'event mention', 'point level label', 'course document', 'web resource description', 'scene saliency label', 'causal statement', 'entity type annotation', 'key performance measurement', 'scene graph annotation', 'theorem description', 'article excerpt', 'commonsense inference', 'similar language text', '2d coordinates of reprojected joint position', 'acceptability judgment', 'classical chinese poetry line', 'hazard category', 'hope speech labels', 'temporal label', 'breed annotation', 'driver behavior label', 'categorical feature', 'failure type annotation', 'clothing and accessory', 'product name', 'pedestrian description', 'chinese character', 'morphological annotation', 'open domain qa', 'patent paragraph', 'reading comprehension text', 'participant rating', 'java method', 'histopathological confirmation', 'scientific paper summary', 'research topic', 'forum thread', 'app description', 'free form response', 'specimen size', 'preference pair', 'summary', 'damage criterion', 'test case', 'relation classification sentence', 'road name', 'explanation method', 'english newswire', 'emotion tag', 'scientific paper text', 'clinical evaluation', 'app name', 'nuclei annotation', 'rewrite version', 'slot detection sentence', 'literature', 'logic grounded diagnosi', 'generic utterance', 'procedural language', 'material property', 'dialect label', 'speaker reflection', 'acoustic tag', 'translated sentence pair', 'meta annotation', 'face attributes metadata', 'journal metadata', 'analytical description', 'camera pose data', 'broadcast transcript', 'channel parameter', 'system message', 'exam problem', 'housing attribute', 'court decision', 'ground truth position', 'problem explanation', 'clinical condition', 'red conversation', 'expression label', 'open ended question', 'building footprint vector', 'coreference labeled pair', 'dns log', 'cumulative count', 'pedestrian attribute', 'document', 'action description', 'slot type', 'sunspot annotation', 'authorship classification', 'legal opinion', 'health related text', 'span extraction data', 'q&a pair', 'challenge attribute', 'user interaction', 'antecedent', 'pathology report', 'programming problem', 'lipogrammatic literature', 'scientific finding', 'argumentative zone', 'click log', 'domain specific intent', 'english broadcast conversation', 'survey paper', 'additional information', 'bounding boxes and segmentation mask', 'static analysis result', 'medical document', 'annotated negative triple', 'meta file', 'transcribed narration', 'relational knowledge', 'review summary', 'word index', 'hair attributes annotation', 'language understanding', 'training example', 'bug fixing commit link', 'chinese word segmentation', 'language model evaluation', 'kinematic model', '2d annotation', 'argumentative label', 'video level activity label', 'tutorial', 'route metadata', 'trajectory annotation', 'reasoning step', 'news story', 'math problem', 'game mechanics description', 'development set', 'pddl domain file', 'script data', 'catalogue information', 'informative text', 'out of scope query', 'supportive language', 'word translation', 'user activity description', 'compound smiles string', 'legal analogical reasoning question', 'syntactic evaluation sentence', 'negative reason label', 'uav command', 'claims information', 'propaganda technique', 'click data', 'query ad matching', 'citation graph', 'clause embedding predicate', 'pun explanation', 'benchmarking test', 'notice instruction', 'student answer', 'commonsense reasoning', 'topic discussion', 'word dependency graph', 'knowledge assessment', 'event coreference chain', 'repository description', 'object pose annotation', 'harmful query', 'context passage', 'alignment', 'subcategory', 'hate speech example', 'spatio temporal annotation', 'lexical resource', 'match file', 'part label', 'contact force', 'counterfactual annotation', 'news entity', 'descriptive statistic', 'evaluation script', 'reference summary', 'protein interaction description', 'event option', 'bidding log', 'answer summary', 'fact based text', 'netizen style comment', 'translated prompt', 'book', 'node attribute', 'context sentence', 'slam pose', 'ground truth data', 'verbalized triple', 'historical age', 'detailed caption', 'vehicle information', 'similarity judgment', 'action segments annotation', 'symptom question', 'ground truth object depth', 'keystroke action', 'chemistry problem', 'literal', 'ner annotation', 'medical topic', 'time manipulation', 'academic study', 'discriminative question', 'code snippet', 'learning log', 'benchmark task description', 'transcripts of flight inquiry', 'professional writing prompt', 'document passage', 'ground truth file', 'configuration file', 'rule', 'twitter username', 'future event prediction', 'common sense explanation', 'phrase', 'address string', 'post user', 'tweet context', 'sub word tokenization', 'knowledge base', 'movie name', 'normalized transcription', 'high level action', 'analytical solutions documentation', 'entity annotations', 'parallel corpu', 'fiction', 'medical note', 'operation log', 'full video expression', 'document source code', 'corporate annual report', 'diacritized hebrew text', 'medication information', 'medical code', 'canonical smile', 'artwork description', 'evaluation dimension', 'interview transcript', 'citation string', 'syllogistic nli', 'anatomical landmark description', 'inference rule candidate', 'supporting text', 'user information', 'lane label', 'political topic', 'road user classification', 'edit action', 'discharge diagnosis', 'chat log', 'cant', 'nice to have statement', 'chatbot prompt', 'food label', 'code context', 'visual attribute annotation', 'job posting table', 'math question', 'relational triple', 'facial landmark', 'subjective statement', 'book content', 'sentence level rating', 'synthetic revision', 'geo position', 'geonames code', 'informal text', 'bridging utterance', 'natural language proof', 'hard negative context', 'readme documentation', 'vocal transcription', 'imaging feature', 'metric name', 'article content', 'hospitalization information', 'camera pose information', 'academic paper title', 'political bias numeric', 'pedestrian age group', 'partial annotation', 'chart description', 'student activity log', 'alternative answer', 'mgmt promoter methylation status', 'temporal coverage', 'political statement', 'motion similarity annotation', 'in context learning prompt', 'annotation', 'business_reviews', 'natural language instruction', 'semantic rating', 'daily new death', 'neural mt model', 'vehicle position data', 'translated text', 'hate speech classification', 'maturity model description', 'playlist', 'chemical compound description', 'feature explanation', 'awareness annotation', 'human summary', 'scanning parameter', 'debate argument', 'odor descriptor', 'user story', 'expression annotation', 'geographical information', 'pronoun', 'dataset origin label', 'sentence temporal annotation', 'mortality statistic', 'outfit description', 'node label', 'step level correctness label', 'participant metadata', 'odp description vector', 'expert explanation', 'healthcare factor', 'attribute description', 'chemical disease interaction', 'manufacturer', 'questions and answer', 'restaurant description', 'morpheme', 'crop parameter', 'radio program transcription', 'spatial coverage', 'funding detail', 'multi step instruction', 'textgrid', 'legal will statement', 'idiomatic expression', 'interaction record', 'conceptual relation', 'dialogue act annotation', 'calculated data', 'automatically generated feature', 'reference answer', 'translated article', 'semantic class', 'action category annotation', 'ad title', 'word sequence', 'unicode representation', 'conclusion sentence', 'mathematical rationale', 'process relation', 'information seeking conversation', 'it domain text', 'track metadata', 'event caption', 'participant diary', 'action sequence', 'music transcription', 'music annotation', 'smpl x parameter', 'open relation', 'argumentative text', 'phrase sense disambiguation', 'expert answer', 'contrast sentences with somebody or someone', 'frame level label', 'parsing information', 'dance description', 'abstract summary', 'citation intent', 'dialogue text', 'segmentation mask', 'scientific problem', 'corrected text', 'weather condition', 'congolese swahili translation', 'creative metaphor', 'skill level annotation', 'web search action', 'wikipedia gameplay section', 'sample info', 'coordinate annotation', 'review sentence', 'howsumm method summary', 'inconsistency detection task', 'verb adverb annotation', 'voice over transcription', 'disfluent question', 'scientific publication text', 'hashed identifier', 'gold standard summary', 'beat and tempo annotation', 'scientific paper reference', 'manual label', 'debate document', 'behavioral assessment data', 'target', 'financial report date', 'reviews', 'shot clock', 'character decomposition', 'syntactic structure', 'dialogue act', 'social prediction task description', 'classification description', 'spatial reasoning task', 'camera intrinsic file', 'survey description', 'event category', 'accept reject decision', 'bounding box', 'argument pair', 'semantic expression', 'global summary', 'match report', 'knowledge graph description', 'commonsense premise', 'bengali caption', 'pdf document', 'operation span', 'detail', 'business article', 'volume number', 'short phrase', 'benchmark document', 'word annotation', 'machine transcription', 'vqa question', 'modification sentence', 'vehicle type and size', 'solution explanation', 'embedding', 'cognitive appraisal', 'domain specific vocabulary', 'fluency improved sentence', 'coverage annotation', 'dyadic dialogue', 'behavioral data', 'protein complex description', 'display formulae reference number', 'reasoning graph', 'nomath sentence', 'conceptual description', 'quantity tagged equation', 'news source', 'subjective video quality judgment', 'eye movement ground truth', 'phase and step recognition annotation', 'fact checking statement', 'cognitive assessment', 'entity relation sentence', 'portuguese translation', 'solution step', 'review title', 'online democracy platform', 'impression log', 'room annotation', 'sentence paraphrase', 'historical press article', 'sentence to sentence', 'public domain text', 'song attribute', 'prompting method', 'correlation', 'keypoint annotation', 'rainbow passage', 'language instruction', 'disambiguated question rewrite', 'cosmological and astrophysical parameter', 'rmse data', 'annotations for desire fulfillment', 'molecule label', 'flight record', 'fiction text', 'safety instruction', 'trading data', 'syntactic contrast', 'scientific paper title', 'non stereotype sentence', 'film metadata', 'episodic buffer', 'fictional book excerpt', 'timestamp information', 'image metadata', 'theorem sequence', 'history of science qa', 'modern chinese description', 'dialectal egyptian arabic', 'algorithmic block completion', 'conceptual caption', 'conceptnet mapped statement', 'impression data', 'wheel encoder data', 'speech to text transcription', 'plaintiffs claim', 'event annotation', 'interview', 'text perturbation', 'depth estimation annotation', 'yaml format', 'application description', 'model prediction', 'subreddit topic', 'linked document', 'plant distribution', 'dark pattern text', 'nlp annotation', 'native speaker verified sentence', 'economic factor', 'user initial', 'document title', 'descriptive text', 'entity specific fact', 'attack label', 'training sentence pair', 'laboratory result', 'digit label', 'event log', 'multi turn consultation dialogue', 'timbral analysi', 'demographic characteristic', 'human transcription', 'scholarly article', 'programming question', 'newswire article', 'agent instruction', 'wikipedia revision', 'vehicle location', 'badugi hand', 'assembly action', 'subreddit category', 'grounded answer', 'target term', 'pairwise ranking annotations', 'template test set', 'component description', 'natural utterance', 'predicate argument structure', 'type non-taxonomic relation extraction', 'annotated term', 'inferential strategy annotation', 'warrant', 'text instance', 'code mixed sentence', 'textual description', 'data split', 'chat conversation', 'emotional reaction', 'clinical label', 'garment category', 'reference string', 'action recognition annotation', 'tweet reply', 'diagnosis confirmation detail', 'mood/theme tag', 'morphosyntactic value', 'dialogue summary', 'accuracy report', 'information status', 'similarity condition', 'content based feature', 'character metadata', 'semantic triple', 'explanatory form', 'event representation', 'individual annotation', 'domain specific document', 'answers', 'submission text', 'multilingual query', 'song chord', 'movie script', 'transmission succes', 'spatial metadata', 'qualitative content analysi', 'writing prompt', 'music metadata', 'main answer', 'computed feature', 'bengali image caption', 'transcribed line', 'plot synopsi', 'speech content', 'knowledge base relation triple', 'wikified entity', 'user friend relationship', 'number of positive node', 'commonsense reasoning question', 'movie synopsis', 'naturalistic usage', 'geolocation data', 'user session log', 'broadcast', 'activity annotation', 'node identifier', 'decision outcome', 'error annotation', 'sentence level text', 'demand', 'english named entity', 'activity date', 'dish name', 'rare word representation', 'public health topic', 'song concept', 'facial expression annotation', 'review transcript', 'issue description', 'linguistic attribute', 'timestamp data', 'probability word', 'scientific abstract', 'benchmark analysis summary', 'farmer declaration', 'github code', 'city description', 'valence/arousal rating', 'rubisco forms description', 'concept label', 'ontology description', 'detailed math question', 'musical score', 'judicial verdict', 'geotagging information', 'prediction result', 'pittsburgh opinion', 'city', 'user statistic', 'sentence classification', 'environmental terms prevalence', 'video description', 'demographic factor', 'complex sentence', 'meme text', 'infobox', 'spoken words transcription', 'web page ranking', 'daily new case', 'thematic role', 'spatial relationship', 'sentence level label', 'human response data', 'grasp pose', 'generated caption', 'category_information', 'semantic role labeling', 'dialogue transcription', 'image quality annotation', 'short persian text', 'registration year', 'screening result', 'fake news article', 'machine comprehension', 'corrective information', 'agent perspective', 'video subtitle', 'rental property data', 'score', 'variable mention', 'morphology', 'commonsense reasoning scenario', 'meeting minute', 'negated sentence pair', 'domain adaptation dialogue', 'newswire excerpt', 'vcopa question', 'truthfulness label', 'mechanism sentence', 'human annotated response', 'aspect rating', 'intrusion alert', 'linguistic corpu', 'user behavior data', 'slide text', 'game level annotation', 'indonesian caption', 'learning resource', 'spatiotemporal metadata', 'newspaper editorial', 'relevance tag', 'natural language action', 'alternative label', 'perturbed explanation', 'po', 'weather description', 'identity label', 'transaction label', 'sentence id', 'syntactic parse', 'training document', 'streamer dialogue', 'creative writing', 'date manipulation', 'freetext manipulation', 'sports commentary', 'emotion', 'defense prompt', 'tricky sentence', 'negative sentence', 'coordinate transform', 'revised sentence', 'humorous headline', 'medical measurement', 'latex expression', 'conversation transcription', 'ruling statement', 'survey answer', 'synthetic adversarial modification', 'ego relative annotation', 'emotional valence annotation', 'interactive dialogue', 'fake news content', 'participant demographic and clinical data', 'hard negative caption', 'term annotation', 'artist preference', 'mailing list content', 'maintenance observation', 'corner location description', 'class documentation', 'dialogue systems data', 'query description', 'paragraph rationale', 'headline', 'equation system', 'syntactic construction', 'repository level code', 'xml annotation', 'name', 'aesthetic score', 'human control data', 'institution information', 'intersection safety label', 'crop type label', 'narrative transcript', 'vocal characteristic', 'network metadata', 'paraphrase label', 'program instruction', 'week day', 'sentiment analysi', 'poetic meter', 'metar string', 'theory of mind evaluation task', 'subject-entity', 'food recall title', 'name manipulation', 'bilingual dialogue', 'player identity', 'bill summary', 'clinical case report', 'educational topic', 'health status', 'unpublished manuscript', 'city layout', 'segmented text', 'parsed representation', 'domain', 'personality profiling', 'ground truth value', 'domain aware prompt', 'part of speech tagging', 'material composition', 'analysis note', 'unanswerable question', 'mathematical instruction', 'importance annotation', 'recipe description', 'source', 'geometric constraint', 'temporal link', 'text instruction', 'talk page diff', 'manual segmentation annotation', 'platform information', 'attribute value annotation', 'garment type', 'personality trait annotation', 'string edit operation', 'layout description', 'relative depth annotation', 'spelling error', 'ordered categorical attribute', 'cypher query', 'parse tree', 'free text description', 'joke', 'back translated sentence', 'visual question', 'semantic/instance label', 'extraction based summary', 'contextual instruction answer', 'morphosyntactic specification', 'sentence transcription', 'conference paper', 'knowledge tuple', 'medical terminology', 'disassembly', 'emotion annotation', 'word level good/bad label', 'fashion attribute', 'judicial decision', 'ocr token', 'external assessment', 'loading characteristic', 'laboratory test result', 'tampering factor/similarity metric', 'web sourced text', 'controversial issue', 'vocabulary card', 'license agreement', 'language corpu', 'debate conclusion', 'patient information', 'summary quality score', 'time annotation', 'website category', 'word sense similarity judgement', 'news articles', 'inertial parameter', 'lecture', 'student essay', 'post content', 'medical ontology relation', 'survey response', 'ai generated english text', 'long text', 'spatial annotation', 'game metadata', 'human written summary', 'transaction record', 'salient entity identification', 'knowledge graph triple', 'doctor patient question', 'medical article summary', 'data protection regulation', 'word level annotation', 'grounded entailment', 'article body', 'pose action', 'popularity indicator', 'language reasoning', 'video game review', 'web navigation task', 'code', 'named entity', 'captions', '3d bounding box', 'lexical data', 'company information', 'forum post text', 'instruction text', 'algorithm description', 'chemical property', 'coordinate list', 'game rule', 'pddl problem file', 'ground truth response', 'cell classification annotation', 'question set', 'single choice question', 'question answering matching', 'esg annotation', 'translated terminology', 'harmful question', 'semantic map label', 'body shape', 'inferential knowledge', 'code search query', 'labelled beat', 'hypothesis', 'non motion sentence', 'attack scenario', 'software design description', 'intent annotation', 'participant information', 'knowledge graph entity', 'pos tag', 'decomposition', 'gesture description', 'dictionary entry', 'bibliographical information', 'vietnamese caption', 'instruction vocab', 'goal oriented dialogue', 'referring expression', 'question type', 'project title', 'retrieval corpus', 'question text', 'objective sentence', 'algebra word problem', 'jupyter notebook', 'hairdo', 'binary relationship', 'bug information', 'focused description', 'transaction log', 'temporal accident frame label', 'token classification', 'sentence level direct assessment', 'graduation thesis', 'contextual fact', 'rhythm label', 'genre annotation', 'medicine information', 'conversations', 'functional structural annotation', 'face bounding box', 'cross lingual relevance judgment', 'answer choice', 'textual document', 'legal judgment', 'species observation', 'option', 'pose label', 'informational content', 'document text line', 'ambiguous sentence', 'dependency parse', 'simulation parameter', 'dialogue context', 'dialogue transcript', 'llm output', 'deletion', 'symbol', 'speaker trait', 'publication info', 'optimization instruction', 'censoring indicator', 'meta label', 'wikipedia sentence', 'personal narrative', 'informatics text', 'system description', 'transcript', 'customer service query', 'live commentary', 'narration', 'license and citation', 'event description', 'chemical substructure', 'verbs, nouns, and adjective', 'spatial relation caption', 'simile', 'reference text', 'pose correction description', 'inflected word', 'smile label', 'grade level annotation', 'repository link', 'numeric id label', 'journalistic sentence', 'social context', 'reference resolution', 'morphological contrast', 'machine learning method', 'document simplification', 'user motive', 'named entity annotation', 'algorithm evaluation result', 'multiword expression', 'software package description', 'word analogy', 'image caption', 'fovea localization', 'comparison', 'ground truth soil parameter', 'bengali comment', 'polish nlp task', 'fallacy identification', 'grade label', 'linguistic analysis text', 'phone level transcription', 'novel situation', 'business signage text', 'cipo annotation', 'eligibility label', 'resume text', 'evaluation survey', 'gps position data', 'music composition', 'synapse annotation', 'network traffic feature', 'translated sentence', 'column name', 'smpl/smpl x parameter', 'automatic em classification algorithm', 'urls from node.js snapshot', 'story planning', '3d joint location annotation', 'harmful string', 'correction', 'story caption', 'description', 'regulation question', 'linguistic problem', 'people trajectories annotation', 'pos annotation', 'binary ground truth map', 'email', 'social media message', 'indirect answer', 'machine translation', 'probe', 'biotech news article', 'species tag', 'gloss level annotation', 'character annotation', 'multi hop counterfactual', 'temperature data', 'social dialogue', 'factual knowledge', 'parallel text', 'bridging anaphor', 'sentiment analysis text', 'riddle', 'job title', 'annotated evidence', 'legal clause', 'discourse connective', 'word sense', 'selected punchline', 'fusion sentence', 'dialogue state tracking', 'news summary', 'report content', 'page tag', 'genome sequence', 'word similarity', 'long form response', 'holders of opinion', 'human annotated temporal sentence', 'rules of thumb', 'expert curated response', 'business query', 'pixel wise ground truth', 'monomer identifier', 'description text', 'short text instance', 'disparity data', 'geographic factor', 'step segment', 'mood annotation', 'emotion score', 'mathematical world problem', 'keyphrase', 'application feature', 'jargon/term', 'query based summary', 'fashion item description', 'footnote', 'wikipedia article', 'story narrative', 'experiment result', 'review comment', '3d annotation', 'annotated trajectory', 'reading comprehension', 'spatial question answering', 'language pair', 'anomaly description', 'video category', 'synthetic caption', 'model generated solution', 'entity entry', 'drug target interaction description', 'game narrative', 'bug introducing commit link', 'geographic where what cut', 'image tag', 'automatically verbatimized transcript', 'task category', 'attribute information', 'key value pair', 'voting data', 'submission title', 'political discourse', 'mathematics topic', 'shakespearean line', 'scribble annotation', 'defect label', 'lay language summary', 'article summary', 'word label', 'insect track data', 'explanation text', 'expression tag', 'sentential context', 'pdf file hash', 'twitter message', 'pathology information', 'trigger word', 'abstracts', 'surf bow histogram feature', 'cross lingual task', 'mathematical prompt', 'comment', 'form structure', 'relationship data', 'puzzle question', 'city pollution data', 'pronoun form', 'analysi', 'regular expression', 'aqa score estimation', 'evaluation result', 'formal theorem statement', 'traffic element attribute', 'sub classification description', 'mean opinion score', 'news article summary', 'heading information', 'structured address', 'premise', 'variables list', 'frame', 'hierarchical structure', 'long summary', 'spelling error text', 'ethical judgment', 'author gender label', 'medical entity', 'coordinates of display', 'informal sentence', 'image event annotation', 'social connection', 'relation type', 'symbolic model', 'mathematical formulae', 'step description', 'action adverb', 'advice seeking question', 'poll question', 'feature request', 'grammar error correction', 'product description', 'meta review', 'identifier', 'case study', 'structure description', 'patient symptom', 'multihop question', 'linguistic context variation', 'caller identity label', 'distortion characteristic description', 'natural language facts', 'expert approved answer', 'syllogistic conclusion', 'biomedical abstract', 'quantity tagged text', 'spatial and behavioral annotation', 'geometric problem', 'grasp rectangle', 'similarity score', 'generated language', 'fake news', 'multilingual text sample', '3d pose label', 'cardiologist report', 'non sarcastic sentence', 'word vector', 'web page', 'multilingual context', 'connective detection', 'vessel type label', 'disambiguation label', 'chatgpt prompt', 'fact', 'parkinsonism severity rating', 'atomic action recognition annotation', 'player annotation', 'trajectory data', 'mrna sequence', 'team description', 'ground truth location', 'translation pair', 'qa instance', 'contractual term', 'frame level anomaly label', 'online quiz question', 'annotation file', 'sentence description', 'user request', 'semantic annotations', 'pull request', 'scientific entity annotation', 'disease description', 'english transcript', 'medical review', 'tracking id', 'expression', 'official lips reporting data', 'french text', 'ground truth rating', 'optic disc bounding box location', 'manual clustering', 'keywords and hashtag', 'handwritten text', 'license plate string', 'dialogue history', 'movie data', 'english text', 'jail and prison time', 'galaxy shape label', 'chat message', 'full form', 'thesis statement', 'error range estimate', 'protocol stack log', 'co reference text', 'metric value', 'yolo annotation', 'change description sentence', 'medical knowledge reasoning', 'multi turn dialogue', 'self reported tv consumption', 'programming language context', 'damage assessment label', 'entity mention', 'sensor calibration data', 'case study analysi', 'word concatenation', 'inference rule', 'annotated relevance set', 'camera configuration', 'tool functionality description', 'event article', 'artificial document', 'clinical score', 'counter position annotation', 'reference document', 'bash syntax', 'argumentative writing', 'genomic information', 'persona profile', 'bird species name', 'propaganda content', 'optical flow label', 'waste material label', 'entailment label', 'azimuth elevation label', 'literary text', 'misspelled word', 'privacy policy question', 'setting information', 'simulation loading characteristic', 'health information', 'parameter information', 'boundary annotation', 'corpu', 'bangla word', 'topic paper author network', 'artist information', 'road type classification', 'entailment sentence', 'ontology term', 'maze description', 'generic sentence', 'grasp result', 'masked sentence', 'paraphrased question', 'marking subtype', 'source identification label', 'user generated comment', 'tags of cinematic style', 'article text', 'physics explanation', 'recording location', 'news classification', 'adversarial sentence', 'story sentence', 'language passage', 'research summary', 'equation description', 'programming code', 'word pair', 'aligned description sentence', 'research paper abstract', 'conversation history', 'annotation process description', 'gesture annotation', 'analytical articles', 'multilingual document', 'hyperbole', 'curated reaction', 'technical report', 'intention prediction', 'malware description', 'species name', 'sentence template', 'hypnogram', 'relevance annotation', 'emotion cause pair', 'categorical variable', 'prompt annotation', 'references and license', 'compositional prompt', 'scene metadata', 'informal persian text', 'velocity annotation', 'narrative prompt', 'demographic label', 'intent label', 'location metadata', 'repetition count annotation', 'offensive comment', 'experimental procedure', 'chinese web text', 'morphological analysi', 'security analysi', 'perspective sentence', 'meta information', 'hierarchical relationship', 'address text', 'discourse annotation', 'place name', 'bilingual document', 'psychometric variable', 'literature text', 'free text', 'event identification', 'norm violation category', 'mutation classification', 'human generated abstract', 'trajectory detail', 'relation label', 'chemical process description', 'command', 'game title', 'render script', 'fon sentence', 'technical documentation', 'ground truth map', 'original paragraph', 'email sentence', 'patient demographic information', 'pairwise comparison', 'question metadata', 'biomedical ir', 'problem categorization', 'social group annotation', 'logical problem description', 'proof', 'anomaly label', 'mathematics problem', 'user intent', 'surrounding context', 'clinical research', 'correct word', 'publication year', 'disease severity annotation', 'software entity definition', 'one sentence description', 'input span', 'entity relation', 'experimental method description', 'sign language gloss', 'genetic association study', 'human to human dialogue', 'analytical solution', 'ambiguous question', 'column annotation', 'compositional phrase', 'e-manual', 'expert comparison data', 'steering angle data', 'outcome sentence', 'quantifier', 'encoded hot shot label', 'language data', 'domain information', 'keyphrase type', 'step by step solution', 'scientific title', 'analytic tasks annotation', 'notebook processing data', 'subjective test framework', 'optimization level', 'user instruction', 'individual tree id', 'quality estimation text', 'abstract sentence', 'anonymized reviewer id', 'site safety description', 'trigger summary', 'intents and reaction', 'test data dangling entity', 'literary essay', 'manual landmark', 'prompt win lose trio', 'machine translation quality judgment', 'bilingual passage', 'explanation graph', 'instruction tuning qa pair', 'paraphrase pair', 'robot control traffic', 'orientation label', 'hand object contact information', 'fire extent estimation', 'lemmatized dependency path', 'nli example', 'dense label', 'saliency score', 'financial model description', 'numeracy scenario', 'multi intent sentence', 'text type', 'graph', 'experiment documentation', 'pattern description', 'dialog qualities annotation', 'variant', 'tokenized music sequence', 'scientific paragraph', 'token model', 'categorical annotation', 'java code', 'bilingual lexicon', 'uncertainty label', 'topic description', 'natural language prompt', 'publisher name', 'page title', 'rephrased query', 'speech to text translation', 'conversational interaction', 'code augmentation dataset', 'experimental material', 'word lexicon', 'legal definition', 'ontology name', 'code switched utterance', 'source level ground truth label', 'physical property', 'must have statement', 'commonsense short story', 'perturbation type', 'relevant responses', 'neuroretinal rim size', 'wikipedia event', 'text passage', 'video transcription', 'response', 'tokenized transcript', 'corpus section', 'commentary generation', 'proper noun compound', 'experimental result', 'cytogenetic feature', 'vocalization metadata', 'system response', 'procedural description', 'information retrieval query', 'hand crafted feature', 'method documentation', 'semantic segmentation annotation', 'frame index', 'lexical semantic database', 'state change log', 'character narrative', 'ordinal acceptability judgment', 'cross validation split', 'editing instruction', 'opinion score', 'drug interaction', 'reasoning tree', 'text detection', 'exim log', 'problem type annotation', 'annotation description', 'timex expression', 'text prompt', 'syntactic change', 'smile', 'page number', 'program of thought (pot) solution', 'chinese sentence', 'ingredient list', 'human generated story', 'natural language inference sentence', 'fill in the blank question', 'film review', 'annotator disagreement', '2d pose projection', 'use case', 'fashion description', 'encyclopedia entry', 'age group information', 'end to end text recognition', 'assistant response', 'named entity mention', 'sociodemographic data', 'personal information', 'summarized text', 'manually annotated suctionable region', 'design prompt', 'material characteristic', 'phrase similarity', 'arabic transliteration', 'cve vulnerability description', 'ground truth trajectory', 'glaucoma label', 'reading comprehension implicit numerical reasoning', 'chemical composition', 'id annotation', 'subjectivity label', 'relational pattern', 'domain specific article', 'emotion classification', 'rebuttal', 'math solution', 'nlp task', 'reddit post', 'land cover category', 'eye state label', 'face bounding boxes annotation', 'labeling information', 'processed summary', 'instruction tuning data', 'study description', 'platform', 'aggregated transcription', 'dialogue act correspondence', 'thesis abstract', 'editor name', 'wordplay puzzle', 'financial metric', 'visual condition annotation', 'compositional text prompt', 'text region', 'linguistic analysi', 'noun noun compound', 'occupation code', 'essay score', 'game instruction', 'paragraph annotation', 'wikicategory hierarchy', 'ocr annotation', 'mathematical answer', 'font label', 'cloze style template', 'user check in', 'json data', 'generated summary', 'icd-9 code', 'entity alias', 'event story', 'question answer dialogue', 'user evaluation', 'human system conversation', 'password information', 'edge list', 'article topic', 'editorial decision', 'sentence textual similarity', 'natural language question', 'answers with citation', 'dialectal annotation', 'audio tag', 'annotated portuguese text', 'ui functionality description', 'aesthetic question', 'competence annotation', 'object metadata', 'aggressiveness classification', 'dataset identifier', 'object position query', 'factual claim', 'textual transformation', 'medical concept', 'task decomposition', 'case identifier', 'anonymized attribute', 'premise hypothesis sentence pair', 'venue', 'setup code', 'camera calibration data', 'medical text', 'fictional story', 'court case text', 'bias annotation', 'safety prompt', 'firm registration data', 'counseling text', 'emotion cause word', 'word embedding', 'policy article', 'literature review', 'website content', 'legal text', 'written content', 'note onset annotation', 'linking annotation', 'patient attribute', 'blue conversation', 'court transcript', 'price', 'bug identifier', 'research paper title', 'speech prompt', 'knowledge snippet', 'phase annotation', 'multilingual sentence', 'aircraft model label', 'device metadata', 'node classification label', 'vehicle metadata', 'user metadata', 'imu reading', 'composite layup', 'question description', 'technology showcase description', 'scientific research paper', 'instruction attack', 'scientific answer', 'pose and shape parameter', 'procedural paragraph', 'behavior rating', 'planned speech', 'object pose', 'argumentative dialogue', 'population metadata', 'harmful response', 'essay prompt', 'personality trait', 'tunisian arabish text', 'growth description', 'machine generated story', 'translated instruction', 'restaurant review', 'free text explanation', 'multiple choice video question answer', 'causal relation', 'standard operating procedure', 'knowledge triple', 'issue information', 'engagement metric', 'research paper titles and abstract', 'symbolic melody', 'retrieved step', 'state label', 'artwork metadata', 'compliance documentation', 'subordinate clause structure', 'country data', 'coreferential information', 'phenotypic description', 'user interaction log', 'project name', 'pseudocode', 'parliamentary speech', 'product information', 'listening test annotation', 'accessibility scan result', 'place description', 'attack detail', 'gender entry', 'chess game data', 'minute', 'microblog text', 'mathematics problem statement', 'product classification', 'player statistic', 'explanation annotation', 'simple question', 'plausible alternative', 'participant preference', 'sports article', 'semantic parsing annotation', 'paraphrase phenomena annotation', 'math reasoning instruction', 'emotional sentence', 'evidence subsequence', 'english web text', 'fashion ontology', 'risk behavior', 'standardized medical terminology', 'lighting condition annotation', 'head pose', 'artificial subtitle', 'textual relation generation', 'neuron segmentation label', 'long tail entity', 'inference pair', 'confidence level', 'job offer', 'research paper content', 'word perturbation', 'disease annotation', 'llm response', 'aggregated long text', 'language model response', 'attribute value', 'abusive language instance', 'conversation', 'economic data', 'numerical annotation', 'agnostic name side sentence', 'control code', 'comparison discussion', 'star rating', 'textual prompt', 'issue number', 'title entry', 'commit message', 'face annotation', 'transformation matrice', 'medical case report', 'order description', 'passage ranking', 'passage', 'kids abstract', 'time expression', 'student reflection', 'paraphrased paragraph', 'concept annotation', 'creative habit tag', 'negative triple', 'physics problem', 'cross lingual word analogy', 'vessel measurement', 'political party affiliation', 'geographical data', 'slot value', 'token annotation', 'instrumental onset annotation', 'self reported emotion rating', 'text logic form', 'medical guideline', 'morphosyntactic annotation', 'profile text', 'slide deck', 'book excerpt', 'persona based conversation', 'fibrosis stage transition', 'prediction', 'economic attribute', 'experimental setup description', 'counter argument', 'pose angle', 'authors rebuttal letter', 'reference form', 'coreferring event passage', 'repository information', 'attribute label', 'gearbox type', 'vocabulary', 'apple annotation', 'reviewer score', 'pascal voc annotation', 'pronunciation', 'writer id', 'policy', 'drug drug interaction', 'financial document', 'emotional rating', 'normalized text', 'sentence level summary label', 'frame level attribute', 'shot movement annotation', 'word level token', 'argumentative relation', 'main therapist behaviour', 'exercise annotation', 'compositional labels', 'disease name', 'aircraft label', 'legal question', 'diagnostic category', 'geotagged geographic elements tagging', 'clinical trial abstract', 'partition information', 'person description', 'code metric', 'ogrn code', 'sparql query', 'ground truth label', 'trial letter', 'synthetic clinical text', 'algorithmic solution', 'card description', 'alignment label', 'user profile description', 'hate speech target', 'full text review', 'foaf data', 'action object annotation', 'llvm ir', 'politeness annotation', 'telemetry channel description', 'csv metadata', 'contextual information', 'instrument tag', 'chinese newswire', 'entity labeling', 'title', 'email thread', 'annotated message', 'expert annotation', 'human perceptual quality annotation', 'semantic category', 'learner essay', 'hand labeled annotation', 'full text paper', 'labelled ground truth', 'statement pair', 'toxicity label', 'riddle description', 'holding statement', 'user experience', 'poetic verse', 'geometry problem', 'interaction annotation', 'co predication acceptability judgement', 'distractor caption', 'reasoning pattern', 'citation presence', 'is a relationship', 'commit summary', 'encoded dataset', 'causal question', 'cumulative score', 'legislative document', 'table reference', 'general corpus', 'background sentence', 'stroke level metadata', 'hate speech annotation', 'layout analysi', 'bus idling data', 'medical entities annotation', 'focus level score', 'emotion rating', 'statement', 'language translation', 'memorability annotation', 'author affiliation', 'depth levels text', 'meta parameter', 'user comment', 'tls fingerprint', 'hurricane category', 'document summarization', 'bilingual question', 'dbpedia type', 'first frame expression', 'physical attribute', 'biomedical text', 'episode', 'abbreviated noun', 'game dialogue', 'biomedical factual knowledge triple', 'sentences depicting object', 'instruction', 'monolingual corpus', 'environmental disclosure', 'gene ontology annotation', 'spam review', 'machine learning model performance', 'ttab text data', 'task description', 'math lexeme', 'user genre preference', 'train test partition', 'geolocation annotation', 'context document', 'student interaction', 'familiarity rating', 'monolingual document', 'trial response', 'unittest script', 'rhetorical relation', 'search query', 'conversational answer', 'execution log', 'video segment description', 'command label', 'language coverage', 'view label', 'algebraic word problem', 'bioassay information', 'database documentation', 'user post', 'sequence attribute', 'environment name', 'meta feedback', 'background corpu', 'interview protocol', 'tool presence annotation', 'science question', 'article label', 'thesi', 'target sentence', 'mutation code', 'joint annotation', 'navigation instruction', 'storm event description', 'effect annotation', 'drug interaction description', 'sentence embedding', 'story context', 'commonsense quantitative comparison', 'commit author id', 'functionally incorrect solution', 'tagline', 'ontology pair', 'plot description', 'entity linking example', 'misinformation statement', 'motion expression', 'study documentation', 'hd map description', 'conversational telephone speech', 'sentimental caption', 'wordnet sense tag', 'shape description', 'image generation prompt', 'german text', 'neutral problem', 'social media conversation', 'relevance assessment', 'song key', 'tweet_text', 'system prompt', 'team log', 'exercise_questions', 'summary statistic', 'concept pair', 'banking query', 'notebook content', 'contextual transcript', 'biomedical paper', 'tracking information', 'bug report', 'metadata text', 'semantic categorization', 'short answer', 'validation set', 'rating date', 'ground truth correspondence', 'persian poetry', 'persian passage', 'metric', 'logo label', 'punctuation tag', 'disease severity indicator', 'edge feature', 'hotel check in record', 'location description', 'semantic reasoning text', 'french sentence', 'radiology report section', 'encoded segmentation data', 'subgoal of activity', 'news sentence', 'conversation session', 'cefr annotation', 'coreference resolution passage', 'chinese handwritten text', 'spending metric', 'rating value', 'eye occlusion score', 'vehicle states and action', 'sentence syntax', 'social media link', 'comparative analysi', 'citation network', 'descriptions', 'fact checking summary', 'friendship network', 'exoplanet parameter', 'file name', 'author information', 'detailed workplace activity', 'short sentence', 'textile material', 'corrected sentence', 'clue sentence', 'environmental factor', 'vcard data', 'input article', 'legal and ethical discussion', 'language generation', 'entity alignment link', 'arabic text', 'impression detail', 'user annotations', 'raw report', 'role play instruction', 'context paragraph', 'operational program', 'consumer health question', 'graph gen algorithm', 'multilingual sentences', 'severity level annotation', 'evidence paragraph', 'poker hand history', 'graph edge', 'task template', 'evaluation question', 'annotated literature', 'design hierarchy', 'legal case', 'meaningful attribute', 'malware analysis report', 'human human conversation', 'chemical descriptor', 'crosstabular data', 'photo critique', 'ground truth caption', 'cross lingual natural language inference', 'event phrase', 'aesthetic rating', 'methodology', 'review', 'survey summary', 'bibtex', 'refinement', 'material code', 'user command', 'literary excerpt', 'tweet retrieval', 'contradiction annotation', 'ground truth solution', 'classification label', 'news article body', 'target utterance', 'game log', 'social situation description', 'beat annotation', 'linguistic annotation', 'camera transformation', 'relations between keyphrase', 'review text', 'geometric primitive shape label', 'diagnosis label', 'pedestrian action attribute', 'timestamped lyric', 'context category', 'helmet use annotation', 'research article', 'hyperparameter configuration', 'problem cause', 'atom type label', 'questions', 'newsgroup document', 'protein sequence', 'ground truth line segment', 'imageability rating', 'gaze vector', 'report', 'medical term', 'discourse segment', 'online forum excerpt', 'perceptual quality rating', 'medical data', 'plan json', 'clinical response', 'age label', 'bounding box annotation', 'book metadata', 'discourse tree', 'language identification label', 'multi turn chat conversation', 'prompt', 'transcribed speech sentence', 'plausible incorrect answer', 'asr output sentence', 'official transcript', 'cyclone track description', 'expert scoring label', 'music caption', 'dialog generation', 'bangla paragraph', 'natural language answer', 'transliterated english name', 'assembly code', 'time series data', 'triangular faces list', 'gene disease association label', 'quotation attribution', 'cell trajectory data', 'semantic parse', 'goal description', 'target object attribute', 'evaluation protocol', 'utterance text', 'provenance sentence', 'meter reading', 'entailment tree', 'relevance label', 'estimated manhattan frame', 'breakdown date', 'token', 'academic field', 'transcription text', 'dependency parsing', 'matrix subject', 'code mixed text', 'true/false question', 'forum comment', 'romanian language corpu', 'entity level sentiment label', 'document summary', 'supplemental tweet', 'paraphrase', 'conversation utterance', 'call type label', 'json specification', 'listening event', 'intent/dialogue classification', 'accident annotation', 'vehicle measurement', 'psychological questionnaire', 'visual reasoning', 'historical document', 'nationality label', 'observer id metadata', 'gene disease association', 'evaluation text', 'topic classification', 'handwritten letter', 'large poem', 'atomic edit', 'legal justification', 'news', 'administrative record', 'object category label', 'token level rationale', 'structured citation', 'physical scenario prompt', 'assertion', 'email content', 'task instance', 'gender label', 'irrelevant responses', 'syllogistic nlg', 'demographic metadata', 'ancient manuscript', 'visual attribute label', 'entity label', 'knowledge graph edge', 'historical letter', 'eye position annotation', 'facial attribute', 'human expert annotation', 'natural language statement', 'language model output', 'ecg metadata', 'calibration matrix', 'activity label', 'measurement description', 'syntactic parsing', 'design choice comment', 'evaluation prompt', 'webtext', 'workflow annotation', 'nonfinite subordinate clause structure', 'diagnostic report', 'paper review', 'imperative sentence', 'substitution suggestion', 'structured table', 'person id', 'nas search space', 'retweet', 'sarcastic statement', 'go term', 'molecular_formula', 'span interaction', '2d coordinate', 'code switched informal short text', 'editing mask', 'chinese broadcast news', 'narration caption', 'environmental annotation', 'grammar instruction', 'online news comment', 'object class annotation', 'wikidata value', 'research article section', 'quotation', 'text simplification', 'listening record', 'cultural context', 'maze property', 'instance detection annotation', 'abstractive summary', 'childrens story', 'human written knowledge', 'email body', 'medical dialogue', 'complex question', 'object name', 'flight label', 'sub title', 'traffic query', 'manually revised transcript', 'song lyric', 'style trait', 'sense annotated word', 'constituency parsing', 'evaluation framework description', 'cross lingual mapping', 'spreadsheet data', 'semantic role annotation', 'affordance annotation', 'dialogue state', 'answer option', 'motion class', 'text snippet', 'image descriptions in english', 'commonsense knowledge', 'gene ontology description', 'sub action annotation', 'horde log', 'fill in the blank task', 'graph to text generation', 'paraphrasing', 'xml representation', 'chatgpt rephrased text', 'flight status', 'section summary', 'evidence text', 'bug fix description', 'conversational context', 'conceptualization in context', 'pdf table', 'adverb annotation', 'epistemic state annotation', 'urdu digit', 'scene wise caption', 'logical puzzle', 'hindi caption', 'information need', 'phenotype annotation', 'persuasive essay', 'microblog post', 'inference label', 'statements of desire', 'object label', 'biomedical document', 'code prompt', 'simulation metadata', 'coreference', 'video metadata', 'natural language inference', 'global image description', 'non sarcastic rephrase', 'grasp dexterity label', 'discourse parse', 'discussion thread', 'coreference annotation', 'irc message', 'drone segmentation mask', 'date time', 'personal experience', 'fiducial points annotation', 'timebank', 'web snippet', 'local per frame annotation', 'word metadata', 'duplicate question annotation', 'environment configuration', 'template based utterance', 'product identifier', 'equipment label', 'gene label', 'puzzle solution', 'caption pair', 'edit operation', 'publication title', 'location label', 'domain label', 'script', 'simplified sentence', 'serialized triple', 'camera to robot transformation', 'bibliographic information', 'layout semantic', 'top visited websites url', 'question and answer pair', 'language grounding', 'contextual passage', 'example clause', 'code explanation', 'multi object tracking annotation', 'simulation input', 'display formulae with reference number', 'scientific explanation', 'visual relation description', 'onomatopoeic word', 'post title', 'traffic participant trajectory', 'episodic buffer note', 'sanskrit text', 'diagnosis and treatment method', 'log statement', 'prompter message', 'safety', 'formal document', 'treatment parameter', 'fine grained human textual description', 'certificate', 'signal timing', 'support text', 'inductive question', 'sense label', 'amino acid sequence', 'r code', 'conversation tree', 'recognition task response', 'bioassay description', 'scientific paper', 'mechanistic premise', 'novel book', 'spoken language translation', 'action class annotation', 'recallability score', 'political discussion', 'action class label', 'non predator chat', 'cobb angle result', 'annotation tag', 'header', 'fixed text typing', 'modal instance', 'narrative entry', 'newspaper caption', 'weather report', 'language model', 'riddle answer', 'spectral characteristic', 'news article text', 'cinematography concept', 'argument relation', 'cross lingual text', 'medical description', 'music score', 'romanization lexicon', 'supporting text passage', 'continuous variable', 'biographical article', 'reverse classification accuracy (rca) score', 'relation', 'size label', 'scientific terms and relation', 'reflective essay', 'intra sentence relation', 'summary relevance score', 'link annotation', 'commonsense story', 'challenge detail', 'ground truth information', 'code annotation', 'episode transcript', 'tumor size', 'think aloud transcript', 'camera calibration file', 'action sequence label', 'classroom transcript', 'skills list', 'client talk type', 'context description', 'car attribute', 'game description', 'audit log', 'contact date', 'ava format data', 'human annotated similarity score', 'case consultation question', 'legal statute', 'sense identifier', 'instance', 'structured report', 'contribution sentence', 'descriptive sentence', 'image caption pair', 'diagnostic reasoning text', 'item description', 'java class', 'definition', 'relationship dynamic', 'pitch localization data', 'integer label', 'minimal pair sentence', 'dialogue utterance', 'term', 'stereotype sentence', 'drug combination description', 'combined augmentation dataset', 'exchange identifier', 'event file', 'survey based response item', 'counterspeech reply', 'disease and syndrome mention', 'snippet', 'clinical narrative', 'dialogue slots and value', 'parallel sentence pair', 'multilingual translation', 'newspaper commentary', 'raw data', 'finding annotation', 'machine readable language parse', 'compound description', 'preference data', 'workshop detail', 'test dataset', 'optical flow reference data', 'clinical report', 'word token', 'self assessment', 'demographics', 'enterprise data', 'recent post', 'coordinate data', 'iterative questioning', 'earning call transcript', 'patent document', 'mortality data', 'citation context', 'tags of place and action', 'human attribute', 'fixed code', 'selected sentence', 'interaction label', 'algorithm comparison', 'translation performance', 'quality rating', 'power plant generation data', 'color name', 'age group label', 'vehicle bounding box', 'entity', 'factual error annotation', 'wikipedia article text', 'meteorological condition', 'dialogue', 'open domain question', 'short story', 'polite sentence', 'document metadata', 'human preference', 'original sentence', 'question characteristic', 'classification task description', 'context independent question rewriting', 'topic category', 'spellings variation', 'game clock', 'aspect based label', 'match result', 'structured answer', 'character level span', 'vehicle color', 'defect report', 'enolate table', 'particle parameter', 'sentence level answer', 'brochure text', 'action frame label', 'ai system performance', 'disease mention', 'navigation context annotation', 'object class label', 'video transcript', 'language model probe', 'perplexity score', 'methods implemented', '6 dof mapping', 'entertainment', 'verb conjugation', 'attribute', 'news headline', 'camera location data', 'reference annotation', 'persona description', 'belief statement', 'test', 'sparql owl query template', 'camera calibration', 'interest point', 'analyses and review', 'font', 'instance id', 'historical poker hand', 'topic annotation', 'display formulae', 'semantic descriptions', 'poor answer', 'adversarial attack instance', 'chemical named entity', 'annotated frame', 'pddl task', 'transliteration', 'negotiation transcript', 'coco pose label', 'markdown format', 'research paper text', 'doi', 'mesh term', 'weather station report', 'template sentence', 'health record', 'full name', 'genomic profile', 'sae sample', 'court debate dialogue', 'word timing information', 'search result page', '6d object pose label', 'syntactic categorization', 'english subtitle', 'emotion elicitation protocol', 'suricata log', 'crossword clue', 'vehicle type', 'reference caption', 'smb operations description', 'cross lingual lexical concept', 'ground truth answer', 'human generated question', 'transfer article', 'televised poker hand', 'code switched sentence', 'poetry', 'user account', 'usenet newsgroup', 'input output pair', 'drug name mapping', 'human similarity judgment', 'non academic writing', 'environmental metadata', 'patent title', 'medical answer', 'movie review', 'binary label', 'sentence edit', 'ancient greek inscription', 'keypoint detection annotation', 'reaction class', 'emotion dependent tweet', 'tag annotation', 'image search url', 'authentication log', 'procedural text', 'cross language information retrieval data', 'hard negative triple', 'mental health questionnaire', 'summarizing passage', 'grapheme level lyric', 'ground truth 6 dof object pose', 'semantic relationship', 'user profile', 'sentiment text', 'textual entailment pair', 'causal answer', 'security patch', 'camera calibration parameter', 'newspaper sentence', 'multilingual question answering', 'negated statement', '6d pose annotation', 'multi sentence question', 'visual stimuli text', 'test result', 'action annotation', 'news article category', '6 dof speed data', 'forum discussion', 'network flow metric', 'reasoning path', 'process log', 'fact checking', 'vehicle attribute', 'safety alignment prompt', 'subevent relation', 'radiology reading', 'clinical summary', '2d and 3d multi object tracking annotation', 'project metadata', 'transcripts', 'training script', 'argument component', 'migration indicator', 'story headline', 'flight annotation', 'label description', 'head pose annotation', 'visual conversation', 'trace metadata', 'multi object tracking label', 'administrative information', 'quantitative binding result', 'ehr text', 'quality estimation data', 'pipeline stage', 'language identification', 'wsc question', 'seizure annotation', 'human skeleton', 'multiple choice question answering', 'project provenance', 'target image prompt', 'vehicle label', 'github issue', 'core science fact', 'coreference chain', 'gender annotation', 'issue ticket', 'temporal information', 'issue categorization', 'low ambiguity scenario', 'aesthetic perception criterion', 'relational fact', 'query url pair', 'literary event', 'action label', 'bird observation record', 'clause embedding verb', 'symbol type', 'project data for issue', 'cause statement', 'ground truth text', 'geometry task', 'entity description', 'alphabet label', 'recipe step', 'model description', 'benchmark passage', 'context piece', 'business document text', 'global style label', 'medical report', 'tablestore row', 'tracklet information', 'external knowledge', 'misspelled sentence', 'examination response', 'syntactic dependency tree', 'personalizing dialogue', 'paper metadata', 'structural feature', 'account description', 'navigation convention', 'persian caption', 'knowledge base entry', 'transcribed sentence', 'ms coco annotation', 'artist name', 'commit', 'scientific discourse sentence', 'machine learning task', 'product review', 'spatial relation annotation', 'manual evaluation', 'problem fix', 'spoken language noun', 'latin text', 'cognitive modeling text', 'masked word prediction probe', 'annotation score', 'identity attribute', 'knowledge instruction', 'function label', 'cloze style question', 'product rating', 'blog post', 'web comment', 'standard workflow', 'recommendation', 'query specific relevance label', 'reading comprehension passage', 'code solution', 'stock ticker', 'geospatial question', 'trust relationship', 'worker profile', 'chronological metadata', 'scientific article', 'paper abstract', 'prompt template', 'methodology documentation', 'emotional annotation', 'medical free text', 'lemma', 'vanishing point label', 'single sentence task', 'cause', 'word association', 'attribute value pair', 'chemical description', 'annotated tag', '3d hand joint coordinate', 'academic citation', 'road user categorization', 'literary entity', 'concept set', 'taxonomy description', 'song beat', 'short text', 'resource feature', 'special occasion', 'deducibility annotation', 'emotion label', 'slot annotation', 'referential sentence', 'entity retrieval', 'contextual feature', 'formal language annotation', 'compressed sentence', 'driver attention annotation', 'ground truth 6d object pose', 'background element', 'sentences with gapping', 'workflow intent description', 'institutional information', 'recorder profile annotation', 'ultrasonographic finding', 'scripted sentence', 'presupposition annotation', 'codebook protocol', 'abstract syntax tree', 'composition score', 'natural language inference task', 'argument retrieval', 'soft attribute label', 'technical text', 'court case', 'question body', 'pairwise preference', 'trust relation', 'claim label', 'concept', 'genre', 'evaluation metric', 'stance labeled sentence', 'plot', 'film trope', 'cloze form question', 'log record', '2d and 3d annotation', 'cited passage', 'scientific text', 'click feedback', 'openie annotation', 'semantic keypoint annotation', 'generated text', 'bytecode', 'clinical glaucoma classification', 'simile triplet', 'open domain dialogue', 'topic id', 'ad annotation', 'section label', 'screen summarization', 'ai poker hand', 'time period designation', 'builder utterance', 'coding scheme', 'witness testimonial', 'table description', 'image identifier', 'multi turn conversation', 'biographical text', 'key information annotation', 'event forecasting question', 'publication date', 'elicitation method', 'gene annotation', 'multi label annotation', 'api description', 'instrument annotation', 'rule dependency', 'jailbreaking prompt', 'readme file', 'severity label', 'social connectedness index', 'consultation dialogue', 'play by play text', 'script sentiment', 'camera pose label', 'biometric label', 'cve record', 'wikipedia xml content', 'state index', 'dialect sample', 'written reflection', 'detailed annotation', 'reply generation', 'session event', 'sentence aligned text', 'monologue transcription', 'glasses type', 'market analysis report', 'order sensitivity', 'ocr output', 'gold rationale', 'image descriptions', 'effect', 'forum novel', 'problem description', 'protein class', 'privacy policy', 'protein description', 'mechanism description', 'user utterance', 'knowledge graph relation', 'natural language expression', 'mention type', 'query result', 'biography paragraph', 'annotated biomedical concept', 'speech annotation', 'publication name', 'wikipedia title', 'relationship type', 'machine reading comprehension', 'music descriptions/tag', 'candidate answer', 'intent', 'news retrieval', 'press briefing passage', 'question answering', 'word', 'table column', 'skeleton data annotation', 'live comment', 'introduction paragraph', 'discourse relation classification', 'claim source', 'id label', 'note and syllable timing', 'item data', 'ground truth disparity value', 'conversation context', 'financial news article', 'patient record', 'app analysi', 'chemical smile', 'textual metadata', 'user id', 'full text article', 'disease diagnosi', 'protein pdb code', 'open triple', 'gene annotations', 'revised story', 'language cluster', 'binary comparison', 'clinical outcome', 'list', 'hebrew word', 'step', 'captioning', 'name length data', 'context v2', 'subjective sentence', 'predictive metric data', 'language', 'article metadata', 'question driven summary', 'article violation', 'food entity', 'activity log', 'stakeholder opinion', 'paragraph level sentiment annotation', 'speech synthesis description', 'cooking instruction', 'descriptive label', 'vehicle annotation', 'annotated data', 'gps ins ground truth location data', 'linguistic command', 'residue sequence', '3d pose annotation', 'cue word', 'code element', 'stellar parameter', 'automatic translation', 'government document', 'source information', 'driving knowledge test', 'room description', 'annotated document', 'simulated dialogue', 'similarity and paraphrasing task', 'rationality labeling', 'document level information', 'cloze query', 'question pair', 'instrumentation annotation', 'estrogen receptor', 'vessel detail', 'optic disc and cup segmentation', 'duplicate question retrieval', 'fill in the gaps question', 'tokenized text', 'training data dangling entity', 'geographical name', 'table annotation', 'vehicle brand', 'accepted answer', 'reporting procedure', 'interaction topic', 'gene description', 'conference description', 'instance detail', 'aspect term', 'next utterance prediction', 'clinical case', 'news comment', 'character and actor information', 'post editing data', 'scene graphs and region description', 'dense caption', 'financial tweet', 'facs au annotation', 'writing system', 'chinese grammatical error', 'relationship', 'entity and coreference', 'morphological and articulatory classification', 'cognitive development assessment', 'equation solution', 'music description', 'summary intent', 'odometry data', 'contextual dialogue', 'paraphrase sentence pair', 'newspaper headline', 'web page text', 'dataset description', 'knowledge graph', 'weblog', 'contextual syntactic ambiguity', 'visual instruction', 'geographical coordinate', 'ynn answer', 'labeled citation segment', 'quality control assessment', 'annotated domain names', 'trash label', 'financial statement', 'annotated list', 'bilingual dictionary', 'violated article', 'semantic annotation', 'quality score', 'rhetorical question', 'elementary discourse unit', 'spatial relation description', 'concept description', 'action category', 'product attribute', 'character textual mention', 'syntactic dependency', 'art attribute label', 'writer information', 'human written sentence', 'event sentence', 'recommender system description', '2d and 3d object detection annotation', 'column type annotation', 'dependency treebank', 'functional category', 'crowdsourced annotation', 'semantic layout annotation', 'morphological feature', 'proverb', 'character document', 'video annotation', 'atomic action', 'battery performance description', 'instructional content', 'tuning data', 'adapted abstracts for child', 'datasheet', 'retrieved document', 'test urls from phishing sites detector', 'symbolic expression', 'lexical translation task', 'commonsense arithmetic reasoning', 'expert classification', 'morphosyntactic lexica', 'revision history', 'comparison category', 'programming problem template', 'handwritten prayer', 'user feedback', 'video tag', 'document content', 'conceptual similarity judgment', 'politician name', 'game feedback', 'location', 'scenario prompt', 'multilingual text transcription', 'quoted triple', 'clip style template', 'line level text', 'video text description pair', 'embedded tweets', 'in game chat', 'query type', 'semantic change', 'stock exchange data', 'scientific recommendation', 'page category', 'processed text', 'end diastolic volume', 'annotated entity', 'systematic reviews', 'religious text', 'mathematical problem', 'topic based document', 'non abusive language', 'rating data', 'pixel level annotation', 'english broadcast news', 'library description', 'other mention', 'recording information label', 'conceptual query', 'language metadata', 'artist similarity', 'cancer cell line information']\n",
            "Duplicate found: video is present in data_types ['traffic control gesture', 'variety show clip', 'gaze following video', 'activities of daily living sequence', 'first person video', 'surveillance footage', 'video game', 'cropped video', 'video game footage', 'global transformation', 'waste sorting video frame', 'category labels', 'dynamic video task', 'gameplay frame', 'educational histopathology video', 'moving object', 'aerial drone video', 'panoptic segmentation', 'medical non instructional video', 'soccer game sequence', 'virtual agent video', 'face video frame', 'football scene', 'accident video', 'uhd and hd video', 'daily life scene', 'assembly scenario', 'human activity video', 'passerby interference', 'speaker video', 'facial expression', 'hd video triplet', 'humorous performances', 'dyadic interaction video', 'camera trajectory', 'multi view hand video', 'urban traffic video', 'vehicle tracking frame', 'small detail video', 'vehicle movement video', 'urban traffic scene', 'music video extract', 'irrelevant video', 'fidelity score video', 'person trajectory', 'traffic sign recognition', 'face mask video', 'movie scene', 'author presentation', 'basketball game video', 'traffic surveillance', 'crowd event', 'character visual appearance', 'industrial action sequence', 'anomalous driving action', 'user face and expression', 'human action video', 'motion category', 'user action', 'relation annotation', 'normal driving video', 'pedestrian movement', '3d facial expression video', 'not crossing sequence', 'person identification', 'video duration', 'high resolution video frame', 'humor video', 'nature scene', 'cyclist arm signal action', 'bgra32 mode video', 'short video', 'user generated content', 'animated gif', 'videos with effects and distortion', 'camera shot segment', 'daily life activity', 'well lit video', 'hand gesture videos', 'conductor view video', 'user viewed video', 'fish swimming behavior', 'stereo video', 'face manipulation video', 'clothing simulation', 'normal findings video', 'beyond visible spectrum video', 'original video', 'cell trajectory video', 'volumetric video', 'gymnastics performance', 'climate observation', 'vehicle crowd interaction', '3d human body pose video', '3d joint position', 'nursing procedure video', 'navigation_videos', 'daily activity', 'sleep study video', 'robot manipulation video', 'time of flight video', 'video', 'people interactions', 'user highlighted segment', 'fetoscopic surgery video', 'user affective state', 'human interactions', 'synthetic object video', 'evidence video', 'valence and arousal', 'using tool', 'event', 'device captured video', 'landscape video', 'omnidirectional video', 'drone captured video', 'basketball game footage', 'human interaction', 'top view scenario', 'short film', 'endoscopy sequence', 'vehicle tracking', 'stereo endoscopic video', 'vp9 video', 'vehicle tracking video', 'qr code video', 'dyadic interaction', 'wide field of view rgb video', 'micro expression', 'human avatar interaction', 'fire video', 'exchanged video', 'outdoor sequences', 'assembly process video', '4d facial expression video', 'tv episode', 'traffic scene', 'emotional song video', 'agent trajectory', 'uav vehicle video', 'wildlife video sequence', 'object segmentation', 'visible infrared video pair', 'traffic pattern', 'multispectral face video', 'web video clip', 'binary mask', 'video shot', 'agent interaction video', 'rgb-d frame', 'comedy clip', 'natural scene', 'real world video situation', 'campus surveillance footage', 'event stream video', 'visual relation', 'controlled setting hd video', 'robot hand performance', 'corrupted video', 'egocentric activity video', 'ground truth video', 'compressed video sequence', 'first person office activity', 'spatio temporal action detection', 'echocardiography video', 'bee colony activity', 'facial macro expression', 'indoor daily activity', 'camera calibration data', 'video content', 'self chosen movement', 'coarse visual hull reconstruction', 'sonar video', 'clean video', 'social media shared video', 'dark environment action video', 'video moment', 'first person view', 'robotic surgical video', 'physics simulation', 'train journey video', 'video editing task', 'composite video', 'emotional interaction', 'video text spotting', 'spot robot video stream', 'emotion video clip', 'original face video', 'mouse movement', 'action', 'cyclist behavior video', 'fetoscopy video', 'digit motion sequence', 'egocentric navigation video', 'anomalous activity', 'collective activity', 'unsteady video', 'deepfake action', 'egocentric cooking activity', 'city footage', 'object and point track', 'event based video', 'movie shot', 'action recognition sequence', 'facial micro expression', 'temporal action segment', 'traffic scenario', 'non medical video', 'football gameplay', 'face track', 'fitness activity video', 'endoscopic surgery video frame', 'lifestyle vlog video', 'face forgery video', 'participant interaction', 'drone tracking video', 'pedestrian path video', 'brightfield video', 'narrative content', 'video denoising/deblocking', 'human action clip', 'flicker', 'scene type', 'multi label action recognition sequence', 'loop closure', 'crowd violence footage', 'rgb-d sequence', 'daily activity video', 'automobile review', 'user interaction', 'artistic swimming', 'cgi video', 'prank', 'robotic manipulation video', 'real video', 'musical performance video', 'nature video', 'shopping action', 'raw image', 'multi shot video', 'vlog video', 'video inpainting', 'object pose estimation', 'capsule endoscopy video', 'near duplicate video pair', 'tv drama clip', 'motion capture sequence', 'pedestrian sequence', 'cooking activity', 'real world video', 'general stunt', '3d pose estimation', 'object recognition sequence', 'emotion recognition clip', 'audio visual synchronisation clip', 'vehicle video', 'human avatar creation', 'human motion capture', 'object interaction', 'spatio temporal human object interaction video', 'interaction-centric video clips', 'romance', 'activity video', 'manned glider video', 'skeleton trajectory', 'urban driving scene', 'honeybee video', 'audio visual speech recognition', '3d human pose estimation', 'action recognition video', 'textured scene', 'live video', '2d animated segment', 'unintentional human action video', 'object manipulation video', 'video copy pair', 'object tracking sequence', 'attention target', 'vehicle identification', 'high resolution detail', 'stereo video sequence', 'traffic flow video', 'overlapping scene', 'human motion sequence', 'query based video', 'creative video', 'outdoor navigation sequence', 'crowd non violence footage', 'visual tracking sequence', 'lip synching', 'sports scene', 'city street video', 'spoof video', 'indoor scene', 'tv show clip', 'hand washing action', 'emotional expression', 'sarcastic expression', 'cartoon video', 'driving footage', 'cctv footage', 'space time subsampled video', 'talking face video', 'synthetic scene sequence', 'liquid spill video', 'crowd prediction', 'object movement', 'gait video', 'object manipulation action', 'pedestrian crossing sequence', 'egocentric kitchen activity', 'human related anomaly detection', 'body motion', 'tv show video clip', 'portrait mode video', 'anatomical landmarks video', 'animal behavior video', 'action detection video', 'rain video', 'metamorphic time lapse video', 'goal directed activity video', 'gymnastics routine', 'motion blur video', 'content coverage', 'conversational video', 'aerial video footage', 'hand grasping video', 'descriptive video annotation', 'real human gesture video', 'face to face conversation', 'industrial smoke emission', 'fisheye video sequence', 'visual objects/actions/scene', 'actor performance', 'surgical task video', 'action video', 'instance segmentation', 'object interaction video', 'multi camera video', 'video patch', 'driving sequence', 'conference style video', 'film trailer', 'water stream or steam video', 'reference video sequence', 'participant action', 'outdoor unconstrained video', 'mouse social behavior', 'hand gesture sequence', 'sports and street video', 'dynamic scenes with camera motion', 'task performance', 'temporal annotation', 'single object tracking sequence', 'wire removal scene', 'interlaced video sequence', 'movie fragment', 'interaction video', 'landmark video', 'frontal view video', 'image to video', 'city sequence', 'eye region video frame', 'background activity', 'pedestrian walkway', 'sitcom episode', 'bonafide video', '360° equirectangular video', 'surveillance video', 'anomaly detection', 'auto driving', 'garment folding video', 'incident video', 'reaction video', '2d animations of social interaction', 'scenario video', 'video language task', 'drone simulation video', 'visible light face video', 'exercise performance', 'video summarization', 'pseudo synchronized video', 'compressed video', 'ultra high resolution video', 'simulation interaction', 'movie excerpt', 'selfreenactment video', 'table tennis game', 'object detection and tracking', 'furniture assembly', 'recipe video', 'untrimmed video', 'description based question answer', '3d animation', 'environmental sequence', 'dance performance', 'haze free video', 'face video clip', 'cued speech video', 'dog activity', 'meeting video', 'participant activity', 'human activity scene', 'oro facial gesture', 'live streaming video', 'exercise action', 'road scene', 'unblurred asl signing', 'object centric video', 'mouse action', 'color event video', 'blurred video', 'baseline human scene', 'sensor video', 'video id', 'indoor ptz surveillance video', 'object', 'robot exploration video', 'diverse video clip', 'facial expression video', 'gun review', 'egocentric view', 'infrared video', 'dialogue video', 'frame interpolation', 'urban scenario frame', 'human pose', 'multi shot event', 'phone call', 'video super resolution', 'video scene', 'tv show scene', 'face recognition', 'short video clip', 'robot interaction', 'registered video sequence', 'keyframe', 'microscopy video clip', 'sports video clip', 'sports video', 'scene parsing', 'sign language gesture', 'multi view video', 'global instance tracking', 'campus scene', 'robot cutting task', 'lip reading', 'defocus blur video', 'human object interaction video', 'gesture video', 'cartoon action', 'cultural interaction', 'panoramic video', 'event localization', 'digitally manipulated video', 'near infrared face video', 'sport video', 'motion segmentation clip', 'operation video recording', 'high resolution video', 'video retrieval', 'repetitive activity', 'urban traffic video sequence', 'field recording', 'action sequence', 'audition', 'green screen video', 'object motion sequence', 'gait sequence', 'temporal distribution', 'emotion expression video', 'sport', 'ego centric dog video', 'sports activity', 'motion clip', 'game replay', 'monologue performance', 'multi view surveillance', 'object video sequence', 'visible spectrum video', 'sport performance video', 'short video moment', 'explosion video', 'multi person tracking video', 'weather condition', 'physical reasoning video', 'abandoned object detection scenario', 'gameplay replay', 'multi object tracking sequence', 'robot pushing sequence', 'flight video', 'pathological finding', 'animation triplet', 'facial video', 'facial gesture clip', 'real world low light video', 'real world driving video', 'avc video', 'therapy session video', 'rgb video', 'camouflaged animal video', 'car number video', 'conversation video', 'distracting objects video', 'mobile video', 'tactile internet video', 'activity recognition', 'distribution shift video', 'gaze tracking video', 'music room video clip', 'bounding box', 'perspective camera footage', 'egocentric videos with gaze overlay', '3d video', 'color video', 'trailer', 'car video shot', 'handball match video', 'head mounted sequence', 'medical instructional video', 'vessel video', 'vehicle detection sequence', 'temporal relation video', 'pose estimation video', 'panoramic video sequence', '360° video', 'frame to frame alignment', 'sign language interpretation', 'av1 video', 'near infrared video', 'emotion inducing clip', 'repetitive action video', 'surveillance scene', 'cross view tracking video', 'sports clip', 'youtube video id', 'endoscopic video', 'calcium imaging', 'internet archive video', 'ted talk presentation', 'face video sequence', 'face spoofing attempt', 'animal video clip', 'environmental context', 'dance move', 'fetoscopic procedure video', 'whole body video', 'aerial footage', 'eye blink video', 'exocentric video', 'color scale variation', 'frontal video', 'face presentation attack', 'native video', 'multi camera footage', 'soccer game footage', 'bounding box annotation', 'ad video', 'underwater scene', 'pedestrian and bicyclist trajectory', 'pixel level instance segmentation', 'profile view speech', 'synthetic video', 'normal video sequence', 'monocular video', 'spatio temporal video segment', 'time lapse video clip', 'scene diversity', 'synthetic video sequence', 'identity document video', 'segmented baseball activity', 'egocentric videos without gaze overlay', '4k burst video clip', 'fireworks scene', 'social interaction video', 'walk sequence', 'road accident video', 'flood video', 'fall label', 'conveyor belt video frame', 'educational multimedia', 'object trajectory', 'car sequence', '3d micro gesture video', 'gesture recognition', 'synchronized event', 'egocentric task video', 'altered video', 'seizure video snippet', 'tv program', 'fake video', 'low resolution surveillance video', 'glasshouse environment', 'workout activity', 'participant video', 'asl video', 'third person view', 'stereo wildlife video', 'emotional narrative', 'volumetric stereo refinement', 'synthesized scene video', 'driving simulation', 'ultrasound video', 'first person hand action video', 'complex web video', 'drone video clip', 'muted video', 'sub action sequence', '4d interaction sequence', 'fractal volume map', 'camera calibration sequence', 'facial attribute', 'human gesture sequence', 'instructional video segment', 'animation video', 'endoscopic surgery video', 'high speed video', 'workshop recording', 'real estate video clip', 'impaired video sequence', 'how to video', 'query video', 'car simulation video', 'badminton action', 'zebrafish sequence', 'object detection annotation', 'video comprehension', 'everyday object motion', 'cell migration video', '8k video sequence', 'flower scene', 'human action', 'snowy video', 'emotional scene', 'lifelogging video', 'activity sequence', 'face editing video', 'annotated video', 'dynamic content', 'scenario animation', 'dynamic ad', 'real life activity', 'animal activity video', 'video with diverse distortion', 'frontal view speech', 'audio visual scene', 'robot motion demonstration', 'colonoscopy video clip', 'video object segmentation', 'semantic salient instance video', 'driving simulation replay', 'aerial video', 'synthetic fisheye sequence', 'video segmentation', 'simulated human activity', 'creative commons video', 'multi view dance video', 'robot control simulation', 'temporally annotated activity segment', 'human human interaction', 'traffic flow simulation', 'hand object interaction', 'sports action', 'rotation', 'vibration', 'educational video', 'object detection', 'autonomous vehicle road event', 'drone surveillance video', 'nighttime uav tracking sequence', 'human evaluation video', 'robot behavior video', 'change detection scene', 'exercise video', 'pedestrian trajectory', 'pathological findings video', 'gray video', 'tv series episode', 'video prediction output', 'localized narrative', 'high dynamic range', 'celebrity face video', 'user chaptered video', 'human object human interaction', 'sports action video', 'satellite video', 'train station surveillance', 'lipreading video', 'dance video', 'enhanced video', 'camera motion sequence', 'text video', 'bona fide presentation', 'ground truth video sequence', 'human robot interaction', 'human activity', 'micro gesture video', 'fire scene', 'facial animation', 'eye tracking video', 'long video', 'teleconferencing scene', 'object motion video', 'planar object tracking', 'animated sequence', 'animal behavior segment', 'sport stream', 'movie and tv series summary', 'extreme condition video', 'isolated sign demonstration', 'driving video', 'family video', 'aero engine blade video', 'blurred video frame', 'funny skit', 'movement representation', 'corrected video', 'driving videos', 'document capture', 'web video', 'face swapping video', 'illumination change', 'cover frame', 'sound source localization video', 'video saliency', 'debate video', 'third person perspective', 'vehicle mounted video', 'first person binocular video', 'monochrome camera stream', 'temporal forgery segment label', 'tour guide scenario video', 'animation sequence', 'drama video', 'action clip', 'social activity video', 'cooking technique video', 'crowd level', 'pseudoscience video', 'tv show', 'motion capture frame', 'cooking demonstration', 'tv and movie drama', 'shot segmentation', 'cooking video', 'exercise error', 'golf swing sequence', 'movie clip', 'trick shot', 'attack face video', 'diving performance', '2d facial expression video', 'everyday interaction', 'distractor sequence', 'phase contrast video', 'vehicle tracking sequence', 'procedural activity video', 'object centric video clip', 'face anti spoofing', 'monocular rgb video', 'science video', 'burglary video', 'drone flight simulation', 'ai generated video', 'comedy', 'continuous fetoscopic video clip', 'sewer inspection video', 'movement', 'synthetic 4d light field video', 'audiovisual action event', 'calendar sequence', 'traffic accident footage', 'frame rate variation', 'apartment tour video', 'pedestrian detection', 'video segment', 'sky video footage', 'music performance video', 'robot manipulation task', 'dynamic hand gesture', 'aerial view video', 'human close up video', 'human body pose', 'personal narrative video', 'color frame', 'fight sequence', 'violent video scene', 'indoor video', 'pet video', 'lifestyle video', 'pedestrian tracking video', 'self shot video', 'movie trailer', 'procedure video', 'evacuation simulation', 'episode scene', 'infrared spectrum video', 'presentation attack video', 'movement trajectory', 'robot navigation video', 'algorithm demonstration video', 'road facing camera footage', 'human task demonstration video', 'lip movement video', 'reference video', 'reflection scene', 'multi view recording', 'fingertip video', 'environment video', 'group dance video', 'creative/generative question answer', 'snow free video', 'activity recognition video', 'violence situation', 'object recognition video', 'varied frame rate video', 'source to target reenactment video', 'degraded video', 'scene variety', 'co speech gesture', 'movie production scene', 'multi person interaction video', 'riding scene', 'social group interaction', 'laparoscopic surgery video', 'noisy video', '3d environment interaction', 'drone footage', 'multi view synchronized footage', 'human robot interaction scene', 'outdoor scene', 'egocentric video snippet', 'robot football gameplay', 'object detection video', 'political speech video', 'maritime obstacle video', 'soccer game segment', 'dialogue', 'driving scene', 'scene video frame', 'video quality attribute', 'news video', 'everyday event video', 'lifestyle vlog', 'crowded environment video', 'multi person sports video', 'video caption pair', 'gaming action', 'academic lecture', 'genuine face video', 'motion video', 'real life scenario', 'self driving car vehicle motion prediction', 'hd videos', 'video sequence', 'unusual action', 'group behavior video', 'human motion video', 'dynamic outdoor scene', 'attribute', 'walking video', 'self sung song', 'real world scene', 'diverse content video', 'garment flattening video', 'annotated frame', 'cartoon video clip', 'interaction sequence', 'outdoor environment', 'campus surveillance', 'television drama clip', 'distorted video sequence', 'collusive video', 'sign language conversation', 'block stacking attempt', 'generated video', 'motion pattern', 'indoor scene video', 'complex background motion', 'sign language video', 'uav footage', 'drowsiness detection', 'brand videos', 'guitar playing technique', 'hockey fight sequence', 'cultural expression video', 'outdoor video', 'gun detection', 'assembly video', 'road user trajectory', 'sports highlight', 'actor action segmentation', 'live caption clip', 'depth map', 'household task video', 'vehicle trajectory', 'traffic video clip', 'medical educational video', 'cattle action video', 'person recognition', 'stereo camera video', 'thermal infrared video', 'indoor dynamic scene', 'pedestrian tracking', 'driving scenario', 'theater play recording', 'error execution video', 'emotional speech video', 'student activity video', 'cattle behavior video', 'open domain video', 'human subject', 'real footage', 'synthetically degraded video', 'normal scenario video', 'video frame', 'tracking sequence', 'violence detection scene', 'educational content video', 'scene', 'regions of interest', 'distorted and blurry video', 'drone and bird detection video', 'slide presentation', 'eye tracking camera stream', 'diverse scenario', 'highlight clip', 'people interaction', 'resolution variation', 'singing performance', 'movie and tv show video', 'handheld sequence', 'hand presence', 'motorcycle traffic video', 'highlight annotation', 'multi person scene', 'multi viewpoint video', 'action step video', 'ego vehicle interaction', 'fall', 'exocentric demonstration video', 'gameplay video', 'football highlight', 'full length movie video', 'face anti spoofing video', 'aerial event video', 'demonstration video', 'gameplay footage', 'live streamed video', 'robotic surgical procedure', 'competition highlight', 'crowded scene', 'martial arts stunt', 'environmental variation', 'video based dialogue', 'movie', 'self stimulatory behavior video', 'navigation video', 'shared video', 'non fight sequence', 'motion style', 'unpatterned texture video', 'anatomical landmark', 'egocentric video sequence', 'actor action video', 'video engagement', 'egocentric kitchen video', 'stereoscopic video', 'indoor activity video', 'object video', 'foreground video clip', 'walking sequence', '4k video sequence', 'steady video', 'action recognition', 'binary mask clip', 'movie watching', 'face video', 'crossroad navigation', 'cartoon keyframe', 'instructional video', 'industrial bin picking scene', 'person re identification', 'scene transition', 'fall activity', 'adl activity', 'animal video', 'frame degradation', 'portrait video', 'rgb-d video', 'mouse grooming behavior', 'motion capture video', 'facial expression video clip', 'annotated videos', 'baseball game footage', 'multilingual video content', 'video explanation', 'movie spotlight', 'single-object tracking', 'party game', 'user generated content video', 'full body video', 'environmental video', 'video copy segment', 'task execution video', 'scene boundary', 'multi view rgb video', 'badminton match clip', 'third person video', 'event detection', 'skeleton based action', 'rare scene', 'entire face synthesis video', 'traffic scenario video', 'video instance segmentation', 'audio visual clip', 'retrieved video', 'video length', 'high resolution video sequence', 'street scene video', 'clothing style video', '45° view speech', 'subjective video content', 'mobile live video', 'story generation', 'social situation', 'film clip', 'single object tracking video', 'temporal action instance', 'motion capture recording', 'anomaly detection video', 'calibration video', 'source video', 'drum performance video', 'nonrigid object', 'object motion', 'cartoon animal movement', 'hazy video', 'tai chi performance', 'frontal face video', 'two person interaction', 'echocardiogram video', 'high frame rate video', 'spatio temporal scene', 'motion segmentation sequence', 'concept', 'task performance video', 'video portrait', 'celebrity walking video', 'video category', 'smooth landing', 'egocentric video frame', 'playing musical instrument', 'robotic workspace video', 'psychological interview video', 'sports movement', 'indoor environment', 'facial and body movement', 'robot demonstration', 'deepfake footage', 'video clip', 'annotated video segment', 'cardiac ultrasound video', 'state changing action', 'urban scene video', 'night city scene', 'depth video', 'real captured video', 'soccer clip', 'artistic performance', 'ir video', 'monocular video sequence', 'temporal video inpainting', 'pedestrian point of view road video', 'driving route video', 'surgical video', 'low light video', 'virtual scene', 'shooting drill', 'user generated video', 'live commerce clip', 'stereoscopic video frame', 'robotic laparoscopic hysterectomy video', 'people in static pose', 'temporal reasoning video', 'human tracking', 'music performance', 'user interaction video', 'traffic accident video', 'gaze estimation video', 'crowded real world video', 'sports activity video', 'top view video', 'parkour technique', 'driving video clip', 'product video', 'diving competition video', 'annotated video clip', 'video snippet', 'crowd video', 'tiger video shot', 'surgical procedure video', 'falling objects video', 'object tracking', 'heart blood flow recording', 'speaker presentation', 'crowd motion video', 'demonstration clip', 'screen recording', 'asl signing', 'robot trajectory', 'athlete movement', 'rgb-d video sequence', 'monologue', 'bsl interpretation', 'rppg video sequence', 'occlusion scenario', 'generic event', 'event scene', 'instructional video clip', 'challenge video', 'action movie fight sequence', 'game moment', 'magic video', 'everyday action', 'cartoon', 'multiple object tracking', 'insect movement video', 'first person monocular video', 'vertical video clip', 'wide view video', 'dance sequence', 'walking scene', '360° panoptic video', 'micro action video', 'fall sequence', 'robot navigation recording', 'robot task demonstration video', 'citywide traffic density', 'baseball game video', 'patient monitoring', 'full length video', 'action execution', 'multi view social interaction video', 'event video', 'person detection', 'pedestrian video clip', 'texture motion video', 'autonomous navigation video', 'video feature', 'blurred asl signing', 'dynamic scenes without camera motion', 'rgbd video', 'traffic surveillance video', 'gait recognition video', 'synthetic moving symbol', 'face detection', 'dynamic scene', 'social media video', 'action cycle annotation', 'multiview video sequence', 'instrument presence video', 'normal finding', 'control video', 'human actions with object', 'online video', 'table tennis stroke', 'anomalous motion', 'mobile video recording', 'aerial video sequence', 'colonoscopy video sequence', 'basketball highlight', '3d action sequence', '3d facial expression sequence', 'foliage sequence', 'low resolution activity', 'violence scene', 'multi object video', 'natural video', 'action unit', 'rgb camera stream', 'mjpg mode video', 'augmented soundscape stimulus', 'complex event', 'athlete action', 'scene video', 'binocular video sequence', 'finger movement video', 'omnidirectional camera footage', 'animal behavior', 'human object interaction', 'story continuation', 'encoded video', 'pedestrian video', 'live stream footage', 'video speeding', 'indoor and outdoor video', 'hevc video', 'deepfake video', 'crime scene', 'object tracking video', 'badminton match footage', 'motion sequence', 'movie summary video', 'privacy attribute', 'multi view human motion video', 'pistachio movement video', 'urban pipe inspection video', 'instructional cooking video', 'ted and tedx talk shot', 'multi view sequence', 'urban driving scenario', 'lip reading video', 'stereo video of people in orchard', 'real human activity', 'optical flow', 'pedestrian trajectory sequence', 'audio visual content', 'routine behavior', 'urban scene', 'youtube lifestyle vlog clip', 'pedestrian re identification', 'underwater video', 'single dancer video', 'sudden camera movement', 'distorted video', 'first person perspective', 'diverse body gesture', 'uav video', 'multi person pose video', 'video query', 'human motion', 'dashcam video', 'handheld video', 'ground video', 'spermatozoa recording', 'weaponized violence', 'fight scene', 'face presentation attack detection', 'highway driving scenario', 'music video', 'natural video sequence', 'urban road video frame', 'opinion video clip', 'class balanced video', 'object annotation', 'anomaly video sequence', 'indoor navigation sequence', 'camera view', 'surgical skill video', 'fail', 'character scene', 'training session video', 'documentary video', 'news broadcast', 'traffic video sequence', 'indoor sequences', 'video advertisement', 'human video', 'video annotation', 'wildlife tracking video', 'anomalous event', 'high resolution video clip', 'facial expression sequence', 'synthetic human gesture video', 'asl sign video', 'human behavior', 'store surveillance video', 'urban street scene video', 'armed robbery', 'animal action', 'exercise demonstration', 'uav tracking video', 'action recognition clip', 'human action sequence', 'traffic lane video', 'thermal video', 'annotated video frame', 'playing instrument', 'non violence situation', 'urban environment time lapse', 'street crossing video', 'crowd scene', 'first person video clip', 'eye state video frame', 'video url', 'first person interaction', 'dental procedure video', 'sound source video', 'biking video', 'annotated event', 'live event clip', 'human robot interaction scenario', 'subject reaction', 'wildlife documentary', 'manipulated video', 'screencast tutorial', 'face reenactment video', 'stereo cylindrical 360° rgb video', 'normal light video', 'fallen person video', 'dance motion', 'hand gesture video', 'egocentric video', 'un annotated frame', 'scientific video lecture', 'human centric scene', 'hand trajectory', 'presentation attack', 'soccer match footage', 'multi object tracking video', 'text to video', 'robot operation video', 'youtube video', 'action scene', 'anomaly event', 'internet wins fail']\n",
            "Duplicate found: 3d point cloud is present in data_types ['scene point cloud', 'traffic scene', 'object point cloud', 'partial point cloud', 'internal sensor failure', 'aerial lidar scan', 'lidar point cloud', 'external disturbance', 'static environment point cloud', '3d object model', 'ground lidar scan', '3d human motion', 'urban scene', 'kitchen object annotation', 'building structure', 'clean ground truth point cloud', 'gt point cloud', 'adverse weather condition', 'forest structure', 'environment mapping', 'urban landscape point', 'lidar scan', 'real world lidar point cloud', 'underground utility', 'forest point cloud', '3d point cloud', 'industrial product model', 'urban environment', 'velodyne scan', 'panoptic labeled 3d point cloud', 'velodyne scan frame', 'hand 3d point cloud', 'indoor environment scan', 'environmental point cloud', 'indoor scene point cloud', 'lidar point cloud frame', 'object classification', 'urban outdoor environment', '3d bounding box', 'synthetic lidar point cloud', 'cherry tree structure', 'semantic annotation', 'noisy point cloud', 'geometrical terrain', 'architectural structure', 'high resolution 3d point cloud', 'part segmentation', 'time varying geometry', 'real 3d point cloud', 'synthetic 3d point cloud', 'warehouse 3d mapping', 'semantic segmentation label']\n",
            "Duplicate found: graph is present in data_types ['concept graph', 'protein protein interaction network', 'knowledge graph path', 'point pattern graph', 'heterogeneous academic graph', 'molecular_structure', 'citation relation', 'colored graph', 'multi modal relationship', 'undirected graph', 'co purchasing network', 'static feature', 'graph data structure', '2-hop subgraph', 'protein structure', 'amr graph', 'dynamic feature', 'polymer graph', 'node feature', 'protein protein interaction graph', 'user node', 'user friendship network', 'navigation graph', 'drug drug interaction network', 'network topology', 'graph regression', 'also_bought_graph', 'access graph', 'iam graph', 'entity', 'temporal link', 'synthetic graph', 'synthetic network', 'rdf star graph', 'graph classification dataset', 'biological network', 'structured datatype', 'impedance curve', 'ontology edge', 'activity data', 'transaction network', 'knowledge graph entity', 'isomorphic graph', 'personal memory graph', 'user interaction graph', 'social network', 'graph label', 'house motif', 'dependency graph', 'scene graph', 'citation relationships', 'graph topology', 'film network', 'interaction network', 'neural network architecture', 'edge classification', 'protein interaction network', 'node', 'community subgraph', 'benchmark graph', 'edge', 'online review', 'character co occurrence graph', 'hard negative triple', 'graph kernel', 'quantum chemistry graph', 'tsp instance', 'hcp instance', 'node connection', 'autonomous system', 'network statistic', 'convolutional architecture graph', 'community membership list', 'amazon network', 'subgraph counting', 'communication network', 'vascular graph', 'entity graph', 'graph generation pipeline', 'future link prediction', 'negative triple', 'ethereum interaction graph', 'ontology node', 'cybersecurity knowledge graph', 'citation network structure', 'link prediction', 'citation graph', 'knowledge graph embedding', 'molecular graph', 'flow graph', 'ttl knowledge graph', 'discussion graph', 'graph structure', 'temporal knowledge graph', 'synthetic game graph', 'simplicial complex', 'cell graph', 'ego network', 'station network graph', 'international relations network', 'project graph', 'molecular compound', 'road network', 'graph', 'chemical compound graph', 'spatial graph', 'hierarchical structure', 'discussion thread', 'internet network', 'destination node retrieval', 'genre edge', 'chemical compound structure', 'page page graph', 'cross link', 'rdf triple', 'citation link', 'user item graph', 'social network graph', 'user action', 'community structure', 'graph data', 'heterogeneous graph structure', 'paper node', 'collaboration network', 'five node cycle', 'institution node', 'network structure', 'interaction graph', 'evaluation graph', 'temporal network', 'situated hypergraph', 'directed acyclic graph', 'and inverter graph', 'time interval graph', 'actor/actress network', 'spatial link', 'dynamic protein protein interaction network', 'online community', 'program dependence graph', 'also_viewed_graph', 'computational graph', 'financial transaction graph', 'geometric constraint graph', 'time evolving graph', 'domain node', 'news propagation network', 'product link', 'heterogeneous node', 'visual graph structure', 'also bought graph', 'film node', 'entity relationship', 'graph classification', 'hypergraph structure', 'hyperedge', 'user relationships', 'directed edge', 'face to face communication network', 'node attribute', 'knowledge graph triple', 'node classification', 'edge list', 'polarization curve', 'nanomaterial structure', 'connected component', 'location based social network', 'chemical structure graph', 'temporal graph snapshot', 'wikipedia network', 'page page network', 'social link', 'triangulations of surface', 'supply chain network', 'edge feature', 'function call graph', 'triangle', 'connectivity network', 'drug protein interaction network', 'user rule graph', 'conjunction graph', 'knowledge graph', 'kg structure', 'merge tree', 'also viewed graph', 'hypergraph', 'comment graph', 'molecular structure', 'web graph', 'co purchase graph', 'sensor network graph', 'author node', 'knowledge graph structure', 'analog circuit graph', 'film connection', 'track instance', 'chemical structure', 'wind farm graph', 'twitter and memetracker', 'real world graph', 'heterogeneous graph', 'intermediate table', 'detailed graph representation', 'co authorship network', 'multi relation graph', 'post to post connection', 'training graph', 'signed network', 'actor network', 'input graph', 'ground truth community', 'benchmark scenario', 'triangulations of manifold', 'follower network', 'node category', 'lattice diagram', 'webgraph', 'version control snapshot', 'citation network', 'network graph', 'geo referenced graph', 'weighted correlation', 'page link', 'catalyst graph', 'road network graph', 'semantic graph']\n",
            "Duplicate found: event stream is present in data_types ['event stream']\n",
            "Duplicate found: depth map is present in data_types ['cityscapes depth map', 'depth map', 'projected depth map']\n",
            "Duplicate found: camera pose is present in data_types ['camera pose']\n",
            "Duplicate found: camera parameter is present in data_types ['camera parameter']\n",
            "Duplicate found: spatial relation is present in data_types ['spatial relation']\n",
            "Duplicate found: grounding is present in data_types ['grounding']\n"
          ]
        }
      ],
      "source": [
        "# load the file -> \"merged_modalities_data_types.json\"\n",
        "with open('merged_modalities_data_types.json', 'r') as file:\n",
        "    data = json.load(file)\n",
        "\n",
        "# Initialize a set to store all the \"data_types\" values\n",
        "data_types_set = set()\n",
        "\n",
        "# Check for duplicates\n",
        "for entry in data:\n",
        "    modality = entry['modality'].lower()\n",
        "    data_types = [dt.lower() for dt in entry['data_types']]\n",
        "\n",
        "    # Check if the modality is in the data_types\n",
        "    if modality in data_types:\n",
        "        print(f\"Duplicate found: {modality} is present in data_types {data_types}\")\n",
        "\n",
        "    # Add all data_types to the set for further checking\n",
        "    for dt in data_types:\n",
        "        data_types_set.add(dt)"
      ]
    },
    {
      "cell_type": "markdown",
      "metadata": {
        "id": "9mx0qa4t7uEu"
      },
      "source": [
        "### Remove Duplication Words in Datatypes"
      ]
    },
    {
      "cell_type": "code",
      "execution_count": null,
      "metadata": {
        "colab": {
          "base_uri": "https://localhost:8080/"
        },
        "id": "TjoPn5cv6yDU",
        "outputId": "7a96187a-9eee-4307-a375-4a6a9829f52b"
      },
      "outputs": [
        {
          "name": "stdout",
          "output_type": "stream",
          "text": [
            "Removing duplicate: text from data_types ['graph based annotation', 'beats annotation', 'wikipedia topic', 'wikipedia page', 'molecular description', 'magazine text', 'sign label', 'pixel wise segmentation mask', 'doi identifier', 'attack category label', 'output file', 'free text argument', 'sleep diary', 'anonymized response', 'road attribute', 'internet censorship test request', 'text to speech script', 'resolution', 'educational course material', 'experiment design', 'meeting note', 'watermark text', 'natural language caption', 'sample efficient task learning dialogue', 'condition', 'hierarchical label', 'assembly instruction', 'syntactic annotation', 'website url', 'positional relationship sentence', 'problem setup', 'case summary', 'finite clause embedding verb', 'sms message', 'safety reply', 'bt flows label', 'consumer review', 'invite link network node', 'literature survey', 'social media caption', 'action adverb pair', 'photo metadata', 'academic title', 'legal article', 'contract', 'bibliographic reference', 'code mixed answer', 'subjective assessment', 'brick identifier', 'epistemic activity', 'geometric order annotation', 'demographic data', 'binary classification', 'summarized question', 'research reference', 'sentiment label', 'verb annotation', 'lexical ambiguity', 'blog text', 'object category', 'ble advertisement packet', 'biodiversity table', 'classification instance', 'utterance transcript', 'ocr extracted text', 'scientific entity', 'web content', 'intelligent agent', 'trivia question', 'benchmark execution file', 'scientific reference', 'multilingual prompt', 'vulnerability scoring', 'trading date', 'human rating', 'species annotation', 'chinese caption', 'user generated content', 'task descriptions', 'academic writing', 'participant answer', 'substitute word', 'episode recap', 'tf/idf weighted word vector', 'relation instance', 'data collection timestamp', 'real news', 'land cover type label', 'mesh label', 'driving instruction', 'fuel type', 'facial attribute description', 'strategy question', 'user engagement', 'linguistic background profile', 'mayo endoscopic score label', 'corrected chinese text', 'news editorial', 'file fragment', 'coherence assessment', 'harmful behavior', 'ingredients and recipe', 'music playlist table', 'team identity', 'body orientation label', 'damage type', 'relation and argument annotation', 'step level label', 'social media account', 'conclusion comparison', 'model specification', 'math headline', 'radiology report', 'word sense disambiguation sentence', 'interaction description', 'emotional dialogue', 'research finding', 'reasoning question', 'summary comparison', 'reading comprehension explicit numerical reasoning', 'player role', 'dialog line', 'evaluation mask', 'debate sentence', 'augmented address text', 'gesture label', 'venue category', 'symptom hierarchy', 'graph representation', 'scientific preprint', 'logical predicate', 'music tag', 'acronym', 'event', 'post date', 'business metadata', 'nonscripted response', 'constituency parse', 'task assignment', 'environmental factors assessment', 'character attribute', 'geographical location', 'model information', 'shot level caption', 'political advertising category', 'link type', 'motion description', 'message log', 'material category label', '3d object annotation', 'metadata label', 'traffic sign annotation', 'instruction output', 'dialogue status', 'meal detail', 'news description', 'page property', 'platform description', 'narrative instruction', 'historical data', 'play script', 'emotion recognition', 'iconography classification label', 'metadata spreadsheet', 'wikipedia username', 'short statement', 'veracity label', 'sports statistic', 'acr appropriateness criteria label', 'character level annotation', 'biose format label', 'complex entity', 'text', 'index information', 'ground truth mask', 'conversational question answering', 'multi step reasoning task', 'chemical synthesis route', 'tweet', 'textual entailment', 'character personality trait', 'cloud label', 'patent claim', 'online q&a exchange', 'music analysi', 'cleaned text', 'manual', 'evaluation score', 'interactive narrative', 'mathematical expression', 'artist biography', 'document retrieval', 'subjective video quality score', 'resource link', 'full sentence answer', 'downbeats annotation', 'cwe type', 'critical analysi', 'submission content', 'property description', 'product offer', 'tweet content', 'wikidata entity id', 'geographic textual similarity', 'conversation act', 'sensor calibration', 'readme', 'binary attribute', 'unlabeled example', 'experiment metadata', 'term definition pair', 'lexical unit', 'player action', 'encyclopedia article', 'frame level annotation', 'git history', 'mathematics question', 'grasp annotation', 'anaphor reference', 'test suite', 'patient classification', 'event boundary caption', 'written dialog', 'dialogue response', 'theorem proof', 'conversational history', 'peer review', 'query rewrite', 'participant demographic', 'instruction manual text', 'credibility history', 'chord annotation', 'distractors', 'inline formulae', 'age information', 'research documentation', 'likert scale data', 'aspect based summary', 'meta relation type', 'user review', 'site description', 'cancer screening result', 'entity type', 'hand object relation', 'wikipedia page text', 'word pronunciation', 'transliterated text', 'non security patch', 'relation triplet', 'interaction log', 'essay', 'in game goal', 'client information', 'behavior annotation', 'medical query', 'human written query', 'annotated evidence span', 'word level transcription', 'conceptual annotation', 'recipe ingredient', 'evaluation sentence pair', 'site information', 'research paper', 'social interaction annotation', 'bilingual text', 'unit conversion', 'feature vector', 'art metadata', 'cyber threat intelligence', 'low resource nlp text', 'multilingual article', 'safety issue', 'newswire', 'bigram pair', 'spoken language transcript', 'law', 'hate speech expression', 'automotive bus data', 'lesion annotation', 'annotations and label', 'citation', 'knowledge analysis', 'human classification', 'dialogue representation', 'sarcasm category label', 'object-entity', 'subject demographic', 'location name', 'sense annotated text', 'parallel subtitle', 'taxi class label', 'person identity label', 'movie id', 'forum posting', 'link', 'cross linguistic polysemy', 'cell annotation', 'organization name', 'subjective evaluation', 'question type annotation', 'hate speech label', 'group id', 'navigation description', 'action verb attribute', 'cultural and geographic scenario', 'semantic segmentation label', 'discourse entity', 'helpdesk instruction', 'identity verification pair', 'disparities and depth', 'text bounding box', 'howto guide', 'biological endpoint', 'temporal relation', 'clinical guideline', 'exam answer', 'ai governance text', 'scene element annotation', 'expert examined feature', 'noun argument annotation', 'dataset partition information', 'reliability template', 'wikipedia table', 'safety alignment script', 'patient demographic', 'participant stimulus assignment', 'hate speech detection', 'technical document', 'histopathologist diagnosi', 'umls concept', 'frame by frame annotation', 'jet feature list', 'metadata file', 'synthetic command', 'syntactic information', 'biomedical concept pair', 'simplified medical text', 'graph database clas', 'awarenes', 'sentence', 'scientific sentence', 'column explanation', 'rhythm classification label', 'process elements annotation', 'review annotation', 'shot description', 'text query', 'connotative role explanation', 'textual narration', 'synthetic text', 'semantic', 'human written template', 'online review', 'factoid question', 'human identity', 'character level perturbation', 'arousal annotation', 'vulnerability classification', 'short summary', 'feature annotation', 'reasoning explanation', 'size measurement', 'network evaluation description', 'geographic composition analysi', 'video level summary', 'online conversation', 'multilingual passage', 'language embedding', 'research question', 'human evaluated facts ungrounded answer', 'encyclopedic article', 'entity name', 'flight schedule', 'dynamic analysis report', 'sms spam message', 'answer url', 'classification annotation', 'language identifier', 'news article', 'entity linking annotation', 'control flow expression completion', 'ct logged certificate', 'demographic survey response', 'main tweet', 'natural language hypothesi', 'discourse relation', 'relationship label', 'clinical detail', 'animals statement', 'language format', 'candidate caption', 'depth estimation label', 'context independent question rewrite', 'source document', 'video source description', 'polygon annotation', 'encyclopedic entry', 'biomedical entity', 'key information', 'temporal expression', 'graph reasoning task', 'advertisement description', 'retrieval query', 'parallel document', 'riddle question', 'subtitles', 'program documentation', 'student composition', 'grading annotation', 'semantic description', 'occupations statement', 'parallel story', 'invite link network edge', 'in game log', 'qa pair', 'fraud alert message', 'code segment', 'language information', 'model', 'multilingual question', 'parallel sentence', 'style annotation', 'english instruction', 'conversation turn', 'trading volume', 'poet information', 'unlabelled textual document', 'signature author id', 'gnss / imu reading', 'news category', 'social network description', 'evidence string', 'signal', 'malware family label', 'multilingual labeling', 'person name', 'training parameter', 'peptide metadata', 'time data', 'material note', 'tweets about epidemic outbreak', 'research publication', 'lecture transcript', 'knowledge base path', 'positive and negative text', 'multi choice visual question', 'political bias label', 'news report', 'medline abstract', 'mental workload rating', 'in domain sentence', 'tool annotation', 'discourse phenomenon', 'network connection log', 'paired caption', 'soundscape attribute translation', 'paper title', 'significant topic word', 'source reference', 'literature informed verb', 'ingredient annotation', 'annotator preference', 'chinese idiom', 'time window', 'damage id', 'immune and tumor cell annotation', 'lesion classification label', 'code base', 'instance segmentation label', 'social media news', 'recall action description', 'anonymized product id', 'knowledge grounded answer', 'characterization metric', 'chemical mention', 'algebraic notation string', 'translation evaluation', 'style classification label', 'travel guide', 'rule description', 'review content', 'literary work', 'bag of words vector', 'event name', 'synthetic route', 'polar question', 'graph level property', 'audio transcript', 'semantic similarity label', 'subjective perceptual response', 'reddit entry', 'tldr summary', 'semantic similarity sentence', 'citation purpose', 'parking lot annotation', 'vehicle id label', 'assertive statement', 'manual transcription', 'worm classification', 'guitar configuration annotation', 'alt text', 'emoji based hate expression', 'discussion text', 'dialogue subtitle', 'sarcasm annotation', 'user forum post', 'structured data', 'chat utterance', 'drug keyword', 'metaphorical prompt', 'soundness evaluation', 'exam question', 'ethical concept', 'grooming annotation', 'pull request title', 'category attribute matrix', 'product inventory data', 'bug description', 'financial text', 'author id', 'word analogy problem', 'detailed video caption', 'storage condition', 'emotion report', 'morpheme annotation', 'grounded video question answer', 'semantic inference label', 'query relevance label', 'floor identifier', 'entity linking', 'privacy mechanism detail', 'interactive information', 'inpatient claim', 'fact check label', 'child comment', 'genre description', 'legal sentence', 'cognitive load questionnaire', 'mal activity report', 'network interference detection', 'genre specific text', 'object mask annotation', 'translation unit', 'semantic type', 'reference sequence', 'photometric calibration data', 'parsed html structure', 'polar expression', 'quality assessment score', 'text to code generation', 'memorability score', 'garment type label', 'broad discipline category', 'evaluation criterion', 'human generated extract', 'interaction explanation', 'task instruction', 'multi hop reading comprehension', 'general text generation', 'modification', 'sentence to paragraph', 'subjective rating', 'chatbot interaction', 'evaluation guideline', 'outcome label', 'apartment description', 'non discriminative question', 'non native english text', 'agent response', 'contextual prompt', 'building identifier', 'chart metadata', 'abusive language', 'association type', 'coreference information', 'reading order information', 'facs coded action unit', 'support phrase', 'spoken explanation', 'genome metadata', 'sperm characteristic', 'magazine content', 'banglish sentence', '2d/3d bounding box coordinate', 'financial sentiment analysi', 'machine translation text', 'textual instruction', 'aspect phrase', 'questions and explanation', 'source abstract', 'non wikipedia reference document', 'dialect transcription', 'animal annotation', 'accessibility text', 'column description', 'repair date', 'biological property', 'urdu font', 'highlighted story', 'user identification', 'indexing information', 'chemical reaction', 'evaluation instruction', 'fake claim', 'persona grounding sentence', 'midi data', 'screenplay', 'key step annotation', 'geotag', 'benchmark summary', 'tumor grade', 'table text content', 'ground truth classification', 'temporal question', 'noisy bangla text', 'annotation proces', 'atlas description', 'entity information', 'question sentence', 'solution method', 'user answer', 'human perception label', 'reply', 'github account description', 'session interaction', 'side effect', 'polymer description', 'speaker diarization', 'speaker text pair', 'web query', 'risk prediction', 'narrative problem', 'interaction experience', 'tree species label', 'literal motion sentence', 'scientific problem description', 'dataset name', 'reference topic', 'security related text', 'pseudo label', 'form text', 'chatgpt answer', 'fomc post meeting statement', 'wine metadata', 'logical description', 'annotated snippet', 'video comment', 'device status log', 'vehicle trip record', 'time phrase', 'code mixed question', 'regulatory document', 'geometry definition', 'aspect based sentiment analysi', 'raw text', 'program detail', 'challenge annotation', 'typed textual relation', 'justification', 'condition assessment', 'volunteer engagement metric', 'proverb ending', 'tracking baseline', 'day type', 'device information', 'ripeness label', 'query triple', 'object classification label', 'domain name', 'column property annotation', 'medical named entity', 'publication reference', 'bangla sentence', 'metadata record', 'supporting fact', 'full text of research paper', 'label matrice', 'storybook', 'full paper', 'identity term', 'heart rate annotation', 'formal meaning representation', 'language completion', 'feature description', 'prompt completion pair', 'sequence label', 'publication', 'vision language task', 'generation prompt', 'gene sequence', 'singing style annotation', 'information list', 'proof step', 'recipe title', 'translated code snippet', 'text response', 'contact mask', 'financial announcement', 'search query string', 'logical form', 'classification and detection annotation', 'emotion category', 'environment annotation', 'glass type', 'conversational claim', 'code mixed tweet', 'conjunction data message', 'language model data', 'interaction_dialogues', 'case insensitive text annotation', 'workshop description', 'algorithmic reasoning', 'glaucoma grade annotation', 'natural language feedback', 'channel description', 'raw payload information', 'supplementary information', 'trustworthy information', 'conference information', 'dvs caption', 'html representation', 'aspect label', 'speech segmentation', 'government report', 'childrens lexicon article', 'target group label', 'movie chat', 'ehr free text', 'relation conversation', 'event metadata', 'negotiation dialogue', 'mbti dimension instruction', 'value judgment', 'crowdsourced answer', 'asr transcript', 'game action', 'api definition', 'footnote reference number', 'vertex coordinate', 'per instance text metadata', 'partisanship label', 'probability of preference label', 'japanese english translation', 'emoji usage context', 'service offering', 'navigational instruction', 'internet domain', 'font file', 'article section', 'natural language query', 'tachometer data', 'intent based summary', 'next step text', 'complex sentence transformation', 'landmark query', 'meme caption', 'movie genre', 'synthetic short story', 'orthographic transcription', 'narrative clause', 'novelty label', 'question response pair', 'benchmark text', 'cryptocurrency trading pair', 'culture statement', 'positive caption', 'opinion based query', 'credit card issuance', 'business attribute', 'tumor annotation', 'answer span', 'calculation metadata', 'session metadata', 'programming language', 'customer service dialogue', 'user story description', 'policy description', 'body type', 'matrix tense', 'relevance score', 'art background information', 'engine size', 'video level attribute', 'clinical admission note', 'academic metadata', 'issue detail', 'template', 'movie title', 'humanitarian category', 'latex code', 'name pair', 'sentence pair', 'chinese command', 'unlabeled domain related corpus', 'paragraph to paragraph', 'punchline response', 'wikipedia document', 'algorithm comparison result', 'proposition', 'water meter reading', 'textual summary', 'action caption', 'question pattern', 'paraphrased sentence', 'spoken text', 'generation model reason', 'template pair', 'calibration data', 'choice', 'diacritized text', 'answers and explanation', 'entailment question', 'machine translated sentence', 'defect caption', 'gloss label', 'clinical outcome measure', 'validity assessment', 'author country of origin', 'instance and semantic segmentation annotation', 'action trace', 'concept definition', 'modified text', 'vectorized document', 'biomedical article', 'keyphrase extraction', 'scientific passage', 'meaning representation', 'ego vehicle trajectory', 'factuality system label', 'encyclopedic content', 'claim evidence pair', 'review score', 'cad construction sequence', 'body level text prompt', 'dialogue turn', 'election configuration', 'health news article', 'ancient chinese passage', 'comprehensive answer', 'classical chinese text', 'annotated statement', 'narrative description', 'noun and verb chunk', 'scientific text passage', 'object detection annotation', 'fields of study annotation', 'action explanation', 'pddl code', 'ethnicity annotation', 'vehicle model information', 'acoustic properties annotation', 'scientific standard', 'scholarly article table', 'discipline tag', 'word sense disambiguation annotation', 'activity', 'architecture json', 'medical ontology entity', 'website description', 'garment category label', 'user listening history', 'predicate', 'scanpath sequence', 'crime event detail', 'biographical information', 'parliamentary proceedings', 'player input', 'purpose statement', 'financial sentence', 'syntactic chunks', 'statement extraction', 'article category', 'annotator agreement level', 'positive answer', 'offensiveness level', 'commentary news pair', 'method description', 'network analysis result', 'competency question template', 'customer review', 'genomic description', 'reply selection', 'persuasiveness task', 'sequence labeling', 'interactive fiction text', 'user ai interaction', 'semantic supersense', 'scientific description', 'summarized article', 'evaluation design', 'segment annotation', 'network mechanism', 'scene attribute description', 'qualitative binding result', 'project information', 'annotator identifier', 'academic publication', 'rulebase', 'news text', 'personal data', 'example sentence', 'sentence segmentation', 'question answer pair', 'quantified sentence', 'blog caption', 'molecular descriptions', 'paragraph summary', 'scientific publication', 'sports news', 'dr grading label', 'conversational sentence', 'digit position annotation', 'morpho syntactic annotation', 'tour link', '2d pose annotation', 'translation', 'social media post', 'correct answer', 'truthful news article', 'attribute based label', 'camera metadata', 'sentence denotation pair', 'emotional intelligence response', 'scene text word', 'low resource language text', 'muscle group label', 'hypothesi', 'head center coordinate', 'tweet metadata', 'questionnaire item', 'referring expressions', 'annotated sentence', 'sensitive attribute label', 'semantic context', 'network trace', 'research methodology', 'stream of consciousnes', 'grammatical gender cue', 'asr transcription', 'loan repayment rate', 'image level annotation', 'factually consistent summary', 'icu occupancy report', 'advanced text', 'segment level label', 'arabic words and numeral', 'lecture content', 'nft ownership trace', 'reality checking task', 'consent response', 'weather parameter', 'opinion statement', 'menopausal status', 'music aspect', 'failure mode code', 'gdpr transparency statement', 'math word problem', 'target amino acid sequence', 'tweet annotation', 'in scope intent', 'goal of activity', 'segmentation annotation', 'term typing', 'group dialogue', 'chapter summary', 'minimal_pairs', 'conversational search', 'documentation', 'csv file', 'game annotation', 'adversarial text', 'open ie tuple', 'experimental description', 'drone camera 6 dof label', 'human rights semantic category', 'quantification sentence', 'lexical semantic shift', 'local summary', 'rephrased sentence', 'conclusion', 'video level label', 'optic disc/cup segmentation mask', 'radiographic report', 'ingredients list', 'financial description', 'problem statement', 'knowledge statement', 'narrative text', 'repair cost', 'bilingual answer', 'variant spelling pair', 'inference question', 'care provider note', 'anime tag', 'classification record', 'sentiment', 'spoof type annotation', 'thai text', 'informative writing prompt', 'sparql query', 'episodic buffer detail', 'radiological report', 'gene mention', 'r notebook', 'reasoning text path', 'statistical analysi', 'chain of thought (cot) prompting', 'film script', 'toxic statement', 'software description', 'user question', 'wikipedia lead section', 'community label', 'program code', 'addressee information', 'masked city name', 'natural language intent', 'annotated comment', 'object detection label', 'game platform description', 'object intersection', 'device list', 'annotated clause', 'parameter', 'fine label', 'training label', 'human authored text', 'ad description', 'traffic ranking', 'ground truth hand pose information', 'patient identifier', 'scientific protocol', 'english letter', 'sub genre', 'commonsense question', 'citation based summary', 'diagnostic test result', 'analysis script', 'coding problem', 'quality label', 'conversational data', 'game command', 'email subject line', 'app category', 'book title', 'open domain non factoid question', 'entry classification label', 'conversational passage', 'carboxylase table', 'logical rule', 'questionnaire response', 'scene level summary label', 'table name', 'specialists letter', 'movie rating', 'conversation thread', 'compositional change', 'trajectory description', 'situated question', 'academic text', 'source code function', 'traffic incident information', 'seat number', 'debate rebuttal', 'note expression annotation', 'homonymy type', 'participant background', 'infection report', 'interaction class label', 'license plate text', 'lexically matched statement', 'sentence ordering', 'episode history', 'biography', 'syntactic derivation', 'camera pose', 'tournament information', 'clinical note', 'code repository', 'instance level annotation', 'etymological entry', 'language acquisition text', 'algorithmic question', 'ctf writeup', 'rna sequence', 'fields of study', 'human evaluated facts poor answer', 'topic information', 'publication type', 'privacy policy passage', 'annual report section', 'item textual feature', 'development environment configuration', 'long context sequence', 'business event', 'news document', 'uncertainty estimate', 'chess move analysi', 'positive triple', 'self reported data', 'social development survey', 'food planning guide', 'lightweight text', 'traffic light status', 'text conversation', 'ground truth annotation', 'single turn conversation', 'question template', 'string sequence', 'monolingual corpu', '2d joint coordinate', 'vehicle telemetry', 'looking time interval', 'shower information', 'radiologist report', 'code edit', 'relation triple', 'monolingual text', 'log translation', 'coreference candidate', 'python code', 'original text', 'thesis and dissertation title', 'wikipedia summary', 'financial transaction', 'trademark assignment text data', 'text: description', 'groundtruth', 'conversational exchange', 'annotated preposition', '3d joint coordinate', 'human pose annotation', 'factoid qa pair', 'free form corpus', 'patient clinical data', 'road crossing safety label', 'pose annotation', 'textual number', 'human annotation', 'wikipedia passage', 'lexically rich sentence', 'latex source', 'academic reference', 'distilled text', 'book description', 'keynote speech', 'category annotation', 'csv feature file', 'code description', 'comorbidities', 'natural language description', 'arxiv preprint', 'sql query', 'wikipedia paragraph', 'analysis code', 'quantifiers and modifier', 'web sentence', 'machine generated question', 'original utterance', 'rater comment', 'text span', 'domain names', 'text instances in image', 'transit agency description', 'professional translation', 'syntactic tree', 'claim', 'conversational text', 'neuro symbolic approach', 'nouns and noun phrase', 'graph query language', 'conversation transcript', 'biological full paper', 'osas annotation', 'evaluation report', 'academic paper keyword', 'boulder label', 'frame file', 'dna sequence', 'environment metadata', 'aspect level sentiment annotation', 'validation data entity alignment', 'holistic long text', 'subtitle', 'prospectus example', 'api parameter', 'slot filling', 'triage information', 'answer description', 'course syllabi', 'audio transcription', 'url', 'smpl parameter', 'financial agreement', 'court judgment', 'human evaluation', 'quoted span', 'natural language rationale', 'reference solution', 'landmark location', 'discourse unit segmentation', 'gender related text', 'neuropsychological assessment', 'verbatim quote', 'fact synset', 'experimental metadata', 'member information', 'adversarial sample', 'message metadata', 'interactive text environment', 'gold coefficient alignment', 'single sentence classification', 'clinical glaucoma label', 'speaker metadata', 'family information', 'sitcom script', 'chart specification', 'meta description', 'formal language sequence', 'commonsense assertion', 'human translation', 'subject information', 'project page', 'date metadata', 'xml label', 'case fact', 'inventor mention', 'trait entity', 'word pairs with similarity score', 'natural language template', 'academic paper abstract', 'image annotation', 'counterfactual event', '3d gaze direction annotation', 'commit categorization', 'knowledge grounding', 'ground truth class', 'vertice coordinate', 'social media repost', 'descriptive caption', 'reference news article', 'bibliographic entry', 'digit sum', 'news corpu', 'is a relation', 'academic abstract', 'german sentence', 'original fact', 'repair complexity', 'intent detection sentence', 'coded reflection', 'conversion script', 'survey instrument', 'acoustic measures documentation', 'benchmark challenge', 'voter preference', 'chapter category', 'propbank', 'ai annotation', 'intent query', 'aspect annotation', 'geographic information', 'diagnostic description', 'frame wise annotation', 'knowledge corpu', 'news article body text', 'witness statement', 'incorrect sql interpretation', 'aligned paragraph', 'step caption', 'knowledge base triple', 'clinical concept', 'ventricle tracing', 'medication administration', 'observation metadata', 'test data entity alignment', 'human written recap', 'web article', 'question logical form pair', 'wikipedia hyperlink', 'microscopy label', 'natural language theorem statement', 'object span', 'self reported depression diagnosis post', 'unknown triple', 'log file', 'equation', 'commit diff', 'edit instruction', 'labelled document', 'native speaker text', 'german translation', 'coding problem description', 'poem', 'polyp class', 'synthetic sentence', 'author description', 'speech transcription', 'human generated text', 'publication metadata', 'head level annotation', 'orthography', 'non crop label', 'sanskrit shloka', 'pathway annotation', 'region description', 'nested named entity', 'project background', 'science exam question', 'elevation data', 'predator chat', 'self reported label', 'mcq question', 'inn code', 'sensor pose data', 'knowledge base query', 'korean language task', 'entity level text', 'repair hour', 'translation paraphrase', 'video caption', 'sentences with nobody or no one as subject', 'credit score', 'span', 'chatgpt response', 'task', 'user persona', 'answer type', 'types of mal activity', 'item category', 'responsibility prompt', 'lexically distinct term', 'exposure history', 'tweet id', 'age annotation', 'wikipedia abstract', 'adversarial safety prompt', 'world instance metadata', 'language diversity', 'elicitation paragraph', 'textual sentence', 'skill assessment', 'dataset splits description', 'pose description', 'pathology label', 'ambiguous digit label', 'journalist reply', 'occupation', 'biological text', 'scientific paper draft', 'dialogue sentence', 'region of interest metadata', 'press conference', 'atomic action annotation', 'idiom', 'friend attribute', 'grant abstract', 'word level perturbation', 'english caption', 'patent abstract', 'chit chat', 'vulnerability description', 'driver anger scale questionnaire', 'software metadata', 'gene sets and signature', 'relationship annotation', 'news title', 'synthetic urdu text', 'thematic change', 'human solution', 'entity annotation', 'identifier name', 'misinformation claim', 'reported cases data', 'deceptive text', 'company name', 'brand_information', '3d coordinates of body joint', 'exam passage', 'email address', 'gleason score', 'scientific domain', 'annotations', 'chinese instruction', 'news topic', 'rhythm annotation', 'stance', 'country report', 'question category', 'narrative', 'detailed description', 'user textual feature', 'classification', 'finger level text prompt', 'matching criterion', 'social media posts', 'movie plot passage', 'human judgment', 'word level gender tag', 'numerical reasoning process', 'poi description', 'colony classification label', 'arithmetic task', 'effect statement', 'joint state configuration', 'mos rating', 'syslog', 'multimodal annotation', 'creative writing prompt', 'machine hardware configuration', 'multilingual text', 'user type', 'gender alternative translation', 'news caption', 'conversational question', 'stylistic lexical cue', 'treebank', 'image description', 'manually written caption', 'sarcasm label', 'camera position', 'course description', 'solidity source code', 'job workload description', 'semantic information', 'identity annotation', 'synset', 'hindi sentence', 'bounding box coordinate', 'taxonomic classification', 'pun pair', 'non expert annotation', 'human judgement', 'document feature', 'student review', 'medical article abstract', 'free text typing', 'utterance', 'chemical comment', 'faq', 'human response text', 'table caption', 'synthetic natural text', 'full story', 'code change', 'prompting text', 'user query reading comprehension', 'intent type', 'channel metadata', 'molecular smile', 'sentences', 'news title generation', 'model metadata', 'topology relationship', 'type label', 'observation token', 'data dictionary', 'attack method description', 'breast level assessment', 'spear phishing email', 'dataset reference', 'multi choice prompt', 'propagation source', 'descriptive question', 'knowledge editing task', 'cve information', 'student metadata', 'morphological segment', 'dynamic drawing information', 'clinical text', 'system documentation', 'dialogue domain', 'referring phrase', 'site identifier', 'email writing', 'cultural reasoning text', 'reading order', 'analogy question', 'meteorological indicator', 'inline textual reference', 'text: information', 'safe response', 'random sentence', 'keypoint coordinate', 'semantic label', 'occlusion annotation', 'dynamic text attribute', 'news headline classification', 'future work', 'change label', 'dbpedia abstract', 'textual mention', 'puzzle statement', 'build system script', 'complex word identification', 'mono lingual text', 'airfoil annotation', 'web crawled data', 'arousal rating', 'flowchart', 'nlp task specific text', 'section name', 'timestamped activity data', 'full text', 'event type', 'behavioral response', 'control statement', 'github repository metadata', 'license plate number', 'story', 'commonsense triplet', 'annotated event instance', 'quadruple', 'cloze task', 'sha hash', 'safety_guidelines', 'political speech transcription', 'narrative passage', 'activity type annotation', 'gloss notation', 'process description', 'short emotional response', 'object wise bounding box', 'noisy label', 'higher level textual feature', 'unstructured note', 'scientific concept', 'dictionary', 'reference sentence', 'logical reasoning passage', 'well being metric', 'coherent passage', 'client statistic', 'stereo camera calibration parameter', 'shot level importance score', 'instrument presence', 'sentence similarity', 'company prediction', 'error count', 'scientific document', 'architecture description', 'reviewer response', 'newspaper text', 'contract classification', 'persian questions and answer', 'claim sentence', 'complex intent', 'coco json annotation', 'audiobook transcript', 'user data', 'scene graph', 'lexical normalization', 'dialog state annotation', 'semantic query', 'hausa description', 'patent application full text', 'comment text', 'object category annotation', 'semantic content description', 'sentence rewrite', 'discourse structure', 'spoken mathematical expression', 'citation prediction', 'human annotated reason', 'subtitle text', 'conversion log', 'surgical instrument class', 'molecule description', 'phonetic transcription', 'order detail', 'post editing text', 'metadata tag', 'academic document', 'instrument', 'discriminative utterance', 'recipe instruction', 'instruction prompt', 'evolution strategy', 'object class', 'architected material optimization progres', 'coding reasoning', 'discharge summary', 'phenotypic information', 'news outlet', 'pitch contour annotation', 'criminal history', 'social context description', 'historical text', 'freestyle question answer pair', 'bill document', 'general practitioner entry', 'email manipulation', 'plain language adaptation', 'generative model description', 'check in data', 'stop word list', 'calibration matrice', 'encyclopedic text', 'persian sentence', 'binary predicate', 'video summary', 'movie plot', 'audio caption', 'layout class label', 'ocr transcription', 'shader source code', 'stance classification benchmark', 'conference abstract', 'event knowledge base', 'domain specific text', 'text transcription', 'transcribed conversation', 'political language', 'coreference option', 'train set', 'background passage', 'social media text', 'named entity tag', 'high ambiguity scenario', 'chess piece annotation', 'pros and con', 'lexical category', 'multilingual instruction', 'gold answer', 'camera movement distance', 'data collection instruction', 'music transcription label', 'nli annotation', 'answer aware question generation', 'domain specific question', 'detection annotation', 'ocr text', 'entailment relation', 'mention', 'financial transaction document', 'acoustic scene class', 'benign statement', 're id annotation', 'bullet screen comment', 'reformulated query', 'word transcription', 'contextual text', 'human edited story', 'stock market report', 'job posting', 'labeled section', 'synthetic reasoning passage', 'smd annotation', 'code mixed comments', 'app metadata', 'object annotation', 'semantic categories', 'table data', 'summarization', 'state change', 'multilingual caption', 'discussion', 'clinical assessment', 'text summarization', 'question group', 'index', 'theorem statement', 'relation classification', 'human values concept', 'axis label', 'structured query', 'email message', 'route information', 'sentences with sentential negation', 'academic papers', 'reading level', 'toxicity subtype', 'post metadata', 'conceptual property judgment', 'website metadata', 'complex phrase', 'alternative', 'prop annotation', 'zip code level broadband coverage', 'text: passage', 'galaxy coordinate', 'day information', 'humorous sentences', 'commonsense description', 'patient metadata', 'proper noun', 'named entity sentence', 'entity coreference', 'descriptive attribute', 'public administration text', 'issue', 'optical character recognition', 'emotion description', 'human opinion score', 'legal contracts', 'press briefing sentence', 'target classification', 'alarm record', 'feeling category', 'parallel example', 'ordinal quantification data', 'logical expression', 'bim modeling guideline', 'fictional text', 'map data', 'news abstract', 'property data', 'implicit context', 'grounded statement', 'sub slot', 'intrinsic camera matrix', 'genre tag', 'news snippet', 'phrases', 'natural language code search', 'learner sentence', 'physical features', 'functional annotation', 'code intent', 'drug information', 'behavior description', 'pronunciation annotation', 'target word', 'category label', 'forecasting question', '3d drone trajectory data', 'ecar record', 'nested mention', 'product names and category', 'semantic role', 'sentiment score', 'cryptocurrency address', 'text to text narrative', 'website link', 'english translation', 'news topics', 'hyperlink cascade', 'scene graph label', 'spoken words and phrase', 'newspaper article', 'substance use survey', 'baseline dataset', 'user guidance', 'sequence of move', 'game period', 'logical reasoning question', 'judgment document', 'pronoun usage', 'sports activities metadata', 'user description', 'keystroke sequence', 'input document', 'csv feature', 'abc notation', 'bitext', 'patent description', 'rating', 'language learning notification', 'plant description', 'handwriting sample', 'recurrence free survival time', 'social network structure', 'credit rating report', 'clas', 'concreteness rating', 'sms ham message', 'method call hierarchy', 'time interval', 'technical jargon', 'winograd schema sentence', 'chains of thought', 'mathematical expression annotation', 'punctuation mark', 'shape information', 'experiment label', 'research report', 'gt fact', 'gold explanation', 'web search session data', 'sanitation related text', 'spatial expression', 'reward signal', 'app information', 'album description', 'contextual paragraph', 'transaction feature', 'intra- and inter sentence relation', 'external dimensional rating', 'ambiguous word', 'knowledge domain', 'retinal vessel annotation', 'molecular graph', 'monolingual sentence', 'logical relation question', 'recommendation explanation', 'solution program', 'translated answer', 'meme_text', 'http scan data', 'complex description', 'isl english sentence pair', 'updrs score', 'signature label', 'vendor detection', 'text transcript', 'annotator demographic', 'user location', 'sentential paraphrase', 'knowledge graph triplet', 'post edit', 'relation annotation', 'declarative sentence', 'hate speech lexicon', 'nes language modeling', '3d bounding box annotation', 'factually inconsistent summary', 'exercise description', 'prescriptions information', 'procedure labeling', 'dialog act semantic', 'demographic information', 'narrative document', 'within quotation mention', 'train test split', 'genre composition', 'product_descriptions', 'sensor metadata', 'business conversation scenario', 'syntactic relationship', 'verbal cue', 'exoplanet metadata', 'annotated utterance', 'sentence prompt', 'darija english translation', 'entity coreference chain', 'disease classification label', 'source post', 'clarification question', 'human preference data', 'subject string', 'silver rationale', 'linguistic relation', 'scenario based question', 'subfigure subcaption annotation', 'named entity class', 'hindi text', 'qualifier information', 'sentence cloze', 'question answer evidence pair', 'label count', 'sarcastic sentence', 'chatbot response', 'translated label', 'contextless syntactic ambiguity', 'word alignment boundary', 'documentary source', 'dialogue safety label', 'hormonal therapy', 'test set', 'verb to noun correspondence', 'conference proceedings', 'written italian', 'native script text', 'colloquial expression', 'annotation guideline', 'message', 'news article title', 'context v1', 'non health', 'asr performance analysi', 'egomotion data', 'source code documentation', 'natural language motivation', 'debate topic', 'chemical entity mention', 'anomalous frame annotation', 'page segment', 'keypoint', 'job vacancy description', 'speaker information', 'relationship type information', 'handwriting entity', 'semantic types and relation', 'chinese text', 'epistemic reasoning problem', 'app review', 'tv series transcript', 'morphological segmentation', 'classified example', 'clinical outcome data', 'temporal caption', 'task specific text', 'flickr tag', 'python script', 'markdown', 'valence rating', 'opinion content', 'expression variation', 'hotel review', 'patent id', 'category hierarchy', 'short form story', 'pun keyword', 'navigation command', 'comparative question', 'land cover annotation', 'event recognition', 'search engine ranking', 'discovery characterization data', 'facial action unit annotation', 'stimulation paradigm documentation', 'ocr text annotation', 'semantic relation', 'pronoun resolution', 'scene entry', 'author years of life', 'publisher bias label', 'question variation', 'dataset split information', 'fact effect reason introspection description', 'user desire', 'expression distribution vector', 'manual text', 'audiobook transcription', 'genetic mutation status', 'reference information', 'actor identifier', 'difference annotation', 'relationship metadata', 'post caption', 'english token', 'body dimension', 'labeled ner data', 'evaluation finding', '6 dof pose', 'anecdote', 'source image prompt', 'customer response', 'dialogue annotation', 'font description', 'natural language utterance', 'game commentary', 'submission', 'e-print', 'polarity label', 'legal decision text', 'manual annotation', 'neg raising inference', 'long document', 'unique pedestrian id', 'emotion labeled sentence', 'verbal praise', 'feedback', 'categorical attribute', 'novelty measure text', 'blog', 'counter narrative', 'aspect based sentiment annotation', 'beneficiary detail', 'customer interaction', 'operational mitigation data', 'long emotional response', 'materials science text', 'prompts and class', 'user prompt', 'solar radiance value', 'annotated program', 'crossword answer', 'reddit comment', 'translated event phrase', 'behavior label', 'tracking statistic', 'typeset formula', 'empathetic dialogue', 'system monitoring log', 'catalogue text', 'logical operator sentence', 'emotion word', 'instance information', 'scene label', 'user tag', 'administrative boundaries', 'tagging information', 'syntax tree', 'metadata link', 'code documentation', 'outline', 'absurd question', 'product price', 'meta review summary', 'interpretation note', 'reasoning error description', 'evidence sentence', 'generic intent module', 'plot metadata', 'column header', 'vehicle model', 'biomedical relation', 'genre label', 'technical specification', 'tool description', 'semantic attribute', 'recommendation log', 'task specific prompt', 'actual metric data', 'usage term', 'numerical data', 'test metadata', 'word context', 'username', 'dag information', 'extracted audio feature', 'action', 'behavior domain definition language', 'symptoms', 'textual cue', 'hate speech category', 'emotion explanation', 'html table code', 'factual statement', 'human attitude', 'apache access and error log', 'translated question', 'turn level goal', 'natural language text', 'main text', 'compositional question', 'corrected chinese sentence', 'trope', 'research papers', 'diversity label', 'topic document', 'common sense reasoning', 'account metadata', 'description sequence', 'outpatient claim', 'goal oriented dialog', 'class annotation', 'stance label', 'user generated tag', 'interactive element metadata', 'edited response', 'rule generated sentence', 'project data for commit', 'self assessment rating', 'cve description', 'correspondence annotation', 'financial question', 'cycle bounds annotation', 'synthesis action retrieval', 'appearance property description', 'operating system log', 'linked data', 'perturbation', 'amr pair', 'questions about private content', 'quality annotation', 'post edits/correction', 'episodic buffer instruction', 'diagnostic annotation', 'phonetic alphabet', 'zero shot relation extraction', 'chemical annotation', 'code editing instruction', 'table content', 'sentence translation', 'integer feature', 'language modeling', '2d joint location annotation', 'insurance status', 'bullet point summary', 'paper', 'intent utterance', 'scientific literature', 'multiple choice option', 'user feature', 'occupancy label', 'nominal attribute', 'customer review sentence', 'counting question', 'atomic action label', 'reference', 'airport information', 'musical annotation', 'natural language generation', 'radiologist annotation', 'method', 'contact distance', 'triple', 'syllable and phoneme level lyric', 'retrieval result', 'similarity annotation', 'community description', 'syntactically complex sentence', 'manipulation metadata', 'zero anaphora resolution', 'clinical manifestation', 'household description', 'temporal tag', 'contradictory claim', 'tweet label', 'online comment', 'distractor term', 'climate factor', 'benchmark detail', 'faq item', 'driver reasoning', 'material description', 'mutated claim', 'cultural heritage article', 'compositional skill tag', 'social event label', 'scenario', 'v2x message', 'web document', 'movie metadata', 'training sentence', 'manifest feature', 'chemical reaction data', 'moon phase description', 'platform documentation', 'geographic entity alignment', 'training data entity alignment', 'supporting evidence', 'dialog act', 'document level text', 'section', 'model parameter', 'beer review', 'in context learning attack', 'comparison pair', 'scene text', 'javadoc comment', 'cultural topic', 'substitution score', 'product answer', 'experiment description', 'class label', 'growth interval data', 'country name', 'natural language explanation', 'survey question', 'ip address', 'entity recognition', 'segmentation text', 'occupancy rate', 'website source code', 'noun', 'event narrative', 'non paraphrase', 'user timeline', 'study introduction', 'subreddit post', 'location data', 'wikipedia text', 'command description', 'extractive summary', 'midi annotation', 'environmental condition annotation', 'gmm parameter value', 'twitter interaction', 'document level n ary relation identification', 'section text', 'smart contract code', 'brand information', 'smiles string', 'cultural prompt', 'vehicle maneuver', 'question reformulation', 'cqa thread', 'cited abstract', 'error marking', 'context information', 'sentence level sentiment', 'defect annotation', 'list of owl reasoner', 'user annotation', 'event argument', 'debate transcript', 'pathological classification label', 'historical record', 'named entity recognition', 'moral scenario', 'real world sentence', 'language model prompt', 'word in context', 'voting record', 'retrieve negative', 'public metadata', 'stata code', 'choreography step chart', 'legal reasoning task', 'nutritional information', 'dbpedia entity', 'labeled sentence', 'knowledge graph triplets', 'landmark annotation', 'geolocation metadata', 'special token', 'relevant document', 'single sentence description', 'word segmentation', 'academic guideline', 'case description', 'scientific publication record', 'visual question answering', 'benchmark evaluation', 'family relationship', 'experiment parameter', 'json format action', 'game prompt', 'keyword', 'document collection', 'pronoun translation', 'retweet link', 'character profile', 'temporal annotation', 'self reported information', 'medical finding', 'rdf triple', 'sudoku instance', 'translated topic', 'perceptual clinical score', 'inference reasoning', 'scene annotation', 'sewing pattern', 'naming convention', 'offensive language', 'machine translated prompt', 'player information', 'function signature', 'veridicality judgment', 'loan record', 'importance score', 'unlabeled inference rule candidate', 'code comment', 'synthetic summary', 'data collection detail', 'dialog utterance', 'spatial layout analysi', 'spoken message', 'musical score in midi format', 'social media comment', 'biomedical entity mention', 'artist metadata', 'answer set', 'movie review document', 'evidence snippet', 'grasp point annotation', 'ethereum nft collection', 'drawing prompt', 'api instruction', 'music player command', 'study metadata', 'in game event', 'viewer choice', 'bioactivity data', 'dialogue session', 'license plate identification', 'participant profile', 'physical parameter', 'table', 'disease label', 'explanations and flag', 'counseling school', 'masked token', 'occlusion', 'abbreviation', 'brief summary', 'scripted paragraph', 'ungrounded answer', 'aspect category', 'entity link', 'original story', 'multi turn interaction', 'object tracking data', 'house description', 'paragraph pair', 'interpretable program', 'premise summary', 'transcribed word', 'context', 'syntactic analysi', 'smart contract', 'symbolic reasoning', 'behavioral report', 'temporal answer', 'adversarial prompt', 'pairwise relation', 'marking type', 'educational content', 'scientific article description', 'ground truth pathology', 'symbolic situation description', 'xbrl tag', 'language modeling text', 'practice notebook', 'qoe log', 'code structure schema', 'emotion cause', 'coordinate', 'instructional text', 'project description', 'molecule information', 'license plate annotation', 'dense representation', 'issue tracker', 'author', 'logical reconstruction', 'bridge answer', 'synthetic scene description', 'city name', 'simplified reference', 'word level extractive summary', 'token based text', 'mathematical description', 'lexical change', 'shape index', 'email subject', 'survey and interview data', 'privacy policy text', 'translation text', 'dockerfile', 'adversarial technique', 'immediate reward', 'synthesis sentence', 'triplet', 'lighting condition', 'spoken language subtitle', 'sentence label', 'intent description', 'demographic annotation', 'author summary', 'translation memory', 'video title', 'machine translation output', 'arabic text', 'product question', 'quote', 'date', 'song metadata', 'n-gram language model', 'reaction time', 'sentiment classification', 'threat report', 'text annotation', 'bilingual sentence', 'action reason', 'opinion summary', 'legal case description', 'metadata', 'tag', 'text localization', 'line', 'offensive language classification', 'structured personal profile', 'challenge description', 'annotated passage', 'user name', 'blurb', 'biomedical literature', 'acne severity annotation', 'code summarization', 'full paper text', 'on screen text', 'race category', 'extractive trigger', 'track id', 'persuasive dialogue', 'bioentity annotation', 'head center annotation', 'relation description', 'mileage', 'bert feature', 'object attribute', 'web text', 'simulation description', 'commonsense reasoning problem', 'verification question', 'basic statistic', 'hand pose annotation', 'navigation question', 'instruction sequence', 'image characteristic', 'caption', 'funding status', 'force profile', 'article type', 'user query', 'step text', 'molecule smile', 'plane information', 'corrected utterance', 'related link', 'trip identifier', 'device status', 'viewpoint annotation', 'pedestrian unique id', 'consumer question', 'figure caption', 'statutory article', 'orthographic word', 'environmental data', 'multilingual reply', 'multiple choice question', 'motivational reason', 'structural stability annotation', 'wikipedia article url', 'source code identifier', 'funding goal', 'operation result', 'categorical information', 'character label', 'user generated text', 'controllable text', 'structured data entry', 'rationale', 'end systolic volume', 'demographic infused sentence', 'code mixed dialogue', 'era label', 'dialogue interaction', 'continuous field', 'tv show synopsis', 'processed content', 'feed generator output', 'chinese broadcast conversation', 'telegraphic summary', 'continuous attribute', 'reading passage', 'macular fovea coordinate', 'machine translated text', 'functional example', 'entity knowledge fact', 'unvoiced frame', 'road signs and text', 'type taxonomy discovery', 'baseline classifier output', 'vision category', 'drugbank document', 'adverse drug reaction', 'analysis and explanation', 'st offsets label', 'informative vs non informative sentence', 'forum question', 'walkthrough', 'human generated article', 'aspect category opinion sentiment quadruple', 'sentence annotation', 'sales forecast data', 'edited text', 'dialog', 'scale annotation', 'software testing question', 'limerick', 'phoneme level alignment', 'acquisition function comparison result', 'movie spoiler question', 'web page content', 'clinical data', 'book passage', 'mathematical solution', 'reverse geocoding output', 'recording annotation', 'howsumm step summary', 'character gender label', 'argument', 'scientific field label', 'programming instruction', 'mathematical question', 'sarcasm explanation', 'elementary text', 'engagement profile', 'language sample', 'movie quote', 'treatment detail', 'lexicon', 'author profile', 'user artist interaction', 'salient content', 'event marker', 'phone number manipulation', 'facial landmarks annotation', 'arabic numeral', 'geometrical characteristic', 'autonomous system number', 'structured corpus example', 'bid announcement', 'word sense disambiguation', 'triplet annotation', 'post summary', 'psychological topic', 'real world text', 'genomic sequence', 'self mention', 'word frequency', 'speaker attribution cue', 'evidence grading description', 'dataset_description', 'hateful level', 'additional page', 'simulink model description', 'entity uri', 'number plate text', 'artistic comment', 'clinical trial report', 'linguistic feature', 'radiologist labeled reference standard evaluation set', 'sentences with post modifier', 'internal state profiling', 'competency question', 'non dark pattern text', 'multi hop reasoning passage', 'agnostic emoji side sentence', 'fine grained pos annotation', 'contextual description', 'phrase retrieval', 'side effect frequency', 'navigation_instructions', 'programming assignment', 'cast information', 'slide content', 'query focused summary', 'contact duration', 'public health claim', 'subject', 'model performance metric', 'masculine to feminine correspondence', 'presupposition correction', 'mood rating', 'semantic divergence annotation', 'network communication log', 'book review', 'topic prompt', 'user generated title', 'validation data dangling entity', 'conference name', 'station information', 'human written passage', 'student learning trace', 'economic scenario', 'machine generated text', 'utterance level annotation', 'trope description', 'court document', 'compliance checking instruction', 'news recommendation', 'supporting document', 'category', 'query passage related pair', 'multi class classification', 'candidate document', 'multi hop question', 'genomic data description', 'neurological function assessment', 'dialogic turn', 'drug target relation', 'discharge letter', 'diagnosis and management label', 'business_descriptions', 'step by step instruction', 'node feature', 'monologue text', 'intent detection', 'categorical field', 'variable description', 'meeting transcript', 'user connection', 'screen name', 'countries scientific relative production', 'people count annotation', 'network description', 'party name', 'official report', 'geographic entity description', 'state abbreviation', 'lyric', 'podcast transcript', 'persian running text', 'verbalization', 'gtfs data representation', 'tool scene', 'local climate zone label', 'comparable text corpus', 'natural language title', 'emotional text', 'bounding box label', 'game summary', 'wine rating', 'train attribute', 'anomaly annotation', 'sentence level perturbation', 'scientific study', 'benchmark finding', 'particle cloud data', 'acquisition protocol', 'word pairs with relatedness score', 'coreference link', 'intent and slots annotation', 'localized narrative', 'annotated span', 'multilingual content', 'business growth narrative', 'figure legend', 'residue index', 'outcome', 'terminology', 'book summary', 'movie script caption', 'drug description', 'interaction and action information', 'discourse error', 'camera parameter', 'textbook content', 'science', 'word co occurrence information', 'outfit data', 'commonsense reasoning statement', 'crime category', 'coreference cluster', 'campaign description', 'scene attribute', 'video script', 'rule based augmentation dataset', 'single sentence query', 'narrative context', 'symbolic situation program', 'report statistic', 'datasets utilized', 'research review', 'common knowledge fact', 'socio emotional annotation', 'ground truth light setting', 'risk category', 'article', 'image label', 'raw dataset', 'paraphrased answer', 'explanation', 'single intent query', 'cleaned document text', 'dialogue schema', 'adversarial instance', 'safety meta label', 'file description', 'attack prompt', 'stroke annotation', 'error message', 'instruction token', 'stop lemma', 'political issue', 'fact checked claim', 'clinical report label', 'object relation text', 'hate speech class', 'tweets about general disease', 'binary diagnosi', 'mbti dimension output', 'task type', 'diagnostic passage', 'tweet text', 'competition description', 'medication reconciliation', 'film description', 'safe unsafe pair', 'wiki knowledge base', 'state name', 'argumentative writing prompt', 'network log', 'condition name', 'credibility rating', 'motion forecasting scenario', 'synthesis parameter', 'formal sentence', 'human post edit', 'recommendation measure', 'instrument detection annotation', 'search result', 'hyperparameter detail', 'soft attribute', 'mood assessment', 'legal task', 'court opinion', 'placement description', 'bibliography', 'attention annotation', 'vital sign', 'real world knowledge error', 'web review', 'paper description', 'article reference', 'species table', 'demographic', 'profile identifier', 'constituency syntactic annotation', 'secondary structure sequence', 'long sentence', 'unary predicate', 'story cloze test', 'open question answering', 'midi note annotation', 'latent factor description', 'warping parameter', 'financial report', 'question_answer_pairs', 'soft biometric annotation', 'user identifier', 'perceptual response', 'fitness metric', 'task based dialog', 'outcome report', 'bengali review', 'labelled comment', 'geometric feature', 'metric type', 'match information', 'label annotation', 'category name', 'summary annotation', 'subreddit information', 'wikidata description', 'claim type', 'frame scene annotation', 'language direction', 'citation information', 'pddl description', 'groundtruth data', 'multilingual segment', 'ner label', 'logical reasoning', 'user engagement metric', 'event label', 'news body', 'text scenario', 'busines', 'album detail', 'medical record', 'faq pair', 'unsupportive language', 'transcriptions', 'labels', 'flagged nft', 'vocal/non vocal segment', 'seo attribute', 'webpage content', 'chart title', 'company description', 'profile sentence', 'gesture class label', 'malware feature', 'question/answer pair', 'functionally correct solution', 'entity rich question', 'vtp annotation', 'multilingual lexical data', 'test response', 'clinical annotation', 'sudoku grid', 'phonology', 'building footprint annotation', 'scientific formula', 'sentence completion', 'timex', 'odp content vector', 'question transcript', 'hebrew text with nikud', 'proverb translation', 'mathematical reasoning task', 'clinical trial eligibility criterion', 'repost', 'abuse detection text', 'cluster title', 'medical diagnosis phrase', 'clinical index', 'user annotated chapter', 'tool tracking annotation', 'mbti dimension input', 'audio event description', 'dbh', 'wiki page', 'demographic attribute', 'translation metric', 'edit information', 'academic paper', 'source code', 'source text', 'query document', 'conversational qa', 'words', 'neighbor fact', 'journal information', 'annotations on harm', 'query sentence', 'novel text', 'abstract', 'event event relation', 'sentence transcript', 'meeting agendum', 'diagnostic label', 'part mobility parameter', 'citation relationship', 'text classification', 'drug side effect', 'transaction description', 'vulnerability label', 'morpheme based text', 'task annotation', 'blackout poem', 'puzzle description', 'compositional description', 'post', 'homography matrix', 'navigation label', 'human reverse reason', 'privacy related scenario', 'opinion', 'code sample', 'short description', 'classification result', 'attribute annotation', 'income label', 'code token', 'body measurement', 'docstring', 'extracted speech', 'part of speech tag', 'taxonomy metadata', 'hashtag', 'semantic interpretation', 'binary quantification data', 'surgical action annotation', 'alias', 'movie description', 'debiased nli sample', 'educational text', 'target annotation', 'clip level caption', 'relation extraction example', 'multi class quantification data', 'gameplay description', 'empiar id', 'paraphrase adversaries from word scrambling', 'item property', 'musical piece annotation', 'policy measure', 'pitch contour', 'unsafe subaspect', 'natural language command', 'slot tag', 'converted message', 'storytelling', 'structure boundary detection', 'protein mutation description', 'security protocol', 'central bank text', 'typed phrase', 'product category', 'narrative discharge summary', 'annotated keyphrase', 'easy summary', 'stack exchange questions and answer', 'evidence article', 'gps data', 'reasoning concept', 'music genre', 'tweets', 'benchmark description', 'evidence', 'surface syntactic frame', 'fill in the blank', 'phonetically balanced sentence', 'patch', 'collection section', 'term similarity score', 'latex formula', 'chinese printed text', 'human evaluated facts answer', 'environment description', 'explanation label', 'email metadata', 'research abstract', 'comparison relation', 'clinical diagnosi', 'text segment', 'political party', 'content taxonomy', 'experimental detail', 'news article source', 'legal document', 'species label', 'nli sentence', 'estimated floor', 'category information', 'user mention', 'discourse marker', 'verbal description', 'citation sentence', 'wine review', 'business process description', 'diagnosis generation', 'summaries', 'gold passage', 'character perturbation', 'paragraph', 'auto constructed test example', 'modification text', 'sentiment annotation', 'query paraphrasing', 'solution', 'biomedical task description', 'language augmented model', 'human answer', 'speech', 'knowledge base fact', 'natural language sentence', 'syllogistic premise', 'multiple choice answer', 'layout element annotation', 'coarse label', 'word word dependency', 'solution label', 'language label', 'earnings call transcript', 'personal attribute', 'real caption', 'climate change nlu task', 'repository metadata', 'accident report', 'query intent category', 'skin tone annotation', 'challenging instance', 'human generated caption', 'translation quality annotation', 'model architecture', 'unannotated text', 'depth information', 'vehicle body type label', 'argument summary', 'crop type description', 'contract text', 'adequacy annotation', 'scientific question', 'sentence level token', 'physical commonsense question', 'genomics description', 'fact check report', 'design description', 'parallel corpus', 'expert commentary', 'reference translation', 'covariate description', 'benchmark result', 'tweeter id', 'model response', 'biological scientific abstract', 'sentence level annotation', 'code completion', 'truss structure description', 'information extraction result', 'text recognition', 'job description', 'network traffic log', 'human_judgement_scores', 'article theme', 'code coverage log', 'door number', 'sorting type', 'question', 'forum post', 'pico element', 'biological entity description', 'transcribed text', 'unique word', 'document structure', 'song difficulty annotation', 'high level feature', 'vehicle price', 'quantified expression', 'layout annotation', 'wikipedia description', 'standard german reference', 'evidence document', 'survey', 'paraphrased sentence pair', 'phoneme level annotation', 'natural language queries', 'development history', 'geometric annotation', 'sparql/geosparql query', 'email recipient', 'theory question', 'english description', 'linguistic perturbation', 'fact checking label', 'political leaning label', 'software event log', 'self reported perception', 'open access archive', 'winograd schema', 'german description', 'matrix shape', 'metaphor', 'institution name', 'object description', 'domain specific arithmetic reasoning', 'camera annotation', 'annual report text', 'cell identity', 'syntax', 'response naturalnes', 'happy moment', 'test urls from url shortener', 'evaluation comment', 'factuality system score', 'psychological survey item', 'change point annotation', 'data science question', 'relationship profiling', 'view hierarchy', 'activity description', 'commonsense knowledge text', 'syntactically simple sentence', 'encryption metadata', 'performance annotation', 'device configuration', 'cooking recipe', 'testcase', 'part of speech annotation', 'textual tag', 'tour name', 'question decomposition meaning representation', 'movie recommendation', 'attack description', 'scientific abstracts', 'language name', 'emotional development survey', 'research description', 'style label', 'sleep stage annotation', 'chaotic long text', 'confidence score', 'official document', 'valence and arousal intensity', 'event classification label', 'interrater analysis data', 'position annotation', 'automatic transcription', 'sign word label', 'road network information', 'predicted sentiment score', 'medical abstract', 'article abstract', 'annotator rationale', 'aligned passage question pair', 'subjective mean opinion score', 'ecg annotation', 'complexity annotation', 'hate tweet', 'lay summary', 'functional program', 'pre trained language model output', 'segmentation mask annotation', 'neutral sentence', 'facial landmark annotation', 'continuous emotion dimension', 'language learner text', 'classification text', 'aspect summary', 'google trends data', 'reference article', 'direct answer', 'background information', 'molfile', 'clinical characteristic', 'legislative text', 'framenet frame element', 'question generation', 'geographical metadata', 'usage instruction', 'annotation label', 'learner written text', 'labs information', 'noisy comment', 'automatically filtered transcript', 'adversarial example', 'medical reasoning example', 'comment classification', 'cloze style reading comprehension', 'instruction input output triplet', 'topic', 'bug fix pair', 'textual source', 'document text', 'expert level annotation', 'profile url', 'behavioral descriptor', 'algorithm evaluation', 'beat and bar annotation', 'session response pair', 'supply chain metadata', 'function calls info', 'differential diagnosi', 'biomedical passage', 'discourse', 'script identification', 'animal description', 'chart caption', 'type annotation', 'object position data', 'paired sentence', 'object size comparison', 'business taxonomy', 'result type metadata', 'generation instruction', 'dataset metadata', 'answer candidate', 'medical question', 'hate speech ending', 'calibration', 'propositional logic response', 'natural language specification', 'underlying medical condition', 'log entry', 'sarcastic comment', 'vehicle model label', 'clinical trial info', 'channel information', 'article title', 'climate science article', 'contact information', 'aboutness topic', 'spatiotemporal information', 'clothing attribute', 'pull request description', 'answer source', 'repository documentation', 'persuasion strategy label', 'model documentation', 'financial news', 'order label', 'whpa prediction explanation', 'specification', 'bias span', 'fact check', 'corrected english text', 'configuration detail', 'line annotation', 'ar session metadata', 'naive poetry', 'trademark text data', 'duplicate defect relationship', 'indonesian language text', 'facial landmarks metadata', 'manual correction', 'pun sentence', 'formal representation', 'manually annotated story', 'sentence pair classification', 'scene level attribute', 'urls from linux system', 'unlabeled set', 'french text sample', 'triage category', 'child information', 'handwritten document transcription', 'protection scenario', 'business tip', 'identity centric description', 'information seeking question', 'scene description', 'delay information', 'user rating', 'original query', 'automated evaluation data', 'sales property data', 'manifest file', 'user query log', 'entity record', 'open answered question', 'speech transcript', 'monotonicity reasoning example', 'experiment log', 'network flow feature', 'delexicalized prompt', 'visual reasoning question', 'service description', 'geo location', 'clinical trial documentation', 'human ranking', 'content sharing text', 'article summaries', 'progesterone receptor', 'vpn log', 'coherence relation', 'diagram description', 'ejection fraction estimate', 'code switched text', 'land cover label', 'grammar pattern', 'email domain', 'author name', 'non native submission', 'linguistic construct', 'meeting report', 'answer', 'coco format annotation', 'out of domain sentence', 'encoded manuscript', 'transaction detail', 'gaze trace', 'regional dialect sentence', 'lane annotation', 'taxonomic reference', 'latex source code', 'opinion reason', 'paper reference', 'sarcasm perspective label', 'closed caption', 'json index', 'organism annotation', 'cause annotation', 'study result', 'traffic report', 'numerical value', 'nlu task', 'icd-10 code', 'location information', 'trip category', 'user reaction', 'musical note annotation', 'movie plot summary', 'grammatical error sentence', 'implicit preference', 'grounded reasoning', 'jams file', 'classification prediction', 'biomedical entity description', 'coreference resolution', 'descriptive query', 'stance detection text', 'case report', 'chatbot conversation', 'stance annotation', 'timestamp', 'gender information', 'regulatory reference', 'contact time', 'jailbreak prompt', 'movie comment', 'quality assessment', 'player document', 'postmortem analysi', 'codebook', 'semantically neutral script', 'spatial role labeling', 'relation annotations', 'per pixel class segmentation', 'speaker attribute', 'social recognition task description', 'experimental data', 'preference', 'human edited evaluation', 'manuscript', 'language agnostic text', 'json record', 'encounter timestamp', 'application metadata', 'topic label', 'gleason grade', 'wikipedia page view', 'python solution', 'c program', 'gloss annotation', 'post edited sentence', 'negative answer', 'morphosyntactic feature', 'stylized caption', 'chess game move', 'compas risk score', 'health related question', 'scenario description', 'user story title', 'evaluation text set', 'nodule information', 'semantic dependency', 'protein classification', 'user preference', 'supplementary material reference', 'dialogue line', 'content metadata', 'dialogue act segment', 'stock compounds list', 'annotated parallel corpu', 'latex structure label', 'query', 'simplified medical abstract', 'vyper source code', 'english sentence', 'publication venue', 'character line', 'word stress annotation', 'transformation question', 'diagnosis annotation', 'cross language code translation', 'recipe', 'license plate position', 'design operation', 'target answer', 'pixel level label', 'summary text', 'cell class annotation', 'annotated contour', 'clinical measurement', 'positional data', 'population', 'relatedness score', 'spatial label', 'segmentation label', 'main editing body', 'vaccine stance', 'aave sample', 'textual evidence for desire fulfillment', 'skeleton joint location', 'backorder status', 'ground truth pose', 'drive metadata', 'question thread', 'formal text', 'image descriptions in german', 'editor interaction', 'news segment', 'system generated summary', 'respiration rate annotation', 'response candidate', 'emergent anglicism', 'exercise_answers', 'masked variant', 'knowledge grounded dialogue', 'reference certificate', 'answer sentence', 'chess game record', 'seller information', 'commit information', 'api function call completion', 'participant demographic information', 'inference', 'validation status', 'hate speech', 'text answer', 'caption description', 'subject parameter', 'affirmative sentence', 'pose keypoints annotation', 'commonsense pronoun resolution', 'hand written summary', 'eye tracking annotation', 'genetic information', 'story ending', 'premise hypothesis pair', 'text editing', 'surface construction annotation', 'relation extraction', 'twitter reaction', 'reasoning type', 'academic social network', 'field report', 'closed ended question', 'religious source', 'sp pair', 'source sentence', 'mathematical reasoning', 'section title', 'business description', 'advanced statistic', 'transcription', 'plot summary', 'emoji description', 'deciphered text', 'logical reasoning task', 'character statement', 'subjective score', 'diacritized arabic text', 'destructor passage', 'semantic parsing', 'issue tracking data', 'annotated question', 'user agent dialogue', 'audio description', 'clinical feature', 'sequence tagging text', 'image chinese captioning', 'dialogic discourse annotation', 'detection label', 'gps coordinate', 'arabic newswire', 'forum comments and reply', 'cell type annotation', 'gender identity and sexual health survey', 'chapter', 'metrics evaluation text', 'binary classification label', 'web table', 'website information', 'malicious task description', 'academic article', 'semantic contrast', 'ontology', 'reddit thread', 'private message', 'virustotal report', 'difficulty level', 'ground truth track', 'protein identifier', 'positive statement', 'abstractive text summarization', 'japanese subtitle', 'guideline', 'netizen comment', 'spatial description', 'phone conversation', 'instruction caption', 'historical newspaper page', 'store name', 'comparison text', 'model name', 'blood cell label', 'speaker description', 'action level label', 'affective state label', 'driver behavior annotation', 'academic discipline response', 'video text', 'land use class', 'multilingual answer', 'translated document', 'classic novel', 'scientific paper abstract', 'task oriented dialogue', 'patent classification', 'musical notation', 'aviation accident report', 'dialog act annotation', 'advice characteristic', 'factuality label', 'reader comment', 'hint', 'midi file', 'urdu text line', 'free text qa pair', 'self reported distress label', 'simulation output', 'ball 2d coordinates annotation', 'bibliographic record', '3d joint position', 'entity assignment', 'multilingual dialogue data', 'semantic similarity score', 'documentation translation', 'experiment detail', 'identity reference', 'glaucoma diagnosis annotation', 'diplomatic document', 'meter price', 'parent comment', 'topic guidance', 'crop label', 'extracted fact', 'context word', 'problem category', 'machine generated article', 'issue comment', 'age', 'search result snippet', 'supporting evidence paragraph', 'novel word', 'lexical and syntactic analysi', 'fact checking article', 'shot scale annotation', 'sign annotation', 'patient one liner case summary', 'ground truth description', 'crossword solution', 'defense strategy', 'medical sentence', 'interaction triplet', 'ids alarm', 'misinformation target', 'sentiment polarity', 'action unit annotation', 'radiological findings description', 'information report', 'informative noun', 'explicit demonstration', 'language annotation', 'aspect', 'slot', 'compositional questions', 'focal method', 'label', 'yaw angle', 'cross lingual paragraph aligned data', 'hazard classification', 'cloze style query', 'handwritten mathematical expression', 'lesson text', 'stock price label', 'story/poem generation', 'setup file', 'chinese novel', 'research analysi', 'crime story', 'numeric attribute value', 'performance metric', 'academic abstracts', 'instructional query', 'product title', 'gaze data', 'language variant', 'post edited text', 'driving pattern annotation', 'key point', 'microblog', 'workflow description', 'analytical insight', 'code span', 'software mention', 'bible text', 'japanese sentence', 'clinical information', 'noun phrase', 'problem symptom', 'moral dilemma description', 'hospital admission and discharge data', 'restoration', 'co reference annotation', 'environmental measurement', 'gps geolocalization tag', 'argumentative structure annotation', 'annotated text', 'legal case document', 'drug usage', 'category mapping', 'positive context', 'thingtalk', 'case outcome annotation', 'business financial news', 'transaction analysi', 'vertical cup to disc ratio', 'event mention', 'point level label', 'course document', 'web resource description', 'scene saliency label', 'causal statement', 'entity type annotation', 'key performance measurement', 'scene graph annotation', 'theorem description', 'article excerpt', 'commonsense inference', 'similar language text', '2d coordinates of reprojected joint position', 'acceptability judgment', 'classical chinese poetry line', 'hazard category', 'hope speech labels', 'temporal label', 'breed annotation', 'driver behavior label', 'categorical feature', 'failure type annotation', 'clothing and accessory', 'product name', 'pedestrian description', 'chinese character', 'morphological annotation', 'open domain qa', 'patent paragraph', 'reading comprehension text', 'participant rating', 'java method', 'histopathological confirmation', 'scientific paper summary', 'research topic', 'forum thread', 'app description', 'free form response', 'specimen size', 'preference pair', 'summary', 'damage criterion', 'test case', 'relation classification sentence', 'road name', 'explanation method', 'english newswire', 'emotion tag', 'scientific paper text', 'clinical evaluation', 'app name', 'nuclei annotation', 'rewrite version', 'slot detection sentence', 'literature', 'logic grounded diagnosi', 'generic utterance', 'procedural language', 'material property', 'dialect label', 'speaker reflection', 'acoustic tag', 'translated sentence pair', 'meta annotation', 'face attributes metadata', 'journal metadata', 'analytical description', 'camera pose data', 'broadcast transcript', 'channel parameter', 'system message', 'exam problem', 'housing attribute', 'court decision', 'ground truth position', 'problem explanation', 'clinical condition', 'red conversation', 'expression label', 'open ended question', 'building footprint vector', 'coreference labeled pair', 'dns log', 'cumulative count', 'pedestrian attribute', 'document', 'action description', 'slot type', 'sunspot annotation', 'authorship classification', 'legal opinion', 'health related text', 'span extraction data', 'q&a pair', 'challenge attribute', 'user interaction', 'antecedent', 'pathology report', 'programming problem', 'lipogrammatic literature', 'scientific finding', 'argumentative zone', 'click log', 'domain specific intent', 'english broadcast conversation', 'survey paper', 'additional information', 'bounding boxes and segmentation mask', 'static analysis result', 'medical document', 'annotated negative triple', 'meta file', 'transcribed narration', 'relational knowledge', 'review summary', 'word index', 'hair attributes annotation', 'language understanding', 'training example', 'bug fixing commit link', 'chinese word segmentation', 'language model evaluation', 'kinematic model', '2d annotation', 'argumentative label', 'video level activity label', 'tutorial', 'route metadata', 'trajectory annotation', 'reasoning step', 'news story', 'math problem', 'game mechanics description', 'development set', 'pddl domain file', 'script data', 'catalogue information', 'informative text', 'out of scope query', 'supportive language', 'word translation', 'user activity description', 'compound smiles string', 'legal analogical reasoning question', 'syntactic evaluation sentence', 'negative reason label', 'uav command', 'claims information', 'propaganda technique', 'click data', 'query ad matching', 'citation graph', 'clause embedding predicate', 'pun explanation', 'benchmarking test', 'notice instruction', 'student answer', 'commonsense reasoning', 'topic discussion', 'word dependency graph', 'knowledge assessment', 'event coreference chain', 'repository description', 'object pose annotation', 'harmful query', 'context passage', 'alignment', 'subcategory', 'hate speech example', 'spatio temporal annotation', 'lexical resource', 'match file', 'part label', 'contact force', 'counterfactual annotation', 'news entity', 'descriptive statistic', 'evaluation script', 'reference summary', 'protein interaction description', 'event option', 'bidding log', 'answer summary', 'fact based text', 'netizen style comment', 'translated prompt', 'book', 'node attribute', 'context sentence', 'slam pose', 'ground truth data', 'verbalized triple', 'historical age', 'detailed caption', 'vehicle information', 'similarity judgment', 'action segments annotation', 'symptom question', 'ground truth object depth', 'keystroke action', 'chemistry problem', 'literal', 'ner annotation', 'medical topic', 'time manipulation', 'academic study', 'discriminative question', 'code snippet', 'learning log', 'benchmark task description', 'transcripts of flight inquiry', 'professional writing prompt', 'document passage', 'ground truth file', 'configuration file', 'rule', 'twitter username', 'future event prediction', 'common sense explanation', 'phrase', 'address string', 'post user', 'tweet context', 'sub word tokenization', 'knowledge base', 'movie name', 'normalized transcription', 'high level action', 'analytical solutions documentation', 'entity annotations', 'parallel corpu', 'fiction', 'medical note', 'operation log', 'full video expression', 'document source code', 'corporate annual report', 'diacritized hebrew text', 'medication information', 'medical code', 'canonical smile', 'artwork description', 'evaluation dimension', 'interview transcript', 'citation string', 'syllogistic nli', 'anatomical landmark description', 'inference rule candidate', 'supporting text', 'user information', 'lane label', 'political topic', 'road user classification', 'edit action', 'discharge diagnosis', 'chat log', 'cant', 'nice to have statement', 'chatbot prompt', 'food label', 'code context', 'visual attribute annotation', 'job posting table', 'math question', 'relational triple', 'facial landmark', 'subjective statement', 'book content', 'sentence level rating', 'synthetic revision', 'geo position', 'geonames code', 'informal text', 'bridging utterance', 'natural language proof', 'hard negative context', 'readme documentation', 'vocal transcription', 'imaging feature', 'metric name', 'article content', 'hospitalization information', 'camera pose information', 'academic paper title', 'political bias numeric', 'pedestrian age group', 'partial annotation', 'chart description', 'student activity log', 'alternative answer', 'mgmt promoter methylation status', 'temporal coverage', 'political statement', 'motion similarity annotation', 'in context learning prompt', 'annotation', 'business_reviews', 'natural language instruction', 'semantic rating', 'daily new death', 'neural mt model', 'vehicle position data', 'translated text', 'hate speech classification', 'maturity model description', 'playlist', 'chemical compound description', 'feature explanation', 'awareness annotation', 'human summary', 'scanning parameter', 'debate argument', 'odor descriptor', 'user story', 'expression annotation', 'geographical information', 'pronoun', 'dataset origin label', 'sentence temporal annotation', 'mortality statistic', 'outfit description', 'node label', 'step level correctness label', 'participant metadata', 'odp description vector', 'expert explanation', 'healthcare factor', 'attribute description', 'chemical disease interaction', 'manufacturer', 'questions and answer', 'restaurant description', 'morpheme', 'crop parameter', 'radio program transcription', 'spatial coverage', 'funding detail', 'multi step instruction', 'textgrid', 'legal will statement', 'idiomatic expression', 'interaction record', 'conceptual relation', 'dialogue act annotation', 'calculated data', 'automatically generated feature', 'reference answer', 'translated article', 'semantic class', 'action category annotation', 'ad title', 'word sequence', 'unicode representation', 'conclusion sentence', 'mathematical rationale', 'process relation', 'information seeking conversation', 'it domain text', 'track metadata', 'event caption', 'participant diary', 'action sequence', 'music transcription', 'music annotation', 'smpl x parameter', 'open relation', 'argumentative text', 'phrase sense disambiguation', 'expert answer', 'contrast sentences with somebody or someone', 'frame level label', 'parsing information', 'dance description', 'abstract summary', 'citation intent', 'dialogue text', 'segmentation mask', 'scientific problem', 'corrected text', 'weather condition', 'congolese swahili translation', 'creative metaphor', 'skill level annotation', 'web search action', 'wikipedia gameplay section', 'sample info', 'coordinate annotation', 'review sentence', 'howsumm method summary', 'inconsistency detection task', 'verb adverb annotation', 'voice over transcription', 'disfluent question', 'scientific publication text', 'hashed identifier', 'gold standard summary', 'beat and tempo annotation', 'scientific paper reference', 'manual label', 'debate document', 'behavioral assessment data', 'target', 'financial report date', 'reviews', 'shot clock', 'character decomposition', 'syntactic structure', 'dialogue act', 'social prediction task description', 'classification description', 'spatial reasoning task', 'camera intrinsic file', 'survey description', 'event category', 'accept reject decision', 'bounding box', 'argument pair', 'semantic expression', 'global summary', 'match report', 'knowledge graph description', 'commonsense premise', 'bengali caption', 'pdf document', 'operation span', 'detail', 'business article', 'volume number', 'short phrase', 'benchmark document', 'word annotation', 'machine transcription', 'vqa question', 'modification sentence', 'vehicle type and size', 'solution explanation', 'embedding', 'cognitive appraisal', 'domain specific vocabulary', 'fluency improved sentence', 'coverage annotation', 'dyadic dialogue', 'behavioral data', 'protein complex description', 'display formulae reference number', 'reasoning graph', 'nomath sentence', 'conceptual description', 'quantity tagged equation', 'news source', 'subjective video quality judgment', 'eye movement ground truth', 'phase and step recognition annotation', 'fact checking statement', 'cognitive assessment', 'entity relation sentence', 'portuguese translation', 'solution step', 'review title', 'online democracy platform', 'impression log', 'room annotation', 'sentence paraphrase', 'historical press article', 'sentence to sentence', 'public domain text', 'song attribute', 'prompting method', 'correlation', 'keypoint annotation', 'rainbow passage', 'language instruction', 'disambiguated question rewrite', 'cosmological and astrophysical parameter', 'rmse data', 'annotations for desire fulfillment', 'molecule label', 'flight record', 'fiction text', 'safety instruction', 'trading data', 'syntactic contrast', 'scientific paper title', 'non stereotype sentence', 'film metadata', 'episodic buffer', 'fictional book excerpt', 'timestamp information', 'image metadata', 'theorem sequence', 'history of science qa', 'modern chinese description', 'dialectal egyptian arabic', 'algorithmic block completion', 'conceptual caption', 'conceptnet mapped statement', 'impression data', 'wheel encoder data', 'speech to text transcription', 'plaintiffs claim', 'event annotation', 'interview', 'text perturbation', 'depth estimation annotation', 'yaml format', 'application description', 'model prediction', 'subreddit topic', 'linked document', 'plant distribution', 'dark pattern text', 'nlp annotation', 'native speaker verified sentence', 'economic factor', 'user initial', 'document title', 'descriptive text', 'entity specific fact', 'attack label', 'training sentence pair', 'laboratory result', 'digit label', 'event log', 'multi turn consultation dialogue', 'timbral analysi', 'demographic characteristic', 'human transcription', 'scholarly article', 'programming question', 'newswire article', 'agent instruction', 'wikipedia revision', 'vehicle location', 'badugi hand', 'assembly action', 'subreddit category', 'grounded answer', 'target term', 'pairwise ranking annotations', 'template test set', 'component description', 'natural utterance', 'predicate argument structure', 'type non-taxonomic relation extraction', 'annotated term', 'inferential strategy annotation', 'warrant', 'text instance', 'code mixed sentence', 'textual description', 'data split', 'chat conversation', 'emotional reaction', 'clinical label', 'garment category', 'reference string', 'action recognition annotation', 'tweet reply', 'diagnosis confirmation detail', 'mood/theme tag', 'morphosyntactic value', 'dialogue summary', 'accuracy report', 'information status', 'similarity condition', 'content based feature', 'character metadata', 'semantic triple', 'explanatory form', 'event representation', 'individual annotation', 'domain specific document', 'answers', 'submission text', 'multilingual query', 'song chord', 'movie script', 'transmission succes', 'spatial metadata', 'qualitative content analysi', 'writing prompt', 'music metadata', 'main answer', 'computed feature', 'bengali image caption', 'transcribed line', 'plot synopsi', 'speech content', 'knowledge base relation triple', 'wikified entity', 'user friend relationship', 'number of positive node', 'commonsense reasoning question', 'movie synopsis', 'naturalistic usage', 'geolocation data', 'user session log', 'broadcast', 'activity annotation', 'node identifier', 'decision outcome', 'error annotation', 'sentence level text', 'demand', 'english named entity', 'activity date', 'dish name', 'rare word representation', 'public health topic', 'song concept', 'facial expression annotation', 'review transcript', 'issue description', 'linguistic attribute', 'timestamp data', 'probability word', 'scientific abstract', 'benchmark analysis summary', 'farmer declaration', 'github code', 'city description', 'valence/arousal rating', 'rubisco forms description', 'concept label', 'ontology description', 'detailed math question', 'musical score', 'judicial verdict', 'geotagging information', 'prediction result', 'pittsburgh opinion', 'city', 'user statistic', 'sentence classification', 'environmental terms prevalence', 'video description', 'demographic factor', 'complex sentence', 'meme text', 'infobox', 'spoken words transcription', 'web page ranking', 'daily new case', 'thematic role', 'spatial relationship', 'sentence level label', 'human response data', 'grasp pose', 'generated caption', 'category_information', 'semantic role labeling', 'dialogue transcription', 'image quality annotation', 'short persian text', 'registration year', 'screening result', 'fake news article', 'machine comprehension', 'corrective information', 'agent perspective', 'video subtitle', 'rental property data', 'score', 'variable mention', 'morphology', 'commonsense reasoning scenario', 'meeting minute', 'negated sentence pair', 'domain adaptation dialogue', 'newswire excerpt', 'vcopa question', 'truthfulness label', 'mechanism sentence', 'human annotated response', 'aspect rating', 'intrusion alert', 'linguistic corpu', 'user behavior data', 'slide text', 'game level annotation', 'indonesian caption', 'learning resource', 'spatiotemporal metadata', 'newspaper editorial', 'relevance tag', 'natural language action', 'alternative label', 'perturbed explanation', 'po', 'weather description', 'identity label', 'transaction label', 'sentence id', 'syntactic parse', 'training document', 'streamer dialogue', 'creative writing', 'date manipulation', 'freetext manipulation', 'sports commentary', 'emotion', 'defense prompt', 'tricky sentence', 'negative sentence', 'coordinate transform', 'revised sentence', 'humorous headline', 'medical measurement', 'latex expression', 'conversation transcription', 'ruling statement', 'survey answer', 'synthetic adversarial modification', 'ego relative annotation', 'emotional valence annotation', 'interactive dialogue', 'fake news content', 'participant demographic and clinical data', 'hard negative caption', 'term annotation', 'artist preference', 'mailing list content', 'maintenance observation', 'corner location description', 'class documentation', 'dialogue systems data', 'query description', 'paragraph rationale', 'headline', 'equation system', 'syntactic construction', 'repository level code', 'xml annotation', 'name', 'aesthetic score', 'human control data', 'institution information', 'intersection safety label', 'crop type label', 'narrative transcript', 'vocal characteristic', 'network metadata', 'paraphrase label', 'program instruction', 'week day', 'sentiment analysi', 'poetic meter', 'metar string', 'theory of mind evaluation task', 'subject-entity', 'food recall title', 'name manipulation', 'bilingual dialogue', 'player identity', 'bill summary', 'clinical case report', 'educational topic', 'health status', 'unpublished manuscript', 'city layout', 'segmented text', 'parsed representation', 'domain', 'personality profiling', 'ground truth value', 'domain aware prompt', 'part of speech tagging', 'material composition', 'analysis note', 'unanswerable question', 'mathematical instruction', 'importance annotation', 'recipe description', 'source', 'geometric constraint', 'temporal link', 'text instruction', 'talk page diff', 'manual segmentation annotation', 'platform information', 'attribute value annotation', 'garment type', 'personality trait annotation', 'string edit operation', 'layout description', 'relative depth annotation', 'spelling error', 'ordered categorical attribute', 'cypher query', 'parse tree', 'free text description', 'joke', 'back translated sentence', 'visual question', 'semantic/instance label', 'extraction based summary', 'contextual instruction answer', 'morphosyntactic specification', 'sentence transcription', 'conference paper', 'knowledge tuple', 'medical terminology', 'disassembly', 'emotion annotation', 'word level good/bad label', 'fashion attribute', 'judicial decision', 'ocr token', 'external assessment', 'loading characteristic', 'laboratory test result', 'tampering factor/similarity metric', 'web sourced text', 'controversial issue', 'vocabulary card', 'license agreement', 'language corpu', 'debate conclusion', 'patient information', 'summary quality score', 'time annotation', 'website category', 'word sense similarity judgement', 'news articles', 'inertial parameter', 'lecture', 'student essay', 'post content', 'medical ontology relation', 'survey response', 'ai generated english text', 'long text', 'spatial annotation', 'game metadata', 'human written summary', 'transaction record', 'salient entity identification', 'knowledge graph triple', 'doctor patient question', 'medical article summary', 'data protection regulation', 'word level annotation', 'grounded entailment', 'article body', 'pose action', 'popularity indicator', 'language reasoning', 'video game review', 'web navigation task', 'code', 'named entity', 'captions', '3d bounding box', 'lexical data', 'company information', 'forum post text', 'instruction text', 'algorithm description', 'chemical property', 'coordinate list', 'game rule', 'pddl problem file', 'ground truth response', 'cell classification annotation', 'question set', 'single choice question', 'question answering matching', 'esg annotation', 'translated terminology', 'harmful question', 'semantic map label', 'body shape', 'inferential knowledge', 'code search query', 'labelled beat', 'hypothesis', 'non motion sentence', 'attack scenario', 'software design description', 'intent annotation', 'participant information', 'knowledge graph entity', 'pos tag', 'decomposition', 'gesture description', 'dictionary entry', 'bibliographical information', 'vietnamese caption', 'instruction vocab', 'goal oriented dialogue', 'referring expression', 'question type', 'project title', 'retrieval corpus', 'question text', 'objective sentence', 'algebra word problem', 'jupyter notebook', 'hairdo', 'binary relationship', 'bug information', 'focused description', 'transaction log', 'temporal accident frame label', 'token classification', 'sentence level direct assessment', 'graduation thesis', 'contextual fact', 'rhythm label', 'genre annotation', 'medicine information', 'conversations', 'functional structural annotation', 'face bounding box', 'cross lingual relevance judgment', 'answer choice', 'textual document', 'legal judgment', 'species observation', 'option', 'pose label', 'informational content', 'document text line', 'ambiguous sentence', 'dependency parse', 'simulation parameter', 'dialogue context', 'dialogue transcript', 'llm output', 'deletion', 'symbol', 'speaker trait', 'publication info', 'optimization instruction', 'censoring indicator', 'meta label', 'wikipedia sentence', 'personal narrative', 'informatics text', 'system description', 'transcript', 'customer service query', 'live commentary', 'narration', 'license and citation', 'event description', 'chemical substructure', 'verbs, nouns, and adjective', 'spatial relation caption', 'simile', 'reference text', 'pose correction description', 'inflected word', 'smile label', 'grade level annotation', 'repository link', 'numeric id label', 'journalistic sentence', 'social context', 'reference resolution', 'morphological contrast', 'machine learning method', 'document simplification', 'user motive', 'named entity annotation', 'algorithm evaluation result', 'multiword expression', 'software package description', 'word analogy', 'image caption', 'fovea localization', 'comparison', 'ground truth soil parameter', 'bengali comment', 'polish nlp task', 'fallacy identification', 'grade label', 'linguistic analysis text', 'phone level transcription', 'novel situation', 'business signage text', 'cipo annotation', 'eligibility label', 'resume text', 'evaluation survey', 'gps position data', 'music composition', 'synapse annotation', 'network traffic feature', 'translated sentence', 'column name', 'smpl/smpl x parameter', 'automatic em classification algorithm', 'urls from node.js snapshot', 'story planning', '3d joint location annotation', 'harmful string', 'correction', 'story caption', 'description', 'regulation question', 'linguistic problem', 'people trajectories annotation', 'pos annotation', 'binary ground truth map', 'email', 'social media message', 'indirect answer', 'machine translation', 'probe', 'biotech news article', 'species tag', 'gloss level annotation', 'character annotation', 'multi hop counterfactual', 'temperature data', 'social dialogue', 'factual knowledge', 'parallel text', 'bridging anaphor', 'sentiment analysis text', 'riddle', 'job title', 'annotated evidence', 'legal clause', 'discourse connective', 'word sense', 'selected punchline', 'fusion sentence', 'dialogue state tracking', 'news summary', 'report content', 'page tag', 'genome sequence', 'word similarity', 'long form response', 'holders of opinion', 'human annotated temporal sentence', 'rules of thumb', 'expert curated response', 'business query', 'pixel wise ground truth', 'monomer identifier', 'description text', 'short text instance', 'disparity data', 'geographic factor', 'step segment', 'mood annotation', 'emotion score', 'mathematical world problem', 'keyphrase', 'application feature', 'jargon/term', 'query based summary', 'fashion item description', 'footnote', 'wikipedia article', 'story narrative', 'experiment result', 'review comment', '3d annotation', 'annotated trajectory', 'reading comprehension', 'spatial question answering', 'language pair', 'anomaly description', 'video category', 'synthetic caption', 'model generated solution', 'entity entry', 'drug target interaction description', 'game narrative', 'bug introducing commit link', 'geographic where what cut', 'image tag', 'automatically verbatimized transcript', 'task category', 'attribute information', 'key value pair', 'voting data', 'submission title', 'political discourse', 'mathematics topic', 'shakespearean line', 'scribble annotation', 'defect label', 'lay language summary', 'article summary', 'word label', 'insect track data', 'explanation text', 'expression tag', 'sentential context', 'pdf file hash', 'twitter message', 'pathology information', 'trigger word', 'abstracts', 'surf bow histogram feature', 'cross lingual task', 'mathematical prompt', 'comment', 'form structure', 'relationship data', 'puzzle question', 'city pollution data', 'pronoun form', 'analysi', 'regular expression', 'aqa score estimation', 'evaluation result', 'formal theorem statement', 'traffic element attribute', 'sub classification description', 'mean opinion score', 'news article summary', 'heading information', 'structured address', 'premise', 'variables list', 'frame', 'hierarchical structure', 'long summary', 'spelling error text', 'ethical judgment', 'author gender label', 'medical entity', 'coordinates of display', 'informal sentence', 'image event annotation', 'social connection', 'relation type', 'symbolic model', 'mathematical formulae', 'step description', 'action adverb', 'advice seeking question', 'poll question', 'feature request', 'grammar error correction', 'product description', 'meta review', 'identifier', 'case study', 'structure description', 'patient symptom', 'multihop question', 'linguistic context variation', 'caller identity label', 'distortion characteristic description', 'natural language facts', 'expert approved answer', 'syllogistic conclusion', 'biomedical abstract', 'quantity tagged text', 'spatial and behavioral annotation', 'geometric problem', 'grasp rectangle', 'similarity score', 'generated language', 'fake news', 'multilingual text sample', '3d pose label', 'cardiologist report', 'non sarcastic sentence', 'word vector', 'web page', 'multilingual context', 'connective detection', 'vessel type label', 'disambiguation label', 'chatgpt prompt', 'fact', 'parkinsonism severity rating', 'atomic action recognition annotation', 'player annotation', 'trajectory data', 'mrna sequence', 'team description', 'ground truth location', 'translation pair', 'qa instance', 'contractual term', 'frame level anomaly label', 'online quiz question', 'annotation file', 'sentence description', 'user request', 'semantic annotations', 'pull request', 'scientific entity annotation', 'disease description', 'english transcript', 'medical review', 'tracking id', 'expression', 'official lips reporting data', 'french text', 'ground truth rating', 'optic disc bounding box location', 'manual clustering', 'keywords and hashtag', 'handwritten text', 'license plate string', 'dialogue history', 'movie data', 'english text', 'jail and prison time', 'galaxy shape label', 'chat message', 'full form', 'thesis statement', 'error range estimate', 'protocol stack log', 'co reference text', 'metric value', 'yolo annotation', 'change description sentence', 'medical knowledge reasoning', 'multi turn dialogue', 'self reported tv consumption', 'programming language context', 'damage assessment label', 'entity mention', 'sensor calibration data', 'case study analysi', 'word concatenation', 'inference rule', 'annotated relevance set', 'camera configuration', 'tool functionality description', 'event article', 'artificial document', 'clinical score', 'counter position annotation', 'reference document', 'bash syntax', 'argumentative writing', 'genomic information', 'persona profile', 'bird species name', 'propaganda content', 'optical flow label', 'waste material label', 'entailment label', 'azimuth elevation label', 'literary text', 'misspelled word', 'privacy policy question', 'setting information', 'simulation loading characteristic', 'health information', 'parameter information', 'boundary annotation', 'corpu', 'bangla word', 'topic paper author network', 'artist information', 'road type classification', 'entailment sentence', 'ontology term', 'maze description', 'generic sentence', 'grasp result', 'masked sentence', 'paraphrased question', 'marking subtype', 'source identification label', 'user generated comment', 'tags of cinematic style', 'article text', 'physics explanation', 'recording location', 'news classification', 'adversarial sentence', 'story sentence', 'language passage', 'research summary', 'equation description', 'programming code', 'word pair', 'aligned description sentence', 'research paper abstract', 'conversation history', 'annotation process description', 'gesture annotation', 'analytical articles', 'multilingual document', 'hyperbole', 'curated reaction', 'technical report', 'intention prediction', 'malware description', 'species name', 'sentence template', 'hypnogram', 'relevance annotation', 'emotion cause pair', 'categorical variable', 'prompt annotation', 'references and license', 'compositional prompt', 'scene metadata', 'informal persian text', 'velocity annotation', 'narrative prompt', 'demographic label', 'intent label', 'location metadata', 'repetition count annotation', 'offensive comment', 'experimental procedure', 'chinese web text', 'morphological analysi', 'security analysi', 'perspective sentence', 'meta information', 'hierarchical relationship', 'address text', 'discourse annotation', 'place name', 'bilingual document', 'psychometric variable', 'literature text', 'free text', 'event identification', 'norm violation category', 'mutation classification', 'human generated abstract', 'trajectory detail', 'relation label', 'chemical process description', 'command', 'game title', 'render script', 'fon sentence', 'technical documentation', 'ground truth map', 'original paragraph', 'email sentence', 'patient demographic information', 'pairwise comparison', 'question metadata', 'biomedical ir', 'problem categorization', 'social group annotation', 'logical problem description', 'proof', 'anomaly label', 'mathematics problem', 'user intent', 'surrounding context', 'clinical research', 'correct word', 'publication year', 'disease severity annotation', 'software entity definition', 'one sentence description', 'input span', 'entity relation', 'experimental method description', 'sign language gloss', 'genetic association study', 'human to human dialogue', 'analytical solution', 'ambiguous question', 'column annotation', 'compositional phrase', 'e-manual', 'expert comparison data', 'steering angle data', 'outcome sentence', 'quantifier', 'encoded hot shot label', 'language data', 'domain information', 'keyphrase type', 'step by step solution', 'scientific title', 'analytic tasks annotation', 'notebook processing data', 'subjective test framework', 'optimization level', 'user instruction', 'individual tree id', 'quality estimation text', 'abstract sentence', 'anonymized reviewer id', 'site safety description', 'trigger summary', 'intents and reaction', 'test data dangling entity', 'literary essay', 'manual landmark', 'prompt win lose trio', 'machine translation quality judgment', 'bilingual passage', 'explanation graph', 'instruction tuning qa pair', 'paraphrase pair', 'robot control traffic', 'orientation label', 'hand object contact information', 'fire extent estimation', 'lemmatized dependency path', 'nli example', 'dense label', 'saliency score', 'financial model description', 'numeracy scenario', 'multi intent sentence', 'text type', 'graph', 'experiment documentation', 'pattern description', 'dialog qualities annotation', 'variant', 'tokenized music sequence', 'scientific paragraph', 'token model', 'categorical annotation', 'java code', 'bilingual lexicon', 'uncertainty label', 'topic description', 'natural language prompt', 'publisher name', 'page title', 'rephrased query', 'speech to text translation', 'conversational interaction', 'code augmentation dataset', 'experimental material', 'word lexicon', 'legal definition', 'ontology name', 'code switched utterance', 'source level ground truth label', 'physical property', 'must have statement', 'commonsense short story', 'perturbation type', 'relevant responses', 'neuroretinal rim size', 'wikipedia event', 'text passage', 'video transcription', 'response', 'tokenized transcript', 'corpus section', 'commentary generation', 'proper noun compound', 'experimental result', 'cytogenetic feature', 'vocalization metadata', 'system response', 'procedural description', 'information retrieval query', 'hand crafted feature', 'method documentation', 'semantic segmentation annotation', 'frame index', 'lexical semantic database', 'state change log', 'character narrative', 'ordinal acceptability judgment', 'cross validation split', 'editing instruction', 'opinion score', 'drug interaction', 'reasoning tree', 'text detection', 'exim log', 'problem type annotation', 'annotation description', 'timex expression', 'text prompt', 'syntactic change', 'smile', 'page number', 'program of thought (pot) solution', 'chinese sentence', 'ingredient list', 'human generated story', 'natural language inference sentence', 'fill in the blank question', 'film review', 'annotator disagreement', '2d pose projection', 'use case', 'fashion description', 'encyclopedia entry', 'age group information', 'end to end text recognition', 'assistant response', 'named entity mention', 'sociodemographic data', 'personal information', 'summarized text', 'manually annotated suctionable region', 'design prompt', 'material characteristic', 'phrase similarity', 'arabic transliteration', 'cve vulnerability description', 'ground truth trajectory', 'glaucoma label', 'reading comprehension implicit numerical reasoning', 'chemical composition', 'id annotation', 'subjectivity label', 'relational pattern', 'domain specific article', 'emotion classification', 'rebuttal', 'math solution', 'nlp task', 'reddit post', 'land cover category', 'eye state label', 'face bounding boxes annotation', 'labeling information', 'processed summary', 'instruction tuning data', 'study description', 'platform', 'aggregated transcription', 'dialogue act correspondence', 'thesis abstract', 'editor name', 'wordplay puzzle', 'financial metric', 'visual condition annotation', 'compositional text prompt', 'text region', 'linguistic analysi', 'noun noun compound', 'occupation code', 'essay score', 'game instruction', 'paragraph annotation', 'wikicategory hierarchy', 'ocr annotation', 'mathematical answer', 'font label', 'cloze style template', 'user check in', 'json data', 'generated summary', 'icd-9 code', 'entity alias', 'event story', 'question answer dialogue', 'user evaluation', 'human system conversation', 'password information', 'edge list', 'article topic', 'editorial decision', 'sentence textual similarity', 'natural language question', 'answers with citation', 'dialectal annotation', 'audio tag', 'annotated portuguese text', 'ui functionality description', 'aesthetic question', 'competence annotation', 'object metadata', 'aggressiveness classification', 'dataset identifier', 'object position query', 'factual claim', 'textual transformation', 'medical concept', 'task decomposition', 'case identifier', 'anonymized attribute', 'premise hypothesis sentence pair', 'venue', 'setup code', 'camera calibration data', 'medical text', 'fictional story', 'court case text', 'bias annotation', 'safety prompt', 'firm registration data', 'counseling text', 'emotion cause word', 'word embedding', 'policy article', 'literature review', 'website content', 'legal text', 'written content', 'note onset annotation', 'linking annotation', 'patient attribute', 'blue conversation', 'court transcript', 'price', 'bug identifier', 'research paper title', 'speech prompt', 'knowledge snippet', 'phase annotation', 'multilingual sentence', 'aircraft model label', 'device metadata', 'node classification label', 'vehicle metadata', 'user metadata', 'imu reading', 'composite layup', 'question description', 'technology showcase description', 'scientific research paper', 'instruction attack', 'scientific answer', 'pose and shape parameter', 'procedural paragraph', 'behavior rating', 'planned speech', 'object pose', 'argumentative dialogue', 'population metadata', 'harmful response', 'essay prompt', 'personality trait', 'tunisian arabish text', 'growth description', 'machine generated story', 'translated instruction', 'restaurant review', 'free text explanation', 'multiple choice video question answer', 'causal relation', 'standard operating procedure', 'knowledge triple', 'issue information', 'engagement metric', 'research paper titles and abstract', 'symbolic melody', 'retrieved step', 'state label', 'artwork metadata', 'compliance documentation', 'subordinate clause structure', 'country data', 'coreferential information', 'phenotypic description', 'user interaction log', 'project name', 'pseudocode', 'parliamentary speech', 'product information', 'listening test annotation', 'accessibility scan result', 'place description', 'attack detail', 'gender entry', 'chess game data', 'minute', 'microblog text', 'mathematics problem statement', 'product classification', 'player statistic', 'explanation annotation', 'simple question', 'plausible alternative', 'participant preference', 'sports article', 'semantic parsing annotation', 'paraphrase phenomena annotation', 'math reasoning instruction', 'emotional sentence', 'evidence subsequence', 'english web text', 'fashion ontology', 'risk behavior', 'standardized medical terminology', 'lighting condition annotation', 'head pose', 'artificial subtitle', 'textual relation generation', 'neuron segmentation label', 'long tail entity', 'inference pair', 'confidence level', 'job offer', 'research paper content', 'word perturbation', 'disease annotation', 'llm response', 'aggregated long text', 'language model response', 'attribute value', 'abusive language instance', 'conversation', 'economic data', 'numerical annotation', 'agnostic name side sentence', 'control code', 'comparison discussion', 'star rating', 'textual prompt', 'issue number', 'title entry', 'commit message', 'face annotation', 'transformation matrice', 'medical case report', 'order description', 'passage ranking', 'passage', 'kids abstract', 'time expression', 'student reflection', 'paraphrased paragraph', 'concept annotation', 'creative habit tag', 'negative triple', 'physics problem', 'cross lingual word analogy', 'vessel measurement', 'political party affiliation', 'geographical data', 'slot value', 'token annotation', 'instrumental onset annotation', 'self reported emotion rating', 'text logic form', 'medical guideline', 'morphosyntactic annotation', 'profile text', 'slide deck', 'book excerpt', 'persona based conversation', 'fibrosis stage transition', 'prediction', 'economic attribute', 'experimental setup description', 'counter argument', 'pose angle', 'authors rebuttal letter', 'reference form', 'coreferring event passage', 'repository information', 'attribute label', 'gearbox type', 'vocabulary', 'apple annotation', 'reviewer score', 'pascal voc annotation', 'pronunciation', 'writer id', 'policy', 'drug drug interaction', 'financial document', 'emotional rating', 'normalized text', 'sentence level summary label', 'frame level attribute', 'shot movement annotation', 'word level token', 'argumentative relation', 'main therapist behaviour', 'exercise annotation', 'compositional labels', 'disease name', 'aircraft label', 'legal question', 'diagnostic category', 'geotagged geographic elements tagging', 'clinical trial abstract', 'partition information', 'person description', 'code metric', 'ogrn code', 'sparql query', 'ground truth label', 'trial letter', 'synthetic clinical text', 'algorithmic solution', 'card description', 'alignment label', 'user profile description', 'hate speech target', 'full text review', 'foaf data', 'action object annotation', 'llvm ir', 'politeness annotation', 'telemetry channel description', 'csv metadata', 'contextual information', 'instrument tag', 'chinese newswire', 'entity labeling', 'title', 'email thread', 'annotated message', 'expert annotation', 'human perceptual quality annotation', 'semantic category', 'learner essay', 'hand labeled annotation', 'full text paper', 'labelled ground truth', 'statement pair', 'toxicity label', 'riddle description', 'holding statement', 'user experience', 'poetic verse', 'geometry problem', 'interaction annotation', 'co predication acceptability judgement', 'distractor caption', 'reasoning pattern', 'citation presence', 'is a relationship', 'commit summary', 'encoded dataset', 'causal question', 'cumulative score', 'legislative document', 'table reference', 'general corpus', 'background sentence', 'stroke level metadata', 'hate speech annotation', 'layout analysi', 'bus idling data', 'medical entities annotation', 'focus level score', 'emotion rating', 'statement', 'language translation', 'memorability annotation', 'author affiliation', 'depth levels text', 'meta parameter', 'user comment', 'tls fingerprint', 'hurricane category', 'document summarization', 'bilingual question', 'dbpedia type', 'first frame expression', 'physical attribute', 'biomedical text', 'episode', 'abbreviated noun', 'game dialogue', 'biomedical factual knowledge triple', 'sentences depicting object', 'instruction', 'monolingual corpus', 'environmental disclosure', 'gene ontology annotation', 'spam review', 'machine learning model performance', 'ttab text data', 'task description', 'math lexeme', 'user genre preference', 'train test partition', 'geolocation annotation', 'context document', 'student interaction', 'familiarity rating', 'monolingual document', 'trial response', 'unittest script', 'rhetorical relation', 'search query', 'conversational answer', 'execution log', 'video segment description', 'command label', 'language coverage', 'view label', 'algebraic word problem', 'bioassay information', 'database documentation', 'user post', 'sequence attribute', 'environment name', 'meta feedback', 'background corpu', 'interview protocol', 'tool presence annotation', 'science question', 'article label', 'thesi', 'target sentence', 'mutation code', 'joint annotation', 'navigation instruction', 'storm event description', 'effect annotation', 'drug interaction description', 'sentence embedding', 'story context', 'commonsense quantitative comparison', 'commit author id', 'functionally incorrect solution', 'tagline', 'ontology pair', 'plot description', 'entity linking example', 'misinformation statement', 'motion expression', 'study documentation', 'hd map description', 'conversational telephone speech', 'sentimental caption', 'wordnet sense tag', 'shape description', 'image generation prompt', 'german text', 'neutral problem', 'social media conversation', 'relevance assessment', 'song key', 'tweet_text', 'system prompt', 'team log', 'exercise_questions', 'summary statistic', 'concept pair', 'banking query', 'notebook content', 'contextual transcript', 'biomedical paper', 'tracking information', 'bug report', 'metadata text', 'semantic categorization', 'short answer', 'validation set', 'rating date', 'ground truth correspondence', 'persian poetry', 'persian passage', 'metric', 'logo label', 'punctuation tag', 'disease severity indicator', 'edge feature', 'hotel check in record', 'location description', 'semantic reasoning text', 'french sentence', 'radiology report section', 'encoded segmentation data', 'subgoal of activity', 'news sentence', 'conversation session', 'cefr annotation', 'coreference resolution passage', 'chinese handwritten text', 'spending metric', 'rating value', 'eye occlusion score', 'vehicle states and action', 'sentence syntax', 'social media link', 'comparative analysi', 'citation network', 'descriptions', 'fact checking summary', 'friendship network', 'exoplanet parameter', 'file name', 'author information', 'detailed workplace activity', 'short sentence', 'textile material', 'corrected sentence', 'clue sentence', 'environmental factor', 'vcard data', 'input article', 'legal and ethical discussion', 'language generation', 'entity alignment link', 'arabic text', 'impression detail', 'user annotations', 'raw report', 'role play instruction', 'context paragraph', 'operational program', 'consumer health question', 'graph gen algorithm', 'multilingual sentences', 'severity level annotation', 'evidence paragraph', 'poker hand history', 'graph edge', 'task template', 'evaluation question', 'annotated literature', 'design hierarchy', 'legal case', 'meaningful attribute', 'malware analysis report', 'human human conversation', 'chemical descriptor', 'crosstabular data', 'photo critique', 'ground truth caption', 'cross lingual natural language inference', 'event phrase', 'aesthetic rating', 'methodology', 'review', 'survey summary', 'bibtex', 'refinement', 'material code', 'user command', 'literary excerpt', 'tweet retrieval', 'contradiction annotation', 'ground truth solution', 'classification label', 'news article body', 'target utterance', 'game log', 'social situation description', 'beat annotation', 'linguistic annotation', 'camera transformation', 'relations between keyphrase', 'review text', 'geometric primitive shape label', 'diagnosis label', 'pedestrian action attribute', 'timestamped lyric', 'context category', 'helmet use annotation', 'research article', 'hyperparameter configuration', 'problem cause', 'atom type label', 'questions', 'newsgroup document', 'protein sequence', 'ground truth line segment', 'imageability rating', 'gaze vector', 'report', 'medical term', 'discourse segment', 'online forum excerpt', 'perceptual quality rating', 'medical data', 'plan json', 'clinical response', 'age label', 'bounding box annotation', 'book metadata', 'discourse tree', 'language identification label', 'multi turn chat conversation', 'prompt', 'transcribed speech sentence', 'plausible incorrect answer', 'asr output sentence', 'official transcript', 'cyclone track description', 'expert scoring label', 'music caption', 'dialog generation', 'bangla paragraph', 'natural language answer', 'transliterated english name', 'assembly code', 'time series data', 'triangular faces list', 'gene disease association label', 'quotation attribution', 'cell trajectory data', 'semantic parse', 'goal description', 'target object attribute', 'evaluation protocol', 'utterance text', 'provenance sentence', 'meter reading', 'entailment tree', 'relevance label', 'estimated manhattan frame', 'breakdown date', 'token', 'academic field', 'transcription text', 'dependency parsing', 'matrix subject', 'code mixed text', 'true/false question', 'forum comment', 'romanian language corpu', 'entity level sentiment label', 'document summary', 'supplemental tweet', 'paraphrase', 'conversation utterance', 'call type label', 'json specification', 'listening event', 'intent/dialogue classification', 'accident annotation', 'vehicle measurement', 'psychological questionnaire', 'visual reasoning', 'historical document', 'nationality label', 'observer id metadata', 'gene disease association', 'evaluation text', 'topic classification', 'handwritten letter', 'large poem', 'atomic edit', 'legal justification', 'news', 'administrative record', 'object category label', 'token level rationale', 'structured citation', 'physical scenario prompt', 'assertion', 'email content', 'task instance', 'gender label', 'irrelevant responses', 'syllogistic nlg', 'demographic metadata', 'ancient manuscript', 'visual attribute label', 'entity label', 'knowledge graph edge', 'historical letter', 'eye position annotation', 'facial attribute', 'human expert annotation', 'natural language statement', 'language model output', 'ecg metadata', 'calibration matrix', 'activity label', 'measurement description', 'syntactic parsing', 'design choice comment', 'evaluation prompt', 'webtext', 'workflow annotation', 'nonfinite subordinate clause structure', 'diagnostic report', 'paper review', 'imperative sentence', 'substitution suggestion', 'structured table', 'person id', 'nas search space', 'retweet', 'sarcastic statement', 'go term', 'molecular_formula', 'span interaction', '2d coordinate', 'code switched informal short text', 'editing mask', 'chinese broadcast news', 'narration caption', 'environmental annotation', 'grammar instruction', 'online news comment', 'object class annotation', 'wikidata value', 'research article section', 'quotation', 'text simplification', 'listening record', 'cultural context', 'maze property', 'instance detection annotation', 'abstractive summary', 'childrens story', 'human written knowledge', 'email body', 'medical dialogue', 'complex question', 'object name', 'flight label', 'sub title', 'traffic query', 'manually revised transcript', 'song lyric', 'style trait', 'sense annotated word', 'constituency parsing', 'evaluation framework description', 'cross lingual mapping', 'spreadsheet data', 'semantic role annotation', 'affordance annotation', 'dialogue state', 'answer option', 'motion class', 'text snippet', 'image descriptions in english', 'commonsense knowledge', 'gene ontology description', 'sub action annotation', 'horde log', 'fill in the blank task', 'graph to text generation', 'paraphrasing', 'xml representation', 'chatgpt rephrased text', 'flight status', 'section summary', 'evidence text', 'bug fix description', 'conversational context', 'conceptualization in context', 'pdf table', 'adverb annotation', 'epistemic state annotation', 'urdu digit', 'scene wise caption', 'logical puzzle', 'hindi caption', 'information need', 'phenotype annotation', 'persuasive essay', 'microblog post', 'inference label', 'statements of desire', 'object label', 'biomedical document', 'code prompt', 'simulation metadata', 'coreference', 'video metadata', 'natural language inference', 'global image description', 'non sarcastic rephrase', 'grasp dexterity label', 'discourse parse', 'discussion thread', 'coreference annotation', 'irc message', 'drone segmentation mask', 'date time', 'personal experience', 'fiducial points annotation', 'timebank', 'web snippet', 'local per frame annotation', 'word metadata', 'duplicate question annotation', 'environment configuration', 'template based utterance', 'product identifier', 'equipment label', 'gene label', 'puzzle solution', 'caption pair', 'edit operation', 'publication title', 'location label', 'domain label', 'script', 'simplified sentence', 'serialized triple', 'camera to robot transformation', 'bibliographic information', 'layout semantic', 'top visited websites url', 'question and answer pair', 'language grounding', 'contextual passage', 'example clause', 'code explanation', 'multi object tracking annotation', 'simulation input', 'display formulae with reference number', 'scientific explanation', 'visual relation description', 'onomatopoeic word', 'post title', 'traffic participant trajectory', 'episodic buffer note', 'sanskrit text', 'diagnosis and treatment method', 'log statement', 'prompter message', 'safety', 'formal document', 'treatment parameter', 'fine grained human textual description', 'certificate', 'signal timing', 'support text', 'inductive question', 'sense label', 'amino acid sequence', 'r code', 'conversation tree', 'recognition task response', 'bioassay description', 'scientific paper', 'mechanistic premise', 'novel book', 'spoken language translation', 'action class annotation', 'recallability score', 'political discussion', 'action class label', 'non predator chat', 'cobb angle result', 'annotation tag', 'header', 'fixed text typing', 'modal instance', 'narrative entry', 'newspaper caption', 'weather report', 'language model', 'riddle answer', 'spectral characteristic', 'news article text', 'cinematography concept', 'argument relation', 'cross lingual text', 'medical description', 'music score', 'romanization lexicon', 'supporting text passage', 'continuous variable', 'biographical article', 'reverse classification accuracy (rca) score', 'relation', 'size label', 'scientific terms and relation', 'reflective essay', 'intra sentence relation', 'summary relevance score', 'link annotation', 'commonsense story', 'challenge detail', 'ground truth information', 'code annotation', 'episode transcript', 'tumor size', 'think aloud transcript', 'camera calibration file', 'action sequence label', 'classroom transcript', 'skills list', 'client talk type', 'context description', 'car attribute', 'game description', 'audit log', 'contact date', 'ava format data', 'human annotated similarity score', 'case consultation question', 'legal statute', 'sense identifier', 'instance', 'structured report', 'contribution sentence', 'descriptive sentence', 'image caption pair', 'diagnostic reasoning text', 'item description', 'java class', 'definition', 'relationship dynamic', 'pitch localization data', 'integer label', 'minimal pair sentence', 'dialogue utterance', 'term', 'stereotype sentence', 'drug combination description', 'combined augmentation dataset', 'exchange identifier', 'event file', 'survey based response item', 'counterspeech reply', 'disease and syndrome mention', 'snippet', 'clinical narrative', 'dialogue slots and value', 'parallel sentence pair', 'multilingual translation', 'newspaper commentary', 'raw data', 'finding annotation', 'machine readable language parse', 'compound description', 'preference data', 'workshop detail', 'test dataset', 'optical flow reference data', 'clinical report', 'word token', 'self assessment', 'demographics', 'enterprise data', 'recent post', 'coordinate data', 'iterative questioning', 'earning call transcript', 'patent document', 'mortality data', 'citation context', 'tags of place and action', 'human attribute', 'fixed code', 'selected sentence', 'interaction label', 'algorithm comparison', 'translation performance', 'quality rating', 'power plant generation data', 'color name', 'age group label', 'vehicle bounding box', 'entity', 'factual error annotation', 'wikipedia article text', 'meteorological condition', 'dialogue', 'open domain question', 'short story', 'polite sentence', 'document metadata', 'human preference', 'original sentence', 'question characteristic', 'classification task description', 'context independent question rewriting', 'topic category', 'spellings variation', 'game clock', 'aspect based label', 'match result', 'structured answer', 'character level span', 'vehicle color', 'defect report', 'enolate table', 'particle parameter', 'sentence level answer', 'brochure text', 'action frame label', 'ai system performance', 'disease mention', 'navigation context annotation', 'object class label', 'video transcript', 'language model probe', 'perplexity score', 'methods implemented', '6 dof mapping', 'entertainment', 'verb conjugation', 'attribute', 'news headline', 'camera location data', 'reference annotation', 'persona description', 'belief statement', 'test', 'sparql owl query template', 'camera calibration', 'interest point', 'analyses and review', 'font', 'instance id', 'historical poker hand', 'topic annotation', 'display formulae', 'semantic descriptions', 'poor answer', 'adversarial attack instance', 'chemical named entity', 'annotated frame', 'pddl task', 'transliteration', 'negotiation transcript', 'coco pose label', 'markdown format', 'research paper text', 'doi', 'mesh term', 'weather station report', 'template sentence', 'health record', 'full name', 'genomic profile', 'sae sample', 'court debate dialogue', 'word timing information', 'search result page', '6d object pose label', 'syntactic categorization', 'english subtitle', 'emotion elicitation protocol', 'suricata log', 'crossword clue', 'vehicle type', 'reference caption', 'smb operations description', 'cross lingual lexical concept', 'ground truth answer', 'human generated question', 'transfer article', 'televised poker hand', 'code switched sentence', 'poetry', 'user account', 'usenet newsgroup', 'input output pair', 'drug name mapping', 'human similarity judgment', 'non academic writing', 'environmental metadata', 'patent title', 'medical answer', 'movie review', 'binary label', 'sentence edit', 'ancient greek inscription', 'keypoint detection annotation', 'reaction class', 'emotion dependent tweet', 'tag annotation', 'image search url', 'authentication log', 'procedural text', 'cross language information retrieval data', 'hard negative triple', 'mental health questionnaire', 'summarizing passage', 'grapheme level lyric', 'ground truth 6 dof object pose', 'semantic relationship', 'user profile', 'sentiment text', 'textual entailment pair', 'causal answer', 'security patch', 'camera calibration parameter', 'newspaper sentence', 'multilingual question answering', 'negated statement', '6d pose annotation', 'multi sentence question', 'visual stimuli text', 'test result', 'action annotation', 'news article category', '6 dof speed data', 'forum discussion', 'network flow metric', 'reasoning path', 'process log', 'fact checking', 'vehicle attribute', 'safety alignment prompt', 'subevent relation', 'radiology reading', 'clinical summary', '2d and 3d multi object tracking annotation', 'project metadata', 'transcripts', 'training script', 'argument component', 'migration indicator', 'story headline', 'flight annotation', 'label description', 'head pose annotation', 'visual conversation', 'trace metadata', 'multi object tracking label', 'administrative information', 'quantitative binding result', 'ehr text', 'quality estimation data', 'pipeline stage', 'language identification', 'wsc question', 'seizure annotation', 'human skeleton', 'multiple choice question answering', 'project provenance', 'target image prompt', 'vehicle label', 'github issue', 'core science fact', 'coreference chain', 'gender annotation', 'issue ticket', 'temporal information', 'issue categorization', 'low ambiguity scenario', 'aesthetic perception criterion', 'relational fact', 'query url pair', 'literary event', 'action label', 'bird observation record', 'clause embedding verb', 'symbol type', 'project data for issue', 'cause statement', 'ground truth text', 'geometry task', 'entity description', 'alphabet label', 'recipe step', 'model description', 'benchmark passage', 'context piece', 'business document text', 'global style label', 'medical report', 'tablestore row', 'tracklet information', 'external knowledge', 'misspelled sentence', 'examination response', 'syntactic dependency tree', 'personalizing dialogue', 'paper metadata', 'structural feature', 'account description', 'navigation convention', 'persian caption', 'knowledge base entry', 'transcribed sentence', 'ms coco annotation', 'artist name', 'commit', 'scientific discourse sentence', 'machine learning task', 'product review', 'spatial relation annotation', 'manual evaluation', 'problem fix', 'spoken language noun', 'latin text', 'cognitive modeling text', 'masked word prediction probe', 'annotation score', 'identity attribute', 'knowledge instruction', 'function label', 'cloze style question', 'product rating', 'blog post', 'web comment', 'standard workflow', 'recommendation', 'query specific relevance label', 'reading comprehension passage', 'code solution', 'stock ticker', 'geospatial question', 'trust relationship', 'worker profile', 'chronological metadata', 'scientific article', 'paper abstract', 'prompt template', 'methodology documentation', 'emotional annotation', 'medical free text', 'lemma', 'vanishing point label', 'single sentence task', 'cause', 'word association', 'attribute value pair', 'chemical description', 'annotated tag', '3d hand joint coordinate', 'academic citation', 'road user categorization', 'literary entity', 'concept set', 'taxonomy description', 'song beat', 'short text', 'resource feature', 'special occasion', 'deducibility annotation', 'emotion label', 'slot annotation', 'referential sentence', 'entity retrieval', 'contextual feature', 'formal language annotation', 'compressed sentence', 'driver attention annotation', 'ground truth 6d object pose', 'background element', 'sentences with gapping', 'workflow intent description', 'institutional information', 'recorder profile annotation', 'ultrasonographic finding', 'scripted sentence', 'presupposition annotation', 'codebook protocol', 'abstract syntax tree', 'composition score', 'natural language inference task', 'argument retrieval', 'soft attribute label', 'technical text', 'court case', 'question body', 'pairwise preference', 'trust relation', 'claim label', 'concept', 'genre', 'evaluation metric', 'stance labeled sentence', 'plot', 'film trope', 'cloze form question', 'log record', '2d and 3d annotation', 'cited passage', 'scientific text', 'click feedback', 'openie annotation', 'semantic keypoint annotation', 'generated text', 'bytecode', 'clinical glaucoma classification', 'simile triplet', 'open domain dialogue', 'topic id', 'ad annotation', 'section label', 'screen summarization', 'ai poker hand', 'time period designation', 'builder utterance', 'coding scheme', 'witness testimonial', 'table description', 'image identifier', 'multi turn conversation', 'biographical text', 'key information annotation', 'event forecasting question', 'publication date', 'elicitation method', 'gene annotation', 'multi label annotation', 'api description', 'instrument annotation', 'rule dependency', 'jailbreaking prompt', 'readme file', 'severity label', 'social connectedness index', 'consultation dialogue', 'play by play text', 'script sentiment', 'camera pose label', 'biometric label', 'cve record', 'wikipedia xml content', 'state index', 'dialect sample', 'written reflection', 'detailed annotation', 'reply generation', 'session event', 'sentence aligned text', 'monologue transcription', 'glasses type', 'market analysis report', 'order sensitivity', 'ocr output', 'gold rationale', 'image descriptions', 'effect', 'forum novel', 'problem description', 'protein class', 'privacy policy', 'protein description', 'mechanism description', 'user utterance', 'knowledge graph relation', 'natural language expression', 'mention type', 'query result', 'biography paragraph', 'annotated biomedical concept', 'speech annotation', 'publication name', 'wikipedia title', 'relationship type', 'machine reading comprehension', 'music descriptions/tag', 'candidate answer', 'intent', 'news retrieval', 'press briefing passage', 'question answering', 'word', 'table column', 'skeleton data annotation', 'live comment', 'introduction paragraph', 'discourse relation classification', 'claim source', 'id label', 'note and syllable timing', 'item data', 'ground truth disparity value', 'conversation context', 'financial news article', 'patient record', 'app analysi', 'chemical smile', 'textual metadata', 'user id', 'full text article', 'disease diagnosi', 'protein pdb code', 'open triple', 'gene annotations', 'revised story', 'language cluster', 'binary comparison', 'clinical outcome', 'list', 'hebrew word', 'step', 'captioning', 'name length data', 'context v2', 'subjective sentence', 'predictive metric data', 'language', 'article metadata', 'question driven summary', 'article violation', 'food entity', 'activity log', 'stakeholder opinion', 'paragraph level sentiment annotation', 'speech synthesis description', 'cooking instruction', 'descriptive label', 'vehicle annotation', 'annotated data', 'gps ins ground truth location data', 'linguistic command', 'residue sequence', '3d pose annotation', 'cue word', 'code element', 'stellar parameter', 'automatic translation', 'government document', 'source information', 'driving knowledge test', 'room description', 'annotated document', 'simulated dialogue', 'similarity and paraphrasing task', 'rationality labeling', 'document level information', 'cloze query', 'question pair', 'instrumentation annotation', 'estrogen receptor', 'vessel detail', 'optic disc and cup segmentation', 'duplicate question retrieval', 'fill in the gaps question', 'tokenized text', 'training data dangling entity', 'geographical name', 'table annotation', 'vehicle brand', 'accepted answer', 'reporting procedure', 'interaction topic', 'gene description', 'conference description', 'instance detail', 'aspect term', 'next utterance prediction', 'clinical case', 'news comment', 'character and actor information', 'post editing data', 'scene graphs and region description', 'dense caption', 'financial tweet', 'facs au annotation', 'writing system', 'chinese grammatical error', 'relationship', 'entity and coreference', 'morphological and articulatory classification', 'cognitive development assessment', 'equation solution', 'music description', 'summary intent', 'odometry data', 'contextual dialogue', 'paraphrase sentence pair', 'newspaper headline', 'web page text', 'dataset description', 'knowledge graph', 'weblog', 'contextual syntactic ambiguity', 'visual instruction', 'geographical coordinate', 'ynn answer', 'labeled citation segment', 'quality control assessment', 'annotated domain names', 'trash label', 'financial statement', 'annotated list', 'bilingual dictionary', 'violated article', 'semantic annotation', 'quality score', 'rhetorical question', 'elementary discourse unit', 'spatial relation description', 'concept description', 'action category', 'product attribute', 'character textual mention', 'syntactic dependency', 'art attribute label', 'writer information', 'human written sentence', 'event sentence', 'recommender system description', '2d and 3d object detection annotation', 'column type annotation', 'dependency treebank', 'functional category', 'crowdsourced annotation', 'semantic layout annotation', 'morphological feature', 'proverb', 'character document', 'video annotation', 'atomic action', 'battery performance description', 'instructional content', 'tuning data', 'adapted abstracts for child', 'datasheet', 'retrieved document', 'test urls from phishing sites detector', 'symbolic expression', 'lexical translation task', 'commonsense arithmetic reasoning', 'expert classification', 'morphosyntactic lexica', 'revision history', 'comparison category', 'programming problem template', 'handwritten prayer', 'user feedback', 'video tag', 'document content', 'conceptual similarity judgment', 'politician name', 'game feedback', 'location', 'scenario prompt', 'multilingual text transcription', 'quoted triple', 'clip style template', 'line level text', 'video text description pair', 'embedded tweets', 'in game chat', 'query type', 'semantic change', 'stock exchange data', 'scientific recommendation', 'page category', 'processed text', 'end diastolic volume', 'annotated entity', 'systematic reviews', 'religious text', 'mathematical problem', 'topic based document', 'non abusive language', 'rating data', 'pixel level annotation', 'english broadcast news', 'library description', 'other mention', 'recording information label', 'conceptual query', 'language metadata', 'artist similarity', 'cancer cell line information']\n",
            "Removing duplicate: video from data_types ['traffic control gesture', 'variety show clip', 'gaze following video', 'activities of daily living sequence', 'first person video', 'surveillance footage', 'video game', 'cropped video', 'video game footage', 'global transformation', 'waste sorting video frame', 'category labels', 'dynamic video task', 'gameplay frame', 'educational histopathology video', 'moving object', 'aerial drone video', 'panoptic segmentation', 'medical non instructional video', 'soccer game sequence', 'virtual agent video', 'face video frame', 'football scene', 'accident video', 'uhd and hd video', 'daily life scene', 'assembly scenario', 'human activity video', 'passerby interference', 'speaker video', 'facial expression', 'hd video triplet', 'humorous performances', 'dyadic interaction video', 'camera trajectory', 'multi view hand video', 'urban traffic video', 'vehicle tracking frame', 'small detail video', 'vehicle movement video', 'urban traffic scene', 'music video extract', 'irrelevant video', 'fidelity score video', 'person trajectory', 'traffic sign recognition', 'face mask video', 'movie scene', 'author presentation', 'basketball game video', 'traffic surveillance', 'crowd event', 'character visual appearance', 'industrial action sequence', 'anomalous driving action', 'user face and expression', 'human action video', 'motion category', 'user action', 'relation annotation', 'normal driving video', 'pedestrian movement', '3d facial expression video', 'not crossing sequence', 'person identification', 'video duration', 'high resolution video frame', 'humor video', 'nature scene', 'cyclist arm signal action', 'bgra32 mode video', 'short video', 'user generated content', 'animated gif', 'videos with effects and distortion', 'camera shot segment', 'daily life activity', 'well lit video', 'hand gesture videos', 'conductor view video', 'user viewed video', 'fish swimming behavior', 'stereo video', 'face manipulation video', 'clothing simulation', 'normal findings video', 'beyond visible spectrum video', 'original video', 'cell trajectory video', 'volumetric video', 'gymnastics performance', 'climate observation', 'vehicle crowd interaction', '3d human body pose video', '3d joint position', 'nursing procedure video', 'navigation_videos', 'daily activity', 'sleep study video', 'robot manipulation video', 'time of flight video', 'video', 'people interactions', 'user highlighted segment', 'fetoscopic surgery video', 'user affective state', 'human interactions', 'synthetic object video', 'evidence video', 'valence and arousal', 'using tool', 'event', 'device captured video', 'landscape video', 'omnidirectional video', 'drone captured video', 'basketball game footage', 'human interaction', 'top view scenario', 'short film', 'endoscopy sequence', 'vehicle tracking', 'stereo endoscopic video', 'vp9 video', 'vehicle tracking video', 'qr code video', 'dyadic interaction', 'wide field of view rgb video', 'micro expression', 'human avatar interaction', 'fire video', 'exchanged video', 'outdoor sequences', 'assembly process video', '4d facial expression video', 'tv episode', 'traffic scene', 'emotional song video', 'agent trajectory', 'uav vehicle video', 'wildlife video sequence', 'object segmentation', 'visible infrared video pair', 'traffic pattern', 'multispectral face video', 'web video clip', 'binary mask', 'video shot', 'agent interaction video', 'rgb-d frame', 'comedy clip', 'natural scene', 'real world video situation', 'campus surveillance footage', 'event stream video', 'visual relation', 'controlled setting hd video', 'robot hand performance', 'corrupted video', 'egocentric activity video', 'ground truth video', 'compressed video sequence', 'first person office activity', 'spatio temporal action detection', 'echocardiography video', 'bee colony activity', 'facial macro expression', 'indoor daily activity', 'camera calibration data', 'video content', 'self chosen movement', 'coarse visual hull reconstruction', 'sonar video', 'clean video', 'social media shared video', 'dark environment action video', 'video moment', 'first person view', 'robotic surgical video', 'physics simulation', 'train journey video', 'video editing task', 'composite video', 'emotional interaction', 'video text spotting', 'spot robot video stream', 'emotion video clip', 'original face video', 'mouse movement', 'action', 'cyclist behavior video', 'fetoscopy video', 'digit motion sequence', 'egocentric navigation video', 'anomalous activity', 'collective activity', 'unsteady video', 'deepfake action', 'egocentric cooking activity', 'city footage', 'object and point track', 'event based video', 'movie shot', 'action recognition sequence', 'facial micro expression', 'temporal action segment', 'traffic scenario', 'non medical video', 'football gameplay', 'face track', 'fitness activity video', 'endoscopic surgery video frame', 'lifestyle vlog video', 'face forgery video', 'participant interaction', 'drone tracking video', 'pedestrian path video', 'brightfield video', 'narrative content', 'video denoising/deblocking', 'human action clip', 'flicker', 'scene type', 'multi label action recognition sequence', 'loop closure', 'crowd violence footage', 'rgb-d sequence', 'daily activity video', 'automobile review', 'user interaction', 'artistic swimming', 'cgi video', 'prank', 'robotic manipulation video', 'real video', 'musical performance video', 'nature video', 'shopping action', 'raw image', 'multi shot video', 'vlog video', 'video inpainting', 'object pose estimation', 'capsule endoscopy video', 'near duplicate video pair', 'tv drama clip', 'motion capture sequence', 'pedestrian sequence', 'cooking activity', 'real world video', 'general stunt', '3d pose estimation', 'object recognition sequence', 'emotion recognition clip', 'audio visual synchronisation clip', 'vehicle video', 'human avatar creation', 'human motion capture', 'object interaction', 'spatio temporal human object interaction video', 'interaction-centric video clips', 'romance', 'activity video', 'manned glider video', 'skeleton trajectory', 'urban driving scene', 'honeybee video', 'audio visual speech recognition', '3d human pose estimation', 'action recognition video', 'textured scene', 'live video', '2d animated segment', 'unintentional human action video', 'object manipulation video', 'video copy pair', 'object tracking sequence', 'attention target', 'vehicle identification', 'high resolution detail', 'stereo video sequence', 'traffic flow video', 'overlapping scene', 'human motion sequence', 'query based video', 'creative video', 'outdoor navigation sequence', 'crowd non violence footage', 'visual tracking sequence', 'lip synching', 'sports scene', 'city street video', 'spoof video', 'indoor scene', 'tv show clip', 'hand washing action', 'emotional expression', 'sarcastic expression', 'cartoon video', 'driving footage', 'cctv footage', 'space time subsampled video', 'talking face video', 'synthetic scene sequence', 'liquid spill video', 'crowd prediction', 'object movement', 'gait video', 'object manipulation action', 'pedestrian crossing sequence', 'egocentric kitchen activity', 'human related anomaly detection', 'body motion', 'tv show video clip', 'portrait mode video', 'anatomical landmarks video', 'animal behavior video', 'action detection video', 'rain video', 'metamorphic time lapse video', 'goal directed activity video', 'gymnastics routine', 'motion blur video', 'content coverage', 'conversational video', 'aerial video footage', 'hand grasping video', 'descriptive video annotation', 'real human gesture video', 'face to face conversation', 'industrial smoke emission', 'fisheye video sequence', 'visual objects/actions/scene', 'actor performance', 'surgical task video', 'action video', 'instance segmentation', 'object interaction video', 'multi camera video', 'video patch', 'driving sequence', 'conference style video', 'film trailer', 'water stream or steam video', 'reference video sequence', 'participant action', 'outdoor unconstrained video', 'mouse social behavior', 'hand gesture sequence', 'sports and street video', 'dynamic scenes with camera motion', 'task performance', 'temporal annotation', 'single object tracking sequence', 'wire removal scene', 'interlaced video sequence', 'movie fragment', 'interaction video', 'landmark video', 'frontal view video', 'image to video', 'city sequence', 'eye region video frame', 'background activity', 'pedestrian walkway', 'sitcom episode', 'bonafide video', '360° equirectangular video', 'surveillance video', 'anomaly detection', 'auto driving', 'garment folding video', 'incident video', 'reaction video', '2d animations of social interaction', 'scenario video', 'video language task', 'drone simulation video', 'visible light face video', 'exercise performance', 'video summarization', 'pseudo synchronized video', 'compressed video', 'ultra high resolution video', 'simulation interaction', 'movie excerpt', 'selfreenactment video', 'table tennis game', 'object detection and tracking', 'furniture assembly', 'recipe video', 'untrimmed video', 'description based question answer', '3d animation', 'environmental sequence', 'dance performance', 'haze free video', 'face video clip', 'cued speech video', 'dog activity', 'meeting video', 'participant activity', 'human activity scene', 'oro facial gesture', 'live streaming video', 'exercise action', 'road scene', 'unblurred asl signing', 'object centric video', 'mouse action', 'color event video', 'blurred video', 'baseline human scene', 'sensor video', 'video id', 'indoor ptz surveillance video', 'object', 'robot exploration video', 'diverse video clip', 'facial expression video', 'gun review', 'egocentric view', 'infrared video', 'dialogue video', 'frame interpolation', 'urban scenario frame', 'human pose', 'multi shot event', 'phone call', 'video super resolution', 'video scene', 'tv show scene', 'face recognition', 'short video clip', 'robot interaction', 'registered video sequence', 'keyframe', 'microscopy video clip', 'sports video clip', 'sports video', 'scene parsing', 'sign language gesture', 'multi view video', 'global instance tracking', 'campus scene', 'robot cutting task', 'lip reading', 'defocus blur video', 'human object interaction video', 'gesture video', 'cartoon action', 'cultural interaction', 'panoramic video', 'event localization', 'digitally manipulated video', 'near infrared face video', 'sport video', 'motion segmentation clip', 'operation video recording', 'high resolution video', 'video retrieval', 'repetitive activity', 'urban traffic video sequence', 'field recording', 'action sequence', 'audition', 'green screen video', 'object motion sequence', 'gait sequence', 'temporal distribution', 'emotion expression video', 'sport', 'ego centric dog video', 'sports activity', 'motion clip', 'game replay', 'monologue performance', 'multi view surveillance', 'object video sequence', 'visible spectrum video', 'sport performance video', 'short video moment', 'explosion video', 'multi person tracking video', 'weather condition', 'physical reasoning video', 'abandoned object detection scenario', 'gameplay replay', 'multi object tracking sequence', 'robot pushing sequence', 'flight video', 'pathological finding', 'animation triplet', 'facial video', 'facial gesture clip', 'real world low light video', 'real world driving video', 'avc video', 'therapy session video', 'rgb video', 'camouflaged animal video', 'car number video', 'conversation video', 'distracting objects video', 'mobile video', 'tactile internet video', 'activity recognition', 'distribution shift video', 'gaze tracking video', 'music room video clip', 'bounding box', 'perspective camera footage', 'egocentric videos with gaze overlay', '3d video', 'color video', 'trailer', 'car video shot', 'handball match video', 'head mounted sequence', 'medical instructional video', 'vessel video', 'vehicle detection sequence', 'temporal relation video', 'pose estimation video', 'panoramic video sequence', '360° video', 'frame to frame alignment', 'sign language interpretation', 'av1 video', 'near infrared video', 'emotion inducing clip', 'repetitive action video', 'surveillance scene', 'cross view tracking video', 'sports clip', 'youtube video id', 'endoscopic video', 'calcium imaging', 'internet archive video', 'ted talk presentation', 'face video sequence', 'face spoofing attempt', 'animal video clip', 'environmental context', 'dance move', 'fetoscopic procedure video', 'whole body video', 'aerial footage', 'eye blink video', 'exocentric video', 'color scale variation', 'frontal video', 'face presentation attack', 'native video', 'multi camera footage', 'soccer game footage', 'bounding box annotation', 'ad video', 'underwater scene', 'pedestrian and bicyclist trajectory', 'pixel level instance segmentation', 'profile view speech', 'synthetic video', 'normal video sequence', 'monocular video', 'spatio temporal video segment', 'time lapse video clip', 'scene diversity', 'synthetic video sequence', 'identity document video', 'segmented baseball activity', 'egocentric videos without gaze overlay', '4k burst video clip', 'fireworks scene', 'social interaction video', 'walk sequence', 'road accident video', 'flood video', 'fall label', 'conveyor belt video frame', 'educational multimedia', 'object trajectory', 'car sequence', '3d micro gesture video', 'gesture recognition', 'synchronized event', 'egocentric task video', 'altered video', 'seizure video snippet', 'tv program', 'fake video', 'low resolution surveillance video', 'glasshouse environment', 'workout activity', 'participant video', 'asl video', 'third person view', 'stereo wildlife video', 'emotional narrative', 'volumetric stereo refinement', 'synthesized scene video', 'driving simulation', 'ultrasound video', 'first person hand action video', 'complex web video', 'drone video clip', 'muted video', 'sub action sequence', '4d interaction sequence', 'fractal volume map', 'camera calibration sequence', 'facial attribute', 'human gesture sequence', 'instructional video segment', 'animation video', 'endoscopic surgery video', 'high speed video', 'workshop recording', 'real estate video clip', 'impaired video sequence', 'how to video', 'query video', 'car simulation video', 'badminton action', 'zebrafish sequence', 'object detection annotation', 'video comprehension', 'everyday object motion', 'cell migration video', '8k video sequence', 'flower scene', 'human action', 'snowy video', 'emotional scene', 'lifelogging video', 'activity sequence', 'face editing video', 'annotated video', 'dynamic content', 'scenario animation', 'dynamic ad', 'real life activity', 'animal activity video', 'video with diverse distortion', 'frontal view speech', 'audio visual scene', 'robot motion demonstration', 'colonoscopy video clip', 'video object segmentation', 'semantic salient instance video', 'driving simulation replay', 'aerial video', 'synthetic fisheye sequence', 'video segmentation', 'simulated human activity', 'creative commons video', 'multi view dance video', 'robot control simulation', 'temporally annotated activity segment', 'human human interaction', 'traffic flow simulation', 'hand object interaction', 'sports action', 'rotation', 'vibration', 'educational video', 'object detection', 'autonomous vehicle road event', 'drone surveillance video', 'nighttime uav tracking sequence', 'human evaluation video', 'robot behavior video', 'change detection scene', 'exercise video', 'pedestrian trajectory', 'pathological findings video', 'gray video', 'tv series episode', 'video prediction output', 'localized narrative', 'high dynamic range', 'celebrity face video', 'user chaptered video', 'human object human interaction', 'sports action video', 'satellite video', 'train station surveillance', 'lipreading video', 'dance video', 'enhanced video', 'camera motion sequence', 'text video', 'bona fide presentation', 'ground truth video sequence', 'human robot interaction', 'human activity', 'micro gesture video', 'fire scene', 'facial animation', 'eye tracking video', 'long video', 'teleconferencing scene', 'object motion video', 'planar object tracking', 'animated sequence', 'animal behavior segment', 'sport stream', 'movie and tv series summary', 'extreme condition video', 'isolated sign demonstration', 'driving video', 'family video', 'aero engine blade video', 'blurred video frame', 'funny skit', 'movement representation', 'corrected video', 'driving videos', 'document capture', 'web video', 'face swapping video', 'illumination change', 'cover frame', 'sound source localization video', 'video saliency', 'debate video', 'third person perspective', 'vehicle mounted video', 'first person binocular video', 'monochrome camera stream', 'temporal forgery segment label', 'tour guide scenario video', 'animation sequence', 'drama video', 'action clip', 'social activity video', 'cooking technique video', 'crowd level', 'pseudoscience video', 'tv show', 'motion capture frame', 'cooking demonstration', 'tv and movie drama', 'shot segmentation', 'cooking video', 'exercise error', 'golf swing sequence', 'movie clip', 'trick shot', 'attack face video', 'diving performance', '2d facial expression video', 'everyday interaction', 'distractor sequence', 'phase contrast video', 'vehicle tracking sequence', 'procedural activity video', 'object centric video clip', 'face anti spoofing', 'monocular rgb video', 'science video', 'burglary video', 'drone flight simulation', 'ai generated video', 'comedy', 'continuous fetoscopic video clip', 'sewer inspection video', 'movement', 'synthetic 4d light field video', 'audiovisual action event', 'calendar sequence', 'traffic accident footage', 'frame rate variation', 'apartment tour video', 'pedestrian detection', 'video segment', 'sky video footage', 'music performance video', 'robot manipulation task', 'dynamic hand gesture', 'aerial view video', 'human close up video', 'human body pose', 'personal narrative video', 'color frame', 'fight sequence', 'violent video scene', 'indoor video', 'pet video', 'lifestyle video', 'pedestrian tracking video', 'self shot video', 'movie trailer', 'procedure video', 'evacuation simulation', 'episode scene', 'infrared spectrum video', 'presentation attack video', 'movement trajectory', 'robot navigation video', 'algorithm demonstration video', 'road facing camera footage', 'human task demonstration video', 'lip movement video', 'reference video', 'reflection scene', 'multi view recording', 'fingertip video', 'environment video', 'group dance video', 'creative/generative question answer', 'snow free video', 'activity recognition video', 'violence situation', 'object recognition video', 'varied frame rate video', 'source to target reenactment video', 'degraded video', 'scene variety', 'co speech gesture', 'movie production scene', 'multi person interaction video', 'riding scene', 'social group interaction', 'laparoscopic surgery video', 'noisy video', '3d environment interaction', 'drone footage', 'multi view synchronized footage', 'human robot interaction scene', 'outdoor scene', 'egocentric video snippet', 'robot football gameplay', 'object detection video', 'political speech video', 'maritime obstacle video', 'soccer game segment', 'dialogue', 'driving scene', 'scene video frame', 'video quality attribute', 'news video', 'everyday event video', 'lifestyle vlog', 'crowded environment video', 'multi person sports video', 'video caption pair', 'gaming action', 'academic lecture', 'genuine face video', 'motion video', 'real life scenario', 'self driving car vehicle motion prediction', 'hd videos', 'video sequence', 'unusual action', 'group behavior video', 'human motion video', 'dynamic outdoor scene', 'attribute', 'walking video', 'self sung song', 'real world scene', 'diverse content video', 'garment flattening video', 'annotated frame', 'cartoon video clip', 'interaction sequence', 'outdoor environment', 'campus surveillance', 'television drama clip', 'distorted video sequence', 'collusive video', 'sign language conversation', 'block stacking attempt', 'generated video', 'motion pattern', 'indoor scene video', 'complex background motion', 'sign language video', 'uav footage', 'drowsiness detection', 'brand videos', 'guitar playing technique', 'hockey fight sequence', 'cultural expression video', 'outdoor video', 'gun detection', 'assembly video', 'road user trajectory', 'sports highlight', 'actor action segmentation', 'live caption clip', 'depth map', 'household task video', 'vehicle trajectory', 'traffic video clip', 'medical educational video', 'cattle action video', 'person recognition', 'stereo camera video', 'thermal infrared video', 'indoor dynamic scene', 'pedestrian tracking', 'driving scenario', 'theater play recording', 'error execution video', 'emotional speech video', 'student activity video', 'cattle behavior video', 'open domain video', 'human subject', 'real footage', 'synthetically degraded video', 'normal scenario video', 'video frame', 'tracking sequence', 'violence detection scene', 'educational content video', 'scene', 'regions of interest', 'distorted and blurry video', 'drone and bird detection video', 'slide presentation', 'eye tracking camera stream', 'diverse scenario', 'highlight clip', 'people interaction', 'resolution variation', 'singing performance', 'movie and tv show video', 'handheld sequence', 'hand presence', 'motorcycle traffic video', 'highlight annotation', 'multi person scene', 'multi viewpoint video', 'action step video', 'ego vehicle interaction', 'fall', 'exocentric demonstration video', 'gameplay video', 'football highlight', 'full length movie video', 'face anti spoofing video', 'aerial event video', 'demonstration video', 'gameplay footage', 'live streamed video', 'robotic surgical procedure', 'competition highlight', 'crowded scene', 'martial arts stunt', 'environmental variation', 'video based dialogue', 'movie', 'self stimulatory behavior video', 'navigation video', 'shared video', 'non fight sequence', 'motion style', 'unpatterned texture video', 'anatomical landmark', 'egocentric video sequence', 'actor action video', 'video engagement', 'egocentric kitchen video', 'stereoscopic video', 'indoor activity video', 'object video', 'foreground video clip', 'walking sequence', '4k video sequence', 'steady video', 'action recognition', 'binary mask clip', 'movie watching', 'face video', 'crossroad navigation', 'cartoon keyframe', 'instructional video', 'industrial bin picking scene', 'person re identification', 'scene transition', 'fall activity', 'adl activity', 'animal video', 'frame degradation', 'portrait video', 'rgb-d video', 'mouse grooming behavior', 'motion capture video', 'facial expression video clip', 'annotated videos', 'baseball game footage', 'multilingual video content', 'video explanation', 'movie spotlight', 'single-object tracking', 'party game', 'user generated content video', 'full body video', 'environmental video', 'video copy segment', 'task execution video', 'scene boundary', 'multi view rgb video', 'badminton match clip', 'third person video', 'event detection', 'skeleton based action', 'rare scene', 'entire face synthesis video', 'traffic scenario video', 'video instance segmentation', 'audio visual clip', 'retrieved video', 'video length', 'high resolution video sequence', 'street scene video', 'clothing style video', '45° view speech', 'subjective video content', 'mobile live video', 'story generation', 'social situation', 'film clip', 'single object tracking video', 'temporal action instance', 'motion capture recording', 'anomaly detection video', 'calibration video', 'source video', 'drum performance video', 'nonrigid object', 'object motion', 'cartoon animal movement', 'hazy video', 'tai chi performance', 'frontal face video', 'two person interaction', 'echocardiogram video', 'high frame rate video', 'spatio temporal scene', 'motion segmentation sequence', 'concept', 'task performance video', 'video portrait', 'celebrity walking video', 'video category', 'smooth landing', 'egocentric video frame', 'playing musical instrument', 'robotic workspace video', 'psychological interview video', 'sports movement', 'indoor environment', 'facial and body movement', 'robot demonstration', 'deepfake footage', 'video clip', 'annotated video segment', 'cardiac ultrasound video', 'state changing action', 'urban scene video', 'night city scene', 'depth video', 'real captured video', 'soccer clip', 'artistic performance', 'ir video', 'monocular video sequence', 'temporal video inpainting', 'pedestrian point of view road video', 'driving route video', 'surgical video', 'low light video', 'virtual scene', 'shooting drill', 'user generated video', 'live commerce clip', 'stereoscopic video frame', 'robotic laparoscopic hysterectomy video', 'people in static pose', 'temporal reasoning video', 'human tracking', 'music performance', 'user interaction video', 'traffic accident video', 'gaze estimation video', 'crowded real world video', 'sports activity video', 'top view video', 'parkour technique', 'driving video clip', 'product video', 'diving competition video', 'annotated video clip', 'video snippet', 'crowd video', 'tiger video shot', 'surgical procedure video', 'falling objects video', 'object tracking', 'heart blood flow recording', 'speaker presentation', 'crowd motion video', 'demonstration clip', 'screen recording', 'asl signing', 'robot trajectory', 'athlete movement', 'rgb-d video sequence', 'monologue', 'bsl interpretation', 'rppg video sequence', 'occlusion scenario', 'generic event', 'event scene', 'instructional video clip', 'challenge video', 'action movie fight sequence', 'game moment', 'magic video', 'everyday action', 'cartoon', 'multiple object tracking', 'insect movement video', 'first person monocular video', 'vertical video clip', 'wide view video', 'dance sequence', 'walking scene', '360° panoptic video', 'micro action video', 'fall sequence', 'robot navigation recording', 'robot task demonstration video', 'citywide traffic density', 'baseball game video', 'patient monitoring', 'full length video', 'action execution', 'multi view social interaction video', 'event video', 'person detection', 'pedestrian video clip', 'texture motion video', 'autonomous navigation video', 'video feature', 'blurred asl signing', 'dynamic scenes without camera motion', 'rgbd video', 'traffic surveillance video', 'gait recognition video', 'synthetic moving symbol', 'face detection', 'dynamic scene', 'social media video', 'action cycle annotation', 'multiview video sequence', 'instrument presence video', 'normal finding', 'control video', 'human actions with object', 'online video', 'table tennis stroke', 'anomalous motion', 'mobile video recording', 'aerial video sequence', 'colonoscopy video sequence', 'basketball highlight', '3d action sequence', '3d facial expression sequence', 'foliage sequence', 'low resolution activity', 'violence scene', 'multi object video', 'natural video', 'action unit', 'rgb camera stream', 'mjpg mode video', 'augmented soundscape stimulus', 'complex event', 'athlete action', 'scene video', 'binocular video sequence', 'finger movement video', 'omnidirectional camera footage', 'animal behavior', 'human object interaction', 'story continuation', 'encoded video', 'pedestrian video', 'live stream footage', 'video speeding', 'indoor and outdoor video', 'hevc video', 'deepfake video', 'crime scene', 'object tracking video', 'badminton match footage', 'motion sequence', 'movie summary video', 'privacy attribute', 'multi view human motion video', 'pistachio movement video', 'urban pipe inspection video', 'instructional cooking video', 'ted and tedx talk shot', 'multi view sequence', 'urban driving scenario', 'lip reading video', 'stereo video of people in orchard', 'real human activity', 'optical flow', 'pedestrian trajectory sequence', 'audio visual content', 'routine behavior', 'urban scene', 'youtube lifestyle vlog clip', 'pedestrian re identification', 'underwater video', 'single dancer video', 'sudden camera movement', 'distorted video', 'first person perspective', 'diverse body gesture', 'uav video', 'multi person pose video', 'video query', 'human motion', 'dashcam video', 'handheld video', 'ground video', 'spermatozoa recording', 'weaponized violence', 'fight scene', 'face presentation attack detection', 'highway driving scenario', 'music video', 'natural video sequence', 'urban road video frame', 'opinion video clip', 'class balanced video', 'object annotation', 'anomaly video sequence', 'indoor navigation sequence', 'camera view', 'surgical skill video', 'fail', 'character scene', 'training session video', 'documentary video', 'news broadcast', 'traffic video sequence', 'indoor sequences', 'video advertisement', 'human video', 'video annotation', 'wildlife tracking video', 'anomalous event', 'high resolution video clip', 'facial expression sequence', 'synthetic human gesture video', 'asl sign video', 'human behavior', 'store surveillance video', 'urban street scene video', 'armed robbery', 'animal action', 'exercise demonstration', 'uav tracking video', 'action recognition clip', 'human action sequence', 'traffic lane video', 'thermal video', 'annotated video frame', 'playing instrument', 'non violence situation', 'urban environment time lapse', 'street crossing video', 'crowd scene', 'first person video clip', 'eye state video frame', 'video url', 'first person interaction', 'dental procedure video', 'sound source video', 'biking video', 'annotated event', 'live event clip', 'human robot interaction scenario', 'subject reaction', 'wildlife documentary', 'manipulated video', 'screencast tutorial', 'face reenactment video', 'stereo cylindrical 360° rgb video', 'normal light video', 'fallen person video', 'dance motion', 'hand gesture video', 'egocentric video', 'un annotated frame', 'scientific video lecture', 'human centric scene', 'hand trajectory', 'presentation attack', 'soccer match footage', 'multi object tracking video', 'text to video', 'robot operation video', 'youtube video', 'action scene', 'anomaly event', 'internet wins fail']\n",
            "Removing duplicate: 3d point cloud from data_types ['scene point cloud', 'traffic scene', 'object point cloud', 'partial point cloud', 'internal sensor failure', 'aerial lidar scan', 'lidar point cloud', 'external disturbance', 'static environment point cloud', '3d object model', 'ground lidar scan', '3d human motion', 'urban scene', 'kitchen object annotation', 'building structure', 'clean ground truth point cloud', 'gt point cloud', 'adverse weather condition', 'forest structure', 'environment mapping', 'urban landscape point', 'lidar scan', 'real world lidar point cloud', 'underground utility', 'forest point cloud', '3d point cloud', 'industrial product model', 'urban environment', 'velodyne scan', 'panoptic labeled 3d point cloud', 'velodyne scan frame', 'hand 3d point cloud', 'indoor environment scan', 'environmental point cloud', 'indoor scene point cloud', 'lidar point cloud frame', 'object classification', 'urban outdoor environment', '3d bounding box', 'synthetic lidar point cloud', 'cherry tree structure', 'semantic annotation', 'noisy point cloud', 'geometrical terrain', 'architectural structure', 'high resolution 3d point cloud', 'part segmentation', 'time varying geometry', 'real 3d point cloud', 'synthetic 3d point cloud', 'warehouse 3d mapping', 'semantic segmentation label']\n",
            "Removing duplicate: graph from data_types ['concept graph', 'protein protein interaction network', 'knowledge graph path', 'point pattern graph', 'heterogeneous academic graph', 'molecular_structure', 'citation relation', 'colored graph', 'multi modal relationship', 'undirected graph', 'co purchasing network', 'static feature', 'graph data structure', '2-hop subgraph', 'protein structure', 'amr graph', 'dynamic feature', 'polymer graph', 'node feature', 'protein protein interaction graph', 'user node', 'user friendship network', 'navigation graph', 'drug drug interaction network', 'network topology', 'graph regression', 'also_bought_graph', 'access graph', 'iam graph', 'entity', 'temporal link', 'synthetic graph', 'synthetic network', 'rdf star graph', 'graph classification dataset', 'biological network', 'structured datatype', 'impedance curve', 'ontology edge', 'activity data', 'transaction network', 'knowledge graph entity', 'isomorphic graph', 'personal memory graph', 'user interaction graph', 'social network', 'graph label', 'house motif', 'dependency graph', 'scene graph', 'citation relationships', 'graph topology', 'film network', 'interaction network', 'neural network architecture', 'edge classification', 'protein interaction network', 'node', 'community subgraph', 'benchmark graph', 'edge', 'online review', 'character co occurrence graph', 'hard negative triple', 'graph kernel', 'quantum chemistry graph', 'tsp instance', 'hcp instance', 'node connection', 'autonomous system', 'network statistic', 'convolutional architecture graph', 'community membership list', 'amazon network', 'subgraph counting', 'communication network', 'vascular graph', 'entity graph', 'graph generation pipeline', 'future link prediction', 'negative triple', 'ethereum interaction graph', 'ontology node', 'cybersecurity knowledge graph', 'citation network structure', 'link prediction', 'citation graph', 'knowledge graph embedding', 'molecular graph', 'flow graph', 'ttl knowledge graph', 'discussion graph', 'graph structure', 'temporal knowledge graph', 'synthetic game graph', 'simplicial complex', 'cell graph', 'ego network', 'station network graph', 'international relations network', 'project graph', 'molecular compound', 'road network', 'graph', 'chemical compound graph', 'spatial graph', 'hierarchical structure', 'discussion thread', 'internet network', 'destination node retrieval', 'genre edge', 'chemical compound structure', 'page page graph', 'cross link', 'rdf triple', 'citation link', 'user item graph', 'social network graph', 'user action', 'community structure', 'graph data', 'heterogeneous graph structure', 'paper node', 'collaboration network', 'five node cycle', 'institution node', 'network structure', 'interaction graph', 'evaluation graph', 'temporal network', 'situated hypergraph', 'directed acyclic graph', 'and inverter graph', 'time interval graph', 'actor/actress network', 'spatial link', 'dynamic protein protein interaction network', 'online community', 'program dependence graph', 'also_viewed_graph', 'computational graph', 'financial transaction graph', 'geometric constraint graph', 'time evolving graph', 'domain node', 'news propagation network', 'product link', 'heterogeneous node', 'visual graph structure', 'also bought graph', 'film node', 'entity relationship', 'graph classification', 'hypergraph structure', 'hyperedge', 'user relationships', 'directed edge', 'face to face communication network', 'node attribute', 'knowledge graph triple', 'node classification', 'edge list', 'polarization curve', 'nanomaterial structure', 'connected component', 'location based social network', 'chemical structure graph', 'temporal graph snapshot', 'wikipedia network', 'page page network', 'social link', 'triangulations of surface', 'supply chain network', 'edge feature', 'function call graph', 'triangle', 'connectivity network', 'drug protein interaction network', 'user rule graph', 'conjunction graph', 'knowledge graph', 'kg structure', 'merge tree', 'also viewed graph', 'hypergraph', 'comment graph', 'molecular structure', 'web graph', 'co purchase graph', 'sensor network graph', 'author node', 'knowledge graph structure', 'analog circuit graph', 'film connection', 'track instance', 'chemical structure', 'wind farm graph', 'twitter and memetracker', 'real world graph', 'heterogeneous graph', 'intermediate table', 'detailed graph representation', 'co authorship network', 'multi relation graph', 'post to post connection', 'training graph', 'signed network', 'actor network', 'input graph', 'ground truth community', 'benchmark scenario', 'triangulations of manifold', 'follower network', 'node category', 'lattice diagram', 'webgraph', 'version control snapshot', 'citation network', 'network graph', 'geo referenced graph', 'weighted correlation', 'page link', 'catalyst graph', 'road network graph', 'semantic graph']\n",
            "Removing duplicate: event stream from data_types ['event stream']\n",
            "Removing duplicate: depth map from data_types ['cityscapes depth map', 'depth map', 'projected depth map']\n",
            "Removing duplicate: camera pose from data_types ['camera pose']\n",
            "Removing duplicate: camera parameter from data_types ['camera parameter']\n",
            "Removing duplicate: spatial relation from data_types ['spatial relation']\n",
            "Removing duplicate: grounding from data_types ['grounding']\n"
          ]
        }
      ],
      "source": [
        "# load the file -> \"merged_modalities_data_types.json\"\n",
        "with open('merged_modalities_data_types.json', 'r') as file:\n",
        "    data = json.load(file)\n",
        "\n",
        "# Iterate through the data and remove duplicate entries from 'data_types'\n",
        "for entry in data:\n",
        "    modality = entry['modality'].lower()\n",
        "    data_types = [dt.lower() for dt in entry['data_types']]\n",
        "\n",
        "    # Remove the modality from the data_types if it exists\n",
        "    if modality in data_types:\n",
        "        print(f\"Removing duplicate: {modality} from data_types {data_types}\")\n",
        "        entry['data_types'] = [dt for dt in data_types if dt != modality]\n",
        "\n",
        "# Save the updated JSON data back to the file\n",
        "with open('merged_modalities_data_types_cleaned.json', 'w') as file:\n",
        "    json.dump(data, file, indent=4)"
      ]
    },
    {
      "cell_type": "markdown",
      "metadata": {
        "id": "dpmwjId21Pkm"
      },
      "source": [
        "## Verify the QIDs for All Identified Modalities and Datatypes"
      ]
    },
    {
      "cell_type": "code",
      "execution_count": null,
      "metadata": {
        "id": "fNn0wr0Y-RHF"
      },
      "outputs": [],
      "source": [
        "# Wikidata SPARQL endpoint\n",
        "SPARQL_ENDPOINT = \"https://query.wikidata.org/sparql\"\n",
        "\n",
        "# From label get qid\n",
        "def get_qid(label):\n",
        "    \"\"\"Get the QID of an entity based on its label.\"\"\"\n",
        "    time.sleep(1)\n",
        "    logging.info(f\"Fetching QID for label: {label}\")\n",
        "    query = f\"\"\"\n",
        "    SELECT ?entity WHERE {{\n",
        "      ?entity rdfs:label \"{label}\"@en.\n",
        "      FILTER (STRSTARTS(STR(?entity), \"http://www.wikidata.org/entity/Q\"))\n",
        "    }}\n",
        "    LIMIT 1\n",
        "    \"\"\"\n",
        "    sparql = SPARQLWrapper(SPARQL_ENDPOINT)\n",
        "    sparql.setQuery(query)\n",
        "    sparql.setReturnFormat(JSON)\n",
        "    results = sparql.query().convert()\n",
        "\n",
        "    if results[\"results\"][\"bindings\"]:\n",
        "        qid = results[\"results\"][\"bindings\"][0][\"entity\"][\"value\"].split(\"/\")[-1]\n",
        "        logging.info(f\"Found QID for {label}: {qid}\")\n",
        "        return qid\n",
        "    else:\n",
        "        logging.warning(f\"No QID found for label: {label}\")\n",
        "    return None"
      ]
    },
    {
      "cell_type": "code",
      "execution_count": null,
      "metadata": {
        "colab": {
          "base_uri": "https://localhost:8080/"
        },
        "id": "07boIlvc1Y7q",
        "outputId": "1c53c87f-0ce5-4c32-cb98-62c034a8973b"
      },
      "outputs": [
        {
          "name": "stderr",
          "output_type": "stream",
          "text": [
            "WARNING:root:No QID found for label: satellite view\n",
            "WARNING:root:Label 'satellite view' does not have a corresponding QID.\n",
            "WARNING:root:No QID found for label: satellite view\n",
            "WARNING:root:Label 'satellite view' does not have a corresponding QID.\n",
            "WARNING:root:No QID found for label: Hyperspectral imaging\n",
            "WARNING:root:Label 'Hyperspectral imaging' does not have a corresponding QID.\n",
            "WARNING:root:No QID found for label: Hyperspectral imaging\n",
            "WARNING:root:Label 'Hyperspectral imaging' does not have a corresponding QID.\n",
            "WARNING:root:No QID found for label: Hyperspectral imaging\n",
            "WARNING:root:Label 'Hyperspectral imaging' does not have a corresponding QID.\n",
            "WARNING:root:No QID found for label: Hyperspectral imaging\n",
            "WARNING:root:Label 'Hyperspectral imaging' does not have a corresponding QID.\n",
            "WARNING:root:No QID found for label: CT scan\n",
            "WARNING:root:Label 'CT scan' does not have a corresponding QID.\n",
            "WARNING:root:No QID found for label: CT scan\n",
            "WARNING:root:Label 'CT scan' does not have a corresponding QID.\n",
            "WARNING:root:No QID found for label: CT scan\n",
            "WARNING:root:Label 'CT scan' does not have a corresponding QID.\n",
            "WARNING:root:No QID found for label: CT scan\n",
            "WARNING:root:Label 'CT scan' does not have a corresponding QID.\n",
            "WARNING:root:No QID found for label: CT scan\n",
            "WARNING:root:Label 'CT scan' does not have a corresponding QID.\n",
            "WARNING:root:No QID found for label: seabed imagery \n",
            "WARNING:root:Label 'seabed imagery ' does not have a corresponding QID.\n",
            "WARNING:root:No QID found for label: seabed imagery \n",
            "WARNING:root:Label 'seabed imagery ' does not have a corresponding QID.\n",
            "WARNING:root:No QID found for label: seabed imagery \n",
            "WARNING:root:Label 'seabed imagery ' does not have a corresponding QID.\n",
            "WARNING:root:No QID found for label: seabed imagery \n",
            "WARNING:root:Label 'seabed imagery ' does not have a corresponding QID.\n",
            "WARNING:root:No QID found for label: seabed imagery \n",
            "WARNING:root:Label 'seabed imagery ' does not have a corresponding QID.\n",
            "WARNING:root:No QID found for label: seabed imagery \n",
            "WARNING:root:Label 'seabed imagery ' does not have a corresponding QID.\n",
            "WARNING:root:No QID found for label: labeled data\n",
            "WARNING:root:Label 'labeled data' does not have a corresponding QID.\n",
            "WARNING:root:No QID found for label: labeled data\n",
            "WARNING:root:Label 'labeled data' does not have a corresponding QID.\n",
            "WARNING:root:No QID found for label: labeled data\n",
            "WARNING:root:Label 'labeled data' does not have a corresponding QID.\n",
            "WARNING:root:No QID found for label: labeled data\n",
            "WARNING:root:Label 'labeled data' does not have a corresponding QID.\n",
            "WARNING:root:No QID found for label: labeled data\n",
            "WARNING:root:Label 'labeled data' does not have a corresponding QID.\n",
            "WARNING:root:No QID found for label: labeled data\n",
            "WARNING:root:Label 'labeled data' does not have a corresponding QID.\n",
            "WARNING:root:No QID found for label: labeled data\n",
            "WARNING:root:Label 'labeled data' does not have a corresponding QID.\n",
            "WARNING:root:No QID found for label: Astrophotography\n",
            "WARNING:root:Label 'Astrophotography' does not have a corresponding QID.\n",
            "WARNING:root:No QID found for label: Astrophotography\n",
            "WARNING:root:Label 'Astrophotography' does not have a corresponding QID.\n",
            "WARNING:root:No QID found for label: Astrophotography\n",
            "WARNING:root:Label 'Astrophotography' does not have a corresponding QID.\n",
            "WARNING:root:No QID found for label: Astrophotography\n",
            "WARNING:root:Label 'Astrophotography' does not have a corresponding QID.\n",
            "WARNING:root:No QID found for label: Astrophotography\n",
            "WARNING:root:Label 'Astrophotography' does not have a corresponding QID.\n",
            "WARNING:root:No QID found for label: grayscale image\n",
            "WARNING:root:Label 'grayscale image' does not have a corresponding QID.\n",
            "WARNING:root:No QID found for label: grayscale image\n",
            "WARNING:root:Label 'grayscale image' does not have a corresponding QID.\n",
            "WARNING:root:No QID found for label: marine life \n",
            "WARNING:root:Label 'marine life ' does not have a corresponding QID.\n",
            "WARNING:root:No QID found for label: marine life \n",
            "WARNING:root:Label 'marine life ' does not have a corresponding QID.\n",
            "WARNING:root:No QID found for label: marine life \n",
            "WARNING:root:Label 'marine life ' does not have a corresponding QID.\n",
            "WARNING:root:No QID found for label: marine life \n",
            "WARNING:root:Label 'marine life ' does not have a corresponding QID.\n",
            "WARNING:root:No QID found for label: marine life \n",
            "WARNING:root:Label 'marine life ' does not have a corresponding QID.\n",
            "WARNING:root:No QID found for label: signboard\n",
            "WARNING:root:Label 'signboard' does not have a corresponding QID.\n",
            "WARNING:root:No QID found for label: signboard\n",
            "WARNING:root:Label 'signboard' does not have a corresponding QID.\n",
            "WARNING:root:No QID found for label: instagram\n",
            "WARNING:root:Label 'instagram' does not have a corresponding QID.\n",
            "WARNING:root:No QID found for label: instagram\n",
            "WARNING:root:Label 'instagram' does not have a corresponding QID.\n",
            "WARNING:root:No QID found for label: instagram\n",
            "WARNING:root:Label 'instagram' does not have a corresponding QID.\n",
            "WARNING:root:No QID found for label: industrial product\n",
            "WARNING:root:Label 'industrial product' does not have a corresponding QID.\n",
            "WARNING:root:No QID found for label: industrial product\n",
            "WARNING:root:Label 'industrial product' does not have a corresponding QID.\n",
            "WARNING:root:No QID found for label: industrial product\n",
            "WARNING:root:Label 'industrial product' does not have a corresponding QID.\n",
            "WARNING:root:No QID found for label: surface normal\n",
            "WARNING:root:Label 'surface normal' does not have a corresponding QID.\n",
            "WARNING:root:No QID found for label: surface normal\n",
            "WARNING:root:Label 'surface normal' does not have a corresponding QID.\n",
            "WARNING:root:No QID found for label: grocery\n",
            "WARNING:root:Label 'grocery' does not have a corresponding QID.\n",
            "WARNING:root:No QID found for label: grocery\n",
            "WARNING:root:Label 'grocery' does not have a corresponding QID.\n",
            "WARNING:root:No QID found for label: grocery\n",
            "WARNING:root:Label 'grocery' does not have a corresponding QID.\n",
            "WARNING:root:No QID found for label: printed object\n",
            "WARNING:root:Label 'printed object' does not have a corresponding QID.\n",
            "WARNING:root:No QID found for label: printed object\n",
            "WARNING:root:Label 'printed object' does not have a corresponding QID.\n",
            "WARNING:root:No QID found for label: printed object\n",
            "WARNING:root:Label 'printed object' does not have a corresponding QID.\n",
            "WARNING:root:No QID found for label: gastrointestinal polyp\n",
            "WARNING:root:Label 'gastrointestinal polyp' does not have a corresponding QID.\n",
            "WARNING:root:No QID found for label: gastrointestinal polyp\n",
            "WARNING:root:Label 'gastrointestinal polyp' does not have a corresponding QID.\n",
            "WARNING:root:No QID found for label: infographic\n",
            "WARNING:root:Label 'infographic' does not have a corresponding QID.\n",
            "WARNING:root:No QID found for label: infographic\n",
            "WARNING:root:Label 'infographic' does not have a corresponding QID.\n",
            "WARNING:root:No QID found for label: grocery\n",
            "WARNING:root:Label 'grocery' does not have a corresponding QID.\n",
            "WARNING:root:No QID found for label: grocery\n",
            "WARNING:root:Label 'grocery' does not have a corresponding QID.\n",
            "WARNING:root:No QID found for label: chronic intestinal pseudo-obstruction\n",
            "WARNING:root:Label 'chronic intestinal pseudo-obstruction' does not have a corresponding QID.\n",
            "WARNING:root:No QID found for label: chronic intestinal pseudo-obstruction\n",
            "WARNING:root:Label 'chronic intestinal pseudo-obstruction' does not have a corresponding QID.\n",
            "WARNING:root:No QID found for label: safety equipment\n",
            "WARNING:root:Label 'safety equipment' does not have a corresponding QID.\n",
            "WARNING:root:No QID found for label: safety equipment\n",
            "WARNING:root:Label 'safety equipment' does not have a corresponding QID.\n",
            "WARNING:root:No QID found for label: body-worn camera\n",
            "WARNING:root:Label 'body-worn camera' does not have a corresponding QID.\n",
            "WARNING:root:No QID found for label: body-worn camera\n",
            "WARNING:root:Label 'body-worn camera' does not have a corresponding QID.\n",
            "WARNING:root:No QID found for label: pavement\n",
            "WARNING:root:Label 'pavement' does not have a corresponding QID.\n",
            "WARNING:root:No QID found for label: pavement\n",
            "WARNING:root:Label 'pavement' does not have a corresponding QID.\n",
            "WARNING:root:No QID found for label: gastric cancer\n",
            "WARNING:root:Label 'gastric cancer' does not have a corresponding QID.\n",
            "WARNING:root:No QID found for label: gastric cancer\n",
            "WARNING:root:Label 'gastric cancer' does not have a corresponding QID.\n",
            "WARNING:root:No QID found for label: blood smear\n",
            "WARNING:root:Label 'blood smear' does not have a corresponding QID.\n",
            "WARNING:root:No QID found for label: blood smear\n",
            "WARNING:root:Label 'blood smear' does not have a corresponding QID.\n",
            "WARNING:root:No QID found for label: blood smear\n",
            "WARNING:root:Label 'blood smear' does not have a corresponding QID.\n",
            "WARNING:root:No QID found for label: blood smear\n",
            "WARNING:root:Label 'blood smear' does not have a corresponding QID.\n",
            "WARNING:root:No QID found for label: blood smear\n",
            "WARNING:root:Label 'blood smear' does not have a corresponding QID.\n",
            "WARNING:root:No QID found for label: blood smear\n",
            "WARNING:root:Label 'blood smear' does not have a corresponding QID.\n",
            "WARNING:root:No QID found for label: blood smear\n",
            "WARNING:root:Label 'blood smear' does not have a corresponding QID.\n",
            "WARNING:root:No QID found for label: daily life\n",
            "WARNING:root:Label 'daily life' does not have a corresponding QID.\n",
            "WARNING:root:No QID found for label: daily life\n",
            "WARNING:root:Label 'daily life' does not have a corresponding QID.\n",
            "WARNING:root:No QID found for label: 360° video\n",
            "WARNING:root:Label '360° video' does not have a corresponding QID.\n",
            "WARNING:root:No QID found for label: 360° video\n",
            "WARNING:root:Label '360° video' does not have a corresponding QID.\n",
            "WARNING:root:No QID found for label: clinical outcome\n",
            "WARNING:root:Label 'clinical outcome' does not have a corresponding QID.\n",
            "WARNING:root:No QID found for label: clinical outcome\n",
            "WARNING:root:Label 'clinical outcome' does not have a corresponding QID.\n",
            "WARNING:root:No QID found for label: clinical outcome\n",
            "WARNING:root:Label 'clinical outcome' does not have a corresponding QID.\n",
            "WARNING:root:No QID found for label: clinical outcome\n",
            "WARNING:root:Label 'clinical outcome' does not have a corresponding QID.\n",
            "WARNING:root:No QID found for label: identified patient\n",
            "WARNING:root:Label 'identified patient' does not have a corresponding QID.\n",
            "WARNING:root:No QID found for label: identified patient\n",
            "WARNING:root:Label 'identified patient' does not have a corresponding QID.\n",
            "WARNING:root:No QID found for label: clinical guideline\n",
            "WARNING:root:Label 'clinical guideline' does not have a corresponding QID.\n",
            "WARNING:root:No QID found for label: clinical guideline\n",
            "WARNING:root:Label 'clinical guideline' does not have a corresponding QID.\n",
            "WARNING:root:No QID found for label: Q1754874\n",
            "WARNING:root:Label 'Q1754874' does not have a corresponding QID.\n",
            "WARNING:root:No QID found for label: Q1754874\n",
            "WARNING:root:Label 'Q1754874' does not have a corresponding QID.\n",
            "WARNING:root:No QID found for label: Wind simulation\n",
            "WARNING:root:Label 'Wind simulation' does not have a corresponding QID.\n",
            "WARNING:root:No QID found for label: Wind simulation\n",
            "WARNING:root:Label 'Wind simulation' does not have a corresponding QID.\n",
            "WARNING:root:No QID found for label: Wind simulation\n",
            "WARNING:root:Label 'Wind simulation' does not have a corresponding QID.\n",
            "WARNING:root:No QID found for label: Wind simulation\n",
            "WARNING:root:Label 'Wind simulation' does not have a corresponding QID.\n",
            "WARNING:root:No QID found for label: Wind simulation\n",
            "WARNING:root:Label 'Wind simulation' does not have a corresponding QID.\n",
            "WARNING:root:No QID found for label: Atomic action\n",
            "WARNING:root:Label 'Atomic action' does not have a corresponding QID.\n",
            "WARNING:root:No QID found for label: Atomic action\n",
            "WARNING:root:Label 'Atomic action' does not have a corresponding QID.\n",
            "WARNING:root:No QID found for label: Video Explosion\n",
            "WARNING:root:Label 'Video Explosion' does not have a corresponding QID.\n",
            "WARNING:root:No QID found for label: Video Explosion\n",
            "WARNING:root:Label 'Video Explosion' does not have a corresponding QID.\n",
            "WARNING:root:No QID found for label: Creative Video\n",
            "WARNING:root:Label 'Creative Video' does not have a corresponding QID.\n",
            "WARNING:root:No QID found for label: Creative Video\n",
            "WARNING:root:Label 'Creative Video' does not have a corresponding QID.\n",
            "WARNING:root:No QID found for label: Video Touring\n",
            "WARNING:root:Label 'Video Touring' does not have a corresponding QID.\n",
            "WARNING:root:No QID found for label: Video Touring\n",
            "WARNING:root:Label 'Video Touring' does not have a corresponding QID.\n",
            "WARNING:root:No QID found for label: image caption\n",
            "WARNING:root:Label 'image caption' does not have a corresponding QID.\n",
            "WARNING:root:No QID found for label: image caption\n",
            "WARNING:root:Label 'image caption' does not have a corresponding QID.\n",
            "WARNING:root:No QID found for label: image caption\n",
            "WARNING:root:Label 'image caption' does not have a corresponding QID.\n",
            "WARNING:root:No QID found for label: image caption\n",
            "WARNING:root:Label 'image caption' does not have a corresponding QID.\n",
            "WARNING:root:No QID found for label: image caption\n",
            "WARNING:root:Label 'image caption' does not have a corresponding QID.\n",
            "WARNING:root:No QID found for label: image caption\n",
            "WARNING:root:Label 'image caption' does not have a corresponding QID.\n",
            "WARNING:root:No QID found for label: image caption\n",
            "WARNING:root:Label 'image caption' does not have a corresponding QID.\n",
            "WARNING:root:No QID found for label: stereo camera \n",
            "WARNING:root:Label 'stereo camera ' does not have a corresponding QID.\n",
            "WARNING:root:No QID found for label: stereo camera \n",
            "WARNING:root:Label 'stereo camera ' does not have a corresponding QID.\n",
            "WARNING:root:No QID found for label: stereo camera \n",
            "WARNING:root:Label 'stereo camera ' does not have a corresponding QID.\n",
            "WARNING:root:No QID found for label: stereo camera \n",
            "WARNING:root:Label 'stereo camera ' does not have a corresponding QID.\n",
            "WARNING:root:No QID found for label: panoramic view\n",
            "WARNING:root:Label 'panoramic view' does not have a corresponding QID.\n",
            "WARNING:root:No QID found for label: panoramic view\n",
            "WARNING:root:Label 'panoramic view' does not have a corresponding QID.\n",
            "WARNING:root:No QID found for label: panoramic view\n",
            "WARNING:root:Label 'panoramic view' does not have a corresponding QID.\n",
            "WARNING:root:No QID found for label: panoramic view\n",
            "WARNING:root:Label 'panoramic view' does not have a corresponding QID.\n",
            "WARNING:root:No QID found for label: Advanced Video Coding \n",
            "WARNING:root:Label 'Advanced Video Coding ' does not have a corresponding QID.\n",
            "WARNING:root:No QID found for label: Advanced Video Coding \n",
            "WARNING:root:Label 'Advanced Video Coding ' does not have a corresponding QID.\n",
            "WARNING:root:No QID found for label: shsnowip\n",
            "WARNING:root:Label 'shsnowip' does not have a corresponding QID.\n",
            "WARNING:root:No QID found for label: shsnowip\n",
            "WARNING:root:Label 'shsnowip' does not have a corresponding QID.\n",
            "WARNING:root:No QID found for label: chest x-ray\n",
            "WARNING:root:Label 'chest x-ray' does not have a corresponding QID.\n",
            "WARNING:root:No QID found for label: weather conditions\n",
            "WARNING:root:Label 'weather conditions' does not have a corresponding QID.\n",
            "WARNING:root:No QID found for label: code comment\n",
            "WARNING:root:Label 'code comment' does not have a corresponding QID.\n",
            "WARNING:root:No QID found for label: bug report\n",
            "WARNING:root:Label 'bug report' does not have a corresponding QID.\n",
            "WARNING:root:No QID found for label: questionnaire response\n",
            "WARNING:root:Label 'questionnaire response' does not have a corresponding QID.\n",
            "WARNING:root:No QID found for label: stock price\n",
            "WARNING:root:Label 'stock price' does not have a corresponding QID.\n",
            "WARNING:root:No QID found for label: network packet\n",
            "WARNING:root:Label 'network packet' does not have a corresponding QID.\n",
            "WARNING:root:No QID found for label: ambient noise\n",
            "WARNING:root:Label 'ambient noise' does not have a corresponding QID.\n",
            "WARNING:root:No QID found for label: aerial imagery\n",
            "WARNING:root:Label 'aerial imagery' does not have a corresponding QID.\n",
            "WARNING:root:No QID found for label: sms message\n",
            "WARNING:root:Label 'sms message' does not have a corresponding QID.\n",
            "WARNING:root:No QID found for label: resting state fmri\n",
            "WARNING:root:Label 'resting state fmri' does not have a corresponding QID.\n",
            "WARNING:root:No QID found for label: jupyter notebook\n",
            "WARNING:root:Label 'jupyter notebook' does not have a corresponding QID.\n",
            "WARNING:root:No QID found for label: sports action\n",
            "WARNING:root:Label 'sports action' does not have a corresponding QID.\n",
            "WARNING:root:No QID found for label: artistic style\n",
            "WARNING:root:Label 'artistic style' does not have a corresponding QID.\n",
            "WARNING:root:No QID found for label: lyric\n",
            "WARNING:root:Label 'lyric' does not have a corresponding QID.\n",
            "WARNING:root:No QID found for label: movie trailer\n",
            "WARNING:root:Label 'movie trailer' does not have a corresponding QID.\n",
            "WARNING:root:No QID found for label: web table\n",
            "WARNING:root:Label 'web table' does not have a corresponding QID.\n",
            "WARNING:root:No QID found for label: artwork\n",
            "WARNING:root:Label 'artwork' does not have a corresponding QID.\n",
            "WARNING:root:No QID found for label: location name\n",
            "WARNING:root:Label 'location name' does not have a corresponding QID.\n",
            "WARNING:root:No QID found for label: financial news\n",
            "WARNING:root:Label 'financial news' does not have a corresponding QID.\n",
            "WARNING:root:No QID found for label: instruction format\n",
            "WARNING:root:Label 'instruction format' does not have a corresponding QID.\n",
            "WARNING:root:No QID found for label: math problem\n",
            "WARNING:root:Label 'math problem' does not have a corresponding QID.\n",
            "WARNING:root:No QID found for label: analytical expression\n",
            "WARNING:root:Label 'analytical expression' does not have a corresponding QID.\n"
          ]
        }
      ],
      "source": [
        "# load the file -> \"wikidata_matched_full_NoIso.json\"\n",
        "def check_labels_in_wikidata(json_file):\n",
        "    \"\"\"Reads the json file and checks if each label has a QID.\"\"\"\n",
        "    with open(json_file, \"r\", encoding=\"utf-8\") as file:\n",
        "        data = json.load(file)\n",
        "\n",
        "    # Access the 'isolated_type' key in the data\n",
        "    isolated_types = data.get(\"clustered_types\", [])\n",
        "\n",
        "    # Loop through the data and get QID for each 'wikidata_label'\n",
        "    for item in isolated_types:\n",
        "        label = item.get(\"wikidata_label\")\n",
        "\n",
        "        if label:\n",
        "            qid = get_qid(label)\n",
        "            if not qid:\n",
        "                logging.warning(f\"Label '{label}' does not have a corresponding QID.\")\n",
        "        else:\n",
        "            logging.warning(\"No 'wikidata_label' found in item.\")\n",
        "\n",
        "json_file = \"wikidata_matched_full_NoIso.json\"\n",
        "check_labels_in_wikidata(json_file)"
      ]
    },
    {
      "cell_type": "code",
      "execution_count": null,
      "metadata": {
        "id": "IBkufJAComyP"
      },
      "outputs": [],
      "source": [
        "# From qid get label\n",
        "def get_label(qid):\n",
        "    \"\"\"Get the label of an entity based on its QID.\"\"\"\n",
        "    time.sleep(1)  # Respect rate limits\n",
        "    logging.info(f\"Fetching label for QID: {qid}\")\n",
        "\n",
        "    query = f\"\"\"\n",
        "    SELECT ?label WHERE {{\n",
        "      wd:{qid} rdfs:label ?label.\n",
        "      FILTER(LANG(?label) = \"en\")\n",
        "    }}\n",
        "    LIMIT 1\n",
        "    \"\"\"\n",
        "\n",
        "    sparql = SPARQLWrapper(SPARQL_ENDPOINT)\n",
        "    sparql.setQuery(query)\n",
        "    sparql.setReturnFormat(JSON)\n",
        "    results = sparql.query().convert()\n",
        "\n",
        "    if results[\"results\"][\"bindings\"]:\n",
        "        label = results[\"results\"][\"bindings\"][0][\"label\"][\"value\"]\n",
        "        logging.info(f\"Found label for {qid}: {label}\")\n",
        "        return label\n",
        "    else:\n",
        "        logging.warning(f\"No label found for QID: {qid}\")\n",
        "\n",
        "    return None"
      ]
    },
    {
      "cell_type": "code",
      "execution_count": null,
      "metadata": {
        "colab": {
          "base_uri": "https://localhost:8080/",
          "height": 35
        },
        "id": "u0eZUmSPozXS",
        "outputId": "92e85621-98ba-4b76-e35e-0f76825b76ff"
      },
      "outputs": [
        {
          "data": {
            "application/vnd.google.colaboratory.intrinsic+json": {
              "type": "string"
            },
            "text/plain": [
              "'satellite imagery'"
            ]
          },
          "execution_count": 18,
          "metadata": {},
          "output_type": "execute_result"
        }
      ],
      "source": [
        "get_label(\"Q725252\")"
      ]
    },
    {
      "cell_type": "markdown",
      "metadata": {
        "id": "snTGJ6_3pc4c"
      },
      "source": [
        "## Merge Modality and Datatypes into One File"
      ]
    },
    {
      "cell_type": "code",
      "execution_count": null,
      "metadata": {
        "colab": {
          "base_uri": "https://localhost:8080/"
        },
        "id": "j86yOU4pqmI4",
        "outputId": "45b0efd2-c7cc-4cfc-a0d3-d86cb5f66d7e"
      },
      "outputs": [
        {
          "name": "stdout",
          "output_type": "stream",
          "text": [
            "Extracted datatypes saved to datatypes_wikidata_matched_full.json\n"
          ]
        }
      ],
      "source": [
        "def extract_datatypes(input_file, output_file):\n",
        "    \"\"\"\n",
        "    Extract all data types from the input JSON file and save them to a list.\n",
        "\n",
        "    :param input_file: Path to the input JSON file (e.g., \"data.json\")\n",
        "    :param output_file: Path to the output file (e.g., \"datatypes.json\")\n",
        "    \"\"\"\n",
        "    # Load the input JSON file\n",
        "    with open(input_file, \"r\", encoding=\"utf-8\") as f:\n",
        "        data = json.load(f)\n",
        "\n",
        "    # Extract all datatypes from the \"isolated_type\" list\n",
        "    datatypes = [entry[\"datatype\"] for entry in data[\"clustered_types\"]]\n",
        "\n",
        "    # Save the extracted datatypes to the output file\n",
        "    with open(output_file, \"w\", encoding=\"utf-8\") as f:\n",
        "        json.dump(datatypes, f, indent=4)\n",
        "\n",
        "    print(f\"Extracted datatypes saved to {output_file}\")\n",
        "\n",
        "# Example usage\n",
        "input_file = \"wikidata_matched_full_NoIso_QIDok.json\"  # Path to the input JSON file\n",
        "output_file = \"datatypes_wikidata_matched_full.json\"  # Path to the output JSON file\n",
        "extract_datatypes(input_file, output_file)"
      ]
    },
    {
      "cell_type": "code",
      "execution_count": null,
      "metadata": {
        "colab": {
          "base_uri": "https://localhost:8080/"
        },
        "id": "VMPv_cKXpiVQ",
        "outputId": "cd0ed946-dcdc-4b29-e616-9d08a22f02ef"
      },
      "outputs": [
        {
          "name": "stdout",
          "output_type": "stream",
          "text": [
            "Filtered modalities saved to filtered_modalities_datatypes_full.json\n"
          ]
        }
      ],
      "source": [
        "def filter_and_save_modalities(input_modalities_file, input_datatypes_file, output_file):\n",
        "    \"\"\"\n",
        "    Filter the data types in the input modalities file based on the available data types\n",
        "    in the input datatypes file, and save the filtered result to a new output file.\n",
        "\n",
        "    :param input_modalities_file: Path to the merged modalities file (e.g., \"merged_modalities_data_types.json\")\n",
        "    :param input_datatypes_file: Path to the datatypes file (e.g., \"datatypes.json\")\n",
        "    :param output_file: Path to the output file (e.g., \"filtered_modalities.json\")\n",
        "    \"\"\"\n",
        "    # Load the merged modalities data (contains modalities and data types)\n",
        "    with open(input_modalities_file, \"r\", encoding=\"utf-8\") as f:\n",
        "        merged_modalities = json.load(f)\n",
        "\n",
        "    # Load the datatypes list\n",
        "    with open(input_datatypes_file, \"r\", encoding=\"utf-8\") as f:\n",
        "        valid_datatypes = set(json.load(f))  # Using a set for faster lookup\n",
        "\n",
        "    # Filter the data types in merged modalities based on valid datatypes\n",
        "    filtered_modalities = []\n",
        "    for modality in merged_modalities:\n",
        "        modality_title = modality[\"modality\"]\n",
        "        valid_data_types = [dt for dt in modality[\"data_types\"] if dt in valid_datatypes]\n",
        "\n",
        "        if valid_data_types:  # Only add the modality if there are valid data types\n",
        "            filtered_modalities.append({\n",
        "                \"modality\": modality_title,\n",
        "                \"data_types\": valid_data_types\n",
        "            })\n",
        "\n",
        "    # Save the filtered modalities to the output file\n",
        "    with open(output_file, \"w\", encoding=\"utf-8\") as f:\n",
        "        json.dump(filtered_modalities, f, indent=4)\n",
        "\n",
        "    print(f\"Filtered modalities saved to {output_file}\")\n",
        "\n",
        "# Example usage\n",
        "input_modalities_file = \"merged_modalities_data_types_cleaned.json\"  # Path to the merged modalities JSON file\n",
        "input_datatypes_file = \"datatypes_wikidata_matched_full.json\"  # Path to the datatypes JSON file\n",
        "output_file = \"filtered_modalities_datatypes_full.json\"  # Path to the output filtered file\n",
        "\n",
        "filter_and_save_modalities(input_modalities_file, input_datatypes_file, output_file)"
      ]
    },
    {
      "cell_type": "markdown",
      "metadata": {
        "id": "ORp96D8HCyoo"
      },
      "source": [
        "\n",
        "\n",
        "> [  \n",
        "    {  \n",
        "        \"modality\": \"image\",  \n",
        "        \"data_types\": [  \n",
        "            \"hair segmentation mask\",  \n",
        "            \"visual slam groundtruth location\",  \n",
        "            \"hair image\",   \n",
        "            ……\n",
        "\n"
      ]
    },
    {
      "cell_type": "code",
      "execution_count": null,
      "metadata": {
        "colab": {
          "base_uri": "https://localhost:8080/"
        },
        "id": "lWKYy1QJ4q1X",
        "outputId": "eef7485b-df8f-4f6a-ea41-db0a93cd6af9"
      },
      "outputs": [
        {
          "name": "stdout",
          "output_type": "stream",
          "text": [
            "Filtered modalities saved to filtered_modalities_datatypes_full.json\n"
          ]
        }
      ],
      "source": [
        "import json\n",
        "\n",
        "def filter_and_save_modalities(input_modalities_file, input_datatypes_file, output_file):\n",
        "    \"\"\"\n",
        "    Filter the data types in the input modalities file based on the available data types\n",
        "    in the input datatypes file, and save the filtered result to a new output file.\n",
        "    Keeps all modalities but filters data types.\n",
        "\n",
        "    :param input_modalities_file: Path to the merged modalities file (e.g., \"merged_modalities_data_types.json\")\n",
        "    :param input_datatypes_file: Path to the datatypes file (e.g., \"datatypes.json\")\n",
        "    :param output_file: Path to the output file (e.g., \"filtered_modalities.json\")\n",
        "    \"\"\"\n",
        "    # Load the merged modalities data (contains modalities and data types)\n",
        "    with open(input_modalities_file, \"r\", encoding=\"utf-8\") as f:\n",
        "        merged_modalities = json.load(f)\n",
        "\n",
        "    # Load the datatypes list\n",
        "    with open(input_datatypes_file, \"r\", encoding=\"utf-8\") as f:\n",
        "        valid_datatypes = set(json.load(f))  # Using a set for faster lookup\n",
        "\n",
        "    # Filter the data types in merged modalities based on valid datatypes\n",
        "    filtered_modalities = []\n",
        "    for modality in merged_modalities:\n",
        "        modality_title = modality[\"modality\"]\n",
        "        valid_data_types = [dt for dt in modality[\"data_types\"] if dt in valid_datatypes]\n",
        "\n",
        "        # Keep the modality even if no valid data_types remain\n",
        "        filtered_modalities.append({\n",
        "            \"modality\": modality_title,\n",
        "            \"data_types\": valid_data_types  # Keep only matching data types\n",
        "        })\n",
        "\n",
        "    # Save the filtered modalities to the output file\n",
        "    with open(output_file, \"w\", encoding=\"utf-8\") as f:\n",
        "        json.dump(filtered_modalities, f, indent=4)\n",
        "\n",
        "    print(f\"Filtered modalities saved to {output_file}\")\n",
        "\n",
        "# Example usage\n",
        "input_modalities_file = \"merged_modalities_data_types_cleaned.json\"  # Path to the merged modalities JSON file\n",
        "input_datatypes_file = \"datatypes_wikidata_matched_full.json\"  # Path to the datatypes JSON file\n",
        "output_file = \"filtered_modalities_datatypes_full.json\"  # Path to the output filtered file\n",
        "\n",
        "filter_and_save_modalities(input_modalities_file, input_datatypes_file, output_file)"
      ]
    },
    {
      "cell_type": "markdown",
      "metadata": {
        "id": "2ILQLu_8JI6E"
      },
      "source": [
        "## A Merged Version with All Property Info"
      ]
    },
    {
      "cell_type": "code",
      "execution_count": null,
      "metadata": {
        "id": "GJE-MoldJIQH"
      },
      "outputs": [],
      "source": [
        "import json\n",
        "\n",
        "# Load two files\n",
        "with open('wikidata_matched_full_NoIso_QIDok.json', 'r', encoding='utf-8') as f:\n",
        "    wikidata_data = json.load(f)\n",
        "\n",
        "with open('merged_modalities_data_types_cleaned.json', 'r', encoding='utf-8') as f:\n",
        "    modalities_data = json.load(f)\n",
        "\n",
        "clustered_types = wikidata_data.get('clustered_types', [])\n",
        "wikidata_dict = {item['datatype']: item for item in clustered_types}\n",
        "\n",
        "output = []\n",
        "\n",
        "for modality_item in modalities_data:\n",
        "    modality = modality_item['modality']\n",
        "    data_types = modality_item['data_types']\n",
        "\n",
        "    modality_output = {\n",
        "        'modality': modality,\n",
        "        'data_types': {}\n",
        "    }\n",
        "\n",
        "    for data_type in data_types:\n",
        "        if data_type in wikidata_dict:\n",
        "            matched_data = wikidata_dict[data_type]\n",
        "            modality_output['data_types'][data_type] = {\n",
        "                'frequency': matched_data['frequency'],\n",
        "                'wikidata_id': matched_data['wikidata_id'],\n",
        "                'wikidata_label': matched_data['wikidata_label'],\n",
        "                'wikidata_description': matched_data['wikidata_description']\n",
        "            }\n",
        "\n",
        "    if modality_output['data_types']:\n",
        "        output.append(modality_output)\n",
        "\n",
        "with open('matched_modalities_data_types.json', 'w', encoding='utf-8') as f:\n",
        "    json.dump(output, f, indent=4, ensure_ascii=False)"
      ]
    },
    {
      "cell_type": "markdown",
      "metadata": {
        "id": "iHwYj6LeKB5h"
      },
      "source": [
        "[  \n",
        "    {  \n",
        "        \"modality\": \"image\",  \n",
        "        \"data_types\": {  \n",
        "            \"hair segmentation mask\": {  \n",
        "                \"frequency\": 1,  \n",
        "                \"wikidata_id\": \"Q28472\",  \n",
        "                \"wikidata_label\": \"hair\",  \n",
        "                \"wikidata_description\": \"protein filament that grows from follicles found in the dermis, or skin\"  \n",
        "            },  \n",
        "            \"visual slam groundtruth location\": {  \n",
        "                \"frequency\": 1,  \n",
        "                \"wikidata_id\": \"Q4110915\",  \n",
        "                \"wikidata_label\": \"Visual odometry\",  \n",
        "                \"wikidata_description\": \"\"  \n",
        "            },  \n",
        "            ......"
      ]
    },
    {
      "cell_type": "code",
      "execution_count": null,
      "metadata": {
        "colab": {
          "base_uri": "https://localhost:8080/"
        },
        "id": "DvP4w9Ec6ufH",
        "outputId": "c9185dbd-6310-44b5-ca0c-857008fd26a1"
      },
      "outputs": [
        {
          "name": "stdout",
          "output_type": "stream",
          "text": [
            "Output saved to matched_modalities_data_types.json\n"
          ]
        }
      ],
      "source": [
        "# Load two files\n",
        "with open('wikidata_matched_full_NoIso_QIDok.json', 'r', encoding='utf-8') as f:\n",
        "    wikidata_data = json.load(f)\n",
        "\n",
        "with open('merged_modalities_data_types_cleaned.json', 'r', encoding='utf-8') as f:\n",
        "    modalities_data = json.load(f)\n",
        "\n",
        "clustered_types = wikidata_data.get('clustered_types', [])\n",
        "wikidata_dict = {item['datatype']: item for item in clustered_types}\n",
        "\n",
        "output = []\n",
        "\n",
        "for modality_item in modalities_data:\n",
        "    modality = modality_item['modality']\n",
        "    data_types = modality_item['data_types']\n",
        "\n",
        "    # Prepare modality output (always include modality)\n",
        "    modality_output = {\n",
        "        'modality': modality,\n",
        "        'data_types': {}\n",
        "    }\n",
        "\n",
        "    # Iterate through the data types and find matches\n",
        "    for data_type in data_types:\n",
        "        if data_type in wikidata_dict:\n",
        "            matched_data = wikidata_dict[data_type]\n",
        "            modality_output['data_types'][data_type] = {\n",
        "                'frequency': matched_data['frequency'],\n",
        "                'wikidata_id': matched_data['wikidata_id'],\n",
        "                'wikidata_label': matched_data['wikidata_label'],\n",
        "                'wikidata_description': matched_data['wikidata_description']\n",
        "            }\n",
        "\n",
        "    # Always append modality_output even if no matching data types\n",
        "    output.append(modality_output)\n",
        "\n",
        "# Save the result to a new JSON file\n",
        "with open('matched_modalities_data_types.json', 'w', encoding='utf-8') as f:\n",
        "    json.dump(output, f, indent=4, ensure_ascii=False)\n",
        "\n",
        "print(f\"Output saved to matched_modalities_data_types.json\")"
      ]
    },
    {
      "cell_type": "code",
      "execution_count": null,
      "metadata": {
        "colab": {
          "base_uri": "https://localhost:8080/"
        },
        "id": "ola8Dm7J93qw",
        "outputId": "3a2e9bc5-df39-49a6-8c74-ca502c3c833d"
      },
      "outputs": [
        {
          "name": "stdout",
          "output_type": "stream",
          "text": [
            "Number of Modalities (total): 261\n",
            "Number of Modalities (with non-empty data_types): 123\n",
            "Number of Datatypes: 4276\n",
            "Number of Unique Datatypes: 3874\n"
          ]
        }
      ],
      "source": [
        "# Load the matched_modalities_data_types.json file\n",
        "with open('matched_modalities_data_types.json', 'r', encoding='utf-8') as f:\n",
        "    data = json.load(f)\n",
        "\n",
        "# Initialize counters for modalities and datatypes\n",
        "total_modality_count = 0\n",
        "non_empty_modality_count = 0\n",
        "datatype_count = 0\n",
        "unique_datatypes = set()  # Set to keep track of unique datatypes\n",
        "\n",
        "# Loop through each modality in the data\n",
        "for modality_item in data:\n",
        "    total_modality_count += 1  # Increment the total modality count\n",
        "    data_types = modality_item.get('data_types', {})\n",
        "\n",
        "    # Only count modalities that have non-empty data_types\n",
        "    if data_types:\n",
        "        non_empty_modality_count += 1  # Increment modality count for each modality with non-empty data_types\n",
        "\n",
        "        # Increment datatype count by the number of data types in the current modality\n",
        "        datatype_count += len(data_types)\n",
        "\n",
        "        # Add data_types to the unique datatypes set (this automatically removes duplicates)\n",
        "        unique_datatypes.update(data_types.keys())\n",
        "\n",
        "# Print the results\n",
        "print(f\"Number of Modalities (total): {total_modality_count}\")\n",
        "print(f\"Number of Modalities (with non-empty data_types): {non_empty_modality_count}\")\n",
        "print(f\"Number of Datatypes: {datatype_count}\")\n",
        "print(f\"Number of Unique Datatypes: {len(unique_datatypes)}\")"
      ]
    },
    {
      "cell_type": "markdown",
      "metadata": {
        "id": "isuFhHlP-FRK"
      },
      "source": [
        "## Merge QID for Modalities"
      ]
    },
    {
      "cell_type": "code",
      "execution_count": null,
      "metadata": {
        "id": "pqJ3P-vP-E0L"
      },
      "outputs": [],
      "source": [
        "import csv\n",
        "import json\n",
        "\n",
        "# Step 1: Load modality_wiki.csv into a dictionary\n",
        "modality_wiki_dict = {}\n",
        "\n",
        "# Open modality_wiki.csv and read its contents\n",
        "with open('modality_wiki.csv', 'r', encoding='utf-8') as f:\n",
        "    reader = csv.DictReader(f)\n",
        "    for row in reader:\n",
        "        modality_wiki_dict[row['modality']] = {\n",
        "            'wikidata_label': row['wiki_word'],\n",
        "            'wikidata_id': row['qid']\n",
        "        }\n",
        "\n",
        "# Step 2: Load the matched_modalities_data_types.json file\n",
        "with open('matched_modalities_data_types.json', 'r', encoding='utf-8') as f:\n",
        "    data = json.load(f)\n",
        "\n",
        "# Step 3: Add the wikidata_label and wikidata_id to each modality in the matched_modalities_data_types.json\n",
        "for modality_item in data:\n",
        "    modality_name = modality_item['modality']\n",
        "\n",
        "    # Check if modality_name is in modality_wiki_dict\n",
        "    if modality_name in modality_wiki_dict:\n",
        "        modality_item['wikidata_label'] = modality_wiki_dict[modality_name]['wikidata_label']\n",
        "        modality_item['wikidata_id'] = modality_wiki_dict[modality_name]['wikidata_id']\n",
        "\n",
        "# Step 4: Save the updated data to a new JSON file\n",
        "with open('updated_matched_modalities_data_types.json', 'w', encoding='utf-8') as f:\n",
        "    json.dump(data, f, indent=4, ensure_ascii=False)"
      ]
    },
    {
      "cell_type": "code",
      "execution_count": null,
      "metadata": {
        "colab": {
          "base_uri": "https://localhost:8080/"
        },
        "id": "TCk6QT_vBqCt",
        "outputId": "ae392a04-9069-4380-d365-b65d6219f40f"
      },
      "outputs": [
        {
          "name": "stdout",
          "output_type": "stream",
          "text": [
            "Number of Modalities (total): 261\n",
            "Number of Modalities (with non-empty data_types): 123\n",
            "Number of Datatypes: 4276\n",
            "Number of Unique Datatypes: 3874\n"
          ]
        }
      ],
      "source": [
        "# Load the matched_modalities_data_types.json file\n",
        "with open('updated_matched_modalities_data_types.json', 'r', encoding='utf-8') as f:\n",
        "    data = json.load(f)\n",
        "\n",
        "# Initialize counters for modalities and datatypes\n",
        "total_modality_count = 0\n",
        "non_empty_modality_count = 0\n",
        "datatype_count = 0\n",
        "unique_datatypes = set()  # Set to keep track of unique datatypes\n",
        "\n",
        "# Loop through each modality in the data\n",
        "for modality_item in data:\n",
        "    total_modality_count += 1  # Increment the total modality count\n",
        "    data_types = modality_item.get('data_types', {})\n",
        "\n",
        "    # Only count modalities that have non-empty data_types\n",
        "    if data_types:\n",
        "        non_empty_modality_count += 1  # Increment modality count for each modality with non-empty data_types\n",
        "\n",
        "        # Increment datatype count by the number of data types in the current modality\n",
        "        datatype_count += len(data_types)\n",
        "\n",
        "        # Add data_types to the unique datatypes set (this automatically removes duplicates)\n",
        "        unique_datatypes.update(data_types.keys())\n",
        "\n",
        "# Print the results\n",
        "print(f\"Number of Modalities (total): {total_modality_count}\")\n",
        "print(f\"Number of Modalities (with non-empty data_types): {non_empty_modality_count}\")\n",
        "print(f\"Number of Datatypes: {datatype_count}\")\n",
        "print(f\"Number of Unique Datatypes: {len(unique_datatypes)}\")"
      ]
    },
    {
      "cell_type": "markdown",
      "metadata": {
        "id": "2cQzgtO21YiI"
      },
      "source": [
        "## Recursive Query Wikidata\n",
        "\n",
        "**Prevent repeated queries of nodes**\n",
        "\n",
        "Output: Triples (Label Modality, Datatype, Others)"
      ]
    },
    {
      "cell_type": "code",
      "execution_count": null,
      "metadata": {
        "id": "2mG0omENDjjF"
      },
      "outputs": [],
      "source": [
        "def get_qid(label):\n",
        "    \"\"\"Get the QID of an entity based on its label.\"\"\"\n",
        "    time.sleep(1)\n",
        "    logging.info(f\"Fetching QID for label: {label}\")\n",
        "    query = f\"\"\"\n",
        "    SELECT ?entity WHERE {{\n",
        "      ?entity rdfs:label \"{label}\"@en.\n",
        "      FILTER (STRSTARTS(STR(?entity), \"http://www.wikidata.org/entity/Q\"))\n",
        "    }}\n",
        "    LIMIT 1\n",
        "    \"\"\"\n",
        "    sparql = SPARQLWrapper(SPARQL_ENDPOINT)\n",
        "    sparql.setQuery(query)\n",
        "    sparql.setReturnFormat(JSON)\n",
        "    results = sparql.query().convert()\n",
        "\n",
        "    if results[\"results\"][\"bindings\"]:\n",
        "        qid = results[\"results\"][\"bindings\"][0][\"entity\"][\"value\"].split(\"/\")[-1]\n",
        "        logging.info(f\"Found QID for {label}: {qid}\")\n",
        "        return qid\n",
        "    else:\n",
        "        logging.warning(f\"No QID found for label: {label}\")\n",
        "    return None"
      ]
    },
    {
      "cell_type": "code",
      "execution_count": null,
      "metadata": {
        "id": "LXmpfc2VFCqp"
      },
      "outputs": [],
      "source": []
    },
    {
      "cell_type": "markdown",
      "metadata": {
        "id": "_hO3U1nT17z3"
      },
      "source": [
        "## Construct the Knowledge Graph"
      ]
    },
    {
      "cell_type": "code",
      "execution_count": null,
      "metadata": {
        "id": "JOkg6toK1fJ3"
      },
      "outputs": [],
      "source": [
        "SPARQL_ENDPOINT = \"https://query.wikidata.org/sparql\"\n",
        "\n",
        "# List of relevant properties (modality and data type relationships)\n",
        "RELEVANT_PROPERTIES = [\n",
        "    # Fundamental Semantics\n",
        "    \"P31\",  # instance of\n",
        "    \"P279\",  # subclass of\n",
        "    \"P361\",  # part of\n",
        "    \"P1269\",  # facet of\n",
        "\n",
        "    # Structure and Technology\n",
        "    \"P527\",  # has part(s)\n",
        "    \"P2670\",  # has part(s) of the class\n",
        "    \"P2701\",  # file format\n",
        "    \"P1163\",  # media type\n",
        "    \"P1195\",  # file extension\n",
        "    \"P4330\",  # contains\n",
        "\n",
        "    # Application and Domain\n",
        "    \"P366\",  # has use\n",
        "    \"P1535\",  # used by\n",
        "    \"P101\",  # field of work\n",
        "    \"P921\",  # main subject\n",
        "\n",
        "\n",
        "    # Quality and Metadata\n",
        "    \"P1552\",  # has characteristic\n",
        "    \"P13044\",  # characteristic of\n",
        "    \"P3575\",  # data size\n",
        "]"
      ]
    },
    {
      "cell_type": "markdown",
      "metadata": {
        "id": "OV48Zhz_n_LA"
      },
      "source": [
        "## OWL"
      ]
    },
    {
      "cell_type": "code",
      "execution_count": null,
      "metadata": {
        "colab": {
          "base_uri": "https://localhost:8080/"
        },
        "id": "tOSqlWaT1-8z",
        "outputId": "d962ce88-bc1e-49f5-ead5-2645866ec18b"
      },
      "outputs": [
        {
          "name": "stdout",
          "output_type": "stream",
          "text": [
            "Processing modality: image (QID: Q478798)\n",
            "Processing modality: text (QID: Q234460)\n"
          ]
        },
        {
          "name": "stderr",
          "output_type": "stream",
          "text": [
            "WARNING:root:No QID found for label: 3d model\n"
          ]
        },
        {
          "name": "stdout",
          "output_type": "stream",
          "text": [
            "Processing modality: video (QID: Q625525)\n",
            "Processing modality: audio (QID: Q3500685)\n"
          ]
        },
        {
          "name": "stderr",
          "output_type": "stream",
          "text": [
            "WARNING:root:No QID found for label: 3d point cloud\n",
            "WARNING:root:No QID found for label: numerical\n"
          ]
        },
        {
          "name": "stdout",
          "output_type": "stream",
          "text": [
            "Processing modality: metadata (QID: Q180160)\n",
            "Processing modality: structured data (QID: Q26813700)\n",
            "Processing modality: annotation (QID: Q857525)\n",
            "Processing modality: depth (QID: Q181591)\n",
            "Processing modality: skeleton (QID: Q7881)\n"
          ]
        },
        {
          "name": "stderr",
          "output_type": "stream",
          "text": [
            "WARNING:root:No QID found for label: inertial\n"
          ]
        },
        {
          "name": "stdout",
          "output_type": "stream",
          "text": [
            "Processing modality: sensor (QID: Q167676)\n"
          ]
        },
        {
          "name": "stderr",
          "output_type": "stream",
          "text": [
            "WARNING:root:No QID found for label: midi\n",
            "WARNING:root:No QID found for label: 3d\n",
            "WARNING:root:No QID found for label: 3d skeletal\n"
          ]
        },
        {
          "name": "stdout",
          "output_type": "stream",
          "text": [
            "Processing modality: tabular (QID: Q13402984)\n",
            "Processing modality: graph (QID: Q141488)\n"
          ]
        },
        {
          "name": "stderr",
          "output_type": "stream",
          "text": [
            "WARNING:root:No QID found for label: kinematic\n",
            "WARNING:root:No QID found for label: 3d structure\n"
          ]
        },
        {
          "name": "stdout",
          "output_type": "stream",
          "text": [
            "Processing modality: network (QID: Q109406)\n"
          ]
        },
        {
          "name": "stderr",
          "output_type": "stream",
          "text": [
            "WARNING:root:No QID found for label: 3d skeleton\n"
          ]
        },
        {
          "name": "stdout",
          "output_type": "stream",
          "text": [
            "Processing modality: table (QID: Q14748)\n",
            "Processing modality: time series (QID: Q186588)\n",
            "Processing modality: simulation (QID: Q45045)\n",
            "Processing modality: lidar (QID: Q504027)\n",
            "Processing modality: radar (QID: Q47528)\n",
            "Processing modality: numeric (QID: Q3249849)\n",
            "Processing modality: signal (QID: Q174984)\n",
            "Processing modality: data (QID: Q42848)\n",
            "Processing modality: point cloud (QID: Q1899648)\n",
            "Processing modality: vector (QID: Q107994)\n",
            "Processing modality: label (QID: Q202581)\n",
            "Processing modality: chemical structure (QID: Q500256)\n"
          ]
        },
        {
          "name": "stderr",
          "output_type": "stream",
          "text": [
            "WARNING:root:No QID found for label: physiological signal\n"
          ]
        },
        {
          "name": "stdout",
          "output_type": "stream",
          "text": [
            "Processing modality: motion capture (QID: Q676252)\n"
          ]
        },
        {
          "name": "stderr",
          "output_type": "stream",
          "text": [
            "WARNING:root:No QID found for label: spatial coordinate\n",
            "WARNING:root:No QID found for label: eeg\n"
          ]
        },
        {
          "name": "stdout",
          "output_type": "stream",
          "text": [
            "Processing modality: geolocation (QID: Q123349905)\n",
            "Processing modality: temporal (QID: Q2472680)\n",
            "Processing modality: sequence (QID: Q133250)\n",
            "Processing modality: trajectory (QID: Q193139)\n",
            "Processing modality: neuroimaging (QID: Q551875)\n",
            "Processing modality: environment (QID: Q1572519)\n"
          ]
        },
        {
          "name": "stderr",
          "output_type": "stream",
          "text": [
            "WARNING:root:No QID found for label: 3d simulation\n"
          ]
        },
        {
          "name": "stdout",
          "output_type": "stream",
          "text": [
            "Processing modality: pose (QID: Q1671968)\n",
            "Processing modality: visualization (QID: Q451553)\n",
            "Processing modality: geospatial (QID: Q122074678)\n"
          ]
        },
        {
          "name": "stderr",
          "output_type": "stream",
          "text": [
            "WARNING:root:No QID found for label: physiological\n"
          ]
        },
        {
          "name": "stdout",
          "output_type": "stream",
          "text": [
            "Processing modality: binary (QID: Q58483123)\n",
            "Processing modality: interaction (QID: Q52948)\n",
            "Processing modality: eye tracking (QID: Q970687)\n",
            "Processing modality: social network (QID: Q2715623)\n"
          ]
        },
        {
          "name": "stderr",
          "output_type": "stream",
          "text": [
            "WARNING:root:No QID found for label: 3d pose\n"
          ]
        },
        {
          "name": "stdout",
          "output_type": "stream",
          "text": [
            "Processing modality: event (QID: Q1349920)\n",
            "Processing modality: control (QID: Q338754)\n",
            "Processing modality: synthetic data (QID: Q7662746)\n"
          ]
        },
        {
          "name": "stderr",
          "output_type": "stream",
          "text": [
            "WARNING:root:No QID found for label: meta information\n"
          ]
        },
        {
          "name": "stdout",
          "output_type": "stream",
          "text": [
            "Processing modality: code (QID: Q188889)\n"
          ]
        },
        {
          "name": "stderr",
          "output_type": "stream",
          "text": [
            "WARNING:root:No QID found for label: genomic sequence\n"
          ]
        },
        {
          "name": "stdout",
          "output_type": "stream",
          "text": [
            "Processing modality: knowledge graph (QID: Q33002955)\n",
            "Processing modality: matrix (QID: Q44337)\n",
            "Processing modality: motion (QID: Q79782)\n"
          ]
        },
        {
          "name": "stderr",
          "output_type": "stream",
          "text": [
            "WARNING:root:No QID found for label: laser scan\n",
            "WARNING:root:No QID found for label: user data\n",
            "WARNING:root:No QID found for label: 3d body skeleton\n"
          ]
        },
        {
          "name": "stdout",
          "output_type": "stream",
          "text": [
            "Processing modality: game (QID: Q11410)\n"
          ]
        },
        {
          "name": "stderr",
          "output_type": "stream",
          "text": [
            "WARNING:root:No QID found for label: 3d motion\n",
            "WARNING:root:No QID found for label: pose information\n",
            "WARNING:root:No QID found for label: temporal graph\n",
            "WARNING:root:No QID found for label: genomic\n",
            "WARNING:root:No QID found for label: network traffic\n"
          ]
        },
        {
          "name": "stdout",
          "output_type": "stream",
          "text": [
            "Processing modality: web (QID: Q1427141)\n",
            "Processing modality: log (QID: Q12029485)\n",
            "Processing modality: model (QID: Q1941828)\n"
          ]
        },
        {
          "name": "stderr",
          "output_type": "stream",
          "text": [
            "WARNING:root:No QID found for label: eye gaze\n"
          ]
        },
        {
          "name": "stdout",
          "output_type": "stream",
          "text": [
            "Processing modality: feature vector (QID: Q1921842)\n"
          ]
        },
        {
          "name": "stderr",
          "output_type": "stream",
          "text": [
            "WARNING:root:No QID found for label: social context\n"
          ]
        },
        {
          "name": "stdout",
          "output_type": "stream",
          "text": [
            "Processing modality: spatial (QID: Q122075505)\n",
            "Processing modality: visual (QID: Q4014836)\n"
          ]
        },
        {
          "name": "stderr",
          "output_type": "stream",
          "text": [
            "WARNING:root:No QID found for label: spatiotemporal\n"
          ]
        },
        {
          "name": "stdout",
          "output_type": "stream",
          "text": [
            "Processing modality: software (QID: Q7397)\n",
            "Processing modality: sketch (QID: Q5078274)\n"
          ]
        },
        {
          "name": "stderr",
          "output_type": "stream",
          "text": [
            "WARNING:root:No QID found for label: meteorological\n",
            "WARNING:root:No QID found for label: structural\n",
            "WARNING:root:No QID found for label: chemical\n",
            "WARNING:root:No QID found for label: neural\n"
          ]
        },
        {
          "name": "stdout",
          "output_type": "stream",
          "text": [
            "Processing modality: feature (QID: Q93586)\n"
          ]
        },
        {
          "name": "stderr",
          "output_type": "stream",
          "text": [
            "WARNING:root:No QID found for label: system log\n",
            "WARNING:root:No QID found for label: categorical\n"
          ]
        },
        {
          "name": "stdout",
          "output_type": "stream",
          "text": [
            "Processing modality: tactile (QID: Q124134995)\n"
          ]
        },
        {
          "name": "stderr",
          "output_type": "stream",
          "text": [
            "WARNING:root:No QID found for label: biological\n",
            "WARNING:root:No QID found for label: syntactic analysis\n"
          ]
        },
        {
          "name": "stdout",
          "output_type": "stream",
          "text": [
            "Processing modality: notebook (QID: Q43013)\n",
            "Processing modality: emotion (QID: Q95969875)\n"
          ]
        },
        {
          "name": "stderr",
          "output_type": "stream",
          "text": [
            "WARNING:root:No QID found for label: electrophysiological\n",
            "WARNING:root:No QID found for label: imu\n",
            "WARNING:root:No QID found for label: kinesthetic\n",
            "WARNING:root:No QID found for label: gnss/ins\n"
          ]
        },
        {
          "name": "stdout",
          "output_type": "stream",
          "text": [
            "Processing modality: biomarker (QID: Q864574)\n"
          ]
        },
        {
          "name": "stderr",
          "output_type": "stream",
          "text": [
            "WARNING:root:No QID found for label: neurophysiological\n",
            "WARNING:root:No QID found for label: 3d object\n",
            "WARNING:root:No QID found for label: spectra\n",
            "WARNING:root:No QID found for label: 3d environment\n",
            "WARNING:root:No QID found for label: real world data\n",
            "WARNING:root:No QID found for label: bounding box\n",
            "WARNING:root:No QID found for label: 3d motion capture\n",
            "WARNING:root:No QID found for label: positional data\n",
            "WARNING:root:No QID found for label: eog\n",
            "WARNING:root:No QID found for label: ecg\n"
          ]
        },
        {
          "name": "stdout",
          "output_type": "stream",
          "text": [
            "Processing modality: other (QID: Q1433373)\n",
            "Processing modality: database (QID: Q8513)\n",
            "Processing modality: box (QID: Q188075)\n",
            "Processing modality: animation (QID: Q11425)\n"
          ]
        },
        {
          "name": "stderr",
          "output_type": "stream",
          "text": [
            "WARNING:root:No QID found for label: brain signal\n"
          ]
        },
        {
          "name": "stdout",
          "output_type": "stream",
          "text": [
            "Processing modality: odometry (QID: Q2014717)\n",
            "Processing modality: blockchain (QID: Q20514253)\n"
          ]
        },
        {
          "name": "stderr",
          "output_type": "stream",
          "text": [
            "WARNING:root:No QID found for label: spiking neural data\n"
          ]
        },
        {
          "name": "stdout",
          "output_type": "stream",
          "text": [
            "Processing modality: vr (QID: Q29716068)\n"
          ]
        },
        {
          "name": "stderr",
          "output_type": "stream",
          "text": [
            "WARNING:root:No QID found for label: json\n"
          ]
        },
        {
          "name": "stdout",
          "output_type": "stream",
          "text": [
            "Processing modality: data file (QID: Q5227290)\n",
            "Processing modality: biosignal (QID: Q644240)\n",
            "Knowledge graph saved to knowledge_graph.owl\n"
          ]
        }
      ],
      "source": [
        "import json\n",
        "import time\n",
        "import logging\n",
        "from SPARQLWrapper import SPARQLWrapper, JSON\n",
        "from rdflib import Graph, URIRef, Literal, Namespace, RDF\n",
        "\n",
        "# Set the Wikidata SPARQL endpoint\n",
        "SPARQL_ENDPOINT = \"https://query.wikidata.org/sparql\"\n",
        "\n",
        "\n",
        "# Define namespaces\n",
        "EX = Namespace(\"http://example.org/\")\n",
        "WIKIDATA = Namespace(\"http://www.wikidata.org/entity/\")\n",
        "\n",
        "# Create an RDF graph\n",
        "g = Graph()\n",
        "g.bind(\"ex\", EX)\n",
        "g.bind(\"wikidata\", WIKIDATA)\n",
        "\n",
        "# Prevent duplicate queries\n",
        "queried_nodes = set()\n",
        "\n",
        "def get_qid(label):\n",
        "    \"\"\"Get the QID of an entity based on its label.\"\"\"\n",
        "    time.sleep(1)\n",
        "    logging.info(f\"Fetching QID for label: {label}\")\n",
        "    query = f\"\"\"\n",
        "    SELECT ?entity WHERE {{\n",
        "      ?entity rdfs:label \"{label}\"@en.\n",
        "      FILTER (STRSTARTS(STR(?entity), \"http://www.wikidata.org/entity/Q\"))\n",
        "    }}\n",
        "    LIMIT 1\n",
        "    \"\"\"\n",
        "    sparql = SPARQLWrapper(SPARQL_ENDPOINT)\n",
        "    sparql.setQuery(query)\n",
        "    sparql.setReturnFormat(JSON)\n",
        "    results = sparql.query().convert()\n",
        "\n",
        "    if results[\"results\"][\"bindings\"]:\n",
        "        qid = results[\"results\"][\"bindings\"][0][\"entity\"][\"value\"].split(\"/\")[-1]\n",
        "        logging.info(f\"Found QID for {label}: {qid}\")\n",
        "        return qid\n",
        "    else:\n",
        "        logging.warning(f\"No QID found for label: {label}\")\n",
        "    return None\n",
        "\n",
        "def query_wikidata_properties(qid):\n",
        "    \"\"\"Query Wikidata properties for a given entity\"\"\"\n",
        "    if qid in queried_nodes:\n",
        "        return []\n",
        "    queried_nodes.add(qid)\n",
        "\n",
        "    # print(f\"Querying properties for QID: {qid}\")\n",
        "    query = f\"\"\"\n",
        "    SELECT ?property ?propertyLabel ?value ?valueLabel WHERE {{\n",
        "      wd:{qid} ?p ?value.\n",
        "      ?property wikibase:directClaim ?p.\n",
        "      FILTER (?property IN (wd:{\", wd:\".join(RELEVANT_PROPERTIES)}))\n",
        "      OPTIONAL {{ ?value rdfs:label ?valueLabel. FILTER(LANG(?valueLabel) = \"en\") }}\n",
        "      SERVICE wikibase:label {{ bd:serviceParam wikibase:language \"en\". }}\n",
        "    }}\n",
        "    \"\"\"\n",
        "    sparql = SPARQLWrapper(SPARQL_ENDPOINT)\n",
        "    sparql.setQuery(query)\n",
        "    sparql.setReturnFormat(JSON)\n",
        "    results = sparql.query().convert()\n",
        "    return results[\"results\"][\"bindings\"]\n",
        "\n",
        "def recursive_query(qid, depth=0, max_depth=3):\n",
        "    \"\"\"Recursively query and construct the knowledge graph\"\"\"\n",
        "    if depth > max_depth:\n",
        "        return\n",
        "\n",
        "    # Query entity properties\n",
        "    results = query_wikidata_properties(qid)\n",
        "\n",
        "    for result in results:\n",
        "        prop = result[\"propertyLabel\"][\"value\"].replace(\" \", \"_\").replace(\"(\", \"_\").replace(\")\", \"_\")\n",
        "        value = result.get(\"valueLabel\", {}).get(\"value\", result[\"value\"][\"value\"])\n",
        "        value_uri = result[\"value\"][\"value\"]\n",
        "\n",
        "        # Check if the value is a Wikidata entity\n",
        "        if \"wikidata.org/entity/\" in value_uri:\n",
        "            value_qid = value_uri.split(\"/\")[-1]\n",
        "\n",
        "            # Add nodes to the RDF graph\n",
        "            g.add((WIKIDATA[qid], RDF.type, EX.Entity))\n",
        "            g.add((WIKIDATA[qid], EX[prop], WIKIDATA[value_qid]))\n",
        "\n",
        "            # Recursively query\n",
        "            recursive_query(value_qid, depth + 1, max_depth)\n",
        "\n",
        "def build_knowledge_graph(dataset, max_depth=3):\n",
        "    \"\"\"Build a knowledge graph from a data set\"\"\"\n",
        "    for entry in dataset:\n",
        "        modality = entry[\"modality\"]\n",
        "        data_types = entry[\"data_types\"]\n",
        "\n",
        "        # Get the QID of modality\n",
        "        modality_qid = get_qid(modality)\n",
        "        if modality_qid:\n",
        "            print(f\"Processing modality: {modality} (QID: {modality_qid})\")\n",
        "\n",
        "            # Add modality node to RDF graph\n",
        "            g.add((WIKIDATA[modality_qid], RDF.type, EX.Modality))\n",
        "            g.add((WIKIDATA[modality_qid], EX.label, Literal(modality)))\n",
        "\n",
        "            # Recursively query the properties of modality\n",
        "            recursive_query(modality_qid, depth=0, max_depth=max_depth)\n",
        "\n",
        "            # Handle data_types\n",
        "            for data_type, properties in data_types.items():\n",
        "                data_type_qid = properties.get(\"wikidata_id\")\n",
        "\n",
        "                if data_type_qid:\n",
        "                    # print(f\"Processing data type: {data_type} (QID: {data_type_qid})\")\n",
        "\n",
        "                    # Add a data_type node and append its attributes to the RDF graph\n",
        "                    g.add((WIKIDATA[data_type_qid], RDF.type, EX.Datatype))\n",
        "                    g.add((WIKIDATA[data_type_qid], EX.label, Literal(data_type)))\n",
        "                    g.add((WIKIDATA[data_type_qid], EX.frequency, Literal(properties.get(\"frequency\"))))\n",
        "                    g.add((WIKIDATA[data_type_qid], EX.wikidata_label, Literal(properties.get(\"wikidata_label\"))))\n",
        "                    g.add((WIKIDATA[data_type_qid], EX.wikidata_description, Literal(properties.get(\"wikidata_description\"))))\n",
        "\n",
        "                    # Add custom edges of modality and data_type\n",
        "                    g.add((WIKIDATA[modality_qid], EX[\"Modality_Datatype\"], WIKIDATA[data_type_qid]))\n",
        "\n",
        "                    # Recursively query the attributes of data_type\n",
        "                    recursive_query(data_type_qid, depth=0, max_depth=max_depth)\n",
        "\n",
        "    # Save the knowledge graph as an OWL file\n",
        "    g.serialize(destination=\"knowledge_graph_3.owl\", format=\"xml\")\n",
        "    print(\"Knowledge graph saved to knowledge_graph.owl\")\n",
        "\n",
        "with open('matched_modalities_data_types.json', 'r') as f:\n",
        "    dataset = json.load(f)\n",
        "\n",
        "# Build a knowledge graph\n",
        "build_knowledge_graph(dataset, max_depth=3)"
      ]
    },
    {
      "cell_type": "code",
      "execution_count": null,
      "metadata": {
        "colab": {
          "base_uri": "https://localhost:8080/"
        },
        "id": "vfT6Q73akbsh",
        "outputId": "ce0f1fd5-ec63-4c8f-c397-2c301cc0b6d6"
      },
      "outputs": [
        {
          "name": "stderr",
          "output_type": "stream",
          "text": [
            "WARNING:root:No QID found for label: 3d model\n",
            "WARNING:root:No QID found for label: 3d point cloud\n",
            "WARNING:root:No QID found for label: numerical\n",
            "WARNING:root:No QID found for label: inertial\n",
            "WARNING:root:No QID found for label: midi\n",
            "WARNING:root:No QID found for label: 3d\n",
            "WARNING:root:No QID found for label: 3d skeletal\n",
            "WARNING:root:No QID found for label: kinematic\n",
            "WARNING:root:No QID found for label: 3d structure\n",
            "WARNING:root:No QID found for label: 3d skeleton\n",
            "WARNING:root:No QID found for label: physiological signal\n",
            "WARNING:root:No QID found for label: spatial coordinate\n",
            "WARNING:root:No QID found for label: eeg\n",
            "WARNING:root:No QID found for label: 3d simulation\n",
            "WARNING:root:No QID found for label: physiological\n",
            "WARNING:root:No QID found for label: 3d pose\n",
            "WARNING:root:No QID found for label: meta information\n",
            "WARNING:root:No QID found for label: genomic sequence\n",
            "WARNING:root:No QID found for label: laser scan\n",
            "WARNING:root:No QID found for label: user data\n",
            "WARNING:root:No QID found for label: 3d body skeleton\n",
            "WARNING:root:No QID found for label: 3d motion\n",
            "WARNING:root:No QID found for label: pose information\n",
            "WARNING:root:No QID found for label: temporal graph\n",
            "WARNING:root:No QID found for label: genomic\n",
            "WARNING:root:No QID found for label: network traffic\n",
            "WARNING:root:No QID found for label: eye gaze\n",
            "WARNING:root:No QID found for label: social context\n",
            "WARNING:root:No QID found for label: spatiotemporal\n",
            "WARNING:root:No QID found for label: meteorological\n",
            "WARNING:root:No QID found for label: structural\n",
            "WARNING:root:No QID found for label: chemical\n",
            "WARNING:root:No QID found for label: neural\n",
            "WARNING:root:No QID found for label: system log\n",
            "WARNING:root:No QID found for label: categorical\n",
            "WARNING:root:No QID found for label: biological\n",
            "WARNING:root:No QID found for label: syntactic analysis\n",
            "WARNING:root:No QID found for label: electrophysiological\n",
            "WARNING:root:No QID found for label: imu\n",
            "WARNING:root:No QID found for label: kinesthetic\n",
            "WARNING:root:No QID found for label: gnss/ins\n",
            "WARNING:root:No QID found for label: neurophysiological\n",
            "WARNING:root:No QID found for label: 3d object\n",
            "WARNING:root:No QID found for label: spectra\n",
            "WARNING:root:No QID found for label: 3d environment\n",
            "WARNING:root:No QID found for label: real world data\n",
            "WARNING:root:No QID found for label: bounding box\n",
            "WARNING:root:No QID found for label: 3d motion capture\n",
            "WARNING:root:No QID found for label: positional data\n",
            "WARNING:root:No QID found for label: eog\n",
            "WARNING:root:No QID found for label: ecg\n",
            "WARNING:root:No QID found for label: brain signal\n",
            "WARNING:root:No QID found for label: spiking neural data\n",
            "WARNING:root:No QID found for label: json\n"
          ]
        }
      ],
      "source": [
        "# Verify whether Modality in the JSON file can find the QID\n",
        "def validate_modalities_qid(file_path):\n",
        "    with open(file_path, 'r') as f:\n",
        "        data = json.load(f)\n",
        "\n",
        "    found_modalities = []\n",
        "    not_found_modalities = []\n",
        "\n",
        "    for entry in data:\n",
        "        modality = entry.get(\"modality\")\n",
        "        if modality:\n",
        "            # print(f\"Checking QID for Modality: {modality}\")\n",
        "            qid = get_qid(modality)\n",
        "            if qid:\n",
        "                found_modalities.append({\"modality\": modality, \"qid\": qid})\n",
        "                # print(f\"Found QID for {modality}: {qid}\")\n",
        "            else:\n",
        "                not_found_modalities.append(modality)\n",
        "                # print(f\"No QID found for {modality}\")\n",
        "\n",
        "    # print(\"\\nModalities with QID:\")\n",
        "    # for item in found_modalities:\n",
        "    #     print(f\"- {item['modality']}: {item['qid']}\")\n",
        "\n",
        "    # print(\"\\nModalities without QID:\")\n",
        "    # for modality in not_found_modalities:\n",
        "    #     print(f\"- {modality}\")\n",
        "\n",
        "validate_modalities_qid('matched_modalities_data_types.json')"
      ]
    },
    {
      "cell_type": "code",
      "execution_count": null,
      "metadata": {
        "colab": {
          "base_uri": "https://localhost:8080/"
        },
        "id": "U7ax875m-6VB",
        "outputId": "4d591edd-36f1-48aa-a702-a6623c0ac513"
      },
      "outputs": [
        {
          "name": "stdout",
          "output_type": "stream",
          "text": [
            "Processing modality: image (QID: Q478798)\n",
            "Processing modality: text (QID: Q234460)\n"
          ]
        },
        {
          "name": "stderr",
          "output_type": "stream",
          "text": [
            "WARNING:root:No QID found for label: 3d model\n"
          ]
        },
        {
          "name": "stdout",
          "output_type": "stream",
          "text": [
            "Processing modality: video (QID: Q625525)\n",
            "Processing modality: audio (QID: Q3500685)\n"
          ]
        },
        {
          "name": "stderr",
          "output_type": "stream",
          "text": [
            "WARNING:root:No QID found for label: 3d point cloud\n",
            "WARNING:root:No QID found for label: numerical\n"
          ]
        },
        {
          "name": "stdout",
          "output_type": "stream",
          "text": [
            "Processing modality: metadata (QID: Q180160)\n",
            "Processing modality: structured data (QID: Q26813700)\n",
            "Processing modality: annotation (QID: Q857525)\n",
            "Processing modality: depth (QID: Q181591)\n",
            "Processing modality: skeleton (QID: Q7881)\n"
          ]
        },
        {
          "name": "stderr",
          "output_type": "stream",
          "text": [
            "WARNING:root:No QID found for label: inertial\n"
          ]
        },
        {
          "name": "stdout",
          "output_type": "stream",
          "text": [
            "Processing modality: sensor (QID: Q167676)\n"
          ]
        },
        {
          "name": "stderr",
          "output_type": "stream",
          "text": [
            "WARNING:root:No QID found for label: midi\n",
            "WARNING:root:No QID found for label: 3d\n",
            "WARNING:root:No QID found for label: 3d skeletal\n"
          ]
        },
        {
          "name": "stdout",
          "output_type": "stream",
          "text": [
            "Processing modality: tabular (QID: Q13402984)\n",
            "Processing modality: graph (QID: Q141488)\n"
          ]
        },
        {
          "name": "stderr",
          "output_type": "stream",
          "text": [
            "WARNING:root:No QID found for label: kinematic\n",
            "WARNING:root:No QID found for label: 3d structure\n"
          ]
        },
        {
          "name": "stdout",
          "output_type": "stream",
          "text": [
            "Processing modality: network (QID: Q109406)\n"
          ]
        },
        {
          "name": "stderr",
          "output_type": "stream",
          "text": [
            "WARNING:root:No QID found for label: 3d skeleton\n"
          ]
        },
        {
          "name": "stdout",
          "output_type": "stream",
          "text": [
            "Processing modality: table (QID: Q14748)\n",
            "Processing modality: time series (QID: Q186588)\n",
            "Processing modality: simulation (QID: Q45045)\n",
            "Processing modality: lidar (QID: Q504027)\n",
            "Processing modality: radar (QID: Q47528)\n",
            "Processing modality: numeric (QID: Q3249849)\n",
            "Processing modality: signal (QID: Q174984)\n",
            "Processing modality: data (QID: Q42848)\n",
            "Processing modality: point cloud (QID: Q1899648)\n",
            "Processing modality: vector (QID: Q107994)\n",
            "Processing modality: label (QID: Q202581)\n",
            "Processing modality: chemical structure (QID: Q500256)\n"
          ]
        },
        {
          "name": "stderr",
          "output_type": "stream",
          "text": [
            "WARNING:root:No QID found for label: physiological signal\n"
          ]
        },
        {
          "name": "stdout",
          "output_type": "stream",
          "text": [
            "Processing modality: motion capture (QID: Q676252)\n"
          ]
        },
        {
          "name": "stderr",
          "output_type": "stream",
          "text": [
            "WARNING:root:No QID found for label: spatial coordinate\n",
            "WARNING:root:No QID found for label: eeg\n"
          ]
        },
        {
          "name": "stdout",
          "output_type": "stream",
          "text": [
            "Processing modality: geolocation (QID: Q123349905)\n",
            "Processing modality: temporal (QID: Q2472680)\n",
            "Processing modality: sequence (QID: Q133250)\n",
            "Processing modality: trajectory (QID: Q193139)\n",
            "Processing modality: neuroimaging (QID: Q551875)\n",
            "Processing modality: environment (QID: Q1572519)\n"
          ]
        },
        {
          "name": "stderr",
          "output_type": "stream",
          "text": [
            "WARNING:root:No QID found for label: 3d simulation\n"
          ]
        },
        {
          "name": "stdout",
          "output_type": "stream",
          "text": [
            "Processing modality: pose (QID: Q1671968)\n",
            "Processing modality: visualization (QID: Q451553)\n",
            "Processing modality: geospatial (QID: Q122074678)\n"
          ]
        },
        {
          "name": "stderr",
          "output_type": "stream",
          "text": [
            "WARNING:root:No QID found for label: physiological\n"
          ]
        },
        {
          "name": "stdout",
          "output_type": "stream",
          "text": [
            "Processing modality: binary (QID: Q58483123)\n",
            "Processing modality: interaction (QID: Q52948)\n",
            "Processing modality: eye tracking (QID: Q970687)\n",
            "Processing modality: social network (QID: Q2715623)\n"
          ]
        },
        {
          "name": "stderr",
          "output_type": "stream",
          "text": [
            "WARNING:root:No QID found for label: 3d pose\n"
          ]
        },
        {
          "name": "stdout",
          "output_type": "stream",
          "text": [
            "Processing modality: event (QID: Q1349920)\n",
            "Processing modality: control (QID: Q338754)\n",
            "Processing modality: synthetic data (QID: Q7662746)\n"
          ]
        },
        {
          "name": "stderr",
          "output_type": "stream",
          "text": [
            "WARNING:root:No QID found for label: meta information\n"
          ]
        },
        {
          "name": "stdout",
          "output_type": "stream",
          "text": [
            "Processing modality: code (QID: Q188889)\n"
          ]
        },
        {
          "name": "stderr",
          "output_type": "stream",
          "text": [
            "WARNING:root:No QID found for label: genomic sequence\n"
          ]
        },
        {
          "name": "stdout",
          "output_type": "stream",
          "text": [
            "Processing modality: knowledge graph (QID: Q33002955)\n",
            "Processing modality: matrix (QID: Q44337)\n",
            "Processing modality: motion (QID: Q79782)\n"
          ]
        },
        {
          "name": "stderr",
          "output_type": "stream",
          "text": [
            "WARNING:root:No QID found for label: laser scan\n",
            "WARNING:root:No QID found for label: user data\n",
            "WARNING:root:No QID found for label: 3d body skeleton\n"
          ]
        },
        {
          "name": "stdout",
          "output_type": "stream",
          "text": [
            "Processing modality: game (QID: Q11410)\n"
          ]
        },
        {
          "name": "stderr",
          "output_type": "stream",
          "text": [
            "WARNING:root:No QID found for label: 3d motion\n",
            "WARNING:root:No QID found for label: pose information\n",
            "WARNING:root:No QID found for label: temporal graph\n",
            "WARNING:root:No QID found for label: genomic\n",
            "WARNING:root:No QID found for label: network traffic\n"
          ]
        },
        {
          "name": "stdout",
          "output_type": "stream",
          "text": [
            "Processing modality: web (QID: Q1427141)\n",
            "Processing modality: log (QID: Q12029485)\n",
            "Processing modality: model (QID: Q1941828)\n"
          ]
        },
        {
          "name": "stderr",
          "output_type": "stream",
          "text": [
            "WARNING:root:No QID found for label: eye gaze\n"
          ]
        },
        {
          "name": "stdout",
          "output_type": "stream",
          "text": [
            "Processing modality: feature vector (QID: Q1921842)\n"
          ]
        },
        {
          "name": "stderr",
          "output_type": "stream",
          "text": [
            "WARNING:root:No QID found for label: social context\n"
          ]
        },
        {
          "name": "stdout",
          "output_type": "stream",
          "text": [
            "Processing modality: spatial (QID: Q122075505)\n",
            "Processing modality: visual (QID: Q4014836)\n"
          ]
        },
        {
          "name": "stderr",
          "output_type": "stream",
          "text": [
            "WARNING:root:No QID found for label: spatiotemporal\n"
          ]
        },
        {
          "name": "stdout",
          "output_type": "stream",
          "text": [
            "Processing modality: software (QID: Q7397)\n",
            "Processing modality: sketch (QID: Q5078274)\n"
          ]
        },
        {
          "name": "stderr",
          "output_type": "stream",
          "text": [
            "WARNING:root:No QID found for label: meteorological\n",
            "WARNING:root:No QID found for label: structural\n",
            "WARNING:root:No QID found for label: chemical\n",
            "WARNING:root:No QID found for label: neural\n"
          ]
        },
        {
          "name": "stdout",
          "output_type": "stream",
          "text": [
            "Processing modality: feature (QID: Q93586)\n"
          ]
        },
        {
          "name": "stderr",
          "output_type": "stream",
          "text": [
            "WARNING:root:No QID found for label: system log\n",
            "WARNING:root:No QID found for label: categorical\n"
          ]
        },
        {
          "name": "stdout",
          "output_type": "stream",
          "text": [
            "Processing modality: tactile (QID: Q124134995)\n"
          ]
        },
        {
          "name": "stderr",
          "output_type": "stream",
          "text": [
            "WARNING:root:No QID found for label: biological\n",
            "WARNING:root:No QID found for label: syntactic analysis\n"
          ]
        },
        {
          "name": "stdout",
          "output_type": "stream",
          "text": [
            "Processing modality: notebook (QID: Q43013)\n",
            "Processing modality: emotion (QID: Q95969875)\n"
          ]
        },
        {
          "name": "stderr",
          "output_type": "stream",
          "text": [
            "WARNING:root:No QID found for label: electrophysiological\n",
            "WARNING:root:No QID found for label: imu\n",
            "WARNING:root:No QID found for label: kinesthetic\n",
            "WARNING:root:No QID found for label: gnss/ins\n"
          ]
        },
        {
          "name": "stdout",
          "output_type": "stream",
          "text": [
            "Processing modality: biomarker (QID: Q864574)\n"
          ]
        },
        {
          "name": "stderr",
          "output_type": "stream",
          "text": [
            "WARNING:root:No QID found for label: neurophysiological\n",
            "WARNING:root:No QID found for label: 3d object\n",
            "WARNING:root:No QID found for label: spectra\n",
            "WARNING:root:No QID found for label: 3d environment\n",
            "WARNING:root:No QID found for label: real world data\n",
            "WARNING:root:No QID found for label: bounding box\n",
            "WARNING:root:No QID found for label: 3d motion capture\n",
            "WARNING:root:No QID found for label: positional data\n",
            "WARNING:root:No QID found for label: eog\n",
            "WARNING:root:No QID found for label: ecg\n"
          ]
        },
        {
          "name": "stdout",
          "output_type": "stream",
          "text": [
            "Processing modality: other (QID: Q1433373)\n",
            "Processing modality: database (QID: Q8513)\n",
            "Processing modality: box (QID: Q188075)\n",
            "Processing modality: animation (QID: Q11425)\n"
          ]
        },
        {
          "name": "stderr",
          "output_type": "stream",
          "text": [
            "WARNING:root:No QID found for label: brain signal\n"
          ]
        },
        {
          "name": "stdout",
          "output_type": "stream",
          "text": [
            "Processing modality: odometry (QID: Q2014717)\n",
            "Processing modality: blockchain (QID: Q20514253)\n"
          ]
        },
        {
          "name": "stderr",
          "output_type": "stream",
          "text": [
            "WARNING:root:No QID found for label: spiking neural data\n"
          ]
        },
        {
          "name": "stdout",
          "output_type": "stream",
          "text": [
            "Processing modality: vr (QID: Q29716068)\n"
          ]
        },
        {
          "name": "stderr",
          "output_type": "stream",
          "text": [
            "WARNING:root:No QID found for label: json\n"
          ]
        },
        {
          "name": "stdout",
          "output_type": "stream",
          "text": [
            "Processing modality: data file (QID: Q5227290)\n",
            "Processing modality: biosignal (QID: Q644240)\n",
            "Knowledge graph saved to knowledge_graph.owl\n"
          ]
        }
      ],
      "source": [
        "import json\n",
        "import time\n",
        "import logging\n",
        "from SPARQLWrapper import SPARQLWrapper, JSON\n",
        "from rdflib import Graph, URIRef, Literal, Namespace, RDF\n",
        "\n",
        "# Set the Wikidata SPARQL endpoint\n",
        "SPARQL_ENDPOINT = \"https://query.wikidata.org/sparql\"\n",
        "\n",
        "\n",
        "# Define namespaces\n",
        "EX = Namespace(\"http://example.org/\")\n",
        "WIKIDATA = Namespace(\"http://www.wikidata.org/entity/\")\n",
        "\n",
        "# Create an RDF graph\n",
        "g = Graph()\n",
        "g.bind(\"ex\", EX)\n",
        "g.bind(\"wikidata\", WIKIDATA)\n",
        "\n",
        "# Prevent duplicate queries\n",
        "queried_nodes = set()\n",
        "\n",
        "def get_qid(label):\n",
        "    \"\"\"Get the QID of an entity based on its label.\"\"\"\n",
        "    time.sleep(1)\n",
        "    logging.info(f\"Fetching QID for label: {label}\")\n",
        "    query = f\"\"\"\n",
        "    SELECT ?entity WHERE {{\n",
        "      ?entity rdfs:label \"{label}\"@en.\n",
        "      FILTER (STRSTARTS(STR(?entity), \"http://www.wikidata.org/entity/Q\"))\n",
        "    }}\n",
        "    LIMIT 1\n",
        "    \"\"\"\n",
        "    sparql = SPARQLWrapper(SPARQL_ENDPOINT)\n",
        "    sparql.setQuery(query)\n",
        "    sparql.setReturnFormat(JSON)\n",
        "    results = sparql.query().convert()\n",
        "\n",
        "    if results[\"results\"][\"bindings\"]:\n",
        "        qid = results[\"results\"][\"bindings\"][0][\"entity\"][\"value\"].split(\"/\")[-1]\n",
        "        logging.info(f\"Found QID for {label}: {qid}\")\n",
        "        return qid\n",
        "    else:\n",
        "        logging.warning(f\"No QID found for label: {label}\")\n",
        "    return None\n",
        "\n",
        "def query_wikidata_properties(qid):\n",
        "    \"\"\"Query Wikidata properties for a given entity\"\"\"\n",
        "    if qid in queried_nodes:\n",
        "        return []\n",
        "    queried_nodes.add(qid)\n",
        "\n",
        "    # print(f\"Querying properties for QID: {qid}\")\n",
        "    query = f\"\"\"\n",
        "    SELECT ?property ?propertyLabel ?value ?valueLabel WHERE {{\n",
        "      wd:{qid} ?p ?value.\n",
        "      ?property wikibase:directClaim ?p.\n",
        "      FILTER (?property IN (wd:{\", wd:\".join(RELEVANT_PROPERTIES)}))\n",
        "      OPTIONAL {{ ?value rdfs:label ?valueLabel. FILTER(LANG(?valueLabel) = \"en\") }}\n",
        "      SERVICE wikibase:label {{ bd:serviceParam wikibase:language \"en\". }}\n",
        "    }}\n",
        "    \"\"\"\n",
        "    sparql = SPARQLWrapper(SPARQL_ENDPOINT)\n",
        "    sparql.setQuery(query)\n",
        "    sparql.setReturnFormat(JSON)\n",
        "    results = sparql.query().convert()\n",
        "    return results[\"results\"][\"bindings\"]\n",
        "\n",
        "def recursive_query(qid, depth=0, max_depth=3):\n",
        "    \"\"\"Recursively query and construct the knowledge graph\"\"\"\n",
        "    if depth > max_depth:\n",
        "        return\n",
        "\n",
        "    # Query entity properties\n",
        "    results = query_wikidata_properties(qid)\n",
        "\n",
        "    for result in results:\n",
        "        prop = result[\"propertyLabel\"][\"value\"].replace(\" \", \"_\").replace(\"(\", \"_\").replace(\")\", \"_\")\n",
        "        value = result.get(\"valueLabel\", {}).get(\"value\", result[\"value\"][\"value\"])\n",
        "        value_uri = result[\"value\"][\"value\"]\n",
        "\n",
        "        # Check if the value is a Wikidata entity\n",
        "        if \"wikidata.org/entity/\" in value_uri:\n",
        "            value_qid = value_uri.split(\"/\")[-1]\n",
        "\n",
        "            # Add nodes to RDF graph\n",
        "            g.add((WIKIDATA[qid], RDF.type, EX.Entity))\n",
        "            g.add((WIKIDATA[qid], EX[prop], WIKIDATA[value_qid]))\n",
        "\n",
        "            # recursive query\n",
        "            recursive_query(value_qid, depth + 1, max_depth)\n",
        "\n",
        "def build_knowledge_graph(dataset, max_depth=3):\n",
        "    \"\"\"Build a knowledge graph from a data set\"\"\"\n",
        "    for entry in dataset:\n",
        "        modality = entry[\"modality\"]\n",
        "        data_types = entry[\"data_types\"]\n",
        "\n",
        "        # Get the QID of modality\n",
        "        modality_qid = get_qid(modality)\n",
        "        if modality_qid:\n",
        "            print(f\"Processing modality: {modality} (QID: {modality_qid})\")\n",
        "\n",
        "            # Add modality node to RDF graph\n",
        "            g.add((WIKIDATA[modality_qid], RDF.type, EX.Modality))\n",
        "            g.add((WIKIDATA[modality_qid], EX.label, Literal(modality)))\n",
        "\n",
        "            # Recursively query the properties of modality\n",
        "            recursive_query(modality_qid, depth=0, max_depth=max_depth)\n",
        "\n",
        "            # Handle data_types\n",
        "            for data_type, properties in data_types.items():\n",
        "                data_type_qid = properties.get(\"wikidata_id\")\n",
        "\n",
        "                if data_type_qid:\n",
        "                    # print(f\"Processing data type: {data_type} (QID: {data_type_qid})\")\n",
        "\n",
        "                    # Add a data_type node and append its attributes to the RDF graph\n",
        "                    g.add((WIKIDATA[data_type_qid], RDF.type, EX.Datatype))\n",
        "                    g.add((WIKIDATA[data_type_qid], EX.label, Literal(data_type)))\n",
        "                    g.add((WIKIDATA[data_type_qid], EX.frequency, Literal(properties.get(\"frequency\"))))\n",
        "                    g.add((WIKIDATA[data_type_qid], EX.wikidata_label, Literal(properties.get(\"wikidata_label\"))))\n",
        "                    g.add((WIKIDATA[data_type_qid], EX.wikidata_description, Literal(properties.get(\"wikidata_description\"))))\n",
        "\n",
        "                    # Add custom edges of modality and data_type\n",
        "                    g.add((WIKIDATA[modality_qid], EX[\"Modality_Datatype\"], WIKIDATA[data_type_qid]))\n",
        "\n",
        "                    # Recursively query the attributes of data_type\n",
        "                    recursive_query(data_type_qid, depth=0, max_depth=max_depth)\n",
        "\n",
        "    # Save the knowledge graph as an OWL file\n",
        "    g.serialize(destination=\"knowledge_graph_2.owl\", format=\"xml\")\n",
        "    print(\"Knowledge graph saved to knowledge_graph.owl\")\n",
        "\n",
        "\n",
        "# Load file\n",
        "with open('matched_modalities_data_types.json', 'r') as f:\n",
        "    dataset = json.load(f)\n",
        "\n",
        "# Build a knowledge graph\n",
        "build_knowledge_graph(dataset, max_depth=2)"
      ]
    },
    {
      "cell_type": "code",
      "execution_count": null,
      "metadata": {
        "colab": {
          "base_uri": "https://localhost:8080/"
        },
        "id": "LqGRioZp-66y",
        "outputId": "1140b981-ca5e-4541-b431-365beef65904"
      },
      "outputs": [
        {
          "name": "stdout",
          "output_type": "stream",
          "text": [
            "Processing modality: image (QID: Q478798)\n",
            "Processing modality: text (QID: Q234460)\n"
          ]
        },
        {
          "name": "stderr",
          "output_type": "stream",
          "text": [
            "WARNING:root:No QID found for label: 3d model\n"
          ]
        },
        {
          "name": "stdout",
          "output_type": "stream",
          "text": [
            "Processing modality: video (QID: Q625525)\n",
            "Processing modality: audio (QID: Q3500685)\n"
          ]
        },
        {
          "name": "stderr",
          "output_type": "stream",
          "text": [
            "WARNING:root:No QID found for label: 3d point cloud\n",
            "WARNING:root:No QID found for label: numerical\n"
          ]
        },
        {
          "name": "stdout",
          "output_type": "stream",
          "text": [
            "Processing modality: metadata (QID: Q180160)\n",
            "Processing modality: structured data (QID: Q26813700)\n",
            "Processing modality: annotation (QID: Q857525)\n",
            "Processing modality: depth (QID: Q181591)\n",
            "Processing modality: skeleton (QID: Q7881)\n"
          ]
        },
        {
          "name": "stderr",
          "output_type": "stream",
          "text": [
            "WARNING:root:No QID found for label: inertial\n"
          ]
        },
        {
          "name": "stdout",
          "output_type": "stream",
          "text": [
            "Processing modality: sensor (QID: Q167676)\n"
          ]
        },
        {
          "name": "stderr",
          "output_type": "stream",
          "text": [
            "WARNING:root:No QID found for label: midi\n",
            "WARNING:root:No QID found for label: 3d\n",
            "WARNING:root:No QID found for label: 3d skeletal\n"
          ]
        },
        {
          "name": "stdout",
          "output_type": "stream",
          "text": [
            "Processing modality: tabular (QID: Q13402984)\n",
            "Processing modality: graph (QID: Q141488)\n"
          ]
        },
        {
          "name": "stderr",
          "output_type": "stream",
          "text": [
            "WARNING:root:No QID found for label: kinematic\n",
            "WARNING:root:No QID found for label: 3d structure\n"
          ]
        },
        {
          "name": "stdout",
          "output_type": "stream",
          "text": [
            "Processing modality: network (QID: Q109406)\n"
          ]
        },
        {
          "name": "stderr",
          "output_type": "stream",
          "text": [
            "WARNING:root:No QID found for label: 3d skeleton\n"
          ]
        },
        {
          "name": "stdout",
          "output_type": "stream",
          "text": [
            "Processing modality: table (QID: Q14748)\n",
            "Processing modality: time series (QID: Q186588)\n",
            "Processing modality: simulation (QID: Q45045)\n",
            "Processing modality: lidar (QID: Q504027)\n",
            "Processing modality: radar (QID: Q47528)\n",
            "Processing modality: numeric (QID: Q3249849)\n",
            "Processing modality: signal (QID: Q174984)\n",
            "Processing modality: data (QID: Q42848)\n",
            "Processing modality: point cloud (QID: Q1899648)\n",
            "Processing modality: vector (QID: Q107994)\n",
            "Processing modality: label (QID: Q202581)\n",
            "Processing modality: chemical structure (QID: Q500256)\n"
          ]
        },
        {
          "name": "stderr",
          "output_type": "stream",
          "text": [
            "WARNING:root:No QID found for label: physiological signal\n"
          ]
        },
        {
          "name": "stdout",
          "output_type": "stream",
          "text": [
            "Processing modality: motion capture (QID: Q676252)\n"
          ]
        },
        {
          "name": "stderr",
          "output_type": "stream",
          "text": [
            "WARNING:root:No QID found for label: spatial coordinate\n",
            "WARNING:root:No QID found for label: eeg\n"
          ]
        },
        {
          "name": "stdout",
          "output_type": "stream",
          "text": [
            "Processing modality: geolocation (QID: Q123349905)\n",
            "Processing modality: temporal (QID: Q2472680)\n",
            "Processing modality: sequence (QID: Q133250)\n",
            "Processing modality: trajectory (QID: Q193139)\n",
            "Processing modality: neuroimaging (QID: Q551875)\n",
            "Processing modality: environment (QID: Q1572519)\n"
          ]
        },
        {
          "name": "stderr",
          "output_type": "stream",
          "text": [
            "WARNING:root:No QID found for label: 3d simulation\n"
          ]
        },
        {
          "name": "stdout",
          "output_type": "stream",
          "text": [
            "Processing modality: pose (QID: Q1671968)\n",
            "Processing modality: visualization (QID: Q451553)\n",
            "Processing modality: geospatial (QID: Q122074678)\n"
          ]
        },
        {
          "name": "stderr",
          "output_type": "stream",
          "text": [
            "WARNING:root:No QID found for label: physiological\n"
          ]
        },
        {
          "name": "stdout",
          "output_type": "stream",
          "text": [
            "Processing modality: binary (QID: Q58483123)\n",
            "Processing modality: interaction (QID: Q52948)\n",
            "Processing modality: eye tracking (QID: Q970687)\n",
            "Processing modality: social network (QID: Q2715623)\n"
          ]
        },
        {
          "name": "stderr",
          "output_type": "stream",
          "text": [
            "WARNING:root:No QID found for label: 3d pose\n"
          ]
        },
        {
          "name": "stdout",
          "output_type": "stream",
          "text": [
            "Processing modality: event (QID: Q1349920)\n",
            "Processing modality: control (QID: Q338754)\n",
            "Processing modality: synthetic data (QID: Q7662746)\n"
          ]
        },
        {
          "name": "stderr",
          "output_type": "stream",
          "text": [
            "WARNING:root:No QID found for label: meta information\n"
          ]
        },
        {
          "name": "stdout",
          "output_type": "stream",
          "text": [
            "Processing modality: code (QID: Q188889)\n"
          ]
        },
        {
          "name": "stderr",
          "output_type": "stream",
          "text": [
            "WARNING:root:No QID found for label: genomic sequence\n"
          ]
        },
        {
          "name": "stdout",
          "output_type": "stream",
          "text": [
            "Processing modality: knowledge graph (QID: Q33002955)\n",
            "Processing modality: matrix (QID: Q44337)\n",
            "Processing modality: motion (QID: Q79782)\n"
          ]
        },
        {
          "name": "stderr",
          "output_type": "stream",
          "text": [
            "WARNING:root:No QID found for label: laser scan\n",
            "WARNING:root:No QID found for label: user data\n",
            "WARNING:root:No QID found for label: 3d body skeleton\n"
          ]
        },
        {
          "name": "stdout",
          "output_type": "stream",
          "text": [
            "Processing modality: game (QID: Q11410)\n"
          ]
        },
        {
          "name": "stderr",
          "output_type": "stream",
          "text": [
            "WARNING:root:No QID found for label: 3d motion\n",
            "WARNING:root:No QID found for label: pose information\n",
            "WARNING:root:No QID found for label: temporal graph\n",
            "WARNING:root:No QID found for label: genomic\n",
            "WARNING:root:No QID found for label: network traffic\n"
          ]
        },
        {
          "name": "stdout",
          "output_type": "stream",
          "text": [
            "Processing modality: web (QID: Q1427141)\n",
            "Processing modality: log (QID: Q12029485)\n",
            "Processing modality: model (QID: Q1941828)\n"
          ]
        },
        {
          "name": "stderr",
          "output_type": "stream",
          "text": [
            "WARNING:root:No QID found for label: eye gaze\n"
          ]
        },
        {
          "name": "stdout",
          "output_type": "stream",
          "text": [
            "Processing modality: feature vector (QID: Q1921842)\n"
          ]
        },
        {
          "name": "stderr",
          "output_type": "stream",
          "text": [
            "WARNING:root:No QID found for label: social context\n"
          ]
        },
        {
          "name": "stdout",
          "output_type": "stream",
          "text": [
            "Processing modality: spatial (QID: Q122075505)\n",
            "Processing modality: visual (QID: Q4014836)\n"
          ]
        },
        {
          "name": "stderr",
          "output_type": "stream",
          "text": [
            "WARNING:root:No QID found for label: spatiotemporal\n"
          ]
        },
        {
          "name": "stdout",
          "output_type": "stream",
          "text": [
            "Processing modality: software (QID: Q7397)\n",
            "Processing modality: sketch (QID: Q5078274)\n"
          ]
        },
        {
          "name": "stderr",
          "output_type": "stream",
          "text": [
            "WARNING:root:No QID found for label: meteorological\n",
            "WARNING:root:No QID found for label: structural\n",
            "WARNING:root:No QID found for label: chemical\n",
            "WARNING:root:No QID found for label: neural\n"
          ]
        },
        {
          "name": "stdout",
          "output_type": "stream",
          "text": [
            "Processing modality: feature (QID: Q93586)\n"
          ]
        },
        {
          "name": "stderr",
          "output_type": "stream",
          "text": [
            "WARNING:root:No QID found for label: system log\n",
            "WARNING:root:No QID found for label: categorical\n"
          ]
        },
        {
          "name": "stdout",
          "output_type": "stream",
          "text": [
            "Processing modality: tactile (QID: Q124134995)\n"
          ]
        },
        {
          "name": "stderr",
          "output_type": "stream",
          "text": [
            "WARNING:root:No QID found for label: biological\n",
            "WARNING:root:No QID found for label: syntactic analysis\n"
          ]
        },
        {
          "name": "stdout",
          "output_type": "stream",
          "text": [
            "Processing modality: notebook (QID: Q43013)\n",
            "Processing modality: emotion (QID: Q95969875)\n"
          ]
        },
        {
          "name": "stderr",
          "output_type": "stream",
          "text": [
            "WARNING:root:No QID found for label: electrophysiological\n",
            "WARNING:root:No QID found for label: imu\n",
            "WARNING:root:No QID found for label: kinesthetic\n",
            "WARNING:root:No QID found for label: gnss/ins\n"
          ]
        },
        {
          "name": "stdout",
          "output_type": "stream",
          "text": [
            "Processing modality: biomarker (QID: Q864574)\n"
          ]
        },
        {
          "name": "stderr",
          "output_type": "stream",
          "text": [
            "WARNING:root:No QID found for label: neurophysiological\n",
            "WARNING:root:No QID found for label: 3d object\n",
            "WARNING:root:No QID found for label: spectra\n",
            "WARNING:root:No QID found for label: 3d environment\n",
            "WARNING:root:No QID found for label: real world data\n",
            "WARNING:root:No QID found for label: bounding box\n",
            "WARNING:root:No QID found for label: 3d motion capture\n",
            "WARNING:root:No QID found for label: positional data\n",
            "WARNING:root:No QID found for label: eog\n",
            "WARNING:root:No QID found for label: ecg\n"
          ]
        },
        {
          "name": "stdout",
          "output_type": "stream",
          "text": [
            "Processing modality: other (QID: Q1433373)\n",
            "Processing modality: database (QID: Q8513)\n",
            "Processing modality: box (QID: Q188075)\n",
            "Processing modality: animation (QID: Q11425)\n"
          ]
        },
        {
          "name": "stderr",
          "output_type": "stream",
          "text": [
            "WARNING:root:No QID found for label: brain signal\n"
          ]
        },
        {
          "name": "stdout",
          "output_type": "stream",
          "text": [
            "Processing modality: odometry (QID: Q2014717)\n",
            "Processing modality: blockchain (QID: Q20514253)\n"
          ]
        },
        {
          "name": "stderr",
          "output_type": "stream",
          "text": [
            "WARNING:root:No QID found for label: spiking neural data\n"
          ]
        },
        {
          "name": "stdout",
          "output_type": "stream",
          "text": [
            "Processing modality: vr (QID: Q29716068)\n"
          ]
        },
        {
          "name": "stderr",
          "output_type": "stream",
          "text": [
            "WARNING:root:No QID found for label: json\n"
          ]
        },
        {
          "name": "stdout",
          "output_type": "stream",
          "text": [
            "Processing modality: data file (QID: Q5227290)\n",
            "Processing modality: biosignal (QID: Q644240)\n",
            "Knowledge graph saved to knowledge_graph.owl\n"
          ]
        }
      ],
      "source": [
        "import json\n",
        "import time\n",
        "import logging\n",
        "from SPARQLWrapper import SPARQLWrapper, JSON\n",
        "from rdflib import Graph, URIRef, Literal, Namespace, RDF\n",
        "\n",
        "# Set the Wikidata SPARQL endpoint\n",
        "SPARQL_ENDPOINT = \"https://query.wikidata.org/sparql\"\n",
        "\n",
        "\n",
        "# Define namespaces\n",
        "EX = Namespace(\"http://example.org/\")\n",
        "WIKIDATA = Namespace(\"http://www.wikidata.org/entity/\")\n",
        "\n",
        "# Create an RDF graph\n",
        "g = Graph()\n",
        "g.bind(\"ex\", EX)\n",
        "g.bind(\"wikidata\", WIKIDATA)\n",
        "\n",
        "# Prevent duplicate queries\n",
        "queried_nodes = set()\n",
        "\n",
        "def get_qid(label):\n",
        "    \"\"\"Get the QID of an entity based on its label.\"\"\"\n",
        "    time.sleep(1)\n",
        "    logging.info(f\"Fetching QID for label: {label}\")\n",
        "    query = f\"\"\"\n",
        "    SELECT ?entity WHERE {{\n",
        "      ?entity rdfs:label \"{label}\"@en.\n",
        "      FILTER (STRSTARTS(STR(?entity), \"http://www.wikidata.org/entity/Q\"))\n",
        "    }}\n",
        "    LIMIT 1\n",
        "    \"\"\"\n",
        "    sparql = SPARQLWrapper(SPARQL_ENDPOINT)\n",
        "    sparql.setQuery(query)\n",
        "    sparql.setReturnFormat(JSON)\n",
        "    results = sparql.query().convert()\n",
        "\n",
        "    if results[\"results\"][\"bindings\"]:\n",
        "        qid = results[\"results\"][\"bindings\"][0][\"entity\"][\"value\"].split(\"/\")[-1]\n",
        "        logging.info(f\"Found QID for {label}: {qid}\")\n",
        "        return qid\n",
        "    else:\n",
        "        logging.warning(f\"No QID found for label: {label}\")\n",
        "    return None\n",
        "\n",
        "def query_wikidata_properties(qid):\n",
        "    \"\"\"Query Wikidata properties for a given entity\"\"\"\n",
        "    if qid in queried_nodes:\n",
        "        return []\n",
        "    queried_nodes.add(qid)\n",
        "\n",
        "    # print(f\"Querying properties for QID: {qid}\")\n",
        "    query = f\"\"\"\n",
        "    SELECT ?property ?propertyLabel ?value ?valueLabel WHERE {{\n",
        "      wd:{qid} ?p ?value.\n",
        "      ?property wikibase:directClaim ?p.\n",
        "      FILTER (?property IN (wd:{\", wd:\".join(RELEVANT_PROPERTIES)}))\n",
        "      OPTIONAL {{ ?value rdfs:label ?valueLabel. FILTER(LANG(?valueLabel) = \"en\") }}\n",
        "      SERVICE wikibase:label {{ bd:serviceParam wikibase:language \"en\". }}\n",
        "    }}\n",
        "    \"\"\"\n",
        "    sparql = SPARQLWrapper(SPARQL_ENDPOINT)\n",
        "    sparql.setQuery(query)\n",
        "    sparql.setReturnFormat(JSON)\n",
        "    results = sparql.query().convert()\n",
        "    return results[\"results\"][\"bindings\"]\n",
        "\n",
        "def recursive_query(qid, depth=0, max_depth=3):\n",
        "    \"\"\"Recursively query and construct the knowledge graph\"\"\"\n",
        "    if depth > max_depth:\n",
        "        return\n",
        "\n",
        "    # Query entity properties\n",
        "    results = query_wikidata_properties(qid)\n",
        "\n",
        "    for result in results:\n",
        "        prop = result[\"propertyLabel\"][\"value\"].replace(\" \", \"_\").replace(\"(\", \"_\").replace(\")\", \"_\")\n",
        "        value = result.get(\"valueLabel\", {}).get(\"value\", result[\"value\"][\"value\"])\n",
        "        value_uri = result[\"value\"][\"value\"]\n",
        "\n",
        "        # Check if the value is a Wikidata entity\n",
        "        if \"wikidata.org/entity/\" in value_uri:\n",
        "            value_qid = value_uri.split(\"/\")[-1]\n",
        "\n",
        "            # Add nodes to RDF graph\n",
        "            g.add((WIKIDATA[qid], RDF.type, EX.Entity))\n",
        "            g.add((WIKIDATA[qid], EX[prop], WIKIDATA[value_qid]))\n",
        "\n",
        "            # recursive query\n",
        "            recursive_query(value_qid, depth + 1, max_depth)\n",
        "\n",
        "def build_knowledge_graph(dataset, max_depth=3):\n",
        "    \"\"\"Build a knowledge graph from a data set\"\"\"\n",
        "    for entry in dataset:\n",
        "        modality = entry[\"modality\"]\n",
        "        data_types = entry[\"data_types\"]\n",
        "\n",
        "        # Get the QID of modality\n",
        "        modality_qid = get_qid(modality)\n",
        "        if modality_qid:\n",
        "            print(f\"Processing modality: {modality} (QID: {modality_qid})\")\n",
        "\n",
        "            # Add modality node to RDF graph\n",
        "            g.add((WIKIDATA[modality_qid], RDF.type, EX.Modality))\n",
        "            g.add((WIKIDATA[modality_qid], EX.label, Literal(modality)))\n",
        "\n",
        "            # Recursively query the properties of modality\n",
        "            recursive_query(modality_qid, depth=0, max_depth=max_depth)\n",
        "\n",
        "            # Handle data_types\n",
        "            for data_type, properties in data_types.items():\n",
        "                data_type_qid = properties.get(\"wikidata_id\")\n",
        "\n",
        "                if data_type_qid:\n",
        "                    # print(f\"Processing data type: {data_type} (QID: {data_type_qid})\")\n",
        "\n",
        "                    # Add a data_type node and append its attributes to the RDF graph\n",
        "                    g.add((WIKIDATA[data_type_qid], RDF.type, EX.Datatype))\n",
        "                    g.add((WIKIDATA[data_type_qid], EX.label, Literal(data_type)))\n",
        "                    g.add((WIKIDATA[data_type_qid], EX.frequency, Literal(properties.get(\"frequency\"))))\n",
        "                    g.add((WIKIDATA[data_type_qid], EX.wikidata_label, Literal(properties.get(\"wikidata_label\"))))\n",
        "                    g.add((WIKIDATA[data_type_qid], EX.wikidata_description, Literal(properties.get(\"wikidata_description\"))))\n",
        "\n",
        "                    # Add custom edges of modality and data_type\n",
        "                    g.add((WIKIDATA[modality_qid], EX[\"Modality_Datatype\"], WIKIDATA[data_type_qid]))\n",
        "\n",
        "                    # Recursively query the attributes of data_type\n",
        "                    recursive_query(data_type_qid, depth=0, max_depth=max_depth)\n",
        "\n",
        "    # Save the knowledge graph as an OWL file\n",
        "    g.serialize(destination=\"knowledge_graph_1.owl\", format=\"xml\")\n",
        "    print(\"Knowledge graph saved to knowledge_graph.owl\")\n",
        "\n",
        "\n",
        "# Load file\n",
        "with open('matched_modalities_data_types.json', 'r') as f:\n",
        "    dataset = json.load(f)\n",
        "\n",
        "# Build a knowledge graph\n",
        "build_knowledge_graph(dataset, max_depth=1)"
      ]
    },
    {
      "cell_type": "code",
      "execution_count": null,
      "metadata": {
        "id": "L3fgoDWarU_k"
      },
      "outputs": [],
      "source": [
        "def recursive_query(qid, depth=0, max_depth=3):\n",
        "    \"\"\"Recursively query and construct the knowledge graph\"\"\"\n",
        "    if depth > max_depth:\n",
        "        return\n",
        "\n",
        "    # Query entity properties\n",
        "    results = query_wikidata_properties(qid)\n",
        "\n",
        "    for result in results:\n",
        "        prop = result[\"propertyLabel\"][\"value\"].replace(\" \", \"_\").replace(\"(\", \"_\").replace(\")\", \"_\")\n",
        "        value = result.get(\"valueLabel\", {}).get(\"value\", result[\"value\"][\"value\"])\n",
        "        value_uri = result[\"value\"][\"value\"]\n",
        "\n",
        "        # Check if the value is a Wikidata entity\n",
        "        if \"wikidata.org/entity/\" in value_uri:\n",
        "            value_qid = value_uri.split(\"/\")[-1]\n",
        "\n",
        "            # recursive query\n",
        "            recursive_query(value_qid, depth + 1, max_depth)\n",
        "\n",
        "def build_knowledge_graph(dataset, max_depth=3):\n",
        "    \"\"\"Build a knowledge graph from a data set\"\"\"\n",
        "    for entry in dataset:\n",
        "        modality = entry[\"modality\"]\n",
        "        data_types = entry[\"data_types\"]\n",
        "\n",
        "        # Get the QID of modality\n",
        "        modality_qid = get_qid(modality)\n",
        "        if modality_qid:\n",
        "            print(f\"Processing modality: {modality} (QID: {modality_qid})\")\n",
        "\n",
        "            # Add modality node to RDF graph，EX.Modality\n",
        "            g.add((WIKIDATA[modality_qid], RDF.type, EX.Modality))\n",
        "            g.add((WIKIDATA[modality_qid], EX.label, Literal(modality)))\n",
        "\n",
        "            # Recursively query the properties of modality\n",
        "            recursive_query(modality_qid, depth=0, max_depth=max_depth)\n",
        "\n",
        "            # Handle data_types\n",
        "            for data_type, properties in data_types.items():\n",
        "                data_type_qid = properties.get(\"wikidata_id\")\n",
        "\n",
        "                if data_type_qid:\n",
        "                    # Add a data_type node and specify the type as EX.Datatype\n",
        "                    g.add((WIKIDATA[data_type_qid], RDF.type, EX.Datatype))\n",
        "                    g.add((WIKIDATA[data_type_qid], EX.label, Literal(data_type)))\n",
        "                    g.add((WIKIDATA[data_type_qid], EX.frequency, Literal(properties.get(\"frequency\"))))\n",
        "                    g.add((WIKIDATA[data_type_qid], EX.wikidata_label, Literal(properties.get(\"wikidata_label\"))))\n",
        "                    g.add((WIKIDATA[data_type_qid], EX.wikidata_description, Literal(properties.get(\"wikidata_description\"))))\n",
        "\n",
        "                    # Add custom edges of modality and data_type\n",
        "                    g.add((WIKIDATA[modality_qid], EX[\"Modality_Datatype\"], WIKIDATA[data_type_qid]))\n",
        "\n",
        "                    # Recursively query the attributes of data_type\n",
        "                    recursive_query(data_type_qid, depth=0, max_depth=max_depth)\n",
        "\n",
        "    # Save the knowledge graph as an OWL file\n",
        "    g.serialize(destination=\"knowledge_graph_3.owl\", format=\"xml\")\n",
        "    print(\"Knowledge graph saved to knowledge_graph.owl\")"
      ]
    },
    {
      "cell_type": "code",
      "execution_count": null,
      "metadata": {
        "colab": {
          "base_uri": "https://localhost:8080/"
        },
        "id": "ZE4Gjn7Vrs_4",
        "outputId": "0d8a4833-733e-423e-faa1-f3c67590d159"
      },
      "outputs": [
        {
          "name": "stdout",
          "output_type": "stream",
          "text": [
            "Processing modality: image (QID: Q478798)\n",
            "Processing modality: text (QID: Q234460)\n"
          ]
        },
        {
          "name": "stderr",
          "output_type": "stream",
          "text": [
            "WARNING:root:No QID found for label: 3d model\n"
          ]
        },
        {
          "name": "stdout",
          "output_type": "stream",
          "text": [
            "Processing modality: video (QID: Q625525)\n",
            "Processing modality: audio (QID: Q3500685)\n"
          ]
        },
        {
          "name": "stderr",
          "output_type": "stream",
          "text": [
            "WARNING:root:No QID found for label: 3d point cloud\n",
            "WARNING:root:No QID found for label: numerical\n"
          ]
        },
        {
          "name": "stdout",
          "output_type": "stream",
          "text": [
            "Processing modality: metadata (QID: Q180160)\n",
            "Processing modality: structured data (QID: Q26813700)\n",
            "Processing modality: annotation (QID: Q857525)\n",
            "Processing modality: depth (QID: Q181591)\n",
            "Processing modality: skeleton (QID: Q7881)\n"
          ]
        },
        {
          "name": "stderr",
          "output_type": "stream",
          "text": [
            "WARNING:root:No QID found for label: inertial\n"
          ]
        },
        {
          "name": "stdout",
          "output_type": "stream",
          "text": [
            "Processing modality: sensor (QID: Q167676)\n"
          ]
        },
        {
          "name": "stderr",
          "output_type": "stream",
          "text": [
            "WARNING:root:No QID found for label: midi\n",
            "WARNING:root:No QID found for label: 3d\n",
            "WARNING:root:No QID found for label: 3d skeletal\n"
          ]
        },
        {
          "name": "stdout",
          "output_type": "stream",
          "text": [
            "Processing modality: tabular (QID: Q13402984)\n",
            "Processing modality: graph (QID: Q141488)\n"
          ]
        },
        {
          "name": "stderr",
          "output_type": "stream",
          "text": [
            "WARNING:root:No QID found for label: kinematic\n",
            "WARNING:root:No QID found for label: 3d structure\n"
          ]
        },
        {
          "name": "stdout",
          "output_type": "stream",
          "text": [
            "Processing modality: network (QID: Q109406)\n"
          ]
        },
        {
          "name": "stderr",
          "output_type": "stream",
          "text": [
            "WARNING:root:No QID found for label: 3d skeleton\n"
          ]
        },
        {
          "name": "stdout",
          "output_type": "stream",
          "text": [
            "Processing modality: table (QID: Q14748)\n",
            "Processing modality: time series (QID: Q186588)\n",
            "Processing modality: simulation (QID: Q45045)\n",
            "Processing modality: lidar (QID: Q504027)\n",
            "Processing modality: radar (QID: Q47528)\n",
            "Processing modality: numeric (QID: Q3249849)\n",
            "Processing modality: signal (QID: Q174984)\n",
            "Processing modality: data (QID: Q42848)\n",
            "Processing modality: point cloud (QID: Q1899648)\n",
            "Processing modality: vector (QID: Q107994)\n",
            "Processing modality: label (QID: Q202581)\n",
            "Processing modality: chemical structure (QID: Q500256)\n"
          ]
        },
        {
          "name": "stderr",
          "output_type": "stream",
          "text": [
            "WARNING:root:No QID found for label: physiological signal\n"
          ]
        },
        {
          "name": "stdout",
          "output_type": "stream",
          "text": [
            "Processing modality: motion capture (QID: Q676252)\n"
          ]
        },
        {
          "name": "stderr",
          "output_type": "stream",
          "text": [
            "WARNING:root:No QID found for label: spatial coordinate\n",
            "WARNING:root:No QID found for label: eeg\n"
          ]
        },
        {
          "name": "stdout",
          "output_type": "stream",
          "text": [
            "Processing modality: geolocation (QID: Q123349905)\n",
            "Processing modality: temporal (QID: Q2472680)\n",
            "Processing modality: sequence (QID: Q133250)\n",
            "Processing modality: trajectory (QID: Q193139)\n",
            "Processing modality: neuroimaging (QID: Q551875)\n",
            "Processing modality: environment (QID: Q1572519)\n"
          ]
        },
        {
          "name": "stderr",
          "output_type": "stream",
          "text": [
            "WARNING:root:No QID found for label: 3d simulation\n"
          ]
        },
        {
          "name": "stdout",
          "output_type": "stream",
          "text": [
            "Processing modality: pose (QID: Q1671968)\n",
            "Processing modality: visualization (QID: Q451553)\n",
            "Processing modality: geospatial (QID: Q122074678)\n"
          ]
        },
        {
          "name": "stderr",
          "output_type": "stream",
          "text": [
            "WARNING:root:No QID found for label: physiological\n"
          ]
        },
        {
          "name": "stdout",
          "output_type": "stream",
          "text": [
            "Processing modality: binary (QID: Q58483123)\n",
            "Processing modality: interaction (QID: Q52948)\n",
            "Processing modality: eye tracking (QID: Q970687)\n",
            "Processing modality: social network (QID: Q2715623)\n"
          ]
        },
        {
          "name": "stderr",
          "output_type": "stream",
          "text": [
            "WARNING:root:No QID found for label: 3d pose\n"
          ]
        },
        {
          "name": "stdout",
          "output_type": "stream",
          "text": [
            "Processing modality: event (QID: Q1349920)\n",
            "Processing modality: control (QID: Q338754)\n",
            "Processing modality: synthetic data (QID: Q7662746)\n"
          ]
        },
        {
          "name": "stderr",
          "output_type": "stream",
          "text": [
            "WARNING:root:No QID found for label: meta information\n"
          ]
        },
        {
          "name": "stdout",
          "output_type": "stream",
          "text": [
            "Processing modality: code (QID: Q188889)\n"
          ]
        },
        {
          "name": "stderr",
          "output_type": "stream",
          "text": [
            "WARNING:root:No QID found for label: genomic sequence\n"
          ]
        },
        {
          "name": "stdout",
          "output_type": "stream",
          "text": [
            "Processing modality: knowledge graph (QID: Q33002955)\n",
            "Processing modality: matrix (QID: Q44337)\n",
            "Processing modality: motion (QID: Q79782)\n"
          ]
        },
        {
          "name": "stderr",
          "output_type": "stream",
          "text": [
            "WARNING:root:No QID found for label: laser scan\n",
            "WARNING:root:No QID found for label: user data\n",
            "WARNING:root:No QID found for label: 3d body skeleton\n"
          ]
        },
        {
          "name": "stdout",
          "output_type": "stream",
          "text": [
            "Processing modality: game (QID: Q11410)\n"
          ]
        },
        {
          "name": "stderr",
          "output_type": "stream",
          "text": [
            "WARNING:root:No QID found for label: 3d motion\n",
            "WARNING:root:No QID found for label: pose information\n",
            "WARNING:root:No QID found for label: temporal graph\n",
            "WARNING:root:No QID found for label: genomic\n",
            "WARNING:root:No QID found for label: network traffic\n"
          ]
        },
        {
          "name": "stdout",
          "output_type": "stream",
          "text": [
            "Processing modality: web (QID: Q1427141)\n",
            "Processing modality: log (QID: Q12029485)\n",
            "Processing modality: model (QID: Q1941828)\n"
          ]
        },
        {
          "name": "stderr",
          "output_type": "stream",
          "text": [
            "WARNING:root:No QID found for label: eye gaze\n"
          ]
        },
        {
          "name": "stdout",
          "output_type": "stream",
          "text": [
            "Processing modality: feature vector (QID: Q1921842)\n"
          ]
        },
        {
          "name": "stderr",
          "output_type": "stream",
          "text": [
            "WARNING:root:No QID found for label: social context\n"
          ]
        },
        {
          "name": "stdout",
          "output_type": "stream",
          "text": [
            "Processing modality: spatial (QID: Q122075505)\n",
            "Processing modality: visual (QID: Q4014836)\n"
          ]
        },
        {
          "name": "stderr",
          "output_type": "stream",
          "text": [
            "WARNING:root:No QID found for label: spatiotemporal\n"
          ]
        },
        {
          "name": "stdout",
          "output_type": "stream",
          "text": [
            "Processing modality: software (QID: Q7397)\n",
            "Processing modality: sketch (QID: Q5078274)\n"
          ]
        },
        {
          "name": "stderr",
          "output_type": "stream",
          "text": [
            "WARNING:root:No QID found for label: meteorological\n",
            "WARNING:root:No QID found for label: structural\n",
            "WARNING:root:No QID found for label: chemical\n",
            "WARNING:root:No QID found for label: neural\n"
          ]
        },
        {
          "name": "stdout",
          "output_type": "stream",
          "text": [
            "Processing modality: feature (QID: Q93586)\n"
          ]
        },
        {
          "name": "stderr",
          "output_type": "stream",
          "text": [
            "WARNING:root:No QID found for label: system log\n",
            "WARNING:root:No QID found for label: categorical\n"
          ]
        },
        {
          "name": "stdout",
          "output_type": "stream",
          "text": [
            "Processing modality: tactile (QID: Q124134995)\n"
          ]
        },
        {
          "name": "stderr",
          "output_type": "stream",
          "text": [
            "WARNING:root:No QID found for label: biological\n",
            "WARNING:root:No QID found for label: syntactic analysis\n"
          ]
        },
        {
          "name": "stdout",
          "output_type": "stream",
          "text": [
            "Processing modality: notebook (QID: Q43013)\n",
            "Processing modality: emotion (QID: Q95969875)\n"
          ]
        },
        {
          "name": "stderr",
          "output_type": "stream",
          "text": [
            "WARNING:root:No QID found for label: electrophysiological\n",
            "WARNING:root:No QID found for label: imu\n",
            "WARNING:root:No QID found for label: kinesthetic\n",
            "WARNING:root:No QID found for label: gnss/ins\n"
          ]
        },
        {
          "name": "stdout",
          "output_type": "stream",
          "text": [
            "Processing modality: biomarker (QID: Q864574)\n"
          ]
        },
        {
          "name": "stderr",
          "output_type": "stream",
          "text": [
            "WARNING:root:No QID found for label: neurophysiological\n",
            "WARNING:root:No QID found for label: 3d object\n",
            "WARNING:root:No QID found for label: spectra\n",
            "WARNING:root:No QID found for label: 3d environment\n",
            "WARNING:root:No QID found for label: real world data\n",
            "WARNING:root:No QID found for label: bounding box\n",
            "WARNING:root:No QID found for label: 3d motion capture\n",
            "WARNING:root:No QID found for label: positional data\n",
            "WARNING:root:No QID found for label: eog\n",
            "WARNING:root:No QID found for label: ecg\n"
          ]
        },
        {
          "name": "stdout",
          "output_type": "stream",
          "text": [
            "Processing modality: other (QID: Q1433373)\n",
            "Processing modality: database (QID: Q8513)\n",
            "Processing modality: box (QID: Q188075)\n",
            "Processing modality: animation (QID: Q11425)\n"
          ]
        },
        {
          "name": "stderr",
          "output_type": "stream",
          "text": [
            "WARNING:root:No QID found for label: brain signal\n"
          ]
        },
        {
          "name": "stdout",
          "output_type": "stream",
          "text": [
            "Processing modality: odometry (QID: Q2014717)\n",
            "Processing modality: blockchain (QID: Q20514253)\n"
          ]
        },
        {
          "name": "stderr",
          "output_type": "stream",
          "text": [
            "WARNING:root:No QID found for label: spiking neural data\n"
          ]
        },
        {
          "name": "stdout",
          "output_type": "stream",
          "text": [
            "Processing modality: vr (QID: Q29716068)\n"
          ]
        },
        {
          "name": "stderr",
          "output_type": "stream",
          "text": [
            "WARNING:root:No QID found for label: json\n"
          ]
        },
        {
          "name": "stdout",
          "output_type": "stream",
          "text": [
            "Processing modality: data file (QID: Q5227290)\n",
            "Processing modality: biosignal (QID: Q644240)\n",
            "Knowledge graph saved to knowledge_graph_with_labels.owl\n"
          ]
        }
      ],
      "source": [
        "from rdflib import Namespace, Graph, RDF, RDFS, Literal\n",
        "import json\n",
        "\n",
        "# Set the Wikidata SPARQL endpoint\n",
        "SPARQL_ENDPOINT = \"https://query.wikidata.org/sparql\"\n",
        "\n",
        "# Define namespaces\n",
        "EX = Namespace(\"http://example.org/\")\n",
        "WIKIDATA = Namespace(\"http://www.wikidata.org/entity/\")\n",
        "\n",
        "# Create an RDF graph\n",
        "g = Graph()\n",
        "g.bind(\"ex\", EX)\n",
        "g.bind(\"wikidata\", WIKIDATA)\n",
        "\n",
        "# Prevent duplicate queries\n",
        "queried_nodes = set()\n",
        "\n",
        "def query_wikidata_properties(qid):\n",
        "    \"\"\"Query Wikidata properties for a given entity\"\"\"\n",
        "    if qid in queried_nodes:\n",
        "        return []\n",
        "    queried_nodes.add(qid)\n",
        "\n",
        "    query = f\"\"\"\n",
        "    SELECT ?property ?propertyLabel ?value ?valueLabel WHERE {{\n",
        "      wd:{qid} ?p ?value.\n",
        "      ?property wikibase:directClaim ?p.\n",
        "      FILTER (?property IN (wd:{\", wd:\".join(RELEVANT_PROPERTIES)}))\n",
        "      OPTIONAL {{ ?value rdfs:label ?valueLabel. FILTER(LANG(?valueLabel) = \"en\") }}\n",
        "      SERVICE wikibase:label {{ bd:serviceParam wikibase:language \"en\". }}\n",
        "    }}\n",
        "    \"\"\"\n",
        "    sparql = SPARQLWrapper(SPARQL_ENDPOINT)\n",
        "    sparql.setQuery(query)\n",
        "    sparql.setReturnFormat(JSON)\n",
        "    results = sparql.query().convert()\n",
        "    return results[\"results\"][\"bindings\"]\n",
        "\n",
        "def recursive_query(qid, label=None, depth=0, max_depth=3):\n",
        "    \"\"\"Recursively query and construct the knowledge graph\"\"\"\n",
        "    if depth > max_depth:\n",
        "        return\n",
        "\n",
        "    # Query entity properties\n",
        "    results = query_wikidata_properties(qid)\n",
        "\n",
        "    for result in results:\n",
        "        prop = result[\"propertyLabel\"][\"value\"].replace(\" \", \"_\").replace(\"(\", \"_\").replace(\")\", \"_\")\n",
        "        value = result.get(\"valueLabel\", {}).get(\"value\", result[\"value\"][\"value\"])\n",
        "        value_uri = result[\"value\"][\"value\"]\n",
        "\n",
        "        # Check if the value is a Wikidata entity\n",
        "        if \"wikidata.org/entity/\" in value_uri:\n",
        "            value_qid = value_uri.split(\"/\")[-1]\n",
        "\n",
        "            # Add attribute edges and make sure the nodes have labels\n",
        "            g.add((WIKIDATA[qid], EX[prop], WIKIDATA[value_qid]))\n",
        "            if label:\n",
        "                g.add((WIKIDATA[qid], RDFS.label, Literal(label)))\n",
        "            if value:\n",
        "                g.add((WIKIDATA[value_qid], RDFS.label, Literal(value)))\n",
        "\n",
        "            # recursive query\n",
        "            # recursive_query(value_qid, label=value, depth + 1, max_depth)\n",
        "            recursive_query(value_qid, label=value, depth=depth + 1, max_depth=max_depth)\n",
        "\n",
        "def build_knowledge_graph(dataset, max_depth=3):\n",
        "    \"\"\"Build a knowledge graph from a data set\"\"\"\n",
        "    for entry in dataset:\n",
        "        modality = entry[\"modality\"]\n",
        "        data_types = entry[\"data_types\"]\n",
        "\n",
        "        # Get the QID of modality\n",
        "        modality_qid = get_qid(modality)\n",
        "        if modality_qid:\n",
        "            print(f\"Processing modality: {modality} (QID: {modality_qid})\")\n",
        "\n",
        "            # Add modality node to RDF graph，and append label\n",
        "            g.add((WIKIDATA[modality_qid], RDF.type, EX.Modality))\n",
        "            g.add((WIKIDATA[modality_qid], RDFS.label, Literal(modality)))\n",
        "\n",
        "            # Recursively query the properties of modality\n",
        "            recursive_query(modality_qid, label=modality, depth=0, max_depth=max_depth)\n",
        "\n",
        "            # Handle data_types\n",
        "            for data_type, properties in data_types.items():\n",
        "                data_type_qid = properties.get(\"wikidata_id\")\n",
        "\n",
        "                if data_type_qid:\n",
        "                    # Add data_type node to the RDF graph and attach label\n",
        "                    g.add((WIKIDATA[data_type_qid], RDF.type, EX.Datatype))\n",
        "                    g.add((WIKIDATA[data_type_qid], RDFS.label, Literal(data_type)))\n",
        "                    g.add((WIKIDATA[data_type_qid], EX.frequency, Literal(properties.get(\"frequency\"))))\n",
        "                    g.add((WIKIDATA[data_type_qid], EX.wikidata_label, Literal(properties.get(\"wikidata_label\"))))\n",
        "                    g.add((WIKIDATA[data_type_qid], EX.wikidata_description, Literal(properties.get(\"wikidata_description\"))))\n",
        "\n",
        "                    # Add custom edges of modality and data_type\n",
        "                    g.add((WIKIDATA[modality_qid], EX[\"Modality_Datatype\"], WIKIDATA[data_type_qid]))\n",
        "\n",
        "                    # Recursively query the attributes of data_type\n",
        "                    recursive_query(data_type_qid, label=data_type, depth=0, max_depth=max_depth)\n",
        "\n",
        "    # Save the knowledge graph as an OWL file\n",
        "    g.serialize(destination=\"knowledge_graph_with_labels_1.owl\", format=\"xml\")\n",
        "    print(\"Knowledge graph saved to knowledge_graph_with_labels.owl\")\n",
        "\n",
        "\n",
        "# Load file\n",
        "with open('matched_modalities_data_types.json', 'r') as f:\n",
        "    dataset = json.load(f)\n",
        "\n",
        "# Build a knowledge graph\n",
        "build_knowledge_graph(dataset, max_depth=1)"
      ]
    },
    {
      "cell_type": "markdown",
      "metadata": {
        "id": "IQj35Llmn1AI"
      },
      "source": [
        "## Turtle"
      ]
    },
    {
      "cell_type": "code",
      "execution_count": null,
      "metadata": {
        "colab": {
          "base_uri": "https://localhost:8080/"
        },
        "id": "qvLu3nlMn0cu",
        "outputId": "25199a4b-8b69-41be-98d5-113b947dc456"
      },
      "outputs": [
        {
          "name": "stdout",
          "output_type": "stream",
          "text": [
            "Processing modality: image (QID: Q478798)\n",
            "Processing modality: text (QID: Q234460)\n"
          ]
        },
        {
          "name": "stderr",
          "output_type": "stream",
          "text": [
            "WARNING:root:No QID found for label: 3d model\n"
          ]
        },
        {
          "name": "stdout",
          "output_type": "stream",
          "text": [
            "Processing modality: video (QID: Q625525)\n",
            "Processing modality: audio (QID: Q3500685)\n"
          ]
        },
        {
          "name": "stderr",
          "output_type": "stream",
          "text": [
            "WARNING:root:No QID found for label: 3d point cloud\n",
            "WARNING:root:No QID found for label: numerical\n"
          ]
        },
        {
          "name": "stdout",
          "output_type": "stream",
          "text": [
            "Processing modality: metadata (QID: Q180160)\n",
            "Processing modality: structured data (QID: Q26813700)\n",
            "Processing modality: annotation (QID: Q857525)\n",
            "Processing modality: depth (QID: Q181591)\n",
            "Processing modality: skeleton (QID: Q7881)\n"
          ]
        },
        {
          "name": "stderr",
          "output_type": "stream",
          "text": [
            "WARNING:root:No QID found for label: inertial\n"
          ]
        },
        {
          "name": "stdout",
          "output_type": "stream",
          "text": [
            "Processing modality: sensor (QID: Q167676)\n"
          ]
        },
        {
          "name": "stderr",
          "output_type": "stream",
          "text": [
            "WARNING:root:No QID found for label: midi\n",
            "WARNING:root:No QID found for label: 3d\n",
            "WARNING:root:No QID found for label: 3d skeletal\n"
          ]
        },
        {
          "name": "stdout",
          "output_type": "stream",
          "text": [
            "Processing modality: tabular (QID: Q13402984)\n",
            "Processing modality: graph (QID: Q141488)\n"
          ]
        },
        {
          "name": "stderr",
          "output_type": "stream",
          "text": [
            "WARNING:root:No QID found for label: kinematic\n",
            "WARNING:root:No QID found for label: 3d structure\n"
          ]
        },
        {
          "name": "stdout",
          "output_type": "stream",
          "text": [
            "Processing modality: network (QID: Q109406)\n"
          ]
        },
        {
          "name": "stderr",
          "output_type": "stream",
          "text": [
            "WARNING:root:No QID found for label: 3d skeleton\n"
          ]
        },
        {
          "name": "stdout",
          "output_type": "stream",
          "text": [
            "Processing modality: table (QID: Q14748)\n",
            "Processing modality: time series (QID: Q186588)\n",
            "Processing modality: simulation (QID: Q45045)\n",
            "Processing modality: lidar (QID: Q504027)\n",
            "Processing modality: radar (QID: Q47528)\n",
            "Processing modality: numeric (QID: Q3249849)\n",
            "Processing modality: signal (QID: Q174984)\n",
            "Processing modality: data (QID: Q42848)\n",
            "Processing modality: point cloud (QID: Q1899648)\n",
            "Processing modality: vector (QID: Q107994)\n",
            "Processing modality: label (QID: Q202581)\n",
            "Processing modality: chemical structure (QID: Q500256)\n"
          ]
        },
        {
          "name": "stderr",
          "output_type": "stream",
          "text": [
            "WARNING:root:No QID found for label: physiological signal\n"
          ]
        },
        {
          "name": "stdout",
          "output_type": "stream",
          "text": [
            "Processing modality: motion capture (QID: Q676252)\n"
          ]
        },
        {
          "name": "stderr",
          "output_type": "stream",
          "text": [
            "WARNING:root:No QID found for label: spatial coordinate\n",
            "WARNING:root:No QID found for label: eeg\n"
          ]
        },
        {
          "name": "stdout",
          "output_type": "stream",
          "text": [
            "Processing modality: geolocation (QID: Q123349905)\n",
            "Processing modality: temporal (QID: Q2472680)\n",
            "Processing modality: sequence (QID: Q133250)\n",
            "Processing modality: trajectory (QID: Q193139)\n",
            "Processing modality: neuroimaging (QID: Q551875)\n",
            "Processing modality: environment (QID: Q1572519)\n"
          ]
        },
        {
          "name": "stderr",
          "output_type": "stream",
          "text": [
            "WARNING:root:No QID found for label: 3d simulation\n"
          ]
        },
        {
          "name": "stdout",
          "output_type": "stream",
          "text": [
            "Processing modality: pose (QID: Q1671968)\n",
            "Processing modality: visualization (QID: Q451553)\n",
            "Processing modality: geospatial (QID: Q122074678)\n"
          ]
        },
        {
          "name": "stderr",
          "output_type": "stream",
          "text": [
            "WARNING:root:No QID found for label: physiological\n"
          ]
        },
        {
          "name": "stdout",
          "output_type": "stream",
          "text": [
            "Processing modality: binary (QID: Q58483123)\n",
            "Processing modality: interaction (QID: Q52948)\n",
            "Processing modality: eye tracking (QID: Q970687)\n",
            "Processing modality: social network (QID: Q2715623)\n"
          ]
        },
        {
          "name": "stderr",
          "output_type": "stream",
          "text": [
            "WARNING:root:No QID found for label: 3d pose\n"
          ]
        },
        {
          "name": "stdout",
          "output_type": "stream",
          "text": [
            "Processing modality: event (QID: Q1349920)\n",
            "Processing modality: control (QID: Q338754)\n",
            "Processing modality: synthetic data (QID: Q7662746)\n"
          ]
        },
        {
          "name": "stderr",
          "output_type": "stream",
          "text": [
            "WARNING:root:No QID found for label: meta information\n"
          ]
        },
        {
          "name": "stdout",
          "output_type": "stream",
          "text": [
            "Processing modality: code (QID: Q188889)\n"
          ]
        },
        {
          "name": "stderr",
          "output_type": "stream",
          "text": [
            "WARNING:root:No QID found for label: genomic sequence\n"
          ]
        },
        {
          "name": "stdout",
          "output_type": "stream",
          "text": [
            "Processing modality: knowledge graph (QID: Q33002955)\n",
            "Processing modality: matrix (QID: Q44337)\n",
            "Processing modality: motion (QID: Q79782)\n"
          ]
        },
        {
          "name": "stderr",
          "output_type": "stream",
          "text": [
            "WARNING:root:No QID found for label: laser scan\n",
            "WARNING:root:No QID found for label: user data\n",
            "WARNING:root:No QID found for label: 3d body skeleton\n"
          ]
        },
        {
          "name": "stdout",
          "output_type": "stream",
          "text": [
            "Processing modality: game (QID: Q11410)\n"
          ]
        },
        {
          "name": "stderr",
          "output_type": "stream",
          "text": [
            "WARNING:root:No QID found for label: 3d motion\n",
            "WARNING:root:No QID found for label: pose information\n",
            "WARNING:root:No QID found for label: temporal graph\n",
            "WARNING:root:No QID found for label: genomic\n",
            "WARNING:root:No QID found for label: network traffic\n"
          ]
        },
        {
          "name": "stdout",
          "output_type": "stream",
          "text": [
            "Processing modality: web (QID: Q1427141)\n",
            "Processing modality: log (QID: Q12029485)\n",
            "Processing modality: model (QID: Q1941828)\n"
          ]
        },
        {
          "name": "stderr",
          "output_type": "stream",
          "text": [
            "WARNING:root:No QID found for label: eye gaze\n"
          ]
        },
        {
          "name": "stdout",
          "output_type": "stream",
          "text": [
            "Processing modality: feature vector (QID: Q1921842)\n"
          ]
        },
        {
          "name": "stderr",
          "output_type": "stream",
          "text": [
            "WARNING:root:No QID found for label: social context\n"
          ]
        },
        {
          "name": "stdout",
          "output_type": "stream",
          "text": [
            "Processing modality: spatial (QID: Q122075505)\n",
            "Processing modality: visual (QID: Q4014836)\n"
          ]
        },
        {
          "name": "stderr",
          "output_type": "stream",
          "text": [
            "WARNING:root:No QID found for label: spatiotemporal\n"
          ]
        },
        {
          "name": "stdout",
          "output_type": "stream",
          "text": [
            "Processing modality: software (QID: Q7397)\n",
            "Processing modality: sketch (QID: Q5078274)\n"
          ]
        },
        {
          "name": "stderr",
          "output_type": "stream",
          "text": [
            "WARNING:root:No QID found for label: meteorological\n",
            "WARNING:root:No QID found for label: structural\n",
            "WARNING:root:No QID found for label: chemical\n",
            "WARNING:root:No QID found for label: neural\n"
          ]
        },
        {
          "name": "stdout",
          "output_type": "stream",
          "text": [
            "Processing modality: feature (QID: Q93586)\n"
          ]
        },
        {
          "name": "stderr",
          "output_type": "stream",
          "text": [
            "WARNING:root:No QID found for label: system log\n",
            "WARNING:root:No QID found for label: categorical\n"
          ]
        },
        {
          "name": "stdout",
          "output_type": "stream",
          "text": [
            "Processing modality: tactile (QID: Q124134995)\n"
          ]
        },
        {
          "name": "stderr",
          "output_type": "stream",
          "text": [
            "WARNING:root:No QID found for label: biological\n",
            "WARNING:root:No QID found for label: syntactic analysis\n"
          ]
        },
        {
          "name": "stdout",
          "output_type": "stream",
          "text": [
            "Processing modality: notebook (QID: Q43013)\n",
            "Processing modality: emotion (QID: Q95969875)\n"
          ]
        },
        {
          "name": "stderr",
          "output_type": "stream",
          "text": [
            "WARNING:root:No QID found for label: electrophysiological\n",
            "WARNING:root:No QID found for label: imu\n",
            "WARNING:root:No QID found for label: kinesthetic\n",
            "WARNING:root:No QID found for label: gnss/ins\n"
          ]
        },
        {
          "name": "stdout",
          "output_type": "stream",
          "text": [
            "Processing modality: biomarker (QID: Q864574)\n"
          ]
        },
        {
          "name": "stderr",
          "output_type": "stream",
          "text": [
            "WARNING:root:No QID found for label: neurophysiological\n",
            "WARNING:root:No QID found for label: 3d object\n",
            "WARNING:root:No QID found for label: spectra\n",
            "WARNING:root:No QID found for label: 3d environment\n",
            "WARNING:root:No QID found for label: real world data\n",
            "WARNING:root:No QID found for label: bounding box\n",
            "WARNING:root:No QID found for label: 3d motion capture\n",
            "WARNING:root:No QID found for label: positional data\n",
            "WARNING:root:No QID found for label: eog\n",
            "WARNING:root:No QID found for label: ecg\n"
          ]
        },
        {
          "name": "stdout",
          "output_type": "stream",
          "text": [
            "Processing modality: other (QID: Q1433373)\n",
            "Processing modality: database (QID: Q8513)\n",
            "Processing modality: box (QID: Q188075)\n",
            "Processing modality: animation (QID: Q11425)\n"
          ]
        },
        {
          "name": "stderr",
          "output_type": "stream",
          "text": [
            "WARNING:root:No QID found for label: brain signal\n"
          ]
        },
        {
          "name": "stdout",
          "output_type": "stream",
          "text": [
            "Processing modality: odometry (QID: Q2014717)\n",
            "Processing modality: blockchain (QID: Q20514253)\n"
          ]
        },
        {
          "name": "stderr",
          "output_type": "stream",
          "text": [
            "WARNING:root:No QID found for label: spiking neural data\n"
          ]
        },
        {
          "name": "stdout",
          "output_type": "stream",
          "text": [
            "Processing modality: vr (QID: Q29716068)\n"
          ]
        },
        {
          "name": "stderr",
          "output_type": "stream",
          "text": [
            "WARNING:root:No QID found for label: json\n"
          ]
        },
        {
          "name": "stdout",
          "output_type": "stream",
          "text": [
            "Processing modality: data file (QID: Q5227290)\n",
            "Processing modality: biosignal (QID: Q644240)\n",
            "Knowledge graph saved to knowledge_graph_with_labels.owl\n"
          ]
        }
      ],
      "source": [
        "from rdflib import Namespace, Graph, RDF, RDFS, Literal\n",
        "import json\n",
        "\n",
        "# Set the Wikidata SPARQL endpoint\n",
        "SPARQL_ENDPOINT = \"https://query.wikidata.org/sparql\"\n",
        "\n",
        "# Define namespaces\n",
        "EX = Namespace(\"http://example.org/\")\n",
        "WIKIDATA = Namespace(\"http://www.wikidata.org/entity/\")\n",
        "\n",
        "# Create an RDF graph\n",
        "g = Graph()\n",
        "g.bind(\"ex\", EX)\n",
        "g.bind(\"wikidata\", WIKIDATA)\n",
        "\n",
        "# Prevent duplicate queries\n",
        "queried_nodes = set()\n",
        "\n",
        "def query_wikidata_properties(qid):\n",
        "    \"\"\"Query Wikidata properties for a given entity\"\"\"\n",
        "    if qid in queried_nodes:\n",
        "        return []\n",
        "    queried_nodes.add(qid)\n",
        "\n",
        "    query = f\"\"\"\n",
        "    SELECT ?property ?propertyLabel ?value ?valueLabel WHERE {{\n",
        "      wd:{qid} ?p ?value.\n",
        "      ?property wikibase:directClaim ?p.\n",
        "      FILTER (?property IN (wd:{\", wd:\".join(RELEVANT_PROPERTIES)}))\n",
        "      OPTIONAL {{ ?value rdfs:label ?valueLabel. FILTER(LANG(?valueLabel) = \"en\") }}\n",
        "      SERVICE wikibase:label {{ bd:serviceParam wikibase:language \"en\". }}\n",
        "    }}\n",
        "    \"\"\"\n",
        "    sparql = SPARQLWrapper(SPARQL_ENDPOINT)\n",
        "    sparql.setQuery(query)\n",
        "    sparql.setReturnFormat(JSON)\n",
        "    results = sparql.query().convert()\n",
        "    return results[\"results\"][\"bindings\"]\n",
        "\n",
        "def recursive_query(qid, label=None, depth=0, max_depth=3):\n",
        "    \"\"\"Recursively query and construct the knowledge graph\"\"\"\n",
        "    if depth > max_depth:\n",
        "        return\n",
        "\n",
        "    # Query entity properties\n",
        "    results = query_wikidata_properties(qid)\n",
        "\n",
        "    for result in results:\n",
        "        prop = result[\"propertyLabel\"][\"value\"].replace(\" \", \"_\").replace(\"(\", \"_\").replace(\")\", \"_\")\n",
        "        value = result.get(\"valueLabel\", {}).get(\"value\", result[\"value\"][\"value\"])\n",
        "        value_uri = result[\"value\"][\"value\"]\n",
        "\n",
        "        # Check if the value is a Wikidata entity\n",
        "        if \"wikidata.org/entity/\" in value_uri:\n",
        "            value_qid = value_uri.split(\"/\")[-1]\n",
        "\n",
        "            # Add attribute edges and make sure the nodes have labels\n",
        "            g.add((WIKIDATA[qid], EX[prop], WIKIDATA[value_qid]))\n",
        "            if label:\n",
        "                g.add((WIKIDATA[qid], RDFS.label, Literal(label)))\n",
        "            if value:\n",
        "                g.add((WIKIDATA[value_qid], RDFS.label, Literal(value)))\n",
        "\n",
        "            # recursive query\n",
        "            # recursive_query(value_qid, label=value, depth + 1, max_depth)\n",
        "            recursive_query(value_qid, label=value, depth=depth + 1, max_depth=max_depth)\n",
        "\n",
        "def build_knowledge_graph(dataset, max_depth=3):\n",
        "    \"\"\"Build a knowledge graph from a data set\"\"\"\n",
        "    for entry in dataset:\n",
        "        modality = entry[\"modality\"]\n",
        "        data_types = entry[\"data_types\"]\n",
        "\n",
        "        # Get the QID of modality\n",
        "        modality_qid = get_qid(modality)\n",
        "        if modality_qid:\n",
        "            print(f\"Processing modality: {modality} (QID: {modality_qid})\")\n",
        "\n",
        "            # Add modality node to RDF graph，and append label\n",
        "            g.add((WIKIDATA[modality_qid], RDF.type, EX.Modality))\n",
        "            g.add((WIKIDATA[modality_qid], RDFS.label, Literal(modality)))\n",
        "\n",
        "            # Recursively query the properties of modality\n",
        "            recursive_query(modality_qid, label=modality, depth=0, max_depth=max_depth)\n",
        "\n",
        "            # Handle data_types\n",
        "            for data_type, properties in data_types.items():\n",
        "                data_type_qid = properties.get(\"wikidata_id\")\n",
        "\n",
        "                if data_type_qid:\n",
        "                    # Add data_type node to the RDF graph and attach label\n",
        "                    g.add((WIKIDATA[data_type_qid], RDF.type, EX.Datatype))\n",
        "                    g.add((WIKIDATA[data_type_qid], RDFS.label, Literal(data_type)))\n",
        "                    g.add((WIKIDATA[data_type_qid], EX.frequency, Literal(properties.get(\"frequency\"))))\n",
        "                    g.add((WIKIDATA[data_type_qid], EX.wikidata_label, Literal(properties.get(\"wikidata_label\"))))\n",
        "                    g.add((WIKIDATA[data_type_qid], EX.wikidata_description, Literal(properties.get(\"wikidata_description\"))))\n",
        "\n",
        "                    # Add custom edges of modality and data_type\n",
        "                    g.add((WIKIDATA[modality_qid], EX[\"Modality_Datatype\"], WIKIDATA[data_type_qid]))\n",
        "\n",
        "                    # Recursively query the attributes of data_type\n",
        "                    recursive_query(data_type_qid, label=data_type, depth=0, max_depth=max_depth)\n",
        "\n",
        "    # Save the knowledge graph as an OWL file\n",
        "    g.serialize(destination=\"knowledge_graph_with_labels_1.ttl\", format=\"turtle\")\n",
        "    print(\"Knowledge graph saved to knowledge_graph_with_labels.owl\")\n",
        "\n",
        "    g.serialize(destination=\"knowledge_graph_with_labels_1.owl\", format=\"xml\")\n",
        "    print(\"Knowledge graph saved to knowledge_graph_with_labels.owl\")\n",
        "\n",
        "\n",
        "# Load file\n",
        "with open('matched_modalities_data_types.json', 'r') as f:\n",
        "    dataset = json.load(f)\n",
        "\n",
        "# Build a knowledge graph\n",
        "build_knowledge_graph(dataset, max_depth=1)"
      ]
    },
    {
      "cell_type": "code",
      "execution_count": null,
      "metadata": {
        "id": "7gX1rRJ8vXv8"
      },
      "outputs": [],
      "source": [
        "from rdflib import Namespace, Graph, RDF, RDFS, Literal\n",
        "import json\n",
        "\n",
        "# Set the Wikidata SPARQL endpoint\n",
        "SPARQL_ENDPOINT = \"https://query.wikidata.org/sparql\"\n",
        "\n",
        "# Define namespaces\n",
        "EX = Namespace(\"http://example.org/\")\n",
        "WIKIDATA = Namespace(\"http://www.wikidata.org/entity/\")\n",
        "\n",
        "# Create an RDF graph\n",
        "g = Graph()\n",
        "g.bind(\"ex\", EX)\n",
        "g.bind(\"wikidata\", WIKIDATA)\n",
        "\n",
        "# Prevent duplicate queries\n",
        "queried_nodes = set()\n",
        "\n",
        "def query_wikidata_properties(qid):\n",
        "    \"\"\"Query Wikidata properties for a given entity\"\"\"\n",
        "    if qid in queried_nodes:\n",
        "        return []\n",
        "    queried_nodes.add(qid)\n",
        "\n",
        "    query = f\"\"\"\n",
        "    SELECT ?property ?propertyLabel ?value ?valueLabel WHERE {{\n",
        "      wd:{qid} ?p ?value.\n",
        "      ?property wikibase:directClaim ?p.\n",
        "      FILTER (?property IN (wd:{\", wd:\".join(RELEVANT_PROPERTIES)}))\n",
        "      OPTIONAL {{ ?value rdfs:label ?valueLabel. FILTER(LANG(?valueLabel) = \"en\") }}\n",
        "      SERVICE wikibase:label {{ bd:serviceParam wikibase:language \"en\". }}\n",
        "    }}\n",
        "    \"\"\"\n",
        "    sparql = SPARQLWrapper(SPARQL_ENDPOINT)\n",
        "    sparql.setQuery(query)\n",
        "    sparql.setReturnFormat(JSON)\n",
        "    results = sparql.query().convert()\n",
        "    return results[\"results\"][\"bindings\"]\n",
        "\n",
        "def recursive_query(qid, label=None, depth=0, max_depth=3):\n",
        "    \"\"\"Recursively query and construct the knowledge graph\"\"\"\n",
        "    if depth > max_depth:\n",
        "        return\n",
        "\n",
        "    # Query entity properties\n",
        "    results = query_wikidata_properties(qid)\n",
        "\n",
        "    for result in results:\n",
        "        prop = result[\"propertyLabel\"][\"value\"].replace(\" \", \"_\").replace(\"(\", \"_\").replace(\")\", \"_\")\n",
        "        value = result.get(\"valueLabel\", {}).get(\"value\", result[\"value\"][\"value\"])\n",
        "        value_uri = result[\"value\"][\"value\"]\n",
        "\n",
        "        # Check if the value is a Wikidata entity\n",
        "        if \"wikidata.org/entity/\" in value_uri:\n",
        "            value_qid = value_uri.split(\"/\")[-1]\n",
        "\n",
        "            # Add attribute edges and make sure the nodes have labels\n",
        "            g.add((WIKIDATA[qid], EX[prop], WIKIDATA[value_qid]))\n",
        "            if label:\n",
        "                g.add((WIKIDATA[qid], RDFS.label, Literal(label)))\n",
        "            if value:\n",
        "                g.add((WIKIDATA[value_qid], RDFS.label, Literal(value)))\n",
        "\n",
        "            # recursive query\n",
        "            # recursive_query(value_qid, label=value, depth + 1, max_depth)\n",
        "            recursive_query(value_qid, label=value, depth=depth + 1, max_depth=max_depth)\n",
        "\n",
        "def build_knowledge_graph(dataset, max_depth=3):\n",
        "    \"\"\"Build a knowledge graph from a data set\"\"\"\n",
        "    for entry in dataset:\n",
        "        modality = entry[\"modality\"]\n",
        "        data_types = entry[\"data_types\"]\n",
        "\n",
        "        # Get the QID of modality\n",
        "        modality_qid = get_qid(modality)\n",
        "        if modality_qid:\n",
        "            print(f\"Processing modality: {modality} (QID: {modality_qid})\")\n",
        "\n",
        "            # Add modality node to RDF graph，and append label\n",
        "            g.add((WIKIDATA[modality_qid], RDF.type, EX.Modality))\n",
        "            g.add((WIKIDATA[modality_qid], RDFS.label, Literal(modality)))\n",
        "\n",
        "            # Recursively query the properties of modality\n",
        "            recursive_query(modality_qid, label=modality, depth=0, max_depth=max_depth)\n",
        "\n",
        "            # Handle data_types\n",
        "            for data_type, properties in data_types.items():\n",
        "                data_type_qid = properties.get(\"wikidata_id\")\n",
        "\n",
        "                if data_type_qid:\n",
        "                    # Add data_type node to the RDF graph and attach label\n",
        "                    g.add((WIKIDATA[data_type_qid], RDF.type, EX.Datatype))\n",
        "                    g.add((WIKIDATA[data_type_qid], RDFS.label, Literal(data_type)))\n",
        "                    g.add((WIKIDATA[data_type_qid], EX.frequency, Literal(properties.get(\"frequency\"))))\n",
        "                    g.add((WIKIDATA[data_type_qid], EX.wikidata_label, Literal(properties.get(\"wikidata_label\"))))\n",
        "                    g.add((WIKIDATA[data_type_qid], EX.wikidata_description, Literal(properties.get(\"wikidata_description\"))))\n",
        "\n",
        "                    # Add custom edges of modality and data_type\n",
        "                    g.add((WIKIDATA[modality_qid], EX[\"Modality_Datatype\"], WIKIDATA[data_type_qid]))\n",
        "\n",
        "                    # Recursively query the attributes of data_type\n",
        "                    recursive_query(data_type_qid, label=data_type, depth=0, max_depth=max_depth)\n",
        "\n",
        "    # Save the knowledge graph as an OWL file\n",
        "    g.serialize(destination=\"knowledge_graph_with_labels_2.ttl\", format=\"turtle\")\n",
        "    print(\"Knowledge graph saved to knowledge_graph_with_labels.owl\")\n",
        "\n",
        "    g.serialize(destination=\"knowledge_graph_with_labels_2.owl\", format=\"xml\")\n",
        "    print(\"Knowledge graph saved to knowledge_graph_with_labels.owl\")\n",
        "\n",
        "\n",
        "# Load file\n",
        "with open('matched_modalities_data_types.json', 'r') as f:\n",
        "    dataset = json.load(f)\n",
        "\n",
        "# Build a knowledge graph\n",
        "build_knowledge_graph(dataset, max_depth=2)"
      ]
    },
    {
      "cell_type": "code",
      "execution_count": null,
      "metadata": {
        "id": "verVezPKvf90"
      },
      "outputs": [],
      "source": [
        "from rdflib import Namespace, Graph, RDF, RDFS, Literal\n",
        "import json\n",
        "\n",
        "# Set the Wikidata SPARQL endpoint\n",
        "SPARQL_ENDPOINT = \"https://query.wikidata.org/sparql\"\n",
        "\n",
        "# Define namespaces\n",
        "EX = Namespace(\"http://example.org/\")\n",
        "WIKIDATA = Namespace(\"http://www.wikidata.org/entity/\")\n",
        "\n",
        "# Create an RDF graph\n",
        "g = Graph()\n",
        "g.bind(\"ex\", EX)\n",
        "g.bind(\"wikidata\", WIKIDATA)\n",
        "\n",
        "# Prevent duplicate queries\n",
        "queried_nodes = set()\n",
        "\n",
        "def query_wikidata_properties(qid):\n",
        "    \"\"\"Query Wikidata properties for a given entity\"\"\"\n",
        "    if qid in queried_nodes:\n",
        "        return []\n",
        "    queried_nodes.add(qid)\n",
        "\n",
        "    query = f\"\"\"\n",
        "    SELECT ?property ?propertyLabel ?value ?valueLabel WHERE {{\n",
        "      wd:{qid} ?p ?value.\n",
        "      ?property wikibase:directClaim ?p.\n",
        "      FILTER (?property IN (wd:{\", wd:\".join(RELEVANT_PROPERTIES)}))\n",
        "      OPTIONAL {{ ?value rdfs:label ?valueLabel. FILTER(LANG(?valueLabel) = \"en\") }}\n",
        "      SERVICE wikibase:label {{ bd:serviceParam wikibase:language \"en\". }}\n",
        "    }}\n",
        "    \"\"\"\n",
        "    sparql = SPARQLWrapper(SPARQL_ENDPOINT)\n",
        "    sparql.setQuery(query)\n",
        "    sparql.setReturnFormat(JSON)\n",
        "    results = sparql.query().convert()\n",
        "    return results[\"results\"][\"bindings\"]\n",
        "\n",
        "def recursive_query(qid, label=None, depth=0, max_depth=3):\n",
        "    \"\"\"Recursively query and construct the knowledge graph\"\"\"\n",
        "    if depth > max_depth:\n",
        "        return\n",
        "\n",
        "    # Query entity properties\n",
        "    results = query_wikidata_properties(qid)\n",
        "\n",
        "    for result in results:\n",
        "        prop = result[\"propertyLabel\"][\"value\"].replace(\" \", \"_\").replace(\"(\", \"_\").replace(\")\", \"_\")\n",
        "        value = result.get(\"valueLabel\", {}).get(\"value\", result[\"value\"][\"value\"])\n",
        "        value_uri = result[\"value\"][\"value\"]\n",
        "\n",
        "        # Check if the value is a Wikidata entity\n",
        "        if \"wikidata.org/entity/\" in value_uri:\n",
        "            value_qid = value_uri.split(\"/\")[-1]\n",
        "\n",
        "            # Add attribute edges and make sure the nodes have labels\n",
        "            g.add((WIKIDATA[qid], EX[prop], WIKIDATA[value_qid]))\n",
        "            if label:\n",
        "                g.add((WIKIDATA[qid], RDFS.label, Literal(label)))\n",
        "            if value:\n",
        "                g.add((WIKIDATA[value_qid], RDFS.label, Literal(value)))\n",
        "\n",
        "            # recursive query\n",
        "            # recursive_query(value_qid, label=value, depth + 1, max_depth)\n",
        "            recursive_query(value_qid, label=value, depth=depth + 1, max_depth=max_depth)\n",
        "\n",
        "def build_knowledge_graph(dataset, max_depth=3):\n",
        "    \"\"\"Build a knowledge graph from a data set\"\"\"\n",
        "    for entry in dataset:\n",
        "        modality = entry[\"modality\"]\n",
        "        data_types = entry[\"data_types\"]\n",
        "\n",
        "        # Get the QID of modality\n",
        "        modality_qid = get_qid(modality)\n",
        "        if modality_qid:\n",
        "            print(f\"Processing modality: {modality} (QID: {modality_qid})\")\n",
        "\n",
        "            # Add modality node to RDF graph，and append label\n",
        "            g.add((WIKIDATA[modality_qid], RDF.type, EX.Modality))\n",
        "            g.add((WIKIDATA[modality_qid], RDFS.label, Literal(modality)))\n",
        "\n",
        "            # Recursively query the properties of modality\n",
        "            recursive_query(modality_qid, label=modality, depth=0, max_depth=max_depth)\n",
        "\n",
        "            # Handle data_types\n",
        "            for data_type, properties in data_types.items():\n",
        "                data_type_qid = properties.get(\"wikidata_id\")\n",
        "\n",
        "                if data_type_qid:\n",
        "                    # Add data_type node to the RDF graph and attach label\n",
        "                    g.add((WIKIDATA[data_type_qid], RDF.type, EX.Datatype))\n",
        "                    g.add((WIKIDATA[data_type_qid], RDFS.label, Literal(data_type)))\n",
        "                    g.add((WIKIDATA[data_type_qid], EX.frequency, Literal(properties.get(\"frequency\"))))\n",
        "                    g.add((WIKIDATA[data_type_qid], EX.wikidata_label, Literal(properties.get(\"wikidata_label\"))))\n",
        "                    g.add((WIKIDATA[data_type_qid], EX.wikidata_description, Literal(properties.get(\"wikidata_description\"))))\n",
        "\n",
        "                    # Add custom edges of modality and data_type\n",
        "                    g.add((WIKIDATA[modality_qid], EX[\"Modality_Datatype\"], WIKIDATA[data_type_qid]))\n",
        "\n",
        "                    # Recursively query the attributes of data_type\n",
        "                    recursive_query(data_type_qid, label=data_type, depth=0, max_depth=max_depth)\n",
        "\n",
        "    # Save the knowledge graph as an OWL file\n",
        "    g.serialize(destination=\"knowledge_graph_with_labels_3.ttl\", format=\"turtle\")\n",
        "    print(\"Knowledge graph saved to knowledge_graph_with_labels.owl\")\n",
        "\n",
        "    g.serialize(destination=\"knowledge_graph_with_labels_3.owl\", format=\"xml\")\n",
        "    print(\"Knowledge graph saved to knowledge_graph_with_labels.owl\")\n",
        "\n",
        "\n",
        "# Load file\n",
        "with open('matched_modalities_data_types.json', 'r') as f:\n",
        "    dataset = json.load(f)\n",
        "\n",
        "# Build a knowledge graph\n",
        "build_knowledge_graph(dataset, max_depth=3)"
      ]
    },
    {
      "cell_type": "markdown",
      "metadata": {
        "id": "ybIJLjkT2JdR"
      },
      "source": [
        "## with P"
      ]
    },
    {
      "cell_type": "code",
      "execution_count": null,
      "metadata": {
        "colab": {
          "base_uri": "https://localhost:8080/",
          "height": 333
        },
        "id": "6shzsn2yyfG-",
        "outputId": "75838952-f583-4b1c-d6f4-53c7536129fc",
        "collapsed": true
      },
      "outputs": [
        {
          "name": "stdout",
          "output_type": "stream",
          "text": [
            "Processing modality: image (QID: Q478798)\n"
          ]
        },
        {
          "ename": "HTTPError",
          "evalue": "HTTP Error 403: Forbidden",
          "output_type": "error",
          "traceback": [
            "\u001b[0;31m---------------------------------------------------------------------------\u001b[0m",
            "\u001b[0;31mHTTPError\u001b[0m                                 Traceback (most recent call last)",
            "\u001b[0;32m<ipython-input-7-794049c152db>\u001b[0m in \u001b[0;36m<cell line: 0>\u001b[0;34m()\u001b[0m\n\u001b[1;32m    134\u001b[0m \u001b[0;34m\u001b[0m\u001b[0m\n\u001b[1;32m    135\u001b[0m \u001b[0;31m# 构建知识图谱\u001b[0m\u001b[0;34m\u001b[0m\u001b[0;34m\u001b[0m\u001b[0m\n\u001b[0;32m--> 136\u001b[0;31m \u001b[0mbuild_knowledge_graph\u001b[0m\u001b[0;34m(\u001b[0m\u001b[0mdataset\u001b[0m\u001b[0;34m,\u001b[0m \u001b[0mmax_depth\u001b[0m\u001b[0;34m=\u001b[0m\u001b[0;36m3\u001b[0m\u001b[0;34m)\u001b[0m\u001b[0;34m\u001b[0m\u001b[0;34m\u001b[0m\u001b[0m\n\u001b[0m",
            "\u001b[0;32m<ipython-input-7-794049c152db>\u001b[0m in \u001b[0;36mbuild_knowledge_graph\u001b[0;34m(dataset, max_depth)\u001b[0m\n\u001b[1;32m    120\u001b[0m \u001b[0;34m\u001b[0m\u001b[0m\n\u001b[1;32m    121\u001b[0m                     \u001b[0;31m# 递归查询data_type的属性\u001b[0m\u001b[0;34m\u001b[0m\u001b[0;34m\u001b[0m\u001b[0m\n\u001b[0;32m--> 122\u001b[0;31m                     \u001b[0mrecursive_query\u001b[0m\u001b[0;34m(\u001b[0m\u001b[0mdata_type_qid\u001b[0m\u001b[0;34m,\u001b[0m \u001b[0mlabel\u001b[0m\u001b[0;34m=\u001b[0m\u001b[0mdata_type\u001b[0m\u001b[0;34m,\u001b[0m \u001b[0mdepth\u001b[0m\u001b[0;34m=\u001b[0m\u001b[0;36m0\u001b[0m\u001b[0;34m,\u001b[0m \u001b[0mmax_depth\u001b[0m\u001b[0;34m=\u001b[0m\u001b[0mmax_depth\u001b[0m\u001b[0;34m)\u001b[0m\u001b[0;34m\u001b[0m\u001b[0;34m\u001b[0m\u001b[0m\n\u001b[0m\u001b[1;32m    123\u001b[0m \u001b[0;34m\u001b[0m\u001b[0m\n\u001b[1;32m    124\u001b[0m     \u001b[0;31m# 将知识图谱保存为Turtle格式\u001b[0m\u001b[0;34m\u001b[0m\u001b[0;34m\u001b[0m\u001b[0m\n",
            "\u001b[0;32m<ipython-input-7-794049c152db>\u001b[0m in \u001b[0;36mrecursive_query\u001b[0;34m(qid, label, depth, max_depth)\u001b[0m\n\u001b[1;32m     50\u001b[0m \u001b[0;34m\u001b[0m\u001b[0m\n\u001b[1;32m     51\u001b[0m     \u001b[0;31m# 查询实体属性\u001b[0m\u001b[0;34m\u001b[0m\u001b[0;34m\u001b[0m\u001b[0m\n\u001b[0;32m---> 52\u001b[0;31m     \u001b[0mresults\u001b[0m \u001b[0;34m=\u001b[0m \u001b[0mquery_wikidata_properties\u001b[0m\u001b[0;34m(\u001b[0m\u001b[0mqid\u001b[0m\u001b[0;34m)\u001b[0m\u001b[0;34m\u001b[0m\u001b[0;34m\u001b[0m\u001b[0m\n\u001b[0m\u001b[1;32m     53\u001b[0m \u001b[0;34m\u001b[0m\u001b[0m\n\u001b[1;32m     54\u001b[0m     \u001b[0;32mfor\u001b[0m \u001b[0mresult\u001b[0m \u001b[0;32min\u001b[0m \u001b[0mresults\u001b[0m\u001b[0;34m:\u001b[0m\u001b[0;34m\u001b[0m\u001b[0;34m\u001b[0m\u001b[0m\n",
            "\u001b[0;32m<ipython-input-7-794049c152db>\u001b[0m in \u001b[0;36mquery_wikidata_properties\u001b[0;34m(qid)\u001b[0m\n\u001b[1;32m     41\u001b[0m     \u001b[0msparql\u001b[0m\u001b[0;34m.\u001b[0m\u001b[0msetQuery\u001b[0m\u001b[0;34m(\u001b[0m\u001b[0mquery\u001b[0m\u001b[0;34m)\u001b[0m\u001b[0;34m\u001b[0m\u001b[0;34m\u001b[0m\u001b[0m\n\u001b[1;32m     42\u001b[0m     \u001b[0msparql\u001b[0m\u001b[0;34m.\u001b[0m\u001b[0msetReturnFormat\u001b[0m\u001b[0;34m(\u001b[0m\u001b[0mJSON\u001b[0m\u001b[0;34m)\u001b[0m\u001b[0;34m\u001b[0m\u001b[0;34m\u001b[0m\u001b[0m\n\u001b[0;32m---> 43\u001b[0;31m     \u001b[0mresults\u001b[0m \u001b[0;34m=\u001b[0m \u001b[0msparql\u001b[0m\u001b[0;34m.\u001b[0m\u001b[0mquery\u001b[0m\u001b[0;34m(\u001b[0m\u001b[0;34m)\u001b[0m\u001b[0;34m.\u001b[0m\u001b[0mconvert\u001b[0m\u001b[0;34m(\u001b[0m\u001b[0;34m)\u001b[0m\u001b[0;34m\u001b[0m\u001b[0;34m\u001b[0m\u001b[0m\n\u001b[0m\u001b[1;32m     44\u001b[0m     \u001b[0;32mreturn\u001b[0m \u001b[0mresults\u001b[0m\u001b[0;34m[\u001b[0m\u001b[0;34m\"results\"\u001b[0m\u001b[0;34m]\u001b[0m\u001b[0;34m[\u001b[0m\u001b[0;34m\"bindings\"\u001b[0m\u001b[0;34m]\u001b[0m\u001b[0;34m\u001b[0m\u001b[0;34m\u001b[0m\u001b[0m\n\u001b[1;32m     45\u001b[0m \u001b[0;34m\u001b[0m\u001b[0m\n",
            "\u001b[0;32m/usr/local/lib/python3.11/dist-packages/SPARQLWrapper/Wrapper.py\u001b[0m in \u001b[0;36mquery\u001b[0;34m(self)\u001b[0m\n\u001b[1;32m    958\u001b[0m         \u001b[0;34m:\u001b[0m\u001b[0mrtype\u001b[0m\u001b[0;34m:\u001b[0m \u001b[0;34m:\u001b[0m\u001b[0;32mclass\u001b[0m\u001b[0;34m:\u001b[0m\u001b[0;31m`\u001b[0m\u001b[0mQueryResult\u001b[0m\u001b[0;31m`\u001b[0m \u001b[0minstance\u001b[0m\u001b[0;34m\u001b[0m\u001b[0;34m\u001b[0m\u001b[0m\n\u001b[1;32m    959\u001b[0m         \"\"\"\n\u001b[0;32m--> 960\u001b[0;31m         \u001b[0;32mreturn\u001b[0m \u001b[0mQueryResult\u001b[0m\u001b[0;34m(\u001b[0m\u001b[0mself\u001b[0m\u001b[0;34m.\u001b[0m\u001b[0m_query\u001b[0m\u001b[0;34m(\u001b[0m\u001b[0;34m)\u001b[0m\u001b[0;34m)\u001b[0m\u001b[0;34m\u001b[0m\u001b[0;34m\u001b[0m\u001b[0m\n\u001b[0m\u001b[1;32m    961\u001b[0m \u001b[0;34m\u001b[0m\u001b[0m\n\u001b[1;32m    962\u001b[0m     \u001b[0;32mdef\u001b[0m \u001b[0mqueryAndConvert\u001b[0m\u001b[0;34m(\u001b[0m\u001b[0mself\u001b[0m\u001b[0;34m)\u001b[0m \u001b[0;34m->\u001b[0m \u001b[0;34m\"QueryResult.ConvertResult\"\u001b[0m\u001b[0;34m:\u001b[0m\u001b[0;34m\u001b[0m\u001b[0;34m\u001b[0m\u001b[0m\n",
            "\u001b[0;32m/usr/local/lib/python3.11/dist-packages/SPARQLWrapper/Wrapper.py\u001b[0m in \u001b[0;36m_query\u001b[0;34m(self)\u001b[0m\n\u001b[1;32m    938\u001b[0m                 \u001b[0;32mraise\u001b[0m \u001b[0mEndPointInternalError\u001b[0m\u001b[0;34m(\u001b[0m\u001b[0me\u001b[0m\u001b[0;34m.\u001b[0m\u001b[0mread\u001b[0m\u001b[0;34m(\u001b[0m\u001b[0;34m)\u001b[0m\u001b[0;34m)\u001b[0m\u001b[0;34m\u001b[0m\u001b[0;34m\u001b[0m\u001b[0m\n\u001b[1;32m    939\u001b[0m             \u001b[0;32melse\u001b[0m\u001b[0;34m:\u001b[0m\u001b[0;34m\u001b[0m\u001b[0;34m\u001b[0m\u001b[0m\n\u001b[0;32m--> 940\u001b[0;31m                 \u001b[0;32mraise\u001b[0m \u001b[0me\u001b[0m\u001b[0;34m\u001b[0m\u001b[0;34m\u001b[0m\u001b[0m\n\u001b[0m\u001b[1;32m    941\u001b[0m \u001b[0;34m\u001b[0m\u001b[0m\n\u001b[1;32m    942\u001b[0m     \u001b[0;32mdef\u001b[0m \u001b[0mquery\u001b[0m\u001b[0;34m(\u001b[0m\u001b[0mself\u001b[0m\u001b[0;34m)\u001b[0m \u001b[0;34m->\u001b[0m \u001b[0;34m\"QueryResult\"\u001b[0m\u001b[0;34m:\u001b[0m\u001b[0;34m\u001b[0m\u001b[0;34m\u001b[0m\u001b[0m\n",
            "\u001b[0;32m/usr/local/lib/python3.11/dist-packages/SPARQLWrapper/Wrapper.py\u001b[0m in \u001b[0;36m_query\u001b[0;34m(self)\u001b[0m\n\u001b[1;32m    924\u001b[0m                 \u001b[0mresponse\u001b[0m \u001b[0;34m=\u001b[0m \u001b[0murlopener\u001b[0m\u001b[0;34m(\u001b[0m\u001b[0mrequest\u001b[0m\u001b[0;34m,\u001b[0m \u001b[0mtimeout\u001b[0m\u001b[0;34m=\u001b[0m\u001b[0mself\u001b[0m\u001b[0;34m.\u001b[0m\u001b[0mtimeout\u001b[0m\u001b[0;34m)\u001b[0m\u001b[0;34m\u001b[0m\u001b[0;34m\u001b[0m\u001b[0m\n\u001b[1;32m    925\u001b[0m             \u001b[0;32melse\u001b[0m\u001b[0;34m:\u001b[0m\u001b[0;34m\u001b[0m\u001b[0;34m\u001b[0m\u001b[0m\n\u001b[0;32m--> 926\u001b[0;31m                 \u001b[0mresponse\u001b[0m \u001b[0;34m=\u001b[0m \u001b[0murlopener\u001b[0m\u001b[0;34m(\u001b[0m\u001b[0mrequest\u001b[0m\u001b[0;34m)\u001b[0m\u001b[0;34m\u001b[0m\u001b[0;34m\u001b[0m\u001b[0m\n\u001b[0m\u001b[1;32m    927\u001b[0m             \u001b[0;32mreturn\u001b[0m \u001b[0mresponse\u001b[0m\u001b[0;34m,\u001b[0m \u001b[0mself\u001b[0m\u001b[0;34m.\u001b[0m\u001b[0mreturnFormat\u001b[0m\u001b[0;34m\u001b[0m\u001b[0;34m\u001b[0m\u001b[0m\n\u001b[1;32m    928\u001b[0m         \u001b[0;32mexcept\u001b[0m \u001b[0murllib\u001b[0m\u001b[0;34m.\u001b[0m\u001b[0merror\u001b[0m\u001b[0;34m.\u001b[0m\u001b[0mHTTPError\u001b[0m \u001b[0;32mas\u001b[0m \u001b[0me\u001b[0m\u001b[0;34m:\u001b[0m\u001b[0;34m\u001b[0m\u001b[0;34m\u001b[0m\u001b[0m\n",
            "\u001b[0;32m/usr/lib/python3.11/urllib/request.py\u001b[0m in \u001b[0;36murlopen\u001b[0;34m(url, data, timeout, cafile, capath, cadefault, context)\u001b[0m\n\u001b[1;32m    214\u001b[0m     \u001b[0;32melse\u001b[0m\u001b[0;34m:\u001b[0m\u001b[0;34m\u001b[0m\u001b[0;34m\u001b[0m\u001b[0m\n\u001b[1;32m    215\u001b[0m         \u001b[0mopener\u001b[0m \u001b[0;34m=\u001b[0m \u001b[0m_opener\u001b[0m\u001b[0;34m\u001b[0m\u001b[0;34m\u001b[0m\u001b[0m\n\u001b[0;32m--> 216\u001b[0;31m     \u001b[0;32mreturn\u001b[0m \u001b[0mopener\u001b[0m\u001b[0;34m.\u001b[0m\u001b[0mopen\u001b[0m\u001b[0;34m(\u001b[0m\u001b[0murl\u001b[0m\u001b[0;34m,\u001b[0m \u001b[0mdata\u001b[0m\u001b[0;34m,\u001b[0m \u001b[0mtimeout\u001b[0m\u001b[0;34m)\u001b[0m\u001b[0;34m\u001b[0m\u001b[0;34m\u001b[0m\u001b[0m\n\u001b[0m\u001b[1;32m    217\u001b[0m \u001b[0;34m\u001b[0m\u001b[0m\n\u001b[1;32m    218\u001b[0m \u001b[0;32mdef\u001b[0m \u001b[0minstall_opener\u001b[0m\u001b[0;34m(\u001b[0m\u001b[0mopener\u001b[0m\u001b[0;34m)\u001b[0m\u001b[0;34m:\u001b[0m\u001b[0;34m\u001b[0m\u001b[0;34m\u001b[0m\u001b[0m\n",
            "\u001b[0;32m/usr/lib/python3.11/urllib/request.py\u001b[0m in \u001b[0;36mopen\u001b[0;34m(self, fullurl, data, timeout)\u001b[0m\n\u001b[1;32m    523\u001b[0m         \u001b[0;32mfor\u001b[0m \u001b[0mprocessor\u001b[0m \u001b[0;32min\u001b[0m \u001b[0mself\u001b[0m\u001b[0;34m.\u001b[0m\u001b[0mprocess_response\u001b[0m\u001b[0;34m.\u001b[0m\u001b[0mget\u001b[0m\u001b[0;34m(\u001b[0m\u001b[0mprotocol\u001b[0m\u001b[0;34m,\u001b[0m \u001b[0;34m[\u001b[0m\u001b[0;34m]\u001b[0m\u001b[0;34m)\u001b[0m\u001b[0;34m:\u001b[0m\u001b[0;34m\u001b[0m\u001b[0;34m\u001b[0m\u001b[0m\n\u001b[1;32m    524\u001b[0m             \u001b[0mmeth\u001b[0m \u001b[0;34m=\u001b[0m \u001b[0mgetattr\u001b[0m\u001b[0;34m(\u001b[0m\u001b[0mprocessor\u001b[0m\u001b[0;34m,\u001b[0m \u001b[0mmeth_name\u001b[0m\u001b[0;34m)\u001b[0m\u001b[0;34m\u001b[0m\u001b[0;34m\u001b[0m\u001b[0m\n\u001b[0;32m--> 525\u001b[0;31m             \u001b[0mresponse\u001b[0m \u001b[0;34m=\u001b[0m \u001b[0mmeth\u001b[0m\u001b[0;34m(\u001b[0m\u001b[0mreq\u001b[0m\u001b[0;34m,\u001b[0m \u001b[0mresponse\u001b[0m\u001b[0;34m)\u001b[0m\u001b[0;34m\u001b[0m\u001b[0;34m\u001b[0m\u001b[0m\n\u001b[0m\u001b[1;32m    526\u001b[0m \u001b[0;34m\u001b[0m\u001b[0m\n\u001b[1;32m    527\u001b[0m         \u001b[0;32mreturn\u001b[0m \u001b[0mresponse\u001b[0m\u001b[0;34m\u001b[0m\u001b[0;34m\u001b[0m\u001b[0m\n",
            "\u001b[0;32m/usr/lib/python3.11/urllib/request.py\u001b[0m in \u001b[0;36mhttp_response\u001b[0;34m(self, request, response)\u001b[0m\n\u001b[1;32m    632\u001b[0m         \u001b[0;31m# request was successfully received, understood, and accepted.\u001b[0m\u001b[0;34m\u001b[0m\u001b[0;34m\u001b[0m\u001b[0m\n\u001b[1;32m    633\u001b[0m         \u001b[0;32mif\u001b[0m \u001b[0;32mnot\u001b[0m \u001b[0;34m(\u001b[0m\u001b[0;36m200\u001b[0m \u001b[0;34m<=\u001b[0m \u001b[0mcode\u001b[0m \u001b[0;34m<\u001b[0m \u001b[0;36m300\u001b[0m\u001b[0;34m)\u001b[0m\u001b[0;34m:\u001b[0m\u001b[0;34m\u001b[0m\u001b[0;34m\u001b[0m\u001b[0m\n\u001b[0;32m--> 634\u001b[0;31m             response = self.parent.error(\n\u001b[0m\u001b[1;32m    635\u001b[0m                 'http', request, response, code, msg, hdrs)\n\u001b[1;32m    636\u001b[0m \u001b[0;34m\u001b[0m\u001b[0m\n",
            "\u001b[0;32m/usr/lib/python3.11/urllib/request.py\u001b[0m in \u001b[0;36merror\u001b[0;34m(self, proto, *args)\u001b[0m\n\u001b[1;32m    561\u001b[0m         \u001b[0;32mif\u001b[0m \u001b[0mhttp_err\u001b[0m\u001b[0;34m:\u001b[0m\u001b[0;34m\u001b[0m\u001b[0;34m\u001b[0m\u001b[0m\n\u001b[1;32m    562\u001b[0m             \u001b[0margs\u001b[0m \u001b[0;34m=\u001b[0m \u001b[0;34m(\u001b[0m\u001b[0mdict\u001b[0m\u001b[0;34m,\u001b[0m \u001b[0;34m'default'\u001b[0m\u001b[0;34m,\u001b[0m \u001b[0;34m'http_error_default'\u001b[0m\u001b[0;34m)\u001b[0m \u001b[0;34m+\u001b[0m \u001b[0morig_args\u001b[0m\u001b[0;34m\u001b[0m\u001b[0;34m\u001b[0m\u001b[0m\n\u001b[0;32m--> 563\u001b[0;31m             \u001b[0;32mreturn\u001b[0m \u001b[0mself\u001b[0m\u001b[0;34m.\u001b[0m\u001b[0m_call_chain\u001b[0m\u001b[0;34m(\u001b[0m\u001b[0;34m*\u001b[0m\u001b[0margs\u001b[0m\u001b[0;34m)\u001b[0m\u001b[0;34m\u001b[0m\u001b[0;34m\u001b[0m\u001b[0m\n\u001b[0m\u001b[1;32m    564\u001b[0m \u001b[0;34m\u001b[0m\u001b[0m\n\u001b[1;32m    565\u001b[0m \u001b[0;31m# XXX probably also want an abstract factory that knows when it makes\u001b[0m\u001b[0;34m\u001b[0m\u001b[0;34m\u001b[0m\u001b[0m\n",
            "\u001b[0;32m/usr/lib/python3.11/urllib/request.py\u001b[0m in \u001b[0;36m_call_chain\u001b[0;34m(self, chain, kind, meth_name, *args)\u001b[0m\n\u001b[1;32m    494\u001b[0m         \u001b[0;32mfor\u001b[0m \u001b[0mhandler\u001b[0m \u001b[0;32min\u001b[0m \u001b[0mhandlers\u001b[0m\u001b[0;34m:\u001b[0m\u001b[0;34m\u001b[0m\u001b[0;34m\u001b[0m\u001b[0m\n\u001b[1;32m    495\u001b[0m             \u001b[0mfunc\u001b[0m \u001b[0;34m=\u001b[0m \u001b[0mgetattr\u001b[0m\u001b[0;34m(\u001b[0m\u001b[0mhandler\u001b[0m\u001b[0;34m,\u001b[0m \u001b[0mmeth_name\u001b[0m\u001b[0;34m)\u001b[0m\u001b[0;34m\u001b[0m\u001b[0;34m\u001b[0m\u001b[0m\n\u001b[0;32m--> 496\u001b[0;31m             \u001b[0mresult\u001b[0m \u001b[0;34m=\u001b[0m \u001b[0mfunc\u001b[0m\u001b[0;34m(\u001b[0m\u001b[0;34m*\u001b[0m\u001b[0margs\u001b[0m\u001b[0;34m)\u001b[0m\u001b[0;34m\u001b[0m\u001b[0;34m\u001b[0m\u001b[0m\n\u001b[0m\u001b[1;32m    497\u001b[0m             \u001b[0;32mif\u001b[0m \u001b[0mresult\u001b[0m \u001b[0;32mis\u001b[0m \u001b[0;32mnot\u001b[0m \u001b[0;32mNone\u001b[0m\u001b[0;34m:\u001b[0m\u001b[0;34m\u001b[0m\u001b[0;34m\u001b[0m\u001b[0m\n\u001b[1;32m    498\u001b[0m                 \u001b[0;32mreturn\u001b[0m \u001b[0mresult\u001b[0m\u001b[0;34m\u001b[0m\u001b[0;34m\u001b[0m\u001b[0m\n",
            "\u001b[0;32m/usr/lib/python3.11/urllib/request.py\u001b[0m in \u001b[0;36mhttp_error_default\u001b[0;34m(self, req, fp, code, msg, hdrs)\u001b[0m\n\u001b[1;32m    641\u001b[0m \u001b[0;32mclass\u001b[0m \u001b[0mHTTPDefaultErrorHandler\u001b[0m\u001b[0;34m(\u001b[0m\u001b[0mBaseHandler\u001b[0m\u001b[0;34m)\u001b[0m\u001b[0;34m:\u001b[0m\u001b[0;34m\u001b[0m\u001b[0;34m\u001b[0m\u001b[0m\n\u001b[1;32m    642\u001b[0m     \u001b[0;32mdef\u001b[0m \u001b[0mhttp_error_default\u001b[0m\u001b[0;34m(\u001b[0m\u001b[0mself\u001b[0m\u001b[0;34m,\u001b[0m \u001b[0mreq\u001b[0m\u001b[0;34m,\u001b[0m \u001b[0mfp\u001b[0m\u001b[0;34m,\u001b[0m \u001b[0mcode\u001b[0m\u001b[0;34m,\u001b[0m \u001b[0mmsg\u001b[0m\u001b[0;34m,\u001b[0m \u001b[0mhdrs\u001b[0m\u001b[0;34m)\u001b[0m\u001b[0;34m:\u001b[0m\u001b[0;34m\u001b[0m\u001b[0;34m\u001b[0m\u001b[0m\n\u001b[0;32m--> 643\u001b[0;31m         \u001b[0;32mraise\u001b[0m \u001b[0mHTTPError\u001b[0m\u001b[0;34m(\u001b[0m\u001b[0mreq\u001b[0m\u001b[0;34m.\u001b[0m\u001b[0mfull_url\u001b[0m\u001b[0;34m,\u001b[0m \u001b[0mcode\u001b[0m\u001b[0;34m,\u001b[0m \u001b[0mmsg\u001b[0m\u001b[0;34m,\u001b[0m \u001b[0mhdrs\u001b[0m\u001b[0;34m,\u001b[0m \u001b[0mfp\u001b[0m\u001b[0;34m)\u001b[0m\u001b[0;34m\u001b[0m\u001b[0;34m\u001b[0m\u001b[0m\n\u001b[0m\u001b[1;32m    644\u001b[0m \u001b[0;34m\u001b[0m\u001b[0m\n\u001b[1;32m    645\u001b[0m \u001b[0;32mclass\u001b[0m \u001b[0mHTTPRedirectHandler\u001b[0m\u001b[0;34m(\u001b[0m\u001b[0mBaseHandler\u001b[0m\u001b[0;34m)\u001b[0m\u001b[0;34m:\u001b[0m\u001b[0;34m\u001b[0m\u001b[0;34m\u001b[0m\u001b[0m\n",
            "\u001b[0;31mHTTPError\u001b[0m: HTTP Error 403: Forbidden"
          ]
        }
      ],
      "source": [
        "from rdflib import Namespace, Graph, RDF, RDFS, Literal\n",
        "import json\n",
        "from SPARQLWrapper import SPARQLWrapper, JSON\n",
        "import json\n",
        "import time\n",
        "import logging\n",
        "from SPARQLWrapper import SPARQLWrapper, JSON\n",
        "from rdflib import Graph, URIRef, Literal, Namespace, RDF\n",
        "\n",
        "# Set the Wikidata SPARQL endpoint\n",
        "SPARQL_ENDPOINT = \"https://query.wikidata.org/sparql\"\n",
        "\n",
        "# Define namespaces\n",
        "EX = Namespace(\"http://example.org/\")\n",
        "WIKIDATA = Namespace(\"http://www.wikidata.org/entity/\")\n",
        "\n",
        "# Create an RDF graph\n",
        "g = Graph()\n",
        "g.bind(\"ex\", EX)\n",
        "g.bind(\"wikidata\", WIKIDATA)\n",
        "\n",
        "# Prevent duplicate queries\n",
        "queried_nodes = set()\n",
        "\n",
        "def query_wikidata_properties(qid):\n",
        "    \"\"\"Query Wikidata properties for a given entity\"\"\"\n",
        "    if qid in queried_nodes:\n",
        "        return []\n",
        "    queried_nodes.add(qid)\n",
        "\n",
        "    query = f\"\"\"\n",
        "    SELECT ?property ?propertyLabel ?value ?valueLabel WHERE {{\n",
        "      wd:{qid} ?p ?value.\n",
        "      ?property wikibase:directClaim ?p.\n",
        "      FILTER (?property IN (wd:{\", wd:\".join(RELEVANT_PROPERTIES)}))\n",
        "      OPTIONAL {{ ?value rdfs:label ?valueLabel. FILTER(LANG(?valueLabel) = \"en\") }}\n",
        "      SERVICE wikibase:label {{ bd:serviceParam wikibase:language \"en\". }}\n",
        "    }}\n",
        "    \"\"\"\n",
        "    sparql = SPARQLWrapper(SPARQL_ENDPOINT)\n",
        "    sparql.setQuery(query)\n",
        "    sparql.setReturnFormat(JSON)\n",
        "    results = sparql.query().convert()\n",
        "    return results[\"results\"][\"bindings\"]\n",
        "\n",
        "def recursive_query(qid, label=None, depth=0, max_depth=3):\n",
        "    \"\"\"Recursively query and construct the knowledge graph\"\"\"\n",
        "    if depth > max_depth:\n",
        "        return\n",
        "\n",
        "    # Query entity properties\n",
        "    results = query_wikidata_properties(qid)\n",
        "\n",
        "    for result in results:\n",
        "        prop = result[\"propertyLabel\"][\"value\"].replace(\" \", \"_\").replace(\"(\", \"_\").replace(\")\", \"_\")\n",
        "        value = result.get(\"valueLabel\", {}).get(\"value\", result[\"value\"][\"value\"])\n",
        "        value_uri = result[\"value\"][\"value\"]\n",
        "\n",
        "        # Check if the value is a Wikidata entity\n",
        "        if \"wikidata.org/entity/\" in value_uri:\n",
        "            value_qid = value_uri.split(\"/\")[-1]\n",
        "\n",
        "            # New nodes are of type NewNode and added to the graph\n",
        "            if value_qid not in queried_nodes:\n",
        "                g.add((WIKIDATA[value_qid], RDF.type, EX.NewNode))  # Mark new entities as NewNode type\n",
        "                queried_nodes.add(value_qid)\n",
        "\n",
        "            # Only connect attributes to the target node as edges, not as attributes of the node\n",
        "            g.add((WIKIDATA[qid], EX[prop], WIKIDATA[value_qid]))\n",
        "            if label:\n",
        "                g.add((WIKIDATA[qid], RDFS.label, Literal(label)))\n",
        "            if value:\n",
        "                g.add((WIKIDATA[value_qid], RDFS.label, Literal(value)))\n",
        "\n",
        "            # recursive query\n",
        "            recursive_query(value_qid, label=value, depth=depth + 1, max_depth=max_depth)\n",
        "\n",
        "        # Process the relationship edge between the current property and the new node\n",
        "        if value_uri and \"wikidata.org/entity/\" in value_uri:\n",
        "            value_qid = value_uri.split(\"/\")[-1]\n",
        "            if value_qid not in queried_nodes:\n",
        "                g.add((WIKIDATA[value_qid], RDF.type, EX.NewNode))  # Mark new entities as NewNode type\n",
        "                queried_nodes.add(value_qid)\n",
        "\n",
        "            # Add relationships in RELEVANT_PROPERTIES as edges between new nodes\n",
        "            g.add((WIKIDATA[qid], EX[prop], WIKIDATA[value_qid]))  # Add relationship edge\n",
        "\n",
        "def build_knowledge_graph(dataset, max_depth=3):\n",
        "    \"\"\"Build a knowledge graph from a data set\"\"\"\n",
        "    for entry in dataset:\n",
        "        modality = entry[\"modality\"]\n",
        "        data_types = entry[\"data_types\"]\n",
        "\n",
        "        # Get the QID of modality\n",
        "        modality_qid = get_qid(modality)\n",
        "        if modality_qid:\n",
        "            print(f\"Processing modality: {modality} (QID: {modality_qid})\")\n",
        "\n",
        "            # Add modality node to RDF graph，and append label\n",
        "            g.add((WIKIDATA[modality_qid], RDF.type, EX.Modality))\n",
        "            g.add((WIKIDATA[modality_qid], RDFS.label, Literal(modality)))\n",
        "\n",
        "            # Recursively query the properties of modality\n",
        "            recursive_query(modality_qid, label=modality, depth=0, max_depth=max_depth)\n",
        "\n",
        "            # Handle data_types\n",
        "            for data_type, properties in data_types.items():\n",
        "                data_type_qid = properties.get(\"wikidata_id\")\n",
        "\n",
        "                if data_type_qid:\n",
        "                    # Add data_type node to the RDF graph and attach label\n",
        "                    g.add((WIKIDATA[data_type_qid], RDF.type, EX.Datatype))\n",
        "                    g.add((WIKIDATA[data_type_qid], RDFS.label, Literal(data_type)))\n",
        "                    g.add((WIKIDATA[data_type_qid], EX.frequency, Literal(properties.get(\"frequency\"))))\n",
        "                    g.add((WIKIDATA[data_type_qid], EX.wikidata_label, Literal(properties.get(\"wikidata_label\"))))\n",
        "                    g.add((WIKIDATA[data_type_qid], EX.wikidata_description, Literal(properties.get(\"wikidata_description\"))))\n",
        "\n",
        "                    # Add custom edges of modality and data_type\n",
        "                    g.add((WIKIDATA[modality_qid], EX[\"Modality_Datatype\"], WIKIDATA[data_type_qid]))\n",
        "\n",
        "                    # Recursively query the attributes of data_type\n",
        "                    recursive_query(data_type_qid, label=data_type, depth=0, max_depth=max_depth)\n",
        "\n",
        "    # ttl\n",
        "    g.serialize(destination=\"knowledge_graph_with_labels_3.ttl\", format=\"turtle\")\n",
        "    print(\"Knowledge graph saved to knowledge_graph_with_labels.ttl\")\n",
        "\n",
        "    g.serialize(destination=\"knowledge_graph_with_labels_3.owl\", format=\"xml\")\n",
        "    print(\"Knowledge graph saved to knowledge_graph_with_labels.owl\")\n",
        "\n",
        "# Load file\n",
        "with open('matched_modalities_data_types.json', 'r') as f:\n",
        "    dataset = json.load(f)\n",
        "\n",
        "# Build a knowledge graph\n",
        "build_knowledge_graph(dataset, max_depth=3)"
      ]
    },
    {
      "cell_type": "code",
      "execution_count": null,
      "metadata": {
        "colab": {
          "base_uri": "https://localhost:8080/"
        },
        "id": "q20_Oq8OyjdN",
        "outputId": "03e14fc7-4049-4cd2-8945-2fa02f52d2d9"
      },
      "outputs": [
        {
          "name": "stdout",
          "output_type": "stream",
          "text": [
            "Processing modality: image (QID: Q478798)\n",
            "Processing modality: text (QID: Q234460)\n"
          ]
        },
        {
          "name": "stderr",
          "output_type": "stream",
          "text": [
            "WARNING:root:No QID found for label: 3d model\n"
          ]
        },
        {
          "name": "stdout",
          "output_type": "stream",
          "text": [
            "Processing modality: video (QID: Q625525)\n",
            "Processing modality: audio (QID: Q3500685)\n"
          ]
        },
        {
          "name": "stderr",
          "output_type": "stream",
          "text": [
            "WARNING:root:No QID found for label: 3d point cloud\n",
            "WARNING:root:No QID found for label: numerical\n"
          ]
        },
        {
          "name": "stdout",
          "output_type": "stream",
          "text": [
            "Processing modality: metadata (QID: Q180160)\n",
            "Processing modality: structured data (QID: Q26813700)\n",
            "Processing modality: annotation (QID: Q857525)\n",
            "Processing modality: depth (QID: Q181591)\n",
            "Processing modality: skeleton (QID: Q7881)\n"
          ]
        },
        {
          "name": "stderr",
          "output_type": "stream",
          "text": [
            "WARNING:root:No QID found for label: inertial\n"
          ]
        },
        {
          "name": "stdout",
          "output_type": "stream",
          "text": [
            "Processing modality: sensor (QID: Q167676)\n"
          ]
        },
        {
          "name": "stderr",
          "output_type": "stream",
          "text": [
            "WARNING:root:No QID found for label: midi\n",
            "WARNING:root:No QID found for label: 3d\n",
            "WARNING:root:No QID found for label: 3d skeletal\n"
          ]
        },
        {
          "name": "stdout",
          "output_type": "stream",
          "text": [
            "Processing modality: tabular (QID: Q13402984)\n",
            "Processing modality: graph (QID: Q141488)\n"
          ]
        },
        {
          "name": "stderr",
          "output_type": "stream",
          "text": [
            "WARNING:root:No QID found for label: kinematic\n",
            "WARNING:root:No QID found for label: 3d structure\n"
          ]
        },
        {
          "name": "stdout",
          "output_type": "stream",
          "text": [
            "Processing modality: network (QID: Q109406)\n"
          ]
        },
        {
          "name": "stderr",
          "output_type": "stream",
          "text": [
            "WARNING:root:No QID found for label: 3d skeleton\n"
          ]
        },
        {
          "name": "stdout",
          "output_type": "stream",
          "text": [
            "Processing modality: table (QID: Q14748)\n",
            "Processing modality: time series (QID: Q186588)\n",
            "Processing modality: simulation (QID: Q45045)\n",
            "Processing modality: lidar (QID: Q504027)\n",
            "Processing modality: radar (QID: Q47528)\n",
            "Processing modality: numeric (QID: Q3249849)\n",
            "Processing modality: signal (QID: Q174984)\n",
            "Processing modality: data (QID: Q42848)\n",
            "Processing modality: point cloud (QID: Q1899648)\n",
            "Processing modality: vector (QID: Q107994)\n",
            "Processing modality: label (QID: Q202581)\n",
            "Processing modality: chemical structure (QID: Q500256)\n"
          ]
        },
        {
          "name": "stderr",
          "output_type": "stream",
          "text": [
            "WARNING:root:No QID found for label: physiological signal\n"
          ]
        },
        {
          "name": "stdout",
          "output_type": "stream",
          "text": [
            "Processing modality: motion capture (QID: Q676252)\n"
          ]
        },
        {
          "name": "stderr",
          "output_type": "stream",
          "text": [
            "WARNING:root:No QID found for label: spatial coordinate\n",
            "WARNING:root:No QID found for label: eeg\n"
          ]
        },
        {
          "name": "stdout",
          "output_type": "stream",
          "text": [
            "Processing modality: geolocation (QID: Q123349905)\n",
            "Processing modality: temporal (QID: Q2472680)\n",
            "Processing modality: sequence (QID: Q133250)\n",
            "Processing modality: trajectory (QID: Q193139)\n",
            "Processing modality: neuroimaging (QID: Q551875)\n",
            "Processing modality: environment (QID: Q1572519)\n"
          ]
        },
        {
          "name": "stderr",
          "output_type": "stream",
          "text": [
            "WARNING:root:No QID found for label: 3d simulation\n"
          ]
        },
        {
          "name": "stdout",
          "output_type": "stream",
          "text": [
            "Processing modality: pose (QID: Q1671968)\n",
            "Processing modality: visualization (QID: Q451553)\n",
            "Processing modality: geospatial (QID: Q122074678)\n"
          ]
        },
        {
          "name": "stderr",
          "output_type": "stream",
          "text": [
            "WARNING:root:No QID found for label: physiological\n"
          ]
        },
        {
          "name": "stdout",
          "output_type": "stream",
          "text": [
            "Processing modality: binary (QID: Q58483123)\n",
            "Processing modality: interaction (QID: Q52948)\n",
            "Processing modality: eye tracking (QID: Q970687)\n",
            "Processing modality: social network (QID: Q2715623)\n"
          ]
        },
        {
          "name": "stderr",
          "output_type": "stream",
          "text": [
            "WARNING:root:No QID found for label: 3d pose\n"
          ]
        },
        {
          "name": "stdout",
          "output_type": "stream",
          "text": [
            "Processing modality: event (QID: Q1349920)\n",
            "Processing modality: control (QID: Q338754)\n",
            "Processing modality: synthetic data (QID: Q7662746)\n"
          ]
        },
        {
          "name": "stderr",
          "output_type": "stream",
          "text": [
            "WARNING:root:No QID found for label: meta information\n"
          ]
        },
        {
          "name": "stdout",
          "output_type": "stream",
          "text": [
            "Processing modality: code (QID: Q188889)\n"
          ]
        },
        {
          "name": "stderr",
          "output_type": "stream",
          "text": [
            "WARNING:root:No QID found for label: genomic sequence\n"
          ]
        },
        {
          "name": "stdout",
          "output_type": "stream",
          "text": [
            "Processing modality: knowledge graph (QID: Q33002955)\n",
            "Processing modality: matrix (QID: Q44337)\n",
            "Processing modality: motion (QID: Q79782)\n"
          ]
        },
        {
          "name": "stderr",
          "output_type": "stream",
          "text": [
            "WARNING:root:No QID found for label: laser scan\n",
            "WARNING:root:No QID found for label: user data\n",
            "WARNING:root:No QID found for label: 3d body skeleton\n"
          ]
        },
        {
          "name": "stdout",
          "output_type": "stream",
          "text": [
            "Processing modality: game (QID: Q11410)\n"
          ]
        },
        {
          "name": "stderr",
          "output_type": "stream",
          "text": [
            "WARNING:root:No QID found for label: 3d motion\n",
            "WARNING:root:No QID found for label: pose information\n",
            "WARNING:root:No QID found for label: temporal graph\n",
            "WARNING:root:No QID found for label: genomic\n",
            "WARNING:root:No QID found for label: network traffic\n"
          ]
        },
        {
          "name": "stdout",
          "output_type": "stream",
          "text": [
            "Processing modality: web (QID: Q1427141)\n",
            "Processing modality: log (QID: Q12029485)\n",
            "Processing modality: model (QID: Q1941828)\n"
          ]
        },
        {
          "name": "stderr",
          "output_type": "stream",
          "text": [
            "WARNING:root:No QID found for label: eye gaze\n"
          ]
        },
        {
          "name": "stdout",
          "output_type": "stream",
          "text": [
            "Processing modality: feature vector (QID: Q1921842)\n"
          ]
        },
        {
          "name": "stderr",
          "output_type": "stream",
          "text": [
            "WARNING:root:No QID found for label: social context\n"
          ]
        },
        {
          "name": "stdout",
          "output_type": "stream",
          "text": [
            "Processing modality: spatial (QID: Q122075505)\n",
            "Processing modality: visual (QID: Q4014836)\n"
          ]
        },
        {
          "name": "stderr",
          "output_type": "stream",
          "text": [
            "WARNING:root:No QID found for label: spatiotemporal\n"
          ]
        },
        {
          "name": "stdout",
          "output_type": "stream",
          "text": [
            "Processing modality: software (QID: Q7397)\n",
            "Processing modality: sketch (QID: Q5078274)\n"
          ]
        },
        {
          "name": "stderr",
          "output_type": "stream",
          "text": [
            "WARNING:root:No QID found for label: meteorological\n",
            "WARNING:root:No QID found for label: structural\n",
            "WARNING:root:No QID found for label: chemical\n",
            "WARNING:root:No QID found for label: neural\n"
          ]
        },
        {
          "name": "stdout",
          "output_type": "stream",
          "text": [
            "Processing modality: feature (QID: Q93586)\n"
          ]
        },
        {
          "name": "stderr",
          "output_type": "stream",
          "text": [
            "WARNING:root:No QID found for label: system log\n",
            "WARNING:root:No QID found for label: categorical\n"
          ]
        },
        {
          "name": "stdout",
          "output_type": "stream",
          "text": [
            "Processing modality: tactile (QID: Q124134995)\n"
          ]
        },
        {
          "name": "stderr",
          "output_type": "stream",
          "text": [
            "WARNING:root:No QID found for label: biological\n",
            "WARNING:root:No QID found for label: syntactic analysis\n"
          ]
        },
        {
          "name": "stdout",
          "output_type": "stream",
          "text": [
            "Processing modality: notebook (QID: Q43013)\n",
            "Processing modality: emotion (QID: Q95969875)\n"
          ]
        },
        {
          "name": "stderr",
          "output_type": "stream",
          "text": [
            "WARNING:root:No QID found for label: electrophysiological\n",
            "WARNING:root:No QID found for label: imu\n",
            "WARNING:root:No QID found for label: kinesthetic\n",
            "WARNING:root:No QID found for label: gnss/ins\n"
          ]
        },
        {
          "name": "stdout",
          "output_type": "stream",
          "text": [
            "Processing modality: biomarker (QID: Q864574)\n"
          ]
        },
        {
          "name": "stderr",
          "output_type": "stream",
          "text": [
            "WARNING:root:No QID found for label: neurophysiological\n",
            "WARNING:root:No QID found for label: 3d object\n",
            "WARNING:root:No QID found for label: spectra\n",
            "WARNING:root:No QID found for label: 3d environment\n",
            "WARNING:root:No QID found for label: real world data\n",
            "WARNING:root:No QID found for label: bounding box\n",
            "WARNING:root:No QID found for label: 3d motion capture\n",
            "WARNING:root:No QID found for label: positional data\n",
            "WARNING:root:No QID found for label: eog\n",
            "WARNING:root:No QID found for label: ecg\n"
          ]
        },
        {
          "name": "stdout",
          "output_type": "stream",
          "text": [
            "Processing modality: other (QID: Q1433373)\n",
            "Processing modality: database (QID: Q8513)\n",
            "Processing modality: box (QID: Q188075)\n",
            "Processing modality: animation (QID: Q11425)\n"
          ]
        },
        {
          "name": "stderr",
          "output_type": "stream",
          "text": [
            "WARNING:root:No QID found for label: brain signal\n"
          ]
        },
        {
          "name": "stdout",
          "output_type": "stream",
          "text": [
            "Processing modality: odometry (QID: Q2014717)\n",
            "Processing modality: blockchain (QID: Q20514253)\n"
          ]
        },
        {
          "name": "stderr",
          "output_type": "stream",
          "text": [
            "WARNING:root:No QID found for label: spiking neural data\n"
          ]
        },
        {
          "name": "stdout",
          "output_type": "stream",
          "text": [
            "Processing modality: vr (QID: Q29716068)\n"
          ]
        },
        {
          "name": "stderr",
          "output_type": "stream",
          "text": [
            "WARNING:root:No QID found for label: json\n"
          ]
        },
        {
          "name": "stdout",
          "output_type": "stream",
          "text": [
            "Processing modality: data file (QID: Q5227290)\n",
            "Processing modality: biosignal (QID: Q644240)\n",
            "Knowledge graph saved to knowledge_graph_with_labels.ttl\n",
            "Knowledge graph saved to knowledge_graph_with_labels.owl\n"
          ]
        }
      ],
      "source": [
        "from rdflib import Namespace, Graph, RDF, RDFS, Literal\n",
        "import json\n",
        "from SPARQLWrapper import SPARQLWrapper, JSON\n",
        "\n",
        "# Set the Wikidata SPARQL endpoint\n",
        "SPARQL_ENDPOINT = \"https://query.wikidata.org/sparql\"\n",
        "\n",
        "# Define namespaces\n",
        "EX = Namespace(\"http://example.org/\")\n",
        "WIKIDATA = Namespace(\"http://www.wikidata.org/entity/\")\n",
        "\n",
        "# Create an RDF graph\n",
        "g = Graph()\n",
        "g.bind(\"ex\", EX)\n",
        "g.bind(\"wikidata\", WIKIDATA)\n",
        "\n",
        "# Prevent duplicate queries\n",
        "queried_nodes = set()\n",
        "\n",
        "def query_wikidata_properties(qid):\n",
        "    \"\"\"Query Wikidata properties for a given entity\"\"\"\n",
        "    if qid in queried_nodes:\n",
        "        return []\n",
        "    queried_nodes.add(qid)\n",
        "\n",
        "    query = f\"\"\"\n",
        "    SELECT ?property ?propertyLabel ?value ?valueLabel WHERE {{\n",
        "      wd:{qid} ?p ?value.\n",
        "      ?property wikibase:directClaim ?p.\n",
        "      FILTER (?property IN (wd:{\", wd:\".join(RELEVANT_PROPERTIES)}))\n",
        "      OPTIONAL {{ ?value rdfs:label ?valueLabel. FILTER(LANG(?valueLabel) = \"en\") }}\n",
        "      SERVICE wikibase:label {{ bd:serviceParam wikibase:language \"en\". }}\n",
        "    }}\n",
        "    \"\"\"\n",
        "    sparql = SPARQLWrapper(SPARQL_ENDPOINT)\n",
        "    sparql.setQuery(query)\n",
        "    sparql.setReturnFormat(JSON)\n",
        "    results = sparql.query().convert()\n",
        "    return results[\"results\"][\"bindings\"]\n",
        "\n",
        "def recursive_query(qid, label=None, depth=0, max_depth=3):\n",
        "    \"\"\"Recursively query and construct the knowledge graph\"\"\"\n",
        "    if depth > max_depth:\n",
        "        return\n",
        "\n",
        "    # Query entity properties\n",
        "    results = query_wikidata_properties(qid)\n",
        "\n",
        "    for result in results:\n",
        "        prop = result[\"propertyLabel\"][\"value\"].replace(\" \", \"_\").replace(\"(\", \"_\").replace(\")\", \"_\")\n",
        "        value = result.get(\"valueLabel\", {}).get(\"value\", result[\"value\"][\"value\"])\n",
        "        value_uri = result[\"value\"][\"value\"]\n",
        "\n",
        "        # Check if the value is a Wikidata entity\n",
        "        if \"wikidata.org/entity/\" in value_uri:\n",
        "            value_qid = value_uri.split(\"/\")[-1]\n",
        "\n",
        "            # New nodes are of type NewNode and added to the graph\n",
        "            if value_qid not in queried_nodes:\n",
        "                g.add((WIKIDATA[value_qid], RDF.type, EX.NewNode))  # Mark new entities as NewNode type\n",
        "                queried_nodes.add(value_qid)\n",
        "\n",
        "            # Only connect attributes to the target node as edges, not as attributes of the node\n",
        "            g.add((WIKIDATA[qid], EX[prop], WIKIDATA[value_qid]))\n",
        "            if label:\n",
        "                g.add((WIKIDATA[qid], RDFS.label, Literal(label)))\n",
        "            if value:\n",
        "                g.add((WIKIDATA[value_qid], RDFS.label, Literal(value)))\n",
        "\n",
        "            # recursive query\n",
        "            recursive_query(value_qid, label=value, depth=depth + 1, max_depth=max_depth)\n",
        "\n",
        "        # Process the relationship edge between the current property and the new node\n",
        "        if value_uri and \"wikidata.org/entity/\" in value_uri:\n",
        "            value_qid = value_uri.split(\"/\")[-1]\n",
        "            if value_qid not in queried_nodes:\n",
        "                g.add((WIKIDATA[value_qid], RDF.type, EX.NewNode))  # Mark new entities as NewNode type\n",
        "                queried_nodes.add(value_qid)\n",
        "\n",
        "            # Add relationships in RELEVANT_PROPERTIES as edges between new nodes\n",
        "            g.add((WIKIDATA[qid], EX[prop], WIKIDATA[value_qid]))  # Add relationship edge\n",
        "\n",
        "def build_knowledge_graph(dataset, max_depth=3):\n",
        "    \"\"\"Build a knowledge graph from a data set\"\"\"\n",
        "    for entry in dataset:\n",
        "        modality = entry[\"modality\"]\n",
        "        data_types = entry[\"data_types\"]\n",
        "\n",
        "        # Get the QID of modality\n",
        "        modality_qid = get_qid(modality)\n",
        "        if modality_qid:\n",
        "            print(f\"Processing modality: {modality} (QID: {modality_qid})\")\n",
        "\n",
        "            # Add modality node to RDF graph，and append label\n",
        "            g.add((WIKIDATA[modality_qid], RDF.type, EX.Modality))\n",
        "            g.add((WIKIDATA[modality_qid], RDFS.label, Literal(modality)))\n",
        "\n",
        "            # Recursively query the properties of modality\n",
        "            recursive_query(modality_qid, label=modality, depth=0, max_depth=max_depth)\n",
        "\n",
        "            # Handle data_types\n",
        "            for data_type, properties in data_types.items():\n",
        "                data_type_qid = properties.get(\"wikidata_id\")\n",
        "\n",
        "                if data_type_qid:\n",
        "                    # Add data_type node to the RDF graph and attach label\n",
        "                    g.add((WIKIDATA[data_type_qid], RDF.type, EX.Datatype))\n",
        "                    g.add((WIKIDATA[data_type_qid], RDFS.label, Literal(data_type)))\n",
        "                    g.add((WIKIDATA[data_type_qid], EX.frequency, Literal(properties.get(\"frequency\"))))\n",
        "                    g.add((WIKIDATA[data_type_qid], EX.wikidata_label, Literal(properties.get(\"wikidata_label\"))))\n",
        "                    g.add((WIKIDATA[data_type_qid], EX.wikidata_description, Literal(properties.get(\"wikidata_description\"))))\n",
        "\n",
        "                    # Add custom edges of modality and data_type\n",
        "                    g.add((WIKIDATA[modality_qid], EX[\"Modality_Datatype\"], WIKIDATA[data_type_qid]))\n",
        "\n",
        "                    # Recursively query the attributes of data_type\n",
        "                    recursive_query(data_type_qid, label=data_type, depth=0, max_depth=max_depth)\n",
        "\n",
        "    # ttl\n",
        "    g.serialize(destination=\"knowledge_graph_with_labels_2.ttl\", format=\"turtle\")\n",
        "    print(\"Knowledge graph saved to knowledge_graph_with_labels.ttl\")\n",
        "\n",
        "    g.serialize(destination=\"knowledge_graph_with_labels_2.owl\", format=\"xml\")\n",
        "    print(\"Knowledge graph saved to knowledge_graph_with_labels.owl\")\n",
        "\n",
        "# Load file\n",
        "with open('matched_modalities_data_types.json', 'r') as f:\n",
        "    dataset = json.load(f)\n",
        "\n",
        "# Build a knowledge graph\n",
        "build_knowledge_graph(dataset, max_depth=2)"
      ]
    },
    {
      "cell_type": "code",
      "execution_count": null,
      "metadata": {
        "colab": {
          "base_uri": "https://localhost:8080/"
        },
        "id": "0w64J0LJyl68",
        "outputId": "0d6b88c4-41c2-4c5f-9b76-bcb8dcde2058"
      },
      "outputs": [
        {
          "name": "stdout",
          "output_type": "stream",
          "text": [
            "Processing modality: image (QID: Q478798)\n",
            "Processing modality: text (QID: Q234460)\n"
          ]
        },
        {
          "name": "stderr",
          "output_type": "stream",
          "text": [
            "WARNING:root:No QID found for label: 3d model\n"
          ]
        },
        {
          "name": "stdout",
          "output_type": "stream",
          "text": [
            "Processing modality: video (QID: Q625525)\n",
            "Processing modality: audio (QID: Q3500685)\n"
          ]
        },
        {
          "name": "stderr",
          "output_type": "stream",
          "text": [
            "WARNING:root:No QID found for label: 3d point cloud\n",
            "WARNING:root:No QID found for label: numerical\n"
          ]
        },
        {
          "name": "stdout",
          "output_type": "stream",
          "text": [
            "Processing modality: metadata (QID: Q180160)\n",
            "Processing modality: structured data (QID: Q26813700)\n",
            "Processing modality: annotation (QID: Q857525)\n",
            "Processing modality: depth (QID: Q181591)\n",
            "Processing modality: skeleton (QID: Q7881)\n"
          ]
        },
        {
          "name": "stderr",
          "output_type": "stream",
          "text": [
            "WARNING:root:No QID found for label: inertial\n"
          ]
        },
        {
          "name": "stdout",
          "output_type": "stream",
          "text": [
            "Processing modality: sensor (QID: Q167676)\n"
          ]
        },
        {
          "name": "stderr",
          "output_type": "stream",
          "text": [
            "WARNING:root:No QID found for label: midi\n",
            "WARNING:root:No QID found for label: 3d\n",
            "WARNING:root:No QID found for label: 3d skeletal\n"
          ]
        },
        {
          "name": "stdout",
          "output_type": "stream",
          "text": [
            "Processing modality: tabular (QID: Q13402984)\n",
            "Processing modality: graph (QID: Q141488)\n"
          ]
        },
        {
          "name": "stderr",
          "output_type": "stream",
          "text": [
            "WARNING:root:No QID found for label: kinematic\n",
            "WARNING:root:No QID found for label: 3d structure\n"
          ]
        },
        {
          "name": "stdout",
          "output_type": "stream",
          "text": [
            "Processing modality: network (QID: Q109406)\n"
          ]
        },
        {
          "name": "stderr",
          "output_type": "stream",
          "text": [
            "WARNING:root:No QID found for label: 3d skeleton\n"
          ]
        },
        {
          "name": "stdout",
          "output_type": "stream",
          "text": [
            "Processing modality: table (QID: Q14748)\n",
            "Processing modality: time series (QID: Q186588)\n",
            "Processing modality: simulation (QID: Q45045)\n",
            "Processing modality: lidar (QID: Q504027)\n",
            "Processing modality: radar (QID: Q47528)\n",
            "Processing modality: numeric (QID: Q3249849)\n",
            "Processing modality: signal (QID: Q174984)\n",
            "Processing modality: data (QID: Q42848)\n",
            "Processing modality: point cloud (QID: Q1899648)\n",
            "Processing modality: vector (QID: Q107994)\n",
            "Processing modality: label (QID: Q202581)\n",
            "Processing modality: chemical structure (QID: Q500256)\n"
          ]
        },
        {
          "name": "stderr",
          "output_type": "stream",
          "text": [
            "WARNING:root:No QID found for label: physiological signal\n"
          ]
        },
        {
          "name": "stdout",
          "output_type": "stream",
          "text": [
            "Processing modality: motion capture (QID: Q676252)\n"
          ]
        },
        {
          "name": "stderr",
          "output_type": "stream",
          "text": [
            "WARNING:root:No QID found for label: spatial coordinate\n",
            "WARNING:root:No QID found for label: eeg\n"
          ]
        },
        {
          "name": "stdout",
          "output_type": "stream",
          "text": [
            "Processing modality: geolocation (QID: Q123349905)\n",
            "Processing modality: temporal (QID: Q2472680)\n",
            "Processing modality: sequence (QID: Q133250)\n",
            "Processing modality: trajectory (QID: Q193139)\n",
            "Processing modality: neuroimaging (QID: Q551875)\n",
            "Processing modality: environment (QID: Q1572519)\n"
          ]
        },
        {
          "name": "stderr",
          "output_type": "stream",
          "text": [
            "WARNING:root:No QID found for label: 3d simulation\n"
          ]
        },
        {
          "name": "stdout",
          "output_type": "stream",
          "text": [
            "Processing modality: pose (QID: Q1671968)\n",
            "Processing modality: visualization (QID: Q451553)\n",
            "Processing modality: geospatial (QID: Q122074678)\n"
          ]
        },
        {
          "name": "stderr",
          "output_type": "stream",
          "text": [
            "WARNING:root:No QID found for label: physiological\n"
          ]
        },
        {
          "name": "stdout",
          "output_type": "stream",
          "text": [
            "Processing modality: binary (QID: Q58483123)\n",
            "Processing modality: interaction (QID: Q52948)\n",
            "Processing modality: eye tracking (QID: Q970687)\n",
            "Processing modality: social network (QID: Q2715623)\n"
          ]
        },
        {
          "name": "stderr",
          "output_type": "stream",
          "text": [
            "WARNING:root:No QID found for label: 3d pose\n"
          ]
        },
        {
          "name": "stdout",
          "output_type": "stream",
          "text": [
            "Processing modality: event (QID: Q1349920)\n",
            "Processing modality: control (QID: Q338754)\n",
            "Processing modality: synthetic data (QID: Q7662746)\n"
          ]
        },
        {
          "name": "stderr",
          "output_type": "stream",
          "text": [
            "WARNING:root:No QID found for label: meta information\n"
          ]
        },
        {
          "name": "stdout",
          "output_type": "stream",
          "text": [
            "Processing modality: code (QID: Q188889)\n"
          ]
        },
        {
          "name": "stderr",
          "output_type": "stream",
          "text": [
            "WARNING:root:No QID found for label: genomic sequence\n"
          ]
        },
        {
          "name": "stdout",
          "output_type": "stream",
          "text": [
            "Processing modality: knowledge graph (QID: Q33002955)\n",
            "Processing modality: matrix (QID: Q44337)\n",
            "Processing modality: motion (QID: Q79782)\n"
          ]
        },
        {
          "name": "stderr",
          "output_type": "stream",
          "text": [
            "WARNING:root:No QID found for label: laser scan\n",
            "WARNING:root:No QID found for label: user data\n",
            "WARNING:root:No QID found for label: 3d body skeleton\n"
          ]
        },
        {
          "name": "stdout",
          "output_type": "stream",
          "text": [
            "Processing modality: game (QID: Q11410)\n"
          ]
        },
        {
          "name": "stderr",
          "output_type": "stream",
          "text": [
            "WARNING:root:No QID found for label: 3d motion\n",
            "WARNING:root:No QID found for label: pose information\n",
            "WARNING:root:No QID found for label: temporal graph\n",
            "WARNING:root:No QID found for label: genomic\n",
            "WARNING:root:No QID found for label: network traffic\n"
          ]
        },
        {
          "name": "stdout",
          "output_type": "stream",
          "text": [
            "Processing modality: web (QID: Q1427141)\n",
            "Processing modality: log (QID: Q12029485)\n",
            "Processing modality: model (QID: Q1941828)\n"
          ]
        },
        {
          "name": "stderr",
          "output_type": "stream",
          "text": [
            "WARNING:root:No QID found for label: eye gaze\n"
          ]
        },
        {
          "name": "stdout",
          "output_type": "stream",
          "text": [
            "Processing modality: feature vector (QID: Q1921842)\n"
          ]
        },
        {
          "name": "stderr",
          "output_type": "stream",
          "text": [
            "WARNING:root:No QID found for label: social context\n"
          ]
        },
        {
          "name": "stdout",
          "output_type": "stream",
          "text": [
            "Processing modality: spatial (QID: Q122075505)\n",
            "Processing modality: visual (QID: Q4014836)\n"
          ]
        },
        {
          "name": "stderr",
          "output_type": "stream",
          "text": [
            "WARNING:root:No QID found for label: spatiotemporal\n"
          ]
        },
        {
          "name": "stdout",
          "output_type": "stream",
          "text": [
            "Processing modality: software (QID: Q7397)\n",
            "Processing modality: sketch (QID: Q5078274)\n"
          ]
        },
        {
          "name": "stderr",
          "output_type": "stream",
          "text": [
            "WARNING:root:No QID found for label: meteorological\n",
            "WARNING:root:No QID found for label: structural\n",
            "WARNING:root:No QID found for label: chemical\n",
            "WARNING:root:No QID found for label: neural\n"
          ]
        },
        {
          "name": "stdout",
          "output_type": "stream",
          "text": [
            "Processing modality: feature (QID: Q93586)\n"
          ]
        },
        {
          "name": "stderr",
          "output_type": "stream",
          "text": [
            "WARNING:root:No QID found for label: system log\n",
            "WARNING:root:No QID found for label: categorical\n"
          ]
        },
        {
          "name": "stdout",
          "output_type": "stream",
          "text": [
            "Processing modality: tactile (QID: Q124134995)\n"
          ]
        },
        {
          "name": "stderr",
          "output_type": "stream",
          "text": [
            "WARNING:root:No QID found for label: biological\n",
            "WARNING:root:No QID found for label: syntactic analysis\n"
          ]
        },
        {
          "name": "stdout",
          "output_type": "stream",
          "text": [
            "Processing modality: notebook (QID: Q43013)\n",
            "Processing modality: emotion (QID: Q95969875)\n"
          ]
        },
        {
          "name": "stderr",
          "output_type": "stream",
          "text": [
            "WARNING:root:No QID found for label: electrophysiological\n",
            "WARNING:root:No QID found for label: imu\n",
            "WARNING:root:No QID found for label: kinesthetic\n",
            "WARNING:root:No QID found for label: gnss/ins\n"
          ]
        },
        {
          "name": "stdout",
          "output_type": "stream",
          "text": [
            "Processing modality: biomarker (QID: Q864574)\n"
          ]
        },
        {
          "name": "stderr",
          "output_type": "stream",
          "text": [
            "WARNING:root:No QID found for label: neurophysiological\n",
            "WARNING:root:No QID found for label: 3d object\n",
            "WARNING:root:No QID found for label: spectra\n",
            "WARNING:root:No QID found for label: 3d environment\n",
            "WARNING:root:No QID found for label: real world data\n",
            "WARNING:root:No QID found for label: bounding box\n",
            "WARNING:root:No QID found for label: 3d motion capture\n",
            "WARNING:root:No QID found for label: positional data\n",
            "WARNING:root:No QID found for label: eog\n",
            "WARNING:root:No QID found for label: ecg\n"
          ]
        },
        {
          "name": "stdout",
          "output_type": "stream",
          "text": [
            "Processing modality: other (QID: Q1433373)\n",
            "Processing modality: database (QID: Q8513)\n",
            "Processing modality: box (QID: Q188075)\n",
            "Processing modality: animation (QID: Q11425)\n"
          ]
        },
        {
          "name": "stderr",
          "output_type": "stream",
          "text": [
            "WARNING:root:No QID found for label: brain signal\n"
          ]
        },
        {
          "name": "stdout",
          "output_type": "stream",
          "text": [
            "Processing modality: odometry (QID: Q2014717)\n",
            "Processing modality: blockchain (QID: Q20514253)\n"
          ]
        },
        {
          "name": "stderr",
          "output_type": "stream",
          "text": [
            "WARNING:root:No QID found for label: spiking neural data\n"
          ]
        },
        {
          "name": "stdout",
          "output_type": "stream",
          "text": [
            "Processing modality: vr (QID: Q29716068)\n"
          ]
        },
        {
          "name": "stderr",
          "output_type": "stream",
          "text": [
            "WARNING:root:No QID found for label: json\n"
          ]
        },
        {
          "name": "stdout",
          "output_type": "stream",
          "text": [
            "Processing modality: data file (QID: Q5227290)\n",
            "Processing modality: biosignal (QID: Q644240)\n",
            "Knowledge graph saved to knowledge_graph_with_labels.ttl\n",
            "Knowledge graph saved to knowledge_graph_with_labels.owl\n"
          ]
        }
      ],
      "source": [
        "from rdflib import Namespace, Graph, RDF, RDFS, Literal\n",
        "import json\n",
        "from SPARQLWrapper import SPARQLWrapper, JSON\n",
        "\n",
        "# Set the Wikidata SPARQL endpoint\n",
        "SPARQL_ENDPOINT = \"https://query.wikidata.org/sparql\"\n",
        "\n",
        "# Define namespaces\n",
        "EX = Namespace(\"http://example.org/\")\n",
        "WIKIDATA = Namespace(\"http://www.wikidata.org/entity/\")\n",
        "\n",
        "# Create an RDF graph\n",
        "g = Graph()\n",
        "g.bind(\"ex\", EX)\n",
        "g.bind(\"wikidata\", WIKIDATA)\n",
        "\n",
        "# Prevent duplicate queries\n",
        "queried_nodes = set()\n",
        "\n",
        "def query_wikidata_properties(qid):\n",
        "    \"\"\"Query Wikidata properties for a given entity\"\"\"\n",
        "    if qid in queried_nodes:\n",
        "        return []\n",
        "    queried_nodes.add(qid)\n",
        "\n",
        "    query = f\"\"\"\n",
        "    SELECT ?property ?propertyLabel ?value ?valueLabel WHERE {{\n",
        "      wd:{qid} ?p ?value.\n",
        "      ?property wikibase:directClaim ?p.\n",
        "      FILTER (?property IN (wd:{\", wd:\".join(RELEVANT_PROPERTIES)}))\n",
        "      OPTIONAL {{ ?value rdfs:label ?valueLabel. FILTER(LANG(?valueLabel) = \"en\") }}\n",
        "      SERVICE wikibase:label {{ bd:serviceParam wikibase:language \"en\". }}\n",
        "    }}\n",
        "    \"\"\"\n",
        "    sparql = SPARQLWrapper(SPARQL_ENDPOINT)\n",
        "    sparql.setQuery(query)\n",
        "    sparql.setReturnFormat(JSON)\n",
        "    results = sparql.query().convert()\n",
        "    return results[\"results\"][\"bindings\"]\n",
        "\n",
        "def recursive_query(qid, label=None, depth=0, max_depth=3):\n",
        "    \"\"\"Recursively query and construct the knowledge graph\"\"\"\n",
        "    if depth > max_depth:\n",
        "        return\n",
        "\n",
        "    # Query entity properties\n",
        "    results = query_wikidata_properties(qid)\n",
        "\n",
        "    for result in results:\n",
        "        prop = result[\"propertyLabel\"][\"value\"].replace(\" \", \"_\").replace(\"(\", \"_\").replace(\")\", \"_\")\n",
        "        value = result.get(\"valueLabel\", {}).get(\"value\", result[\"value\"][\"value\"])\n",
        "        value_uri = result[\"value\"][\"value\"]\n",
        "\n",
        "        # Check if the value is a Wikidata entity\n",
        "        if \"wikidata.org/entity/\" in value_uri:\n",
        "            value_qid = value_uri.split(\"/\")[-1]\n",
        "\n",
        "            # New nodes are of type NewNode and added to the graph\n",
        "            if value_qid not in queried_nodes:\n",
        "                g.add((WIKIDATA[value_qid], RDF.type, EX.NewNode))  # Mark new entities as NewNode type\n",
        "                queried_nodes.add(value_qid)\n",
        "\n",
        "            # Only connect attributes to the target node as edges, not as attributes of the node\n",
        "            g.add((WIKIDATA[qid], EX[prop], WIKIDATA[value_qid]))\n",
        "            if label:\n",
        "                g.add((WIKIDATA[qid], RDFS.label, Literal(label)))\n",
        "            if value:\n",
        "                g.add((WIKIDATA[value_qid], RDFS.label, Literal(value)))\n",
        "\n",
        "            # recursive query\n",
        "            recursive_query(value_qid, label=value, depth=depth + 1, max_depth=max_depth)\n",
        "\n",
        "        # Process the relationship edge between the current property and the new node\n",
        "        if value_uri and \"wikidata.org/entity/\" in value_uri:\n",
        "            value_qid = value_uri.split(\"/\")[-1]\n",
        "            if value_qid not in queried_nodes:\n",
        "                g.add((WIKIDATA[value_qid], RDF.type, EX.NewNode))  # Mark new entities as NewNode type\n",
        "                queried_nodes.add(value_qid)\n",
        "\n",
        "            # Add relationships in RELEVANT_PROPERTIES as edges between new nodes\n",
        "            g.add((WIKIDATA[qid], EX[prop], WIKIDATA[value_qid]))  # Add relationship edge\n",
        "\n",
        "def build_knowledge_graph(dataset, max_depth=3):\n",
        "    \"\"\"Build a knowledge graph from a data set\"\"\"\n",
        "    for entry in dataset:\n",
        "        modality = entry[\"modality\"]\n",
        "        data_types = entry[\"data_types\"]\n",
        "\n",
        "        # Get the QID of modality\n",
        "        modality_qid = get_qid(modality)\n",
        "        if modality_qid:\n",
        "            print(f\"Processing modality: {modality} (QID: {modality_qid})\")\n",
        "\n",
        "            # Add modality node to RDF graph，and append label\n",
        "            g.add((WIKIDATA[modality_qid], RDF.type, EX.Modality))\n",
        "            g.add((WIKIDATA[modality_qid], RDFS.label, Literal(modality)))\n",
        "\n",
        "            # Recursively query the properties of modality\n",
        "            recursive_query(modality_qid, label=modality, depth=0, max_depth=max_depth)\n",
        "\n",
        "            # Handle data_types\n",
        "            for data_type, properties in data_types.items():\n",
        "                data_type_qid = properties.get(\"wikidata_id\")\n",
        "\n",
        "                if data_type_qid:\n",
        "                    # Add data_type node to the RDF graph and attach label\n",
        "                    g.add((WIKIDATA[data_type_qid], RDF.type, EX.Datatype))\n",
        "                    g.add((WIKIDATA[data_type_qid], RDFS.label, Literal(data_type)))\n",
        "                    g.add((WIKIDATA[data_type_qid], EX.frequency, Literal(properties.get(\"frequency\"))))\n",
        "                    g.add((WIKIDATA[data_type_qid], EX.wikidata_label, Literal(properties.get(\"wikidata_label\"))))\n",
        "                    g.add((WIKIDATA[data_type_qid], EX.wikidata_description, Literal(properties.get(\"wikidata_description\"))))\n",
        "\n",
        "                    # Add custom edges of modality and data_type\n",
        "                    g.add((WIKIDATA[modality_qid], EX[\"Modality_Datatype\"], WIKIDATA[data_type_qid]))\n",
        "\n",
        "                    # Recursively query the attributes of data_type\n",
        "                    recursive_query(data_type_qid, label=data_type, depth=0, max_depth=max_depth)\n",
        "\n",
        "    # ttl\n",
        "    g.serialize(destination=\"knowledge_graph_with_labels_1.ttl\", format=\"turtle\")\n",
        "    print(\"Knowledge graph saved to knowledge_graph_with_labels.ttl\")\n",
        "\n",
        "    g.serialize(destination=\"knowledge_graph_with_labels_1.owl\", format=\"xml\")\n",
        "    print(\"Knowledge graph saved to knowledge_graph_with_labels.owl\")\n",
        "\n",
        "# Load file\n",
        "with open('matched_modalities_data_types.json', 'r') as f:\n",
        "    dataset = json.load(f)\n",
        "\n",
        "# Build a knowledge graph\n",
        "build_knowledge_graph(dataset, max_depth=1)"
      ]
    },
    {
      "cell_type": "markdown",
      "metadata": {
        "id": "MgTiIRAuIKfs"
      },
      "source": [
        "## Full Dataset Query"
      ]
    },
    {
      "cell_type": "code",
      "execution_count": null,
      "metadata": {
        "colab": {
          "base_uri": "https://localhost:8080/",
          "height": 1000
        },
        "id": "HDjXcLNlIJ4m",
        "outputId": "e0764667-bde5-43c5-8bc7-71b5ceb27be5"
      },
      "outputs": [
        {
          "name": "stderr",
          "output_type": "stream",
          "text": [
            "WARNING:rdflib.term:https://www.wikidata.org/wiki/Property/subclass of does not look like a valid URI, trying to serialize this will break.\n",
            "WARNING:rdflib.term:https://www.wikidata.org/wiki/Property/subclass of does not look like a valid URI, trying to serialize this will break.\n",
            "WARNING:rdflib.term:https://www.wikidata.org/wiki/Property/has part(s) does not look like a valid URI, trying to serialize this will break.\n",
            "WARNING:rdflib.term:https://www.wikidata.org/wiki/Property/part of does not look like a valid URI, trying to serialize this will break.\n",
            "WARNING:rdflib.term:https://www.wikidata.org/wiki/Property/has part(s) does not look like a valid URI, trying to serialize this will break.\n",
            "WARNING:rdflib.term:https://www.wikidata.org/wiki/Property/has part(s) does not look like a valid URI, trying to serialize this will break.\n",
            "WARNING:rdflib.term:https://www.wikidata.org/wiki/Property/part of does not look like a valid URI, trying to serialize this will break.\n",
            "WARNING:rdflib.term:https://www.wikidata.org/wiki/Property/instance of does not look like a valid URI, trying to serialize this will break.\n",
            "WARNING:rdflib.term:https://www.wikidata.org/wiki/Property/has characteristic does not look like a valid URI, trying to serialize this will break.\n",
            "WARNING:rdflib.term:https://www.wikidata.org/wiki/Property/instance of does not look like a valid URI, trying to serialize this will break.\n",
            "WARNING:rdflib.term:https://www.wikidata.org/wiki/Property/subclass of does not look like a valid URI, trying to serialize this will break.\n",
            "WARNING:rdflib.term:https://www.wikidata.org/wiki/Property/has characteristic does not look like a valid URI, trying to serialize this will break.\n",
            "WARNING:rdflib.term:https://www.wikidata.org/wiki/Property/has part(s) does not look like a valid URI, trying to serialize this will break.\n",
            "WARNING:rdflib.term:https://www.wikidata.org/wiki/Property/has use does not look like a valid URI, trying to serialize this will break.\n",
            "WARNING:rdflib.term:https://www.wikidata.org/wiki/Property/field of work does not look like a valid URI, trying to serialize this will break.\n",
            "WARNING:rdflib.term:https://www.wikidata.org/wiki/Property/subclass of does not look like a valid URI, trying to serialize this will break.\n",
            "WARNING:rdflib.term:https://www.wikidata.org/wiki/Property/instance of does not look like a valid URI, trying to serialize this will break.\n",
            "WARNING:rdflib.term:https://www.wikidata.org/wiki/Property/subclass of does not look like a valid URI, trying to serialize this will break.\n",
            "WARNING:rdflib.term:https://www.wikidata.org/wiki/Property/instance of does not look like a valid URI, trying to serialize this will break.\n",
            "WARNING:rdflib.term:https://www.wikidata.org/wiki/Property/part of does not look like a valid URI, trying to serialize this will break.\n",
            "WARNING:rdflib.term:https://www.wikidata.org/wiki/Property/part of does not look like a valid URI, trying to serialize this will break.\n",
            "WARNING:rdflib.term:https://www.wikidata.org/wiki/Property/subclass of does not look like a valid URI, trying to serialize this will break.\n",
            "WARNING:rdflib.term:https://www.wikidata.org/wiki/Property/subclass of does not look like a valid URI, trying to serialize this will break.\n",
            "WARNING:rdflib.term:https://www.wikidata.org/wiki/Property/instance of does not look like a valid URI, trying to serialize this will break.\n",
            "WARNING:rdflib.term:https://www.wikidata.org/wiki/Property/subclass of does not look like a valid URI, trying to serialize this will break.\n",
            "WARNING:rdflib.term:https://www.wikidata.org/wiki/Property/part of does not look like a valid URI, trying to serialize this will break.\n",
            "WARNING:rdflib.term:https://www.wikidata.org/wiki/Property/has use does not look like a valid URI, trying to serialize this will break.\n",
            "WARNING:rdflib.term:https://www.wikidata.org/wiki/Property/has use does not look like a valid URI, trying to serialize this will break.\n",
            "WARNING:rdflib.term:https://www.wikidata.org/wiki/Property/subclass of does not look like a valid URI, trying to serialize this will break.\n",
            "WARNING:rdflib.term:https://www.wikidata.org/wiki/Property/subclass of does not look like a valid URI, trying to serialize this will break.\n",
            "WARNING:rdflib.term:https://www.wikidata.org/wiki/Property/instance of does not look like a valid URI, trying to serialize this will break.\n",
            "WARNING:rdflib.term:https://www.wikidata.org/wiki/Property/subclass of does not look like a valid URI, trying to serialize this will break.\n",
            "WARNING:rdflib.term:https://www.wikidata.org/wiki/Property/instance of does not look like a valid URI, trying to serialize this will break.\n",
            "WARNING:rdflib.term:https://www.wikidata.org/wiki/Property/subclass of does not look like a valid URI, trying to serialize this will break.\n",
            "WARNING:rdflib.term:https://www.wikidata.org/wiki/Property/subclass of does not look like a valid URI, trying to serialize this will break.\n",
            "WARNING:rdflib.term:https://www.wikidata.org/wiki/Property/has use does not look like a valid URI, trying to serialize this will break.\n",
            "WARNING:rdflib.term:https://www.wikidata.org/wiki/Property/has part(s) does not look like a valid URI, trying to serialize this will break.\n",
            "WARNING:rdflib.term:https://www.wikidata.org/wiki/Property/instance of does not look like a valid URI, trying to serialize this will break.\n",
            "WARNING:rdflib.term:https://www.wikidata.org/wiki/Property/instance of does not look like a valid URI, trying to serialize this will break.\n",
            "WARNING:rdflib.term:https://www.wikidata.org/wiki/Property/subclass of does not look like a valid URI, trying to serialize this will break.\n",
            "WARNING:rdflib.term:https://www.wikidata.org/wiki/Property/instance of does not look like a valid URI, trying to serialize this will break.\n",
            "WARNING:rdflib.term:https://www.wikidata.org/wiki/Property/has part(s) does not look like a valid URI, trying to serialize this will break.\n",
            "WARNING:rdflib.term:https://www.wikidata.org/wiki/Property/has part(s) does not look like a valid URI, trying to serialize this will break.\n",
            "WARNING:rdflib.term:https://www.wikidata.org/wiki/Property/subclass of does not look like a valid URI, trying to serialize this will break.\n",
            "WARNING:rdflib.term:https://www.wikidata.org/wiki/Property/instance of does not look like a valid URI, trying to serialize this will break.\n",
            "WARNING:rdflib.term:https://www.wikidata.org/wiki/Property/subclass of does not look like a valid URI, trying to serialize this will break.\n",
            "WARNING:rdflib.term:https://www.wikidata.org/wiki/Property/subclass of does not look like a valid URI, trying to serialize this will break.\n",
            "WARNING:rdflib.term:https://www.wikidata.org/wiki/Property/subclass of does not look like a valid URI, trying to serialize this will break.\n",
            "WARNING:rdflib.term:https://www.wikidata.org/wiki/Property/subclass of does not look like a valid URI, trying to serialize this will break.\n",
            "WARNING:rdflib.term:https://www.wikidata.org/wiki/Property/instance of does not look like a valid URI, trying to serialize this will break.\n",
            "WARNING:rdflib.term:https://www.wikidata.org/wiki/Property/subclass of does not look like a valid URI, trying to serialize this will break.\n",
            "WARNING:rdflib.term:https://www.wikidata.org/wiki/Property/subclass of does not look like a valid URI, trying to serialize this will break.\n",
            "WARNING:rdflib.term:https://www.wikidata.org/wiki/Property/instance of does not look like a valid URI, trying to serialize this will break.\n",
            "WARNING:rdflib.term:https://www.wikidata.org/wiki/Property/subclass of does not look like a valid URI, trying to serialize this will break.\n",
            "WARNING:rdflib.term:https://www.wikidata.org/wiki/Property/subclass of does not look like a valid URI, trying to serialize this will break.\n",
            "WARNING:rdflib.term:https://www.wikidata.org/wiki/Property/instance of does not look like a valid URI, trying to serialize this will break.\n",
            "WARNING:rdflib.term:https://www.wikidata.org/wiki/Property/subclass of does not look like a valid URI, trying to serialize this will break.\n",
            "WARNING:rdflib.term:https://www.wikidata.org/wiki/Property/subclass of does not look like a valid URI, trying to serialize this will break.\n",
            "WARNING:rdflib.term:https://www.wikidata.org/wiki/Property/subclass of does not look like a valid URI, trying to serialize this will break.\n",
            "WARNING:rdflib.term:https://www.wikidata.org/wiki/Property/part of does not look like a valid URI, trying to serialize this will break.\n",
            "WARNING:rdflib.term:https://www.wikidata.org/wiki/Property/instance of does not look like a valid URI, trying to serialize this will break.\n",
            "WARNING:rdflib.term:https://www.wikidata.org/wiki/Property/has characteristic does not look like a valid URI, trying to serialize this will break.\n",
            "WARNING:rdflib.term:https://www.wikidata.org/wiki/Property/subclass of does not look like a valid URI, trying to serialize this will break.\n",
            "WARNING:rdflib.term:https://www.wikidata.org/wiki/Property/has characteristic does not look like a valid URI, trying to serialize this will break.\n",
            "WARNING:rdflib.term:https://www.wikidata.org/wiki/Property/has part(s) does not look like a valid URI, trying to serialize this will break.\n",
            "WARNING:rdflib.term:https://www.wikidata.org/wiki/Property/part of does not look like a valid URI, trying to serialize this will break.\n",
            "WARNING:rdflib.term:https://www.wikidata.org/wiki/Property/instance of does not look like a valid URI, trying to serialize this will break.\n",
            "WARNING:rdflib.term:https://www.wikidata.org/wiki/Property/subclass of does not look like a valid URI, trying to serialize this will break.\n",
            "WARNING:rdflib.term:https://www.wikidata.org/wiki/Property/subclass of does not look like a valid URI, trying to serialize this will break.\n",
            "WARNING:rdflib.term:https://www.wikidata.org/wiki/Property/has characteristic does not look like a valid URI, trying to serialize this will break.\n",
            "WARNING:rdflib.term:https://www.wikidata.org/wiki/Property/facet of does not look like a valid URI, trying to serialize this will break.\n",
            "WARNING:rdflib.term:https://www.wikidata.org/wiki/Property/part of does not look like a valid URI, trying to serialize this will break.\n",
            "WARNING:rdflib.term:https://www.wikidata.org/wiki/Property/instance of does not look like a valid URI, trying to serialize this will break.\n",
            "WARNING:rdflib.term:https://www.wikidata.org/wiki/Property/facet of does not look like a valid URI, trying to serialize this will break.\n",
            "WARNING:rdflib.term:https://www.wikidata.org/wiki/Property/facet of does not look like a valid URI, trying to serialize this will break.\n",
            "WARNING:rdflib.term:https://www.wikidata.org/wiki/Property/facet of does not look like a valid URI, trying to serialize this will break.\n",
            "WARNING:rdflib.term:https://www.wikidata.org/wiki/Property/subclass of does not look like a valid URI, trying to serialize this will break.\n",
            "WARNING:rdflib.term:https://www.wikidata.org/wiki/Property/facet of does not look like a valid URI, trying to serialize this will break.\n",
            "WARNING:rdflib.term:https://www.wikidata.org/wiki/Property/instance of does not look like a valid URI, trying to serialize this will break.\n",
            "WARNING:rdflib.term:https://www.wikidata.org/wiki/Property/subclass of does not look like a valid URI, trying to serialize this will break.\n",
            "WARNING:rdflib.term:https://www.wikidata.org/wiki/Property/subclass of does not look like a valid URI, trying to serialize this will break.\n",
            "WARNING:rdflib.term:https://www.wikidata.org/wiki/Property/subclass of does not look like a valid URI, trying to serialize this will break.\n",
            "WARNING:rdflib.term:https://www.wikidata.org/wiki/Property/has characteristic does not look like a valid URI, trying to serialize this will break.\n",
            "WARNING:rdflib.term:https://www.wikidata.org/wiki/Property/facet of does not look like a valid URI, trying to serialize this will break.\n",
            "WARNING:rdflib.term:https://www.wikidata.org/wiki/Property/has part(s) does not look like a valid URI, trying to serialize this will break.\n",
            "WARNING:rdflib.term:https://www.wikidata.org/wiki/Property/subclass of does not look like a valid URI, trying to serialize this will break.\n",
            "WARNING:rdflib.term:https://www.wikidata.org/wiki/Property/has part(s) does not look like a valid URI, trying to serialize this will break.\n",
            "WARNING:rdflib.term:https://www.wikidata.org/wiki/Property/has part(s) does not look like a valid URI, trying to serialize this will break.\n",
            "WARNING:rdflib.term:https://www.wikidata.org/wiki/Property/subclass of does not look like a valid URI, trying to serialize this will break.\n",
            "WARNING:rdflib.term:https://www.wikidata.org/wiki/Property/has characteristic does not look like a valid URI, trying to serialize this will break.\n",
            "WARNING:rdflib.term:https://www.wikidata.org/wiki/Property/has part(s) does not look like a valid URI, trying to serialize this will break.\n",
            "WARNING:rdflib.term:https://www.wikidata.org/wiki/Property/has characteristic does not look like a valid URI, trying to serialize this will break.\n",
            "WARNING:rdflib.term:https://www.wikidata.org/wiki/Property/has part(s) does not look like a valid URI, trying to serialize this will break.\n",
            "WARNING:rdflib.term:https://www.wikidata.org/wiki/Property/has characteristic does not look like a valid URI, trying to serialize this will break.\n",
            "WARNING:rdflib.term:https://www.wikidata.org/wiki/Property/has part(s) does not look like a valid URI, trying to serialize this will break.\n",
            "WARNING:rdflib.term:https://www.wikidata.org/wiki/Property/part of does not look like a valid URI, trying to serialize this will break.\n",
            "WARNING:rdflib.term:https://www.wikidata.org/wiki/Property/part of does not look like a valid URI, trying to serialize this will break.\n",
            "WARNING:rdflib.term:https://www.wikidata.org/wiki/Property/has characteristic does not look like a valid URI, trying to serialize this will break.\n",
            "WARNING:rdflib.term:https://www.wikidata.org/wiki/Property/has part(s) does not look like a valid URI, trying to serialize this will break.\n",
            "WARNING:rdflib.term:https://www.wikidata.org/wiki/Property/instance of does not look like a valid URI, trying to serialize this will break.\n",
            "WARNING:rdflib.term:https://www.wikidata.org/wiki/Property/part of does not look like a valid URI, trying to serialize this will break.\n",
            "WARNING:rdflib.term:https://www.wikidata.org/wiki/Property/has characteristic does not look like a valid URI, trying to serialize this will break.\n",
            "WARNING:rdflib.term:https://www.wikidata.org/wiki/Property/has part(s) does not look like a valid URI, trying to serialize this will break.\n",
            "WARNING:rdflib.term:https://www.wikidata.org/wiki/Property/has characteristic does not look like a valid URI, trying to serialize this will break.\n",
            "WARNING:rdflib.term:https://www.wikidata.org/wiki/Property/has part(s) does not look like a valid URI, trying to serialize this will break.\n",
            "WARNING:rdflib.term:https://www.wikidata.org/wiki/Property/subclass of does not look like a valid URI, trying to serialize this will break.\n",
            "WARNING:rdflib.term:https://www.wikidata.org/wiki/Property/subclass of does not look like a valid URI, trying to serialize this will break.\n",
            "WARNING:rdflib.term:https://www.wikidata.org/wiki/Property/instance of does not look like a valid URI, trying to serialize this will break.\n",
            "WARNING:rdflib.term:https://www.wikidata.org/wiki/Property/subclass of does not look like a valid URI, trying to serialize this will break.\n",
            "WARNING:rdflib.term:https://www.wikidata.org/wiki/Property/part of does not look like a valid URI, trying to serialize this will break.\n",
            "WARNING:rdflib.term:https://www.wikidata.org/wiki/Property/has part(s) does not look like a valid URI, trying to serialize this will break.\n",
            "WARNING:rdflib.term:https://www.wikidata.org/wiki/Property/has part(s) does not look like a valid URI, trying to serialize this will break.\n",
            "WARNING:rdflib.term:https://www.wikidata.org/wiki/Property/instance of does not look like a valid URI, trying to serialize this will break.\n",
            "WARNING:rdflib.term:https://www.wikidata.org/wiki/Property/facet of does not look like a valid URI, trying to serialize this will break.\n",
            "WARNING:rdflib.term:https://www.wikidata.org/wiki/Property/instance of does not look like a valid URI, trying to serialize this will break.\n",
            "WARNING:rdflib.term:https://www.wikidata.org/wiki/Property/instance of does not look like a valid URI, trying to serialize this will break.\n",
            "WARNING:rdflib.term:https://www.wikidata.org/wiki/Property/subclass of does not look like a valid URI, trying to serialize this will break.\n",
            "WARNING:rdflib.term:https://www.wikidata.org/wiki/Property/instance of does not look like a valid URI, trying to serialize this will break.\n",
            "WARNING:rdflib.term:https://www.wikidata.org/wiki/Property/subclass of does not look like a valid URI, trying to serialize this will break.\n",
            "WARNING:rdflib.term:https://www.wikidata.org/wiki/Property/instance of does not look like a valid URI, trying to serialize this will break.\n",
            "WARNING:rdflib.term:https://www.wikidata.org/wiki/Property/subclass of does not look like a valid URI, trying to serialize this will break.\n",
            "WARNING:rdflib.term:https://www.wikidata.org/wiki/Property/subclass of does not look like a valid URI, trying to serialize this will break.\n",
            "WARNING:rdflib.term:https://www.wikidata.org/wiki/Property/instance of does not look like a valid URI, trying to serialize this will break.\n",
            "WARNING:rdflib.term:https://www.wikidata.org/wiki/Property/subclass of does not look like a valid URI, trying to serialize this will break.\n",
            "WARNING:rdflib.term:https://www.wikidata.org/wiki/Property/subclass of does not look like a valid URI, trying to serialize this will break.\n",
            "WARNING:rdflib.term:https://www.wikidata.org/wiki/Property/instance of does not look like a valid URI, trying to serialize this will break.\n",
            "WARNING:rdflib.term:https://www.wikidata.org/wiki/Property/subclass of does not look like a valid URI, trying to serialize this will break.\n",
            "WARNING:rdflib.term:https://www.wikidata.org/wiki/Property/subclass of does not look like a valid URI, trying to serialize this will break.\n",
            "WARNING:rdflib.term:https://www.wikidata.org/wiki/Property/subclass of does not look like a valid URI, trying to serialize this will break.\n",
            "WARNING:rdflib.term:https://www.wikidata.org/wiki/Property/has part(s) does not look like a valid URI, trying to serialize this will break.\n",
            "WARNING:rdflib.term:https://www.wikidata.org/wiki/Property/subclass of does not look like a valid URI, trying to serialize this will break.\n",
            "WARNING:rdflib.term:https://www.wikidata.org/wiki/Property/instance of does not look like a valid URI, trying to serialize this will break.\n",
            "WARNING:rdflib.term:https://www.wikidata.org/wiki/Property/has part(s) does not look like a valid URI, trying to serialize this will break.\n",
            "WARNING:rdflib.term:https://www.wikidata.org/wiki/Property/has part(s) does not look like a valid URI, trying to serialize this will break.\n",
            "WARNING:rdflib.term:https://www.wikidata.org/wiki/Property/has part(s) does not look like a valid URI, trying to serialize this will break.\n",
            "WARNING:rdflib.term:https://www.wikidata.org/wiki/Property/part of does not look like a valid URI, trying to serialize this will break.\n",
            "WARNING:rdflib.term:https://www.wikidata.org/wiki/Property/instance of does not look like a valid URI, trying to serialize this will break.\n",
            "WARNING:rdflib.term:https://www.wikidata.org/wiki/Property/instance of does not look like a valid URI, trying to serialize this will break.\n",
            "WARNING:rdflib.term:https://www.wikidata.org/wiki/Property/subclass of does not look like a valid URI, trying to serialize this will break.\n",
            "WARNING:rdflib.term:https://www.wikidata.org/wiki/Property/subclass of does not look like a valid URI, trying to serialize this will break.\n",
            "WARNING:rdflib.term:https://www.wikidata.org/wiki/Property/subclass of does not look like a valid URI, trying to serialize this will break.\n",
            "WARNING:rdflib.term:https://www.wikidata.org/wiki/Property/subclass of does not look like a valid URI, trying to serialize this will break.\n",
            "WARNING:rdflib.term:https://www.wikidata.org/wiki/Property/facet of does not look like a valid URI, trying to serialize this will break.\n",
            "WARNING:rdflib.term:https://www.wikidata.org/wiki/Property/subclass of does not look like a valid URI, trying to serialize this will break.\n",
            "WARNING:rdflib.term:https://www.wikidata.org/wiki/Property/instance of does not look like a valid URI, trying to serialize this will break.\n",
            "WARNING:rdflib.term:https://www.wikidata.org/wiki/Property/instance of does not look like a valid URI, trying to serialize this will break.\n",
            "WARNING:rdflib.term:https://www.wikidata.org/wiki/Property/instance of does not look like a valid URI, trying to serialize this will break.\n",
            "WARNING:rdflib.term:https://www.wikidata.org/wiki/Property/part of does not look like a valid URI, trying to serialize this will break.\n",
            "WARNING:rdflib.term:https://www.wikidata.org/wiki/Property/subclass of does not look like a valid URI, trying to serialize this will break.\n",
            "WARNING:rdflib.term:https://www.wikidata.org/wiki/Property/subclass of does not look like a valid URI, trying to serialize this will break.\n",
            "WARNING:rdflib.term:https://www.wikidata.org/wiki/Property/instance of does not look like a valid URI, trying to serialize this will break.\n",
            "WARNING:rdflib.term:https://www.wikidata.org/wiki/Property/facet of does not look like a valid URI, trying to serialize this will break.\n",
            "WARNING:rdflib.term:https://www.wikidata.org/wiki/Property/has use does not look like a valid URI, trying to serialize this will break.\n",
            "WARNING:rdflib.term:https://www.wikidata.org/wiki/Property/subclass of does not look like a valid URI, trying to serialize this will break.\n",
            "WARNING:rdflib.term:https://www.wikidata.org/wiki/Property/instance of does not look like a valid URI, trying to serialize this will break.\n",
            "WARNING:rdflib.term:https://www.wikidata.org/wiki/Property/facet of does not look like a valid URI, trying to serialize this will break.\n",
            "WARNING:rdflib.term:https://www.wikidata.org/wiki/Property/facet of does not look like a valid URI, trying to serialize this will break.\n",
            "WARNING:rdflib.term:https://www.wikidata.org/wiki/Property/part of does not look like a valid URI, trying to serialize this will break.\n",
            "WARNING:rdflib.term:https://www.wikidata.org/wiki/Property/subclass of does not look like a valid URI, trying to serialize this will break.\n",
            "WARNING:rdflib.term:https://www.wikidata.org/wiki/Property/part of does not look like a valid URI, trying to serialize this will break.\n",
            "WARNING:rdflib.term:https://www.wikidata.org/wiki/Property/subclass of does not look like a valid URI, trying to serialize this will break.\n",
            "WARNING:rdflib.term:https://www.wikidata.org/wiki/Property/instance of does not look like a valid URI, trying to serialize this will break.\n",
            "WARNING:rdflib.term:https://www.wikidata.org/wiki/Property/subclass of does not look like a valid URI, trying to serialize this will break.\n",
            "WARNING:rdflib.term:https://www.wikidata.org/wiki/Property/subclass of does not look like a valid URI, trying to serialize this will break.\n",
            "WARNING:rdflib.term:https://www.wikidata.org/wiki/Property/instance of does not look like a valid URI, trying to serialize this will break.\n",
            "WARNING:rdflib.term:https://www.wikidata.org/wiki/Property/instance of does not look like a valid URI, trying to serialize this will break.\n",
            "WARNING:rdflib.term:https://www.wikidata.org/wiki/Property/subclass of does not look like a valid URI, trying to serialize this will break.\n",
            "WARNING:rdflib.term:https://www.wikidata.org/wiki/Property/part of does not look like a valid URI, trying to serialize this will break.\n",
            "WARNING:rdflib.term:https://www.wikidata.org/wiki/Property/subclass of does not look like a valid URI, trying to serialize this will break.\n",
            "WARNING:rdflib.term:https://www.wikidata.org/wiki/Property/subclass of does not look like a valid URI, trying to serialize this will break.\n",
            "WARNING:rdflib.term:https://www.wikidata.org/wiki/Property/subclass of does not look like a valid URI, trying to serialize this will break.\n",
            "WARNING:rdflib.term:https://www.wikidata.org/wiki/Property/has part(s) does not look like a valid URI, trying to serialize this will break.\n",
            "WARNING:rdflib.term:https://www.wikidata.org/wiki/Property/has characteristic does not look like a valid URI, trying to serialize this will break.\n",
            "WARNING:rdflib.term:https://www.wikidata.org/wiki/Property/subclass of does not look like a valid URI, trying to serialize this will break.\n",
            "WARNING:rdflib.term:https://www.wikidata.org/wiki/Property/instance of does not look like a valid URI, trying to serialize this will break.\n",
            "WARNING:rdflib.term:https://www.wikidata.org/wiki/Property/subclass of does not look like a valid URI, trying to serialize this will break.\n",
            "WARNING:rdflib.term:https://www.wikidata.org/wiki/Property/has part(s) does not look like a valid URI, trying to serialize this will break.\n",
            "WARNING:rdflib.term:https://www.wikidata.org/wiki/Property/instance of does not look like a valid URI, trying to serialize this will break.\n",
            "WARNING:rdflib.term:https://www.wikidata.org/wiki/Property/subclass of does not look like a valid URI, trying to serialize this will break.\n",
            "WARNING:rdflib.term:https://www.wikidata.org/wiki/Property/has use does not look like a valid URI, trying to serialize this will break.\n",
            "WARNING:rdflib.term:https://www.wikidata.org/wiki/Property/subclass of does not look like a valid URI, trying to serialize this will break.\n",
            "WARNING:rdflib.term:https://www.wikidata.org/wiki/Property/part of does not look like a valid URI, trying to serialize this will break.\n",
            "WARNING:rdflib.term:https://www.wikidata.org/wiki/Property/subclass of does not look like a valid URI, trying to serialize this will break.\n",
            "WARNING:rdflib.term:https://www.wikidata.org/wiki/Property/instance of does not look like a valid URI, trying to serialize this will break.\n",
            "WARNING:rdflib.term:https://www.wikidata.org/wiki/Property/subclass of does not look like a valid URI, trying to serialize this will break.\n",
            "WARNING:rdflib.term:https://www.wikidata.org/wiki/Property/part of does not look like a valid URI, trying to serialize this will break.\n",
            "WARNING:rdflib.term:https://www.wikidata.org/wiki/Property/subclass of does not look like a valid URI, trying to serialize this will break.\n",
            "WARNING:rdflib.term:https://www.wikidata.org/wiki/Property/part of does not look like a valid URI, trying to serialize this will break.\n",
            "WARNING:rdflib.term:https://www.wikidata.org/wiki/Property/subclass of does not look like a valid URI, trying to serialize this will break.\n",
            "WARNING:rdflib.term:https://www.wikidata.org/wiki/Property/has part(s) does not look like a valid URI, trying to serialize this will break.\n",
            "WARNING:rdflib.term:https://www.wikidata.org/wiki/Property/subclass of does not look like a valid URI, trying to serialize this will break.\n",
            "WARNING:rdflib.term:https://www.wikidata.org/wiki/Property/has part(s) does not look like a valid URI, trying to serialize this will break.\n",
            "WARNING:rdflib.term:https://www.wikidata.org/wiki/Property/has part(s) does not look like a valid URI, trying to serialize this will break.\n",
            "WARNING:rdflib.term:https://www.wikidata.org/wiki/Property/instance of does not look like a valid URI, trying to serialize this will break.\n",
            "WARNING:rdflib.term:https://www.wikidata.org/wiki/Property/subclass of does not look like a valid URI, trying to serialize this will break.\n",
            "WARNING:rdflib.term:https://www.wikidata.org/wiki/Property/part of does not look like a valid URI, trying to serialize this will break.\n",
            "WARNING:rdflib.term:https://www.wikidata.org/wiki/Property/has part(s) does not look like a valid URI, trying to serialize this will break.\n",
            "WARNING:rdflib.term:https://www.wikidata.org/wiki/Property/has part(s) does not look like a valid URI, trying to serialize this will break.\n",
            "WARNING:rdflib.term:https://www.wikidata.org/wiki/Property/subclass of does not look like a valid URI, trying to serialize this will break.\n",
            "WARNING:rdflib.term:https://www.wikidata.org/wiki/Property/subclass of does not look like a valid URI, trying to serialize this will break.\n",
            "WARNING:rdflib.term:https://www.wikidata.org/wiki/Property/subclass of does not look like a valid URI, trying to serialize this will break.\n",
            "WARNING:rdflib.term:https://www.wikidata.org/wiki/Property/subclass of does not look like a valid URI, trying to serialize this will break.\n",
            "WARNING:rdflib.term:https://www.wikidata.org/wiki/Property/part of does not look like a valid URI, trying to serialize this will break.\n",
            "WARNING:rdflib.term:https://www.wikidata.org/wiki/Property/instance of does not look like a valid URI, trying to serialize this will break.\n",
            "WARNING:rdflib.term:https://www.wikidata.org/wiki/Property/subclass of does not look like a valid URI, trying to serialize this will break.\n",
            "WARNING:rdflib.term:https://www.wikidata.org/wiki/Property/has characteristic does not look like a valid URI, trying to serialize this will break.\n",
            "WARNING:rdflib.term:https://www.wikidata.org/wiki/Property/has characteristic does not look like a valid URI, trying to serialize this will break.\n",
            "WARNING:rdflib.term:https://www.wikidata.org/wiki/Property/has characteristic does not look like a valid URI, trying to serialize this will break.\n",
            "WARNING:rdflib.term:https://www.wikidata.org/wiki/Property/has characteristic does not look like a valid URI, trying to serialize this will break.\n",
            "WARNING:rdflib.term:https://www.wikidata.org/wiki/Property/instance of does not look like a valid URI, trying to serialize this will break.\n",
            "WARNING:rdflib.term:https://www.wikidata.org/wiki/Property/subclass of does not look like a valid URI, trying to serialize this will break.\n",
            "WARNING:rdflib.term:https://www.wikidata.org/wiki/Property/instance of does not look like a valid URI, trying to serialize this will break.\n",
            "WARNING:rdflib.term:https://www.wikidata.org/wiki/Property/subclass of does not look like a valid URI, trying to serialize this will break.\n",
            "WARNING:rdflib.term:https://www.wikidata.org/wiki/Property/instance of does not look like a valid URI, trying to serialize this will break.\n",
            "WARNING:rdflib.term:https://www.wikidata.org/wiki/Property/has use does not look like a valid URI, trying to serialize this will break.\n",
            "WARNING:rdflib.term:https://www.wikidata.org/wiki/Property/has use does not look like a valid URI, trying to serialize this will break.\n",
            "WARNING:rdflib.term:https://www.wikidata.org/wiki/Property/has use does not look like a valid URI, trying to serialize this will break.\n",
            "WARNING:rdflib.term:https://www.wikidata.org/wiki/Property/subclass of does not look like a valid URI, trying to serialize this will break.\n",
            "WARNING:rdflib.term:https://www.wikidata.org/wiki/Property/subclass of does not look like a valid URI, trying to serialize this will break.\n",
            "WARNING:rdflib.term:https://www.wikidata.org/wiki/Property/subclass of does not look like a valid URI, trying to serialize this will break.\n",
            "WARNING:rdflib.term:https://www.wikidata.org/wiki/Property/subclass of does not look like a valid URI, trying to serialize this will break.\n",
            "WARNING:rdflib.term:https://www.wikidata.org/wiki/Property/subclass of does not look like a valid URI, trying to serialize this will break.\n",
            "WARNING:rdflib.term:https://www.wikidata.org/wiki/Property/subclass of does not look like a valid URI, trying to serialize this will break.\n",
            "WARNING:rdflib.term:https://www.wikidata.org/wiki/Property/subclass of does not look like a valid URI, trying to serialize this will break.\n",
            "WARNING:rdflib.term:https://www.wikidata.org/wiki/Property/subclass of does not look like a valid URI, trying to serialize this will break.\n",
            "WARNING:rdflib.term:https://www.wikidata.org/wiki/Property/subclass of does not look like a valid URI, trying to serialize this will break.\n",
            "WARNING:rdflib.term:https://www.wikidata.org/wiki/Property/subclass of does not look like a valid URI, trying to serialize this will break.\n",
            "WARNING:rdflib.term:https://www.wikidata.org/wiki/Property/subclass of does not look like a valid URI, trying to serialize this will break.\n",
            "WARNING:rdflib.term:https://www.wikidata.org/wiki/Property/subclass of does not look like a valid URI, trying to serialize this will break.\n",
            "WARNING:rdflib.term:https://www.wikidata.org/wiki/Property/instance of does not look like a valid URI, trying to serialize this will break.\n",
            "WARNING:rdflib.term:https://www.wikidata.org/wiki/Property/subclass of does not look like a valid URI, trying to serialize this will break.\n",
            "WARNING:rdflib.term:https://www.wikidata.org/wiki/Property/subclass of does not look like a valid URI, trying to serialize this will break.\n",
            "WARNING:rdflib.term:https://www.wikidata.org/wiki/Property/part of does not look like a valid URI, trying to serialize this will break.\n",
            "WARNING:rdflib.term:https://www.wikidata.org/wiki/Property/instance of does not look like a valid URI, trying to serialize this will break.\n",
            "WARNING:rdflib.term:https://www.wikidata.org/wiki/Property/subclass of does not look like a valid URI, trying to serialize this will break.\n",
            "WARNING:rdflib.term:https://www.wikidata.org/wiki/Property/instance of does not look like a valid URI, trying to serialize this will break.\n",
            "WARNING:rdflib.term:https://www.wikidata.org/wiki/Property/part of does not look like a valid URI, trying to serialize this will break.\n",
            "WARNING:rdflib.term:https://www.wikidata.org/wiki/Property/has part(s) does not look like a valid URI, trying to serialize this will break.\n",
            "WARNING:rdflib.term:https://www.wikidata.org/wiki/Property/has use does not look like a valid URI, trying to serialize this will break.\n",
            "WARNING:rdflib.term:https://www.wikidata.org/wiki/Property/part of does not look like a valid URI, trying to serialize this will break.\n",
            "WARNING:rdflib.term:https://www.wikidata.org/wiki/Property/instance of does not look like a valid URI, trying to serialize this will break.\n",
            "WARNING:rdflib.term:https://www.wikidata.org/wiki/Property/part of does not look like a valid URI, trying to serialize this will break.\n",
            "WARNING:rdflib.term:https://www.wikidata.org/wiki/Property/subclass of does not look like a valid URI, trying to serialize this will break.\n",
            "WARNING:rdflib.term:https://www.wikidata.org/wiki/Property/subclass of does not look like a valid URI, trying to serialize this will break.\n",
            "WARNING:rdflib.term:https://www.wikidata.org/wiki/Property/subclass of does not look like a valid URI, trying to serialize this will break.\n",
            "WARNING:rdflib.term:https://www.wikidata.org/wiki/Property/subclass of does not look like a valid URI, trying to serialize this will break.\n",
            "WARNING:rdflib.term:https://www.wikidata.org/wiki/Property/part of does not look like a valid URI, trying to serialize this will break.\n",
            "WARNING:rdflib.term:https://www.wikidata.org/wiki/Property/subclass of does not look like a valid URI, trying to serialize this will break.\n",
            "WARNING:rdflib.term:https://www.wikidata.org/wiki/Property/instance of does not look like a valid URI, trying to serialize this will break.\n",
            "WARNING:rdflib.term:https://www.wikidata.org/wiki/Property/subclass of does not look like a valid URI, trying to serialize this will break.\n",
            "WARNING:rdflib.term:https://www.wikidata.org/wiki/Property/instance of does not look like a valid URI, trying to serialize this will break.\n",
            "WARNING:rdflib.term:https://www.wikidata.org/wiki/Property/subclass of does not look like a valid URI, trying to serialize this will break.\n",
            "WARNING:rdflib.term:https://www.wikidata.org/wiki/Property/subclass of does not look like a valid URI, trying to serialize this will break.\n",
            "WARNING:rdflib.term:https://www.wikidata.org/wiki/Property/part of does not look like a valid URI, trying to serialize this will break.\n",
            "WARNING:rdflib.term:https://www.wikidata.org/wiki/Property/subclass of does not look like a valid URI, trying to serialize this will break.\n",
            "WARNING:rdflib.term:https://www.wikidata.org/wiki/Property/used by does not look like a valid URI, trying to serialize this will break.\n",
            "WARNING:rdflib.term:https://www.wikidata.org/wiki/Property/instance of does not look like a valid URI, trying to serialize this will break.\n",
            "WARNING:rdflib.term:https://www.wikidata.org/wiki/Property/subclass of does not look like a valid URI, trying to serialize this will break.\n",
            "WARNING:rdflib.term:https://www.wikidata.org/wiki/Property/subclass of does not look like a valid URI, trying to serialize this will break.\n",
            "WARNING:rdflib.term:https://www.wikidata.org/wiki/Property/has part(s) does not look like a valid URI, trying to serialize this will break.\n",
            "WARNING:rdflib.term:https://www.wikidata.org/wiki/Property/subclass of does not look like a valid URI, trying to serialize this will break.\n",
            "WARNING:rdflib.term:https://www.wikidata.org/wiki/Property/subclass of does not look like a valid URI, trying to serialize this will break.\n",
            "WARNING:rdflib.term:https://www.wikidata.org/wiki/Property/has part(s) does not look like a valid URI, trying to serialize this will break.\n",
            "WARNING:rdflib.term:https://www.wikidata.org/wiki/Property/subclass of does not look like a valid URI, trying to serialize this will break.\n",
            "WARNING:rdflib.term:https://www.wikidata.org/wiki/Property/has characteristic does not look like a valid URI, trying to serialize this will break.\n",
            "WARNING:rdflib.term:https://www.wikidata.org/wiki/Property/has part(s) does not look like a valid URI, trying to serialize this will break.\n",
            "WARNING:rdflib.term:https://www.wikidata.org/wiki/Property/has part(s) does not look like a valid URI, trying to serialize this will break.\n",
            "WARNING:rdflib.term:https://www.wikidata.org/wiki/Property/instance of does not look like a valid URI, trying to serialize this will break.\n",
            "WARNING:rdflib.term:https://www.wikidata.org/wiki/Property/subclass of does not look like a valid URI, trying to serialize this will break.\n",
            "WARNING:rdflib.term:https://www.wikidata.org/wiki/Property/part of does not look like a valid URI, trying to serialize this will break.\n",
            "WARNING:rdflib.term:https://www.wikidata.org/wiki/Property/used by does not look like a valid URI, trying to serialize this will break.\n",
            "WARNING:rdflib.term:https://www.wikidata.org/wiki/Property/subclass of does not look like a valid URI, trying to serialize this will break.\n",
            "WARNING:rdflib.term:https://www.wikidata.org/wiki/Property/instance of does not look like a valid URI, trying to serialize this will break.\n",
            "WARNING:rdflib.term:https://www.wikidata.org/wiki/Property/facet of does not look like a valid URI, trying to serialize this will break.\n",
            "WARNING:rdflib.term:https://www.wikidata.org/wiki/Property/instance of does not look like a valid URI, trying to serialize this will break.\n",
            "WARNING:rdflib.term:https://www.wikidata.org/wiki/Property/instance of does not look like a valid URI, trying to serialize this will break.\n",
            "WARNING:rdflib.term:https://www.wikidata.org/wiki/Property/subclass of does not look like a valid URI, trying to serialize this will break.\n",
            "WARNING:rdflib.term:https://www.wikidata.org/wiki/Property/has characteristic does not look like a valid URI, trying to serialize this will break.\n",
            "WARNING:rdflib.term:https://www.wikidata.org/wiki/Property/subclass of does not look like a valid URI, trying to serialize this will break.\n",
            "WARNING:rdflib.term:https://www.wikidata.org/wiki/Property/subclass of does not look like a valid URI, trying to serialize this will break.\n",
            "WARNING:rdflib.term:https://www.wikidata.org/wiki/Property/has characteristic does not look like a valid URI, trying to serialize this will break.\n",
            "WARNING:rdflib.term:https://www.wikidata.org/wiki/Property/instance of does not look like a valid URI, trying to serialize this will break.\n",
            "WARNING:rdflib.term:https://www.wikidata.org/wiki/Property/has characteristic does not look like a valid URI, trying to serialize this will break.\n",
            "WARNING:rdflib.term:https://www.wikidata.org/wiki/Property/instance of does not look like a valid URI, trying to serialize this will break.\n",
            "WARNING:rdflib.term:https://www.wikidata.org/wiki/Property/subclass of does not look like a valid URI, trying to serialize this will break.\n",
            "WARNING:rdflib.term:https://www.wikidata.org/wiki/Property/instance of does not look like a valid URI, trying to serialize this will break.\n",
            "WARNING:rdflib.term:https://www.wikidata.org/wiki/Property/instance of does not look like a valid URI, trying to serialize this will break.\n",
            "WARNING:rdflib.term:https://www.wikidata.org/wiki/Property/subclass of does not look like a valid URI, trying to serialize this will break.\n",
            "WARNING:rdflib.term:https://www.wikidata.org/wiki/Property/subclass of does not look like a valid URI, trying to serialize this will break.\n",
            "WARNING:rdflib.term:https://www.wikidata.org/wiki/Property/facet of does not look like a valid URI, trying to serialize this will break.\n",
            "WARNING:rdflib.term:https://www.wikidata.org/wiki/Property/subclass of does not look like a valid URI, trying to serialize this will break.\n",
            "WARNING:rdflib.term:https://www.wikidata.org/wiki/Property/facet of does not look like a valid URI, trying to serialize this will break.\n",
            "WARNING:rdflib.term:https://www.wikidata.org/wiki/Property/facet of does not look like a valid URI, trying to serialize this will break.\n",
            "WARNING:rdflib.term:https://www.wikidata.org/wiki/Property/subclass of does not look like a valid URI, trying to serialize this will break.\n",
            "WARNING:rdflib.term:https://www.wikidata.org/wiki/Property/instance of does not look like a valid URI, trying to serialize this will break.\n",
            "WARNING:rdflib.term:https://www.wikidata.org/wiki/Property/subclass of does not look like a valid URI, trying to serialize this will break.\n",
            "WARNING:rdflib.term:https://www.wikidata.org/wiki/Property/instance of does not look like a valid URI, trying to serialize this will break.\n",
            "WARNING:rdflib.term:https://www.wikidata.org/wiki/Property/subclass of does not look like a valid URI, trying to serialize this will break.\n",
            "WARNING:rdflib.term:https://www.wikidata.org/wiki/Property/subclass of does not look like a valid URI, trying to serialize this will break.\n",
            "WARNING:rdflib.term:https://www.wikidata.org/wiki/Property/instance of does not look like a valid URI, trying to serialize this will break.\n",
            "WARNING:rdflib.term:https://www.wikidata.org/wiki/Property/instance of does not look like a valid URI, trying to serialize this will break.\n",
            "WARNING:rdflib.term:https://www.wikidata.org/wiki/Property/instance of does not look like a valid URI, trying to serialize this will break.\n",
            "WARNING:rdflib.term:https://www.wikidata.org/wiki/Property/instance of does not look like a valid URI, trying to serialize this will break.\n",
            "WARNING:rdflib.term:https://www.wikidata.org/wiki/Property/instance of does not look like a valid URI, trying to serialize this will break.\n",
            "WARNING:rdflib.term:https://www.wikidata.org/wiki/Property/instance of does not look like a valid URI, trying to serialize this will break.\n",
            "WARNING:rdflib.term:https://www.wikidata.org/wiki/Property/instance of does not look like a valid URI, trying to serialize this will break.\n",
            "WARNING:rdflib.term:https://www.wikidata.org/wiki/Property/subclass of does not look like a valid URI, trying to serialize this will break.\n",
            "WARNING:rdflib.term:https://www.wikidata.org/wiki/Property/subclass of does not look like a valid URI, trying to serialize this will break.\n",
            "WARNING:rdflib.term:https://www.wikidata.org/wiki/Property/has part(s) does not look like a valid URI, trying to serialize this will break.\n",
            "WARNING:rdflib.term:https://www.wikidata.org/wiki/Property/subclass of does not look like a valid URI, trying to serialize this will break.\n",
            "WARNING:rdflib.term:https://www.wikidata.org/wiki/Property/part of does not look like a valid URI, trying to serialize this will break.\n",
            "WARNING:rdflib.term:https://www.wikidata.org/wiki/Property/has part(s) does not look like a valid URI, trying to serialize this will break.\n",
            "WARNING:rdflib.term:https://www.wikidata.org/wiki/Property/subclass of does not look like a valid URI, trying to serialize this will break.\n",
            "WARNING:rdflib.term:https://www.wikidata.org/wiki/Property/subclass of does not look like a valid URI, trying to serialize this will break.\n",
            "WARNING:rdflib.term:https://www.wikidata.org/wiki/Property/has part(s) does not look like a valid URI, trying to serialize this will break.\n",
            "WARNING:rdflib.term:https://www.wikidata.org/wiki/Property/main subject does not look like a valid URI, trying to serialize this will break.\n",
            "WARNING:rdflib.term:https://www.wikidata.org/wiki/Property/has part(s) does not look like a valid URI, trying to serialize this will break.\n",
            "WARNING:rdflib.term:https://www.wikidata.org/wiki/Property/main subject does not look like a valid URI, trying to serialize this will break.\n",
            "WARNING:rdflib.term:https://www.wikidata.org/wiki/Property/has part(s) does not look like a valid URI, trying to serialize this will break.\n",
            "WARNING:rdflib.term:https://www.wikidata.org/wiki/Property/instance of does not look like a valid URI, trying to serialize this will break.\n",
            "WARNING:rdflib.term:https://www.wikidata.org/wiki/Property/part of does not look like a valid URI, trying to serialize this will break.\n",
            "WARNING:rdflib.term:https://www.wikidata.org/wiki/Property/subclass of does not look like a valid URI, trying to serialize this will break.\n",
            "WARNING:rdflib.term:https://www.wikidata.org/wiki/Property/subclass of does not look like a valid URI, trying to serialize this will break.\n",
            "WARNING:rdflib.term:https://www.wikidata.org/wiki/Property/subclass of does not look like a valid URI, trying to serialize this will break.\n",
            "WARNING:rdflib.term:https://www.wikidata.org/wiki/Property/instance of does not look like a valid URI, trying to serialize this will break.\n",
            "WARNING:rdflib.term:https://www.wikidata.org/wiki/Property/subclass of does not look like a valid URI, trying to serialize this will break.\n",
            "WARNING:rdflib.term:https://www.wikidata.org/wiki/Property/subclass of does not look like a valid URI, trying to serialize this will break.\n",
            "WARNING:rdflib.term:https://www.wikidata.org/wiki/Property/instance of does not look like a valid URI, trying to serialize this will break.\n",
            "WARNING:rdflib.term:https://www.wikidata.org/wiki/Property/subclass of does not look like a valid URI, trying to serialize this will break.\n",
            "WARNING:rdflib.term:https://www.wikidata.org/wiki/Property/facet of does not look like a valid URI, trying to serialize this will break.\n",
            "WARNING:rdflib.term:https://www.wikidata.org/wiki/Property/subclass of does not look like a valid URI, trying to serialize this will break.\n",
            "WARNING:rdflib.term:https://www.wikidata.org/wiki/Property/facet of does not look like a valid URI, trying to serialize this will break.\n",
            "WARNING:rdflib.term:https://www.wikidata.org/wiki/Property/has use does not look like a valid URI, trying to serialize this will break.\n",
            "WARNING:rdflib.term:https://www.wikidata.org/wiki/Property/subclass of does not look like a valid URI, trying to serialize this will break.\n",
            "WARNING:rdflib.term:https://www.wikidata.org/wiki/Property/instance of does not look like a valid URI, trying to serialize this will break.\n",
            "WARNING:rdflib.term:https://www.wikidata.org/wiki/Property/subclass of does not look like a valid URI, trying to serialize this will break.\n",
            "WARNING:rdflib.term:https://www.wikidata.org/wiki/Property/subclass of does not look like a valid URI, trying to serialize this will break.\n",
            "WARNING:rdflib.term:https://www.wikidata.org/wiki/Property/instance of does not look like a valid URI, trying to serialize this will break.\n",
            "WARNING:rdflib.term:https://www.wikidata.org/wiki/Property/instance of does not look like a valid URI, trying to serialize this will break.\n",
            "WARNING:rdflib.term:https://www.wikidata.org/wiki/Property/instance of does not look like a valid URI, trying to serialize this will break.\n",
            "WARNING:rdflib.term:https://www.wikidata.org/wiki/Property/subclass of does not look like a valid URI, trying to serialize this will break.\n",
            "WARNING:rdflib.term:https://www.wikidata.org/wiki/Property/facet of does not look like a valid URI, trying to serialize this will break.\n",
            "WARNING:rdflib.term:https://www.wikidata.org/wiki/Property/instance of does not look like a valid URI, trying to serialize this will break.\n",
            "WARNING:rdflib.term:https://www.wikidata.org/wiki/Property/subclass of does not look like a valid URI, trying to serialize this will break.\n",
            "WARNING:rdflib.term:https://www.wikidata.org/wiki/Property/subclass of does not look like a valid URI, trying to serialize this will break.\n",
            "WARNING:rdflib.term:https://www.wikidata.org/wiki/Property/instance of does not look like a valid URI, trying to serialize this will break.\n",
            "WARNING:rdflib.term:https://www.wikidata.org/wiki/Property/subclass of does not look like a valid URI, trying to serialize this will break.\n",
            "WARNING:rdflib.term:https://www.wikidata.org/wiki/Property/subclass of does not look like a valid URI, trying to serialize this will break.\n",
            "WARNING:rdflib.term:https://www.wikidata.org/wiki/Property/subclass of does not look like a valid URI, trying to serialize this will break.\n",
            "WARNING:rdflib.term:https://www.wikidata.org/wiki/Property/instance of does not look like a valid URI, trying to serialize this will break.\n",
            "WARNING:rdflib.term:https://www.wikidata.org/wiki/Property/subclass of does not look like a valid URI, trying to serialize this will break.\n",
            "WARNING:rdflib.term:https://www.wikidata.org/wiki/Property/part of does not look like a valid URI, trying to serialize this will break.\n",
            "WARNING:rdflib.term:https://www.wikidata.org/wiki/Property/has characteristic does not look like a valid URI, trying to serialize this will break.\n",
            "WARNING:rdflib.term:https://www.wikidata.org/wiki/Property/part of does not look like a valid URI, trying to serialize this will break.\n",
            "WARNING:rdflib.term:https://www.wikidata.org/wiki/Property/subclass of does not look like a valid URI, trying to serialize this will break.\n",
            "WARNING:rdflib.term:https://www.wikidata.org/wiki/Property/subclass of does not look like a valid URI, trying to serialize this will break.\n",
            "WARNING:rdflib.term:https://www.wikidata.org/wiki/Property/facet of does not look like a valid URI, trying to serialize this will break.\n",
            "WARNING:rdflib.term:https://www.wikidata.org/wiki/Property/has characteristic does not look like a valid URI, trying to serialize this will break.\n",
            "WARNING:rdflib.term:https://www.wikidata.org/wiki/Property/subclass of does not look like a valid URI, trying to serialize this will break.\n",
            "WARNING:rdflib.term:https://www.wikidata.org/wiki/Property/instance of does not look like a valid URI, trying to serialize this will break.\n",
            "WARNING:rdflib.term:https://www.wikidata.org/wiki/Property/facet of does not look like a valid URI, trying to serialize this will break.\n",
            "WARNING:rdflib.term:https://www.wikidata.org/wiki/Property/facet of does not look like a valid URI, trying to serialize this will break.\n",
            "WARNING:rdflib.term:https://www.wikidata.org/wiki/Property/facet of does not look like a valid URI, trying to serialize this will break.\n",
            "WARNING:rdflib.term:https://www.wikidata.org/wiki/Property/facet of does not look like a valid URI, trying to serialize this will break.\n",
            "WARNING:rdflib.term:https://www.wikidata.org/wiki/Property/facet of does not look like a valid URI, trying to serialize this will break.\n",
            "WARNING:rdflib.term:https://www.wikidata.org/wiki/Property/subclass of does not look like a valid URI, trying to serialize this will break.\n",
            "WARNING:rdflib.term:https://www.wikidata.org/wiki/Property/subclass of does not look like a valid URI, trying to serialize this will break.\n",
            "WARNING:rdflib.term:https://www.wikidata.org/wiki/Property/facet of does not look like a valid URI, trying to serialize this will break.\n",
            "WARNING:rdflib.term:https://www.wikidata.org/wiki/Property/subclass of does not look like a valid URI, trying to serialize this will break.\n",
            "WARNING:rdflib.term:https://www.wikidata.org/wiki/Property/subclass of does not look like a valid URI, trying to serialize this will break.\n",
            "WARNING:rdflib.term:https://www.wikidata.org/wiki/Property/subclass of does not look like a valid URI, trying to serialize this will break.\n",
            "WARNING:rdflib.term:https://www.wikidata.org/wiki/Property/subclass of does not look like a valid URI, trying to serialize this will break.\n",
            "WARNING:rdflib.term:https://www.wikidata.org/wiki/Property/facet of does not look like a valid URI, trying to serialize this will break.\n",
            "WARNING:rdflib.term:https://www.wikidata.org/wiki/Property/instance of does not look like a valid URI, trying to serialize this will break.\n",
            "WARNING:rdflib.term:https://www.wikidata.org/wiki/Property/instance of does not look like a valid URI, trying to serialize this will break.\n",
            "WARNING:rdflib.term:https://www.wikidata.org/wiki/Property/subclass of does not look like a valid URI, trying to serialize this will break.\n",
            "WARNING:rdflib.term:https://www.wikidata.org/wiki/Property/subclass of does not look like a valid URI, trying to serialize this will break.\n",
            "WARNING:rdflib.term:https://www.wikidata.org/wiki/Property/subclass of does not look like a valid URI, trying to serialize this will break.\n",
            "WARNING:rdflib.term:https://www.wikidata.org/wiki/Property/subclass of does not look like a valid URI, trying to serialize this will break.\n",
            "WARNING:rdflib.term:https://www.wikidata.org/wiki/Property/facet of does not look like a valid URI, trying to serialize this will break.\n",
            "WARNING:rdflib.term:https://www.wikidata.org/wiki/Property/subclass of does not look like a valid URI, trying to serialize this will break.\n",
            "WARNING:rdflib.term:https://www.wikidata.org/wiki/Property/part of does not look like a valid URI, trying to serialize this will break.\n",
            "WARNING:rdflib.term:https://www.wikidata.org/wiki/Property/used by does not look like a valid URI, trying to serialize this will break.\n",
            "WARNING:rdflib.term:https://www.wikidata.org/wiki/Property/subclass of does not look like a valid URI, trying to serialize this will break.\n",
            "WARNING:rdflib.term:https://www.wikidata.org/wiki/Property/part of does not look like a valid URI, trying to serialize this will break.\n",
            "WARNING:rdflib.term:https://www.wikidata.org/wiki/Property/subclass of does not look like a valid URI, trying to serialize this will break.\n",
            "WARNING:rdflib.term:https://www.wikidata.org/wiki/Property/subclass of does not look like a valid URI, trying to serialize this will break.\n",
            "WARNING:rdflib.term:https://www.wikidata.org/wiki/Property/subclass of does not look like a valid URI, trying to serialize this will break.\n",
            "WARNING:rdflib.term:https://www.wikidata.org/wiki/Property/subclass of does not look like a valid URI, trying to serialize this will break.\n",
            "WARNING:rdflib.term:https://www.wikidata.org/wiki/Property/subclass of does not look like a valid URI, trying to serialize this will break.\n",
            "WARNING:rdflib.term:https://www.wikidata.org/wiki/Property/instance of does not look like a valid URI, trying to serialize this will break.\n",
            "WARNING:rdflib.term:https://www.wikidata.org/wiki/Property/instance of does not look like a valid URI, trying to serialize this will break.\n",
            "WARNING:rdflib.term:https://www.wikidata.org/wiki/Property/has use does not look like a valid URI, trying to serialize this will break.\n",
            "WARNING:rdflib.term:https://www.wikidata.org/wiki/Property/instance of does not look like a valid URI, trying to serialize this will break.\n",
            "WARNING:rdflib.term:https://www.wikidata.org/wiki/Property/has use does not look like a valid URI, trying to serialize this will break.\n",
            "WARNING:rdflib.term:https://www.wikidata.org/wiki/Property/has characteristic does not look like a valid URI, trying to serialize this will break.\n",
            "WARNING:rdflib.term:https://www.wikidata.org/wiki/Property/instance of does not look like a valid URI, trying to serialize this will break.\n",
            "WARNING:rdflib.term:https://www.wikidata.org/wiki/Property/instance of does not look like a valid URI, trying to serialize this will break.\n",
            "WARNING:rdflib.term:https://www.wikidata.org/wiki/Property/instance of does not look like a valid URI, trying to serialize this will break.\n",
            "WARNING:rdflib.term:https://www.wikidata.org/wiki/Property/instance of does not look like a valid URI, trying to serialize this will break.\n",
            "WARNING:rdflib.term:https://www.wikidata.org/wiki/Property/instance of does not look like a valid URI, trying to serialize this will break.\n",
            "WARNING:rdflib.term:https://www.wikidata.org/wiki/Property/subclass of does not look like a valid URI, trying to serialize this will break.\n",
            "WARNING:rdflib.term:https://www.wikidata.org/wiki/Property/subclass of does not look like a valid URI, trying to serialize this will break.\n",
            "WARNING:rdflib.term:https://www.wikidata.org/wiki/Property/subclass of does not look like a valid URI, trying to serialize this will break.\n",
            "WARNING:rdflib.term:https://www.wikidata.org/wiki/Property/instance of does not look like a valid URI, trying to serialize this will break.\n",
            "WARNING:rdflib.term:https://www.wikidata.org/wiki/Property/subclass of does not look like a valid URI, trying to serialize this will break.\n",
            "WARNING:rdflib.term:https://www.wikidata.org/wiki/Property/subclass of does not look like a valid URI, trying to serialize this will break.\n",
            "WARNING:rdflib.term:https://www.wikidata.org/wiki/Property/subclass of does not look like a valid URI, trying to serialize this will break.\n",
            "WARNING:rdflib.term:https://www.wikidata.org/wiki/Property/part of does not look like a valid URI, trying to serialize this will break.\n",
            "WARNING:rdflib.term:https://www.wikidata.org/wiki/Property/has part(s) of the class does not look like a valid URI, trying to serialize this will break.\n",
            "WARNING:rdflib.term:https://www.wikidata.org/wiki/Property/subclass of does not look like a valid URI, trying to serialize this will break.\n",
            "WARNING:rdflib.term:https://www.wikidata.org/wiki/Property/has characteristic does not look like a valid URI, trying to serialize this will break.\n",
            "WARNING:rdflib.term:https://www.wikidata.org/wiki/Property/instance of does not look like a valid URI, trying to serialize this will break.\n",
            "WARNING:rdflib.term:https://www.wikidata.org/wiki/Property/subclass of does not look like a valid URI, trying to serialize this will break.\n",
            "WARNING:rdflib.term:https://www.wikidata.org/wiki/Property/subclass of does not look like a valid URI, trying to serialize this will break.\n",
            "WARNING:rdflib.term:https://www.wikidata.org/wiki/Property/subclass of does not look like a valid URI, trying to serialize this will break.\n",
            "WARNING:rdflib.term:https://www.wikidata.org/wiki/Property/has part(s) does not look like a valid URI, trying to serialize this will break.\n",
            "WARNING:rdflib.term:https://www.wikidata.org/wiki/Property/has part(s) does not look like a valid URI, trying to serialize this will break.\n",
            "WARNING:rdflib.term:https://www.wikidata.org/wiki/Property/has part(s) does not look like a valid URI, trying to serialize this will break.\n",
            "WARNING:rdflib.term:https://www.wikidata.org/wiki/Property/has part(s) does not look like a valid URI, trying to serialize this will break.\n",
            "WARNING:rdflib.term:https://www.wikidata.org/wiki/Property/instance of does not look like a valid URI, trying to serialize this will break.\n",
            "WARNING:rdflib.term:https://www.wikidata.org/wiki/Property/instance of does not look like a valid URI, trying to serialize this will break.\n",
            "WARNING:rdflib.term:https://www.wikidata.org/wiki/Property/subclass of does not look like a valid URI, trying to serialize this will break.\n",
            "WARNING:rdflib.term:https://www.wikidata.org/wiki/Property/has characteristic does not look like a valid URI, trying to serialize this will break.\n",
            "WARNING:rdflib.term:https://www.wikidata.org/wiki/Property/has characteristic does not look like a valid URI, trying to serialize this will break.\n",
            "WARNING:rdflib.term:https://www.wikidata.org/wiki/Property/has characteristic does not look like a valid URI, trying to serialize this will break.\n",
            "WARNING:rdflib.term:https://www.wikidata.org/wiki/Property/subclass of does not look like a valid URI, trying to serialize this will break.\n",
            "WARNING:rdflib.term:https://www.wikidata.org/wiki/Property/subclass of does not look like a valid URI, trying to serialize this will break.\n",
            "WARNING:rdflib.term:https://www.wikidata.org/wiki/Property/has characteristic does not look like a valid URI, trying to serialize this will break.\n",
            "WARNING:rdflib.term:https://www.wikidata.org/wiki/Property/subclass of does not look like a valid URI, trying to serialize this will break.\n",
            "WARNING:rdflib.term:https://www.wikidata.org/wiki/Property/has characteristic does not look like a valid URI, trying to serialize this will break.\n",
            "WARNING:rdflib.term:https://www.wikidata.org/wiki/Property/subclass of does not look like a valid URI, trying to serialize this will break.\n",
            "WARNING:rdflib.term:https://www.wikidata.org/wiki/Property/has characteristic does not look like a valid URI, trying to serialize this will break.\n",
            "WARNING:rdflib.term:https://www.wikidata.org/wiki/Property/instance of does not look like a valid URI, trying to serialize this will break.\n",
            "WARNING:rdflib.term:https://www.wikidata.org/wiki/Property/subclass of does not look like a valid URI, trying to serialize this will break.\n",
            "WARNING:rdflib.term:https://www.wikidata.org/wiki/Property/subclass of does not look like a valid URI, trying to serialize this will break.\n",
            "WARNING:rdflib.term:https://www.wikidata.org/wiki/Property/instance of does not look like a valid URI, trying to serialize this will break.\n",
            "WARNING:rdflib.term:https://www.wikidata.org/wiki/Property/instance of does not look like a valid URI, trying to serialize this will break.\n",
            "WARNING:rdflib.term:https://www.wikidata.org/wiki/Property/subclass of does not look like a valid URI, trying to serialize this will break.\n",
            "WARNING:rdflib.term:https://www.wikidata.org/wiki/Property/facet of does not look like a valid URI, trying to serialize this will break.\n",
            "WARNING:rdflib.term:https://www.wikidata.org/wiki/Property/subclass of does not look like a valid URI, trying to serialize this will break.\n",
            "WARNING:rdflib.term:https://www.wikidata.org/wiki/Property/used by does not look like a valid URI, trying to serialize this will break.\n",
            "WARNING:rdflib.term:https://www.wikidata.org/wiki/Property/subclass of does not look like a valid URI, trying to serialize this will break.\n",
            "WARNING:rdflib.term:https://www.wikidata.org/wiki/Property/has part(s) does not look like a valid URI, trying to serialize this will break.\n",
            "WARNING:rdflib.term:https://www.wikidata.org/wiki/Property/part of does not look like a valid URI, trying to serialize this will break.\n",
            "WARNING:rdflib.term:https://www.wikidata.org/wiki/Property/subclass of does not look like a valid URI, trying to serialize this will break.\n",
            "WARNING:rdflib.term:https://www.wikidata.org/wiki/Property/part of does not look like a valid URI, trying to serialize this will break.\n",
            "WARNING:rdflib.term:https://www.wikidata.org/wiki/Property/has characteristic does not look like a valid URI, trying to serialize this will break.\n",
            "WARNING:rdflib.term:https://www.wikidata.org/wiki/Property/subclass of does not look like a valid URI, trying to serialize this will break.\n",
            "WARNING:rdflib.term:https://www.wikidata.org/wiki/Property/part of does not look like a valid URI, trying to serialize this will break.\n",
            "WARNING:rdflib.term:https://www.wikidata.org/wiki/Property/subclass of does not look like a valid URI, trying to serialize this will break.\n",
            "WARNING:rdflib.term:https://www.wikidata.org/wiki/Property/subclass of does not look like a valid URI, trying to serialize this will break.\n",
            "WARNING:rdflib.term:https://www.wikidata.org/wiki/Property/subclass of does not look like a valid URI, trying to serialize this will break.\n",
            "WARNING:rdflib.term:https://www.wikidata.org/wiki/Property/part of does not look like a valid URI, trying to serialize this will break.\n",
            "WARNING:rdflib.term:https://www.wikidata.org/wiki/Property/subclass of does not look like a valid URI, trying to serialize this will break.\n",
            "WARNING:rdflib.term:https://www.wikidata.org/wiki/Property/part of does not look like a valid URI, trying to serialize this will break.\n",
            "WARNING:rdflib.term:https://www.wikidata.org/wiki/Property/subclass of does not look like a valid URI, trying to serialize this will break.\n",
            "WARNING:rdflib.term:https://www.wikidata.org/wiki/Property/part of does not look like a valid URI, trying to serialize this will break.\n",
            "WARNING:rdflib.term:https://www.wikidata.org/wiki/Property/subclass of does not look like a valid URI, trying to serialize this will break.\n",
            "WARNING:rdflib.term:https://www.wikidata.org/wiki/Property/instance of does not look like a valid URI, trying to serialize this will break.\n",
            "WARNING:rdflib.term:https://www.wikidata.org/wiki/Property/subclass of does not look like a valid URI, trying to serialize this will break.\n",
            "WARNING:rdflib.term:https://www.wikidata.org/wiki/Property/subclass of does not look like a valid URI, trying to serialize this will break.\n",
            "WARNING:rdflib.term:https://www.wikidata.org/wiki/Property/subclass of does not look like a valid URI, trying to serialize this will break.\n",
            "WARNING:rdflib.term:https://www.wikidata.org/wiki/Property/subclass of does not look like a valid URI, trying to serialize this will break.\n",
            "WARNING:rdflib.term:https://www.wikidata.org/wiki/Property/part of does not look like a valid URI, trying to serialize this will break.\n",
            "WARNING:rdflib.term:https://www.wikidata.org/wiki/Property/part of does not look like a valid URI, trying to serialize this will break.\n",
            "WARNING:rdflib.term:https://www.wikidata.org/wiki/Property/part of does not look like a valid URI, trying to serialize this will break.\n",
            "WARNING:rdflib.term:https://www.wikidata.org/wiki/Property/has part(s) does not look like a valid URI, trying to serialize this will break.\n",
            "WARNING:rdflib.term:https://www.wikidata.org/wiki/Property/has part(s) does not look like a valid URI, trying to serialize this will break.\n",
            "WARNING:rdflib.term:https://www.wikidata.org/wiki/Property/has part(s) does not look like a valid URI, trying to serialize this will break.\n",
            "WARNING:rdflib.term:https://www.wikidata.org/wiki/Property/subclass of does not look like a valid URI, trying to serialize this will break.\n",
            "WARNING:rdflib.term:https://www.wikidata.org/wiki/Property/has characteristic does not look like a valid URI, trying to serialize this will break.\n",
            "WARNING:rdflib.term:https://www.wikidata.org/wiki/Property/has use does not look like a valid URI, trying to serialize this will break.\n",
            "WARNING:rdflib.term:https://www.wikidata.org/wiki/Property/subclass of does not look like a valid URI, trying to serialize this will break.\n",
            "WARNING:rdflib.term:https://www.wikidata.org/wiki/Property/instance of does not look like a valid URI, trying to serialize this will break.\n",
            "WARNING:rdflib.term:https://www.wikidata.org/wiki/Property/facet of does not look like a valid URI, trying to serialize this will break.\n",
            "WARNING:rdflib.term:https://www.wikidata.org/wiki/Property/subclass of does not look like a valid URI, trying to serialize this will break.\n",
            "WARNING:rdflib.term:https://www.wikidata.org/wiki/Property/instance of does not look like a valid URI, trying to serialize this will break.\n",
            "WARNING:rdflib.term:https://www.wikidata.org/wiki/Property/instance of does not look like a valid URI, trying to serialize this will break.\n",
            "WARNING:rdflib.term:https://www.wikidata.org/wiki/Property/instance of does not look like a valid URI, trying to serialize this will break.\n",
            "WARNING:rdflib.term:https://www.wikidata.org/wiki/Property/subclass of does not look like a valid URI, trying to serialize this will break.\n",
            "WARNING:rdflib.term:https://www.wikidata.org/wiki/Property/has characteristic does not look like a valid URI, trying to serialize this will break.\n",
            "WARNING:rdflib.term:https://www.wikidata.org/wiki/Property/has use does not look like a valid URI, trying to serialize this will break.\n",
            "WARNING:rdflib.term:https://www.wikidata.org/wiki/Property/has part(s) does not look like a valid URI, trying to serialize this will break.\n",
            "WARNING:rdflib.term:https://www.wikidata.org/wiki/Property/has use does not look like a valid URI, trying to serialize this will break.\n",
            "WARNING:rdflib.term:https://www.wikidata.org/wiki/Property/has part(s) does not look like a valid URI, trying to serialize this will break.\n",
            "WARNING:rdflib.term:https://www.wikidata.org/wiki/Property/has part(s) does not look like a valid URI, trying to serialize this will break.\n",
            "WARNING:rdflib.term:https://www.wikidata.org/wiki/Property/has part(s) does not look like a valid URI, trying to serialize this will break.\n",
            "WARNING:rdflib.term:https://www.wikidata.org/wiki/Property/has part(s) does not look like a valid URI, trying to serialize this will break.\n",
            "WARNING:rdflib.term:https://www.wikidata.org/wiki/Property/has use does not look like a valid URI, trying to serialize this will break.\n",
            "WARNING:rdflib.term:https://www.wikidata.org/wiki/Property/used by does not look like a valid URI, trying to serialize this will break.\n",
            "WARNING:rdflib.term:https://www.wikidata.org/wiki/Property/has part(s) does not look like a valid URI, trying to serialize this will break.\n",
            "WARNING:rdflib.term:https://www.wikidata.org/wiki/Property/has part(s) does not look like a valid URI, trying to serialize this will break.\n",
            "WARNING:rdflib.term:https://www.wikidata.org/wiki/Property/has part(s) does not look like a valid URI, trying to serialize this will break.\n",
            "WARNING:rdflib.term:https://www.wikidata.org/wiki/Property/has part(s) does not look like a valid URI, trying to serialize this will break.\n",
            "WARNING:rdflib.term:https://www.wikidata.org/wiki/Property/has use does not look like a valid URI, trying to serialize this will break.\n",
            "WARNING:rdflib.term:https://www.wikidata.org/wiki/Property/subclass of does not look like a valid URI, trying to serialize this will break.\n",
            "WARNING:rdflib.term:https://www.wikidata.org/wiki/Property/has part(s) does not look like a valid URI, trying to serialize this will break.\n",
            "WARNING:rdflib.term:https://www.wikidata.org/wiki/Property/subclass of does not look like a valid URI, trying to serialize this will break.\n",
            "WARNING:rdflib.term:https://www.wikidata.org/wiki/Property/has part(s) does not look like a valid URI, trying to serialize this will break.\n",
            "WARNING:rdflib.term:https://www.wikidata.org/wiki/Property/instance of does not look like a valid URI, trying to serialize this will break.\n",
            "WARNING:rdflib.term:https://www.wikidata.org/wiki/Property/part of does not look like a valid URI, trying to serialize this will break.\n",
            "WARNING:rdflib.term:https://www.wikidata.org/wiki/Property/has part(s) does not look like a valid URI, trying to serialize this will break.\n",
            "WARNING:rdflib.term:https://www.wikidata.org/wiki/Property/part of does not look like a valid URI, trying to serialize this will break.\n",
            "WARNING:rdflib.term:https://www.wikidata.org/wiki/Property/has characteristic does not look like a valid URI, trying to serialize this will break.\n",
            "WARNING:rdflib.term:https://www.wikidata.org/wiki/Property/has characteristic does not look like a valid URI, trying to serialize this will break.\n",
            "WARNING:rdflib.term:https://www.wikidata.org/wiki/Property/subclass of does not look like a valid URI, trying to serialize this will break.\n",
            "WARNING:rdflib.term:https://www.wikidata.org/wiki/Property/subclass of does not look like a valid URI, trying to serialize this will break.\n",
            "WARNING:rdflib.term:https://www.wikidata.org/wiki/Property/has use does not look like a valid URI, trying to serialize this will break.\n",
            "WARNING:rdflib.term:https://www.wikidata.org/wiki/Property/subclass of does not look like a valid URI, trying to serialize this will break.\n",
            "WARNING:rdflib.term:https://www.wikidata.org/wiki/Property/instance of does not look like a valid URI, trying to serialize this will break.\n",
            "WARNING:rdflib.term:https://www.wikidata.org/wiki/Property/subclass of does not look like a valid URI, trying to serialize this will break.\n",
            "WARNING:rdflib.term:https://www.wikidata.org/wiki/Property/instance of does not look like a valid URI, trying to serialize this will break.\n",
            "WARNING:rdflib.term:https://www.wikidata.org/wiki/Property/facet of does not look like a valid URI, trying to serialize this will break.\n",
            "WARNING:rdflib.term:https://www.wikidata.org/wiki/Property/instance of does not look like a valid URI, trying to serialize this will break.\n",
            "WARNING:rdflib.term:https://www.wikidata.org/wiki/Property/subclass of does not look like a valid URI, trying to serialize this will break.\n",
            "WARNING:rdflib.term:https://www.wikidata.org/wiki/Property/instance of does not look like a valid URI, trying to serialize this will break.\n",
            "WARNING:rdflib.term:https://www.wikidata.org/wiki/Property/facet of does not look like a valid URI, trying to serialize this will break.\n",
            "WARNING:rdflib.term:https://www.wikidata.org/wiki/Property/subclass of does not look like a valid URI, trying to serialize this will break.\n",
            "WARNING:rdflib.term:https://www.wikidata.org/wiki/Property/instance of does not look like a valid URI, trying to serialize this will break.\n",
            "WARNING:rdflib.term:https://www.wikidata.org/wiki/Property/instance of does not look like a valid URI, trying to serialize this will break.\n",
            "WARNING:rdflib.term:https://www.wikidata.org/wiki/Property/instance of does not look like a valid URI, trying to serialize this will break.\n",
            "WARNING:rdflib.term:https://www.wikidata.org/wiki/Property/subclass of does not look like a valid URI, trying to serialize this will break.\n",
            "WARNING:rdflib.term:https://www.wikidata.org/wiki/Property/subclass of does not look like a valid URI, trying to serialize this will break.\n",
            "WARNING:rdflib.term:https://www.wikidata.org/wiki/Property/instance of does not look like a valid URI, trying to serialize this will break.\n",
            "WARNING:rdflib.term:https://www.wikidata.org/wiki/Property/has use does not look like a valid URI, trying to serialize this will break.\n",
            "WARNING:rdflib.term:https://www.wikidata.org/wiki/Property/subclass of does not look like a valid URI, trying to serialize this will break.\n",
            "WARNING:rdflib.term:https://www.wikidata.org/wiki/Property/instance of does not look like a valid URI, trying to serialize this will break.\n",
            "WARNING:rdflib.term:https://www.wikidata.org/wiki/Property/subclass of does not look like a valid URI, trying to serialize this will break.\n",
            "WARNING:rdflib.term:https://www.wikidata.org/wiki/Property/has part(s) of the class does not look like a valid URI, trying to serialize this will break.\n"
          ]
        },
        {
          "ename": "KeyboardInterrupt",
          "evalue": "",
          "output_type": "error",
          "traceback": [
            "\u001b[0;31m---------------------------------------------------------------------------\u001b[0m",
            "\u001b[0;31mKeyboardInterrupt\u001b[0m                         Traceback (most recent call last)",
            "\u001b[0;32m<ipython-input-14-158568e2ba5d>\u001b[0m in \u001b[0;36m<cell line: 0>\u001b[0;34m()\u001b[0m\n\u001b[1;32m    152\u001b[0m \u001b[0;34m\u001b[0m\u001b[0m\n\u001b[1;32m    153\u001b[0m \u001b[0;31m# Build the knowledge graph\u001b[0m\u001b[0;34m\u001b[0m\u001b[0;34m\u001b[0m\u001b[0m\n\u001b[0;32m--> 154\u001b[0;31m \u001b[0mbuild_knowledge_graph\u001b[0m\u001b[0;34m(\u001b[0m\u001b[0mdataset\u001b[0m\u001b[0;34m,\u001b[0m \u001b[0mmax_depth\u001b[0m\u001b[0;34m=\u001b[0m\u001b[0;36m3\u001b[0m\u001b[0;34m)\u001b[0m\u001b[0;34m\u001b[0m\u001b[0;34m\u001b[0m\u001b[0m\n\u001b[0m",
            "\u001b[0;32m<ipython-input-14-158568e2ba5d>\u001b[0m in \u001b[0;36mbuild_knowledge_graph\u001b[0;34m(dataset, max_depth)\u001b[0m\n\u001b[1;32m    138\u001b[0m \u001b[0;34m\u001b[0m\u001b[0m\n\u001b[1;32m    139\u001b[0m             \u001b[0;31m# Recursively query Datatype properties\u001b[0m\u001b[0;34m\u001b[0m\u001b[0;34m\u001b[0m\u001b[0m\n\u001b[0;32m--> 140\u001b[0;31m             \u001b[0mrecursive_query\u001b[0m\u001b[0;34m(\u001b[0m\u001b[0mdata_type_qid\u001b[0m\u001b[0;34m,\u001b[0m \u001b[0mP\u001b[0m\u001b[0;34m.\u001b[0m\u001b[0mDatatype\u001b[0m\u001b[0;34m,\u001b[0m \u001b[0mdata_type\u001b[0m\u001b[0;34m,\u001b[0m \u001b[0mdepth\u001b[0m\u001b[0;34m=\u001b[0m\u001b[0;36m0\u001b[0m\u001b[0;34m,\u001b[0m \u001b[0mmax_depth\u001b[0m\u001b[0;34m=\u001b[0m\u001b[0mmax_depth\u001b[0m\u001b[0;34m)\u001b[0m\u001b[0;34m\u001b[0m\u001b[0;34m\u001b[0m\u001b[0m\n\u001b[0m\u001b[1;32m    141\u001b[0m \u001b[0;34m\u001b[0m\u001b[0m\n\u001b[1;32m    142\u001b[0m     \u001b[0;31m# Save the knowledge graph as Turtle and OWL format\u001b[0m\u001b[0;34m\u001b[0m\u001b[0;34m\u001b[0m\u001b[0m\n",
            "\u001b[0;32m<ipython-input-14-158568e2ba5d>\u001b[0m in \u001b[0;36mrecursive_query\u001b[0;34m(qid, node_type, label, depth, max_depth)\u001b[0m\n\u001b[1;32m     85\u001b[0m \u001b[0;34m\u001b[0m\u001b[0m\n\u001b[1;32m     86\u001b[0m     \u001b[0;31m# Query entity properties\u001b[0m\u001b[0;34m\u001b[0m\u001b[0;34m\u001b[0m\u001b[0m\n\u001b[0;32m---> 87\u001b[0;31m     \u001b[0mresults\u001b[0m \u001b[0;34m=\u001b[0m \u001b[0mquery_wikidata_properties\u001b[0m\u001b[0;34m(\u001b[0m\u001b[0mqid\u001b[0m\u001b[0;34m)\u001b[0m\u001b[0;34m\u001b[0m\u001b[0;34m\u001b[0m\u001b[0m\n\u001b[0m\u001b[1;32m     88\u001b[0m \u001b[0;34m\u001b[0m\u001b[0m\n\u001b[1;32m     89\u001b[0m     \u001b[0;32mfor\u001b[0m \u001b[0mresult\u001b[0m \u001b[0;32min\u001b[0m \u001b[0mresults\u001b[0m\u001b[0;34m:\u001b[0m\u001b[0;34m\u001b[0m\u001b[0;34m\u001b[0m\u001b[0m\n",
            "\u001b[0;32m<ipython-input-14-158568e2ba5d>\u001b[0m in \u001b[0;36mquery_wikidata_properties\u001b[0;34m(qid)\u001b[0m\n\u001b[1;32m     65\u001b[0m     \u001b[0msparql\u001b[0m\u001b[0;34m.\u001b[0m\u001b[0msetQuery\u001b[0m\u001b[0;34m(\u001b[0m\u001b[0mquery\u001b[0m\u001b[0;34m)\u001b[0m\u001b[0;34m\u001b[0m\u001b[0;34m\u001b[0m\u001b[0m\n\u001b[1;32m     66\u001b[0m     \u001b[0msparql\u001b[0m\u001b[0;34m.\u001b[0m\u001b[0msetReturnFormat\u001b[0m\u001b[0;34m(\u001b[0m\u001b[0mJSON\u001b[0m\u001b[0;34m)\u001b[0m\u001b[0;34m\u001b[0m\u001b[0;34m\u001b[0m\u001b[0m\n\u001b[0;32m---> 67\u001b[0;31m     \u001b[0mresults\u001b[0m \u001b[0;34m=\u001b[0m \u001b[0msparql\u001b[0m\u001b[0;34m.\u001b[0m\u001b[0mquery\u001b[0m\u001b[0;34m(\u001b[0m\u001b[0;34m)\u001b[0m\u001b[0;34m.\u001b[0m\u001b[0mconvert\u001b[0m\u001b[0;34m(\u001b[0m\u001b[0;34m)\u001b[0m\u001b[0;34m\u001b[0m\u001b[0;34m\u001b[0m\u001b[0m\n\u001b[0m\u001b[1;32m     68\u001b[0m     \u001b[0;32mreturn\u001b[0m \u001b[0mresults\u001b[0m\u001b[0;34m[\u001b[0m\u001b[0;34m\"results\"\u001b[0m\u001b[0;34m]\u001b[0m\u001b[0;34m[\u001b[0m\u001b[0;34m\"bindings\"\u001b[0m\u001b[0;34m]\u001b[0m\u001b[0;34m\u001b[0m\u001b[0;34m\u001b[0m\u001b[0m\n\u001b[1;32m     69\u001b[0m \u001b[0;34m\u001b[0m\u001b[0m\n",
            "\u001b[0;32m/usr/local/lib/python3.11/dist-packages/SPARQLWrapper/Wrapper.py\u001b[0m in \u001b[0;36mquery\u001b[0;34m(self)\u001b[0m\n\u001b[1;32m    958\u001b[0m         \u001b[0;34m:\u001b[0m\u001b[0mrtype\u001b[0m\u001b[0;34m:\u001b[0m \u001b[0;34m:\u001b[0m\u001b[0;32mclass\u001b[0m\u001b[0;34m:\u001b[0m\u001b[0;31m`\u001b[0m\u001b[0mQueryResult\u001b[0m\u001b[0;31m`\u001b[0m \u001b[0minstance\u001b[0m\u001b[0;34m\u001b[0m\u001b[0;34m\u001b[0m\u001b[0m\n\u001b[1;32m    959\u001b[0m         \"\"\"\n\u001b[0;32m--> 960\u001b[0;31m         \u001b[0;32mreturn\u001b[0m \u001b[0mQueryResult\u001b[0m\u001b[0;34m(\u001b[0m\u001b[0mself\u001b[0m\u001b[0;34m.\u001b[0m\u001b[0m_query\u001b[0m\u001b[0;34m(\u001b[0m\u001b[0;34m)\u001b[0m\u001b[0;34m)\u001b[0m\u001b[0;34m\u001b[0m\u001b[0;34m\u001b[0m\u001b[0m\n\u001b[0m\u001b[1;32m    961\u001b[0m \u001b[0;34m\u001b[0m\u001b[0m\n\u001b[1;32m    962\u001b[0m     \u001b[0;32mdef\u001b[0m \u001b[0mqueryAndConvert\u001b[0m\u001b[0;34m(\u001b[0m\u001b[0mself\u001b[0m\u001b[0;34m)\u001b[0m \u001b[0;34m->\u001b[0m \u001b[0;34m\"QueryResult.ConvertResult\"\u001b[0m\u001b[0;34m:\u001b[0m\u001b[0;34m\u001b[0m\u001b[0;34m\u001b[0m\u001b[0m\n",
            "\u001b[0;32m/usr/local/lib/python3.11/dist-packages/SPARQLWrapper/Wrapper.py\u001b[0m in \u001b[0;36m_query\u001b[0;34m(self)\u001b[0m\n\u001b[1;32m    924\u001b[0m                 \u001b[0mresponse\u001b[0m \u001b[0;34m=\u001b[0m \u001b[0murlopener\u001b[0m\u001b[0;34m(\u001b[0m\u001b[0mrequest\u001b[0m\u001b[0;34m,\u001b[0m \u001b[0mtimeout\u001b[0m\u001b[0;34m=\u001b[0m\u001b[0mself\u001b[0m\u001b[0;34m.\u001b[0m\u001b[0mtimeout\u001b[0m\u001b[0;34m)\u001b[0m\u001b[0;34m\u001b[0m\u001b[0;34m\u001b[0m\u001b[0m\n\u001b[1;32m    925\u001b[0m             \u001b[0;32melse\u001b[0m\u001b[0;34m:\u001b[0m\u001b[0;34m\u001b[0m\u001b[0;34m\u001b[0m\u001b[0m\n\u001b[0;32m--> 926\u001b[0;31m                 \u001b[0mresponse\u001b[0m \u001b[0;34m=\u001b[0m \u001b[0murlopener\u001b[0m\u001b[0;34m(\u001b[0m\u001b[0mrequest\u001b[0m\u001b[0;34m)\u001b[0m\u001b[0;34m\u001b[0m\u001b[0;34m\u001b[0m\u001b[0m\n\u001b[0m\u001b[1;32m    927\u001b[0m             \u001b[0;32mreturn\u001b[0m \u001b[0mresponse\u001b[0m\u001b[0;34m,\u001b[0m \u001b[0mself\u001b[0m\u001b[0;34m.\u001b[0m\u001b[0mreturnFormat\u001b[0m\u001b[0;34m\u001b[0m\u001b[0;34m\u001b[0m\u001b[0m\n\u001b[1;32m    928\u001b[0m         \u001b[0;32mexcept\u001b[0m \u001b[0murllib\u001b[0m\u001b[0;34m.\u001b[0m\u001b[0merror\u001b[0m\u001b[0;34m.\u001b[0m\u001b[0mHTTPError\u001b[0m \u001b[0;32mas\u001b[0m \u001b[0me\u001b[0m\u001b[0;34m:\u001b[0m\u001b[0;34m\u001b[0m\u001b[0;34m\u001b[0m\u001b[0m\n",
            "\u001b[0;32m/usr/lib/python3.11/urllib/request.py\u001b[0m in \u001b[0;36murlopen\u001b[0;34m(url, data, timeout, cafile, capath, cadefault, context)\u001b[0m\n\u001b[1;32m    214\u001b[0m     \u001b[0;32melse\u001b[0m\u001b[0;34m:\u001b[0m\u001b[0;34m\u001b[0m\u001b[0;34m\u001b[0m\u001b[0m\n\u001b[1;32m    215\u001b[0m         \u001b[0mopener\u001b[0m \u001b[0;34m=\u001b[0m \u001b[0m_opener\u001b[0m\u001b[0;34m\u001b[0m\u001b[0;34m\u001b[0m\u001b[0m\n\u001b[0;32m--> 216\u001b[0;31m     \u001b[0;32mreturn\u001b[0m \u001b[0mopener\u001b[0m\u001b[0;34m.\u001b[0m\u001b[0mopen\u001b[0m\u001b[0;34m(\u001b[0m\u001b[0murl\u001b[0m\u001b[0;34m,\u001b[0m \u001b[0mdata\u001b[0m\u001b[0;34m,\u001b[0m \u001b[0mtimeout\u001b[0m\u001b[0;34m)\u001b[0m\u001b[0;34m\u001b[0m\u001b[0;34m\u001b[0m\u001b[0m\n\u001b[0m\u001b[1;32m    217\u001b[0m \u001b[0;34m\u001b[0m\u001b[0m\n\u001b[1;32m    218\u001b[0m \u001b[0;32mdef\u001b[0m \u001b[0minstall_opener\u001b[0m\u001b[0;34m(\u001b[0m\u001b[0mopener\u001b[0m\u001b[0;34m)\u001b[0m\u001b[0;34m:\u001b[0m\u001b[0;34m\u001b[0m\u001b[0;34m\u001b[0m\u001b[0m\n",
            "\u001b[0;32m/usr/lib/python3.11/urllib/request.py\u001b[0m in \u001b[0;36mopen\u001b[0;34m(self, fullurl, data, timeout)\u001b[0m\n\u001b[1;32m    517\u001b[0m \u001b[0;34m\u001b[0m\u001b[0m\n\u001b[1;32m    518\u001b[0m         \u001b[0msys\u001b[0m\u001b[0;34m.\u001b[0m\u001b[0maudit\u001b[0m\u001b[0;34m(\u001b[0m\u001b[0;34m'urllib.Request'\u001b[0m\u001b[0;34m,\u001b[0m \u001b[0mreq\u001b[0m\u001b[0;34m.\u001b[0m\u001b[0mfull_url\u001b[0m\u001b[0;34m,\u001b[0m \u001b[0mreq\u001b[0m\u001b[0;34m.\u001b[0m\u001b[0mdata\u001b[0m\u001b[0;34m,\u001b[0m \u001b[0mreq\u001b[0m\u001b[0;34m.\u001b[0m\u001b[0mheaders\u001b[0m\u001b[0;34m,\u001b[0m \u001b[0mreq\u001b[0m\u001b[0;34m.\u001b[0m\u001b[0mget_method\u001b[0m\u001b[0;34m(\u001b[0m\u001b[0;34m)\u001b[0m\u001b[0;34m)\u001b[0m\u001b[0;34m\u001b[0m\u001b[0;34m\u001b[0m\u001b[0m\n\u001b[0;32m--> 519\u001b[0;31m         \u001b[0mresponse\u001b[0m \u001b[0;34m=\u001b[0m \u001b[0mself\u001b[0m\u001b[0;34m.\u001b[0m\u001b[0m_open\u001b[0m\u001b[0;34m(\u001b[0m\u001b[0mreq\u001b[0m\u001b[0;34m,\u001b[0m \u001b[0mdata\u001b[0m\u001b[0;34m)\u001b[0m\u001b[0;34m\u001b[0m\u001b[0;34m\u001b[0m\u001b[0m\n\u001b[0m\u001b[1;32m    520\u001b[0m \u001b[0;34m\u001b[0m\u001b[0m\n\u001b[1;32m    521\u001b[0m         \u001b[0;31m# post-process response\u001b[0m\u001b[0;34m\u001b[0m\u001b[0;34m\u001b[0m\u001b[0m\n",
            "\u001b[0;32m/usr/lib/python3.11/urllib/request.py\u001b[0m in \u001b[0;36m_open\u001b[0;34m(self, req, data)\u001b[0m\n\u001b[1;32m    534\u001b[0m \u001b[0;34m\u001b[0m\u001b[0m\n\u001b[1;32m    535\u001b[0m         \u001b[0mprotocol\u001b[0m \u001b[0;34m=\u001b[0m \u001b[0mreq\u001b[0m\u001b[0;34m.\u001b[0m\u001b[0mtype\u001b[0m\u001b[0;34m\u001b[0m\u001b[0;34m\u001b[0m\u001b[0m\n\u001b[0;32m--> 536\u001b[0;31m         result = self._call_chain(self.handle_open, protocol, protocol +\n\u001b[0m\u001b[1;32m    537\u001b[0m                                   '_open', req)\n\u001b[1;32m    538\u001b[0m         \u001b[0;32mif\u001b[0m \u001b[0mresult\u001b[0m\u001b[0;34m:\u001b[0m\u001b[0;34m\u001b[0m\u001b[0;34m\u001b[0m\u001b[0m\n",
            "\u001b[0;32m/usr/lib/python3.11/urllib/request.py\u001b[0m in \u001b[0;36m_call_chain\u001b[0;34m(self, chain, kind, meth_name, *args)\u001b[0m\n\u001b[1;32m    494\u001b[0m         \u001b[0;32mfor\u001b[0m \u001b[0mhandler\u001b[0m \u001b[0;32min\u001b[0m \u001b[0mhandlers\u001b[0m\u001b[0;34m:\u001b[0m\u001b[0;34m\u001b[0m\u001b[0;34m\u001b[0m\u001b[0m\n\u001b[1;32m    495\u001b[0m             \u001b[0mfunc\u001b[0m \u001b[0;34m=\u001b[0m \u001b[0mgetattr\u001b[0m\u001b[0;34m(\u001b[0m\u001b[0mhandler\u001b[0m\u001b[0;34m,\u001b[0m \u001b[0mmeth_name\u001b[0m\u001b[0;34m)\u001b[0m\u001b[0;34m\u001b[0m\u001b[0;34m\u001b[0m\u001b[0m\n\u001b[0;32m--> 496\u001b[0;31m             \u001b[0mresult\u001b[0m \u001b[0;34m=\u001b[0m \u001b[0mfunc\u001b[0m\u001b[0;34m(\u001b[0m\u001b[0;34m*\u001b[0m\u001b[0margs\u001b[0m\u001b[0;34m)\u001b[0m\u001b[0;34m\u001b[0m\u001b[0;34m\u001b[0m\u001b[0m\n\u001b[0m\u001b[1;32m    497\u001b[0m             \u001b[0;32mif\u001b[0m \u001b[0mresult\u001b[0m \u001b[0;32mis\u001b[0m \u001b[0;32mnot\u001b[0m \u001b[0;32mNone\u001b[0m\u001b[0;34m:\u001b[0m\u001b[0;34m\u001b[0m\u001b[0;34m\u001b[0m\u001b[0m\n\u001b[1;32m    498\u001b[0m                 \u001b[0;32mreturn\u001b[0m \u001b[0mresult\u001b[0m\u001b[0;34m\u001b[0m\u001b[0;34m\u001b[0m\u001b[0m\n",
            "\u001b[0;32m/usr/lib/python3.11/urllib/request.py\u001b[0m in \u001b[0;36mhttps_open\u001b[0;34m(self, req)\u001b[0m\n\u001b[1;32m   1389\u001b[0m \u001b[0;34m\u001b[0m\u001b[0m\n\u001b[1;32m   1390\u001b[0m         \u001b[0;32mdef\u001b[0m \u001b[0mhttps_open\u001b[0m\u001b[0;34m(\u001b[0m\u001b[0mself\u001b[0m\u001b[0;34m,\u001b[0m \u001b[0mreq\u001b[0m\u001b[0;34m)\u001b[0m\u001b[0;34m:\u001b[0m\u001b[0;34m\u001b[0m\u001b[0;34m\u001b[0m\u001b[0m\n\u001b[0;32m-> 1391\u001b[0;31m             return self.do_open(http.client.HTTPSConnection, req,\n\u001b[0m\u001b[1;32m   1392\u001b[0m                 context=self._context, check_hostname=self._check_hostname)\n\u001b[1;32m   1393\u001b[0m \u001b[0;34m\u001b[0m\u001b[0m\n",
            "\u001b[0;32m/usr/lib/python3.11/urllib/request.py\u001b[0m in \u001b[0;36mdo_open\u001b[0;34m(self, http_class, req, **http_conn_args)\u001b[0m\n\u001b[1;32m   1350\u001b[0m             \u001b[0;32mexcept\u001b[0m \u001b[0mOSError\u001b[0m \u001b[0;32mas\u001b[0m \u001b[0merr\u001b[0m\u001b[0;34m:\u001b[0m \u001b[0;31m# timeout error\u001b[0m\u001b[0;34m\u001b[0m\u001b[0;34m\u001b[0m\u001b[0m\n\u001b[1;32m   1351\u001b[0m                 \u001b[0;32mraise\u001b[0m \u001b[0mURLError\u001b[0m\u001b[0;34m(\u001b[0m\u001b[0merr\u001b[0m\u001b[0;34m)\u001b[0m\u001b[0;34m\u001b[0m\u001b[0;34m\u001b[0m\u001b[0m\n\u001b[0;32m-> 1352\u001b[0;31m             \u001b[0mr\u001b[0m \u001b[0;34m=\u001b[0m \u001b[0mh\u001b[0m\u001b[0;34m.\u001b[0m\u001b[0mgetresponse\u001b[0m\u001b[0;34m(\u001b[0m\u001b[0;34m)\u001b[0m\u001b[0;34m\u001b[0m\u001b[0;34m\u001b[0m\u001b[0m\n\u001b[0m\u001b[1;32m   1353\u001b[0m         \u001b[0;32mexcept\u001b[0m\u001b[0;34m:\u001b[0m\u001b[0;34m\u001b[0m\u001b[0;34m\u001b[0m\u001b[0m\n\u001b[1;32m   1354\u001b[0m             \u001b[0mh\u001b[0m\u001b[0;34m.\u001b[0m\u001b[0mclose\u001b[0m\u001b[0;34m(\u001b[0m\u001b[0;34m)\u001b[0m\u001b[0;34m\u001b[0m\u001b[0;34m\u001b[0m\u001b[0m\n",
            "\u001b[0;32m/usr/lib/python3.11/http/client.py\u001b[0m in \u001b[0;36mgetresponse\u001b[0;34m(self)\u001b[0m\n\u001b[1;32m   1393\u001b[0m         \u001b[0;32mtry\u001b[0m\u001b[0;34m:\u001b[0m\u001b[0;34m\u001b[0m\u001b[0;34m\u001b[0m\u001b[0m\n\u001b[1;32m   1394\u001b[0m             \u001b[0;32mtry\u001b[0m\u001b[0;34m:\u001b[0m\u001b[0;34m\u001b[0m\u001b[0;34m\u001b[0m\u001b[0m\n\u001b[0;32m-> 1395\u001b[0;31m                 \u001b[0mresponse\u001b[0m\u001b[0;34m.\u001b[0m\u001b[0mbegin\u001b[0m\u001b[0;34m(\u001b[0m\u001b[0;34m)\u001b[0m\u001b[0;34m\u001b[0m\u001b[0;34m\u001b[0m\u001b[0m\n\u001b[0m\u001b[1;32m   1396\u001b[0m             \u001b[0;32mexcept\u001b[0m \u001b[0mConnectionError\u001b[0m\u001b[0;34m:\u001b[0m\u001b[0;34m\u001b[0m\u001b[0;34m\u001b[0m\u001b[0m\n\u001b[1;32m   1397\u001b[0m                 \u001b[0mself\u001b[0m\u001b[0;34m.\u001b[0m\u001b[0mclose\u001b[0m\u001b[0;34m(\u001b[0m\u001b[0;34m)\u001b[0m\u001b[0;34m\u001b[0m\u001b[0;34m\u001b[0m\u001b[0m\n",
            "\u001b[0;32m/usr/lib/python3.11/http/client.py\u001b[0m in \u001b[0;36mbegin\u001b[0;34m(self)\u001b[0m\n\u001b[1;32m    323\u001b[0m         \u001b[0;31m# read until we get a non-100 response\u001b[0m\u001b[0;34m\u001b[0m\u001b[0;34m\u001b[0m\u001b[0m\n\u001b[1;32m    324\u001b[0m         \u001b[0;32mwhile\u001b[0m \u001b[0;32mTrue\u001b[0m\u001b[0;34m:\u001b[0m\u001b[0;34m\u001b[0m\u001b[0;34m\u001b[0m\u001b[0m\n\u001b[0;32m--> 325\u001b[0;31m             \u001b[0mversion\u001b[0m\u001b[0;34m,\u001b[0m \u001b[0mstatus\u001b[0m\u001b[0;34m,\u001b[0m \u001b[0mreason\u001b[0m \u001b[0;34m=\u001b[0m \u001b[0mself\u001b[0m\u001b[0;34m.\u001b[0m\u001b[0m_read_status\u001b[0m\u001b[0;34m(\u001b[0m\u001b[0;34m)\u001b[0m\u001b[0;34m\u001b[0m\u001b[0;34m\u001b[0m\u001b[0m\n\u001b[0m\u001b[1;32m    326\u001b[0m             \u001b[0;32mif\u001b[0m \u001b[0mstatus\u001b[0m \u001b[0;34m!=\u001b[0m \u001b[0mCONTINUE\u001b[0m\u001b[0;34m:\u001b[0m\u001b[0;34m\u001b[0m\u001b[0;34m\u001b[0m\u001b[0m\n\u001b[1;32m    327\u001b[0m                 \u001b[0;32mbreak\u001b[0m\u001b[0;34m\u001b[0m\u001b[0;34m\u001b[0m\u001b[0m\n",
            "\u001b[0;32m/usr/lib/python3.11/http/client.py\u001b[0m in \u001b[0;36m_read_status\u001b[0;34m(self)\u001b[0m\n\u001b[1;32m    284\u001b[0m \u001b[0;34m\u001b[0m\u001b[0m\n\u001b[1;32m    285\u001b[0m     \u001b[0;32mdef\u001b[0m \u001b[0m_read_status\u001b[0m\u001b[0;34m(\u001b[0m\u001b[0mself\u001b[0m\u001b[0;34m)\u001b[0m\u001b[0;34m:\u001b[0m\u001b[0;34m\u001b[0m\u001b[0;34m\u001b[0m\u001b[0m\n\u001b[0;32m--> 286\u001b[0;31m         \u001b[0mline\u001b[0m \u001b[0;34m=\u001b[0m \u001b[0mstr\u001b[0m\u001b[0;34m(\u001b[0m\u001b[0mself\u001b[0m\u001b[0;34m.\u001b[0m\u001b[0mfp\u001b[0m\u001b[0;34m.\u001b[0m\u001b[0mreadline\u001b[0m\u001b[0;34m(\u001b[0m\u001b[0m_MAXLINE\u001b[0m \u001b[0;34m+\u001b[0m \u001b[0;36m1\u001b[0m\u001b[0;34m)\u001b[0m\u001b[0;34m,\u001b[0m \u001b[0;34m\"iso-8859-1\"\u001b[0m\u001b[0;34m)\u001b[0m\u001b[0;34m\u001b[0m\u001b[0;34m\u001b[0m\u001b[0m\n\u001b[0m\u001b[1;32m    287\u001b[0m         \u001b[0;32mif\u001b[0m \u001b[0mlen\u001b[0m\u001b[0;34m(\u001b[0m\u001b[0mline\u001b[0m\u001b[0;34m)\u001b[0m \u001b[0;34m>\u001b[0m \u001b[0m_MAXLINE\u001b[0m\u001b[0;34m:\u001b[0m\u001b[0;34m\u001b[0m\u001b[0;34m\u001b[0m\u001b[0m\n\u001b[1;32m    288\u001b[0m             \u001b[0;32mraise\u001b[0m \u001b[0mLineTooLong\u001b[0m\u001b[0;34m(\u001b[0m\u001b[0;34m\"status line\"\u001b[0m\u001b[0;34m)\u001b[0m\u001b[0;34m\u001b[0m\u001b[0;34m\u001b[0m\u001b[0m\n",
            "\u001b[0;32m/usr/lib/python3.11/socket.py\u001b[0m in \u001b[0;36mreadinto\u001b[0;34m(self, b)\u001b[0m\n\u001b[1;32m    716\u001b[0m         \u001b[0;32mwhile\u001b[0m \u001b[0;32mTrue\u001b[0m\u001b[0;34m:\u001b[0m\u001b[0;34m\u001b[0m\u001b[0;34m\u001b[0m\u001b[0m\n\u001b[1;32m    717\u001b[0m             \u001b[0;32mtry\u001b[0m\u001b[0;34m:\u001b[0m\u001b[0;34m\u001b[0m\u001b[0;34m\u001b[0m\u001b[0m\n\u001b[0;32m--> 718\u001b[0;31m                 \u001b[0;32mreturn\u001b[0m \u001b[0mself\u001b[0m\u001b[0;34m.\u001b[0m\u001b[0m_sock\u001b[0m\u001b[0;34m.\u001b[0m\u001b[0mrecv_into\u001b[0m\u001b[0;34m(\u001b[0m\u001b[0mb\u001b[0m\u001b[0;34m)\u001b[0m\u001b[0;34m\u001b[0m\u001b[0;34m\u001b[0m\u001b[0m\n\u001b[0m\u001b[1;32m    719\u001b[0m             \u001b[0;32mexcept\u001b[0m \u001b[0mtimeout\u001b[0m\u001b[0;34m:\u001b[0m\u001b[0;34m\u001b[0m\u001b[0;34m\u001b[0m\u001b[0m\n\u001b[1;32m    720\u001b[0m                 \u001b[0mself\u001b[0m\u001b[0;34m.\u001b[0m\u001b[0m_timeout_occurred\u001b[0m \u001b[0;34m=\u001b[0m \u001b[0;32mTrue\u001b[0m\u001b[0;34m\u001b[0m\u001b[0;34m\u001b[0m\u001b[0m\n",
            "\u001b[0;32m/usr/lib/python3.11/ssl.py\u001b[0m in \u001b[0;36mrecv_into\u001b[0;34m(self, buffer, nbytes, flags)\u001b[0m\n\u001b[1;32m   1312\u001b[0m                   \u001b[0;34m\"non-zero flags not allowed in calls to recv_into() on %s\"\u001b[0m \u001b[0;34m%\u001b[0m\u001b[0;34m\u001b[0m\u001b[0;34m\u001b[0m\u001b[0m\n\u001b[1;32m   1313\u001b[0m                   self.__class__)\n\u001b[0;32m-> 1314\u001b[0;31m             \u001b[0;32mreturn\u001b[0m \u001b[0mself\u001b[0m\u001b[0;34m.\u001b[0m\u001b[0mread\u001b[0m\u001b[0;34m(\u001b[0m\u001b[0mnbytes\u001b[0m\u001b[0;34m,\u001b[0m \u001b[0mbuffer\u001b[0m\u001b[0;34m)\u001b[0m\u001b[0;34m\u001b[0m\u001b[0;34m\u001b[0m\u001b[0m\n\u001b[0m\u001b[1;32m   1315\u001b[0m         \u001b[0;32melse\u001b[0m\u001b[0;34m:\u001b[0m\u001b[0;34m\u001b[0m\u001b[0;34m\u001b[0m\u001b[0m\n\u001b[1;32m   1316\u001b[0m             \u001b[0;32mreturn\u001b[0m \u001b[0msuper\u001b[0m\u001b[0;34m(\u001b[0m\u001b[0;34m)\u001b[0m\u001b[0;34m.\u001b[0m\u001b[0mrecv_into\u001b[0m\u001b[0;34m(\u001b[0m\u001b[0mbuffer\u001b[0m\u001b[0;34m,\u001b[0m \u001b[0mnbytes\u001b[0m\u001b[0;34m,\u001b[0m \u001b[0mflags\u001b[0m\u001b[0;34m)\u001b[0m\u001b[0;34m\u001b[0m\u001b[0;34m\u001b[0m\u001b[0m\n",
            "\u001b[0;32m/usr/lib/python3.11/ssl.py\u001b[0m in \u001b[0;36mread\u001b[0;34m(self, len, buffer)\u001b[0m\n\u001b[1;32m   1164\u001b[0m         \u001b[0;32mtry\u001b[0m\u001b[0;34m:\u001b[0m\u001b[0;34m\u001b[0m\u001b[0;34m\u001b[0m\u001b[0m\n\u001b[1;32m   1165\u001b[0m             \u001b[0;32mif\u001b[0m \u001b[0mbuffer\u001b[0m \u001b[0;32mis\u001b[0m \u001b[0;32mnot\u001b[0m \u001b[0;32mNone\u001b[0m\u001b[0;34m:\u001b[0m\u001b[0;34m\u001b[0m\u001b[0;34m\u001b[0m\u001b[0m\n\u001b[0;32m-> 1166\u001b[0;31m                 \u001b[0;32mreturn\u001b[0m \u001b[0mself\u001b[0m\u001b[0;34m.\u001b[0m\u001b[0m_sslobj\u001b[0m\u001b[0;34m.\u001b[0m\u001b[0mread\u001b[0m\u001b[0;34m(\u001b[0m\u001b[0mlen\u001b[0m\u001b[0;34m,\u001b[0m \u001b[0mbuffer\u001b[0m\u001b[0;34m)\u001b[0m\u001b[0;34m\u001b[0m\u001b[0;34m\u001b[0m\u001b[0m\n\u001b[0m\u001b[1;32m   1167\u001b[0m             \u001b[0;32melse\u001b[0m\u001b[0;34m:\u001b[0m\u001b[0;34m\u001b[0m\u001b[0;34m\u001b[0m\u001b[0m\n\u001b[1;32m   1168\u001b[0m                 \u001b[0;32mreturn\u001b[0m \u001b[0mself\u001b[0m\u001b[0;34m.\u001b[0m\u001b[0m_sslobj\u001b[0m\u001b[0;34m.\u001b[0m\u001b[0mread\u001b[0m\u001b[0;34m(\u001b[0m\u001b[0mlen\u001b[0m\u001b[0;34m)\u001b[0m\u001b[0;34m\u001b[0m\u001b[0;34m\u001b[0m\u001b[0m\n",
            "\u001b[0;31mKeyboardInterrupt\u001b[0m: "
          ]
        }
      ],
      "source": [
        "from rdflib import Namespace, Graph, RDF, RDFS, Literal\n",
        "import json\n",
        "from SPARQLWrapper import SPARQLWrapper, JSON\n",
        "import time\n",
        "import logging\n",
        "\n",
        "# Set up Wikidata SPARQL endpoint\n",
        "SPARQL_ENDPOINT = \"https://query.wikidata.org/sparql\"\n",
        "\n",
        "# List of relevant properties (modality and data type relationships)\n",
        "RELEVANT_PROPERTIES = [\n",
        "    \"P31\",  # instance of\n",
        "    \"P279\",  # subclass of\n",
        "    \"P361\",  # part of\n",
        "    \"P1269\",  # facet of\n",
        "\n",
        "    # Structure and Technology\n",
        "    \"P527\",  # has part(s)\n",
        "    \"P2670\",  # has part(s) of the class\n",
        "    \"P2701\",  # file format\n",
        "    \"P1163\",  # media type\n",
        "    \"P1195\",  # file extension\n",
        "    \"P4330\",  # contains\n",
        "\n",
        "    # Application and Domain\n",
        "    \"P366\",  # has use\n",
        "    \"P1535\",  # used by\n",
        "    \"P101\",  # field of work\n",
        "    \"P921\",  # main subject\n",
        "\n",
        "    # Quality and Metadata\n",
        "    \"P1552\",  # has characteristic\n",
        "    \"P13044\",  # characteristic of\n",
        "    \"P3575\",  # data size\n",
        "]\n",
        "\n",
        "# Define namespaces\n",
        "WIKIDATA = Namespace(\"http://www.wikidata.org/entity/\")\n",
        "P = Namespace(\"https://www.wikidata.org/wiki/Property/\")\n",
        "\n",
        "# Create RDF graph\n",
        "g = Graph()\n",
        "g.bind(\"wikidata\", WIKIDATA)\n",
        "g.bind(\"p\", P)\n",
        "\n",
        "# Avoid duplicate queries\n",
        "queried_nodes = {}\n",
        "\n",
        "def query_wikidata_properties(qid):\n",
        "    \"\"\"Query Wikidata properties for a given entity\"\"\"\n",
        "    if qid in queried_nodes:\n",
        "        return []\n",
        "    queried_nodes[qid] = \"Queried\"  # Mark this node as queried\n",
        "\n",
        "    query = f\"\"\"\n",
        "    SELECT ?property ?propertyLabel ?value ?valueLabel WHERE {{\n",
        "      wd:{qid} ?p ?value.\n",
        "      ?property wikibase:directClaim ?p.\n",
        "      FILTER (?property IN (wd:{\", wd:\".join(RELEVANT_PROPERTIES)}))\n",
        "      OPTIONAL {{ ?value rdfs:label ?valueLabel. FILTER(LANG(?valueLabel) = \"en\") }}\n",
        "      SERVICE wikibase:label {{ bd:serviceParam wikibase:language \"en\". }}\n",
        "    }}\n",
        "    \"\"\"\n",
        "    sparql = SPARQLWrapper(SPARQL_ENDPOINT)\n",
        "    sparql.setQuery(query)\n",
        "    sparql.setReturnFormat(JSON)\n",
        "    results = sparql.query().convert()\n",
        "    return results[\"results\"][\"bindings\"]\n",
        "\n",
        "def create_node(qid, node_type, label=None, properties=None):\n",
        "    \"\"\"Create nodes in the RDF graph with QID, type, label, and additional properties\"\"\"\n",
        "    if qid not in queried_nodes:\n",
        "        g.add((WIKIDATA[qid], RDF.type, node_type))\n",
        "        queried_nodes[qid] = node_type\n",
        "        if label:\n",
        "            g.add((WIKIDATA[qid], RDFS.label, Literal(label)))\n",
        "        if properties:\n",
        "            for prop, value in properties.items():\n",
        "                g.add((WIKIDATA[qid], P[prop], Literal(value)))\n",
        "\n",
        "def recursive_query(qid, node_type, label=None, depth=0, max_depth=3):\n",
        "    \"\"\"Recursively query and construct the knowledge graph\"\"\"\n",
        "    if depth > max_depth:\n",
        "        return\n",
        "\n",
        "    # Query entity properties\n",
        "    results = query_wikidata_properties(qid)\n",
        "\n",
        "    for result in results:\n",
        "        prop = result[\"propertyLabel\"][\"value\"]\n",
        "        value = result.get(\"valueLabel\", {}).get(\"value\", result[\"value\"][\"value\"])\n",
        "        value_uri = result[\"value\"][\"value\"]\n",
        "\n",
        "        # Check if the value is a Wikidata entity\n",
        "        if \"wikidata.org/entity/\" in value_uri:\n",
        "            value_qid = value_uri.split(\"/\")[-1]\n",
        "\n",
        "            # Handle Modality\n",
        "            if node_type == P.Modality:\n",
        "                if value_qid not in queried_nodes or queried_nodes[value_qid] == \"NewNode\":\n",
        "                    create_node(value_qid, P.NewNode, value)\n",
        "\n",
        "                g.add((WIKIDATA[qid], P[prop], WIKIDATA[value_qid]))\n",
        "            # Handle Datatype\n",
        "            elif node_type == P.Datatype:\n",
        "                if value_qid not in queried_nodes or queried_nodes[value_qid] == \"NewNode\":\n",
        "                    create_node(value_qid, P.NewNode, value)\n",
        "                g.add((WIKIDATA[qid], P[prop], WIKIDATA[value_qid]))\n",
        "\n",
        "            # Recursively query the new node\n",
        "            recursive_query(value_qid, node_type, value, depth=depth + 1, max_depth=max_depth)\n",
        "\n",
        "def build_knowledge_graph(dataset, max_depth=3):\n",
        "    \"\"\"Build the knowledge graph from the dataset\"\"\"\n",
        "    for entry in dataset:\n",
        "        modality_qid = entry[\"modality\"]\n",
        "        data_types = entry[\"data_types\"]\n",
        "\n",
        "        # Process Modality\n",
        "        create_node(modality_qid, P.Modality, entry[\"modality\"], {\"QID\": modality_qid, \"wikidata_label\": entry.get(\"wikidata_label\", \"\")})\n",
        "\n",
        "        # Recursively query modality properties\n",
        "        recursive_query(modality_qid, P.Modality, entry[\"modality\"], depth=0, max_depth=max_depth)\n",
        "\n",
        "        # Process DataTypes\n",
        "        for data_type, properties in data_types.items():\n",
        "            data_type_qid = properties[\"wikidata_id\"]\n",
        "\n",
        "            # Handle existing Datatype node as NewNode\n",
        "            if data_type_qid in queried_nodes and queried_nodes[data_type_qid] == \"NewNode\":\n",
        "                create_node(data_type_qid, P.Datatype, data_type, {\"frequency\": properties.get(\"frequency\", \"\"),\n",
        "                                                                  \"QID\": data_type_qid,\n",
        "                                                                  \"wikidata_label\": properties[\"wikidata_label\"],\n",
        "                                                                  \"wikidata_description\": properties.get(\"wikidata_description\", \"\")})\n",
        "\n",
        "            # Process the relationship between Modality and Datatype\n",
        "            g.add((WIKIDATA[modality_qid], P[\"P279\"], WIKIDATA[data_type_qid]))  # Example relation (P279 is subclass of)\n",
        "\n",
        "            # Recursively query Datatype properties\n",
        "            recursive_query(data_type_qid, P.Datatype, data_type, depth=0, max_depth=max_depth)\n",
        "\n",
        "    # Save the knowledge graph as Turtle and OWL format\n",
        "    g.serialize(destination=\"knowledge_graph_with_labels_5_2.ttl\", format=\"turtle\")\n",
        "    print(\"Knowledge graph saved to knowledge_graph_with_labels.ttl\")\n",
        "\n",
        "    g.serialize(destination=\"knowledge_graph_with_labels_5_2.owl\", format=\"xml\")\n",
        "    print(\"Knowledge graph saved to knowledge_graph_with_labels.owl\")\n",
        "\n",
        "# Load the updated matched_modalities_data_types.json file\n",
        "with open('updated_matched_modalities_data_types.json', 'r') as f:\n",
        "    dataset = json.load(f)\n",
        "\n",
        "# Build the knowledge graph\n",
        "build_knowledge_graph(dataset, max_depth=3)"
      ]
    },
    {
      "cell_type": "code",
      "execution_count": null,
      "metadata": {
        "id": "vEBH4ioITWc9"
      },
      "outputs": [],
      "source": [
        "from rdflib import Namespace, Graph, RDF, RDFS, Literal\n",
        "import json\n",
        "from SPARQLWrapper import SPARQLWrapper, JSON\n",
        "import logging\n",
        "import time\n",
        "\n",
        "# Set up logging\n",
        "logging.basicConfig(level=logging.INFO)\n",
        "\n",
        "# Set up Wikidata SPARQL endpoint\n",
        "SPARQL_ENDPOINT = \"https://query.wikidata.org/sparql\"\n",
        "\n",
        "# Define namespaces\n",
        "WIKIDATA = Namespace(\"http://www.wikidata.org/entity/\")\n",
        "WD = Namespace(\"http://www.wikidata.org/prop/direct/\")\n",
        "\n",
        "# Create RDF graph\n",
        "g = Graph()\n",
        "g.bind(\"wikidata\", WIKIDATA)\n",
        "g.bind(\"wd\", WD)\n",
        "\n",
        "# Avoid duplicate queries\n",
        "queried_nodes = set()\n",
        "\n",
        "# List of relevant properties (modality and data type relationships)\n",
        "RELEVANT_PROPERTIES = [\n",
        "    \"P31\",  # instance of\n",
        "    \"P279\",  # subclass of\n",
        "    \"P361\",  # part of\n",
        "    \"P1269\",  # facet of\n",
        "    \"P527\",  # has part(s)\n",
        "    \"P2670\",  # has part(s) of the class\n",
        "    \"P2701\",  # file format\n",
        "    \"P1163\",  # media type\n",
        "    \"P1195\",  # file extension\n",
        "    \"P4330\",  # contains\n",
        "    \"P366\",  # has use\n",
        "    \"P1535\",  # used by\n",
        "    \"P101\",  # field of work\n",
        "    \"P921\",  # main subject\n",
        "    \"P1552\",  # has characteristic\n",
        "    \"P13044\",  # characteristic of\n",
        "    \"P3575\",  # data size\n",
        "]\n",
        "\n",
        "def query_wikidata_properties(qid):\n",
        "    \"\"\"Query Wikidata properties for a given entity\"\"\"\n",
        "    if qid in queried_nodes:\n",
        "        return []\n",
        "    queried_nodes.add(qid)\n",
        "\n",
        "    query = f\"\"\"\n",
        "    SELECT ?property ?propertyLabel ?value ?valueLabel WHERE {{\n",
        "      wd:{qid} ?p ?value.\n",
        "      ?property wikibase:directClaim ?p.\n",
        "      FILTER (?property IN (wd:{\", wd:\".join(RELEVANT_PROPERTIES)}))\n",
        "      OPTIONAL {{ ?value rdfs:label ?valueLabel. FILTER(LANG(?valueLabel) = \"en\") }}\n",
        "      SERVICE wikibase:label {{ bd:serviceParam wikibase:language \"en\". }}\n",
        "    }}\n",
        "    \"\"\"\n",
        "    sparql = SPARQLWrapper(SPARQL_ENDPOINT)\n",
        "    sparql.setQuery(query)\n",
        "    sparql.setReturnFormat(JSON)\n",
        "    results = sparql.query().convert()\n",
        "    return results[\"results\"][\"bindings\"]\n",
        "\n",
        "def create_or_update_node(qid, node_type, properties=None):\n",
        "    \"\"\"\n",
        "    Create or update a node with the given QID and type.\n",
        "    Priority: Modality > Datatype > NewNode.\n",
        "    \"\"\"\n",
        "    if qid in queried_nodes:\n",
        "        existing_type = g.value(WIKIDATA[qid], RDF.type)\n",
        "        if existing_type == WIKIDATA.NewNode and node_type in [WIKIDATA.Datatype, WIKIDATA.Modality]:\n",
        "            g.remove((WIKIDATA[qid], RDF.type, WIKIDATA.NewNode))\n",
        "            g.add((WIKIDATA[qid], RDF.type, node_type))\n",
        "        elif existing_type == WIKIDATA.Datatype and node_type == WIKIDATA.Modality:\n",
        "            g.remove((WIKIDATA[qid], RDF.type, WIKIDATA.Datatype))\n",
        "            g.add((WIKIDATA[qid], RDF.type, node_type))\n",
        "    else:\n",
        "        g.add((WIKIDATA[qid], RDF.type, node_type))\n",
        "        queried_nodes.add(qid)\n",
        "\n",
        "    if properties:\n",
        "        for key, value in properties.items():\n",
        "            g.add((WIKIDATA[qid], WIKIDATA[key], Literal(value)))\n",
        "\n",
        "def recursive_query(qid, node_type, depth=0, max_depth=1):\n",
        "    \"\"\"Recursively query and construct the knowledge graph\"\"\"\n",
        "    if depth > max_depth:\n",
        "        return\n",
        "\n",
        "    # Query entity properties for ALL RELEVANT_PROPERTIES\n",
        "    results = query_wikidata_properties(qid)\n",
        "\n",
        "    for result in results:\n",
        "        prop = result[\"property\"][\"value\"].split(\"/\")[-1]  # Extract property ID (e.g., P31)\n",
        "        value_uri = result[\"value\"][\"value\"]\n",
        "        value_label = result.get(\"valueLabel\", {}).get(\"value\", value_uri)\n",
        "\n",
        "        # Add attribute label\n",
        "        prop_label = result[\"propertyLabel\"][\"value\"]\n",
        "        g.add((WD[prop], RDFS.label, Literal(prop_label)))  # Add attribute label\n",
        "\n",
        "        # Handle entity relationships\n",
        "        if \"wikidata.org/entity/\" in value_uri:\n",
        "            value_qid = value_uri.split(\"/\")[-1]\n",
        "\n",
        "            # Make sure to add edges\n",
        "            g.add((WIKIDATA[qid], WD[prop], WIKIDATA[value_qid]))\n",
        "\n",
        "            # Type priority logic\n",
        "            if value_qid not in queried_nodes:\n",
        "                create_or_update_node(value_qid, WIKIDATA.NewNode, {\"label\": value_label})\n",
        "            else:\n",
        "                existing_type = g.value(WIKIDATA[value_qid], RDF.type)\n",
        "                # Update type if current node is NewNode and target type has higher priority\n",
        "                if existing_type == WIKIDATA.NewNode and node_type in [WIKIDATA.Datatype, WIKIDATA.Modality]:\n",
        "                    create_or_update_node(value_qid, node_type)\n",
        "\n",
        "            # Recursive exploration\n",
        "            recursive_query(value_qid, node_type, depth=depth+1, max_depth=max_depth)\n",
        "\n",
        "def build_knowledge_graph(dataset, max_depth=1):\n",
        "    \"\"\"Build the knowledge graph from the dataset\"\"\"\n",
        "    for entry in dataset:\n",
        "        modality = entry[\"modality\"]\n",
        "        modality_qid = entry.get(\"wikidata_id\")\n",
        "\n",
        "        if modality_qid:\n",
        "            logging.info(f\"Processing modality: {modality} (QID: {modality_qid})\")\n",
        "\n",
        "            # Create modality node\n",
        "            create_or_update_node(modality_qid, WIKIDATA.Modality, {\n",
        "                \"label\": modality,\n",
        "                \"QID\": modality_qid\n",
        "            })\n",
        "\n",
        "            # recursive query\n",
        "            recursive_query(modality_qid, WIKIDATA.Modality, depth=0, max_depth=max_depth)\n",
        "\n",
        "            # Process data_types\n",
        "            for data_type, properties in entry.get(\"data_types\", {}).items():\n",
        "                data_type_qid = properties.get(\"wikidata_id\")\n",
        "\n",
        "                if data_type_qid:\n",
        "                    # Create datatype node\n",
        "                    create_or_update_node(data_type_qid, WIKIDATA.Datatype, {\n",
        "                        \"label\": data_type,\n",
        "                        \"frequency\": properties.get(\"frequency\"),\n",
        "                        \"QID\": data_type_qid,\n",
        "                        \"wikidata_label\": properties.get(\"wikidata_label\"),\n",
        "                        \"wikidata_description\": properties.get(\"wikidata_description\")\n",
        "                    })\n",
        "\n",
        "                    recursive_query(data_type_qid, WIKIDATA.Datatype, depth=0, max_depth=max_depth)\n",
        "\n",
        "    # Save the knowledge graph as Turtle and OWL format\n",
        "    g.serialize(destination=\"knowledge_graph.ttl\", format=\"turtle\")\n",
        "    logging.info(\"Knowledge graph saved to knowledge_graph.ttl\")\n",
        "\n",
        "    g.serialize(destination=\"knowledge_graph.owl\", format=\"xml\")\n",
        "    logging.info(\"Knowledge graph saved to knowledge_graph.owl\")\n",
        "\n",
        "# Load the matched_modalities_data_types.json file\n",
        "with open('updated_matched_modalities_data_types.json', 'r') as f:\n",
        "    dataset = json.load(f)\n",
        "\n",
        "# Build the knowledge graph\n",
        "build_knowledge_graph(dataset, max_depth=3)"
      ]
    },
    {
      "cell_type": "markdown",
      "metadata": {
        "id": "NqFu7SbIXE36"
      },
      "source": []
    },
    {
      "cell_type": "code",
      "execution_count": null,
      "metadata": {
        "colab": {
          "base_uri": "https://localhost:8080/"
        },
        "id": "TgIeK1pUXIiy",
        "outputId": "df3cf606-ef2d-4b1e-9f41-afcdf35a26fb"
      },
      "outputs": [
        {
          "name": "stdout",
          "output_type": "stream",
          "text": [
            "Requirement already satisfied: sparqlwrapper in /usr/local/lib/python3.11/dist-packages (2.0.0)\n",
            "Requirement already satisfied: rdflib>=6.1.1 in /usr/local/lib/python3.11/dist-packages (from sparqlwrapper) (7.1.3)\n",
            "Requirement already satisfied: pyparsing<4,>=2.1.0 in /usr/local/lib/python3.11/dist-packages (from rdflib>=6.1.1->sparqlwrapper) (3.2.1)\n"
          ]
        }
      ],
      "source": [
        "pip install sparqlwrapper"
      ]
    },
    {
      "cell_type": "code",
      "execution_count": null,
      "metadata": {
        "colab": {
          "base_uri": "https://localhost:8080/"
        },
        "id": "zpR9JgazXEbn",
        "outputId": "17dc12c4-783e-425a-a12a-17439d033470"
      },
      "outputs": [
        {
          "name": "stdout",
          "output_type": "stream",
          "text": [
            "{'head': {'vars': ['item', 'itemLabel']}, 'results': {'bindings': [{'item': {'type': 'uri', 'value': 'http://www.wikidata.org/entity/Q378619'}, 'itemLabel': {'xml:lang': 'en', 'type': 'literal', 'value': 'CC'}}, {'item': {'type': 'uri', 'value': 'http://www.wikidata.org/entity/Q498787'}, 'itemLabel': {'xml:lang': 'en', 'type': 'literal', 'value': 'Muezza'}}, {'item': {'type': 'uri', 'value': 'http://www.wikidata.org/entity/Q677525'}, 'itemLabel': {'xml:lang': 'en', 'type': 'literal', 'value': 'Orangey'}}, {'item': {'type': 'uri', 'value': 'http://www.wikidata.org/entity/Q893453'}, 'itemLabel': {'xml:lang': 'en', 'type': 'literal', 'value': 'Unsinkable Sam'}}, {'item': {'type': 'uri', 'value': 'http://www.wikidata.org/entity/Q1050083'}, 'itemLabel': {'xml:lang': 'en', 'type': 'literal', 'value': 'Catmando'}}, {'item': {'type': 'uri', 'value': 'http://www.wikidata.org/entity/Q1185550'}, 'itemLabel': {'xml:lang': 'en', 'type': 'literal', 'value': 'Oscar'}}, {'item': {'type': 'uri', 'value': 'http://www.wikidata.org/entity/Q1201902'}, 'itemLabel': {'xml:lang': 'en', 'type': 'literal', 'value': 'Tama'}}, {'item': {'type': 'uri', 'value': 'http://www.wikidata.org/entity/Q1207136'}, 'itemLabel': {'xml:lang': 'en', 'type': 'literal', 'value': 'Dewey Readmore Books'}}, {'item': {'type': 'uri', 'value': 'http://www.wikidata.org/entity/Q1371145'}, 'itemLabel': {'xml:lang': 'en', 'type': 'literal', 'value': 'Socks'}}, {'item': {'type': 'uri', 'value': 'http://www.wikidata.org/entity/Q1386318'}, 'itemLabel': {'xml:lang': 'en', 'type': 'literal', 'value': 'F. D. C. Willard'}}, {'item': {'type': 'uri', 'value': 'http://www.wikidata.org/entity/Q1413628'}, 'itemLabel': {'xml:lang': 'en', 'type': 'literal', 'value': 'Nora'}}, {'item': {'type': 'uri', 'value': 'http://www.wikidata.org/entity/Q1622688'}, 'itemLabel': {'xml:lang': 'en', 'type': 'literal', 'value': 'Hodge'}}, {'item': {'type': 'uri', 'value': 'http://www.wikidata.org/entity/Q1637234'}, 'itemLabel': {'xml:lang': 'en', 'type': 'literal', 'value': 'Humphrey'}}, {'item': {'type': 'uri', 'value': 'http://www.wikidata.org/entity/Q1750907'}, 'itemLabel': {'xml:lang': 'en', 'type': 'literal', 'value': 'Towser'}}, {'item': {'type': 'uri', 'value': 'http://www.wikidata.org/entity/Q1759652'}, 'itemLabel': {'xml:lang': 'en', 'type': 'literal', 'value': 'Wilberforce'}}, {'item': {'type': 'uri', 'value': 'http://www.wikidata.org/entity/Q2060630'}, 'itemLabel': {'xml:lang': 'en', 'type': 'literal', 'value': 'India'}}, {'item': {'type': 'uri', 'value': 'http://www.wikidata.org/entity/Q2262318'}, 'itemLabel': {'xml:lang': 'en', 'type': 'literal', 'value': 'Larry'}}, {'item': {'type': 'uri', 'value': 'http://www.wikidata.org/entity/Q2300851'}, 'itemLabel': {'xml:lang': 'en', 'type': 'literal', 'value': 'Winnie'}}, {'item': {'type': 'uri', 'value': 'http://www.wikidata.org/entity/Q2305997'}, 'itemLabel': {'xml:lang': 'en', 'type': 'literal', 'value': 'calico cat'}}, {'item': {'type': 'uri', 'value': 'http://www.wikidata.org/entity/Q2597104'}, 'itemLabel': {'xml:lang': 'en', 'type': 'literal', 'value': 'Creme Puff'}}, {'item': {'type': 'uri', 'value': 'http://www.wikidata.org/entity/Q2624688'}, 'itemLabel': {'xml:lang': 'en', 'type': 'literal', 'value': 'Sybil'}}, {'item': {'type': 'uri', 'value': 'http://www.wikidata.org/entity/Q2634968'}, 'itemLabel': {'xml:lang': 'en', 'type': 'literal', 'value': 'Maru'}}, {'item': {'type': 'uri', 'value': 'http://www.wikidata.org/entity/Q2909987'}, 'itemLabel': {'xml:lang': 'en', 'type': 'literal', 'value': 'Mr. Green Genes'}}, {'item': {'type': 'uri', 'value': 'http://www.wikidata.org/entity/Q4421603'}, 'itemLabel': {'xml:lang': 'en', 'type': 'literal', 'value': 'Scarlett'}}, {'item': {'type': 'uri', 'value': 'http://www.wikidata.org/entity/Q4728618'}, 'itemLabel': {'xml:lang': 'en', 'type': 'literal', 'value': 'All Ball'}}, {'item': {'type': 'uri', 'value': 'http://www.wikidata.org/entity/Q5049074'}, 'itemLabel': {'xml:lang': 'en', 'type': 'literal', 'value': 'Casper'}}, {'item': {'type': 'uri', 'value': 'http://www.wikidata.org/entity/Q5105465'}, 'itemLabel': {'xml:lang': 'en', 'type': 'literal', 'value': 'Choupette'}}, {'item': {'type': 'uri', 'value': 'http://www.wikidata.org/entity/Q5317221'}, 'itemLabel': {'xml:lang': 'en', 'type': 'literal', 'value': 'Dusty the Klepto Kitty'}}, {'item': {'type': 'uri', 'value': 'http://www.wikidata.org/entity/Q5496635'}, 'itemLabel': {'xml:lang': 'en', 'type': 'literal', 'value': 'Fred the Undercover Kitty'}}, {'item': {'type': 'uri', 'value': 'http://www.wikidata.org/entity/Q5503291'}, 'itemLabel': {'xml:lang': 'en', 'type': 'literal', 'value': 'Freya'}}, {'item': {'type': 'uri', 'value': 'http://www.wikidata.org/entity/Q5648508'}, 'itemLabel': {'xml:lang': 'en', 'type': 'literal', 'value': 'Hank the Cat'}}, {'item': {'type': 'uri', 'value': 'http://www.wikidata.org/entity/Q5715272'}, 'itemLabel': {'xml:lang': 'en', 'type': 'literal', 'value': 'Henri'}}, {'item': {'type': 'uri', 'value': 'http://www.wikidata.org/entity/Q6651160'}, 'itemLabel': {'xml:lang': 'en', 'type': 'literal', 'value': 'Little Nicky'}}, {'item': {'type': 'uri', 'value': 'http://www.wikidata.org/entity/Q6703608'}, 'itemLabel': {'xml:lang': 'en', 'type': 'literal', 'value': 'Luna the Fashion Kitty'}}, {'item': {'type': 'uri', 'value': 'http://www.wikidata.org/entity/Q6817786'}, 'itemLabel': {'xml:lang': 'en', 'type': 'literal', 'value': 'Meow'}}, {'item': {'type': 'uri', 'value': 'http://www.wikidata.org/entity/Q6845813'}, 'itemLabel': {'xml:lang': 'en', 'type': 'literal', 'value': 'Mike'}}, {'item': {'type': 'uri', 'value': 'http://www.wikidata.org/entity/Q6913965'}, 'itemLabel': {'xml:lang': 'en', 'type': 'literal', 'value': 'Morris the Cat'}}, {'item': {'type': 'uri', 'value': 'http://www.wikidata.org/entity/Q6928344'}, 'itemLabel': {'xml:lang': 'en', 'type': 'literal', 'value': 'Mr. Nuts'}}, {'item': {'type': 'uri', 'value': 'http://www.wikidata.org/entity/Q7105840'}, 'itemLabel': {'xml:lang': 'en', 'type': 'literal', 'value': 'Oscar'}}, {'item': {'type': 'uri', 'value': 'http://www.wikidata.org/entity/Q7172400'}, 'itemLabel': {'xml:lang': 'en', 'type': 'literal', 'value': \"Peter, the Lord's cat\"}}, {'item': {'type': 'uri', 'value': 'http://www.wikidata.org/entity/Q7243868'}, 'itemLabel': {'xml:lang': 'en', 'type': 'literal', 'value': 'Prince Chunk'}}, {'item': {'type': 'uri', 'value': 'http://www.wikidata.org/entity/Q7366253'}, 'itemLabel': {'xml:lang': 'en', 'type': 'literal', 'value': 'Room 8'}}, {'item': {'type': 'uri', 'value': 'http://www.wikidata.org/entity/Q7380911'}, 'itemLabel': {'xml:lang': 'en', 'type': 'literal', 'value': 'Rusik'}}, {'item': {'type': 'uri', 'value': 'http://www.wikidata.org/entity/Q7430467'}, 'itemLabel': {'xml:lang': 'en', 'type': 'literal', 'value': \"Scarlett's Magic\"}}, {'item': {'type': 'uri', 'value': 'http://www.wikidata.org/entity/Q7553023'}, 'itemLabel': {'xml:lang': 'en', 'type': 'literal', 'value': 'Sockington'}}, {'item': {'type': 'uri', 'value': 'http://www.wikidata.org/entity/Q7627362'}, 'itemLabel': {'xml:lang': 'en', 'type': 'literal', 'value': 'Stubbs'}}, {'item': {'type': 'uri', 'value': 'http://www.wikidata.org/entity/Q7800822'}, 'itemLabel': {'xml:lang': 'en', 'type': 'literal', 'value': 'Tiddles'}}, {'item': {'type': 'uri', 'value': 'http://www.wikidata.org/entity/Q8999673'}, 'itemLabel': {'xml:lang': 'en', 'type': 'literal', 'value': 'Shironeko'}}, {'item': {'type': 'uri', 'value': 'http://www.wikidata.org/entity/Q10393754'}, 'itemLabel': {'xml:lang': 'en', 'type': 'literal', 'value': 'Willow'}}, {'item': {'type': 'uri', 'value': 'http://www.wikidata.org/entity/Q10813994'}, 'itemLabel': {'xml:lang': 'en', 'type': 'literal', 'value': 'Tsim Tung Brother Cream'}}, {'item': {'type': 'uri', 'value': 'http://www.wikidata.org/entity/Q11279521'}, 'itemLabel': {'xml:lang': 'en', 'type': 'literal', 'value': 'Misuke'}}, {'item': {'type': 'uri', 'value': 'http://www.wikidata.org/entity/Q11290753'}, 'itemLabel': {'xml:lang': 'en', 'type': 'literal', 'value': 'Emily'}}, {'item': {'type': 'uri', 'value': 'http://www.wikidata.org/entity/Q11291938'}, 'itemLabel': {'xml:lang': 'en', 'type': 'literal', 'value': 'Nora'}}, {'item': {'type': 'uri', 'value': 'http://www.wikidata.org/entity/Q11302267'}, 'itemLabel': {'xml:lang': 'en', 'type': 'literal', 'value': 'Kotora'}}, {'item': {'type': 'uri', 'value': 'http://www.wikidata.org/entity/Q12165555'}, 'itemLabel': {'xml:lang': 'en', 'type': 'literal', 'value': 'Félicette'}}, {'item': {'type': 'uri', 'value': 'http://www.wikidata.org/entity/Q14916910'}, 'itemLabel': {'xml:lang': 'en', 'type': 'literal', 'value': 'Buurtpoes Bledder'}}, {'item': {'type': 'uri', 'value': 'http://www.wikidata.org/entity/Q15835811'}, 'itemLabel': {'xml:lang': 'en', 'type': 'literal', 'value': 'Munich Mouser'}}, {'item': {'type': 'uri', 'value': 'http://www.wikidata.org/entity/Q15836515'}, 'itemLabel': {'xml:lang': 'en', 'type': 'literal', 'value': 'Nelson'}}, {'item': {'type': 'uri', 'value': 'http://www.wikidata.org/entity/Q15840011'}, 'itemLabel': {'xml:lang': 'en', 'type': 'literal', 'value': 'Peta'}}, {'item': {'type': 'uri', 'value': 'http://www.wikidata.org/entity/Q15840080'}, 'itemLabel': {'xml:lang': 'en', 'type': 'literal', 'value': 'Peter III'}}, {'item': {'type': 'uri', 'value': 'http://www.wikidata.org/entity/Q15851429'}, 'itemLabel': {'xml:lang': 'en', 'type': 'literal', 'value': 'Treasury Bill'}}, {'item': {'type': 'uri', 'value': 'http://www.wikidata.org/entity/Q15991501'}, 'itemLabel': {'xml:lang': 'en', 'type': 'literal', 'value': 'Hamish McHamish'}}, {'item': {'type': 'uri', 'value': 'http://www.wikidata.org/entity/Q16605098'}, 'itemLabel': {'xml:lang': 'en', 'type': 'literal', 'value': 'Colonel Meow'}}, {'item': {'type': 'uri', 'value': 'http://www.wikidata.org/entity/Q16835794'}, 'itemLabel': {'xml:lang': 'en', 'type': 'literal', 'value': 'Dorofei'}}, {'item': {'type': 'uri', 'value': 'http://www.wikidata.org/entity/Q16950243'}, 'itemLabel': {'xml:lang': 'en', 'type': 'literal', 'value': 'Smudge'}}, {'item': {'type': 'uri', 'value': 'http://www.wikidata.org/entity/Q16985214'}, 'itemLabel': {'xml:lang': 'en', 'type': 'literal', 'value': 'Spangles'}}, {'item': {'type': 'uri', 'value': 'http://www.wikidata.org/entity/Q17000472'}, 'itemLabel': {'xml:lang': 'en', 'type': 'literal', 'value': 'Poppy'}}, {'item': {'type': 'uri', 'value': 'http://www.wikidata.org/entity/Q17115877'}, 'itemLabel': {'xml:lang': 'en', 'type': 'literal', 'value': 'Tara'}}, {'item': {'type': 'uri', 'value': 'http://www.wikidata.org/entity/Q17537171'}, 'itemLabel': {'xml:lang': 'en', 'type': 'literal', 'value': 'Pepper the Cat'}}, {'item': {'type': 'uri', 'value': 'http://www.wikidata.org/entity/Q17576799'}, 'itemLabel': {'xml:lang': 'en', 'type': 'literal', 'value': 'Ketzel'}}, {'item': {'type': 'uri', 'value': 'http://www.wikidata.org/entity/Q18535182'}, 'itemLabel': {'xml:lang': 'en', 'type': 'literal', 'value': 'Punkin'}}, {'item': {'type': 'uri', 'value': 'http://www.wikidata.org/entity/Q18945952'}, 'itemLabel': {'xml:lang': 'en', 'type': 'literal', 'value': 'Hana'}}, {'item': {'type': 'uri', 'value': 'http://www.wikidata.org/entity/Q19850466'}, 'itemLabel': {'xml:lang': 'en', 'type': 'literal', 'value': 'Filuś'}}, {'item': {'type': 'uri', 'value': 'http://www.wikidata.org/entity/Q19880492'}, 'itemLabel': {'xml:lang': 'en', 'type': 'literal', 'value': 'Frank and Louie'}}, {'item': {'type': 'uri', 'value': 'http://www.wikidata.org/entity/Q19906739'}, 'itemLabel': {'xml:lang': 'en', 'type': 'literal', 'value': 'FamousNiki'}}, {'item': {'type': 'uri', 'value': 'http://www.wikidata.org/entity/Q20080934'}, 'itemLabel': {'xml:lang': 'en', 'type': 'literal', 'value': 'Tiffany Two'}}, {'item': {'type': 'uri', 'value': 'http://www.wikidata.org/entity/Q20532947'}, 'itemLabel': {'xml:lang': 'en', 'type': 'literal', 'value': 'Xosé Otero Otero'}}, {'item': {'type': 'uri', 'value': 'http://www.wikidata.org/entity/Q21002390'}, 'itemLabel': {'xml:lang': 'en', 'type': 'literal', 'value': 'Corduroy'}}, {'item': {'type': 'uri', 'value': 'http://www.wikidata.org/entity/Q21041964'}, 'itemLabel': {'xml:lang': 'en', 'type': 'literal', 'value': 'Sammy'}}, {'item': {'type': 'uri', 'value': 'http://www.wikidata.org/entity/Q21050077'}, 'itemLabel': {'xml:lang': 'en', 'type': 'literal', 'value': 'Merlin'}}, {'item': {'type': 'uri', 'value': 'http://www.wikidata.org/entity/Q21426728'}, 'itemLabel': {'xml:lang': 'en', 'type': 'literal', 'value': 'Bébert'}}, {'item': {'type': 'uri', 'value': 'http://www.wikidata.org/entity/Q21641529'}, 'itemLabel': {'xml:lang': 'en', 'type': 'literal', 'value': 'Matroska'}}, {'item': {'type': 'uri', 'value': 'http://www.wikidata.org/entity/Q21652863'}, 'itemLabel': {'xml:lang': 'en', 'type': 'literal', 'value': 'Freddy'}}, {'item': {'type': 'uri', 'value': 'http://www.wikidata.org/entity/Q22774485'}, 'itemLabel': {'xml:lang': 'en', 'type': 'literal', 'value': 'Think Think'}}, {'item': {'type': 'uri', 'value': 'http://www.wikidata.org/entity/Q24084366'}, 'itemLabel': {'xml:lang': 'en', 'type': 'literal', 'value': 'Scooter'}}, {'item': {'type': 'uri', 'value': 'http://www.wikidata.org/entity/Q24298806'}, 'itemLabel': {'xml:lang': 'en', 'type': 'literal', 'value': 'Tibs the Great'}}, {'item': {'type': 'uri', 'value': 'http://www.wikidata.org/entity/Q24705153'}, 'itemLabel': {'xml:lang': 'en', 'type': 'literal', 'value': 'Ah Tsai'}}, {'item': {'type': 'uri', 'value': 'http://www.wikidata.org/entity/Q25171691'}, 'itemLabel': {'xml:lang': 'en', 'type': 'literal', 'value': 'Palmerston'}}, {'item': {'type': 'uri', 'value': 'http://www.wikidata.org/entity/Q25393350'}, 'itemLabel': {'xml:lang': 'en', 'type': 'literal', 'value': 'Tomba'}}, {'item': {'type': 'uri', 'value': 'http://www.wikidata.org/entity/Q25471040'}, 'itemLabel': {'xml:lang': 'en', 'type': 'literal', 'value': 'Pixel'}}, {'item': {'type': 'uri', 'value': 'http://www.wikidata.org/entity/Q27190410'}, 'itemLabel': {'xml:lang': 'en', 'type': 'literal', 'value': 'Gladstone'}}, {'item': {'type': 'uri', 'value': 'http://www.wikidata.org/entity/Q27739753'}, 'itemLabel': {'xml:lang': 'en', 'type': 'literal', 'value': 'Sister Cream'}}, {'item': {'type': 'uri', 'value': 'http://www.wikidata.org/entity/Q27745002'}, 'itemLabel': {'xml:lang': 'en', 'type': 'literal', 'value': 'Musashi'}}, {'item': {'type': 'uri', 'value': 'http://www.wikidata.org/entity/Q27745006'}, 'itemLabel': {'xml:lang': 'en', 'type': 'literal', 'value': 'Leo'}}, {'item': {'type': 'uri', 'value': 'http://www.wikidata.org/entity/Q27745008'}, 'itemLabel': {'xml:lang': 'en', 'type': 'literal', 'value': 'Luca'}}, {'item': {'type': 'uri', 'value': 'http://www.wikidata.org/entity/Q27745009'}, 'itemLabel': {'xml:lang': 'en', 'type': 'literal', 'value': 'Seri'}}, {'item': {'type': 'uri', 'value': 'http://www.wikidata.org/entity/Q27745011'}, 'itemLabel': {'xml:lang': 'en', 'type': 'literal', 'value': 'Marble'}}, {'item': {'type': 'uri', 'value': 'http://www.wikidata.org/entity/Q28114532'}, 'itemLabel': {'xml:lang': 'en', 'type': 'literal', 'value': 'Nala Cat'}}, {'item': {'type': 'uri', 'value': 'http://www.wikidata.org/entity/Q28665865'}, 'itemLabel': {'xml:lang': 'en', 'type': 'literal', 'value': 'Myka'}}, {'item': {'type': 'uri', 'value': 'http://www.wikidata.org/entity/Q28792126'}, 'itemLabel': {'xml:lang': 'en', 'type': 'literal', 'value': 'Gli'}}, {'item': {'type': 'uri', 'value': 'http://www.wikidata.org/entity/Q120753069'}, 'itemLabel': {'type': 'literal', 'value': 'Q120753069'}}, {'item': {'type': 'uri', 'value': 'http://www.wikidata.org/entity/Q120753074'}, 'itemLabel': {'xml:lang': 'en', 'type': 'literal', 'value': 'Brownie Still'}}, {'item': {'type': 'uri', 'value': 'http://www.wikidata.org/entity/Q120753119'}, 'itemLabel': {'xml:lang': 'en', 'type': 'literal', 'value': 'Jerry'}}, {'item': {'type': 'uri', 'value': 'http://www.wikidata.org/entity/Q120753135'}, 'itemLabel': {'type': 'literal', 'value': 'Q120753135'}}, {'item': {'type': 'uri', 'value': 'http://www.wikidata.org/entity/Q120753147'}, 'itemLabel': {'xml:lang': 'en', 'type': 'literal', 'value': \"Mr Bett's Tortoise\"}}, {'item': {'type': 'uri', 'value': 'http://www.wikidata.org/entity/Q120753152'}, 'itemLabel': {'xml:lang': 'en', 'type': 'literal', 'value': \"Mr Bett's Tortoise Girl\"}}, {'item': {'type': 'uri', 'value': 'http://www.wikidata.org/entity/Q120753170'}, 'itemLabel': {'type': 'literal', 'value': 'Q120753170'}}, {'item': {'type': 'uri', 'value': 'http://www.wikidata.org/entity/Q121545035'}, 'itemLabel': {'xml:lang': 'en', 'type': 'literal', 'value': 'Zephyr, the Cat'}}, {'item': {'type': 'uri', 'value': 'http://www.wikidata.org/entity/Q123667991'}, 'itemLabel': {'xml:lang': 'en', 'type': 'literal', 'value': 'Tibeert'}}, {'item': {'type': 'uri', 'value': 'http://www.wikidata.org/entity/Q123737060'}, 'itemLabel': {'type': 'literal', 'value': 'Q123737060'}}, {'item': {'type': 'uri', 'value': 'http://www.wikidata.org/entity/Q124611357'}, 'itemLabel': {'xml:lang': 'en', 'type': 'literal', 'value': 'Eros'}}, {'item': {'type': 'uri', 'value': 'http://www.wikidata.org/entity/Q125251204'}, 'itemLabel': {'xml:lang': 'en', 'type': 'literal', 'value': 'Sütterlin Scat Katz'}}, {'item': {'type': 'uri', 'value': 'http://www.wikidata.org/entity/Q125251453'}, 'itemLabel': {'xml:lang': 'en', 'type': 'literal', 'value': 'Luna'}}, {'item': {'type': 'uri', 'value': 'http://www.wikidata.org/entity/Q125884194'}, 'itemLabel': {'xml:lang': 'en', 'type': 'literal', 'value': 'Billi'}}, {'item': {'type': 'uri', 'value': 'http://www.wikidata.org/entity/Q130377351'}, 'itemLabel': {'xml:lang': 'en', 'type': 'literal', 'value': 'Simpkin'}}, {'item': {'type': 'uri', 'value': 'http://www.wikidata.org/entity/Q130601238'}, 'itemLabel': {'xml:lang': 'en', 'type': 'literal', 'value': 'Category:Bobby Kertanegara'}}, {'item': {'type': 'uri', 'value': 'http://www.wikidata.org/entity/Q130704354'}, 'itemLabel': {'xml:lang': 'en', 'type': 'literal', 'value': 'Johannes Gutenberg'}}, {'item': {'type': 'uri', 'value': 'http://www.wikidata.org/entity/Q131384299'}, 'itemLabel': {'type': 'literal', 'value': 'Q131384299'}}, {'item': {'type': 'uri', 'value': 'http://www.wikidata.org/entity/Q131468628'}, 'itemLabel': {'xml:lang': 'en', 'type': 'literal', 'value': 'Brünnhilde'}}, {'item': {'type': 'uri', 'value': 'http://www.wikidata.org/entity/Q131573242'}, 'itemLabel': {'type': 'literal', 'value': 'Q131573242'}}, {'item': {'type': 'uri', 'value': 'http://www.wikidata.org/entity/Q132158203'}, 'itemLabel': {'xml:lang': 'mul', 'type': 'literal', 'value': 'Suffolk'}}, {'item': {'type': 'uri', 'value': 'http://www.wikidata.org/entity/Q30600575'}, 'itemLabel': {'xml:lang': 'en', 'type': 'literal', 'value': 'Orlando'}}, {'item': {'type': 'uri', 'value': 'http://www.wikidata.org/entity/Q42442324'}, 'itemLabel': {'xml:lang': 'en', 'type': 'literal', 'value': 'Kiisu Miisu'}}, {'item': {'type': 'uri', 'value': 'http://www.wikidata.org/entity/Q43260736'}, 'itemLabel': {'xml:lang': 'en', 'type': 'literal', 'value': 'Paddles'}}, {'item': {'type': 'uri', 'value': 'http://www.wikidata.org/entity/Q48895080'}, 'itemLabel': {'xml:lang': 'en', 'type': 'literal', 'value': 'Hamilton'}}, {'item': {'type': 'uri', 'value': 'http://www.wikidata.org/entity/Q49581026'}, 'itemLabel': {'xml:lang': 'en', 'type': 'literal', 'value': 'Toffee'}}, {'item': {'type': 'uri', 'value': 'http://www.wikidata.org/entity/Q50378472'}, 'itemLabel': {'xml:lang': 'en', 'type': 'literal', 'value': 'Nutmeg'}}, {'item': {'type': 'uri', 'value': 'http://www.wikidata.org/entity/Q50824969'}, 'itemLabel': {'xml:lang': 'en', 'type': 'literal', 'value': 'Liv'}}, {'item': {'type': 'uri', 'value': 'http://www.wikidata.org/entity/Q51596094'}, 'itemLabel': {'xml:lang': 'en', 'type': 'literal', 'value': 'Crimean Tom'}}, {'item': {'type': 'uri', 'value': 'http://www.wikidata.org/entity/Q51827254'}, 'itemLabel': {'xml:lang': 'en', 'type': 'literal', 'value': 'Peter II'}}, {'item': {'type': 'uri', 'value': 'http://www.wikidata.org/entity/Q51841231'}, 'itemLabel': {'xml:lang': 'en', 'type': 'literal', 'value': 'Peter'}}, {'item': {'type': 'uri', 'value': 'http://www.wikidata.org/entity/Q52150156'}, 'itemLabel': {'xml:lang': 'en', 'type': 'literal', 'value': 'Arcturus Aldebaran Powers'}}, {'item': {'type': 'uri', 'value': 'http://www.wikidata.org/entity/Q53216650'}, 'itemLabel': {'xml:lang': 'en', 'type': 'literal', 'value': 'Nitama'}}, {'item': {'type': 'uri', 'value': 'http://www.wikidata.org/entity/Q54087698'}, 'itemLabel': {'xml:lang': 'en', 'type': 'literal', 'value': 'Foss'}}, {'item': {'type': 'uri', 'value': 'http://www.wikidata.org/entity/Q54257563'}, 'itemLabel': {'xml:lang': 'en', 'type': 'literal', 'value': 'Mostik'}}, {'item': {'type': 'uri', 'value': 'http://www.wikidata.org/entity/Q55632071'}, 'itemLabel': {'xml:lang': 'en', 'type': 'literal', 'value': 'Rubble'}}, {'item': {'type': 'uri', 'value': 'http://www.wikidata.org/entity/Q55696984'}, 'itemLabel': {'type': 'literal', 'value': 'Q55696984'}}, {'item': {'type': 'uri', 'value': 'http://www.wikidata.org/entity/Q56427306'}, 'itemLabel': {'xml:lang': 'en', 'type': 'literal', 'value': 'Garfi'}}, {'item': {'type': 'uri', 'value': 'http://www.wikidata.org/entity/Q56471556'}, 'itemLabel': {'xml:lang': 'en', 'type': 'literal', 'value': 'Brigadier Broccoli'}}, {'item': {'type': 'uri', 'value': 'http://www.wikidata.org/entity/Q57251591'}, 'itemLabel': {'xml:lang': 'en', 'type': 'literal', 'value': 'Beerbohm'}}, {'item': {'type': 'uri', 'value': 'http://www.wikidata.org/entity/Q57623398'}, 'itemLabel': {'xml:lang': 'en', 'type': 'literal', 'value': 'Blackie'}}, {'item': {'type': 'uri', 'value': 'http://www.wikidata.org/entity/Q58310774'}, 'itemLabel': {'xml:lang': 'en', 'type': 'literal', 'value': 'Longcat'}}, {'item': {'type': 'uri', 'value': 'http://www.wikidata.org/entity/Q58311218'}, 'itemLabel': {'xml:lang': 'en', 'type': 'literal', 'value': 'Sam the Cat has Eyebrows'}}, {'item': {'type': 'uri', 'value': 'http://www.wikidata.org/entity/Q58621231'}, 'itemLabel': {'xml:lang': 'en', 'type': 'literal', 'value': 'Lóu lóu'}}, {'item': {'type': 'uri', 'value': 'http://www.wikidata.org/entity/Q60213636'}, 'itemLabel': {'xml:lang': 'en', 'type': 'literal', 'value': 'Trick'}}, {'item': {'type': 'uri', 'value': 'http://www.wikidata.org/entity/Q61133276'}, 'itemLabel': {'xml:lang': 'en', 'type': 'literal', 'value': 'Şero'}}, {'item': {'type': 'uri', 'value': 'http://www.wikidata.org/entity/Q62128317'}, 'itemLabel': {'xml:lang': 'en', 'type': 'literal', 'value': 'Naro'}}, {'item': {'type': 'uri', 'value': 'http://www.wikidata.org/entity/Q63094726'}, 'itemLabel': {'xml:lang': 'en', 'type': 'literal', 'value': 'Embassy Cat'}}, {'item': {'type': 'uri', 'value': 'http://www.wikidata.org/entity/Q63928240'}, 'itemLabel': {'xml:lang': 'en', 'type': 'literal', 'value': 'Fatso'}}, {'item': {'type': 'uri', 'value': 'http://www.wikidata.org/entity/Q64706109'}, 'itemLabel': {'xml:lang': 'en', 'type': 'literal', 'value': 'Souris Calle'}}, {'item': {'type': 'uri', 'value': 'http://www.wikidata.org/entity/Q65091914'}, 'itemLabel': {'xml:lang': 'en', 'type': 'literal', 'value': 'Venus'}}, {'item': {'type': 'uri', 'value': 'http://www.wikidata.org/entity/Q65280233'}, 'itemLabel': {'xml:lang': 'en', 'type': 'literal', 'value': 'Tito (Cat)'}}, {'item': {'type': 'uri', 'value': 'http://www.wikidata.org/entity/Q65769811'}, 'itemLabel': {'xml:lang': 'en', 'type': 'literal', 'value': 'Remy'}}, {'item': {'type': 'uri', 'value': 'http://www.wikidata.org/entity/Q65967183'}, 'itemLabel': {'xml:lang': 'en', 'type': 'literal', 'value': 'Reggie'}}, {'item': {'type': 'uri', 'value': 'http://www.wikidata.org/entity/Q65967196'}, 'itemLabel': {'xml:lang': 'en', 'type': 'literal', 'value': 'Gonzo'}}, {'item': {'type': 'uri', 'value': 'http://www.wikidata.org/entity/Q65967198'}, 'itemLabel': {'xml:lang': 'en', 'type': 'literal', 'value': 'Archie'}}, {'item': {'type': 'uri', 'value': 'http://www.wikidata.org/entity/Q65967200'}, 'itemLabel': {'xml:lang': 'en', 'type': 'literal', 'value': 'Rizzo'}}, {'item': {'type': 'uri', 'value': 'http://www.wikidata.org/entity/Q66737405'}, 'itemLabel': {'xml:lang': 'en', 'type': 'literal', 'value': 'Mittens'}}, {'item': {'type': 'uri', 'value': 'http://www.wikidata.org/entity/Q76974430'}, 'itemLabel': {'xml:lang': 'en', 'type': 'literal', 'value': 'Apelmon'}}, {'item': {'type': 'uri', 'value': 'http://www.wikidata.org/entity/Q79407468'}, 'itemLabel': {'xml:lang': 'en', 'type': 'literal', 'value': 'Abatutu'}}, {'item': {'type': 'uri', 'value': 'http://www.wikidata.org/entity/Q94098815'}, 'itemLabel': {'xml:lang': 'en', 'type': 'literal', 'value': 'Meredith Grey'}}, {'item': {'type': 'uri', 'value': 'http://www.wikidata.org/entity/Q94100602'}, 'itemLabel': {'xml:lang': 'en', 'type': 'literal', 'value': 'Olivia Benson'}}, {'item': {'type': 'uri', 'value': 'http://www.wikidata.org/entity/Q94990539'}, 'itemLabel': {'xml:lang': 'en', 'type': 'literal', 'value': 'Pip'}}, {'item': {'type': 'uri', 'value': 'http://www.wikidata.org/entity/Q94993819'}, 'itemLabel': {'xml:lang': 'en', 'type': 'literal', 'value': 'Zipper'}}, {'item': {'type': 'uri', 'value': 'http://www.wikidata.org/entity/Q99826810'}, 'itemLabel': {'xml:lang': 'en', 'type': 'literal', 'value': 'Ebisu'}}, {'item': {'type': 'uri', 'value': 'http://www.wikidata.org/entity/Q100451536'}, 'itemLabel': {'xml:lang': 'en', 'type': 'literal', 'value': 'Sanjūrō'}}, {'item': {'type': 'uri', 'value': 'http://www.wikidata.org/entity/Q100965010'}, 'itemLabel': {'xml:lang': 'en', 'type': 'literal', 'value': 'Myōbu no Otodo'}}, {'item': {'type': 'uri', 'value': 'http://www.wikidata.org/entity/Q101943970'}, 'itemLabel': {'xml:lang': 'en', 'type': 'literal', 'value': 'Noutti'}}, {'item': {'type': 'uri', 'value': 'http://www.wikidata.org/entity/Q101947824'}, 'itemLabel': {'xml:lang': 'en', 'type': 'literal', 'value': 'Tigrette'}}, {'item': {'type': 'uri', 'value': 'http://www.wikidata.org/entity/Q101948600'}, 'itemLabel': {'xml:lang': 'en', 'type': 'literal', 'value': 'Miolek'}}, {'item': {'type': 'uri', 'value': 'http://www.wikidata.org/entity/Q105330885'}, 'itemLabel': {'xml:lang': 'en', 'type': 'literal', 'value': 'Tuna'}}, {'item': {'type': 'uri', 'value': 'http://www.wikidata.org/entity/Q105741577'}, 'itemLabel': {'xml:lang': 'en', 'type': 'literal', 'value': 'Purrple Cat'}}, {'item': {'type': 'uri', 'value': 'http://www.wikidata.org/entity/Q106595460'}, 'itemLabel': {'xml:lang': 'en', 'type': 'literal', 'value': 'Curious Zelda'}}, {'item': {'type': 'uri', 'value': 'http://www.wikidata.org/entity/Q106938943'}, 'itemLabel': {'xml:lang': 'en', 'type': 'literal', 'value': 'Order'}}, {'item': {'type': 'uri', 'value': 'http://www.wikidata.org/entity/Q107535403'}, 'itemLabel': {'xml:lang': 'en', 'type': 'literal', 'value': 'Tuxedo Stan'}}, {'item': {'type': 'uri', 'value': 'http://www.wikidata.org/entity/Q108391847'}, 'itemLabel': {'xml:lang': 'en', 'type': 'literal', 'value': 'Smudge'}}, {'item': {'type': 'uri', 'value': 'http://www.wikidata.org/entity/Q108442825'}, 'itemLabel': {'xml:lang': 'en', 'type': 'literal', 'value': 'Mochimaru'}}, {'item': {'type': 'uri', 'value': 'http://www.wikidata.org/entity/Q109316363'}, 'itemLabel': {'xml:lang': 'en', 'type': 'literal', 'value': 'Takeshi'}}, {'item': {'type': 'uri', 'value': 'http://www.wikidata.org/entity/Q109732925'}, 'itemLabel': {'xml:lang': 'en', 'type': 'literal', 'value': 'Stepan'}}, {'item': {'type': 'uri', 'value': 'http://www.wikidata.org/entity/Q110565455'}, 'itemLabel': {'xml:lang': 'en', 'type': 'literal', 'value': 'Jorts'}}, {'item': {'type': 'uri', 'value': 'http://www.wikidata.org/entity/Q110727478'}, 'itemLabel': {'xml:lang': 'en', 'type': 'literal', 'value': 'Willow'}}, {'item': {'type': 'uri', 'value': 'http://www.wikidata.org/entity/Q112121774'}, 'itemLabel': {'xml:lang': 'en', 'type': 'literal', 'value': 'hunting cat'}}, {'item': {'type': 'uri', 'value': 'http://www.wikidata.org/entity/Q112152493'}, 'itemLabel': {'xml:lang': 'en', 'type': 'literal', 'value': 'the pet from Borodianka'}}, {'item': {'type': 'uri', 'value': 'http://www.wikidata.org/entity/Q113512285'}, 'itemLabel': {'xml:lang': 'en', 'type': 'literal', 'value': '11 kitties'}}, {'item': {'type': 'uri', 'value': 'http://www.wikidata.org/entity/Q115757163'}, 'itemLabel': {'xml:lang': 'en', 'type': 'literal', 'value': 'Mikan'}}, {'item': {'type': 'uri', 'value': 'http://www.wikidata.org/entity/Q115856135'}, 'itemLabel': {'xml:lang': 'en', 'type': 'literal', 'value': 'Rolf'}}, {'item': {'type': 'uri', 'value': 'http://www.wikidata.org/entity/Q116233237'}, 'itemLabel': {'xml:lang': 'en', 'type': 'literal', 'value': 'Browser'}}, {'item': {'type': 'uri', 'value': 'http://www.wikidata.org/entity/Q117465068'}, 'itemLabel': {'xml:lang': 'en', 'type': 'literal', 'value': 'golden cat'}}, {'item': {'type': 'uri', 'value': 'http://www.wikidata.org/entity/Q117600369'}, 'itemLabel': {'xml:lang': 'en', 'type': 'literal', 'value': 'Benjamin Button'}}, {'item': {'type': 'uri', 'value': 'http://www.wikidata.org/entity/Q118410922'}, 'itemLabel': {'xml:lang': 'en', 'type': 'literal', 'value': 'Pot Roast'}}, {'item': {'type': 'uri', 'value': 'http://www.wikidata.org/entity/Q120122115'}, 'itemLabel': {'xml:lang': 'en', 'type': 'literal', 'value': 'Zaida'}}, {'item': {'type': 'uri', 'value': 'http://www.wikidata.org/entity/Q120122198'}, 'itemLabel': {'xml:lang': 'en', 'type': 'literal', 'value': 'Silver Laddie'}}, {'item': {'type': 'uri', 'value': 'http://www.wikidata.org/entity/Q120122214'}, 'itemLabel': {'xml:lang': 'en', 'type': 'literal', 'value': 'Silvie of Lyndhurst'}}, {'item': {'type': 'uri', 'value': 'http://www.wikidata.org/entity/Q120122321'}, 'itemLabel': {'xml:lang': 'en', 'type': 'literal', 'value': 'Fulmer Pearl'}}, {'item': {'type': 'uri', 'value': 'http://www.wikidata.org/entity/Q120122392'}, 'itemLabel': {'xml:lang': 'en', 'type': 'literal', 'value': 'Topso of Dingley'}}, {'item': {'type': 'uri', 'value': 'http://www.wikidata.org/entity/Q120122481'}, 'itemLabel': {'xml:lang': 'en', 'type': 'literal', 'value': 'Lord Southampton'}}, {'item': {'type': 'uri', 'value': 'http://www.wikidata.org/entity/Q120127319'}, 'itemLabel': {'xml:lang': 'en', 'type': 'literal', 'value': 'Bento'}}, {'item': {'type': 'uri', 'value': 'http://www.wikidata.org/entity/Q120169853'}, 'itemLabel': {'xml:lang': 'en', 'type': 'literal', 'value': 'Bayard'}}, {'item': {'type': 'uri', 'value': 'http://www.wikidata.org/entity/Q120169873'}, 'itemLabel': {'xml:lang': 'en', 'type': 'literal', 'value': 'King Vladimir'}}, {'item': {'type': 'uri', 'value': 'http://www.wikidata.org/entity/Q120169879'}, 'itemLabel': {'xml:lang': 'en', 'type': 'literal', 'value': 'Olga'}}, {'item': {'type': 'uri', 'value': 'http://www.wikidata.org/entity/Q120169898'}, 'itemLabel': {'xml:lang': 'en', 'type': 'literal', 'value': 'Pierre Bleue'}}, {'item': {'type': 'uri', 'value': 'http://www.wikidata.org/entity/Q120169915'}, 'itemLabel': {'xml:lang': 'en', 'type': 'literal', 'value': 'Ivanovitch'}}, {'item': {'type': 'uri', 'value': 'http://www.wikidata.org/entity/Q120177782'}, 'itemLabel': {'xml:lang': 'en', 'type': 'literal', 'value': 'Bete 1'}}, {'item': {'type': 'uri', 'value': 'http://www.wikidata.org/entity/Q120181582'}, 'itemLabel': {'xml:lang': 'en', 'type': 'literal', 'value': 'Xenophon'}}, {'item': {'type': 'uri', 'value': 'http://www.wikidata.org/entity/Q120599761'}, 'itemLabel': {'xml:lang': 'en', 'type': 'literal', 'value': 'Mignonne de Guerveur'}}, {'item': {'type': 'uri', 'value': 'http://www.wikidata.org/entity/Q120599819'}, 'itemLabel': {'type': 'literal', 'value': 'Q120599819'}}, {'item': {'type': 'uri', 'value': 'http://www.wikidata.org/entity/Q120599839'}, 'itemLabel': {'type': 'literal', 'value': 'Q120599839'}}, {'item': {'type': 'uri', 'value': 'http://www.wikidata.org/entity/Q120599900'}, 'itemLabel': {'type': 'literal', 'value': 'Q120599900'}}, {'item': {'type': 'uri', 'value': 'http://www.wikidata.org/entity/Q120599913'}, 'itemLabel': {'type': 'literal', 'value': 'Q120599913'}}, {'item': {'type': 'uri', 'value': 'http://www.wikidata.org/entity/Q120601330'}, 'itemLabel': {'xml:lang': 'en', 'type': 'literal', 'value': 'Pacha'}}, {'item': {'type': 'uri', 'value': 'http://www.wikidata.org/entity/Q120601455'}, 'itemLabel': {'xml:lang': 'en', 'type': 'literal', 'value': 'Mirroum'}}, {'item': {'type': 'uri', 'value': 'http://www.wikidata.org/entity/Q120601666'}, 'itemLabel': {'xml:lang': 'en', 'type': 'literal', 'value': 'Gouerch de Guerveur'}}, {'item': {'type': 'uri', 'value': 'http://www.wikidata.org/entity/Q120601812'}, 'itemLabel': {'xml:lang': 'en', 'type': 'literal', 'value': 'Heliotrope de Guerveur'}}, {'item': {'type': 'uri', 'value': 'http://www.wikidata.org/entity/Q120601948'}, 'itemLabel': {'type': 'literal', 'value': 'Q120601948'}}, {'item': {'type': 'uri', 'value': 'http://www.wikidata.org/entity/Q120602069'}, 'itemLabel': {'type': 'literal', 'value': 'Q120602069'}}, {'item': {'type': 'uri', 'value': 'http://www.wikidata.org/entity/Q120602737'}, 'itemLabel': {'type': 'literal', 'value': 'Q120602737'}}, {'item': {'type': 'uri', 'value': 'http://www.wikidata.org/entity/Q120602877'}, 'itemLabel': {'type': 'literal', 'value': 'Q120602877'}}, {'item': {'type': 'uri', 'value': 'http://www.wikidata.org/entity/Q120603399'}, 'itemLabel': {'type': 'literal', 'value': 'Q120603399'}}, {'item': {'type': 'uri', 'value': 'http://www.wikidata.org/entity/Q120603552'}, 'itemLabel': {'type': 'literal', 'value': 'Q120603552'}}, {'item': {'type': 'uri', 'value': 'http://www.wikidata.org/entity/Q120603664'}, 'itemLabel': {'type': 'literal', 'value': 'Q120603664'}}, {'item': {'type': 'uri', 'value': 'http://www.wikidata.org/entity/Q120753060'}, 'itemLabel': {'type': 'literal', 'value': 'Q120753060'}}]}}\n"
          ]
        }
      ],
      "source": [
        "# pip install sparqlwrapper\n",
        "# https://rdflib.github.io/sparqlwrapper/\n",
        "\n",
        "import sys\n",
        "from SPARQLWrapper import SPARQLWrapper, JSON\n",
        "\n",
        "endpoint_url = \"https://query.wikidata.org/sparql\"\n",
        "\n",
        "query = \"\"\"#Cats\n",
        "SELECT ?item ?itemLabel\n",
        "WHERE\n",
        "{\n",
        "  ?item wdt:P31 wd:Q146. # Must be a cat\n",
        "  SERVICE wikibase:label { bd:serviceParam wikibase:language \"[AUTO_LANGUAGE],mul,en\". } # Helps get the label in your language, if not, then default for all languages, then en language\n",
        "}\"\"\"\n",
        "\n",
        "\n",
        "def get_results(endpoint_url, query):\n",
        "    user_agent = \"WDQS-example Python/%s.%s\" % (sys.version_info[0], sys.version_info[1])\n",
        "    # TODO adjust user agent; see https://w.wiki/CX6\n",
        "    sparql = SPARQLWrapper(endpoint_url, agent=user_agent)\n",
        "    sparql.setQuery(query)\n",
        "    sparql.setReturnFormat(JSON)\n",
        "    return sparql.query().convert()\n",
        "\n",
        "\n",
        "results = get_results(endpoint_url, query)\n",
        "\n",
        "# for result in results[\"results\"][\"bindings\"]:\n",
        "#     print(result)\n",
        "\n",
        "print(results)"
      ]
    },
    {
      "cell_type": "markdown",
      "metadata": {
        "id": "2BP-IjMPznHA"
      },
      "source": []
    },
    {
      "cell_type": "markdown",
      "metadata": {
        "id": "7JPRaluVzmkG"
      },
      "source": [
        "## Property as Label"
      ]
    },
    {
      "cell_type": "code",
      "execution_count": null,
      "metadata": {
        "colab": {
          "base_uri": "https://localhost:8080/",
          "height": 333
        },
        "id": "ck8CMlQf4qWc",
        "outputId": "f4f9d051-ee35-4fd2-a781-6340c09577de"
      },
      "outputs": [
        {
          "name": "stdout",
          "output_type": "stream",
          "text": [
            "Processing modality: image (QID: Q478798)\n"
          ]
        },
        {
          "ename": "HTTPError",
          "evalue": "HTTP Error 429: Too Many Requests",
          "output_type": "error",
          "traceback": [
            "\u001b[0;31m---------------------------------------------------------------------------\u001b[0m",
            "\u001b[0;31mHTTPError\u001b[0m                                 Traceback (most recent call last)",
            "\u001b[0;32m<ipython-input-47-d554602d6161>\u001b[0m in \u001b[0;36m<cell line: 0>\u001b[0;34m()\u001b[0m\n\u001b[1;32m    173\u001b[0m \u001b[0;34m\u001b[0m\u001b[0m\n\u001b[1;32m    174\u001b[0m \u001b[0;31m# Build the knowledge graph\u001b[0m\u001b[0;34m\u001b[0m\u001b[0;34m\u001b[0m\u001b[0m\n\u001b[0;32m--> 175\u001b[0;31m \u001b[0mbuild_knowledge_graph\u001b[0m\u001b[0;34m(\u001b[0m\u001b[0mdataset\u001b[0m\u001b[0;34m,\u001b[0m \u001b[0mmax_depth\u001b[0m\u001b[0;34m=\u001b[0m\u001b[0;36m2\u001b[0m\u001b[0;34m)\u001b[0m\u001b[0;34m\u001b[0m\u001b[0;34m\u001b[0m\u001b[0m\n\u001b[0m",
            "\u001b[0;32m<ipython-input-47-d554602d6161>\u001b[0m in \u001b[0;36mbuild_knowledge_graph\u001b[0;34m(dataset, max_depth)\u001b[0m\n\u001b[1;32m    159\u001b[0m \u001b[0;34m\u001b[0m\u001b[0m\n\u001b[1;32m    160\u001b[0m                     \u001b[0;31m# Recursively query data_type properties\u001b[0m\u001b[0;34m\u001b[0m\u001b[0;34m\u001b[0m\u001b[0m\n\u001b[0;32m--> 161\u001b[0;31m                     \u001b[0mrecursive_query\u001b[0m\u001b[0;34m(\u001b[0m\u001b[0mdata_type_qid\u001b[0m\u001b[0;34m,\u001b[0m \u001b[0mlabel\u001b[0m\u001b[0;34m=\u001b[0m\u001b[0mdata_type\u001b[0m\u001b[0;34m,\u001b[0m \u001b[0mdepth\u001b[0m\u001b[0;34m=\u001b[0m\u001b[0;36m0\u001b[0m\u001b[0;34m,\u001b[0m \u001b[0mmax_depth\u001b[0m\u001b[0;34m=\u001b[0m\u001b[0mmax_depth\u001b[0m\u001b[0;34m)\u001b[0m\u001b[0;34m\u001b[0m\u001b[0;34m\u001b[0m\u001b[0m\n\u001b[0m\u001b[1;32m    162\u001b[0m \u001b[0;34m\u001b[0m\u001b[0m\n\u001b[1;32m    163\u001b[0m     \u001b[0;31m# Save the knowledge graph as Turtle and OWL format\u001b[0m\u001b[0;34m\u001b[0m\u001b[0;34m\u001b[0m\u001b[0m\n",
            "\u001b[0;32m<ipython-input-47-d554602d6161>\u001b[0m in \u001b[0;36mrecursive_query\u001b[0;34m(qid, label, depth, max_depth)\u001b[0m\n\u001b[1;32m     78\u001b[0m \u001b[0;34m\u001b[0m\u001b[0m\n\u001b[1;32m     79\u001b[0m     \u001b[0;31m# Query entity properties\u001b[0m\u001b[0;34m\u001b[0m\u001b[0;34m\u001b[0m\u001b[0m\n\u001b[0;32m---> 80\u001b[0;31m     \u001b[0mresults\u001b[0m \u001b[0;34m=\u001b[0m \u001b[0mquery_wikidata_properties\u001b[0m\u001b[0;34m(\u001b[0m\u001b[0mqid\u001b[0m\u001b[0;34m)\u001b[0m\u001b[0;34m\u001b[0m\u001b[0;34m\u001b[0m\u001b[0m\n\u001b[0m\u001b[1;32m     81\u001b[0m \u001b[0;34m\u001b[0m\u001b[0m\n\u001b[1;32m     82\u001b[0m \u001b[0;34m\u001b[0m\u001b[0m\n",
            "\u001b[0;32m<ipython-input-47-d554602d6161>\u001b[0m in \u001b[0;36mquery_wikidata_properties\u001b[0;34m(qid)\u001b[0m\n\u001b[1;32m     69\u001b[0m     \u001b[0msparql\u001b[0m\u001b[0;34m.\u001b[0m\u001b[0msetReturnFormat\u001b[0m\u001b[0;34m(\u001b[0m\u001b[0mJSON\u001b[0m\u001b[0;34m)\u001b[0m\u001b[0;34m\u001b[0m\u001b[0;34m\u001b[0m\u001b[0m\n\u001b[1;32m     70\u001b[0m     \u001b[0mtime\u001b[0m\u001b[0;34m.\u001b[0m\u001b[0msleep\u001b[0m\u001b[0;34m(\u001b[0m\u001b[0;36m1\u001b[0m\u001b[0;34m)\u001b[0m\u001b[0;34m\u001b[0m\u001b[0;34m\u001b[0m\u001b[0m\n\u001b[0;32m---> 71\u001b[0;31m     \u001b[0mresults\u001b[0m \u001b[0;34m=\u001b[0m \u001b[0msparql\u001b[0m\u001b[0;34m.\u001b[0m\u001b[0mquery\u001b[0m\u001b[0;34m(\u001b[0m\u001b[0;34m)\u001b[0m\u001b[0;34m.\u001b[0m\u001b[0mconvert\u001b[0m\u001b[0;34m(\u001b[0m\u001b[0;34m)\u001b[0m\u001b[0;34m\u001b[0m\u001b[0;34m\u001b[0m\u001b[0m\n\u001b[0m\u001b[1;32m     72\u001b[0m     \u001b[0;32mreturn\u001b[0m \u001b[0mresults\u001b[0m\u001b[0;34m[\u001b[0m\u001b[0;34m\"results\"\u001b[0m\u001b[0;34m]\u001b[0m\u001b[0;34m[\u001b[0m\u001b[0;34m\"bindings\"\u001b[0m\u001b[0;34m]\u001b[0m\u001b[0;34m\u001b[0m\u001b[0;34m\u001b[0m\u001b[0m\n\u001b[1;32m     73\u001b[0m \u001b[0;34m\u001b[0m\u001b[0m\n",
            "\u001b[0;32m/usr/local/lib/python3.11/dist-packages/SPARQLWrapper/Wrapper.py\u001b[0m in \u001b[0;36mquery\u001b[0;34m(self)\u001b[0m\n\u001b[1;32m    958\u001b[0m         \u001b[0;34m:\u001b[0m\u001b[0mrtype\u001b[0m\u001b[0;34m:\u001b[0m \u001b[0;34m:\u001b[0m\u001b[0;32mclass\u001b[0m\u001b[0;34m:\u001b[0m\u001b[0;31m`\u001b[0m\u001b[0mQueryResult\u001b[0m\u001b[0;31m`\u001b[0m \u001b[0minstance\u001b[0m\u001b[0;34m\u001b[0m\u001b[0;34m\u001b[0m\u001b[0m\n\u001b[1;32m    959\u001b[0m         \"\"\"\n\u001b[0;32m--> 960\u001b[0;31m         \u001b[0;32mreturn\u001b[0m \u001b[0mQueryResult\u001b[0m\u001b[0;34m(\u001b[0m\u001b[0mself\u001b[0m\u001b[0;34m.\u001b[0m\u001b[0m_query\u001b[0m\u001b[0;34m(\u001b[0m\u001b[0;34m)\u001b[0m\u001b[0;34m)\u001b[0m\u001b[0;34m\u001b[0m\u001b[0;34m\u001b[0m\u001b[0m\n\u001b[0m\u001b[1;32m    961\u001b[0m \u001b[0;34m\u001b[0m\u001b[0m\n\u001b[1;32m    962\u001b[0m     \u001b[0;32mdef\u001b[0m \u001b[0mqueryAndConvert\u001b[0m\u001b[0;34m(\u001b[0m\u001b[0mself\u001b[0m\u001b[0;34m)\u001b[0m \u001b[0;34m->\u001b[0m \u001b[0;34m\"QueryResult.ConvertResult\"\u001b[0m\u001b[0;34m:\u001b[0m\u001b[0;34m\u001b[0m\u001b[0;34m\u001b[0m\u001b[0m\n",
            "\u001b[0;32m/usr/local/lib/python3.11/dist-packages/SPARQLWrapper/Wrapper.py\u001b[0m in \u001b[0;36m_query\u001b[0;34m(self)\u001b[0m\n\u001b[1;32m    938\u001b[0m                 \u001b[0;32mraise\u001b[0m \u001b[0mEndPointInternalError\u001b[0m\u001b[0;34m(\u001b[0m\u001b[0me\u001b[0m\u001b[0;34m.\u001b[0m\u001b[0mread\u001b[0m\u001b[0;34m(\u001b[0m\u001b[0;34m)\u001b[0m\u001b[0;34m)\u001b[0m\u001b[0;34m\u001b[0m\u001b[0;34m\u001b[0m\u001b[0m\n\u001b[1;32m    939\u001b[0m             \u001b[0;32melse\u001b[0m\u001b[0;34m:\u001b[0m\u001b[0;34m\u001b[0m\u001b[0;34m\u001b[0m\u001b[0m\n\u001b[0;32m--> 940\u001b[0;31m                 \u001b[0;32mraise\u001b[0m \u001b[0me\u001b[0m\u001b[0;34m\u001b[0m\u001b[0;34m\u001b[0m\u001b[0m\n\u001b[0m\u001b[1;32m    941\u001b[0m \u001b[0;34m\u001b[0m\u001b[0m\n\u001b[1;32m    942\u001b[0m     \u001b[0;32mdef\u001b[0m \u001b[0mquery\u001b[0m\u001b[0;34m(\u001b[0m\u001b[0mself\u001b[0m\u001b[0;34m)\u001b[0m \u001b[0;34m->\u001b[0m \u001b[0;34m\"QueryResult\"\u001b[0m\u001b[0;34m:\u001b[0m\u001b[0;34m\u001b[0m\u001b[0;34m\u001b[0m\u001b[0m\n",
            "\u001b[0;32m/usr/local/lib/python3.11/dist-packages/SPARQLWrapper/Wrapper.py\u001b[0m in \u001b[0;36m_query\u001b[0;34m(self)\u001b[0m\n\u001b[1;32m    924\u001b[0m                 \u001b[0mresponse\u001b[0m \u001b[0;34m=\u001b[0m \u001b[0murlopener\u001b[0m\u001b[0;34m(\u001b[0m\u001b[0mrequest\u001b[0m\u001b[0;34m,\u001b[0m \u001b[0mtimeout\u001b[0m\u001b[0;34m=\u001b[0m\u001b[0mself\u001b[0m\u001b[0;34m.\u001b[0m\u001b[0mtimeout\u001b[0m\u001b[0;34m)\u001b[0m\u001b[0;34m\u001b[0m\u001b[0;34m\u001b[0m\u001b[0m\n\u001b[1;32m    925\u001b[0m             \u001b[0;32melse\u001b[0m\u001b[0;34m:\u001b[0m\u001b[0;34m\u001b[0m\u001b[0;34m\u001b[0m\u001b[0m\n\u001b[0;32m--> 926\u001b[0;31m                 \u001b[0mresponse\u001b[0m \u001b[0;34m=\u001b[0m \u001b[0murlopener\u001b[0m\u001b[0;34m(\u001b[0m\u001b[0mrequest\u001b[0m\u001b[0;34m)\u001b[0m\u001b[0;34m\u001b[0m\u001b[0;34m\u001b[0m\u001b[0m\n\u001b[0m\u001b[1;32m    927\u001b[0m             \u001b[0;32mreturn\u001b[0m \u001b[0mresponse\u001b[0m\u001b[0;34m,\u001b[0m \u001b[0mself\u001b[0m\u001b[0;34m.\u001b[0m\u001b[0mreturnFormat\u001b[0m\u001b[0;34m\u001b[0m\u001b[0;34m\u001b[0m\u001b[0m\n\u001b[1;32m    928\u001b[0m         \u001b[0;32mexcept\u001b[0m \u001b[0murllib\u001b[0m\u001b[0;34m.\u001b[0m\u001b[0merror\u001b[0m\u001b[0;34m.\u001b[0m\u001b[0mHTTPError\u001b[0m \u001b[0;32mas\u001b[0m \u001b[0me\u001b[0m\u001b[0;34m:\u001b[0m\u001b[0;34m\u001b[0m\u001b[0;34m\u001b[0m\u001b[0m\n",
            "\u001b[0;32m/usr/lib/python3.11/urllib/request.py\u001b[0m in \u001b[0;36murlopen\u001b[0;34m(url, data, timeout, cafile, capath, cadefault, context)\u001b[0m\n\u001b[1;32m    214\u001b[0m     \u001b[0;32melse\u001b[0m\u001b[0;34m:\u001b[0m\u001b[0;34m\u001b[0m\u001b[0;34m\u001b[0m\u001b[0m\n\u001b[1;32m    215\u001b[0m         \u001b[0mopener\u001b[0m \u001b[0;34m=\u001b[0m \u001b[0m_opener\u001b[0m\u001b[0;34m\u001b[0m\u001b[0;34m\u001b[0m\u001b[0m\n\u001b[0;32m--> 216\u001b[0;31m     \u001b[0;32mreturn\u001b[0m \u001b[0mopener\u001b[0m\u001b[0;34m.\u001b[0m\u001b[0mopen\u001b[0m\u001b[0;34m(\u001b[0m\u001b[0murl\u001b[0m\u001b[0;34m,\u001b[0m \u001b[0mdata\u001b[0m\u001b[0;34m,\u001b[0m \u001b[0mtimeout\u001b[0m\u001b[0;34m)\u001b[0m\u001b[0;34m\u001b[0m\u001b[0;34m\u001b[0m\u001b[0m\n\u001b[0m\u001b[1;32m    217\u001b[0m \u001b[0;34m\u001b[0m\u001b[0m\n\u001b[1;32m    218\u001b[0m \u001b[0;32mdef\u001b[0m \u001b[0minstall_opener\u001b[0m\u001b[0;34m(\u001b[0m\u001b[0mopener\u001b[0m\u001b[0;34m)\u001b[0m\u001b[0;34m:\u001b[0m\u001b[0;34m\u001b[0m\u001b[0;34m\u001b[0m\u001b[0m\n",
            "\u001b[0;32m/usr/lib/python3.11/urllib/request.py\u001b[0m in \u001b[0;36mopen\u001b[0;34m(self, fullurl, data, timeout)\u001b[0m\n\u001b[1;32m    523\u001b[0m         \u001b[0;32mfor\u001b[0m \u001b[0mprocessor\u001b[0m \u001b[0;32min\u001b[0m \u001b[0mself\u001b[0m\u001b[0;34m.\u001b[0m\u001b[0mprocess_response\u001b[0m\u001b[0;34m.\u001b[0m\u001b[0mget\u001b[0m\u001b[0;34m(\u001b[0m\u001b[0mprotocol\u001b[0m\u001b[0;34m,\u001b[0m \u001b[0;34m[\u001b[0m\u001b[0;34m]\u001b[0m\u001b[0;34m)\u001b[0m\u001b[0;34m:\u001b[0m\u001b[0;34m\u001b[0m\u001b[0;34m\u001b[0m\u001b[0m\n\u001b[1;32m    524\u001b[0m             \u001b[0mmeth\u001b[0m \u001b[0;34m=\u001b[0m \u001b[0mgetattr\u001b[0m\u001b[0;34m(\u001b[0m\u001b[0mprocessor\u001b[0m\u001b[0;34m,\u001b[0m \u001b[0mmeth_name\u001b[0m\u001b[0;34m)\u001b[0m\u001b[0;34m\u001b[0m\u001b[0;34m\u001b[0m\u001b[0m\n\u001b[0;32m--> 525\u001b[0;31m             \u001b[0mresponse\u001b[0m \u001b[0;34m=\u001b[0m \u001b[0mmeth\u001b[0m\u001b[0;34m(\u001b[0m\u001b[0mreq\u001b[0m\u001b[0;34m,\u001b[0m \u001b[0mresponse\u001b[0m\u001b[0;34m)\u001b[0m\u001b[0;34m\u001b[0m\u001b[0;34m\u001b[0m\u001b[0m\n\u001b[0m\u001b[1;32m    526\u001b[0m \u001b[0;34m\u001b[0m\u001b[0m\n\u001b[1;32m    527\u001b[0m         \u001b[0;32mreturn\u001b[0m \u001b[0mresponse\u001b[0m\u001b[0;34m\u001b[0m\u001b[0;34m\u001b[0m\u001b[0m\n",
            "\u001b[0;32m/usr/lib/python3.11/urllib/request.py\u001b[0m in \u001b[0;36mhttp_response\u001b[0;34m(self, request, response)\u001b[0m\n\u001b[1;32m    632\u001b[0m         \u001b[0;31m# request was successfully received, understood, and accepted.\u001b[0m\u001b[0;34m\u001b[0m\u001b[0;34m\u001b[0m\u001b[0m\n\u001b[1;32m    633\u001b[0m         \u001b[0;32mif\u001b[0m \u001b[0;32mnot\u001b[0m \u001b[0;34m(\u001b[0m\u001b[0;36m200\u001b[0m \u001b[0;34m<=\u001b[0m \u001b[0mcode\u001b[0m \u001b[0;34m<\u001b[0m \u001b[0;36m300\u001b[0m\u001b[0;34m)\u001b[0m\u001b[0;34m:\u001b[0m\u001b[0;34m\u001b[0m\u001b[0;34m\u001b[0m\u001b[0m\n\u001b[0;32m--> 634\u001b[0;31m             response = self.parent.error(\n\u001b[0m\u001b[1;32m    635\u001b[0m                 'http', request, response, code, msg, hdrs)\n\u001b[1;32m    636\u001b[0m \u001b[0;34m\u001b[0m\u001b[0m\n",
            "\u001b[0;32m/usr/lib/python3.11/urllib/request.py\u001b[0m in \u001b[0;36merror\u001b[0;34m(self, proto, *args)\u001b[0m\n\u001b[1;32m    561\u001b[0m         \u001b[0;32mif\u001b[0m \u001b[0mhttp_err\u001b[0m\u001b[0;34m:\u001b[0m\u001b[0;34m\u001b[0m\u001b[0;34m\u001b[0m\u001b[0m\n\u001b[1;32m    562\u001b[0m             \u001b[0margs\u001b[0m \u001b[0;34m=\u001b[0m \u001b[0;34m(\u001b[0m\u001b[0mdict\u001b[0m\u001b[0;34m,\u001b[0m \u001b[0;34m'default'\u001b[0m\u001b[0;34m,\u001b[0m \u001b[0;34m'http_error_default'\u001b[0m\u001b[0;34m)\u001b[0m \u001b[0;34m+\u001b[0m \u001b[0morig_args\u001b[0m\u001b[0;34m\u001b[0m\u001b[0;34m\u001b[0m\u001b[0m\n\u001b[0;32m--> 563\u001b[0;31m             \u001b[0;32mreturn\u001b[0m \u001b[0mself\u001b[0m\u001b[0;34m.\u001b[0m\u001b[0m_call_chain\u001b[0m\u001b[0;34m(\u001b[0m\u001b[0;34m*\u001b[0m\u001b[0margs\u001b[0m\u001b[0;34m)\u001b[0m\u001b[0;34m\u001b[0m\u001b[0;34m\u001b[0m\u001b[0m\n\u001b[0m\u001b[1;32m    564\u001b[0m \u001b[0;34m\u001b[0m\u001b[0m\n\u001b[1;32m    565\u001b[0m \u001b[0;31m# XXX probably also want an abstract factory that knows when it makes\u001b[0m\u001b[0;34m\u001b[0m\u001b[0;34m\u001b[0m\u001b[0m\n",
            "\u001b[0;32m/usr/lib/python3.11/urllib/request.py\u001b[0m in \u001b[0;36m_call_chain\u001b[0;34m(self, chain, kind, meth_name, *args)\u001b[0m\n\u001b[1;32m    494\u001b[0m         \u001b[0;32mfor\u001b[0m \u001b[0mhandler\u001b[0m \u001b[0;32min\u001b[0m \u001b[0mhandlers\u001b[0m\u001b[0;34m:\u001b[0m\u001b[0;34m\u001b[0m\u001b[0;34m\u001b[0m\u001b[0m\n\u001b[1;32m    495\u001b[0m             \u001b[0mfunc\u001b[0m \u001b[0;34m=\u001b[0m \u001b[0mgetattr\u001b[0m\u001b[0;34m(\u001b[0m\u001b[0mhandler\u001b[0m\u001b[0;34m,\u001b[0m \u001b[0mmeth_name\u001b[0m\u001b[0;34m)\u001b[0m\u001b[0;34m\u001b[0m\u001b[0;34m\u001b[0m\u001b[0m\n\u001b[0;32m--> 496\u001b[0;31m             \u001b[0mresult\u001b[0m \u001b[0;34m=\u001b[0m \u001b[0mfunc\u001b[0m\u001b[0;34m(\u001b[0m\u001b[0;34m*\u001b[0m\u001b[0margs\u001b[0m\u001b[0;34m)\u001b[0m\u001b[0;34m\u001b[0m\u001b[0;34m\u001b[0m\u001b[0m\n\u001b[0m\u001b[1;32m    497\u001b[0m             \u001b[0;32mif\u001b[0m \u001b[0mresult\u001b[0m \u001b[0;32mis\u001b[0m \u001b[0;32mnot\u001b[0m \u001b[0;32mNone\u001b[0m\u001b[0;34m:\u001b[0m\u001b[0;34m\u001b[0m\u001b[0;34m\u001b[0m\u001b[0m\n\u001b[1;32m    498\u001b[0m                 \u001b[0;32mreturn\u001b[0m \u001b[0mresult\u001b[0m\u001b[0;34m\u001b[0m\u001b[0;34m\u001b[0m\u001b[0m\n",
            "\u001b[0;32m/usr/lib/python3.11/urllib/request.py\u001b[0m in \u001b[0;36mhttp_error_default\u001b[0;34m(self, req, fp, code, msg, hdrs)\u001b[0m\n\u001b[1;32m    641\u001b[0m \u001b[0;32mclass\u001b[0m \u001b[0mHTTPDefaultErrorHandler\u001b[0m\u001b[0;34m(\u001b[0m\u001b[0mBaseHandler\u001b[0m\u001b[0;34m)\u001b[0m\u001b[0;34m:\u001b[0m\u001b[0;34m\u001b[0m\u001b[0;34m\u001b[0m\u001b[0m\n\u001b[1;32m    642\u001b[0m     \u001b[0;32mdef\u001b[0m \u001b[0mhttp_error_default\u001b[0m\u001b[0;34m(\u001b[0m\u001b[0mself\u001b[0m\u001b[0;34m,\u001b[0m \u001b[0mreq\u001b[0m\u001b[0;34m,\u001b[0m \u001b[0mfp\u001b[0m\u001b[0;34m,\u001b[0m \u001b[0mcode\u001b[0m\u001b[0;34m,\u001b[0m \u001b[0mmsg\u001b[0m\u001b[0;34m,\u001b[0m \u001b[0mhdrs\u001b[0m\u001b[0;34m)\u001b[0m\u001b[0;34m:\u001b[0m\u001b[0;34m\u001b[0m\u001b[0;34m\u001b[0m\u001b[0m\n\u001b[0;32m--> 643\u001b[0;31m         \u001b[0;32mraise\u001b[0m \u001b[0mHTTPError\u001b[0m\u001b[0;34m(\u001b[0m\u001b[0mreq\u001b[0m\u001b[0;34m.\u001b[0m\u001b[0mfull_url\u001b[0m\u001b[0;34m,\u001b[0m \u001b[0mcode\u001b[0m\u001b[0;34m,\u001b[0m \u001b[0mmsg\u001b[0m\u001b[0;34m,\u001b[0m \u001b[0mhdrs\u001b[0m\u001b[0;34m,\u001b[0m \u001b[0mfp\u001b[0m\u001b[0;34m)\u001b[0m\u001b[0;34m\u001b[0m\u001b[0;34m\u001b[0m\u001b[0m\n\u001b[0m\u001b[1;32m    644\u001b[0m \u001b[0;34m\u001b[0m\u001b[0m\n\u001b[1;32m    645\u001b[0m \u001b[0;32mclass\u001b[0m \u001b[0mHTTPRedirectHandler\u001b[0m\u001b[0;34m(\u001b[0m\u001b[0mBaseHandler\u001b[0m\u001b[0;34m)\u001b[0m\u001b[0;34m:\u001b[0m\u001b[0;34m\u001b[0m\u001b[0;34m\u001b[0m\u001b[0m\n",
            "\u001b[0;31mHTTPError\u001b[0m: HTTP Error 429: Too Many Requests"
          ]
        }
      ],
      "source": [
        "from rdflib import Namespace, Graph, RDF, RDFS, Literal\n",
        "import json\n",
        "from SPARQLWrapper import SPARQLWrapper, JSON\n",
        "\n",
        "# Set up Wikidata SPARQL endpoint\n",
        "SPARQL_ENDPOINT = \"https://query.wikidata.org/sparql\"\n",
        "\n",
        "# From label get qid\n",
        "def get_qid(label):\n",
        "    \"\"\"Get the QID of an entity based on its label.\"\"\"\n",
        "    time.sleep(1)\n",
        "    logging.info(f\"Fetching QID for label: {label}\")\n",
        "    query = f\"\"\"\n",
        "    SELECT ?entity WHERE {{\n",
        "      ?entity rdfs:label \"{label}\"@en.\n",
        "      FILTER (STRSTARTS(STR(?entity), \"http://www.wikidata.org/entity/Q\"))\n",
        "    }}\n",
        "    LIMIT 1\n",
        "    \"\"\"\n",
        "    sparql = SPARQLWrapper(SPARQL_ENDPOINT)\n",
        "    sparql.setQuery(query)\n",
        "    sparql.setReturnFormat(JSON)\n",
        "    results = sparql.query().convert()\n",
        "\n",
        "    if results[\"results\"][\"bindings\"]:\n",
        "        qid = results[\"results\"][\"bindings\"][0][\"entity\"][\"value\"].split(\"/\")[-1]\n",
        "        logging.info(f\"Found QID for {label}: {qid}\")\n",
        "        return qid\n",
        "    else:\n",
        "        logging.warning(f\"No QID found for label: {label}\")\n",
        "    return None\n",
        "\n",
        "# Define namespaces\n",
        "MP = Namespace(\"http://masterproject.org/\")\n",
        "WIKIDATA = Namespace(\"http://www.wikidata.org/entity/\")\n",
        "\n",
        "# Create RDF graph\n",
        "g = Graph()\n",
        "g.bind(\"mp\", MP)\n",
        "g.bind(\"wikidata\", WIKIDATA)\n",
        "\n",
        "# Avoid duplicate queries\n",
        "queried_nodes = set()\n",
        "\n",
        "# List of relevant properties\n",
        "RELEVANT_PROPERTIES = [\n",
        "    \"P31\", \"P279\", \"P361\", \"P1269\", \"P527\", \"P2670\", \"P2701\", \"P1163\",\n",
        "    \"P1195\", \"P4330\", \"P366\", \"P1535\", \"P101\", \"P921\", \"P1552\", \"P13044\",\n",
        "    \"P3575\"]\n",
        "\n",
        "def query_wikidata_properties(qid):\n",
        "    # time.sleep(1)\n",
        "    \"\"\"Query Wikidata properties for a given entity\"\"\"\n",
        "    if qid in queried_nodes:\n",
        "        return []\n",
        "    queried_nodes.add(qid)\n",
        "\n",
        "    query = f\"\"\"\n",
        "    SELECT ?property ?propertyLabel ?value ?valueLabel WHERE {{\n",
        "      wd:{qid} ?p ?value.\n",
        "      ?property wikibase:directClaim ?p.\n",
        "      FILTER (?property IN (wd:{\", wd:\".join(RELEVANT_PROPERTIES)}))\n",
        "      OPTIONAL {{ ?value rdfs:label ?valueLabel. FILTER(LANG(?valueLabel) = \"en\") }}\n",
        "      SERVICE wikibase:label {{ bd:serviceParam wikibase:language \"en\". }}\n",
        "    }}\n",
        "    \"\"\"\n",
        "    sparql = SPARQLWrapper(SPARQL_ENDPOINT)\n",
        "    sparql.setQuery(query)\n",
        "    sparql.setReturnFormat(JSON)\n",
        "    time.sleep(1)\n",
        "    results = sparql.query().convert()\n",
        "    return results[\"results\"][\"bindings\"]\n",
        "\n",
        "def recursive_query(qid, label=None, depth=0, max_depth=3):\n",
        "    \"\"\"Recursively query and construct the knowledge graph\"\"\"\n",
        "    if depth > max_depth:\n",
        "        return\n",
        "\n",
        "    # Query entity properties\n",
        "    results = query_wikidata_properties(qid)\n",
        "\n",
        "\n",
        "    for result in results:\n",
        "        # print(result[\"property\"][\"value\"].split('/')[-1])\n",
        "        prop = result[\"property\"][\"value\"].split('/')[-1]\n",
        "        # prop = result[\"propertyLabel\"][\"value\"].replace(\" \", \"_\").replace(\"(\", \"_\").replace(\")\", \"_\")\n",
        "        value = result.get(\"valueLabel\", {}).get(\"value\", result[\"value\"][\"value\"])\n",
        "        value_uri = result[\"value\"][\"value\"]\n",
        "\n",
        "        # Create the full URL for the property (wikidata.org/wiki/Property:PXX)\n",
        "        property_uri = f\"https://www.wikidata.org/wiki/Property:{prop}\"\n",
        "\n",
        "        # Check if the value is a Wikidata entity\n",
        "        if \"wikidata.org/\" in value_uri:\n",
        "            value_qid = value_uri.split(\"/\")[-1]\n",
        "\n",
        "            # Create new node of type NewNode if it has not been queried\n",
        "            if value_qid not in queried_nodes:\n",
        "                g.add((WIKIDATA[value_qid], RDF.type, MP.NewNode))  # Mark the new entity as NewNode\n",
        "                queried_nodes.add(value_qid)\n",
        "\n",
        "            # Only create relationships (edges) between nodes without adding properties\n",
        "            g.add((WIKIDATA[qid], URIRef(property_uri), WIKIDATA[value_qid]))\n",
        "            if label:\n",
        "                g.add((WIKIDATA[qid], RDFS.label, Literal(label)))\n",
        "            if value:\n",
        "                g.add((WIKIDATA[value_qid], RDFS.label, Literal(value)))\n",
        "\n",
        "            # Recursively query the new node\n",
        "            recursive_query(value_qid, label=value, depth=depth + 1, max_depth=max_depth)\n",
        "\n",
        "        # Handle relationships between properties and new nodes\n",
        "        if value_uri and \"wikidata.org/entity/\" in value_uri:\n",
        "            value_qid = value_uri.split(\"/\")[-1]\n",
        "            if value_qid not in queried_nodes:\n",
        "                g.add((WIKIDATA[value_qid], RDF.type, MP.NewNode))  # Mark the new entity as NewNode\n",
        "                queried_nodes.add(value_qid)\n",
        "\n",
        "            # Add edges based on RELEVANT_PROPERTIES between new nodes\n",
        "            g.add((WIKIDATA[qid], URIRef(property_uri), WIKIDATA[value_qid]))  # Add relationship edge\n",
        "\n",
        "def build_knowledge_graph(dataset, max_depth=3):\n",
        "    \"\"\"Build the knowledge graph from the dataset\"\"\"\n",
        "    for entry in dataset:\n",
        "        modality = entry[\"modality\"]\n",
        "        data_types = entry[\"data_types\"]\n",
        "\n",
        "        # Get QID for modality\n",
        "        modality_qid = entry.get(\"wikidata_id\")  # Directly use the wikidata_id from the dataset\n",
        "        if modality_qid:\n",
        "            print(f\"Processing modality: {modality} (QID: {modality_qid})\")\n",
        "\n",
        "            # Add modality node to RDF graph and attach a label\n",
        "            g.add((WIKIDATA[modality_qid], RDF.type, MP.Modality))\n",
        "            g.add((WIKIDATA[modality_qid], RDFS.label, Literal(modality)))\n",
        "\n",
        "            # Recursively query modality properties\n",
        "            recursive_query(modality_qid, label=modality, depth=0, max_depth=max_depth)\n",
        "\n",
        "            # Handle data_types\n",
        "            for data_type, properties in data_types.items():\n",
        "                data_type_qid = properties.get(\"wikidata_id\")\n",
        "\n",
        "                if data_type_qid:\n",
        "                    # If the node exists as NewNode, change its type to Datatype\n",
        "                    if (WIKIDATA[data_type_qid], RDF.type, MP.NewNode) in g:\n",
        "                        g.remove((WIKIDATA[data_type_qid], RDF.type, MP.NewNode))\n",
        "\n",
        "                    # Add data_type node to RDF graph with properties\n",
        "                    g.add((WIKIDATA[data_type_qid], RDF.type, MP.Datatype))\n",
        "                    g.add((WIKIDATA[data_type_qid], RDFS.label, Literal(data_type)))\n",
        "                    g.add((WIKIDATA[data_type_qid], MP.frequency, Literal(properties.get(\"frequency\"))))\n",
        "                    g.add((WIKIDATA[data_type_qid], MP.QID, Literal(properties.get(\"wikidata_id\"))))\n",
        "                    g.add((WIKIDATA[data_type_qid], MP.wikidata_label, Literal(properties.get(\"wikidata_label\"))))\n",
        "                    g.add((WIKIDATA[data_type_qid], MP.wikidata_description, Literal(properties.get(\"wikidata_description\"))))\n",
        "\n",
        "                    # Create custom edge between modality and data_type\n",
        "                    g.add((WIKIDATA[modality_qid], MP[\"Modality_Datatype\"], WIKIDATA[data_type_qid]))\n",
        "\n",
        "                    # Recursively query data_type properties\n",
        "                    recursive_query(data_type_qid, label=data_type, depth=0, max_depth=max_depth)\n",
        "\n",
        "    # Save the knowledge graph as Turtle and OWL format\n",
        "    g.serialize(destination=\"knowledge_graph_with_labels.ttl\", format=\"turtle\")\n",
        "    print(\"Knowledge graph saved to knowledge_graph_with_labels.ttl\")\n",
        "\n",
        "    g.serialize(destination=\"knowledge_graph_with_labels.owl\", format=\"xml\")\n",
        "    print(\"Knowledge graph saved to knowledge_graph_with_labels.owl\")\n",
        "\n",
        "# Load the matched_modalities_data_types.json file\n",
        "with open('updated_matched_modalities_data_types.json', 'r') as f:\n",
        "    dataset = json.load(f)\n",
        "\n",
        "# Build the knowledge graph\n",
        "build_knowledge_graph(dataset, max_depth=2)"
      ]
    },
    {
      "cell_type": "markdown",
      "metadata": {
        "id": "BdfwB4Hb6_3H"
      },
      "source": []
    }
  ],
  "metadata": {
    "colab": {
      "provenance": []
    },
    "kernelspec": {
      "display_name": "Python 3 (ipykernel)",
      "language": "python",
      "name": "python3"
    },
    "language_info": {
      "codemirror_mode": {
        "name": "ipython",
        "version": 3
      },
      "file_extension": ".py",
      "mimetype": "text/x-python",
      "name": "python",
      "nbconvert_exporter": "python",
      "pygments_lexer": "ipython3",
      "version": "3.10.7"
    }
  },
  "nbformat": 4,
  "nbformat_minor": 0
}