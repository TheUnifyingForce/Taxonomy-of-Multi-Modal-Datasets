{
 "cells": [
  {
   "cell_type": "code",
   "execution_count": 1,
   "metadata": {},
   "outputs": [],
   "source": [
    "import json\n",
    "\n",
    "def extract_and_reformat_output(output):\n",
    "    # parse output\n",
    "    parsed_output = json.loads(output.strip(\"```json\").strip())\n",
    "    \n",
    "    # extract and reformat modalities\n",
    "    modalities = parsed_output.get(\"modalities\", [])\n",
    "    reformatted_modalities = []\n",
    "    for modality in modalities:\n",
    "        title = modality.get(\"title\", \"\")\n",
    "        explanation = modality.get(\"explanation\", \"\")\n",
    "        data_types = modality.get(\"data_types\", [])\n",
    "        \n",
    "        reformatted_data_types = []\n",
    "        for data_type in data_types:\n",
    "            reformatted_data_types.append({\n",
    "                \"title\": data_type.get(\"title\", \"\"),\n",
    "                \"explanation\": data_type.get(\"explanation\", \"\")\n",
    "            })\n",
    "        \n",
    "        reformatted_modalities.append({\n",
    "            \"title\": title,\n",
    "            \"explanation\": explanation,\n",
    "            \"data_types\": reformatted_data_types\n",
    "        })\n",
    "    \n",
    "    return reformatted_modalities\n"
   ]
  },
  {
   "cell_type": "code",
   "execution_count": 2,
   "metadata": {},
   "outputs": [],
   "source": [
    "with open('combined_results_2.jsonl', 'r', encoding='utf-8') as infile:\n",
    "    output_data = []\n",
    "    for line in infile:\n",
    "        # parse line\n",
    "        data = json.loads(line.strip())\n",
    "        if \"output\" in data:\n",
    "            original_output = data[\"output\"]\n",
    "            if original_output.startswith(\"```json\"):\n",
    "                extracted_modalities = extract_and_reformat_output(original_output)\n",
    "                data[\"output\"] = {\"modalities\": extracted_modalities}\n",
    "        \n",
    "        output_data.append(data)\n",
    "    \n",
    "with open('reformatted_result_2.json', 'w', encoding='utf-8') as outfile:\n",
    "    json.dump(output_data, outfile, ensure_ascii=False, indent=4)"
   ]
  }
 ],
 "metadata": {
  "kernelspec": {
   "display_name": "spacy",
   "language": "python",
   "name": "python3"
  },
  "language_info": {
   "codemirror_mode": {
    "name": "ipython",
    "version": 3
   },
   "file_extension": ".py",
   "mimetype": "text/x-python",
   "name": "python",
   "nbconvert_exporter": "python",
   "pygments_lexer": "ipython3",
   "version": "3.9.19"
  }
 },
 "nbformat": 4,
 "nbformat_minor": 2
}
