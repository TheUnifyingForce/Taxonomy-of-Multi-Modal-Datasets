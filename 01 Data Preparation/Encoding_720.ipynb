{
 "cells": [
  {
   "cell_type": "code",
   "execution_count": 1,
   "id": "f26805e1",
   "metadata": {},
   "outputs": [
    {
     "name": "stdout",
     "output_type": "stream",
     "text": [
      "{'encoding': 'MacRoman', 'confidence': 0.7034628890450612, 'language': ''}\n"
     ]
    }
   ],
   "source": [
    "import chardet\n",
    "\n",
    "with open('metadata_table_720.csv', 'rb') as f:\n",
    "    result = chardet.detect(f.read())\n",
    "    print(result)"
   ]
  },
  {
   "cell_type": "code",
   "execution_count": 5,
   "id": "240d9bd8",
   "metadata": {},
   "outputs": [
    {
     "name": "stdout",
     "output_type": "stream",
     "text": [
      "{'encoding': 'UTF-8', 'confidence': 0.5049999952316284}\n"
     ]
    }
   ],
   "source": [
    "import cchardet as chardet\n",
    "\n",
    "with open('metadata_table_720.csv', 'rb') as f:\n",
    "    result = chardet.detect(f.read())\n",
    "    print(result)"
   ]
  },
  {
   "cell_type": "code",
   "execution_count": 6,
   "id": "30e674e0",
   "metadata": {},
   "outputs": [
    {
     "name": "stdout",
     "output_type": "stream",
     "text": [
      "{'encoding': 'MacRoman', 'confidence': 0.7042239159888035, 'language': ''}\n"
     ]
    }
   ],
   "source": [
    "from chardet.universaldetector import UniversalDetector\n",
    "\n",
    "detector = UniversalDetector()\n",
    "with open('metadata_table_720.csv', 'rb') as f:\n",
    "    for line in f:\n",
    "        detector.feed(line)\n",
    "        if detector.done:\n",
    "            break\n",
    "detector.close()\n",
    "print(detector.result)"
   ]
  },
  {
   "cell_type": "code",
   "execution_count": 9,
   "id": "ed10712b",
   "metadata": {},
   "outputs": [
    {
     "name": "stdout",
     "output_type": "stream",
     "text": [
      "Encoding: ascii, Count: 814221\n",
      "Encoding: MacRoman, Count: 1199252\n",
      "Encoding: Windows-1252, Count: 1233923\n",
      "Encoding: ISO-8859-1, Count: 856221\n",
      "Encoding: utf-8, Count: 101597\n",
      "Encoding: Windows-1254, Count: 20914\n",
      "Encoding: ISO-8859-9, Count: 1549\n",
      "Encoding: SHIFT_JIS, Count: 2487\n",
      "Encoding: Johab, Count: 24285\n",
      "Encoding: GB2312, Count: 22195\n",
      "Encoding: TIS-620, Count: 469\n",
      "Encoding: None, Count: 966\n",
      "Encoding: Big5, Count: 137\n",
      "Encoding: IBM866, Count: 386\n",
      "Encoding: EUC-KR, Count: 121\n",
      "Encoding: CP949, Count: 1687\n",
      "Encoding: EUC-JP, Count: 27\n",
      "Encoding: IBM855, Count: 14\n",
      "Encoding: CP932, Count: 118\n",
      "Encoding: windows-1253, Count: 3\n",
      "Encoding: Windows-1253, Count: 1\n",
      "Encoding: EUC-TW, Count: 1\n"
     ]
    }
   ],
   "source": [
    "# all encoding types in the csv\n",
    "\n",
    "import chardet\n",
    "from collections import defaultdict\n",
    "\n",
    "def detect_encodings_in_file(file_path):\n",
    "    encoding_counts = defaultdict(int)\n",
    "    with open(file_path, 'rb') as f:\n",
    "        for line in f:\n",
    "            result = chardet.detect(line)\n",
    "            encoding = result['encoding']\n",
    "            encoding_counts[encoding] += 1\n",
    "    return encoding_counts\n",
    "\n",
    "file_path = 'metadata_table_720.csv'\n",
    "encoding_counts = detect_encodings_in_file(file_path)\n",
    "for encoding, count in encoding_counts.items():\n",
    "    print(f\"Encoding: {encoding}, Count: {count}\")"
   ]
  },
  {
   "cell_type": "code",
   "execution_count": null,
   "id": "70d674ff",
   "metadata": {},
   "outputs": [],
   "source": []
  }
 ],
 "metadata": {
  "kernelspec": {
   "display_name": "Python 3 (ipykernel)",
   "language": "python",
   "name": "python3"
  },
  "language_info": {
   "codemirror_mode": {
    "name": "ipython",
    "version": 3
   },
   "file_extension": ".py",
   "mimetype": "text/x-python",
   "name": "python",
   "nbconvert_exporter": "python",
   "pygments_lexer": "ipython3",
   "version": "3.10.7"
  }
 },
 "nbformat": 4,
 "nbformat_minor": 5
}
