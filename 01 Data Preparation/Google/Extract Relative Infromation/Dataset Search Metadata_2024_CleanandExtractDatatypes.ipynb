{
 "cells": [
  {
   "cell_type": "markdown",
   "id": "3c8fc985",
   "metadata": {},
   "source": [
    "# 1.Clean Data"
   ]
  },
  {
   "cell_type": "code",
   "execution_count": 1,
   "id": "0e4e499b",
   "metadata": {},
   "outputs": [],
   "source": [
    "import pandas as pd\n",
    "import chardet\n",
    "from ftfy import fix_text\n",
    "import csv\n",
    "import re"
   ]
  },
  {
   "cell_type": "code",
   "execution_count": 2,
   "id": "100e9094",
   "metadata": {},
   "outputs": [],
   "source": [
    "low_memory=False"
   ]
  },
  {
   "cell_type": "code",
   "execution_count": 3,
   "id": "b725ff97",
   "metadata": {},
   "outputs": [
    {
     "data": {
      "text/plain": [
       "'utf-8'"
      ]
     },
     "execution_count": 3,
     "metadata": {},
     "output_type": "execute_result"
    }
   ],
   "source": [
    "input_path = '720_unique_title_description.csv'\n",
    "output_path = 'metadata_table_utf8.csv'\n",
    "\n",
    "with open(input_path, 'rb') as f:\n",
    "    raw_data = f.read(10000)\n",
    "    result = chardet.detect(raw_data)\n",
    "    encoding = result['encoding']\n",
    "\n",
    "encoding"
   ]
  },
  {
   "cell_type": "code",
   "execution_count": 4,
   "id": "36686688",
   "metadata": {},
   "outputs": [
    {
     "name": "stdout",
     "output_type": "stream",
     "text": [
      "First 100 lines have been processed and saved as metadata_table_utf8.csv.\n"
     ]
    }
   ],
   "source": [
    "with open(output_path, 'w', newline='', encoding='utf-8') as output_file:\n",
    "    writer = csv.writer(output_file)\n",
    "\n",
    "    # read the input file\n",
    "    with open(input_path, 'r', encoding=encoding) as input_file:\n",
    "        reader = csv.reader(input_file, delimiter=',')\n",
    "        for i, line in enumerate(reader):\n",
    "            if i >= 100:  # only process the first 100 lines\n",
    "                break\n",
    "            \n",
    "            # standardize the text in each field\n",
    "            fixed_line = [fix_text(field) for field in line]\n",
    "            \n",
    "            # write the fixed line to the output file\n",
    "            writer.writerow(fixed_line)\n",
    "\n",
    "print(f\"First 100 lines have been processed and saved as {output_path}.\")\n"
   ]
  },
  {
   "cell_type": "code",
   "execution_count": 5,
   "id": "d0fd1ee2",
   "metadata": {},
   "outputs": [],
   "source": [
    "df = pd.read_csv(output_path)\n",
    "\n",
    "pd.set_option('display.max_columns', None)\n",
    "pd.set_option('display.max_rows', None)\n",
    "pd.set_option('display.width', None)\n",
    "pd.set_option('display.max_colwidth', None)\n"
   ]
  },
  {
   "cell_type": "code",
   "execution_count": 6,
   "id": "36e7fa49",
   "metadata": {},
   "outputs": [
    {
     "data": {
      "text/plain": [
       "Index(['title', 'description'], dtype='object')"
      ]
     },
     "execution_count": 6,
     "metadata": {},
     "output_type": "execute_result"
    }
   ],
   "source": [
    "df.columns"
   ]
  },
  {
   "cell_type": "code",
   "execution_count": 7,
   "id": "d0902386",
   "metadata": {},
   "outputs": [
    {
     "data": {
      "text/html": [
       "<div>\n",
       "<style scoped>\n",
       "    .dataframe tbody tr th:only-of-type {\n",
       "        vertical-align: middle;\n",
       "    }\n",
       "\n",
       "    .dataframe tbody tr th {\n",
       "        vertical-align: top;\n",
       "    }\n",
       "\n",
       "    .dataframe thead th {\n",
       "        text-align: right;\n",
       "    }\n",
       "</style>\n",
       "<table border=\"1\" class=\"dataframe\">\n",
       "  <thead>\n",
       "    <tr style=\"text-align: right;\">\n",
       "      <th></th>\n",
       "      <th>title</th>\n",
       "      <th>description</th>\n",
       "    </tr>\n",
       "  </thead>\n",
       "  <tbody>\n",
       "    <tr>\n",
       "      <th>0</th>\n",
       "      <td>\\nxThe new species of the genus Atanygnathus Jacobson, 1909 (Coleoptera: Styphylinidae: Staphylininae) from Réunion Island</td>\n",
       "      <td>\\n\\002This dataset contains the digitized treatments in Plazi based on the original journal article Kocian, Matúš, Hlaváč, Peter (2019): The new species of the genus Atanygnathus Jacobson, 1909 (Coleoptera: Styphylinidae: Staphylininae) from Réunion Island. Zootaxa 4612 (1): 141-144, DOI: https://doi.org/10.11646/zootaxa.4612.1.12</td>\n",
       "    </tr>\n",
       "    <tr>\n",
       "      <th>1</th>\n",
       "      <td>\\n\"\\001Rivulus uakti sp. n. and R. amanapira sp. n. (Teleostei: Cyprinodontiformes: Rivulidae): two new species from the upper Rio Negro, Brazilian Amazon.</td>\n",
       "      <td>\\ný\\002This dataset contains the digitized treatments in Plazi based on the original journal article Wilson J. E. M. Costa (2004): Rivulus uakti sp. n. and R. amanapira sp. n. (Teleostei: Cyprinodontiformes: Rivulidae): two new species from the upper Rio Negro, Brazilian Amazon. Zootaxa 465: 1-12, URL: http://www.zoobank.org/urn:lsid:zoobank.org:pub:EFD7A94F-D68A-4A04-801C-C6B2E9DF76B8</td>\n",
       "    </tr>\n",
       "    <tr>\n",
       "      <th>2</th>\n",
       "      <td>\\n;N2 Schafer Lab N2 (Bristol, UK) | 2012-11-09T15:37:36+00:00</td>\n",
       "      <td>\\nÄ\\r&lt;blockquote&gt;\\n&lt;p&gt;This experiment is part of the &lt;em&gt;C.elegans behavioural database&lt;/em&gt;. For more information and the complete collection of experiments visit http://movement.openworm.org&lt;/p&gt;\\n&lt;/blockquote&gt;\\n\\n&lt;ul&gt;\\n&lt;li&gt;&lt;b&gt;preview link&lt;/b&gt; : https://www.youtube.com/watch?v=V16MVNPcWQ4&lt;/li&gt;\\n&lt;li&gt;&lt;b&gt;strain&lt;/b&gt; : N2&lt;/li&gt;\\n&lt;li&gt;&lt;b&gt;timestamp&lt;/b&gt; : 2012-11-09T15:37:36+00:00&lt;/li&gt;\\n&lt;li&gt;&lt;b&gt;gene&lt;/b&gt; : -N/A-&lt;/li&gt;\\n&lt;li&gt;&lt;b&gt;chromosome&lt;/b&gt; : -N/A-&lt;/li&gt;\\n&lt;li&gt;&lt;b&gt;allele&lt;/b&gt; : -N/A-&lt;/li&gt;\\n&lt;li&gt;&lt;b&gt;strain_description&lt;/b&gt; : Schafer Lab N2 (Bristol, UK)&lt;/li&gt;\\n&lt;li&gt;&lt;b&gt;sex&lt;/b&gt; : hermaphrodite&lt;/li&gt;\\n&lt;li&gt;&lt;b&gt;stage&lt;/b&gt; : adult&lt;/li&gt;\\n&lt;li&gt;&lt;b&gt;ventral_side&lt;/b&gt; : clockwise&lt;/li&gt;\\n&lt;li&gt;&lt;b&gt;media&lt;/b&gt; : NGM agar low peptone&lt;/li&gt;\\n&lt;li&gt;&lt;b&gt;arena&lt;/b&gt; :   &lt;ul&gt;\\n  &lt;li&gt;&lt;b&gt;style&lt;/b&gt; : petri&lt;/li&gt;\\n  &lt;li&gt;&lt;b&gt;size&lt;/b&gt; : 35&lt;/li&gt;\\n  &lt;li&gt;&lt;b&gt;orientation&lt;/b&gt; : away&lt;/li&gt;\\n  &lt;/ul&gt;\\n&lt;/li&gt;\\n&lt;li&gt;&lt;b&gt;food&lt;/b&gt; : OP50&lt;/li&gt;\\n&lt;li&gt;&lt;b&gt;habituation&lt;/b&gt; : 30m wait&lt;/li&gt;\\n&lt;li&gt;&lt;b&gt;who&lt;/b&gt; : Laura Grundy&lt;/li&gt;\\n&lt;li&gt;&lt;b&gt;protocol&lt;/b&gt; : Method in E. Yemini et al. doi:10.1038/nmeth.2560. Worm transferred to arena 30 minutes before recording starts.&lt;/li&gt;\\n&lt;li&gt;&lt;b&gt;lab&lt;/b&gt; :   &lt;ul&gt;\\n  &lt;li&gt;&lt;b&gt;name&lt;/b&gt; : William R Schafer&lt;/li&gt;\\n  &lt;li&gt;&lt;b&gt;location&lt;/b&gt; : MRC Laboratory of Molecular Biology, Hills Road, Cambridge, CB2 0QH, UK&lt;/li&gt;\\n  &lt;/ul&gt;\\n&lt;/li&gt;\\n&lt;li&gt;&lt;b&gt;software&lt;/b&gt; :   &lt;ul&gt;\\n  &lt;li&gt;&lt;b&gt;name&lt;/b&gt; : tierpsy (https://github.com/ver228/tierpsy-tracker)&lt;/li&gt;\\n  &lt;li&gt;&lt;b&gt;version&lt;/b&gt; : cbfc23eb4f1ac2f29be75ade7a937eed58a5b219&lt;/li&gt;\\n  &lt;li&gt;&lt;b&gt;featureID&lt;/b&gt; : @OMG&lt;/li&gt;\\n  &lt;/ul&gt;\\n&lt;/li&gt;\\n&lt;li&gt;&lt;b&gt;base_name&lt;/b&gt; : N2 on food L_2012_11_09__15_37_36___6___2&lt;/li&gt;\\n&lt;li&gt;&lt;b&gt;total time (s)&lt;/b&gt; : 899.033&lt;/li&gt;\\n&lt;li&gt;&lt;b&gt;frames per second&lt;/b&gt; : 30.03&lt;/li&gt;\\n&lt;li&gt;&lt;b&gt;video micrometers per pixel&lt;/b&gt; : 4.17406&lt;/li&gt;\\n&lt;li&gt;&lt;b&gt;number of segmented skeletons&lt;/b&gt; : 26993&lt;/li&gt;\\n&lt;/ul&gt;</td>\n",
       "    </tr>\n",
       "  </tbody>\n",
       "</table>\n",
       "</div>"
      ],
      "text/plain": [
       "                                                                                                                                                         title  \\\n",
       "0                                   \\nxThe new species of the genus Atanygnathus Jacobson, 1909 (Coleoptera: Styphylinidae: Staphylininae) from Réunion Island   \n",
       "1  \\n\"\\001Rivulus uakti sp. n. and R. amanapira sp. n. (Teleostei: Cyprinodontiformes: Rivulidae): two new species from the upper Rio Negro, Brazilian Amazon.   \n",
       "2                                                                                               \\n;N2 Schafer Lab N2 (Bristol, UK) | 2012-11-09T15:37:36+00:00   \n",
       "\n",
       "                                                                                                                                                                                                                                                                                                                                                                                                                                                                                                                                                                                                                                                                                                                                                                                                                                                                                                                                                                                                                                                                                                                                                                                                                                                                                                                                                                                                                                                                                                                                                                                                                                                                                                                                                                                                                                           description  \n",
       "0                                                                                                                                                                                                                                                                                                                                                                                                                                                                                                                                                                                                                                                                                                                                                                                                                                                                                                                                                                                                                                                                                                                                                                                                                                                                                                                                                                                                                                                                                                         \\n\\002This dataset contains the digitized treatments in Plazi based on the original journal article Kocian, Matúš, Hlaváč, Peter (2019): The new species of the genus Atanygnathus Jacobson, 1909 (Coleoptera: Styphylinidae: Staphylininae) from Réunion Island. Zootaxa 4612 (1): 141-144, DOI: https://doi.org/10.11646/zootaxa.4612.1.12  \n",
       "1                                                                                                                                                                                                                                                                                                                                                                                                                                                                                                                                                                                                                                                                                                                                                                                                                                                                                                                                                                                                                                                                                                                                                                                                                                                                                                                                                                                                                                                 \\ný\\002This dataset contains the digitized treatments in Plazi based on the original journal article Wilson J. E. M. Costa (2004): Rivulus uakti sp. n. and R. amanapira sp. n. (Teleostei: Cyprinodontiformes: Rivulidae): two new species from the upper Rio Negro, Brazilian Amazon. Zootaxa 465: 1-12, URL: http://www.zoobank.org/urn:lsid:zoobank.org:pub:EFD7A94F-D68A-4A04-801C-C6B2E9DF76B8  \n",
       "2  \\nÄ\\r<blockquote>\\n<p>This experiment is part of the <em>C.elegans behavioural database</em>. For more information and the complete collection of experiments visit http://movement.openworm.org</p>\\n</blockquote>\\n\\n<ul>\\n<li><b>preview link</b> : https://www.youtube.com/watch?v=V16MVNPcWQ4</li>\\n<li><b>strain</b> : N2</li>\\n<li><b>timestamp</b> : 2012-11-09T15:37:36+00:00</li>\\n<li><b>gene</b> : -N/A-</li>\\n<li><b>chromosome</b> : -N/A-</li>\\n<li><b>allele</b> : -N/A-</li>\\n<li><b>strain_description</b> : Schafer Lab N2 (Bristol, UK)</li>\\n<li><b>sex</b> : hermaphrodite</li>\\n<li><b>stage</b> : adult</li>\\n<li><b>ventral_side</b> : clockwise</li>\\n<li><b>media</b> : NGM agar low peptone</li>\\n<li><b>arena</b> :   <ul>\\n  <li><b>style</b> : petri</li>\\n  <li><b>size</b> : 35</li>\\n  <li><b>orientation</b> : away</li>\\n  </ul>\\n</li>\\n<li><b>food</b> : OP50</li>\\n<li><b>habituation</b> : 30m wait</li>\\n<li><b>who</b> : Laura Grundy</li>\\n<li><b>protocol</b> : Method in E. Yemini et al. doi:10.1038/nmeth.2560. Worm transferred to arena 30 minutes before recording starts.</li>\\n<li><b>lab</b> :   <ul>\\n  <li><b>name</b> : William R Schafer</li>\\n  <li><b>location</b> : MRC Laboratory of Molecular Biology, Hills Road, Cambridge, CB2 0QH, UK</li>\\n  </ul>\\n</li>\\n<li><b>software</b> :   <ul>\\n  <li><b>name</b> : tierpsy (https://github.com/ver228/tierpsy-tracker)</li>\\n  <li><b>version</b> : cbfc23eb4f1ac2f29be75ade7a937eed58a5b219</li>\\n  <li><b>featureID</b> : @OMG</li>\\n  </ul>\\n</li>\\n<li><b>base_name</b> : N2 on food L_2012_11_09__15_37_36___6___2</li>\\n<li><b>total time (s)</b> : 899.033</li>\\n<li><b>frames per second</b> : 30.03</li>\\n<li><b>video micrometers per pixel</b> : 4.17406</li>\\n<li><b>number of segmented skeletons</b> : 26993</li>\\n</ul>  "
      ]
     },
     "execution_count": 7,
     "metadata": {},
     "output_type": "execute_result"
    }
   ],
   "source": [
    "df.head(3)"
   ]
  },
  {
   "cell_type": "code",
   "execution_count": 8,
   "id": "e1e0041f",
   "metadata": {},
   "outputs": [],
   "source": [
    "def clean_text_with_structure(text):\n",
    "    # Remove unnecessary escape sequences for single and double quotes\n",
    "    text = re.sub(r'\\\\([\\'\"])', r'\\1', text)  \n",
    "    # Remove newline escape sequences followed by letters\n",
    "    text = re.sub(r'\\\\n[_A-Za-z]', '', text)  \n",
    "    # Remove newline escape sequences followed by non-alphanumeric characters\n",
    "    text = re.sub(r'\\\\n[\\W\\d]+', '', text) \n",
    "    # Remove standalone 'n' or 'r' that might be remnants of newline characters\n",
    "    text = re.sub(r'\\b[nr]+\\b', '', text)  \n",
    "    # Replace multiple newlines or carriage returns with a single newline\n",
    "    text = re.sub(r'[\\n\\r]+', '\\n', text)\n",
    "    # Remove non-ASCII characters to ensure clean text\n",
    "    text = re.sub(r'[^\\x00-\\x7F]+', '', text)\n",
    "    # Remove trailing backslashes at the end of the text\n",
    "    text = re.sub(r'\\\\$', '', text)  \n",
    "    # Replace multiple spaces with a single space\n",
    "    text = re.sub(r'\\s+', ' ', text)\n",
    "    # Trim leading and trailing whitespace\n",
    "    return text.strip()"
   ]
  },
  {
   "cell_type": "code",
   "execution_count": 9,
   "id": "b5e5ef31",
   "metadata": {},
   "outputs": [],
   "source": [
    "def clean_text_with_structure(text):\n",
    "    # Remove unnecessary escape sequences for single and double quotes\n",
    "    text = re.sub(r'\\\\([\\'\"])', r'\\1', text)  \n",
    "    # Remove newline escape sequences followed by letters\n",
    "    text = re.sub(r'\\\\n[_A-Za-z]', '', text)  \n",
    "    # Remove newline escape sequences followed by non-alphanumeric characters\n",
    "    text = re.sub(r'\\\\n[\\W\\d]+', '', text) \n",
    "    # Replace multiple newlines or carriage returns with a single newline\n",
    "    text = re.sub(r'[\\n\\r]+', '\\n', text)\n",
    "    # Remove non-ASCII characters to ensure clean text\n",
    "    text = re.sub(r'[^\\x00-\\x7F]+', '', text)\n",
    "    # Remove trailing backslashes at the end of the text\n",
    "    text = re.sub(r'\\\\$', '', text)  \n",
    "    # Replace multiple spaces with a single space\n",
    "    text = re.sub(r'\\s+', ' ', text)\n",
    "    # Trim leading and trailing whitespace\n",
    "    return text.strip()"
   ]
  },
  {
   "cell_type": "code",
   "execution_count": 10,
   "id": "7921f8a8",
   "metadata": {},
   "outputs": [],
   "source": [
    "from bs4 import BeautifulSoup\n",
    "# check if the text contains HTML tags\n",
    "def is_html(text):\n",
    "    return bool(re.search(r'<[^>]+>', text))\n",
    "\n",
    "# extract text from HTML\n",
    "def extract_text_from_html(html):\n",
    "    soup = BeautifulSoup(html, 'html.parser')\n",
    "    return soup.get_text(separator=' ', strip=True)\n",
    "\n",
    "# process the text based on whether it is HTML or plain text\n",
    "def process_html_text(text):\n",
    "    if is_html(text):\n",
    "        text = extract_text_from_html(text)\n",
    "    return text"
   ]
  },
  {
   "cell_type": "code",
   "execution_count": 11,
   "id": "93c4496d",
   "metadata": {},
   "outputs": [
    {
     "data": {
      "text/html": [
       "<div>\n",
       "<style scoped>\n",
       "    .dataframe tbody tr th:only-of-type {\n",
       "        vertical-align: middle;\n",
       "    }\n",
       "\n",
       "    .dataframe tbody tr th {\n",
       "        vertical-align: top;\n",
       "    }\n",
       "\n",
       "    .dataframe thead th {\n",
       "        text-align: right;\n",
       "    }\n",
       "</style>\n",
       "<table border=\"1\" class=\"dataframe\">\n",
       "  <thead>\n",
       "    <tr style=\"text-align: right;\">\n",
       "      <th></th>\n",
       "      <th>title</th>\n",
       "      <th>description</th>\n",
       "    </tr>\n",
       "  </thead>\n",
       "  <tbody>\n",
       "    <tr>\n",
       "      <th>0</th>\n",
       "      <td>The new species of the genus Atanygnathus Jacobson, 1909 (Coleoptera: Styphylinidae: Staphylininae) from Runion Island</td>\n",
       "      <td>This dataset contains the digitized treatments in Plazi based on the original journal article Kocian, Mat, Hlav, Peter (2019): The new species of the genus Atanygnathus Jacobson, 1909 (Coleoptera: Styphylinidae: Staphylininae) from Runion Island. Zootaxa 4612 (1): 141-144, DOI: https://doi.org/10.11646/zootaxa.4612.1.12</td>\n",
       "    </tr>\n",
       "    <tr>\n",
       "      <th>1</th>\n",
       "      <td>Rivulus uakti sp. n. and R. amanapira sp. n. (Teleostei: Cyprinodontiformes: Rivulidae): two new species from the upper Rio Negro, Brazilian Amazon.</td>\n",
       "      <td>\\n\\002This dataset contains the digitized treatments in Plazi based on the original journal article Wilson J. E. M. Costa (2004): Rivulus uakti sp. n. and R. amanapira sp. n. (Teleostei: Cyprinodontiformes: Rivulidae): two new species from the upper Rio Negro, Brazilian Amazon. Zootaxa 465: 1-12, URL: http://www.zoobank.org/urn:lsid:zoobank.org:pub:EFD7A94F-D68A-4A04-801C-C6B2E9DF76B8</td>\n",
       "    </tr>\n",
       "    <tr>\n",
       "      <th>2</th>\n",
       "      <td>N2 Schafer Lab N2 (Bristol, UK) | 2012-11-09T15:37:36+00:00</td>\n",
       "      <td>\\n\\r This experiment is part of the C.elegans behavioural database . For more information and the complete collection of experiments visit http://movement.openworm.org nn preview link : https://www.youtube.com/watch?v=V16MVNPcWQ4 strain : N2 timestamp : 2012-11-09T15:37:36+00:00 gene : -N/A- chromosome : -N/A- allele : -N/A- strain_description : Schafer Lab N2 (Bristol, UK) sex : hermaphrodite stage : adult ventral_side : clockwise media : NGM agar low peptone arena : style : petri size : 35 orientation : away n food : OP50 habituation : 30m wait who : Laura Grundy protocol : Method in E. Yemini et al. doi:10.1038/nmeth.2560. Worm transferred to arena 30 minutes before recording starts. lab : name : William R Schafer location : MRC Laboratory of Molecular Biology, Hills Road, Cambridge, CB2 0QH, UK n software : name : tierpsy (https://github.com/ver228/tierpsy-tracker) version : cbfc23eb4f1ac2f29be75ade7a937eed58a5b219 featureID : @OMG n base_name : N2 on food L_2012_11_09__15_37_36___6___2 total time (s) : 899.033 frames per second : 30.03 video micrometers per pixel : 4.17406 number of segmented skeletons : 26993 \\n</td>\n",
       "    </tr>\n",
       "    <tr>\n",
       "      <th>3</th>\n",
       "      <td>N2 Schafer Lab N2 (Bristol, UK) | 2010-07-27T10:25:00+01:00</td>\n",
       "      <td>r This experiment is part of the C.elegans behavioural database . For more information and the complete collection of experiments visit http://movement.openworm.org nn preview link : https://www.youtube.com/watch?v=AvXCqT7A_w8 strain : N2 timestamp : 2010-07-27T10:25:00+01:00 gene : -N/A- chromosome : -N/A- allele : -N/A- strain_description : Schafer Lab N2 (Bristol, UK) sex : hermaphrodite stage : adult ventral_side : anticlockwise media : NGM agar low peptone arena : style : petri size : 35 orientation : away n food : OP50 habituation : 30m wait who : Laura Grundy protocol : Method in E. Yemini et al. doi:10.1038/nmeth.2560. Worm transferred to arena 30 minutes before recording starts. lab : name : William R Schafer location : MRC Laboratory of Molecular Biology, Hills Road, Cambridge, CB2 0QH, UK n software : name : tierpsy (https://github.com/ver228/tierpsy-tracker) version : cbfc23eb4f1ac2f29be75ade7a937eed58a5b219 featureID : @OMG n base_name : N2 on food R_2010_07_27__10_25___3___1 total time (s) : 898.102 frames per second : 24.0385 video micrometers per pixel : 4.53292 number of segmented skeletons : 21410 \\n</td>\n",
       "    </tr>\n",
       "    <tr>\n",
       "      <th>4</th>\n",
       "      <td>N2 Schafer Lab N2 (Bristol, UK) | 2010-03-18T10:15:31+00:00</td>\n",
       "      <td>r This experiment is part of the C.elegans behavioural database . For more information and the complete collection of experiments visit http://movement.openworm.org nn preview link : https://www.youtube.com/watch?v=x3dejLvvtKA strain : N2 timestamp : 2010-03-18T10:15:31+00:00 gene : -N/A- chromosome : -N/A- allele : -N/A- strain_description : Schafer Lab N2 (Bristol, UK) sex : hermaphrodite stage : adult ventral_side : clockwise media : NGM agar low peptone arena : style : petri size : 35 orientation : away n food : OP50 habituation : 30m wait who : Laura Grundy protocol : Method in E. Yemini et al. doi:10.1038/nmeth.2560. Worm transferred to arena 30 minutes before recording starts. lab : name : William R Schafer location : MRC Laboratory of Molecular Biology, Hills Road, Cambridge, CB2 0QH, UK n software : name : tierpsy (https://github.com/ver228/tierpsy-tracker) version : cbfc23eb4f1ac2f29be75ade7a937eed58a5b219 featureID : @OMG n base_name : N2 on food L_2010_03_18__10_15_31___7___1 total time (s) : 898.794 frames per second : 25.641 video micrometers per pixel : 4.31067 number of segmented skeletons : 18616 \\n</td>\n",
       "    </tr>\n",
       "  </tbody>\n",
       "</table>\n",
       "</div>"
      ],
      "text/plain": [
       "                                                                                                                                                  title  \\\n",
       "0                                The new species of the genus Atanygnathus Jacobson, 1909 (Coleoptera: Styphylinidae: Staphylininae) from Runion Island   \n",
       "1  Rivulus uakti sp. n. and R. amanapira sp. n. (Teleostei: Cyprinodontiformes: Rivulidae): two new species from the upper Rio Negro, Brazilian Amazon.   \n",
       "2                                                                                           N2 Schafer Lab N2 (Bristol, UK) | 2012-11-09T15:37:36+00:00   \n",
       "3                                                                                           N2 Schafer Lab N2 (Bristol, UK) | 2010-07-27T10:25:00+01:00   \n",
       "4                                                                                           N2 Schafer Lab N2 (Bristol, UK) | 2010-03-18T10:15:31+00:00   \n",
       "\n",
       "                                                                                                                                                                                                                                                                                                                                                                                                                                                                                                                                                                                                                                                                                                                                                                                                                                                                                                                                                                                                                                                                                                                                                                       description  \n",
       "0                                                                                                                                                                                                                                                                                                                                                                                                                                                                                                                                                                                                                                                                                                                                                                                                                                                This dataset contains the digitized treatments in Plazi based on the original journal article Kocian, Mat, Hlav, Peter (2019): The new species of the genus Atanygnathus Jacobson, 1909 (Coleoptera: Styphylinidae: Staphylininae) from Runion Island. Zootaxa 4612 (1): 141-144, DOI: https://doi.org/10.11646/zootaxa.4612.1.12  \n",
       "1                                                                                                                                                                                                                                                                                                                                                                                                                                                                                                                                                                                                                                                                                                                                                                              \\n\\002This dataset contains the digitized treatments in Plazi based on the original journal article Wilson J. E. M. Costa (2004): Rivulus uakti sp. n. and R. amanapira sp. n. (Teleostei: Cyprinodontiformes: Rivulidae): two new species from the upper Rio Negro, Brazilian Amazon. Zootaxa 465: 1-12, URL: http://www.zoobank.org/urn:lsid:zoobank.org:pub:EFD7A94F-D68A-4A04-801C-C6B2E9DF76B8  \n",
       "2  \\n\\r This experiment is part of the C.elegans behavioural database . For more information and the complete collection of experiments visit http://movement.openworm.org nn preview link : https://www.youtube.com/watch?v=V16MVNPcWQ4 strain : N2 timestamp : 2012-11-09T15:37:36+00:00 gene : -N/A- chromosome : -N/A- allele : -N/A- strain_description : Schafer Lab N2 (Bristol, UK) sex : hermaphrodite stage : adult ventral_side : clockwise media : NGM agar low peptone arena : style : petri size : 35 orientation : away n food : OP50 habituation : 30m wait who : Laura Grundy protocol : Method in E. Yemini et al. doi:10.1038/nmeth.2560. Worm transferred to arena 30 minutes before recording starts. lab : name : William R Schafer location : MRC Laboratory of Molecular Biology, Hills Road, Cambridge, CB2 0QH, UK n software : name : tierpsy (https://github.com/ver228/tierpsy-tracker) version : cbfc23eb4f1ac2f29be75ade7a937eed58a5b219 featureID : @OMG n base_name : N2 on food L_2012_11_09__15_37_36___6___2 total time (s) : 899.033 frames per second : 30.03 video micrometers per pixel : 4.17406 number of segmented skeletons : 26993 \\n  \n",
       "3  r This experiment is part of the C.elegans behavioural database . For more information and the complete collection of experiments visit http://movement.openworm.org nn preview link : https://www.youtube.com/watch?v=AvXCqT7A_w8 strain : N2 timestamp : 2010-07-27T10:25:00+01:00 gene : -N/A- chromosome : -N/A- allele : -N/A- strain_description : Schafer Lab N2 (Bristol, UK) sex : hermaphrodite stage : adult ventral_side : anticlockwise media : NGM agar low peptone arena : style : petri size : 35 orientation : away n food : OP50 habituation : 30m wait who : Laura Grundy protocol : Method in E. Yemini et al. doi:10.1038/nmeth.2560. Worm transferred to arena 30 minutes before recording starts. lab : name : William R Schafer location : MRC Laboratory of Molecular Biology, Hills Road, Cambridge, CB2 0QH, UK n software : name : tierpsy (https://github.com/ver228/tierpsy-tracker) version : cbfc23eb4f1ac2f29be75ade7a937eed58a5b219 featureID : @OMG n base_name : N2 on food R_2010_07_27__10_25___3___1 total time (s) : 898.102 frames per second : 24.0385 video micrometers per pixel : 4.53292 number of segmented skeletons : 21410 \\n  \n",
       "4    r This experiment is part of the C.elegans behavioural database . For more information and the complete collection of experiments visit http://movement.openworm.org nn preview link : https://www.youtube.com/watch?v=x3dejLvvtKA strain : N2 timestamp : 2010-03-18T10:15:31+00:00 gene : -N/A- chromosome : -N/A- allele : -N/A- strain_description : Schafer Lab N2 (Bristol, UK) sex : hermaphrodite stage : adult ventral_side : clockwise media : NGM agar low peptone arena : style : petri size : 35 orientation : away n food : OP50 habituation : 30m wait who : Laura Grundy protocol : Method in E. Yemini et al. doi:10.1038/nmeth.2560. Worm transferred to arena 30 minutes before recording starts. lab : name : William R Schafer location : MRC Laboratory of Molecular Biology, Hills Road, Cambridge, CB2 0QH, UK n software : name : tierpsy (https://github.com/ver228/tierpsy-tracker) version : cbfc23eb4f1ac2f29be75ade7a937eed58a5b219 featureID : @OMG n base_name : N2 on food L_2010_03_18__10_15_31___7___1 total time (s) : 898.794 frames per second : 25.641 video micrometers per pixel : 4.31067 number of segmented skeletons : 18616 \\n  "
      ]
     },
     "execution_count": 11,
     "metadata": {},
     "output_type": "execute_result"
    }
   ],
   "source": [
    "# clean the text in the 'title' and 'description' columns\n",
    "df['title'] = df['title'].apply(clean_text_with_structure)\n",
    "df['description'] = df['description'].apply(process_html_text)\n",
    "df['description'] = df['description'].apply(clean_text_with_structure)\n",
    "\n",
    "df.head(5)"
   ]
  },
  {
   "cell_type": "markdown",
   "id": "188dd599",
   "metadata": {},
   "source": [
    "# 2. Extract Datatypes"
   ]
  },
  {
   "cell_type": "markdown",
   "id": "7d32f159",
   "metadata": {},
   "source": [
    "## 2.1 Spacy"
   ]
  },
  {
   "cell_type": "code",
   "execution_count": 12,
   "id": "4810a758",
   "metadata": {},
   "outputs": [
    {
     "name": "stderr",
     "output_type": "stream",
     "text": [
      "d:\\Anaconda\\envs\\spacy\\lib\\site-packages\\tqdm\\auto.py:21: TqdmWarning: IProgress not found. Please update jupyter and ipywidgets. See https://ipywidgets.readthedocs.io/en/stable/user_install.html\n",
      "  from .autonotebook import tqdm as notebook_tqdm\n"
     ]
    },
    {
     "name": "stdout",
     "output_type": "stream",
     "text": [
      "C.elegans NORP\n",
      "https://www.youtube.com/watch?v=AvXCqT7A_w8 CARDINAL\n",
      "2010-07-27T10:25:00+01:00 DATE\n",
      "Bristol GPE\n",
      "UK GPE\n",
      "NGM ORG\n",
      "35 CARDINAL\n",
      "30 CARDINAL\n",
      "Laura Grundy PERSON\n",
      "E. Yemini GPE\n",
      "doi:10.1038 PERSON\n",
      "30 minutes TIME\n",
      "William R Schafer PERSON\n",
      "MRC Laboratory of Molecular Biology ORG\n",
      "Hills Road FAC\n",
      "Cambridge GPE\n",
      "0QH GPE\n",
      "UK GPE\n",
      "tierpsy PERSON\n",
      "898.102 CARDINAL\n",
      "second ORDINAL\n",
      "24.0385 CARDINAL\n",
      "4.53292 CARDINAL\n",
      "21410 CARDINAL\n"
     ]
    }
   ],
   "source": [
    "import spacy\n",
    "\n",
    "nlp = spacy.load('en_core_web_sm')\n",
    "\n",
    "text=\"This experiment is part of the C.elegans behavioural database . For more information and the complete collection of experiments visit http://movement.openworm.org preview link : https://www.youtube.com/watch?v=AvXCqT7A_w8 strain : N2 timestamp : 2010-07-27T10:25:00+01:00 gene : -N/A- chromosome : -N/A- allele : -N/A- strain_description : Schafer Lab N2 (Bristol, UK) sex : hermaphrodite stage : adult ventral_side : anticlockwise media : NGM agar low peptone arena : style : petri size : 35 orientation : away food : OP50 habituation : 30m wait who : Laura Grundy protocol : Method in E. Yemini et al. doi:10.1038/nmeth.2560. Worm transferred to arena 30 minutes before recording starts. lab : name : William R Schafer location : MRC Laboratory of Molecular Biology, Hills Road, Cambridge, CB2 0QH, UK software : name : tierpsy (https://github.com/ver228/tierpsy-tracker) version : cbfc23eb4f1ac2f29be75ade7a937eed58a5b219 featureID : @OMG base_name : N2 on food R_2010_07_27__10_25___3___1 total time (s) : 898.102 frames per second : 24.0385 video micrometers per pixel : 4.53292 number of segmented skeletons : 21410\"\n",
    "\n",
    "doc = nlp(text)\n",
    "\n",
    "for ent in doc.ents:\n",
    "    print(ent.text, ent.label_)\n"
   ]
  },
  {
   "cell_type": "markdown",
   "id": "db123569",
   "metadata": {},
   "source": [
    "## 2.2 Spacy with Transformer"
   ]
  },
  {
   "cell_type": "code",
   "execution_count": 23,
   "id": "195b9f26",
   "metadata": {},
   "outputs": [
    {
     "name": "stderr",
     "output_type": "stream",
     "text": [
      "d:\\Anaconda\\envs\\spacy\\lib\\site-packages\\thinc\\shims\\pytorch.py:253: FutureWarning: You are using `torch.load` with `weights_only=False` (the current default value), which uses the default pickle module implicitly. It is possible to construct malicious pickle data which will execute arbitrary code during unpickling (See https://github.com/pytorch/pytorch/blob/main/SECURITY.md#untrusted-models for more details). In a future release, the default value for `weights_only` will be flipped to `True`. This limits the functions that could be executed during unpickling. Arbitrary objects will no longer be allowed to be loaded via this mode unless they are explicitly allowlisted by the user via `torch.serialization.add_safe_globals`. We recommend you start setting `weights_only=True` for any use case where you don't have full control of the loaded file. Please open an issue on GitHub for any issues related to this experimental feature.\n",
      "  model.load_state_dict(torch.load(filelike, map_location=device))\n",
      "d:\\Anaconda\\envs\\spacy\\lib\\site-packages\\thinc\\shims\\pytorch.py:114: FutureWarning: `torch.cuda.amp.autocast(args...)` is deprecated. Please use `torch.amp.autocast('cuda', args...)` instead.\n",
      "  with torch.cuda.amp.autocast(self._mixed_precision):\n"
     ]
    },
    {
     "name": "stdout",
     "output_type": "stream",
     "text": [
      "entity:  C.elegans \n",
      "\n",
      "entity:  2010-07 \n",
      "\n",
      "entity:  Schafer Lab \n",
      "\n",
      "entity:  Bristol \n",
      "\n",
      "entity:  UK \n",
      "\n",
      "entity:  35 \n",
      "\n",
      "entity:  30 \n",
      "\n",
      "entity:  Laura Grundy \n",
      "\n",
      "entity:  E. Yemini \n",
      "\n",
      "entity:  30 minutes \n",
      "\n",
      "entity:  William R Schafer \n",
      "\n",
      "entity:  MRC Laboratory of Molecular Biology \n",
      "\n",
      "entity:  Hills Road \n",
      "\n",
      "entity:  Cambridge \n",
      "\n",
      "entity:  UK \n",
      "\n",
      "entity:  898.102 \n",
      "\n",
      "entity:  24.0385 \n",
      "\n",
      "entity:  4.53292 \n",
      "\n",
      "entity:  21410 \n",
      "\n"
     ]
    }
   ],
   "source": [
    "import spacy\n",
    "\n",
    "nlp = spacy.load('en_core_web_trf')\n",
    "\n",
    "text=\"This experiment is part of the C.elegans behavioural database . For more information and the complete collection of experiments visit http://movement.openworm.org preview link : https://www.youtube.com/watch?v=AvXCqT7A_w8 strain : N2 timestamp : 2010-07-27T10:25:00+01:00 gene : -N/A- chromosome : -N/A- allele : -N/A- strain_description : Schafer Lab N2 (Bristol, UK) sex : hermaphrodite stage : adult ventral_side : anticlockwise media : NGM agar low peptone arena : style : petri size : 35 orientation : away food : OP50 habituation : 30m wait who : Laura Grundy protocol : Method in E. Yemini et al. doi:10.1038/nmeth.2560. Worm transferred to arena 30 minutes before recording starts. lab : name : William R Schafer location : MRC Laboratory of Molecular Biology, Hills Road, Cambridge, CB2 0QH, UK software : name : tierpsy (https://github.com/ver228/tierpsy-tracker) version : cbfc23eb4f1ac2f29be75ade7a937eed58a5b219 featureID : @OMG base_name : N2 on food R_2010_07_27__10_25___3___1 total time (s) : 898.102 frames per second : 24.0385 video micrometers per pixel : 4.53292 number of segmented skeletons : 21410\"\n",
    "\n",
    "doc = nlp(text)\n",
    "\n",
    "for ent in doc.ents:\n",
    "    # only print entities name\n",
    "    print(\"entity: \", ent.text, \"\\n\")"
   ]
  },
  {
   "cell_type": "code",
   "execution_count": 14,
   "id": "c015c42d",
   "metadata": {},
   "outputs": [
    {
     "name": "stdout",
     "output_type": "stream",
     "text": [
      "('CARDINAL', 'DATE', 'EVENT', 'FAC', 'GPE', 'LANGUAGE', 'LAW', 'LOC', 'MONEY', 'NORP', 'ORDINAL', 'ORG', 'PERCENT', 'PERSON', 'PRODUCT', 'QUANTITY', 'TIME', 'WORK_OF_ART')\n"
     ]
    }
   ],
   "source": [
    "ner_labels = nlp.get_pipe('ner').labels\n",
    "print(ner_labels)"
   ]
  },
  {
   "cell_type": "code",
   "execution_count": 15,
   "id": "93808c47",
   "metadata": {},
   "outputs": [
    {
     "name": "stderr",
     "output_type": "stream",
     "text": [
      "d:\\Anaconda\\envs\\spacy\\lib\\site-packages\\thinc\\shims\\pytorch.py:114: FutureWarning: `torch.cuda.amp.autocast(args...)` is deprecated. Please use `torch.amp.autocast('cuda', args...)` instead.\n",
      "  with torch.cuda.amp.autocast(self._mixed_precision):\n"
     ]
    },
    {
     "name": "stdout",
     "output_type": "stream",
     "text": [
      "0    [This, experiment, is, part, of, the, C.elegans, behavioural, database, ., For, more, information, and, the, complete, collection, of, experiments, visit, http://movement.openworm.org, preview, link, :, https://www.youtube.com/watch?v=V16MVNPcWQ4, strain, :, N2, timestamp, :, 2012, -, 11, -, 09T15:37:36, +, 00:00, gene, :, -N, /, A-, chromosome, :, -N, /, A-, allele, :, -N, /, A-, strain_description, :, Schafer, Lab, N2, (, Bristol, ,, UK, ), sex, :, hermaphrodite, stage, :, adult, ventral_side, :, clockwise, media, :, NGM, agar, low, peptone, arena, :, style, :, petri, size, :, 35, orientation, :, away, food, :, OP50, habituation, :, 30, m, wait, who, :, Laura, Grundy, ...]\n",
      "dtype: object\n"
     ]
    }
   ],
   "source": [
    "def tokenize(text):\n",
    "    doc = nlp(text)\n",
    "    return [token.text for token in doc]\n",
    "\n",
    "text = pd.Series([\"This experiment is part of the C.elegans behavioural database . For more information and the complete collection of experiments visit http://movement.openworm.org preview link : https://www.youtube.com/watch?v=V16MVNPcWQ4 strain : N2 timestamp : 2012-11-09T15:37:36+00:00 gene : -N/A- chromosome : -N/A- allele : -N/A- strain_description : Schafer Lab N2 (Bristol, UK) sex : hermaphrodite stage : adult ventral_side : clockwise media : NGM agar low peptone arena : style : petri size : 35 orientation : away food : OP50 habituation : 30m wait who : Laura Grundy protocol : Method in E. Yemini et al. doi:10.1038/nmeth.2560. Worm transferred to arena 30 minutes before recording starts. lab : name : William R Schafer location : MRC Laboratory of Molecular Biology, Hills Road, Cambridge, CB2 0QH, UK software : name : tierpsy (https://github.com/ver228/tierpsy-tracker) version : cbfc23eb4f1ac2f29be75ade7a937eed58a5b219 featureID : @OMG base_name : N2 on food L_2012_11_09__15_37_36___6___2 total time (s) : 899.033 frames per second : 30.03 video micrometers per pixel : 4.17406 number of segmented skeletons : 26993\"])\n",
    "descriptions_tokenized = text.apply(tokenize)\n",
    "print(descriptions_tokenized)"
   ]
  },
  {
   "cell_type": "code",
   "execution_count": 16,
   "id": "21938658",
   "metadata": {},
   "outputs": [
    {
     "name": "stdout",
     "output_type": "stream",
     "text": [
      "0    [(This, DET), (experiment, NOUN), (is, AUX), (part, NOUN), (of, ADP), (the, DET), (C.elegans, PROPN), (behavioural, ADJ), (database, NOUN), (., PUNCT), (For, ADP), (more, ADJ), (information, NOUN), (and, CCONJ), (the, DET), (complete, ADJ), (collection, NOUN), (of, ADP), (experiments, NOUN), (visit, VERB), (http://movement.openworm.org, X), (preview, NOUN), (link, NOUN), (:, PUNCT), (https://www.youtube.com/watch?v=V16MVNPcWQ4, X), (strain, NOUN), (:, PUNCT), (N2, PROPN), (timestamp, NOUN), (:, PUNCT), (2012, NUM), (-, NUM), (11, NUM), (-, NUM), (09T15:37:36, NUM), (+, NOUN), (00:00, NUM), (gene, NOUN), (:, PUNCT), (-N, NOUN), (/, SYM), (A-, NOUN), (chromosome, NOUN), (:, PUNCT), (-N, NOUN), (/, NOUN), (A-, NOUN), (allele, NOUN), (:, PUNCT), (-N, NOUN), (/, SYM), (A-, NOUN), (strain_description, NOUN), (:, PUNCT), (Schafer, PROPN), (Lab, PROPN), (N2, PROPN), ((, PUNCT), (Bristol, PROPN), (,, PUNCT), (UK, PROPN), (), PUNCT), (sex, NOUN), (:, PUNCT), (hermaphrodite, ADJ), (stage, NOUN), (:, PUNCT), (adult, NOUN), (ventral_side, NOUN), (:, PUNCT), (clockwise, ADJ), (media, NOUN), (:, PUNCT), (NGM, PROPN), (agar, NOUN), (low, ADJ), (peptone, NOUN), (arena, NOUN), (:, PUNCT), (style, NOUN), (:, PUNCT), (petri, NOUN), (size, NOUN), (:, PUNCT), (35, NUM), (orientation, NOUN), (:, PUNCT), (away, ADV), (food, NOUN), (:, PUNCT), (OP50, PROPN), (habituation, NOUN), (:, PUNCT), (30, NUM), (m, NOUN), (wait, NOUN), (who, PRON), (:, PUNCT), (Laura, PROPN), (Grundy, PROPN), ...]\n",
      "dtype: object\n"
     ]
    }
   ],
   "source": [
    "def pos_tagging(text):\n",
    "    doc = nlp(text)\n",
    "    return [(token.text, token.pos_) for token in doc]\n",
    "\n",
    "descriptions_pos_tagged = text.apply(pos_tagging)\n",
    "print(descriptions_pos_tagged)"
   ]
  },
  {
   "cell_type": "code",
   "execution_count": 17,
   "id": "4fb16d79",
   "metadata": {},
   "outputs": [
    {
     "name": "stdout",
     "output_type": "stream",
     "text": [
      "0    [experiment, C.elegans, behavioural, database, ., information, complete, collection, experiments, visit, http://movement.openworm.org, preview, link, :, https://www.youtube.com/watch?v=V16MVNPcWQ4, strain, :, N2, timestamp, :, 2012, -, 11, -, 09T15:37:36, +, 00:00, gene, :, -N, /, A-, chromosome, :, -N, /, A-, allele, :, -N, /, A-, strain_description, :, Schafer, Lab, N2, (, Bristol, ,, UK, ), sex, :, hermaphrodite, stage, :, adult, ventral_side, :, clockwise, media, :, NGM, agar, low, peptone, arena, :, style, :, petri, size, :, 35, orientation, :, away, food, :, OP50, habituation, :, 30, m, wait, :, Laura, Grundy, protocol, :, Method, E., Yemini, et, al, ., doi:10.1038, /, nmeth.2560, ...]\n",
      "dtype: object\n"
     ]
    }
   ],
   "source": [
    "def remove_stopwords(text):\n",
    "    doc = nlp(text)\n",
    "    return [token.text for token in doc if not token.is_stop]\n",
    "\n",
    "descriptions_no_stopwords = text.apply(remove_stopwords)\n",
    "\n",
    "print(descriptions_no_stopwords)\n"
   ]
  },
  {
   "cell_type": "markdown",
   "id": "a93d9854",
   "metadata": {},
   "source": [
    "## 2.3 Flair"
   ]
  },
  {
   "cell_type": "code",
   "execution_count": 18,
   "id": "82cb60a5",
   "metadata": {},
   "outputs": [
    {
     "name": "stdout",
     "output_type": "stream",
     "text": [
      "2024-09-24 13:24:48,757 SequenceTagger predicts: Dictionary with 20 tags: <unk>, O, S-ORG, S-MISC, B-PER, E-PER, S-LOC, B-ORG, E-ORG, I-PER, S-PER, B-MISC, I-MISC, E-MISC, I-ORG, B-LOC, E-LOC, I-LOC, <START>, <STOP>\n",
      "Entity: C.elegans, Label: MISC\n",
      "Entity: Schafer Lab N2, Label: MISC\n",
      "Entity: Bristol, Label: LOC\n",
      "Entity: UK, Label: LOC\n",
      "Entity: Laura Grundy, Label: MISC\n",
      "Entity: MRC Laboratory of Molecular Biology, Label: ORG\n",
      "Entity: Hills Road, Label: ORG\n",
      "Entity: Cambridge, Label: LOC\n",
      "Entity: UK, Label: LOC\n"
     ]
    }
   ],
   "source": [
    "from flair.models import SequenceTagger\n",
    "from flair.data import Sentence\n",
    "\n",
    "# load the NER tagger\n",
    "tagger = SequenceTagger.load(\"ner\")\n",
    "\n",
    "sentence = Sentence(\"This experiment is part of the C.elegans behavioural database . For more information and the complete collection of experiments visit http://movement.openworm.org preview link : https://www.youtube.com/watch?v=AvXCqT7A_w8 strain : N2 timestamp : 2010-07-27T10:25:00+01:00 gene : -N/A- chromosome : -N/A- allele : -N/A- strain_description : Schafer Lab N2 (Bristol, UK) sex : hermaphrodite stage : adult ventral_side : anticlockwise media : NGM agar low peptone arena : style : petri size : 35 orientation : away food : OP50 habituation : 30m wait who : Laura Grundy protocol : Method in E. Yemini et al. doi:10.1038/nmeth.2560. Worm transferred to arena 30 minutes before recording starts. lab : name : William R Schafer location : MRC Laboratory of Molecular Biology, Hills Road, Cambridge, CB2 0QH, UK software : name : tierpsy (https://github.com/ver228/tierpsy-tracker) version : cbfc23eb4f1ac2f29be75ade7a937eed58a5b219 featureID : @OMG base_name : N2 on food R_2010_07_27__10_25___3___1 total time (s) : 898.102 frames per second : 24.0385 video micrometers per pixel : 4.53292 number of segmented skeletons : 21410\")\n",
    "\n",
    "# predict NER tags\n",
    "tagger.predict(sentence)\n",
    "\n",
    "# print the entities and their labels\n",
    "for entity in sentence.get_spans(\"ner\"):\n",
    "    print(f\"Entity: {entity.text}, Label: {entity.get_label('ner').value}\")"
   ]
  },
  {
   "cell_type": "code",
   "execution_count": 19,
   "id": "b500bd09",
   "metadata": {},
   "outputs": [
    {
     "name": "stdout",
     "output_type": "stream",
     "text": [
      "2024-09-24 13:24:53,154 SequenceTagger predicts: Dictionary with 20 tags: <unk>, O, S-ORG, S-MISC, B-PER, E-PER, S-LOC, B-ORG, E-ORG, I-PER, S-PER, B-MISC, I-MISC, E-MISC, I-ORG, B-LOC, E-LOC, I-LOC, <START>, <STOP>\n",
      "Sentence[233]: \"This experiment is part of the C.elegans behavioural database . For more information and the complete collection of experiments visit http://movement.openworm.org preview link : https://www.youtube.com/watch?v=AvXCqT7A_w8 strain : N2 timestamp : 2010-07-27T10:25:00+01:00 gene : -N/A- chromosome : -N/A- allele : -N/A- strain_description : Schafer Lab N2 (Bristol, UK) sex : hermaphrodite stage : adult ventral_side : anticlockwise media : NGM agar low peptone arena : style : petri size : 35 orientation : away food : OP50 habituation : 30m wait who : Laura Grundy protocol : Method in E. Yemini et al. doi:10.1038/nmeth.2560. Worm transferred to arena 30 minutes before recording starts. lab : name : William R Schafer location : MRC Laboratory of Molecular Biology, Hills Road, Cambridge, CB2 0QH, UK software : name : tierpsy (https://github.com/ver228/tierpsy-tracker) version : cbfc23eb4f1ac2f29be75ade7a937eed58a5b219 featureID : @OMG base_name : N2 on food R_2010_07_27__10_25___3___1 total time (s) : 898.102 frames per second : 24.0385 video micrometers per pixel : 4.53292 number of segmented skeletons : 21410\" → [\"C.elegans\"/MISC, \"Schafer Lab N2\"/MISC, \"Bristol\"/LOC, \"UK\"/LOC, \"Laura Grundy\"/MISC, \"MRC Laboratory of Molecular Biology\"/ORG, \"Hills Road\"/ORG, \"Cambridge\"/LOC, \"UK\"/LOC]\n"
     ]
    }
   ],
   "source": [
    "import spacy\n",
    "from flair.models import SequenceTagger\n",
    "from flair.data import Sentence\n",
    "\n",
    "# load the spaCy NLP model\n",
    "nlp = spacy.load('en_core_web_sm')\n",
    "\n",
    "# load the Flair NER tagger\n",
    "tagger = SequenceTagger.load('ner')\n",
    "\n",
    "# define the text to be processed\n",
    "sentence = Sentence(\"This experiment is part of the C.elegans behavioural database . For more information and the complete collection of experiments visit http://movement.openworm.org preview link : https://www.youtube.com/watch?v=AvXCqT7A_w8 strain : N2 timestamp : 2010-07-27T10:25:00+01:00 gene : -N/A- chromosome : -N/A- allele : -N/A- strain_description : Schafer Lab N2 (Bristol, UK) sex : hermaphrodite stage : adult ventral_side : anticlockwise media : NGM agar low peptone arena : style : petri size : 35 orientation : away food : OP50 habituation : 30m wait who : Laura Grundy protocol : Method in E. Yemini et al. doi:10.1038/nmeth.2560. Worm transferred to arena 30 minutes before recording starts. lab : name : William R Schafer location : MRC Laboratory of Molecular Biology, Hills Road, Cambridge, CB2 0QH, UK software : name : tierpsy (https://github.com/ver228/tierpsy-tracker) version : cbfc23eb4f1ac2f29be75ade7a937eed58a5b219 featureID : @OMG base_name : N2 on food R_2010_07_27__10_25___3___1 total time (s) : 898.102 frames per second : 24.0385 video micrometers per pixel : 4.53292 number of segmented skeletons : 21410\")\n",
    "\n",
    "\n",
    "# process the text with spaCy\n",
    "sentence = Sentence(doc.text)\n",
    "tagger.predict(sentence)\n",
    "\n",
    "# print the entities and their labels\n",
    "print(sentence.to_tagged_string())\n"
   ]
  },
  {
   "cell_type": "markdown",
   "id": "234212db",
   "metadata": {},
   "source": [
    "## 2.4  GLiNER"
   ]
  },
  {
   "cell_type": "code",
   "execution_count": 20,
   "id": "80103824",
   "metadata": {},
   "outputs": [
    {
     "name": "stderr",
     "output_type": "stream",
     "text": [
      "Fetching 5 files: 100%|██████████| 5/5 [00:00<?, ?it/s]\n",
      "d:\\Anaconda\\envs\\spacy\\lib\\site-packages\\transformers\\tokenization_utils_base.py:1601: FutureWarning: `clean_up_tokenization_spaces` was not set. It will be set to `True` by default. This behavior will be depracted in transformers v4.45, and will be then set to `False` by default. For more details check this issue: https://github.com/huggingface/transformers/issues/31884\n",
      "  warnings.warn(\n",
      "d:\\Anaconda\\envs\\spacy\\lib\\site-packages\\transformers\\convert_slow_tokenizer.py:551: UserWarning: The sentencepiece tokenizer that you are converting to a fast tokenizer uses the byte fallback option which is not implemented in the fast tokenizers. In practice this means that the fast version of the tokenizer can produce unknown tokens whereas the sentencepiece version would have converted these unknown tokens into a sequence of byte tokens matching the original piece of text.\n",
      "  warnings.warn(\n"
     ]
    },
    {
     "ename": "TypeError",
     "evalue": "string indices must be integers",
     "output_type": "error",
     "traceback": [
      "\u001b[1;31m---------------------------------------------------------------------------\u001b[0m",
      "\u001b[1;31mTypeError\u001b[0m                                 Traceback (most recent call last)",
      "Cell \u001b[1;32mIn[20], line 10\u001b[0m\n\u001b[0;32m      7\u001b[0m text \u001b[38;5;241m=\u001b[39m \u001b[38;5;124m\"\"\"\u001b[39m\u001b[38;5;124mThis experiment is part of the C.elegans behavioural database . For more information and the complete collection of experiments visit http://movement.openworm.org preview link : https://www.youtube.com/watch?v=AvXCqT7A_w8 strain : N2 timestamp : 2010-07-27T10:25:00+01:00 gene : -N/A- chromosome : -N/A- allele : -N/A- strain_description : Schafer Lab N2 (Bristol, UK) sex : hermaphrodite stage : adult ventral_side : anticlockwise media : NGM agar low peptone arena : style : petri size : 35 orientation : away food : OP50 habituation : 30m wait who : Laura Grundy protocol : Method in E. Yemini et al. doi:10.1038/nmeth.2560. Worm transferred to arena 30 minutes before recording starts. lab : name : William R Schafer location : MRC Laboratory of Molecular Biology, Hills Road, Cambridge, CB2 0QH, UK software : name : tierpsy (https://github.com/ver228/tierpsy-tracker) version : cbfc23eb4f1ac2f29be75ade7a937eed58a5b219 featureID : @OMG base_name : N2 on food R_2010_07_27__10_25___3___1 total time (s) : 898.102 frames per second : 24.0385 video micrometers per pixel : 4.53292 number of segmented skeletons : 21410\u001b[39m\u001b[38;5;124m\"\"\"\u001b[39m\n\u001b[0;32m      9\u001b[0m \u001b[38;5;66;03m# 执行NER识别\u001b[39;00m\n\u001b[1;32m---> 10\u001b[0m entities \u001b[38;5;241m=\u001b[39m \u001b[43mner\u001b[49m\u001b[43m(\u001b[49m\u001b[43mtext\u001b[49m\u001b[43m)\u001b[49m\n\u001b[0;32m     12\u001b[0m \u001b[38;5;66;03m# 输出识别的实体\u001b[39;00m\n\u001b[0;32m     13\u001b[0m \u001b[38;5;28;01mfor\u001b[39;00m entity \u001b[38;5;129;01min\u001b[39;00m entities:\n",
      "File \u001b[1;32md:\\Anaconda\\envs\\spacy\\lib\\site-packages\\torch\\nn\\modules\\module.py:1553\u001b[0m, in \u001b[0;36mModule._wrapped_call_impl\u001b[1;34m(self, *args, **kwargs)\u001b[0m\n\u001b[0;32m   1551\u001b[0m     \u001b[38;5;28;01mreturn\u001b[39;00m \u001b[38;5;28mself\u001b[39m\u001b[38;5;241m.\u001b[39m_compiled_call_impl(\u001b[38;5;241m*\u001b[39margs, \u001b[38;5;241m*\u001b[39m\u001b[38;5;241m*\u001b[39mkwargs)  \u001b[38;5;66;03m# type: ignore[misc]\u001b[39;00m\n\u001b[0;32m   1552\u001b[0m \u001b[38;5;28;01melse\u001b[39;00m:\n\u001b[1;32m-> 1553\u001b[0m     \u001b[38;5;28;01mreturn\u001b[39;00m \u001b[38;5;28mself\u001b[39m\u001b[38;5;241m.\u001b[39m_call_impl(\u001b[38;5;241m*\u001b[39margs, \u001b[38;5;241m*\u001b[39m\u001b[38;5;241m*\u001b[39mkwargs)\n",
      "File \u001b[1;32md:\\Anaconda\\envs\\spacy\\lib\\site-packages\\torch\\nn\\modules\\module.py:1562\u001b[0m, in \u001b[0;36mModule._call_impl\u001b[1;34m(self, *args, **kwargs)\u001b[0m\n\u001b[0;32m   1557\u001b[0m \u001b[38;5;66;03m# If we don't have any hooks, we want to skip the rest of the logic in\u001b[39;00m\n\u001b[0;32m   1558\u001b[0m \u001b[38;5;66;03m# this function, and just call forward.\u001b[39;00m\n\u001b[0;32m   1559\u001b[0m \u001b[38;5;28;01mif\u001b[39;00m \u001b[38;5;129;01mnot\u001b[39;00m (\u001b[38;5;28mself\u001b[39m\u001b[38;5;241m.\u001b[39m_backward_hooks \u001b[38;5;129;01mor\u001b[39;00m \u001b[38;5;28mself\u001b[39m\u001b[38;5;241m.\u001b[39m_backward_pre_hooks \u001b[38;5;129;01mor\u001b[39;00m \u001b[38;5;28mself\u001b[39m\u001b[38;5;241m.\u001b[39m_forward_hooks \u001b[38;5;129;01mor\u001b[39;00m \u001b[38;5;28mself\u001b[39m\u001b[38;5;241m.\u001b[39m_forward_pre_hooks\n\u001b[0;32m   1560\u001b[0m         \u001b[38;5;129;01mor\u001b[39;00m _global_backward_pre_hooks \u001b[38;5;129;01mor\u001b[39;00m _global_backward_hooks\n\u001b[0;32m   1561\u001b[0m         \u001b[38;5;129;01mor\u001b[39;00m _global_forward_hooks \u001b[38;5;129;01mor\u001b[39;00m _global_forward_pre_hooks):\n\u001b[1;32m-> 1562\u001b[0m     \u001b[38;5;28;01mreturn\u001b[39;00m forward_call(\u001b[38;5;241m*\u001b[39margs, \u001b[38;5;241m*\u001b[39m\u001b[38;5;241m*\u001b[39mkwargs)\n\u001b[0;32m   1564\u001b[0m \u001b[38;5;28;01mtry\u001b[39;00m:\n\u001b[0;32m   1565\u001b[0m     result \u001b[38;5;241m=\u001b[39m \u001b[38;5;28;01mNone\u001b[39;00m\n",
      "File \u001b[1;32md:\\Anaconda\\envs\\spacy\\lib\\site-packages\\gliner\\model.py:104\u001b[0m, in \u001b[0;36mGLiNER.forward\u001b[1;34m(self, *args, **kwargs)\u001b[0m\n\u001b[0;32m    102\u001b[0m \u001b[38;5;28;01mdef\u001b[39;00m \u001b[38;5;21mforward\u001b[39m(\u001b[38;5;28mself\u001b[39m, \u001b[38;5;241m*\u001b[39margs, \u001b[38;5;241m*\u001b[39m\u001b[38;5;241m*\u001b[39mkwargs):\n\u001b[0;32m    103\u001b[0m \u001b[38;5;250m    \u001b[39m\u001b[38;5;124;03m\"\"\"Wrapper function for the model's forward pass.\"\"\"\u001b[39;00m\n\u001b[1;32m--> 104\u001b[0m     output \u001b[38;5;241m=\u001b[39m \u001b[38;5;28mself\u001b[39m\u001b[38;5;241m.\u001b[39mmodel(\u001b[38;5;241m*\u001b[39margs, \u001b[38;5;241m*\u001b[39m\u001b[38;5;241m*\u001b[39mkwargs)\n\u001b[0;32m    105\u001b[0m     \u001b[38;5;28;01mreturn\u001b[39;00m output\n",
      "File \u001b[1;32md:\\Anaconda\\envs\\spacy\\lib\\site-packages\\torch\\nn\\modules\\module.py:1553\u001b[0m, in \u001b[0;36mModule._wrapped_call_impl\u001b[1;34m(self, *args, **kwargs)\u001b[0m\n\u001b[0;32m   1551\u001b[0m     \u001b[38;5;28;01mreturn\u001b[39;00m \u001b[38;5;28mself\u001b[39m\u001b[38;5;241m.\u001b[39m_compiled_call_impl(\u001b[38;5;241m*\u001b[39margs, \u001b[38;5;241m*\u001b[39m\u001b[38;5;241m*\u001b[39mkwargs)  \u001b[38;5;66;03m# type: ignore[misc]\u001b[39;00m\n\u001b[0;32m   1552\u001b[0m \u001b[38;5;28;01melse\u001b[39;00m:\n\u001b[1;32m-> 1553\u001b[0m     \u001b[38;5;28;01mreturn\u001b[39;00m \u001b[38;5;28mself\u001b[39m\u001b[38;5;241m.\u001b[39m_call_impl(\u001b[38;5;241m*\u001b[39margs, \u001b[38;5;241m*\u001b[39m\u001b[38;5;241m*\u001b[39mkwargs)\n",
      "File \u001b[1;32md:\\Anaconda\\envs\\spacy\\lib\\site-packages\\torch\\nn\\modules\\module.py:1562\u001b[0m, in \u001b[0;36mModule._call_impl\u001b[1;34m(self, *args, **kwargs)\u001b[0m\n\u001b[0;32m   1557\u001b[0m \u001b[38;5;66;03m# If we don't have any hooks, we want to skip the rest of the logic in\u001b[39;00m\n\u001b[0;32m   1558\u001b[0m \u001b[38;5;66;03m# this function, and just call forward.\u001b[39;00m\n\u001b[0;32m   1559\u001b[0m \u001b[38;5;28;01mif\u001b[39;00m \u001b[38;5;129;01mnot\u001b[39;00m (\u001b[38;5;28mself\u001b[39m\u001b[38;5;241m.\u001b[39m_backward_hooks \u001b[38;5;129;01mor\u001b[39;00m \u001b[38;5;28mself\u001b[39m\u001b[38;5;241m.\u001b[39m_backward_pre_hooks \u001b[38;5;129;01mor\u001b[39;00m \u001b[38;5;28mself\u001b[39m\u001b[38;5;241m.\u001b[39m_forward_hooks \u001b[38;5;129;01mor\u001b[39;00m \u001b[38;5;28mself\u001b[39m\u001b[38;5;241m.\u001b[39m_forward_pre_hooks\n\u001b[0;32m   1560\u001b[0m         \u001b[38;5;129;01mor\u001b[39;00m _global_backward_pre_hooks \u001b[38;5;129;01mor\u001b[39;00m _global_backward_hooks\n\u001b[0;32m   1561\u001b[0m         \u001b[38;5;129;01mor\u001b[39;00m _global_forward_hooks \u001b[38;5;129;01mor\u001b[39;00m _global_forward_pre_hooks):\n\u001b[1;32m-> 1562\u001b[0m     \u001b[38;5;28;01mreturn\u001b[39;00m forward_call(\u001b[38;5;241m*\u001b[39margs, \u001b[38;5;241m*\u001b[39m\u001b[38;5;241m*\u001b[39mkwargs)\n\u001b[0;32m   1564\u001b[0m \u001b[38;5;28;01mtry\u001b[39;00m:\n\u001b[0;32m   1565\u001b[0m     result \u001b[38;5;241m=\u001b[39m \u001b[38;5;28;01mNone\u001b[39;00m\n",
      "File \u001b[1;32md:\\Anaconda\\envs\\spacy\\lib\\site-packages\\gliner\\modeling\\base.py:233\u001b[0m, in \u001b[0;36mSpanModel.forward\u001b[1;34m(self, input_ids, attention_mask, labels_embeddings, labels_input_ids, labels_attention_mask, words_embedding, mask, prompts_embedding, prompts_embedding_mask, words_mask, text_lengths, span_idx, span_mask, labels, **kwargs)\u001b[0m\n\u001b[0;32m    215\u001b[0m \u001b[38;5;28;01mdef\u001b[39;00m \u001b[38;5;21mforward\u001b[39m(\u001b[38;5;28mself\u001b[39m,        \n\u001b[0;32m    216\u001b[0m             input_ids: Optional[torch\u001b[38;5;241m.\u001b[39mFloatTensor] \u001b[38;5;241m=\u001b[39m \u001b[38;5;28;01mNone\u001b[39;00m,\n\u001b[0;32m    217\u001b[0m             attention_mask: Optional[torch\u001b[38;5;241m.\u001b[39mLongTensor] \u001b[38;5;241m=\u001b[39m \u001b[38;5;28;01mNone\u001b[39;00m,\n\u001b[1;32m   (...)\u001b[0m\n\u001b[0;32m    230\u001b[0m             \u001b[38;5;241m*\u001b[39m\u001b[38;5;241m*\u001b[39mkwargs\n\u001b[0;32m    231\u001b[0m             ):\n\u001b[1;32m--> 233\u001b[0m     prompts_embedding, prompts_embedding_mask, words_embedding, mask \u001b[38;5;241m=\u001b[39m \u001b[38;5;28;43mself\u001b[39;49m\u001b[38;5;241;43m.\u001b[39;49m\u001b[43mget_representations\u001b[49m\u001b[43m(\u001b[49m\u001b[43minput_ids\u001b[49m\u001b[43m,\u001b[49m\u001b[43m \u001b[49m\u001b[43mattention_mask\u001b[49m\u001b[43m,\u001b[49m\u001b[43m \u001b[49m\n\u001b[0;32m    234\u001b[0m \u001b[43m                                                                            \u001b[49m\u001b[43mlabels_embeddings\u001b[49m\u001b[43m,\u001b[49m\u001b[43m \u001b[49m\u001b[43mlabels_input_ids\u001b[49m\u001b[43m,\u001b[49m\u001b[43m \u001b[49m\u001b[43mlabels_attention_mask\u001b[49m\u001b[43m,\u001b[49m\u001b[43m \u001b[49m\n\u001b[0;32m    235\u001b[0m \u001b[43m                                                                                                                \u001b[49m\u001b[43mtext_lengths\u001b[49m\u001b[43m,\u001b[49m\u001b[43m \u001b[49m\u001b[43mwords_mask\u001b[49m\u001b[43m)\u001b[49m\n\u001b[0;32m    236\u001b[0m     span_idx \u001b[38;5;241m=\u001b[39m span_idx\u001b[38;5;241m*\u001b[39mspan_mask\u001b[38;5;241m.\u001b[39munsqueeze(\u001b[38;5;241m-\u001b[39m\u001b[38;5;241m1\u001b[39m)\n\u001b[0;32m    238\u001b[0m     span_rep \u001b[38;5;241m=\u001b[39m \u001b[38;5;28mself\u001b[39m\u001b[38;5;241m.\u001b[39mspan_rep_layer(words_embedding, span_idx)\n",
      "File \u001b[1;32md:\\Anaconda\\envs\\spacy\\lib\\site-packages\\gliner\\modeling\\base.py:182\u001b[0m, in \u001b[0;36mBaseModel.get_representations\u001b[1;34m(self, input_ids, attention_mask, labels_embeddings, labels_input_ids, labels_attention_mask, text_lengths, words_mask, **kwargs)\u001b[0m\n\u001b[0;32m    177\u001b[0m     prompts_embedding, prompts_embedding_mask, words_embedding, mask \u001b[38;5;241m=\u001b[39m \u001b[38;5;28mself\u001b[39m\u001b[38;5;241m.\u001b[39mget_bi_representations(\n\u001b[0;32m    178\u001b[0m             input_ids, attention_mask, labels_embeddings, labels_input_ids, labels_attention_mask, \n\u001b[0;32m    179\u001b[0m                                                                 text_lengths, words_mask, \u001b[38;5;241m*\u001b[39m\u001b[38;5;241m*\u001b[39mkwargs\n\u001b[0;32m    180\u001b[0m     )\n\u001b[0;32m    181\u001b[0m \u001b[38;5;28;01melse\u001b[39;00m:\n\u001b[1;32m--> 182\u001b[0m     prompts_embedding, prompts_embedding_mask, words_embedding, mask \u001b[38;5;241m=\u001b[39m \u001b[38;5;28mself\u001b[39m\u001b[38;5;241m.\u001b[39mget_uni_representations(\n\u001b[0;32m    183\u001b[0m                             input_ids, attention_mask, text_lengths, words_mask, \u001b[38;5;241m*\u001b[39m\u001b[38;5;241m*\u001b[39mkwargs\n\u001b[0;32m    184\u001b[0m     )\n\u001b[0;32m    185\u001b[0m \u001b[38;5;28;01mreturn\u001b[39;00m prompts_embedding, prompts_embedding_mask, words_embedding, mask\n",
      "File \u001b[1;32md:\\Anaconda\\envs\\spacy\\lib\\site-packages\\gliner\\modeling\\base.py:126\u001b[0m, in \u001b[0;36mBaseModel.get_uni_representations\u001b[1;34m(self, input_ids, attention_mask, text_lengths, words_mask, **kwargs)\u001b[0m\n\u001b[0;32m    119\u001b[0m \u001b[38;5;28;01mdef\u001b[39;00m \u001b[38;5;21mget_uni_representations\u001b[39m(\u001b[38;5;28mself\u001b[39m, \n\u001b[0;32m    120\u001b[0m             input_ids: Optional[torch\u001b[38;5;241m.\u001b[39mFloatTensor] \u001b[38;5;241m=\u001b[39m \u001b[38;5;28;01mNone\u001b[39;00m,\n\u001b[0;32m    121\u001b[0m             attention_mask: Optional[torch\u001b[38;5;241m.\u001b[39mLongTensor] \u001b[38;5;241m=\u001b[39m \u001b[38;5;28;01mNone\u001b[39;00m,\n\u001b[0;32m    122\u001b[0m             text_lengths: Optional[torch\u001b[38;5;241m.\u001b[39mTensor] \u001b[38;5;241m=\u001b[39m \u001b[38;5;28;01mNone\u001b[39;00m,\n\u001b[0;32m    123\u001b[0m             words_mask: Optional[torch\u001b[38;5;241m.\u001b[39mLongTensor] \u001b[38;5;241m=\u001b[39m \u001b[38;5;28;01mNone\u001b[39;00m,\n\u001b[0;32m    124\u001b[0m             \u001b[38;5;241m*\u001b[39m\u001b[38;5;241m*\u001b[39mkwargs):\n\u001b[1;32m--> 126\u001b[0m     token_embeds \u001b[38;5;241m=\u001b[39m \u001b[38;5;28mself\u001b[39m\u001b[38;5;241m.\u001b[39mtoken_rep_layer(input_ids, attention_mask, \u001b[38;5;241m*\u001b[39m\u001b[38;5;241m*\u001b[39mkwargs)\n\u001b[0;32m    128\u001b[0m     prompts_embedding, prompts_embedding_mask, words_embedding, mask \u001b[38;5;241m=\u001b[39m \u001b[38;5;28mself\u001b[39m\u001b[38;5;241m.\u001b[39m_extract_prompt_features_and_word_embeddings(token_embeds, input_ids, attention_mask, \n\u001b[0;32m    129\u001b[0m                                                                                                     text_lengths, words_mask)\n\u001b[0;32m    131\u001b[0m     \u001b[38;5;28;01mif\u001b[39;00m \u001b[38;5;28mself\u001b[39m\u001b[38;5;241m.\u001b[39mconfig\u001b[38;5;241m.\u001b[39mhas_rnn:\n",
      "File \u001b[1;32md:\\Anaconda\\envs\\spacy\\lib\\site-packages\\torch\\nn\\modules\\module.py:1553\u001b[0m, in \u001b[0;36mModule._wrapped_call_impl\u001b[1;34m(self, *args, **kwargs)\u001b[0m\n\u001b[0;32m   1551\u001b[0m     \u001b[38;5;28;01mreturn\u001b[39;00m \u001b[38;5;28mself\u001b[39m\u001b[38;5;241m.\u001b[39m_compiled_call_impl(\u001b[38;5;241m*\u001b[39margs, \u001b[38;5;241m*\u001b[39m\u001b[38;5;241m*\u001b[39mkwargs)  \u001b[38;5;66;03m# type: ignore[misc]\u001b[39;00m\n\u001b[0;32m   1552\u001b[0m \u001b[38;5;28;01melse\u001b[39;00m:\n\u001b[1;32m-> 1553\u001b[0m     \u001b[38;5;28;01mreturn\u001b[39;00m \u001b[38;5;28mself\u001b[39m\u001b[38;5;241m.\u001b[39m_call_impl(\u001b[38;5;241m*\u001b[39margs, \u001b[38;5;241m*\u001b[39m\u001b[38;5;241m*\u001b[39mkwargs)\n",
      "File \u001b[1;32md:\\Anaconda\\envs\\spacy\\lib\\site-packages\\torch\\nn\\modules\\module.py:1562\u001b[0m, in \u001b[0;36mModule._call_impl\u001b[1;34m(self, *args, **kwargs)\u001b[0m\n\u001b[0;32m   1557\u001b[0m \u001b[38;5;66;03m# If we don't have any hooks, we want to skip the rest of the logic in\u001b[39;00m\n\u001b[0;32m   1558\u001b[0m \u001b[38;5;66;03m# this function, and just call forward.\u001b[39;00m\n\u001b[0;32m   1559\u001b[0m \u001b[38;5;28;01mif\u001b[39;00m \u001b[38;5;129;01mnot\u001b[39;00m (\u001b[38;5;28mself\u001b[39m\u001b[38;5;241m.\u001b[39m_backward_hooks \u001b[38;5;129;01mor\u001b[39;00m \u001b[38;5;28mself\u001b[39m\u001b[38;5;241m.\u001b[39m_backward_pre_hooks \u001b[38;5;129;01mor\u001b[39;00m \u001b[38;5;28mself\u001b[39m\u001b[38;5;241m.\u001b[39m_forward_hooks \u001b[38;5;129;01mor\u001b[39;00m \u001b[38;5;28mself\u001b[39m\u001b[38;5;241m.\u001b[39m_forward_pre_hooks\n\u001b[0;32m   1560\u001b[0m         \u001b[38;5;129;01mor\u001b[39;00m _global_backward_pre_hooks \u001b[38;5;129;01mor\u001b[39;00m _global_backward_hooks\n\u001b[0;32m   1561\u001b[0m         \u001b[38;5;129;01mor\u001b[39;00m _global_forward_hooks \u001b[38;5;129;01mor\u001b[39;00m _global_forward_pre_hooks):\n\u001b[1;32m-> 1562\u001b[0m     \u001b[38;5;28;01mreturn\u001b[39;00m forward_call(\u001b[38;5;241m*\u001b[39margs, \u001b[38;5;241m*\u001b[39m\u001b[38;5;241m*\u001b[39mkwargs)\n\u001b[0;32m   1564\u001b[0m \u001b[38;5;28;01mtry\u001b[39;00m:\n\u001b[0;32m   1565\u001b[0m     result \u001b[38;5;241m=\u001b[39m \u001b[38;5;28;01mNone\u001b[39;00m\n",
      "File \u001b[1;32md:\\Anaconda\\envs\\spacy\\lib\\site-packages\\gliner\\modeling\\encoder.py:136\u001b[0m, in \u001b[0;36mEncoder.forward\u001b[1;34m(self, *args, **kwargs)\u001b[0m\n\u001b[0;32m    135\u001b[0m \u001b[38;5;28;01mdef\u001b[39;00m \u001b[38;5;21mforward\u001b[39m(\u001b[38;5;28mself\u001b[39m, \u001b[38;5;241m*\u001b[39margs, \u001b[38;5;241m*\u001b[39m\u001b[38;5;241m*\u001b[39mkwargs) \u001b[38;5;241m-\u001b[39m\u001b[38;5;241m>\u001b[39m torch\u001b[38;5;241m.\u001b[39mTensor:\n\u001b[1;32m--> 136\u001b[0m     token_embeddings \u001b[38;5;241m=\u001b[39m \u001b[38;5;28mself\u001b[39m\u001b[38;5;241m.\u001b[39mencode_text(\u001b[38;5;241m*\u001b[39margs, \u001b[38;5;241m*\u001b[39m\u001b[38;5;241m*\u001b[39mkwargs)\n\u001b[0;32m    137\u001b[0m     \u001b[38;5;28;01mreturn\u001b[39;00m token_embeddings\n",
      "File \u001b[1;32md:\\Anaconda\\envs\\spacy\\lib\\site-packages\\gliner\\modeling\\encoder.py:130\u001b[0m, in \u001b[0;36mEncoder.encode_text\u001b[1;34m(self, input_ids, attention_mask, *args, **kwargs)\u001b[0m\n\u001b[0;32m    129\u001b[0m \u001b[38;5;28;01mdef\u001b[39;00m \u001b[38;5;21mencode_text\u001b[39m(\u001b[38;5;28mself\u001b[39m, input_ids, attention_mask, \u001b[38;5;241m*\u001b[39margs, \u001b[38;5;241m*\u001b[39m\u001b[38;5;241m*\u001b[39mkwargs):\n\u001b[1;32m--> 130\u001b[0m     token_embeddings \u001b[38;5;241m=\u001b[39m \u001b[38;5;28mself\u001b[39m\u001b[38;5;241m.\u001b[39mbert_layer(input_ids, attention_mask, \u001b[38;5;241m*\u001b[39margs, \u001b[38;5;241m*\u001b[39m\u001b[38;5;241m*\u001b[39mkwargs)\n\u001b[0;32m    131\u001b[0m     \u001b[38;5;28;01mif\u001b[39;00m \u001b[38;5;28mhasattr\u001b[39m(\u001b[38;5;28mself\u001b[39m, \u001b[38;5;124m\"\u001b[39m\u001b[38;5;124mprojection\u001b[39m\u001b[38;5;124m\"\u001b[39m):\n\u001b[0;32m    132\u001b[0m         token_embeddings \u001b[38;5;241m=\u001b[39m \u001b[38;5;28mself\u001b[39m\u001b[38;5;241m.\u001b[39mprojection(token_embeddings)\n",
      "File \u001b[1;32md:\\Anaconda\\envs\\spacy\\lib\\site-packages\\torch\\nn\\modules\\module.py:1553\u001b[0m, in \u001b[0;36mModule._wrapped_call_impl\u001b[1;34m(self, *args, **kwargs)\u001b[0m\n\u001b[0;32m   1551\u001b[0m     \u001b[38;5;28;01mreturn\u001b[39;00m \u001b[38;5;28mself\u001b[39m\u001b[38;5;241m.\u001b[39m_compiled_call_impl(\u001b[38;5;241m*\u001b[39margs, \u001b[38;5;241m*\u001b[39m\u001b[38;5;241m*\u001b[39mkwargs)  \u001b[38;5;66;03m# type: ignore[misc]\u001b[39;00m\n\u001b[0;32m   1552\u001b[0m \u001b[38;5;28;01melse\u001b[39;00m:\n\u001b[1;32m-> 1553\u001b[0m     \u001b[38;5;28;01mreturn\u001b[39;00m \u001b[38;5;28mself\u001b[39m\u001b[38;5;241m.\u001b[39m_call_impl(\u001b[38;5;241m*\u001b[39margs, \u001b[38;5;241m*\u001b[39m\u001b[38;5;241m*\u001b[39mkwargs)\n",
      "File \u001b[1;32md:\\Anaconda\\envs\\spacy\\lib\\site-packages\\torch\\nn\\modules\\module.py:1562\u001b[0m, in \u001b[0;36mModule._call_impl\u001b[1;34m(self, *args, **kwargs)\u001b[0m\n\u001b[0;32m   1557\u001b[0m \u001b[38;5;66;03m# If we don't have any hooks, we want to skip the rest of the logic in\u001b[39;00m\n\u001b[0;32m   1558\u001b[0m \u001b[38;5;66;03m# this function, and just call forward.\u001b[39;00m\n\u001b[0;32m   1559\u001b[0m \u001b[38;5;28;01mif\u001b[39;00m \u001b[38;5;129;01mnot\u001b[39;00m (\u001b[38;5;28mself\u001b[39m\u001b[38;5;241m.\u001b[39m_backward_hooks \u001b[38;5;129;01mor\u001b[39;00m \u001b[38;5;28mself\u001b[39m\u001b[38;5;241m.\u001b[39m_backward_pre_hooks \u001b[38;5;129;01mor\u001b[39;00m \u001b[38;5;28mself\u001b[39m\u001b[38;5;241m.\u001b[39m_forward_hooks \u001b[38;5;129;01mor\u001b[39;00m \u001b[38;5;28mself\u001b[39m\u001b[38;5;241m.\u001b[39m_forward_pre_hooks\n\u001b[0;32m   1560\u001b[0m         \u001b[38;5;129;01mor\u001b[39;00m _global_backward_pre_hooks \u001b[38;5;129;01mor\u001b[39;00m _global_backward_hooks\n\u001b[0;32m   1561\u001b[0m         \u001b[38;5;129;01mor\u001b[39;00m _global_forward_hooks \u001b[38;5;129;01mor\u001b[39;00m _global_forward_pre_hooks):\n\u001b[1;32m-> 1562\u001b[0m     \u001b[38;5;28;01mreturn\u001b[39;00m forward_call(\u001b[38;5;241m*\u001b[39margs, \u001b[38;5;241m*\u001b[39m\u001b[38;5;241m*\u001b[39mkwargs)\n\u001b[0;32m   1564\u001b[0m \u001b[38;5;28;01mtry\u001b[39;00m:\n\u001b[0;32m   1565\u001b[0m     result \u001b[38;5;241m=\u001b[39m \u001b[38;5;28;01mNone\u001b[39;00m\n",
      "File \u001b[1;32md:\\Anaconda\\envs\\spacy\\lib\\site-packages\\gliner\\modeling\\encoder.py:100\u001b[0m, in \u001b[0;36mTransformer.forward\u001b[1;34m(self, *args, **kwargs)\u001b[0m\n\u001b[0;32m     98\u001b[0m \u001b[38;5;28;01melse\u001b[39;00m:\n\u001b[0;32m     99\u001b[0m     output_hidden_states \u001b[38;5;241m=\u001b[39m \u001b[38;5;28;01mFalse\u001b[39;00m\n\u001b[1;32m--> 100\u001b[0m output \u001b[38;5;241m=\u001b[39m \u001b[38;5;28mself\u001b[39m\u001b[38;5;241m.\u001b[39mmodel(\u001b[38;5;241m*\u001b[39margs, output_hidden_states \u001b[38;5;241m=\u001b[39m output_hidden_states, \n\u001b[0;32m    101\u001b[0m                                     return_dict \u001b[38;5;241m=\u001b[39m \u001b[38;5;28;01mTrue\u001b[39;00m,  \u001b[38;5;241m*\u001b[39m\u001b[38;5;241m*\u001b[39mkwargs)\n\u001b[0;32m    102\u001b[0m \u001b[38;5;28;01mif\u001b[39;00m \u001b[38;5;28mself\u001b[39m\u001b[38;5;241m.\u001b[39mconfig\u001b[38;5;241m.\u001b[39mfuse_layers:\n\u001b[0;32m    103\u001b[0m     encoder_layer \u001b[38;5;241m=\u001b[39m \u001b[38;5;28mself\u001b[39m\u001b[38;5;241m.\u001b[39mlayers_fuser(output\u001b[38;5;241m.\u001b[39mhidden_states)\n",
      "File \u001b[1;32md:\\Anaconda\\envs\\spacy\\lib\\site-packages\\torch\\nn\\modules\\module.py:1553\u001b[0m, in \u001b[0;36mModule._wrapped_call_impl\u001b[1;34m(self, *args, **kwargs)\u001b[0m\n\u001b[0;32m   1551\u001b[0m     \u001b[38;5;28;01mreturn\u001b[39;00m \u001b[38;5;28mself\u001b[39m\u001b[38;5;241m.\u001b[39m_compiled_call_impl(\u001b[38;5;241m*\u001b[39margs, \u001b[38;5;241m*\u001b[39m\u001b[38;5;241m*\u001b[39mkwargs)  \u001b[38;5;66;03m# type: ignore[misc]\u001b[39;00m\n\u001b[0;32m   1552\u001b[0m \u001b[38;5;28;01melse\u001b[39;00m:\n\u001b[1;32m-> 1553\u001b[0m     \u001b[38;5;28;01mreturn\u001b[39;00m \u001b[38;5;28mself\u001b[39m\u001b[38;5;241m.\u001b[39m_call_impl(\u001b[38;5;241m*\u001b[39margs, \u001b[38;5;241m*\u001b[39m\u001b[38;5;241m*\u001b[39mkwargs)\n",
      "File \u001b[1;32md:\\Anaconda\\envs\\spacy\\lib\\site-packages\\torch\\nn\\modules\\module.py:1562\u001b[0m, in \u001b[0;36mModule._call_impl\u001b[1;34m(self, *args, **kwargs)\u001b[0m\n\u001b[0;32m   1557\u001b[0m \u001b[38;5;66;03m# If we don't have any hooks, we want to skip the rest of the logic in\u001b[39;00m\n\u001b[0;32m   1558\u001b[0m \u001b[38;5;66;03m# this function, and just call forward.\u001b[39;00m\n\u001b[0;32m   1559\u001b[0m \u001b[38;5;28;01mif\u001b[39;00m \u001b[38;5;129;01mnot\u001b[39;00m (\u001b[38;5;28mself\u001b[39m\u001b[38;5;241m.\u001b[39m_backward_hooks \u001b[38;5;129;01mor\u001b[39;00m \u001b[38;5;28mself\u001b[39m\u001b[38;5;241m.\u001b[39m_backward_pre_hooks \u001b[38;5;129;01mor\u001b[39;00m \u001b[38;5;28mself\u001b[39m\u001b[38;5;241m.\u001b[39m_forward_hooks \u001b[38;5;129;01mor\u001b[39;00m \u001b[38;5;28mself\u001b[39m\u001b[38;5;241m.\u001b[39m_forward_pre_hooks\n\u001b[0;32m   1560\u001b[0m         \u001b[38;5;129;01mor\u001b[39;00m _global_backward_pre_hooks \u001b[38;5;129;01mor\u001b[39;00m _global_backward_hooks\n\u001b[0;32m   1561\u001b[0m         \u001b[38;5;129;01mor\u001b[39;00m _global_forward_hooks \u001b[38;5;129;01mor\u001b[39;00m _global_forward_pre_hooks):\n\u001b[1;32m-> 1562\u001b[0m     \u001b[38;5;28;01mreturn\u001b[39;00m forward_call(\u001b[38;5;241m*\u001b[39margs, \u001b[38;5;241m*\u001b[39m\u001b[38;5;241m*\u001b[39mkwargs)\n\u001b[0;32m   1564\u001b[0m \u001b[38;5;28;01mtry\u001b[39;00m:\n\u001b[0;32m   1565\u001b[0m     result \u001b[38;5;241m=\u001b[39m \u001b[38;5;28;01mNone\u001b[39;00m\n",
      "File \u001b[1;32md:\\Anaconda\\envs\\spacy\\lib\\site-packages\\transformers\\models\\deberta_v2\\modeling_deberta_v2.py:1041\u001b[0m, in \u001b[0;36mDebertaV2Model.forward\u001b[1;34m(self, input_ids, attention_mask, token_type_ids, position_ids, inputs_embeds, output_attentions, output_hidden_states, return_dict)\u001b[0m\n\u001b[0;32m   1039\u001b[0m     \u001b[38;5;28;01mraise\u001b[39;00m \u001b[38;5;167;01mValueError\u001b[39;00m(\u001b[38;5;124m\"\u001b[39m\u001b[38;5;124mYou cannot specify both input_ids and inputs_embeds at the same time\u001b[39m\u001b[38;5;124m\"\u001b[39m)\n\u001b[0;32m   1040\u001b[0m \u001b[38;5;28;01melif\u001b[39;00m input_ids \u001b[38;5;129;01mis\u001b[39;00m \u001b[38;5;129;01mnot\u001b[39;00m \u001b[38;5;28;01mNone\u001b[39;00m:\n\u001b[1;32m-> 1041\u001b[0m     \u001b[38;5;28;43mself\u001b[39;49m\u001b[38;5;241;43m.\u001b[39;49m\u001b[43mwarn_if_padding_and_no_attention_mask\u001b[49m\u001b[43m(\u001b[49m\u001b[43minput_ids\u001b[49m\u001b[43m,\u001b[49m\u001b[43m \u001b[49m\u001b[43mattention_mask\u001b[49m\u001b[43m)\u001b[49m\n\u001b[0;32m   1042\u001b[0m     input_shape \u001b[38;5;241m=\u001b[39m input_ids\u001b[38;5;241m.\u001b[39msize()\n\u001b[0;32m   1043\u001b[0m \u001b[38;5;28;01melif\u001b[39;00m inputs_embeds \u001b[38;5;129;01mis\u001b[39;00m \u001b[38;5;129;01mnot\u001b[39;00m \u001b[38;5;28;01mNone\u001b[39;00m:\n",
      "File \u001b[1;32md:\\Anaconda\\envs\\spacy\\lib\\site-packages\\transformers\\modeling_utils.py:4689\u001b[0m, in \u001b[0;36mPreTrainedModel.warn_if_padding_and_no_attention_mask\u001b[1;34m(self, input_ids, attention_mask)\u001b[0m\n\u001b[0;32m   4686\u001b[0m     \u001b[38;5;28;01mreturn\u001b[39;00m\n\u001b[0;32m   4688\u001b[0m \u001b[38;5;66;03m# Check only the first and last input IDs to reduce overhead.\u001b[39;00m\n\u001b[1;32m-> 4689\u001b[0m \u001b[38;5;28;01mif\u001b[39;00m \u001b[38;5;28mself\u001b[39m\u001b[38;5;241m.\u001b[39mconfig\u001b[38;5;241m.\u001b[39mpad_token_id \u001b[38;5;129;01min\u001b[39;00m \u001b[43minput_ids\u001b[49m\u001b[43m[\u001b[49m\u001b[43m:\u001b[49m\u001b[43m,\u001b[49m\u001b[43m \u001b[49m\u001b[43m[\u001b[49m\u001b[38;5;241;43m-\u001b[39;49m\u001b[38;5;241;43m1\u001b[39;49m\u001b[43m,\u001b[49m\u001b[43m \u001b[49m\u001b[38;5;241;43m0\u001b[39;49m\u001b[43m]\u001b[49m\u001b[43m]\u001b[49m:\n\u001b[0;32m   4690\u001b[0m     warn_string \u001b[38;5;241m=\u001b[39m (\n\u001b[0;32m   4691\u001b[0m         \u001b[38;5;124m\"\u001b[39m\u001b[38;5;124mWe strongly recommend passing in an `attention_mask` since your input_ids may be padded. See \u001b[39m\u001b[38;5;124m\"\u001b[39m\n\u001b[0;32m   4692\u001b[0m         \u001b[38;5;124m\"\u001b[39m\u001b[38;5;124mhttps://huggingface.co/docs/transformers/troubleshooting\u001b[39m\u001b[38;5;124m\"\u001b[39m\n\u001b[0;32m   4693\u001b[0m         \u001b[38;5;124m\"\u001b[39m\u001b[38;5;124m#incorrect-output-when-padding-tokens-arent-masked.\u001b[39m\u001b[38;5;124m\"\u001b[39m\n\u001b[0;32m   4694\u001b[0m     )\n\u001b[0;32m   4696\u001b[0m     \u001b[38;5;66;03m# If the pad token is equal to either BOS, EOS, or SEP, we do not know whether the user should use an\u001b[39;00m\n\u001b[0;32m   4697\u001b[0m     \u001b[38;5;66;03m# attention_mask or not. In this case, we should still show a warning because this is a rare case.\u001b[39;00m\n",
      "\u001b[1;31mTypeError\u001b[0m: string indices must be integers"
     ]
    }
   ],
   "source": [
    "from gliner import GLiNER\n",
    "\n",
    "# load the GLiNER model\n",
    "ner = GLiNER.from_pretrained(\"urchade/gliner_mediumv2.1\")\n",
    "\n",
    "# define the text to be processed\n",
    "text = \"\"\"This experiment is part of the C.elegans behavioural database . For more information and the complete collection of experiments visit http://movement.openworm.org preview link : https://www.youtube.com/watch?v=AvXCqT7A_w8 strain : N2 timestamp : 2010-07-27T10:25:00+01:00 gene : -N/A- chromosome : -N/A- allele : -N/A- strain_description : Schafer Lab N2 (Bristol, UK) sex : hermaphrodite stage : adult ventral_side : anticlockwise media : NGM agar low peptone arena : style : petri size : 35 orientation : away food : OP50 habituation : 30m wait who : Laura Grundy protocol : Method in E. Yemini et al. doi:10.1038/nmeth.2560. Worm transferred to arena 30 minutes before recording starts. lab : name : William R Schafer location : MRC Laboratory of Molecular Biology, Hills Road, Cambridge, CB2 0QH, UK software : name : tierpsy (https://github.com/ver228/tierpsy-tracker) version : cbfc23eb4f1ac2f29be75ade7a937eed58a5b219 featureID : @OMG base_name : N2 on food R_2010_07_27__10_25___3___1 total time (s) : 898.102 frames per second : 24.0385 video micrometers per pixel : 4.53292 number of segmented skeletons : 21410\"\"\"\n",
    "\n",
    "# predict NER tags\n",
    "entities = ner(text)\n",
    "\n",
    "# print the entities and their labels\n",
    "for entity in entities:\n",
    "    print(f\"Entity: {entity['word']}, Label: {entity['entity']}\")"
   ]
  }
 ],
 "metadata": {
  "kernelspec": {
   "display_name": "spacy",
   "language": "python",
   "name": "python3"
  },
  "language_info": {
   "codemirror_mode": {
    "name": "ipython",
    "version": 3
   },
   "file_extension": ".py",
   "mimetype": "text/x-python",
   "name": "python",
   "nbconvert_exporter": "python",
   "pygments_lexer": "ipython3",
   "version": "3.9.19"
  }
 },
 "nbformat": 4,
 "nbformat_minor": 5
}
