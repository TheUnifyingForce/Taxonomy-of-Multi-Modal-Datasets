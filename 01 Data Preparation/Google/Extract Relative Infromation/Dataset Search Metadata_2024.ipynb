{
 "cells": [
  {
   "cell_type": "markdown",
   "id": "3c8fc985",
   "metadata": {},
   "source": [
    "# 1. Data Explore\n",
    "## 1.1 dataframe: df1"
   ]
  },
  {
   "cell_type": "code",
   "execution_count": 1,
   "id": "0e4e499b",
   "metadata": {},
   "outputs": [],
   "source": [
    "import pandas as pd"
   ]
  },
  {
   "cell_type": "code",
   "execution_count": 2,
   "id": "100e9094",
   "metadata": {},
   "outputs": [],
   "source": [
    "low_memory=False"
   ]
  },
  {
   "cell_type": "code",
   "execution_count": 5,
   "id": "50902a4a",
   "metadata": {},
   "outputs": [
    {
     "name": "stdout",
     "output_type": "stream",
     "text": [
      "Collecting chardet\n",
      "  Downloading chardet-5.2.0-py3-none-any.whl (199 kB)\n",
      "\u001b[2K     \u001b[90m━━━━━━━━━━━━━━━━━━━━━━━━━━━━━━━━━━━━━━━\u001b[0m \u001b[32m199.4/199.4 kB\u001b[0m \u001b[31m2.2 MB/s\u001b[0m eta \u001b[36m0:00:00\u001b[0m00:01\u001b[0m00:01\u001b[0m\n",
      "\u001b[?25hInstalling collected packages: chardet\n",
      "Successfully installed chardet-5.2.0\n",
      "\n",
      "\u001b[1m[\u001b[0m\u001b[34;49mnotice\u001b[0m\u001b[1;39;49m]\u001b[0m\u001b[39;49m A new release of pip available: \u001b[0m\u001b[31;49m22.3\u001b[0m\u001b[39;49m -> \u001b[0m\u001b[32;49m24.1.2\u001b[0m\n",
      "\u001b[1m[\u001b[0m\u001b[34;49mnotice\u001b[0m\u001b[1;39;49m]\u001b[0m\u001b[39;49m To update, run: \u001b[0m\u001b[32;49m/Library/Frameworks/Python.framework/Versions/3.10/bin/python3.10 -m pip install --upgrade pip\u001b[0m\n",
      "Note: you may need to restart the kernel to use updated packages.\n"
     ]
    }
   ],
   "source": [
    "#pip install chardet"
   ]
  },
  {
   "cell_type": "code",
   "execution_count": 6,
   "id": "36686688",
   "metadata": {},
   "outputs": [
    {
     "data": {
      "text/plain": [
       "'MacRoman'"
      ]
     },
     "execution_count": 6,
     "metadata": {},
     "output_type": "execute_result"
    }
   ],
   "source": [
    "import chardet\n",
    "\n",
    "file_path = 'Data/Google/2024/metadata_table.csv'\n",
    "\n",
    "# Read part of the file to detect the encoding \n",
    "with open(file_path, 'rb') as f:\n",
    "    raw_data = f.read(10000)\n",
    "    result = chardet.detect(raw_data)\n",
    "    encoding = result['encoding']\n",
    "\n",
    "encoding"
   ]
  },
  {
   "cell_type": "code",
   "execution_count": 7,
   "id": "203b2b83",
   "metadata": {},
   "outputs": [],
   "source": [
    "nRowsRead = 60000\n",
    "df1 = pd.read_csv(file_path, delimiter=',', nrows=nRowsRead, encoding=encoding)"
   ]
  },
  {
   "cell_type": "code",
   "execution_count": 10,
   "id": "94f1b5d6",
   "metadata": {},
   "outputs": [],
   "source": [
    "pd.set_option('display.max_columns', None)\n",
    "pd.set_option('display.max_rows', None)\n",
    "pd.set_option('display.width', None)\n",
    "pd.set_option('display.max_colwidth', None)"
   ]
  },
  {
   "cell_type": "code",
   "execution_count": 11,
   "id": "193a991e",
   "metadata": {},
   "outputs": [
    {
     "data": {
      "text/html": [
       "<div>\n",
       "<style scoped>\n",
       "    .dataframe tbody tr th:only-of-type {\n",
       "        vertical-align: middle;\n",
       "    }\n",
       "\n",
       "    .dataframe tbody tr th {\n",
       "        vertical-align: top;\n",
       "    }\n",
       "\n",
       "    .dataframe thead th {\n",
       "        text-align: right;\n",
       "    }\n",
       "</style>\n",
       "<table border=\"1\" class=\"dataframe\">\n",
       "  <thead>\n",
       "    <tr style=\"text-align: right;\">\n",
       "      <th></th>\n",
       "      <th>source_url</th>\n",
       "      <th>title</th>\n",
       "      <th>subtitle</th>\n",
       "      <th>description</th>\n",
       "      <th>variablesmeasured</th>\n",
       "      <th>measurementtechnique</th>\n",
       "      <th>sameas</th>\n",
       "      <th>doi</th>\n",
       "      <th>compactidentifier</th>\n",
       "      <th>author</th>\n",
       "      <th>isaccessibleforfree</th>\n",
       "      <th>datemodified</th>\n",
       "      <th>distribution</th>\n",
       "      <th>spatialcoverage</th>\n",
       "      <th>provider</th>\n",
       "      <th>funder</th>\n",
       "      <th>temporalcoverage</th>\n",
       "    </tr>\n",
       "  </thead>\n",
       "  <tbody>\n",
       "    <tr>\n",
       "      <th>0</th>\n",
       "      <td>https://www.gbif.org/dataset/d1f4c672-a490-4c05-8124-803b5d99a165</td>\n",
       "      <td>\\nxThe new species of the genus Atanygnathus Jacobson, 1909 (Coleoptera: Styphylinidae: Staphylininae) from R√©union Island</td>\n",
       "      <td>NaN</td>\n",
       "      <td>\\nÀ\\002This dataset contains the digitized treatments in Plazi based on the original journal article Kocian, Mat√∫≈°, Hlav√°ƒç, Peter (2019): The new species of the genus Atanygnathus Jacobson, 1909 (Coleoptera: Styphylinidae: Staphylininae) from R√©union Island. Zootaxa 4612 (1): 141-144, DOI: https://doi.org/10.11646/zootaxa.4612.1.12</td>\n",
       "      <td>NaN</td>\n",
       "      <td>NaN</td>\n",
       "      <td>NaN</td>\n",
       "      <td>10.11646/zootaxa.4612.1.12</td>\n",
       "      <td>NaN</td>\n",
       "      <td>Mat√∫≈° Kocian; Peter Hlav√°ƒç; Mat√∫≈° Kocian; Peter Hlav√°ƒç</td>\n",
       "      <td>NaN</td>\n",
       "      <td>2022-05-03</td>\n",
       "      <td>NaN</td>\n",
       "      <td>NaN</td>\n",
       "      <td>\\nKname: \"Plazi.org taxonomic treatments database\" url: \"http://www.plazi.org\"\\n(name: \"GBIF\" url: \"https://www.gbif.org\"</td>\n",
       "      <td>NaN</td>\n",
       "      <td>NaN</td>\n",
       "    </tr>\n",
       "    <tr>\n",
       "      <th>1</th>\n",
       "      <td>https://www.gbif.org/dataset/d2084d83-6acf-4cc0-9abe-340714c82f1f</td>\n",
       "      <td>\\nî\\001Rivulus uakti sp. n. and R. amanapira sp. n. (Teleostei: Cyprinodontiformes: Rivulidae): two new species from the upper Rio Negro, Brazilian Amazon.</td>\n",
       "      <td>NaN</td>\n",
       "      <td>\\n˝\\002This dataset contains the digitized treatments in Plazi based on the original journal article Wilson J. E. M. Costa (2004): Rivulus uakti sp. n. and R. amanapira sp. n. (Teleostei: Cyprinodontiformes: Rivulidae): two new species from the upper Rio Negro, Brazilian Amazon. Zootaxa 465: 1-12, URL: http://www.zoobank.org/urn:lsid:zoobank.org:pub:EFD7A94F-D68A-4A04-801C-C6B2E9DF76B8</td>\n",
       "      <td>NaN</td>\n",
       "      <td>NaN</td>\n",
       "      <td>NaN</td>\n",
       "      <td>10.15468/hb3khx</td>\n",
       "      <td>NaN</td>\n",
       "      <td>Wilson J. E. M. Costa; Wilson J. E. M. Costa</td>\n",
       "      <td>NaN</td>\n",
       "      <td>2022-05-03</td>\n",
       "      <td>NaN</td>\n",
       "      <td>NaN</td>\n",
       "      <td>\\nKname: \"Plazi.org taxonomic treatments database\" url: \"http://www.plazi.org\"\\n(name: \"GBIF\" url: \"https://www.gbif.org\"</td>\n",
       "      <td>NaN</td>\n",
       "      <td>NaN</td>\n",
       "    </tr>\n",
       "    <tr>\n",
       "      <th>2</th>\n",
       "      <td>https://zenodo.org/record/1017584</td>\n",
       "      <td>\\n;N2 Schafer Lab N2 (Bristol, UK) | 2012-11-09T15:37:36+00:00</td>\n",
       "      <td>NaN</td>\n",
       "      <td>\\nƒ\\r&lt;blockquote&gt;\\n&lt;p&gt;This experiment is part of the &lt;em&gt;C.elegans behavioural database&lt;/em&gt;. For more information and the complete collection of experiments visit http://movement.openworm.org&lt;/p&gt;\\n&lt;/blockquote&gt;\\n\\n&lt;ul&gt;\\n&lt;li&gt;&lt;b&gt;preview link&lt;/b&gt; : https://www.youtube.com/watch?v=V16MVNPcWQ4&lt;/li&gt;\\n&lt;li&gt;&lt;b&gt;strain&lt;/b&gt; : N2&lt;/li&gt;\\n&lt;li&gt;&lt;b&gt;timestamp&lt;/b&gt; : 2012-11-09T15:37:36+00:00&lt;/li&gt;\\n&lt;li&gt;&lt;b&gt;gene&lt;/b&gt; : -N/A-&lt;/li&gt;\\n&lt;li&gt;&lt;b&gt;chromosome&lt;/b&gt; : -N/A-&lt;/li&gt;\\n&lt;li&gt;&lt;b&gt;allele&lt;/b&gt; : -N/A-&lt;/li&gt;\\n&lt;li&gt;&lt;b&gt;strain_description&lt;/b&gt; : Schafer Lab N2 (Bristol, UK)&lt;/li&gt;\\n&lt;li&gt;&lt;b&gt;sex&lt;/b&gt; : hermaphrodite&lt;/li&gt;\\n&lt;li&gt;&lt;b&gt;stage&lt;/b&gt; : adult&lt;/li&gt;\\n&lt;li&gt;&lt;b&gt;ventral_side&lt;/b&gt; : clockwise&lt;/li&gt;\\n&lt;li&gt;&lt;b&gt;media&lt;/b&gt; : NGM agar low peptone&lt;/li&gt;\\n&lt;li&gt;&lt;b&gt;arena&lt;/b&gt; :   &lt;ul&gt;\\n  &lt;li&gt;&lt;b&gt;style&lt;/b&gt; : petri&lt;/li&gt;\\n  &lt;li&gt;&lt;b&gt;size&lt;/b&gt; : 35&lt;/li&gt;\\n  &lt;li&gt;&lt;b&gt;orientation&lt;/b&gt; : away&lt;/li&gt;\\n  &lt;/ul&gt;\\n&lt;/li&gt;\\n&lt;li&gt;&lt;b&gt;food&lt;/b&gt; : OP50&lt;/li&gt;\\n&lt;li&gt;&lt;b&gt;habituation&lt;/b&gt; : 30m wait&lt;/li&gt;\\n&lt;li&gt;&lt;b&gt;who&lt;/b&gt; : Laura Grundy&lt;/li&gt;\\n&lt;li&gt;&lt;b&gt;protocol&lt;/b&gt; : Method in E. Yemini et al. doi:10.1038/nmeth.2560. Worm transferred to arena 30 minutes before recording starts.&lt;/li&gt;\\n&lt;li&gt;&lt;b&gt;lab&lt;/b&gt; :   &lt;ul&gt;\\n  &lt;li&gt;&lt;b&gt;name&lt;/b&gt; : William R Schafer&lt;/li&gt;\\n  &lt;li&gt;&lt;b&gt;location&lt;/b&gt; : MRC Laboratory of Molecular Biology, Hills Road, Cambridge, CB2 0QH, UK&lt;/li&gt;\\n  &lt;/ul&gt;\\n&lt;/li&gt;\\n&lt;li&gt;&lt;b&gt;software&lt;/b&gt; :   &lt;ul&gt;\\n  &lt;li&gt;&lt;b&gt;name&lt;/b&gt; : tierpsy (https://github.com/ver228/tierpsy-tracker)&lt;/li&gt;\\n  &lt;li&gt;&lt;b&gt;version&lt;/b&gt; : cbfc23eb4f1ac2f29be75ade7a937eed58a5b219&lt;/li&gt;\\n  &lt;li&gt;&lt;b&gt;featureID&lt;/b&gt; : @OMG&lt;/li&gt;\\n  &lt;/ul&gt;\\n&lt;/li&gt;\\n&lt;li&gt;&lt;b&gt;base_name&lt;/b&gt; : N2 on food L_2012_11_09__15_37_36___6___2&lt;/li&gt;\\n&lt;li&gt;&lt;b&gt;total time (s)&lt;/b&gt; : 899.033&lt;/li&gt;\\n&lt;li&gt;&lt;b&gt;frames per second&lt;/b&gt; : 30.03&lt;/li&gt;\\n&lt;li&gt;&lt;b&gt;video micrometers per pixel&lt;/b&gt; : 4.17406&lt;/li&gt;\\n&lt;li&gt;&lt;b&gt;number of segmented skeletons&lt;/b&gt; : 26993&lt;/li&gt;\\n&lt;/ul&gt;</td>\n",
       "      <td>NaN</td>\n",
       "      <td>NaN</td>\n",
       "      <td>NaN</td>\n",
       "      <td>10.5281/zenodo.1017584</td>\n",
       "      <td>NaN</td>\n",
       "      <td>Javer, Avelino; Currie, Michael; Hokanson, Jim; Lee, Chee Wai; Li, Kezhi; Yemini, Eviatar; Grundy, Laura J; Li, Chris; Ch\\'ng, Quee-Lim; Schafer, William R; Kerr, Rex; Brown, Andr√© EX</td>\n",
       "      <td>NaN</td>\n",
       "      <td>2017-10-20</td>\n",
       "      <td>NaN</td>\n",
       "      <td>\\n name: \"Bristol (England, United\"\\n\\026name: \"United Kingdom\"</td>\n",
       "      <td>NaN</td>\n",
       "      <td>NaN</td>\n",
       "      <td>NaN</td>\n",
       "    </tr>\n",
       "  </tbody>\n",
       "</table>\n",
       "</div>"
      ],
      "text/plain": [
       "                                                          source_url  \\\n",
       "0  https://www.gbif.org/dataset/d1f4c672-a490-4c05-8124-803b5d99a165   \n",
       "1  https://www.gbif.org/dataset/d2084d83-6acf-4cc0-9abe-340714c82f1f   \n",
       "2                                  https://zenodo.org/record/1017584   \n",
       "\n",
       "                                                                                                                                                         title  \\\n",
       "0                                  \\nxThe new species of the genus Atanygnathus Jacobson, 1909 (Coleoptera: Styphylinidae: Staphylininae) from R√©union Island   \n",
       "1  \\nî\\001Rivulus uakti sp. n. and R. amanapira sp. n. (Teleostei: Cyprinodontiformes: Rivulidae): two new species from the upper Rio Negro, Brazilian Amazon.   \n",
       "2                                                                                               \\n;N2 Schafer Lab N2 (Bristol, UK) | 2012-11-09T15:37:36+00:00   \n",
       "\n",
       "  subtitle  \\\n",
       "0      NaN   \n",
       "1      NaN   \n",
       "2      NaN   \n",
       "\n",
       "                                                                                                                                                                                                                                                                                                                                                                                                                                                                                                                                                                                                                                                                                                                                                                                                                                                                                                                                                                                                                                                                                                                                                                                                                                                                                                                                                                                                                                                                                                                                                                                                                                                                                                                                                                                                                                           description  \\\n",
       "0                                                                                                                                                                                                                                                                                                                                                                                                                                                                                                                                                                                                                                                                                                                                                                                                                                                                                                                                                                                                                                                                                                                                                                                                                                                                                                                                                                                                                                                                                                   \\nÀ\\002This dataset contains the digitized treatments in Plazi based on the original journal article Kocian, Mat√∫≈°, Hlav√°ƒç, Peter (2019): The new species of the genus Atanygnathus Jacobson, 1909 (Coleoptera: Styphylinidae: Staphylininae) from R√©union Island. Zootaxa 4612 (1): 141-144, DOI: https://doi.org/10.11646/zootaxa.4612.1.12   \n",
       "1                                                                                                                                                                                                                                                                                                                                                                                                                                                                                                                                                                                                                                                                                                                                                                                                                                                                                                                                                                                                                                                                                                                                                                                                                                                                                                                                                                                                                                                 \\n˝\\002This dataset contains the digitized treatments in Plazi based on the original journal article Wilson J. E. M. Costa (2004): Rivulus uakti sp. n. and R. amanapira sp. n. (Teleostei: Cyprinodontiformes: Rivulidae): two new species from the upper Rio Negro, Brazilian Amazon. Zootaxa 465: 1-12, URL: http://www.zoobank.org/urn:lsid:zoobank.org:pub:EFD7A94F-D68A-4A04-801C-C6B2E9DF76B8   \n",
       "2  \\nƒ\\r<blockquote>\\n<p>This experiment is part of the <em>C.elegans behavioural database</em>. For more information and the complete collection of experiments visit http://movement.openworm.org</p>\\n</blockquote>\\n\\n<ul>\\n<li><b>preview link</b> : https://www.youtube.com/watch?v=V16MVNPcWQ4</li>\\n<li><b>strain</b> : N2</li>\\n<li><b>timestamp</b> : 2012-11-09T15:37:36+00:00</li>\\n<li><b>gene</b> : -N/A-</li>\\n<li><b>chromosome</b> : -N/A-</li>\\n<li><b>allele</b> : -N/A-</li>\\n<li><b>strain_description</b> : Schafer Lab N2 (Bristol, UK)</li>\\n<li><b>sex</b> : hermaphrodite</li>\\n<li><b>stage</b> : adult</li>\\n<li><b>ventral_side</b> : clockwise</li>\\n<li><b>media</b> : NGM agar low peptone</li>\\n<li><b>arena</b> :   <ul>\\n  <li><b>style</b> : petri</li>\\n  <li><b>size</b> : 35</li>\\n  <li><b>orientation</b> : away</li>\\n  </ul>\\n</li>\\n<li><b>food</b> : OP50</li>\\n<li><b>habituation</b> : 30m wait</li>\\n<li><b>who</b> : Laura Grundy</li>\\n<li><b>protocol</b> : Method in E. Yemini et al. doi:10.1038/nmeth.2560. Worm transferred to arena 30 minutes before recording starts.</li>\\n<li><b>lab</b> :   <ul>\\n  <li><b>name</b> : William R Schafer</li>\\n  <li><b>location</b> : MRC Laboratory of Molecular Biology, Hills Road, Cambridge, CB2 0QH, UK</li>\\n  </ul>\\n</li>\\n<li><b>software</b> :   <ul>\\n  <li><b>name</b> : tierpsy (https://github.com/ver228/tierpsy-tracker)</li>\\n  <li><b>version</b> : cbfc23eb4f1ac2f29be75ade7a937eed58a5b219</li>\\n  <li><b>featureID</b> : @OMG</li>\\n  </ul>\\n</li>\\n<li><b>base_name</b> : N2 on food L_2012_11_09__15_37_36___6___2</li>\\n<li><b>total time (s)</b> : 899.033</li>\\n<li><b>frames per second</b> : 30.03</li>\\n<li><b>video micrometers per pixel</b> : 4.17406</li>\\n<li><b>number of segmented skeletons</b> : 26993</li>\\n</ul>   \n",
       "\n",
       "  variablesmeasured measurementtechnique sameas                         doi  \\\n",
       "0               NaN                  NaN    NaN  10.11646/zootaxa.4612.1.12   \n",
       "1               NaN                  NaN    NaN             10.15468/hb3khx   \n",
       "2               NaN                  NaN    NaN      10.5281/zenodo.1017584   \n",
       "\n",
       "  compactidentifier  \\\n",
       "0               NaN   \n",
       "1               NaN   \n",
       "2               NaN   \n",
       "\n",
       "                                                                                                                                                                                     author  \\\n",
       "0                                                                                                                            Mat√∫≈° Kocian; Peter Hlav√°ƒç; Mat√∫≈° Kocian; Peter Hlav√°ƒç   \n",
       "1                                                                                                                                              Wilson J. E. M. Costa; Wilson J. E. M. Costa   \n",
       "2  Javer, Avelino; Currie, Michael; Hokanson, Jim; Lee, Chee Wai; Li, Kezhi; Yemini, Eviatar; Grundy, Laura J; Li, Chris; Ch\\'ng, Quee-Lim; Schafer, William R; Kerr, Rex; Brown, Andr√© EX   \n",
       "\n",
       "  isaccessibleforfree datemodified distribution  \\\n",
       "0                 NaN   2022-05-03          NaN   \n",
       "1                 NaN   2022-05-03          NaN   \n",
       "2                 NaN   2017-10-20          NaN   \n",
       "\n",
       "                                                   spatialcoverage  \\\n",
       "0                                                              NaN   \n",
       "1                                                              NaN   \n",
       "2  \\n name: \"Bristol (England, United\"\\n\\026name: \"United Kingdom\"   \n",
       "\n",
       "                                                                                                                    provider  \\\n",
       "0  \\nKname: \"Plazi.org taxonomic treatments database\" url: \"http://www.plazi.org\"\\n(name: \"GBIF\" url: \"https://www.gbif.org\"   \n",
       "1  \\nKname: \"Plazi.org taxonomic treatments database\" url: \"http://www.plazi.org\"\\n(name: \"GBIF\" url: \"https://www.gbif.org\"   \n",
       "2                                                                                                                        NaN   \n",
       "\n",
       "  funder temporalcoverage  \n",
       "0    NaN              NaN  \n",
       "1    NaN              NaN  \n",
       "2    NaN              NaN  "
      ]
     },
     "execution_count": 11,
     "metadata": {},
     "output_type": "execute_result"
    }
   ],
   "source": [
    "df1.head(3)"
   ]
  },
  {
   "cell_type": "code",
   "execution_count": 13,
   "id": "b988c03d",
   "metadata": {},
   "outputs": [
    {
     "data": {
      "text/html": [
       "<div>\n",
       "<style scoped>\n",
       "    .dataframe tbody tr th:only-of-type {\n",
       "        vertical-align: middle;\n",
       "    }\n",
       "\n",
       "    .dataframe tbody tr th {\n",
       "        vertical-align: top;\n",
       "    }\n",
       "\n",
       "    .dataframe thead th {\n",
       "        text-align: right;\n",
       "    }\n",
       "</style>\n",
       "<table border=\"1\" class=\"dataframe\">\n",
       "  <thead>\n",
       "    <tr style=\"text-align: right;\">\n",
       "      <th></th>\n",
       "      <th>title</th>\n",
       "      <th>distribution</th>\n",
       "      <th>description</th>\n",
       "    </tr>\n",
       "  </thead>\n",
       "  <tbody>\n",
       "    <tr>\n",
       "      <th>0</th>\n",
       "      <td>\\nxThe new species of the genus Atanygnathus Jacobson, 1909 (Coleoptera: Styphylinidae: Staphylininae) from R√©union Island</td>\n",
       "      <td>NaN</td>\n",
       "      <td>\\nÀ\\002This dataset contains the digitized treatments in Plazi based on the original journal article Kocian, Mat√∫≈°, Hlav√°ƒç, Peter (2019): The new species of the genus Atanygnathus Jacobson, 1909 (Coleoptera: Styphylinidae: Staphylininae) from R√©union Island. Zootaxa 4612 (1): 141-144, DOI: https://doi.org/10.11646/zootaxa.4612.1.12</td>\n",
       "    </tr>\n",
       "    <tr>\n",
       "      <th>1</th>\n",
       "      <td>\\nî\\001Rivulus uakti sp. n. and R. amanapira sp. n. (Teleostei: Cyprinodontiformes: Rivulidae): two new species from the upper Rio Negro, Brazilian Amazon.</td>\n",
       "      <td>NaN</td>\n",
       "      <td>\\n˝\\002This dataset contains the digitized treatments in Plazi based on the original journal article Wilson J. E. M. Costa (2004): Rivulus uakti sp. n. and R. amanapira sp. n. (Teleostei: Cyprinodontiformes: Rivulidae): two new species from the upper Rio Negro, Brazilian Amazon. Zootaxa 465: 1-12, URL: http://www.zoobank.org/urn:lsid:zoobank.org:pub:EFD7A94F-D68A-4A04-801C-C6B2E9DF76B8</td>\n",
       "    </tr>\n",
       "  </tbody>\n",
       "</table>\n",
       "</div>"
      ],
      "text/plain": [
       "                                                                                                                                                         title  \\\n",
       "0                                  \\nxThe new species of the genus Atanygnathus Jacobson, 1909 (Coleoptera: Styphylinidae: Staphylininae) from R√©union Island   \n",
       "1  \\nî\\001Rivulus uakti sp. n. and R. amanapira sp. n. (Teleostei: Cyprinodontiformes: Rivulidae): two new species from the upper Rio Negro, Brazilian Amazon.   \n",
       "\n",
       "  distribution  \\\n",
       "0          NaN   \n",
       "1          NaN   \n",
       "\n",
       "                                                                                                                                                                                                                                                                                                                                                                                            description  \n",
       "0                                                    \\nÀ\\002This dataset contains the digitized treatments in Plazi based on the original journal article Kocian, Mat√∫≈°, Hlav√°ƒç, Peter (2019): The new species of the genus Atanygnathus Jacobson, 1909 (Coleoptera: Styphylinidae: Staphylininae) from R√©union Island. Zootaxa 4612 (1): 141-144, DOI: https://doi.org/10.11646/zootaxa.4612.1.12  \n",
       "1  \\n˝\\002This dataset contains the digitized treatments in Plazi based on the original journal article Wilson J. E. M. Costa (2004): Rivulus uakti sp. n. and R. amanapira sp. n. (Teleostei: Cyprinodontiformes: Rivulidae): two new species from the upper Rio Negro, Brazilian Amazon. Zootaxa 465: 1-12, URL: http://www.zoobank.org/urn:lsid:zoobank.org:pub:EFD7A94F-D68A-4A04-801C-C6B2E9DF76B8  "
      ]
     },
     "execution_count": 13,
     "metadata": {},
     "output_type": "execute_result"
    }
   ],
   "source": [
    "df1[['title','distribution','description']].head(2)"
   ]
  },
  {
   "cell_type": "code",
   "execution_count": 14,
   "id": "4a9531f5",
   "metadata": {},
   "outputs": [
    {
     "data": {
      "text/plain": [
       "Index(['source_url', 'title', 'subtitle', 'description', 'variablesmeasured',\n",
       "       'measurementtechnique', 'sameas', 'doi', 'compactidentifier', 'author',\n",
       "       'isaccessibleforfree', 'datemodified', 'distribution',\n",
       "       'spatialcoverage', 'provider', 'funder', 'temporalcoverage'],\n",
       "      dtype='object')"
      ]
     },
     "execution_count": 14,
     "metadata": {},
     "output_type": "execute_result"
    }
   ],
   "source": [
    "df1.columns"
   ]
  },
  {
   "cell_type": "markdown",
   "id": "196f5781",
   "metadata": {},
   "source": [
    "## 1.2 Dataset: a schema.org type -> https://schema.org/Dataset"
   ]
  },
  {
   "cell_type": "code",
   "execution_count": 15,
   "id": "df73b6f7",
   "metadata": {},
   "outputs": [
    {
     "name": "stdout",
     "output_type": "stream",
     "text": [
      "<class 'pandas.core.frame.DataFrame'>\n",
      "RangeIndex: 60000 entries, 0 to 59999\n",
      "Data columns (total 17 columns):\n",
      " #   Column                Non-Null Count  Dtype \n",
      "---  ------                --------------  ----- \n",
      " 0   source_url            60000 non-null  object\n",
      " 1   title                 60000 non-null  object\n",
      " 2   subtitle              805 non-null    object\n",
      " 3   description           60000 non-null  object\n",
      " 4   variablesmeasured     4991 non-null   object\n",
      " 5   measurementtechnique  616 non-null    object\n",
      " 6   sameas                28272 non-null  object\n",
      " 7   doi                   57401 non-null  object\n",
      " 8   compactidentifier     2804 non-null   object\n",
      " 9   author                53094 non-null  object\n",
      " 10  isaccessibleforfree   7067 non-null   object\n",
      " 11  datemodified          59721 non-null  object\n",
      " 12  distribution          35862 non-null  object\n",
      " 13  spatialcoverage       15644 non-null  object\n",
      " 14  provider              54854 non-null  object\n",
      " 15  funder                1777 non-null   object\n",
      " 16  temporalcoverage      6857 non-null   object\n",
      "dtypes: object(17)\n",
      "memory usage: 7.8+ MB\n"
     ]
    }
   ],
   "source": [
    "df1.info(verbose=True)"
   ]
  },
  {
   "cell_type": "markdown",
   "id": "25532dae",
   "metadata": {},
   "source": [
    "## 1.4 Dask"
   ]
  },
  {
   "cell_type": "markdown",
   "id": "91d26a23",
   "metadata": {},
   "source": [
    "### 1.4.1 dask: df3"
   ]
  },
  {
   "cell_type": "code",
   "execution_count": 15,
   "id": "47bc01fd",
   "metadata": {},
   "outputs": [],
   "source": [
    "# pip install \"dask[complete]\""
   ]
  },
  {
   "cell_type": "code",
   "execution_count": 24,
   "id": "4253d691",
   "metadata": {},
   "outputs": [],
   "source": [
    "import dask.dataframe as dd"
   ]
  },
  {
   "cell_type": "code",
   "execution_count": 28,
   "id": "547deb05",
   "metadata": {},
   "outputs": [],
   "source": [
    "def read_csv_with_dask_exclude_last_column(file_path):\n",
    "#     dtype={'funder': 'object',\n",
    "#        'measurementTechnique': 'object',\n",
    "#        'provider': 'object',\n",
    "#        'variablesMeasured': 'object',\n",
    "#        'isAccessibleForFree': 'object',\n",
    "#        'dateModified': 'object'} \n",
    "    dtype={'compactidentifier': 'object',\n",
    "       'distribution': 'object',\n",
    "       'funder': 'object',\n",
    "       'measurementtechnique': 'object',\n",
    "       'sameas': 'object',\n",
    "       'subtitle': 'object',\n",
    "       'variablesmeasured': 'object'}\n",
    "    \n",
    "    columns = pd.read_csv(file_path, nrows=0, encoding=encoding).columns.tolist()\n",
    "#     columns_to_use = columns[:-1]\n",
    "    \n",
    "    df = dd.read_csv(file_path, usecols=columns, dtype=dtype, encoding=encoding)\n",
    "    return df\n",
    "\n",
    "file_path = 'Data/Google/2024/metadata_table.csv'\n",
    "df3_dask = read_csv_with_dask_exclude_last_column(file_path)"
   ]
  },
  {
   "cell_type": "code",
   "execution_count": 29,
   "id": "fc2475b8",
   "metadata": {},
   "outputs": [
    {
     "data": {
      "text/plain": [
       "source_url               object\n",
       "title                    object\n",
       "subtitle                 object\n",
       "description              object\n",
       "variablesmeasured        object\n",
       "measurementtechnique     object\n",
       "sameas                   object\n",
       "doi                      object\n",
       "compactidentifier        object\n",
       "author                   object\n",
       "isaccessibleforfree     float64\n",
       "datemodified             object\n",
       "distribution             object\n",
       "spatialcoverage          object\n",
       "provider                 object\n",
       "funder                   object\n",
       "temporalcoverage         object\n",
       "dtype: object"
      ]
     },
     "execution_count": 29,
     "metadata": {},
     "output_type": "execute_result"
    }
   ],
   "source": [
    "df3_dask.dtypes"
   ]
  },
  {
   "cell_type": "code",
   "execution_count": 30,
   "id": "abd7db88",
   "metadata": {
    "scrolled": true
   },
   "outputs": [
    {
     "data": {
      "text/html": [
       "<div>\n",
       "<style scoped>\n",
       "    .dataframe tbody tr th:only-of-type {\n",
       "        vertical-align: middle;\n",
       "    }\n",
       "\n",
       "    .dataframe tbody tr th {\n",
       "        vertical-align: top;\n",
       "    }\n",
       "\n",
       "    .dataframe thead th {\n",
       "        text-align: right;\n",
       "    }\n",
       "</style>\n",
       "<table border=\"1\" class=\"dataframe\">\n",
       "  <thead>\n",
       "    <tr style=\"text-align: right;\">\n",
       "      <th></th>\n",
       "      <th>source_url</th>\n",
       "      <th>title</th>\n",
       "      <th>subtitle</th>\n",
       "      <th>description</th>\n",
       "      <th>variablesmeasured</th>\n",
       "      <th>measurementtechnique</th>\n",
       "      <th>sameas</th>\n",
       "      <th>doi</th>\n",
       "      <th>compactidentifier</th>\n",
       "      <th>author</th>\n",
       "      <th>isaccessibleforfree</th>\n",
       "      <th>datemodified</th>\n",
       "      <th>distribution</th>\n",
       "      <th>spatialcoverage</th>\n",
       "      <th>provider</th>\n",
       "      <th>funder</th>\n",
       "      <th>temporalcoverage</th>\n",
       "    </tr>\n",
       "  </thead>\n",
       "  <tbody>\n",
       "    <tr>\n",
       "      <th>37009</th>\n",
       "      <td>https://figshare.com/articles/dataset/Hellbender_skin_transcriptome_metadata/14786094</td>\n",
       "      <td>\\n&amp;Hellbender skin transcriptome metadata</td>\n",
       "      <td>NaN</td>\n",
       "      <td>\\n’\\003In this study, we explored the efficacy of Bd\\nvaccination on hellbender salamanders and functionally characterized host,\\nhost-associated microbiome, and pathogen throughout immunization and infection.\\nWe compared the function of hellbender skin, the skin microbiome, and Bd with a\\nmetatranscriptome approach at four experimental time points, (i)\\npre-vaccination and pre-infection, (ii) post-vaccination and pre-infection,\\n(iii) early infection, and (iv) late infection.</td>\n",
       "      <td>NaN</td>\n",
       "      <td>NaN</td>\n",
       "      <td>\\nWhttps://figshare.com/articles/dataset/Hellbender_skin_transcriptome_metadata/14786094/1</td>\n",
       "      <td>10.25573/data.14786094.v1</td>\n",
       "      <td>NaN</td>\n",
       "      <td>Alyssa Kaganer; Robert J. Ossiboff; Nicole I. Keith; Krysten L. Schuler; Pierre Comizzoli; Matthew\\nP. Hare; Robert C. Fleischer; Brian Gratwicke; Elizabeth M. Bunting</td>\n",
       "      <td>NaN</td>\n",
       "      <td>2023-02-01</td>\n",
       "      <td>\\n`contentUrl: \"https://figshare.com/ndownloader/files/28415163\" encodingFormat: \"application/gzip\"</td>\n",
       "      <td>NaN</td>\n",
       "      <td>\\nCname: \"National Zoo and Smithsonian Conservation Biology Institute\"</td>\n",
       "      <td>NaN</td>\n",
       "      <td>NaN</td>\n",
       "    </tr>\n",
       "    <tr>\n",
       "      <th>37010</th>\n",
       "      <td>https://figshare.com/articles/dataset/Elevation_drives_taxonomic_turnover_of_phyllostomid_bats_in_the_Amazon_biome/14701728</td>\n",
       "      <td>\\nmElevation drives taxonomic, functional and phylogenetic Œ≤-diversity of phyllostomid bats in the Amazon biome</td>\n",
       "      <td>NaN</td>\n",
       "      <td>\\n≥\\002The dataset has all the shapefiles, tables, codes, and other necessary files to replicate all analyses in the manuscript. Elevation drives taxonomic, functional and phylogenetic Œ≤‚Äêdiversity of phyllostomid bats in the Amazon biome (2022) is published in the Journal of Biogeography. DOI:10.1111/jbi.14533</td>\n",
       "      <td>NaN</td>\n",
       "      <td>NaN</td>\n",
       "      <td>\\n}https://figshare.com/articles/dataset/Elevation_drives_taxonomic_turnover_of_phyllostomid_bats_in_the_Amazon_biome/14701728/3</td>\n",
       "      <td>10.6084/m9.figshare.14701728.v3</td>\n",
       "      <td>NaN</td>\n",
       "      <td>Isadora E. Fluck; Cristian Dambros; William Carvalho</td>\n",
       "      <td>NaN</td>\n",
       "      <td>2022-11-05</td>\n",
       "      <td>\\nacontentUrl: \"https://figshare.com/ndownloader/files/37673463\" encodingFormat: \"application/x-rar\"</td>\n",
       "      <td>NaN</td>\n",
       "      <td>\\n\\020name: \"figshare\"</td>\n",
       "      <td>NaN</td>\n",
       "      <td>NaN</td>\n",
       "    </tr>\n",
       "    <tr>\n",
       "      <th>37011</th>\n",
       "      <td>https://figshare.com/articles/dataset/HiTiSEA_1981-03/14558736/1</td>\n",
       "      <td>\\n\\017HiTiSEA_1981-03</td>\n",
       "      <td>NaN</td>\n",
       "      <td>\\nSDaily files of human thermal-stress indices for March 1981 over South and East Asia</td>\n",
       "      <td>NaN</td>\n",
       "      <td>NaN</td>\n",
       "      <td>\\n@https://figshare.com/articles/dataset/HiTiSEA_1981-03/14558736/1</td>\n",
       "      <td>10.6084/m9.figshare.14558736.v1</td>\n",
       "      <td>NaN</td>\n",
       "      <td>Yechao Yan; Yangyang Xu; Shuping  Yue</td>\n",
       "      <td>NaN</td>\n",
       "      <td>2021-08-20</td>\n",
       "      <td>\\nbcontentUrl: \"https://figshare.com/ndownloader/files/27930144\" encodingFormat: \"application/x-gzip\"</td>\n",
       "      <td>NaN</td>\n",
       "      <td>\\n\\020name: \"figshare\"</td>\n",
       "      <td>NaN</td>\n",
       "      <td>NaN</td>\n",
       "    </tr>\n",
       "    <tr>\n",
       "      <th>37012</th>\n",
       "      <td>https://figshare.com/articles/dataset/HiTiSEA_1994-02/14562990/1</td>\n",
       "      <td>\\n\\017HiTiSEA_1994-02</td>\n",
       "      <td>NaN</td>\n",
       "      <td>\\nVDaily files of human thermal-stress indices for February 1994 over South and East Asia</td>\n",
       "      <td>NaN</td>\n",
       "      <td>NaN</td>\n",
       "      <td>\\n@https://figshare.com/articles/dataset/HiTiSEA_1994-02/14562990/1</td>\n",
       "      <td>10.6084/m9.figshare.14562990.v1</td>\n",
       "      <td>NaN</td>\n",
       "      <td>Yechao Yan; Yangyang Xu; Shuping Yue</td>\n",
       "      <td>NaN</td>\n",
       "      <td>2021-08-20</td>\n",
       "      <td>\\nbcontentUrl: \"https://figshare.com/ndownloader/files/27944142\" encodingFormat: \"application/x-gzip\"</td>\n",
       "      <td>NaN</td>\n",
       "      <td>\\n\\020name: \"figshare\"</td>\n",
       "      <td>NaN</td>\n",
       "      <td>NaN</td>\n",
       "    </tr>\n",
       "    <tr>\n",
       "      <th>37013</th>\n",
       "      <td>https://figshare.com/articles/dataset/IO-NA_warming_chain_codes/19771150</td>\n",
       "      <td>\\n\\031IO-NA_warming_chain_codes</td>\n",
       "      <td>NaN</td>\n",
       "      <td>\\n\\'This include codes for creating figures</td>\n",
       "      <td>NaN</td>\n",
       "      <td>NaN</td>\n",
       "      <td>\\nJhttps://figshare.com/articles/dataset/IO-NA_warming_chain_codes/19771150/1</td>\n",
       "      <td>10.6084/m9.figshare.19771150.v1</td>\n",
       "      <td>NaN</td>\n",
       "      <td>youngmin yang</td>\n",
       "      <td>NaN</td>\n",
       "      <td>2022-05-16</td>\n",
       "      <td>\\nbcontentUrl: \"https://figshare.com/ndownloader/files/35127397\" encodingFormat: \"application/x-gzip\"</td>\n",
       "      <td>NaN</td>\n",
       "      <td>\\n\\020name: \"figshare\"</td>\n",
       "      <td>NaN</td>\n",
       "      <td>NaN</td>\n",
       "    </tr>\n",
       "  </tbody>\n",
       "</table>\n",
       "</div>"
      ],
      "text/plain": [
       "                                                                                                                        source_url  \\\n",
       "37009                                        https://figshare.com/articles/dataset/Hellbender_skin_transcriptome_metadata/14786094   \n",
       "37010  https://figshare.com/articles/dataset/Elevation_drives_taxonomic_turnover_of_phyllostomid_bats_in_the_Amazon_biome/14701728   \n",
       "37011                                                             https://figshare.com/articles/dataset/HiTiSEA_1981-03/14558736/1   \n",
       "37012                                                             https://figshare.com/articles/dataset/HiTiSEA_1994-02/14562990/1   \n",
       "37013                                                     https://figshare.com/articles/dataset/IO-NA_warming_chain_codes/19771150   \n",
       "\n",
       "                                                                                                                  title  \\\n",
       "37009                                                                         \\n&Hellbender skin transcriptome metadata   \n",
       "37010  \\nmElevation drives taxonomic, functional and phylogenetic Œ≤-diversity of phyllostomid bats in the Amazon biome   \n",
       "37011                                                                                             \\n\\017HiTiSEA_1981-03   \n",
       "37012                                                                                             \\n\\017HiTiSEA_1994-02   \n",
       "37013                                                                                   \\n\\031IO-NA_warming_chain_codes   \n",
       "\n",
       "      subtitle  \\\n",
       "37009      NaN   \n",
       "37010      NaN   \n",
       "37011      NaN   \n",
       "37012      NaN   \n",
       "37013      NaN   \n",
       "\n",
       "                                                                                                                                                                                                                                                                                                                                                                                                                                                                                              description  \\\n",
       "37009  \\n’\\003In this study, we explored the efficacy of Bd\\nvaccination on hellbender salamanders and functionally characterized host,\\nhost-associated microbiome, and pathogen throughout immunization and infection.\\nWe compared the function of hellbender skin, the skin microbiome, and Bd with a\\nmetatranscriptome approach at four experimental time points, (i)\\npre-vaccination and pre-infection, (ii) post-vaccination and pre-infection,\\n(iii) early infection, and (iv) late infection.   \n",
       "37010                                                                                                                                                                          \\n≥\\002The dataset has all the shapefiles, tables, codes, and other necessary files to replicate all analyses in the manuscript. Elevation drives taxonomic, functional and phylogenetic Œ≤‚Äêdiversity of phyllostomid bats in the Amazon biome (2022) is published in the Journal of Biogeography. DOI:10.1111/jbi.14533   \n",
       "37011                                                                                                                                                                                                                                                                                                                                                                                                              \\nSDaily files of human thermal-stress indices for March 1981 over South and East Asia   \n",
       "37012                                                                                                                                                                                                                                                                                                                                                                                                           \\nVDaily files of human thermal-stress indices for February 1994 over South and East Asia   \n",
       "37013                                                                                                                                                                                                                                                                                                                                                                                                                                                         \\n\\'This include codes for creating figures   \n",
       "\n",
       "      variablesmeasured measurementtechnique  \\\n",
       "37009               NaN                  NaN   \n",
       "37010               NaN                  NaN   \n",
       "37011               NaN                  NaN   \n",
       "37012               NaN                  NaN   \n",
       "37013               NaN                  NaN   \n",
       "\n",
       "                                                                                                                                 sameas  \\\n",
       "37009                                        \\nWhttps://figshare.com/articles/dataset/Hellbender_skin_transcriptome_metadata/14786094/1   \n",
       "37010  \\n}https://figshare.com/articles/dataset/Elevation_drives_taxonomic_turnover_of_phyllostomid_bats_in_the_Amazon_biome/14701728/3   \n",
       "37011                                                               \\n@https://figshare.com/articles/dataset/HiTiSEA_1981-03/14558736/1   \n",
       "37012                                                               \\n@https://figshare.com/articles/dataset/HiTiSEA_1994-02/14562990/1   \n",
       "37013                                                     \\nJhttps://figshare.com/articles/dataset/IO-NA_warming_chain_codes/19771150/1   \n",
       "\n",
       "                                   doi compactidentifier  \\\n",
       "37009        10.25573/data.14786094.v1               NaN   \n",
       "37010  10.6084/m9.figshare.14701728.v3               NaN   \n",
       "37011  10.6084/m9.figshare.14558736.v1               NaN   \n",
       "37012  10.6084/m9.figshare.14562990.v1               NaN   \n",
       "37013  10.6084/m9.figshare.19771150.v1               NaN   \n",
       "\n",
       "                                                                                                                                                                        author  \\\n",
       "37009  Alyssa Kaganer; Robert J. Ossiboff; Nicole I. Keith; Krysten L. Schuler; Pierre Comizzoli; Matthew\\nP. Hare; Robert C. Fleischer; Brian Gratwicke; Elizabeth M. Bunting   \n",
       "37010                                                                                                                     Isadora E. Fluck; Cristian Dambros; William Carvalho   \n",
       "37011                                                                                                                                    Yechao Yan; Yangyang Xu; Shuping  Yue   \n",
       "37012                                                                                                                                     Yechao Yan; Yangyang Xu; Shuping Yue   \n",
       "37013                                                                                                                                                            youngmin yang   \n",
       "\n",
       "       isaccessibleforfree datemodified  \\\n",
       "37009                  NaN   2023-02-01   \n",
       "37010                  NaN   2022-11-05   \n",
       "37011                  NaN   2021-08-20   \n",
       "37012                  NaN   2021-08-20   \n",
       "37013                  NaN   2022-05-16   \n",
       "\n",
       "                                                                                                distribution  \\\n",
       "37009    \\n`contentUrl: \"https://figshare.com/ndownloader/files/28415163\" encodingFormat: \"application/gzip\"   \n",
       "37010   \\nacontentUrl: \"https://figshare.com/ndownloader/files/37673463\" encodingFormat: \"application/x-rar\"   \n",
       "37011  \\nbcontentUrl: \"https://figshare.com/ndownloader/files/27930144\" encodingFormat: \"application/x-gzip\"   \n",
       "37012  \\nbcontentUrl: \"https://figshare.com/ndownloader/files/27944142\" encodingFormat: \"application/x-gzip\"   \n",
       "37013  \\nbcontentUrl: \"https://figshare.com/ndownloader/files/35127397\" encodingFormat: \"application/x-gzip\"   \n",
       "\n",
       "      spatialcoverage  \\\n",
       "37009             NaN   \n",
       "37010             NaN   \n",
       "37011             NaN   \n",
       "37012             NaN   \n",
       "37013             NaN   \n",
       "\n",
       "                                                                     provider  \\\n",
       "37009  \\nCname: \"National Zoo and Smithsonian Conservation Biology Institute\"   \n",
       "37010                                                  \\n\\020name: \"figshare\"   \n",
       "37011                                                  \\n\\020name: \"figshare\"   \n",
       "37012                                                  \\n\\020name: \"figshare\"   \n",
       "37013                                                  \\n\\020name: \"figshare\"   \n",
       "\n",
       "      funder temporalcoverage  \n",
       "37009    NaN              NaN  \n",
       "37010    NaN              NaN  \n",
       "37011    NaN              NaN  \n",
       "37012    NaN              NaN  \n",
       "37013    NaN              NaN  "
      ]
     },
     "execution_count": 30,
     "metadata": {},
     "output_type": "execute_result"
    }
   ],
   "source": [
    "df3_dask.tail(5)"
   ]
  },
  {
   "cell_type": "markdown",
   "id": "d47b21b8",
   "metadata": {},
   "source": [
    "# 2. Data Type"
   ]
  },
  {
   "cell_type": "markdown",
   "id": "b187f441",
   "metadata": {},
   "source": [
    "## 2.1 Extract Text"
   ]
  },
  {
   "cell_type": "code",
   "execution_count": 44,
   "id": "689e9971",
   "metadata": {
    "scrolled": false
   },
   "outputs": [
    {
     "data": {
      "text/plain": [
       "0                                                                                                                                                                                                                                                                                                                                                                                                                                                                                                                                                                                                                                                                                                                                                                                                                                                                                                                                                                                                                                                                                                                                                                                                                                                                                                                                                                                                                                                                                                     \\nÀ\\002This dataset contains the digitized treatments in Plazi based on the original journal article Kocian, Mat√∫≈°, Hlav√°ƒç, Peter (2019): The new species of the genus Atanygnathus Jacobson, 1909 (Coleoptera: Styphylinidae: Staphylininae) from R√©union Island. Zootaxa 4612 (1): 141-144, DOI: https://doi.org/10.11646/zootaxa.4612.1.12\n",
       "1                                                                                                                                                                                                                                                                                                                                                                                                                                                                                                                                                                                                                                                                                                                                                                                                                                                                                                                                                                                                                                                                                                                                                                                                                                                                                                                                                                                                                                                   \\n˝\\002This dataset contains the digitized treatments in Plazi based on the original journal article Wilson J. E. M. Costa (2004): Rivulus uakti sp. n. and R. amanapira sp. n. (Teleostei: Cyprinodontiformes: Rivulidae): two new species from the upper Rio Negro, Brazilian Amazon. Zootaxa 465: 1-12, URL: http://www.zoobank.org/urn:lsid:zoobank.org:pub:EFD7A94F-D68A-4A04-801C-C6B2E9DF76B8\n",
       "2    \\nƒ\\r<blockquote>\\n<p>This experiment is part of the <em>C.elegans behavioural database</em>. For more information and the complete collection of experiments visit http://movement.openworm.org</p>\\n</blockquote>\\n\\n<ul>\\n<li><b>preview link</b> : https://www.youtube.com/watch?v=V16MVNPcWQ4</li>\\n<li><b>strain</b> : N2</li>\\n<li><b>timestamp</b> : 2012-11-09T15:37:36+00:00</li>\\n<li><b>gene</b> : -N/A-</li>\\n<li><b>chromosome</b> : -N/A-</li>\\n<li><b>allele</b> : -N/A-</li>\\n<li><b>strain_description</b> : Schafer Lab N2 (Bristol, UK)</li>\\n<li><b>sex</b> : hermaphrodite</li>\\n<li><b>stage</b> : adult</li>\\n<li><b>ventral_side</b> : clockwise</li>\\n<li><b>media</b> : NGM agar low peptone</li>\\n<li><b>arena</b> :   <ul>\\n  <li><b>style</b> : petri</li>\\n  <li><b>size</b> : 35</li>\\n  <li><b>orientation</b> : away</li>\\n  </ul>\\n</li>\\n<li><b>food</b> : OP50</li>\\n<li><b>habituation</b> : 30m wait</li>\\n<li><b>who</b> : Laura Grundy</li>\\n<li><b>protocol</b> : Method in E. Yemini et al. doi:10.1038/nmeth.2560. Worm transferred to arena 30 minutes before recording starts.</li>\\n<li><b>lab</b> :   <ul>\\n  <li><b>name</b> : William R Schafer</li>\\n  <li><b>location</b> : MRC Laboratory of Molecular Biology, Hills Road, Cambridge, CB2 0QH, UK</li>\\n  </ul>\\n</li>\\n<li><b>software</b> :   <ul>\\n  <li><b>name</b> : tierpsy (https://github.com/ver228/tierpsy-tracker)</li>\\n  <li><b>version</b> : cbfc23eb4f1ac2f29be75ade7a937eed58a5b219</li>\\n  <li><b>featureID</b> : @OMG</li>\\n  </ul>\\n</li>\\n<li><b>base_name</b> : N2 on food L_2012_11_09__15_37_36___6___2</li>\\n<li><b>total time (s)</b> : 899.033</li>\\n<li><b>frames per second</b> : 30.03</li>\\n<li><b>video micrometers per pixel</b> : 4.17406</li>\\n<li><b>number of segmented skeletons</b> : 26993</li>\\n</ul>\n",
       "Name: description, dtype: object"
      ]
     },
     "execution_count": 44,
     "metadata": {},
     "output_type": "execute_result"
    }
   ],
   "source": [
    "df1['description'].head(3)"
   ]
  },
  {
   "cell_type": "code",
   "execution_count": 45,
   "id": "63d1593e",
   "metadata": {
    "scrolled": false
   },
   "outputs": [
    {
     "name": "stdout",
     "output_type": "stream",
     "text": [
      "Row 0: \\nÀ\\002This dataset contains the digitized treatments in Plazi based on the original journal article Kocian, Mat√∫≈°, Hlav√°ƒç, Peter (2019): The new species of the genus Atanygnathus Jacobson, 1909 (Coleoptera: Styphylinidae: Staphylininae) from R√©union Island. Zootaxa 4612 (1): 141-144, DOI: https://doi.org/10.11646/zootaxa.4612.1.12\n",
      "Row 1: \\n˝\\002This dataset contains the digitized treatments in Plazi based on the original journal article Wilson J. E. M. Costa (2004): Rivulus uakti sp. n. and R. amanapira sp. n. (Teleostei: Cyprinodontiformes: Rivulidae): two new species from the upper Rio Negro, Brazilian Amazon. Zootaxa 465: 1-12, URL: http://www.zoobank.org/urn:lsid:zoobank.org:pub:EFD7A94F-D68A-4A04-801C-C6B2E9DF76B8\n",
      "Row 2: \\nƒ\\r \\n This experiment is part of the C.elegans behavioural database . For more information and the complete collection of experiments visit http://movement.openworm.org \\n \\n\\n \\n preview link : https://www.youtube.com/watch?v=V16MVNPcWQ4 \\n strain : N2 \\n timestamp : 2012-11-09T15:37:36+00:00 \\n gene : -N/A- \\n chromosome : -N/A- \\n allele : -N/A- \\n strain_description : Schafer Lab N2 (Bristol, UK) \\n sex : hermaphrodite \\n stage : adult \\n ventral_side : clockwise \\n media : NGM agar low peptone \\n arena : \\n style : petri \\n size : 35 \\n orientation : away \\n \\n \\n food : OP50 \\n habituation : 30m wait \\n who : Laura Grundy \\n protocol : Method in E. Yemini et al. doi:10.1038/nmeth.2560. Worm transferred to arena 30 minutes before recording starts. \\n lab : \\n name : William R Schafer \\n location : MRC Laboratory of Molecular Biology, Hills Road, Cambridge, CB2 0QH, UK \\n \\n \\n software : \\n name : tierpsy (https://github.com/ver228/tierpsy-tracker) \\n version : cbfc23eb4f1ac2f29be75ade7a937eed58a5b219 \\n featureID : @OMG \\n \\n \\n base_name : N2 on food L_2012_11_09__15_37_36___6___2 \\n total time (s) : 899.033 \\n frames per second : 30.03 \\n video micrometers per pixel : 4.17406 \\n number of segmented skeletons : 26993 \\n\n"
     ]
    }
   ],
   "source": [
    "from bs4 import BeautifulSoup\n",
    "import re\n",
    "\n",
    "# Convert data to DataFrame\n",
    "df6 = pd.DataFrame(df1['description'].head(3), columns=[\"description\"])\n",
    "\n",
    "def is_html(text):\n",
    "    \"\"\"\n",
    "    Determine whether the text is in HTML format\n",
    "    \"\"\"\n",
    "    # If it contains HTML tags, it is considered to be HTML format.\n",
    "    return bool(re.search(r'<[^>]+>', text))\n",
    "\n",
    "def convert_to_text(html):\n",
    "    \"\"\"\n",
    "    Convert HTML to plain text\n",
    "    \"\"\"\n",
    "    soup = BeautifulSoup(html, 'html.parser')\n",
    "    return soup.get_text(separator=' ', strip=True)\n",
    "\n",
    "def clean_text(text):\n",
    "    \"\"\"Clean up extra blanks in the text\"\"\"\n",
    "    # Remove excess line breaks and carriage returns\n",
    "    text = re.sub(r'[\\r\\n]+', ' ', text)\n",
    "    # Replace multiple spaces with a single space\n",
    "    text = re.sub(r'\\s+', ' ', text)\n",
    "    return text.strip()\n",
    "\n",
    "# Line-by-line output of text content\n",
    "for idx, row in df6.iterrows():\n",
    "    content = row['description']\n",
    "    if is_html(content):\n",
    "        content = convert_to_text(content)\n",
    "    print(f\"Row {idx}: {clean_text(content)}\")"
   ]
  },
  {
   "cell_type": "code",
   "execution_count": 98,
   "id": "d0e85a6a",
   "metadata": {},
   "outputs": [
    {
     "name": "stdout",
     "output_type": "stream",
     "text": [
      "<class 'str'>\n"
     ]
    },
    {
     "data": {
      "text/plain": [
       "'  This experiment is part of the C.elegans behavioural database . For more information and the complete collection of experiments visit http://movement.openworm.org    preview link : https://www.youtube.com/watch?v=V16MVNPcWQ4  strain : N2  timestamp : 2012-11-09T15:37:36+00:00  gene : -N/A-  chromosome : -N/A-  allele : -N/A-  strain_description : Schafer Lab N2 (Bristol, UK)  sex : hermaphrodite  stage : adult  ventral_side : clockwise  media : NGM agar low peptone  arena :  style : petri  size : 35  orientation : away    food : OP50  habituation : 30m wait  who : Laura Grundy  protocol : Method in E. Yemini et al. doi:10.1038/nmeth.2560. Worm transferred to arena 30 minutes before recording starts.  lab :  name : William R Schafer  location : MRC Laboratory of Molecular Biology, Hills Road, Cambridge, CB2 0QH, UK    software :  name : tierpsy (https://github.com/ver228/tierpsy-tracker)  version : cbfc23eb4f1ac2f29be75ade7a937eed58a5b219  featureID : @OMG    base_name : N2 on food L_2012_11_09__15_37_36___6___2  total time (s) : 899.033  frames per second : 30.03  video micrometers per pixel : 4.17406  number of segmented skeletons : 26993 '"
      ]
     },
     "execution_count": 98,
     "metadata": {},
     "output_type": "execute_result"
    }
   ],
   "source": [
    "data = '\\n\\r \\n This experiment is part of the C.elegans behavioural database . For more information and the complete collection of experiments visit http://movement.openworm.org \\n \\n\\n \\n preview link : https://www.youtube.com/watch?v=V16MVNPcWQ4 \\n strain : N2 \\n timestamp : 2012-11-09T15:37:36+00:00 \\n gene : -N/A- \\n chromosome : -N/A- \\n allele : -N/A- \\n strain_description : Schafer Lab N2 (Bristol, UK) \\n sex : hermaphrodite \\n stage : adult \\n ventral_side : clockwise \\n media : NGM agar low peptone \\n arena : \\n style : petri \\n size : 35 \\n orientation : away \\n \\n \\n food : OP50 \\n habituation : 30m wait \\n who : Laura Grundy \\n protocol : Method in E. Yemini et al. doi:10.1038/nmeth.2560. Worm transferred to arena 30 minutes before recording starts. \\n lab : \\n name : William R Schafer \\n location : MRC Laboratory of Molecular Biology, Hills Road, Cambridge, CB2 0QH, UK \\n \\n \\n software : \\n name : tierpsy (https://github.com/ver228/tierpsy-tracker) \\n version : cbfc23eb4f1ac2f29be75ade7a937eed58a5b219 \\n featureID : @OMG \\n \\n \\n base_name : N2 on food L_2012_11_09__15_37_36___6___2 \\n total time (s) : 899.033 \\n frames per second : 30.03 \\n video micrometers per pixel : 4.17406 \\n number of segmented skeletons : 26993 \\n'\n",
    "print(type(data))\n",
    "text = re.sub(r'[\\n\\r]', '', data)\n",
    "text"
   ]
  },
  {
   "cell_type": "code",
   "execution_count": 99,
   "id": "bd144e9d",
   "metadata": {
    "scrolled": false
   },
   "outputs": [
    {
     "name": "stdout",
     "output_type": "stream",
     "text": [
      "Row 0: \\n\\002This dataset contains the digitized treatments in Plazi based on the original journal article Kocian, Mat, Hlav, Peter (2019): The new species of the genus Atanygnathus Jacobson, 1909 (Coleoptera: Styphylinidae: Staphylininae) from Runion Island. Zootaxa 4612 (1): 141-144, DOI: https://doi.org/10.11646/zootaxa.4612.1.12\n",
      "\n",
      "Row 1: \\n\\002This dataset contains the digitized treatments in Plazi based on the original journal article Wilson J. E. M. Costa (2004): Rivulus uakti sp. n. and R. amanapira sp. n. (Teleostei: Cyprinodontiformes: Rivulidae): two new species from the upper Rio Negro, Brazilian Amazon. Zootaxa 465: 1-12, URL: http://www.zoobank.org/urn:lsid:zoobank.org:pub:EFD7A94F-D68A-4A04-801C-C6B2E9DF76B8\n",
      "\n",
      "Row 2: \\n\\r \\n This experiment is part of the C.elegans behavioural database . For more information and the complete collection of experiments visit http://movement.openworm.org \\n \\n\\n \\n preview link : https://www.youtube.com/watch?v=V16MVNPcWQ4 \\n strain : N2 \\n timestamp : 2012-11-09T15:37:36+00:00 \\n gene : -N/A- \\n chromosome : -N/A- \\n allele : -N/A- \\n strain_description : Schafer Lab N2 (Bristol, UK) \\n sex : hermaphrodite \\n stage : adult \\n ventral_side : clockwise \\n media : NGM agar low peptone \\n arena : \\n style : petri \\n size : 35 \\n orientation : away \\n \\n \\n food : OP50 \\n habituation : 30m wait \\n who : Laura Grundy \\n protocol : Method in E. Yemini et al. doi:10.1038/nmeth.2560. Worm transferred to arena 30 minutes before recording starts. \\n lab : \\n name : William R Schafer \\n location : MRC Laboratory of Molecular Biology, Hills Road, Cambridge, CB2 0QH, UK \\n \\n \\n software : \\n name : tierpsy (https://github.com/ver228/tierpsy-tracker) \\n version : cbfc23eb4f1ac2f29be75ade7a937eed58a5b219 \\n featureID : @OMG \\n \\n \\n base_name : N2 on food L_2012_11_09__15_37_36___6___2 \\n total time (s) : 899.033 \\n frames per second : 30.03 \\n video micrometers per pixel : 4.17406 \\n number of segmented skeletons : 26993 \\n\n",
      "\n"
     ]
    }
   ],
   "source": [
    "import pandas as pd\n",
    "from bs4 import BeautifulSoup\n",
    "import re\n",
    "\n",
    "df6 = df1['description'].head(3).to_frame()\n",
    "#print(chardet.detect(df6))\n",
    "\n",
    "def is_html(text):\n",
    "    \"\"\"Determine whether the text is in HTML format\"\"\"\n",
    "    return bool(re.search(r'<[^>]+>', text))\n",
    "\n",
    "def extract_text_from_html(html):\n",
    "    \"\"\"Convert HTML to plain text\"\"\"\n",
    "    soup = BeautifulSoup(html, 'html.parser')\n",
    "    return soup.get_text(separator=' ', strip=True)\n",
    "\n",
    "def clean_text(text):\n",
    "    \"\"\"Clean up redundant blank and invisible characters in the text\"\"\"\n",
    "    # 去除不可见字符\n",
    "    text = re.sub(r'[^\\x00-\\x7F]+', '', text)\n",
    "    # 去除多余的换行符和回车符\n",
    "    text = re.sub(r'[\\n\\r]+', '', text)\n",
    "    # 替换多个空格为单个空格\n",
    "    text = re.sub(r'[\\s]+', ' ', text)\n",
    "    return text.strip()\n",
    "\n",
    "def process_text(text):\n",
    "    \"\"\"Process the text\"\"\"\n",
    "    if is_html(text):\n",
    "        text = extract_text_from_html(text)\n",
    "    return clean_text(remove_non_ascii(text))\n",
    "\n",
    "def remove_non_ascii(text):\n",
    "    \"\"\"Remove non-ASCII characters from the text.\"\"\"\n",
    "    return ''.join(char for char in text if ord(char) < 128)\n",
    "\n",
    "# Processing data\n",
    "df6['description'] = df6['description'].apply(process_text)\n",
    "\n",
    "# Output the processed data\n",
    "for i, text in enumerate(df6['description']):\n",
    "    print(f\"Row {i}: {text}\\n\")"
   ]
  },
  {
   "cell_type": "code",
   "execution_count": null,
   "id": "d116668e",
   "metadata": {},
   "outputs": [],
   "source": []
  }
 ],
 "metadata": {
  "kernelspec": {
   "display_name": "Python 3 (ipykernel)",
   "language": "python",
   "name": "python3"
  },
  "language_info": {
   "codemirror_mode": {
    "name": "ipython",
    "version": 3
   },
   "file_extension": ".py",
   "mimetype": "text/x-python",
   "name": "python",
   "nbconvert_exporter": "python",
   "pygments_lexer": "ipython3",
   "version": "3.10.7"
  }
 },
 "nbformat": 4,
 "nbformat_minor": 5
}
